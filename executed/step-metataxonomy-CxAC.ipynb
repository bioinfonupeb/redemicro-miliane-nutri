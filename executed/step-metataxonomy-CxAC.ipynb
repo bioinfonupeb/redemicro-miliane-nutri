{
 "cells": [
  {
   "cell_type": "markdown",
   "id": "d11b22c2",
   "metadata": {
    "papermill": {
     "duration": 0.019033,
     "end_time": "2022-09-15T14:40:08.548671",
     "exception": false,
     "start_time": "2022-09-15T14:40:08.529638",
     "status": "completed"
    },
    "tags": []
   },
   "source": [
    "### STEP : Taxonomic assignment\n",
    "#### Taxonomic assignment with Silva 16S\n",
    "\n",
    "Using Silva 16S classifier for Qiime2. List with all [classifiers](https://docs.qiime2.org/2020.6/data-resources/). \n",
    "\n",
    "#### Versions \n",
    "- [Silva 138 99% OTUs full-length sequences](https://data.qiime2.org/2020.6/common/silva-138-99-nb-classifier.qza)\n",
    "- [Silva 138 99% OTUs from 515F/806R region of sequences](https://data.qiime2.org/2020.6/common/silva-138-99-515-806-nb-classifier.qza)\n",
    "- [Greengenes 13_8 99% OTUs full-length sequences](https://data.qiime2.org/2020.6/common/gg-13-8-99-nb-classifier.qza)\n",
    "- [Greengenes 13_8 99% OTUs from 515F/806R region of sequences](https://data.qiime2.org/2020.6/common/gg-13-8-99-515-806-nb-classifier.qza)\n",
    "\n",
    "#### Methods\n",
    "- [qiime feature-classifier](https://docs.qiime2.org/2022.2/plugins/available/feature-classifier/)\n",
    "- [qiime feature-classifier classify-sklearn](https://docs.qiime2.org/2021.8/plugins/available/feature-classifier/classify-sklearn)\n",
    "- [qiime metadata](https://docs.qiime2.org/2022.2/plugins/available/metadata/)\n",
    "- [classify-hybrid-vsearch-sklearn](https://docs.qiime2.org/2022.2/plugins/available/feature-classifier/classify-hybrid-vsearch-sklearn/)\n",
    "- [qiime metadata tabulate](https://docs.qiime2.org/2022.2/plugins/available/metadata/tabulate/)\n",
    "- [qiime taxa](https://docs.qiime2.org/2022.2/plugins/available/taxa/)\n",
    "- [qiime taxa barplot](https://docs.qiime2.org/2022.2/plugins/available/taxa/barplot/)"
   ]
  },
  {
   "cell_type": "markdown",
   "id": "dbc5632f",
   "metadata": {
    "papermill": {
     "duration": 0.039556,
     "end_time": "2022-09-15T14:40:08.681808",
     "exception": false,
     "start_time": "2022-09-15T14:40:08.642252",
     "status": "completed"
    },
    "tags": []
   },
   "source": [
    "## Setup and settings"
   ]
  },
  {
   "cell_type": "code",
   "execution_count": 1,
   "id": "2e27aab8",
   "metadata": {
    "ExecuteTime": {
     "end_time": "2022-07-07T16:42:59.634683Z",
     "start_time": "2022-07-07T16:42:53.180558Z"
    },
    "execution": {
     "iopub.execute_input": "2022-09-15T14:40:08.756567Z",
     "iopub.status.busy": "2022-09-15T14:40:08.756046Z",
     "iopub.status.idle": "2022-09-15T14:40:14.967873Z",
     "shell.execute_reply": "2022-09-15T14:40:14.967089Z"
    },
    "papermill": {
     "duration": 6.227738,
     "end_time": "2022-09-15T14:40:14.971125",
     "exception": false,
     "start_time": "2022-09-15T14:40:08.743387",
     "status": "completed"
    },
    "tags": []
   },
   "outputs": [],
   "source": [
    "# Importing packages\n",
    "import os\n",
    "from qiime2 import Artifact\n",
    "from qiime2 import Visualization\n",
    "from qiime2 import Metadata\n",
    "import qiime2.plugins.metadata.actions as metadata_actions\n",
    "\n",
    "from qiime2.plugins import feature_classifier\n",
    "from qiime2.plugins import metadata\n",
    "from qiime2.plugins import taxa\n",
    "\n",
    "import matplotlib.pyplot as plt\n",
    "\n",
    "from utils import *\n",
    "\n",
    "%matplotlib inline"
   ]
  },
  {
   "cell_type": "code",
   "execution_count": 2,
   "id": "5a7ec070",
   "metadata": {
    "ExecuteTime": {
     "end_time": "2022-06-01T18:53:42.633668Z",
     "start_time": "2022-06-01T18:53:37.822470Z"
    },
    "execution": {
     "iopub.execute_input": "2022-09-15T14:40:15.075569Z",
     "iopub.status.busy": "2022-09-15T14:40:15.075344Z",
     "iopub.status.idle": "2022-09-15T14:40:19.456931Z",
     "shell.execute_reply": "2022-09-15T14:40:19.455572Z"
    },
    "papermill": {
     "duration": 4.472745,
     "end_time": "2022-09-15T14:40:19.460309",
     "exception": false,
     "start_time": "2022-09-15T14:40:14.987564",
     "status": "completed"
    },
    "tags": []
   },
   "outputs": [
    {
     "name": "stdout",
     "output_type": "stream",
     "text": [
      "Requirement already satisfied: scikit-learn==0.23.1 in /home/lauro/anaconda3/envs/qiime2-2022.2/lib/python3.8/site-packages (0.23.1)\r\n"
     ]
    },
    {
     "name": "stdout",
     "output_type": "stream",
     "text": [
      "Requirement already satisfied: joblib>=0.11 in /home/lauro/anaconda3/envs/qiime2-2022.2/lib/python3.8/site-packages (from scikit-learn==0.23.1) (1.1.0)\r\n",
      "Requirement already satisfied: threadpoolctl>=2.0.0 in /home/lauro/anaconda3/envs/qiime2-2022.2/lib/python3.8/site-packages (from scikit-learn==0.23.1) (3.1.0)\r\n",
      "Requirement already satisfied: scipy>=0.19.1 in /home/lauro/anaconda3/envs/qiime2-2022.2/lib/python3.8/site-packages (from scikit-learn==0.23.1) (1.8.0)\r\n",
      "Requirement already satisfied: numpy>=1.13.3 in /home/lauro/anaconda3/envs/qiime2-2022.2/lib/python3.8/site-packages (from scikit-learn==0.23.1) (1.22.2)\r\n"
     ]
    },
    {
     "name": "stdout",
     "output_type": "stream",
     "text": [
      "Note: you may need to restart the kernel to use updated packages.\n"
     ]
    }
   ],
   "source": [
    "%pip install --user 'scikit-learn==0.23.1'"
   ]
  },
  {
   "cell_type": "code",
   "execution_count": 3,
   "id": "3df1d8be",
   "metadata": {
    "ExecuteTime": {
     "end_time": "2022-06-01T18:53:42.641562Z",
     "start_time": "2022-06-01T18:53:42.637484Z"
    },
    "execution": {
     "iopub.execute_input": "2022-09-15T14:40:19.492771Z",
     "iopub.status.busy": "2022-09-15T14:40:19.492375Z",
     "iopub.status.idle": "2022-09-15T14:40:19.497647Z",
     "shell.execute_reply": "2022-09-15T14:40:19.496675Z"
    },
    "papermill": {
     "duration": 0.021115,
     "end_time": "2022-09-15T14:40:19.499594",
     "exception": false,
     "start_time": "2022-09-15T14:40:19.478479",
     "status": "completed"
    },
    "tags": []
   },
   "outputs": [],
   "source": [
    "# from qiime2.plugins import demux, deblur, quality_filter, \\\n",
    "#                            metadata, feature_table, alignment, \\\n",
    "#                            phylogeny, diversity, emperor, feature_classifier, \\\n",
    "#                            taxa, composition"
   ]
  },
  {
   "cell_type": "markdown",
   "id": "a1f0ecf3",
   "metadata": {
    "papermill": {
     "duration": 0.011831,
     "end_time": "2022-09-15T14:40:19.523621",
     "exception": false,
     "start_time": "2022-09-15T14:40:19.511790",
     "status": "completed"
    },
    "tags": []
   },
   "source": [
    "### Receiving the parameters\n",
    "\n",
    "The following cell can receive parameters using the [papermill](https://papermill.readthedocs.io/en/latest/) tool."
   ]
  },
  {
   "cell_type": "code",
   "execution_count": 4,
   "id": "c9c395f8",
   "metadata": {
    "ExecuteTime": {
     "end_time": "2022-07-07T16:42:59.640401Z",
     "start_time": "2022-07-07T16:42:59.636746Z"
    },
    "execution": {
     "iopub.execute_input": "2022-09-15T14:40:19.548773Z",
     "iopub.status.busy": "2022-09-15T14:40:19.548415Z",
     "iopub.status.idle": "2022-09-15T14:40:19.555704Z",
     "shell.execute_reply": "2022-09-15T14:40:19.554775Z"
    },
    "papermill": {
     "duration": 0.022098,
     "end_time": "2022-09-15T14:40:19.557555",
     "exception": false,
     "start_time": "2022-09-15T14:40:19.535457",
     "status": "completed"
    },
    "tags": [
     "parameters"
    ]
   },
   "outputs": [],
   "source": [
    "metadata_file = os.path.abspath(os.path.join(os.getcwd(), '..', 'data', 'raw', 'metadata', 'not-hist-feces-metadata.tsv'))\n",
    "base_dir = os.path.join('/', 'home', 'lauro', 'nupeb', 'redemicro')\n",
    "experiment_name = 'ana-flavia-superlactacao'\n",
    "threads = 6\n",
    "replace_files = False"
   ]
  },
  {
   "cell_type": "code",
   "execution_count": 5,
   "id": "cf638fd8",
   "metadata": {
    "execution": {
     "iopub.execute_input": "2022-09-15T14:40:19.586063Z",
     "iopub.status.busy": "2022-09-15T14:40:19.585689Z",
     "iopub.status.idle": "2022-09-15T14:40:19.592354Z",
     "shell.execute_reply": "2022-09-15T14:40:19.591631Z"
    },
    "papermill": {
     "duration": 0.024874,
     "end_time": "2022-09-15T14:40:19.593941",
     "exception": false,
     "start_time": "2022-09-15T14:40:19.569067",
     "status": "completed"
    },
    "tags": [
     "injected-parameters"
    ]
   },
   "outputs": [],
   "source": [
    "# Parameters\n",
    "experiment_name = \"miliane-CxAC\"\n",
    "base_dir = \"/home/lauro/nupeb/rede-micro/redemicro-miliane-nutri\"\n",
    "manifest_file = \"/home/lauro/nupeb/rede-micro/redemicro-miliane-nutri/data/raw/manifest/miliane-manifest-CxAC.csv\"\n",
    "metadata_file = \"/home/lauro/nupeb/rede-micro/redemicro-miliane-nutri/data/raw/metadata/miliane-metadata-CxAC.tsv\"\n",
    "class_col = \"group-id\"\n",
    "classifier_file = \"/home/lauro/nupeb/dados_brutos_rede_genoma/16S_classifiers_qiime2/silva-138-99-nb-classifier.qza\"\n",
    "replace_files = False\n",
    "phred = 20\n",
    "trunc_f = 0\n",
    "trunc_r = 0\n",
    "overlap = 12\n",
    "threads = 6\n"
   ]
  },
  {
   "cell_type": "code",
   "execution_count": 6,
   "id": "d4420b2f",
   "metadata": {
    "execution": {
     "iopub.execute_input": "2022-09-15T14:40:19.619954Z",
     "iopub.status.busy": "2022-09-15T14:40:19.619593Z",
     "iopub.status.idle": "2022-09-15T14:40:19.625044Z",
     "shell.execute_reply": "2022-09-15T14:40:19.624142Z"
    },
    "papermill": {
     "duration": 0.020075,
     "end_time": "2022-09-15T14:40:19.626777",
     "exception": false,
     "start_time": "2022-09-15T14:40:19.606702",
     "status": "completed"
    },
    "tags": []
   },
   "outputs": [],
   "source": [
    "experiment_folder = os.path.abspath(os.path.join(base_dir, 'experiments', experiment_name))\n",
    "img_folder = os.path.abspath(os.path.join(experiment_folder, 'imgs'))"
   ]
  },
  {
   "cell_type": "markdown",
   "id": "afbc4977",
   "metadata": {
    "papermill": {
     "duration": 0.011248,
     "end_time": "2022-09-15T14:40:19.649353",
     "exception": false,
     "start_time": "2022-09-15T14:40:19.638105",
     "status": "completed"
    },
    "tags": []
   },
   "source": [
    "### Defining names, paths and flags"
   ]
  },
  {
   "cell_type": "code",
   "execution_count": 7,
   "id": "11278a36",
   "metadata": {
    "ExecuteTime": {
     "end_time": "2022-07-07T16:43:01.373756Z",
     "start_time": "2022-07-07T16:43:01.364331Z"
    },
    "execution": {
     "iopub.execute_input": "2022-09-15T14:40:19.672906Z",
     "iopub.status.busy": "2022-09-15T14:40:19.672581Z",
     "iopub.status.idle": "2022-09-15T14:40:19.683127Z",
     "shell.execute_reply": "2022-09-15T14:40:19.682231Z"
    },
    "papermill": {
     "duration": 0.024902,
     "end_time": "2022-09-15T14:40:19.685291",
     "exception": false,
     "start_time": "2022-09-15T14:40:19.660389",
     "status": "completed"
    },
    "tags": []
   },
   "outputs": [],
   "source": [
    "# QIIME2 Artifacts folder\n",
    "qiime_folder = os.path.join(experiment_folder, 'qiime-artifacts')\n",
    "\n",
    "# Input - DADA2 Artifacts\n",
    "dada2_tabs_path = os.path.join(qiime_folder, 'dada2-tabs.qza')\n",
    "dada2_reps_path = os.path.join(qiime_folder, 'dada2-reps.qza')\n",
    "dada2_stat_path = os.path.join(qiime_folder, 'dada2-stat.qza')\n",
    "\n",
    "# Input - DADA2 Artifacts\n",
    "classifier_path = os.path.abspath(os.path.join(os.getcwd(), '..', 'models', 'silva-138-99-nb-classifier.qza'))\n",
    "# 'silva-138-99-nb-classifier.qza'\n",
    "\n",
    "# Output - Metataxonomy Artifact\n",
    "metatax_path = os.path.join(qiime_folder, 'metatax.qza')\n",
    "metatax_view_path = os.path.join(qiime_folder, 'metatax.qzv')\n",
    "metatax_bar_path = os.path.join(qiime_folder, 'metatax-bar.qzv')\n",
    "\n",
    "# Flag - Load or create files\n",
    "need_tax = not (os.path.isfile(metatax_path)) or replace_files\n",
    "need_view = not (os.path.isfile(metatax_view_path) or os.path.isfile(metatax_bar_path)) or replace_files"
   ]
  },
  {
   "cell_type": "markdown",
   "id": "85596de1",
   "metadata": {
    "papermill": {
     "duration": 0.011355,
     "end_time": "2022-09-15T14:40:19.710695",
     "exception": false,
     "start_time": "2022-09-15T14:40:19.699340",
     "status": "completed"
    },
    "tags": []
   },
   "source": [
    "## Step execution\n",
    "\n",
    "### Load input files\n",
    "\n",
    "This Step import the QIIME2 `SampleData[PairedEndSequencesWithQuality]` Artifact with all demultiplexed sequences and the `Metadata` file."
   ]
  },
  {
   "cell_type": "code",
   "execution_count": 8,
   "id": "b4137842",
   "metadata": {
    "ExecuteTime": {
     "end_time": "2022-06-01T18:53:42.788111Z",
     "start_time": "2022-06-01T18:53:42.695110Z"
    },
    "execution": {
     "iopub.execute_input": "2022-09-15T14:40:19.746168Z",
     "iopub.status.busy": "2022-09-15T14:40:19.745740Z",
     "iopub.status.idle": "2022-09-15T14:40:19.766661Z",
     "shell.execute_reply": "2022-09-15T14:40:19.766171Z"
    },
    "papermill": {
     "duration": 0.035869,
     "end_time": "2022-09-15T14:40:19.768744",
     "exception": false,
     "start_time": "2022-09-15T14:40:19.732875",
     "status": "completed"
    },
    "tags": []
   },
   "outputs": [],
   "source": [
    "metadata_qa = Metadata.load(metadata_file)"
   ]
  },
  {
   "cell_type": "code",
   "execution_count": 9,
   "id": "f9269ec0",
   "metadata": {
    "ExecuteTime": {
     "end_time": "2022-06-01T18:53:42.920863Z",
     "start_time": "2022-06-01T18:53:42.790999Z"
    },
    "execution": {
     "iopub.execute_input": "2022-09-15T14:40:19.797957Z",
     "iopub.status.busy": "2022-09-15T14:40:19.797770Z",
     "iopub.status.idle": "2022-09-15T14:46:57.152073Z",
     "shell.execute_reply": "2022-09-15T14:46:57.151284Z"
    },
    "papermill": {
     "duration": 397.370171,
     "end_time": "2022-09-15T14:46:57.155628",
     "exception": false,
     "start_time": "2022-09-15T14:40:19.785457",
     "status": "completed"
    },
    "scrolled": true,
    "tags": []
   },
   "outputs": [],
   "source": [
    "if not need_tax:\n",
    "    \n",
    "    # Load FeatureData[Taxonomy]\n",
    "    metatax = Artifact.load(metatax_path)\n",
    "    \n",
    "else:\n",
    "    \n",
    "    # Load TaxonomicClassifier Artifact\n",
    "    classifier = Artifact.load(classifier_path)\n",
    "    \n",
    "    # Load FeatureData[Sequence] Artifact\n",
    "    reps = Artifact.load(dada2_reps_path)\n",
    "    \n",
    "    # Classify ASV features and create a new FeatureData[Taxonomy]\n",
    "    metatax_qa = feature_classifier.methods.classify_sklearn(reads=reps, classifier=classifier, n_jobs=threads)\n",
    "\n",
    "    # Save FeatureData[Taxonomy] Artifact\n",
    "    metatax_qa.classification.save(metatax_path)"
   ]
  },
  {
   "cell_type": "code",
   "execution_count": 10,
   "id": "eb1182f7",
   "metadata": {
    "ExecuteTime": {
     "end_time": "2022-06-01T18:58:53.489795Z",
     "start_time": "2022-06-01T18:58:53.395394Z"
    },
    "execution": {
     "iopub.execute_input": "2022-09-15T14:46:57.216735Z",
     "iopub.status.busy": "2022-09-15T14:46:57.216485Z",
     "iopub.status.idle": "2022-09-15T14:47:02.073091Z",
     "shell.execute_reply": "2022-09-15T14:47:02.072292Z"
    },
    "papermill": {
     "duration": 4.880759,
     "end_time": "2022-09-15T14:47:02.074975",
     "exception": false,
     "start_time": "2022-09-15T14:46:57.194216",
     "status": "completed"
    },
    "tags": []
   },
   "outputs": [],
   "source": [
    "if not need_view:\n",
    "    \n",
    "    # Load Metatax\n",
    "    metatax_qv = Visualization.load(metatax_view_path)\n",
    "    metatax_bar_qv = Visualization.load(metatax_bar_path)\n",
    "    \n",
    "else:\n",
    "    \n",
    "    # Metataxonomy Table Visualization\n",
    "    metatax_qv = metadata.visualizers.tabulate(metatax_qa.classification.view(Metadata))\n",
    "    metatax_qv.visualization.save(metatax_view_path)\n",
    "    \n",
    "    # Load TableData[Sequence] Artifact\n",
    "    tabs = Artifact.load(dada2_tabs_path)\n",
    "    \n",
    "    # Barplot Visualization\n",
    "    # Next, we can view the taxonomic composition of our samples with interactive bar plots. \n",
    "    # Generate those plots with the following command and then open the visualization.\n",
    "    metatax_bar_qv = taxa.visualizers.barplot(tabs, metatax_qa.classification, metadata_qa)\n",
    "    metatax_bar_qv.visualization.save(metatax_bar_path)"
   ]
  },
  {
   "cell_type": "code",
   "execution_count": 11,
   "id": "6483f5a8",
   "metadata": {
    "ExecuteTime": {
     "end_time": "2022-06-01T18:58:22.804508Z",
     "start_time": "2022-06-01T18:58:22.793768Z"
    },
    "execution": {
     "iopub.execute_input": "2022-09-15T14:47:02.109637Z",
     "iopub.status.busy": "2022-09-15T14:47:02.109456Z",
     "iopub.status.idle": "2022-09-15T14:47:02.116020Z",
     "shell.execute_reply": "2022-09-15T14:47:02.115325Z"
    },
    "papermill": {
     "duration": 0.025629,
     "end_time": "2022-09-15T14:47:02.117597",
     "exception": false,
     "start_time": "2022-09-15T14:47:02.091968",
     "status": "completed"
    },
    "tags": []
   },
   "outputs": [
    {
     "data": {
      "text/plain": [
       "Results (name = value)\n",
       "-----------------------------------------------------------------------------------------\n",
       "visualization = <visualization: Visualization uuid: 47929acb-048c-4667-9073-d58ea3479a4d>"
      ]
     },
     "execution_count": 11,
     "metadata": {},
     "output_type": "execute_result"
    }
   ],
   "source": [
    "metatax_qv"
   ]
  },
  {
   "cell_type": "code",
   "execution_count": 12,
   "id": "6709ab33",
   "metadata": {
    "ExecuteTime": {
     "end_time": "2022-06-01T18:58:56.294932Z",
     "start_time": "2022-06-01T18:58:56.288474Z"
    },
    "execution": {
     "iopub.execute_input": "2022-09-15T14:47:02.143016Z",
     "iopub.status.busy": "2022-09-15T14:47:02.142851Z",
     "iopub.status.idle": "2022-09-15T14:47:02.147191Z",
     "shell.execute_reply": "2022-09-15T14:47:02.146675Z"
    },
    "papermill": {
     "duration": 0.018793,
     "end_time": "2022-09-15T14:47:02.148753",
     "exception": false,
     "start_time": "2022-09-15T14:47:02.129960",
     "status": "completed"
    },
    "tags": []
   },
   "outputs": [
    {
     "data": {
      "text/plain": [
       "Results (name = value)\n",
       "-----------------------------------------------------------------------------------------\n",
       "visualization = <visualization: Visualization uuid: 2f2721f2-9c38-444c-a19a-17a440f7d1c8>"
      ]
     },
     "execution_count": 12,
     "metadata": {},
     "output_type": "execute_result"
    }
   ],
   "source": [
    "metatax_bar_qv"
   ]
  }
 ],
 "metadata": {
  "celltoolbar": "Edit Metadata",
  "kernelspec": {
   "display_name": "Python 3 (ipykernel)",
   "language": "python",
   "name": "python3"
  },
  "language_info": {
   "codemirror_mode": {
    "name": "ipython",
    "version": 3
   },
   "file_extension": ".py",
   "mimetype": "text/x-python",
   "name": "python",
   "nbconvert_exporter": "python",
   "pygments_lexer": "ipython3",
   "version": "3.8.12"
  },
  "papermill": {
   "default_parameters": {},
   "duration": 418.790561,
   "end_time": "2022-09-15T14:47:05.697301",
   "environment_variables": {},
   "exception": null,
   "input_path": "./step-metataxonomy.ipynb",
   "output_path": "../executed/step-metataxonomy-CxAC.ipynb",
   "parameters": {
    "base_dir": "/home/lauro/nupeb/rede-micro/redemicro-miliane-nutri",
    "class_col": "group-id",
    "classifier_file": "/home/lauro/nupeb/dados_brutos_rede_genoma/16S_classifiers_qiime2/silva-138-99-nb-classifier.qza",
    "experiment_name": "miliane-CxAC",
    "manifest_file": "/home/lauro/nupeb/rede-micro/redemicro-miliane-nutri/data/raw/manifest/miliane-manifest-CxAC.csv",
    "metadata_file": "/home/lauro/nupeb/rede-micro/redemicro-miliane-nutri/data/raw/metadata/miliane-metadata-CxAC.tsv",
    "overlap": 12,
    "phred": 20,
    "replace_files": false,
    "threads": 6,
    "trunc_f": 0,
    "trunc_r": 0
   },
   "start_time": "2022-09-15T14:40:06.906740",
   "version": "2.3.4"
  },
  "toc-autonumbering": false,
  "toc-showcode": false,
  "toc-showmarkdowntxt": false
 },
 "nbformat": 4,
 "nbformat_minor": 5
}