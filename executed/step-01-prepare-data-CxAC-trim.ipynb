{
 "cells": [
  {
   "cell_type": "markdown",
   "id": "32b6730e",
   "metadata": {
    "tags": [
     "papermill-error-cell-tag"
    ]
   },
   "source": [
    "<span style=\"color:red; font-family:Helvetica Neue, Helvetica, Arial, sans-serif; font-size:2em;\">An Exception was encountered at '<a href=\"#papermill-error-cell\">In [12]</a>'.</span>"
   ]
  },
  {
   "cell_type": "markdown",
   "id": "a67520ba",
   "metadata": {
    "papermill": {
     "duration": 0.019967,
     "end_time": "2022-09-14T18:42:26.338402",
     "exception": false,
     "start_time": "2022-09-14T18:42:26.318435",
     "status": "completed"
    },
    "tags": []
   },
   "source": [
    "# Prepare data for Pipeline"
   ]
  },
  {
   "cell_type": "markdown",
   "id": "757778d9",
   "metadata": {
    "papermill": {
     "duration": 0.02774,
     "end_time": "2022-09-14T18:42:26.379225",
     "exception": false,
     "start_time": "2022-09-14T18:42:26.351485",
     "status": "completed"
    },
    "tags": []
   },
   "source": [
    "## Setup and settings"
   ]
  },
  {
   "cell_type": "code",
   "execution_count": 1,
   "id": "e9e70c9f",
   "metadata": {
    "ExecuteTime": {
     "end_time": "2022-09-14T17:43:20.516262Z",
     "start_time": "2022-09-14T17:43:20.510424Z"
    },
    "execution": {
     "iopub.execute_input": "2022-09-14T18:42:26.479065Z",
     "iopub.status.busy": "2022-09-14T18:42:26.478603Z",
     "iopub.status.idle": "2022-09-14T18:42:32.709356Z",
     "shell.execute_reply": "2022-09-14T18:42:32.708720Z"
    },
    "papermill": {
     "duration": 6.321502,
     "end_time": "2022-09-14T18:42:32.712726",
     "exception": false,
     "start_time": "2022-09-14T18:42:26.391224",
     "status": "completed"
    },
    "tags": []
   },
   "outputs": [],
   "source": [
    "# Importing packages\n",
    "import os\n",
    "import yaml\n",
    "import logging\n",
    "from Bio.Seq import Seq\n",
    "from qiime2 import Artifact, Visualization\n",
    "from qiime2.plugins import demux\n",
    "from qiime2.plugins.cutadapt.methods import trim_paired\n",
    "\n",
    "from utils import *"
   ]
  },
  {
   "cell_type": "markdown",
   "id": "6e337303",
   "metadata": {
    "papermill": {
     "duration": 0.011015,
     "end_time": "2022-09-14T18:42:32.742961",
     "exception": false,
     "start_time": "2022-09-14T18:42:32.731946",
     "status": "completed"
    },
    "tags": []
   },
   "source": [
    "### Receiving the parameters\n",
    "\n",
    "The following cell can receive parameters using the [papermill](https://papermill.readthedocs.io/en/latest/) tool."
   ]
  },
  {
   "cell_type": "code",
   "execution_count": 2,
   "id": "33f201d8",
   "metadata": {
    "ExecuteTime": {
     "end_time": "2022-06-28T18:50:41.594341Z",
     "start_time": "2022-06-28T18:50:41.591544Z"
    },
    "execution": {
     "iopub.execute_input": "2022-09-14T18:42:32.792198Z",
     "iopub.status.busy": "2022-09-14T18:42:32.791948Z",
     "iopub.status.idle": "2022-09-14T18:42:32.797748Z",
     "shell.execute_reply": "2022-09-14T18:42:32.797101Z"
    },
    "papermill": {
     "duration": 0.019755,
     "end_time": "2022-09-14T18:42:32.799277",
     "exception": false,
     "start_time": "2022-09-14T18:42:32.779522",
     "status": "completed"
    },
    "tags": [
     "parameters"
    ]
   },
   "outputs": [],
   "source": [
    "params_path = os.path.join('..', 'params', 'ana-flavia-superlactacao.yaml')\n",
    "experiment_name = 'jenneffer-vs-01'\n",
    "base_dir = os.path.join('/', 'home', 'lauro', 'nupeb', 'redemicro')\n",
    "manifest_file = os.path.join(base_dir, 'data', 'raw', 'manifest', 'not-hist-vs-manifest.csv')\n",
    "img_folder = os.path.abspath(os.path.join(base_dir, 'imgs'))\n",
    "replace_files = False\n",
    "trim = None"
   ]
  },
  {
   "cell_type": "code",
   "execution_count": 3,
   "id": "801d4b81",
   "metadata": {
    "execution": {
     "iopub.execute_input": "2022-09-14T18:42:32.824583Z",
     "iopub.status.busy": "2022-09-14T18:42:32.824309Z",
     "iopub.status.idle": "2022-09-14T18:42:32.829721Z",
     "shell.execute_reply": "2022-09-14T18:42:32.829063Z"
    },
    "papermill": {
     "duration": 0.019359,
     "end_time": "2022-09-14T18:42:32.831217",
     "exception": false,
     "start_time": "2022-09-14T18:42:32.811858",
     "status": "completed"
    },
    "tags": [
     "injected-parameters"
    ]
   },
   "outputs": [],
   "source": [
    "# Parameters\n",
    "experiment_name = \"miliane-CxAC\"\n",
    "base_dir = \"/home/lauro/nupeb/rede-micro/redemicro-miliane-nutri\"\n",
    "manifest_file = \"/home/lauro/nupeb/rede-micro/redemicro-miliane-nutri/data/raw/manifest/miliane-manifest-CxAC.csv\"\n",
    "metadata_file = \"/home/lauro/nupeb/rede-micro/redemicro-miliane-nutri/data/raw/metadata/miliane-metadata-CxAC.tsv\"\n",
    "class_col = \"group-id\"\n",
    "classifier_file = \"/home/lauro/nupeb/dados_brutos_rede_genoma/16S_classifiers_qiime2/silva-138-99-nb-classifier.qza\"\n",
    "replace_files = False\n",
    "phred = 20\n",
    "trunc_f = 0\n",
    "trunc_r = 0\n",
    "overlap = 12\n",
    "threads = 6\n"
   ]
  },
  {
   "cell_type": "code",
   "execution_count": 4,
   "id": "bc8b558e",
   "metadata": {
    "ExecuteTime": {
     "end_time": "2022-06-28T18:50:41.610682Z",
     "start_time": "2022-06-28T18:50:41.595886Z"
    },
    "execution": {
     "iopub.execute_input": "2022-09-14T18:42:32.857339Z",
     "iopub.status.busy": "2022-09-14T18:42:32.856982Z",
     "iopub.status.idle": "2022-09-14T18:42:32.862955Z",
     "shell.execute_reply": "2022-09-14T18:42:32.862240Z"
    },
    "papermill": {
     "duration": 0.020118,
     "end_time": "2022-09-14T18:42:32.864468",
     "exception": false,
     "start_time": "2022-09-14T18:42:32.844350",
     "status": "completed"
    },
    "tags": []
   },
   "outputs": [],
   "source": [
    "# Setting hardcoded parameters for development and debbuging\n",
    "production = True\n",
    "if not production:\n",
    "    params_path = os.path.join('..', 'params', 'ana-flavia-hipotese-01')\n",
    "    with open(params_path, 'r') as stream:\n",
    "        params = yaml.safe_load(stream)\n",
    "        experiment_name = params['experiment_name']\n",
    "        base_dir = params['base_dir']\n",
    "        manifest_file = params['manifest_file']\n",
    "        replace_files = params['replace_files']"
   ]
  },
  {
   "cell_type": "markdown",
   "id": "5b1125fc",
   "metadata": {
    "papermill": {
     "duration": 0.011617,
     "end_time": "2022-09-14T18:42:32.890129",
     "exception": false,
     "start_time": "2022-09-14T18:42:32.878512",
     "status": "completed"
    },
    "tags": []
   },
   "source": [
    "### Defining names and paths"
   ]
  },
  {
   "cell_type": "code",
   "execution_count": 5,
   "id": "f934f9ea",
   "metadata": {
    "ExecuteTime": {
     "end_time": "2022-06-28T18:50:41.618098Z",
     "start_time": "2022-06-28T18:50:41.614152Z"
    },
    "execution": {
     "iopub.execute_input": "2022-09-14T18:42:32.918648Z",
     "iopub.status.busy": "2022-09-14T18:42:32.918490Z",
     "iopub.status.idle": "2022-09-14T18:42:32.922226Z",
     "shell.execute_reply": "2022-09-14T18:42:32.921224Z"
    },
    "papermill": {
     "duration": 0.021778,
     "end_time": "2022-09-14T18:42:32.924482",
     "exception": false,
     "start_time": "2022-09-14T18:42:32.902704",
     "status": "completed"
    },
    "tags": []
   },
   "outputs": [],
   "source": [
    "# new_manifest = '/home/lauro/nupeb/redemicro/data/raw/manifest/karina-manifest.csv'\n",
    "# with open(manifest_file, 'r') as oldm, open(new_manifest, 'w') as newm:\n",
    "#     header = 'sample-id,absolute-filepath,direction\\n'\n",
    "#     newm.write(header)\n",
    "#     for line in oldm.readlines()[1:]:\n",
    "#         sid, forward, reverse = line[:-1].split(',')\n",
    "#         fline = ','.join((sid, forward, 'forward')) + '\\n'\n",
    "#         rline = ','.join((sid, reverse, 'reverse')) + '\\n'\n",
    "#         newm.write(fline)\n",
    "#         newm.write(rline)"
   ]
  },
  {
   "cell_type": "code",
   "execution_count": 6,
   "id": "efb0fb49",
   "metadata": {
    "ExecuteTime": {
     "end_time": "2022-06-28T18:50:41.632125Z",
     "start_time": "2022-06-28T18:50:41.619710Z"
    },
    "execution": {
     "iopub.execute_input": "2022-09-14T18:42:32.964726Z",
     "iopub.status.busy": "2022-09-14T18:42:32.964423Z",
     "iopub.status.idle": "2022-09-14T18:42:32.973835Z",
     "shell.execute_reply": "2022-09-14T18:42:32.972738Z"
    },
    "papermill": {
     "duration": 0.032436,
     "end_time": "2022-09-14T18:42:32.976390",
     "exception": false,
     "start_time": "2022-09-14T18:42:32.943954",
     "status": "completed"
    },
    "tags": []
   },
   "outputs": [],
   "source": [
    "# Define the output folder path\n",
    "out_dir = os.path.join(base_dir, 'experiments', experiment_name, 'qiime-artifacts')\n",
    "img_folder = os.path.abspath(os.path.join(base_dir, 'experiments', experiment_name, 'imgs'))\n",
    "\n",
    "# Create path if it not exist\n",
    "if not os.path.isdir(out_dir):\n",
    "    os.makedirs(out_dir)\n",
    "    print(f'New qiime-artifacts folder path created: {out_dir}')\n",
    "\n",
    "# Create path if it not exist\n",
    "if not os.path.isdir(img_folder):\n",
    "    os.makedirs(img_folder)\n",
    "    print(f'New img folder path created: {img_folder}')\n",
    "\n",
    "# Define the output artifact full path\n",
    "demux_file = os.path.join(out_dir, 'demux-paired.qza')\n",
    "demux_view = os.path.join(out_dir, 'demux-paired.qzv')\n",
    "demux_file_trim = os.path.join(out_dir, 'demux-paired-trim.qza')\n",
    "demux_view_trim = os.path.join(out_dir, 'demux-paired-trim.qzv')"
   ]
  },
  {
   "cell_type": "code",
   "execution_count": null,
   "id": "6bc95423",
   "metadata": {
    "papermill": {
     "duration": 0.011868,
     "end_time": "2022-09-14T18:42:33.005371",
     "exception": false,
     "start_time": "2022-09-14T18:42:32.993503",
     "status": "completed"
    },
    "tags": []
   },
   "outputs": [],
   "source": []
  },
  {
   "cell_type": "markdown",
   "id": "48538a7c",
   "metadata": {
    "papermill": {
     "duration": 0.011655,
     "end_time": "2022-09-14T18:42:33.028724",
     "exception": false,
     "start_time": "2022-09-14T18:42:33.017069",
     "status": "completed"
    },
    "tags": []
   },
   "source": [
    "## Step execution\n",
    "\n",
    "This Step import all `fastq` files in a **QIIME2 Artifact** object and save it to a new `qza` file of `SampleData[PairedEndSequencesWithQuality]`"
   ]
  },
  {
   "cell_type": "code",
   "execution_count": 7,
   "id": "04644169",
   "metadata": {
    "ExecuteTime": {
     "end_time": "2022-06-28T19:44:58.640338Z",
     "start_time": "2022-06-28T18:50:41.633657Z"
    },
    "execution": {
     "iopub.execute_input": "2022-09-14T18:42:33.053188Z",
     "iopub.status.busy": "2022-09-14T18:42:33.052859Z",
     "iopub.status.idle": "2022-09-14T18:42:34.753734Z",
     "shell.execute_reply": "2022-09-14T18:42:34.752982Z"
    },
    "papermill": {
     "duration": 1.716811,
     "end_time": "2022-09-14T18:42:34.757004",
     "exception": false,
     "start_time": "2022-09-14T18:42:33.040193",
     "status": "completed"
    },
    "tags": []
   },
   "outputs": [],
   "source": [
    "# If the demux file does not exist or if the old file will be replaced\n",
    "if not os.path.isfile(demux_file) or replace_files:\n",
    "    \n",
    "    # Import data and create an artifact object\n",
    "    artifact = Artifact.import_data(\n",
    "        'SampleData[PairedEndSequencesWithQuality]', \n",
    "        manifest_file, \n",
    "        view_type='PairedEndFastqManifestPhred33')\n",
    "    \n",
    "    # Save the artifact object to a new qza file\n",
    "    artifact.save(demux_file)\n",
    "\n",
    "else:\n",
    "    artifact = Artifact.load(demux_file)"
   ]
  },
  {
   "cell_type": "code",
   "execution_count": 8,
   "id": "24cdfffa",
   "metadata": {
    "ExecuteTime": {
     "end_time": "2022-06-28T19:47:56.602855Z",
     "start_time": "2022-06-28T19:44:58.642520Z"
    },
    "execution": {
     "iopub.execute_input": "2022-09-14T18:42:34.789639Z",
     "iopub.status.busy": "2022-09-14T18:42:34.789465Z",
     "iopub.status.idle": "2022-09-14T18:42:34.807149Z",
     "shell.execute_reply": "2022-09-14T18:42:34.806637Z"
    },
    "papermill": {
     "duration": 0.032275,
     "end_time": "2022-09-14T18:42:34.809025",
     "exception": false,
     "start_time": "2022-09-14T18:42:34.776750",
     "status": "completed"
    },
    "tags": []
   },
   "outputs": [],
   "source": [
    "if not os.path.isfile(demux_view) or replace_files: \n",
    "    # Generate e visualization of the Artifact\n",
    "    demux_summary = demux.visualizers.summarize(artifact)\n",
    "\n",
    "    # Save a new visualization file based on the qza file\n",
    "    Visualization.save(demux_summary.visualization, filepath=demux_view)\n",
    "    \n",
    "    demux_view_obj = demux_summary.visualization\n",
    "else:\n",
    "    demux_view_obj = Visualization.load(demux_view)"
   ]
  },
  {
   "cell_type": "markdown",
   "id": "4a6248fc",
   "metadata": {
    "papermill": {
     "duration": 0.012081,
     "end_time": "2022-09-14T18:42:34.835873",
     "exception": false,
     "start_time": "2022-09-14T18:42:34.823792",
     "status": "completed"
    },
    "tags": []
   },
   "source": [
    "## Step report\n"
   ]
  },
  {
   "cell_type": "code",
   "execution_count": 9,
   "id": "b709c494",
   "metadata": {
    "ExecuteTime": {
     "end_time": "2022-06-28T19:47:56.609737Z",
     "start_time": "2022-06-28T19:47:56.604820Z"
    },
    "execution": {
     "iopub.execute_input": "2022-09-14T18:42:34.860847Z",
     "iopub.status.busy": "2022-09-14T18:42:34.860624Z",
     "iopub.status.idle": "2022-09-14T18:42:34.865393Z",
     "shell.execute_reply": "2022-09-14T18:42:34.864637Z"
    },
    "papermill": {
     "duration": 0.019134,
     "end_time": "2022-09-14T18:42:34.866884",
     "exception": false,
     "start_time": "2022-09-14T18:42:34.847750",
     "status": "completed"
    },
    "tags": []
   },
   "outputs": [
    {
     "name": "stdout",
     "output_type": "stream",
     "text": [
      "<visualization: Visualization uuid: 1e4a9496-bc14-4a10-8ef9-a436687d460e>\n"
     ]
    }
   ],
   "source": [
    "print(demux_view_obj)"
   ]
  },
  {
   "cell_type": "code",
   "execution_count": 10,
   "id": "a5f426b0",
   "metadata": {
    "ExecuteTime": {
     "end_time": "2022-06-28T19:47:56.704841Z",
     "start_time": "2022-06-28T19:47:56.611846Z"
    },
    "execution": {
     "iopub.execute_input": "2022-09-14T18:42:34.893367Z",
     "iopub.status.busy": "2022-09-14T18:42:34.893093Z",
     "iopub.status.idle": "2022-09-14T18:42:34.907328Z",
     "shell.execute_reply": "2022-09-14T18:42:34.906795Z"
    },
    "papermill": {
     "duration": 0.029623,
     "end_time": "2022-09-14T18:42:34.909413",
     "exception": false,
     "start_time": "2022-09-14T18:42:34.879790",
     "status": "completed"
    },
    "tags": []
   },
   "outputs": [
    {
     "data": {
      "text/html": [
       "<div><img onload=\"(function(div, url){\n",
       "if (typeof require !== 'undefined') {\n",
       "    var baseURL = require.toUrl('').split('/').slice(0, -2).join('/');\n",
       "} else {\n",
       "    var baseURL = JSON.parse(\n",
       "        document.getElementById('jupyter-config-data').innerHTML\n",
       "    ).baseUrl.slice(0, -1);\n",
       "}\n",
       "url = baseURL + url;\n",
       "fetch(url).then(function(res) {\n",
       "    if (res.status === 404) {\n",
       "        div.innerHTML = 'Install QIIME 2 Jupyter extension with:<br />' +\n",
       "                        '<code>jupyter serverextension enable --py qiime2' +\n",
       "                        ' --sys-prefix</code><br />then restart your server.' +\n",
       "                        '<br /><br />(Interactive output not available on ' +\n",
       "                        'static notebook viewer services like nbviewer.)';\n",
       "    } else if (res.status === 409) {\n",
       "        div.innerHTML = 'Visualization no longer in scope. Re-run this cell' +\n",
       "                        ' to see the visualization.';\n",
       "    } else if (res.ok) {\n",
       "        url = res.url;\n",
       "        div.innerHTML = '<iframe src=\\'' + url + '\\' style=\\'' +\n",
       "                        'width: 100%; height: 700px; border: 0;\\'>' +\n",
       "                        '</iframe><hr />Open in a: <a href=\\'' + url + '\\'' +\n",
       "                        ' target=\\'_blank\\'>new window</a>'\n",
       "    } else {\n",
       "        div.innerHTML = 'Something has gone wrong. Check notebook server for' +\n",
       "                        ' errors.';\n",
       "    }\n",
       "});\n",
       "})(this.parentElement, '/qiime2/redirect?location=/tmp/qiime2-archive-jgs_bu7t')\" src=\"data:image/gif;base64,R0lGODlhAQABAIAAAP///wAAACH5BAEAAAAALAAAAAABAAEAAAICRAEAOw==\" /></div>"
      ],
      "text/plain": [
       "<visualization: Visualization uuid: 1e4a9496-bc14-4a10-8ef9-a436687d460e>"
      ]
     },
     "execution_count": 10,
     "metadata": {},
     "output_type": "execute_result"
    }
   ],
   "source": [
    "# Render Visualization\n",
    "demux_view_obj"
   ]
  },
  {
   "cell_type": "markdown",
   "id": "9ca3f819",
   "metadata": {
    "papermill": {
     "duration": 0.012835,
     "end_time": "2022-09-14T18:42:34.937662",
     "exception": false,
     "start_time": "2022-09-14T18:42:34.924827",
     "status": "completed"
    },
    "tags": []
   },
   "source": [
    "[cutadapt](https://docs.qiime2.org/2022.2/plugins/available/cutadapt/trim-paired/)\n",
    "\n",
    "We trim the forward primer and the reverse complement of the reverse primer from the forward reads. We trim the reverse primer and reverse complement of the forward primer from the reverse reads."
   ]
  },
  {
   "cell_type": "code",
   "execution_count": 11,
   "id": "77c747ba",
   "metadata": {
    "execution": {
     "iopub.execute_input": "2022-09-14T18:42:34.964231Z",
     "iopub.status.busy": "2022-09-14T18:42:34.963996Z",
     "iopub.status.idle": "2022-09-14T18:42:34.970425Z",
     "shell.execute_reply": "2022-09-14T18:42:34.969832Z"
    },
    "papermill": {
     "duration": 0.021523,
     "end_time": "2022-09-14T18:42:34.971901",
     "exception": false,
     "start_time": "2022-09-14T18:42:34.950378",
     "status": "completed"
    },
    "tags": []
   },
   "outputs": [],
   "source": [
    "if trim:    \n",
    "    forward_primer = [trim['forward_primer']] # ['CCTACGGGRSGCAGCAG']\n",
    "    reverse_primer = [trim['reverse_primer']] # ['GGACTACHVGGGTWTCTAAT']\n",
    "    forward_reverse_complement = [str(Seq(forward_primer[0]).reverse_complement())]\n",
    "    reverse_reverse_complement = [str(Seq(reverse_primer[0]).reverse_complement())]\n",
    "\n",
    "    res = trim_paired(\n",
    "        demultiplexed_sequences=artifact,\n",
    "        front_f=forward_primer,\n",
    "        front_r=reverse_primer,\n",
    "        adapter_f=reverse_reverse_complement,\n",
    "        adapter_r=forward_reverse_complement,\n",
    "        cores=threads,\n",
    "        overlap=trim['overlap'],\n",
    "        indels=False,\n",
    "        match_read_wildcards=True,\n",
    "        match_adapter_wildcards=True,\n",
    "        error_rate=0.15,\n",
    "        discard_untrimmed=True,\n",
    "    ).trimmed_sequences\n",
    "\n",
    "    demux_file_trim = os.path.join(out_dir, 'demux-paired-trim.qza')\n",
    "    demux_view_trim = os.path.join(out_dir, 'demux-paired-trim.qzv')"
   ]
  },
  {
   "cell_type": "markdown",
   "id": "787f71d6",
   "metadata": {
    "tags": [
     "papermill-error-cell-tag"
    ]
   },
   "source": [
    "<span id=\"papermill-error-cell\" style=\"color:red; font-family:Helvetica Neue, Helvetica, Arial, sans-serif; font-size:2em;\">Execution using papermill encountered an exception here and stopped:</span>"
   ]
  },
  {
   "cell_type": "code",
   "execution_count": 12,
   "id": "43e19c50",
   "metadata": {
    "execution": {
     "iopub.execute_input": "2022-09-14T18:42:35.000864Z",
     "iopub.status.busy": "2022-09-14T18:42:35.000585Z",
     "iopub.status.idle": "2022-09-14T18:42:35.417227Z",
     "shell.execute_reply": "2022-09-14T18:42:35.416363Z"
    },
    "papermill": {
     "duration": 0.434273,
     "end_time": "2022-09-14T18:42:35.420947",
     "exception": true,
     "start_time": "2022-09-14T18:42:34.986674",
     "status": "failed"
    },
    "tags": []
   },
   "outputs": [
    {
     "ename": "NameError",
     "evalue": "name 'res' is not defined",
     "output_type": "error",
     "traceback": [
      "\u001b[0;31m---------------------------------------------------------------------------\u001b[0m",
      "\u001b[0;31mNameError\u001b[0m                                 Traceback (most recent call last)",
      "Input \u001b[0;32mIn [12]\u001b[0m, in \u001b[0;36m<module>\u001b[0;34m\u001b[0m\n\u001b[0;32m----> 1\u001b[0m demux\u001b[38;5;241m.\u001b[39mvisualizers\u001b[38;5;241m.\u001b[39msummarize(\u001b[43mres\u001b[49m)\u001b[38;5;241m.\u001b[39mvisualization\n",
      "\u001b[0;31mNameError\u001b[0m: name 'res' is not defined"
     ]
    }
   ],
   "source": [
    "demux.visualizers.summarize(res).visualization"
   ]
  },
  {
   "cell_type": "code",
   "execution_count": null,
   "id": "3c4d4cf1",
   "metadata": {
    "papermill": {
     "duration": null,
     "end_time": null,
     "exception": null,
     "start_time": null,
     "status": "pending"
    },
    "tags": []
   },
   "outputs": [],
   "source": [
    "res.save(demux_file_trim)\n",
    "Visualization.save(demux.visualizers.summarize(res).visualization, filepath=demux_view_trim)"
   ]
  }
 ],
 "metadata": {
  "celltoolbar": "Edit Metadata",
  "kernelspec": {
   "display_name": "Python 3 (ipykernel)",
   "language": "python",
   "name": "python3"
  },
  "language_info": {
   "codemirror_mode": {
    "name": "ipython",
    "version": 3
   },
   "file_extension": ".py",
   "mimetype": "text/x-python",
   "name": "python",
   "nbconvert_exporter": "python",
   "pygments_lexer": "ipython3",
   "version": "3.8.12"
  },
  "papermill": {
   "default_parameters": {},
   "duration": 11.972472,
   "end_time": "2022-09-14T18:42:36.359792",
   "environment_variables": {},
   "exception": true,
   "input_path": "./step-01-prepare-data.ipynb",
   "output_path": "../executed/step-01-prepare-data-NCxNR-trim.ipynb",
   "parameters": {
    "base_dir": "/home/lauro/nupeb/rede-micro/redemicro-miliane-nutri",
    "class_col": "group-id",
    "classifier_file": "/home/lauro/nupeb/dados_brutos_rede_genoma/16S_classifiers_qiime2/silva-138-99-nb-classifier.qza",
    "experiment_name": "miliane-CxAC",
    "manifest_file": "/home/lauro/nupeb/rede-micro/redemicro-miliane-nutri/data/raw/manifest/miliane-manifest-CxAC.csv",
    "metadata_file": "/home/lauro/nupeb/rede-micro/redemicro-miliane-nutri/data/raw/metadata/miliane-metadata-CxAC.tsv",
    "overlap": 12,
    "phred": 20,
    "replace_files": false,
    "threads": 6,
    "trunc_f": 0,
    "trunc_r": 0
   },
   "start_time": "2022-09-14T18:42:24.387320",
   "version": "2.3.4"
  },
  "toc-autonumbering": false,
  "toc-showcode": false,
  "toc-showmarkdowntxt": false
 },
 "nbformat": 4,
 "nbformat_minor": 5
}