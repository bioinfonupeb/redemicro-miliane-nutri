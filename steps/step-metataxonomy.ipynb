{
 "cells": [
  {
   "cell_type": "markdown",
   "metadata": {},
   "source": [
    "### STEP : Taxonomic assignment\n",
    "#### Taxonomic assignment with Silva 16S\n",
    "\n",
    "Using Silva 16S classifier for Qiime2. List with all [classifiers](https://docs.qiime2.org/2020.6/data-resources/). \n",
    "\n",
    "#### Versions \n",
    "- [Silva 138 99% OTUs full-length sequences](https://data.qiime2.org/2020.6/common/silva-138-99-nb-classifier.qza)\n",
    "- [Silva 138 99% OTUs from 515F/806R region of sequences](https://data.qiime2.org/2020.6/common/silva-138-99-515-806-nb-classifier.qza)\n",
    "- [Greengenes 13_8 99% OTUs full-length sequences](https://data.qiime2.org/2020.6/common/gg-13-8-99-nb-classifier.qza)\n",
    "- [Greengenes 13_8 99% OTUs from 515F/806R region of sequences](https://data.qiime2.org/2020.6/common/gg-13-8-99-515-806-nb-classifier.qza)\n",
    "\n",
    "#### Methods\n",
    "- [qiime feature-classifier](https://docs.qiime2.org/2022.2/plugins/available/feature-classifier/)\n",
    "- [qiime feature-classifier classify-sklearn](https://docs.qiime2.org/2021.8/plugins/available/feature-classifier/classify-sklearn)\n",
    "- [qiime metadata](https://docs.qiime2.org/2022.2/plugins/available/metadata/)\n",
    "- [classify-hybrid-vsearch-sklearn](https://docs.qiime2.org/2022.2/plugins/available/feature-classifier/classify-hybrid-vsearch-sklearn/)\n",
    "- [qiime metadata tabulate](https://docs.qiime2.org/2022.2/plugins/available/metadata/tabulate/)\n",
    "- [qiime taxa](https://docs.qiime2.org/2022.2/plugins/available/taxa/)\n",
    "- [qiime taxa barplot](https://docs.qiime2.org/2022.2/plugins/available/taxa/barplot/)"
   ]
  },
  {
   "cell_type": "markdown",
   "metadata": {},
   "source": [
    "## Setup and settings"
   ]
  },
  {
   "cell_type": "code",
   "execution_count": 1,
   "metadata": {
    "ExecuteTime": {
     "end_time": "2022-09-23T20:25:50.869962Z",
     "start_time": "2022-09-23T20:25:20.398268Z"
    }
   },
   "outputs": [],
   "source": [
    "# Importing packages\n",
    "import os\n",
    "import pandas as pd\n",
    "from qiime2 import Artifact\n",
    "from qiime2 import Visualization\n",
    "from qiime2 import Metadata\n",
    "import qiime2.plugins.metadata.actions as metadata_actions\n",
    "\n",
    "from qiime2.plugins import feature_classifier\n",
    "from qiime2.plugins import metadata\n",
    "from qiime2.plugins import taxa\n",
    "\n",
    "from qiime2.plugins.taxa.methods import collapse\n",
    "from qiime2.plugins.taxa.methods import filter_table\n",
    "from qiime2.plugins.feature_table.visualizers import summarize\n",
    "\n",
    "import matplotlib.pyplot as plt\n",
    "\n",
    "from utils import *\n",
    "\n",
    "%matplotlib inline"
   ]
  },
  {
   "cell_type": "code",
   "execution_count": 2,
   "metadata": {
    "ExecuteTime": {
     "end_time": "2022-09-23T20:25:58.054796Z",
     "start_time": "2022-09-23T20:25:50.872114Z"
    }
   },
   "outputs": [
    {
     "name": "stdout",
     "output_type": "stream",
     "text": [
      "Requirement already satisfied: scikit-learn==0.23.1 in /home/lauro/anaconda3/envs/qiime2-2022.2/lib/python3.8/site-packages (0.23.1)\n",
      "Requirement already satisfied: numpy>=1.13.3 in /home/lauro/anaconda3/envs/qiime2-2022.2/lib/python3.8/site-packages (from scikit-learn==0.23.1) (1.22.2)\n",
      "Requirement already satisfied: scipy>=0.19.1 in /home/lauro/anaconda3/envs/qiime2-2022.2/lib/python3.8/site-packages (from scikit-learn==0.23.1) (1.8.0)\n",
      "Requirement already satisfied: threadpoolctl>=2.0.0 in /home/lauro/anaconda3/envs/qiime2-2022.2/lib/python3.8/site-packages (from scikit-learn==0.23.1) (3.1.0)\n",
      "Requirement already satisfied: joblib>=0.11 in /home/lauro/anaconda3/envs/qiime2-2022.2/lib/python3.8/site-packages (from scikit-learn==0.23.1) (1.1.0)\n",
      "Note: you may need to restart the kernel to use updated packages.\n"
     ]
    }
   ],
   "source": [
    "# install scikit-learn specific version to use trained classifier\n",
    "%pip install --user 'scikit-learn==0.23.1'"
   ]
  },
  {
   "cell_type": "code",
   "execution_count": 3,
   "metadata": {
    "ExecuteTime": {
     "end_time": "2022-09-23T20:25:58.061036Z",
     "start_time": "2022-09-23T20:25:58.057676Z"
    }
   },
   "outputs": [],
   "source": [
    "# from qiime2.plugins import demux, deblur, quality_filter, \\\n",
    "#                            metadata, feature_table, alignment, \\\n",
    "#                            phylogeny, diversity, emperor, feature_classifier, \\\n",
    "#                            taxa, composition"
   ]
  },
  {
   "cell_type": "markdown",
   "metadata": {},
   "source": [
    "### Receiving the parameters\n",
    "\n",
    "The following cell can receive parameters using the [papermill](https://papermill.readthedocs.io/en/latest/) tool."
   ]
  },
  {
   "cell_type": "code",
   "execution_count": 4,
   "metadata": {
    "ExecuteTime": {
     "end_time": "2022-09-23T20:26:01.530633Z",
     "start_time": "2022-09-23T20:25:58.063912Z"
    },
    "tags": [
     "parameters"
    ]
   },
   "outputs": [],
   "source": [
    "metadata_file = '/home/lauro/nupeb/rede-micro/redemicro-miliane-nutri/data/raw/metadata/miliane-metadata-CxAC.tsv'\n",
    "base_dir = os.path.join('/', 'home', 'lauro', 'nupeb', 'rede-micro', 'redemicro-miliane-nutri')\n",
    "experiment_name = 'miliane-CxAC-trim'\n",
    "replace_files = False"
   ]
  },
  {
   "cell_type": "code",
   "execution_count": 5,
   "metadata": {
    "ExecuteTime": {
     "end_time": "2022-09-23T20:26:01.630147Z",
     "start_time": "2022-09-23T20:26:01.533043Z"
    }
   },
   "outputs": [],
   "source": [
    "experiment_folder = os.path.abspath(os.path.join(base_dir, 'experiments', experiment_name))\n",
    "img_folder = os.path.abspath(os.path.join(experiment_folder, 'imgs'))\n",
    "sheet_folder = os.path.abspath(os.path.join(experiment_folder, 'sheets'))"
   ]
  },
  {
   "cell_type": "markdown",
   "metadata": {},
   "source": [
    "### Defining names, paths and flags"
   ]
  },
  {
   "cell_type": "code",
   "execution_count": 6,
   "metadata": {
    "ExecuteTime": {
     "end_time": "2022-09-23T20:26:01.687418Z",
     "start_time": "2022-09-23T20:26:01.632324Z"
    }
   },
   "outputs": [],
   "source": [
    "# QIIME2 Artifacts folder\n",
    "qiime_folder = os.path.join(experiment_folder, 'qiime-artifacts')\n",
    "\n",
    "# Input - DADA2 Artifacts\n",
    "dada2_tabs_path = os.path.join(qiime_folder, 'dada2-tabs.qza')\n",
    "dada2_reps_path = os.path.join(qiime_folder, 'dada2-reps.qza')\n",
    "dada2_stat_path = os.path.join(qiime_folder, 'dada2-stat.qza')\n",
    "\n",
    "# Input - DADA2 Artifacts\n",
    "classifier_path = os.path.abspath(os.path.join(os.getcwd(), '..', 'models', 'silva-138-99-nb-classifier.qza'))\n",
    "# 'silva-138-99-nb-classifier.qza'\n",
    "\n",
    "# Output - Excel file\n",
    "excel_path = os.path.join(sheet_folder, 'abundances.xlsx')\n",
    "\n",
    "# Output - Metataxonomy Artifact\n",
    "metatax_path = os.path.join(qiime_folder, 'metatax.qza')\n",
    "metatax_view_path = os.path.join(qiime_folder, 'metatax.qzv')\n",
    "metatax_bar_path = os.path.join(qiime_folder, 'metatax-bar.qzv')\n",
    "\n",
    "# Flag - Load or create files\n",
    "need_tax = not (os.path.isfile(metatax_path)) or replace_files\n",
    "need_view = not (os.path.isfile(metatax_view_path) or os.path.isfile(metatax_bar_path)) or replace_files"
   ]
  },
  {
   "cell_type": "markdown",
   "metadata": {},
   "source": [
    "## Step execution\n",
    "\n",
    "### Load input files\n",
    "\n",
    "This Step import the QIIME2 `SampleData[PairedEndSequencesWithQuality]` Artifact with all demultiplexed sequences and the `Metadata` file."
   ]
  },
  {
   "cell_type": "code",
   "execution_count": 7,
   "metadata": {
    "ExecuteTime": {
     "end_time": "2022-09-23T20:26:01.770978Z",
     "start_time": "2022-09-23T20:26:01.689705Z"
    }
   },
   "outputs": [],
   "source": [
    "metadata_qa = Metadata.load(metadata_file)"
   ]
  },
  {
   "cell_type": "code",
   "execution_count": 8,
   "metadata": {
    "ExecuteTime": {
     "end_time": "2022-09-23T20:26:01.976911Z",
     "start_time": "2022-09-23T20:26:01.772403Z"
    },
    "scrolled": true
   },
   "outputs": [],
   "source": [
    "if not need_tax:\n",
    "    \n",
    "    # Load FeatureData[Taxonomy]\n",
    "    metatax = Artifact.load(metatax_path)\n",
    "    \n",
    "else:\n",
    "    \n",
    "    # Load TaxonomicClassifier Artifact\n",
    "    classifier = Artifact.load(classifier_path)\n",
    "    \n",
    "    # Load FeatureData[Sequence] Artifact\n",
    "    reps = Artifact.load(dada2_reps_path)\n",
    "    \n",
    "    # Classify ASV features and create a new FeatureData[Taxonomy]\n",
    "    metatax_qa = feature_classifier.methods.classify_sklearn(reads=reps, classifier=classifier, n_jobs=threads)\n",
    "\n",
    "    # Save FeatureData[Taxonomy] Artifact\n",
    "    metatax_qa.classification.save(metatax_path)\n",
    "\n",
    "# Load FeatureTable[Frequency] Artifact\n",
    "tabs = Artifact.load(dada2_tabs_path)"
   ]
  },
  {
   "cell_type": "code",
   "execution_count": 9,
   "metadata": {
    "ExecuteTime": {
     "end_time": "2022-09-23T20:26:02.162502Z",
     "start_time": "2022-09-23T20:26:01.978318Z"
    }
   },
   "outputs": [],
   "source": [
    "if not need_view:\n",
    "    \n",
    "    # Load Metatax\n",
    "    metatax_qv = Visualization.load(metatax_view_path)\n",
    "    metatax_bar_qv = Visualization.load(metatax_bar_path)\n",
    "    \n",
    "else:\n",
    "    \n",
    "    # Metataxonomy Table Visualization\n",
    "    metatax_qv = metadata.visualizers.tabulate(metatax_qa.classification.view(Metadata))\n",
    "    metatax_qv.visualization.save(metatax_view_path)\n",
    "    \n",
    "    # Load TableData[Sequence] Artifact\n",
    "    tabs = Artifact.load(dada2_tabs_path)\n",
    "    \n",
    "    # Barplot Visualization\n",
    "    # Next, we can view the taxonomic composition of our samples with interactive bar plots. \n",
    "    # Generate those plots with the following command and then open the visualization.\n",
    "    metatax_bar_qv = taxa.visualizers.barplot(tabs, metatax_qa.classification, metadata_qa)\n",
    "    metatax_bar_qv.visualization.save(metatax_bar_path)"
   ]
  },
  {
   "cell_type": "markdown",
   "metadata": {},
   "source": [
    "### Metataxonomy analysis"
   ]
  },
  {
   "cell_type": "code",
   "execution_count": 21,
   "metadata": {
    "ExecuteTime": {
     "end_time": "2022-09-23T20:34:54.019641Z",
     "start_time": "2022-09-23T20:34:54.008415Z"
    }
   },
   "outputs": [],
   "source": [
    "def filter_and_collapse(tab, tax, meta, lvl, exclude=True, exclude_list='uncultured,unidentified,metagenome'):\n",
    "    from qiime2.plugins.taxa.methods import collapse\n",
    "    from qiime2.plugins.taxa.methods import filter_table\n",
    "    from qiime2.plugins.feature_table.visualizers import summarize\n",
    "    \n",
    "    to_include = ('d', 'p', 'c', 'o', 'f', 'g', 's')[lvl-1]\n",
    "    to_include += '__'\n",
    "    to_exclude = exclude_list if exclude else None\n",
    "    \n",
    "    filtered_tabs = filter_table(\n",
    "        table=tab, \n",
    "        taxonomy=tax,\n",
    "        include=to_include,\n",
    "        exclude=to_exclude,\n",
    "        mode='contains').filtered_table\n",
    "    \n",
    "    collapsed_table = collapse(table=filtered_tabs, taxonomy=tax, level=lvl).collapsed_table\n",
    "    collapsed_table_view = summarize(table=collapsed_table, sample_metadata=meta).visualization\n",
    "    \n",
    "    return collapsed_table, collapsed_table_view\n",
    "\n",
    "def make_rank(tab, top=None):\n",
    "    import pandas as pd\n",
    "    df = tab.view(pd.DataFrame)\n",
    "    rank_series = df.sum(axis=0).sort_values(ascending=False)\n",
    "    if limit:\n",
    "        rank_series = rank_series[:top]\n",
    "    return rank_series\n",
    "\n",
    "def split_tax(serie):\n",
    "    level_names = ['kingdom', 'phylum', 'class', 'order', 'family', 'genus', 'species']\n",
    "    \n",
    "    "
   ]
  },
  {
   "cell_type": "code",
   "execution_count": 22,
   "metadata": {
    "ExecuteTime": {
     "end_time": "2022-09-23T20:34:57.498995Z",
     "start_time": "2022-09-23T20:34:56.464094Z"
    }
   },
   "outputs": [],
   "source": [
    "collapsed_table, collapsed_table_view = filter_and_collapse(\n",
    "    tabs, metatax, metadata_qa, \n",
    "    lvl=7, \n",
    "    exclude=False, \n",
    "    exclude_list='uncultured,unidentified,metagenome')"
   ]
  },
  {
   "cell_type": "code",
   "execution_count": 27,
   "metadata": {
    "ExecuteTime": {
     "end_time": "2022-09-23T20:35:15.588631Z",
     "start_time": "2022-09-23T20:35:15.567795Z"
    }
   },
   "outputs": [
    {
     "data": {
      "text/plain": [
       "d__Bacteria;p__Bacteroidota;c__Bacteroidia;o__Bacteroidales;f__Muribaculaceae;g__Muribaculaceae;s__uncultured_bacterium                                      395859.0\n",
       "d__Bacteria;p__Bacteroidota;c__Bacteroidia;o__Bacteroidales;f__Prevotellaceae;g__Prevotellaceae_NK3B31_group;s__uncultured_bacterium                         135875.0\n",
       "d__Bacteria;p__Bacteroidota;c__Bacteroidia;o__Bacteroidales;f__Prevotellaceae;g__Prevotellaceae_UCG-001;s__uncultured_bacterium                               71521.0\n",
       "d__Bacteria;p__Firmicutes;c__Clostridia;o__Oscillospirales;f__Ruminococcaceae;g__[Eubacterium]_siraeum_group;s__uncultured_bacterium                          37478.0\n",
       "d__Bacteria;p__Firmicutes;c__Bacilli;o__Erysipelotrichales;f__Erysipelotrichaceae;g__Turicibacter;s__uncultured_bacterium                                     29043.0\n",
       "d__Bacteria;p__Firmicutes;c__Clostridia;o__Lachnospirales;f__Lachnospiraceae;g__[Eubacterium]_ruminantium_group;s__uncultured_bacterium                       28523.0\n",
       "d__Bacteria;p__Bacteroidota;c__Bacteroidia;o__Bacteroidales;f__Muribaculaceae;g__Muribaculaceae;s__uncultured_Bacteroidales                                   26290.0\n",
       "d__Bacteria;p__Bacteroidota;c__Bacteroidia;o__Bacteroidales;f__Rikenellaceae;g__Alistipes;s__uncultured_bacterium                                             15042.0\n",
       "d__Bacteria;p__Firmicutes;c__Clostridia;o__Clostridia_vadinBB60_group;f__Clostridia_vadinBB60_group;g__Clostridia_vadinBB60_group;s__unidentified             13504.0\n",
       "d__Bacteria;p__Firmicutes;c__Clostridia;o__Clostridia_vadinBB60_group;f__Clostridia_vadinBB60_group;g__Clostridia_vadinBB60_group;s__uncultured_bacterium     12575.0\n",
       "dtype: float64"
      ]
     },
     "execution_count": 27,
     "metadata": {},
     "output_type": "execute_result"
    }
   ],
   "source": [
    "rank = make_rank(collapsed_table, top=10)\n",
    "rank"
   ]
  },
  {
   "cell_type": "code",
   "execution_count": 18,
   "metadata": {
    "ExecuteTime": {
     "end_time": "2022-09-23T20:29:54.540417Z",
     "start_time": "2022-09-23T20:29:54.511162Z"
    }
   },
   "outputs": [
    {
     "data": {
      "text/plain": [
       "[('g__Muribaculaceae', 's__uncultured_bacterium', 395859),\n",
       " ('g__Prevotellaceae_NK3B31_group', 's__uncultured_bacterium', 135875),\n",
       " ('g__Prevotellaceae_UCG-001', 's__uncultured_bacterium', 71521),\n",
       " ('g__[Eubacterium]_siraeum_group', 's__uncultured_bacterium', 37478),\n",
       " ('g__Turicibacter', 's__uncultured_bacterium', 29043),\n",
       " ('g__[Eubacterium]_ruminantium_group', 's__uncultured_bacterium', 28523),\n",
       " ('g__Muribaculaceae', 's__uncultured_Bacteroidales', 26290),\n",
       " ('g__Alistipes', 's__uncultured_bacterium', 15042),\n",
       " ('g__Clostridia_vadinBB60_group', 's__unidentified', 13504),\n",
       " ('g__Clostridia_vadinBB60_group', 's__uncultured_bacterium', 12575),\n",
       " ('g__Mucispirillum', 's__Mucispirillum_schaedleri', 8377),\n",
       " ('g__Muribaculum', 's__uncultured_bacterium', 7727),\n",
       " ('g__Candidatus_Saccharimonas', 's__uncultured_bacterium', 7602),\n",
       " ('g__[Eubacterium]_xylanophilum_group', 's__uncultured_bacterium', 7375),\n",
       " ('g__Bacteroides', 's__Bacteroides_caecimuris', 7299),\n",
       " ('g__Gastranaerophilales', 's__uncultured_bacterium', 7266),\n",
       " ('g__Lachnospiraceae_NK4A136_group', 's__Trichinella_pseudospiralis', 6927),\n",
       " ('g__Bacteroides', 's__Bacteroides_fragilis', 6912),\n",
       " ('g__Parabacteroides', 's__Parabacteroides_goldsteinii', 6288),\n",
       " ('g__Clostridia_UCG-014', 's__uncultured_bacterium', 5379),\n",
       " ('g__Izemoplasmatales', 's__gut_metagenome', 4694),\n",
       " ('g__uncultured', 's__Clostridium_sp.', 4407),\n",
       " ('g__Acetatifactor', 's__uncultured_bacterium', 4131),\n",
       " ('g__[Bacteroides]_pectinophilus_group', 's__uncultured_bacterium', 4037),\n",
       " ('g__[Eubacterium]_coprostanoligenes_group', 's__uncultured_bacterium', 3796),\n",
       " ('g__uncultured', 's__uncultured_bacterium', 3607),\n",
       " ('g__Oscillibacter', 's__uncultured_bacterium', 3229),\n",
       " ('g__Lactobacillus', 's__Lactobacillus_intestinalis', 3130),\n",
       " ('g__Lachnospiraceae_UCG-006', 's__uncultured_bacterium', 2943),\n",
       " ('g__Lachnospiraceae_UCG-001', 's__unidentified', 2866),\n",
       " ('g__GCA-900066575', 's__uncultured_bacterium', 2865),\n",
       " ('g__uncultured', 's__gut_metagenome', 2763),\n",
       " ('g__Ruminococcus', 's__unidentified', 2700),\n",
       " ('g__[Eubacterium]_coprostanoligenes_group',\n",
       "  's__Clostridiales_bacterium',\n",
       "  2541),\n",
       " ('g__Anaeroplasma', 's__uncultured_bacterium', 2223),\n",
       " ('g__Incertae_Sedis', 's__uncultured_bacterium', 2096),\n",
       " ('g__A2', 's__uncultured_bacterium', 2078),\n",
       " ('g__uncultured', 's__[Clostridium]_leptum', 2017),\n",
       " ('g__Gastranaerophilales', 's__uncultured_rumen', 1883),\n",
       " ('g__NK4A214_group', 's__unidentified', 1684),\n",
       " ('g__UCG-004', 's__uncultured_bacterium', 1675),\n",
       " ('g__Papillibacter', 's__uncultured_bacterium', 1624),\n",
       " ('g__Lachnospiraceae_NK4A136_group', 's__uncultured_bacterium', 1598),\n",
       " ('g__Butyricicoccus', 's__uncultured_bacterium', 1425),\n",
       " ('g__Clostridia_UCG-014', 's__unidentified', 1372),\n",
       " ('g__Pygmaiobacter', 's__uncultured_bacterium', 1338),\n",
       " ('g__Chryseobacterium', 's__Chryseobacterium_hominis', 1290),\n",
       " ('g__uncultured', 's__Azospirillum_sp.', 1101),\n",
       " ('g__Butyricicoccus', 's__bacterium_NLAE-zl-H60', 1042),\n",
       " ('g__uncultured', 's__uncultured_bacterium', 889),\n",
       " ('g__UCG-010', 's__uncultured_organism', 856),\n",
       " ('g__UCG-009', 's__uncultured_bacterium', 808),\n",
       " ('g__Tuzzerella', 's__uncultured_bacterium', 761),\n",
       " ('g__[Eubacterium]_coprostanoligenes_group',\n",
       "  's__uncultured_Clostridium',\n",
       "  757),\n",
       " ('g__UCG-010', 's__uncultured_bacterium', 676),\n",
       " ('g__uncultured', 's__unidentified', 673),\n",
       " ('g__Harryflintia', 's__uncultured_bacterium', 615),\n",
       " ('g__Incertae_Sedis', 's__uncultured_Clostridiales', 601),\n",
       " ('g__Alistipes', 's__Alistipes_timonensis', 595),\n",
       " ('g__UCG-005', 's__uncultured_Clostridiales', 538),\n",
       " ('g__uncultured', 's__uncultured_bacterium', 507),\n",
       " ('g__Clostridia_vadinBB60_group', 's__uncultured_Clostridia', 501),\n",
       " ('g__Roseburia', 's__uncultured_bacterium', 465),\n",
       " ('g__Alistipes', 's__Alistipes_finegoldii', 353),\n",
       " ('g__UBA1819', 's__uncultured_bacterium', 350),\n",
       " ('g__Blautia', 's__Lachnospiraceae_bacterium', 336),\n",
       " ('g__Anaerofilum', 's__uncultured_bacterium', 277),\n",
       " ('g__[Eubacterium]_ventriosum_group', 's__uncultured_Clostridiales', 274),\n",
       " ('g__Peptococcus', 's__uncultured_bacterium', 267),\n",
       " ('g__Family_XIII_UCG-001', 's__uncultured_bacterium', 247),\n",
       " ('g__Roseburia', 's__uncultured_Clostridiales', 247),\n",
       " ('g__Family_XIII_AD3011_group', 's__uncultured_bacterium', 235),\n",
       " ('g__Colidextribacter', 's__uncultured_bacterium', 230),\n",
       " ('g__Lactobacillus', 's__Lactobacillus_faecis', 220),\n",
       " ('g__Anaerovorax', 's__uncultured_bacterium', 207),\n",
       " ('g__UCG-003', 's__uncultured_bacterium', 194),\n",
       " ('g__RF39', 's__uncultured_Lachnospiraceae', 193),\n",
       " ('g__Allobaculum', 's__uncultured_bacterium', 187),\n",
       " ('g__Faecalibaculum', 's__uncultured_bacterium', 164),\n",
       " ('g__UCG-010', 's__uncultured_rumen', 163),\n",
       " ('g__uncultured', 's__uncultured_bacterium', 161),\n",
       " ('g__Ruminococcaceae', 's__uncultured_bacterium', 160),\n",
       " ('g__Christensenellaceae_R-7_group', 's__uncultured_prokaryote', 151),\n",
       " ('g__Oscillospira', 's__uncultured_bacterium', 150),\n",
       " ('g__RF39', 's__uncultured_bacterium', 149),\n",
       " ('g__uncultured', 's__uncultured_bacterium', 137),\n",
       " ('g__UCG-010', 's__metagenome', 124),\n",
       " ('g__Dubosiella', 's__uncultured_bacterium', 113),\n",
       " ('g__Defluviitaleaceae_UCG-011', 's__uncultured_bacterium', 107),\n",
       " ('g__Subdoligranulum', 's__uncultured_Ruminococcaceae', 107),\n",
       " ('g__Lachnospiraceae_UCG-010', 's__uncultured_bacterium', 90),\n",
       " ('g__Pseudomonas', 's__Pseudomonas_psychrotolerans', 80),\n",
       " ('g__UCG-005', 's__uncultured_bacterium', 79),\n",
       " ('g__Sphingobacterium', 's__Sphingobacterium_daejeonense', 74),\n",
       " ('g__uncultured', 's__uncultured_bacterium', 65),\n",
       " ('g__Tyzzerella', 's__[Clostridium]_colinum', 50),\n",
       " ('g__Intestinimonas', 's__uncultured_bacterium', 48),\n",
       " ('g__Enterorhabdus', 's__uncultured_bacterium', 48),\n",
       " ('g__uncultured', 's__uncultured_bacterium', 44),\n",
       " ('g__Lachnospiraceae_UCG-001', 's__uncultured_bacterium', 42),\n",
       " ('g__Anaerotruncus', 's__uncultured_bacterium', 42),\n",
       " ('g__Rikenella', 's__uncultured_bacterium', 41),\n",
       " ('g__Monoglobus', 's__uncultured_rumen', 39),\n",
       " ('g__Helicobacter', 's__Helicobacter_rodentium', 34),\n",
       " ('g__Lachnospiraceae_NK4A136_group', 's__uncultured_Clostridiales', 30),\n",
       " ('g__Ruminiclostridium', 's__uncultured_organism', 28),\n",
       " ('g__Blautia', 's__unidentified', 25),\n",
       " ('g__uncultured', 's__uncultured_Allobaculum', 22),\n",
       " ('g__[Eubacterium]_brachy_group', 's__uncultured_bacterium', 22),\n",
       " ('g__uncultured', 's__uncultured_bacterium', 22),\n",
       " ('g__Gastranaerophilales', 's__Acinetobacter_sp.', 19),\n",
       " ('g__Lachnospiraceae_FCS020_group', 's__uncultured_bacterium', 17),\n",
       " ('g__Globicatella', 's__Globicatella_sp.', 17),\n",
       " ('g__Clostridia_vadinBB60_group', 's__gut_metagenome', 17),\n",
       " ('g__Adlercreutzia', 's__uncultured_bacterium', 14),\n",
       " ('g__uncultured', 's__uncultured_bacterium', 13),\n",
       " ('g__UCG-009', 's__uncultured_organism', 13),\n",
       " ('g__Erysipelatoclostridium', 's__[Clostridium]_cocleatum', 10),\n",
       " ('g__Coriobacteriaceae_UCG-002', 's__uncultured_bacterium', 7),\n",
       " ('g__UCG-007', 's__uncultured_bacterium', 6),\n",
       " ('g__Rikenellaceae_RC9_gut_group', 's__uncultured_organism', 5)]"
      ]
     },
     "execution_count": 18,
     "metadata": {},
     "output_type": "execute_result"
    }
   ],
   "source": [
    "collapsed_table_df = collapsed_table.view(pd.DataFrame)\n",
    "[(*(x.split(';')[-2:]), int(y)) for x, y in collapsed_table_df.sum(axis=0).sort_values(ascending=False).items()]"
   ]
  },
  {
   "cell_type": "markdown",
   "metadata": {},
   "source": [
    "## Diversity test \n",
    "**TODO** colocar no outro notebook esta parte"
   ]
  },
  {
   "cell_type": "code",
   "execution_count": null,
   "metadata": {
    "ExecuteTime": {
     "end_time": "2022-09-23T20:26:02.873690Z",
     "start_time": "2022-09-23T20:26:02.873670Z"
    }
   },
   "outputs": [],
   "source": [
    "from qiime2.plugins.diversity.pipelines import alpha\n",
    "from qiime2.plugins.diversity.visualizers import alpha_group_significance\n",
    "\n",
    "metrics = ('ace', 'berger_parker_d', 'brillouin_d', 'chao1', 'chao1_ci', 'dominance', 'doubles', 'enspie', 'esty_ci', 'fisher_alpha', 'gini_index', 'goods_coverage', 'heip_e', 'kempton_taylor_q', 'lladser_pe', 'margalef', 'mcintosh_d', 'mcintosh_e', 'menhinick', 'michaelis_menten_fit', 'observed_features', 'osd', 'pielou_e', 'robbins', 'shannon', 'simpson', 'simpson_e', 'singles', 'strong')\n",
    "metric = 'simpson_e'\n",
    "alpha_diversity = alpha(table=collapsed_table, metric=metric).alpha_diversity\n",
    "alpha_group_significance(alpha_diversity=alpha_diversity, metadata=metadata_qa).visualization"
   ]
  },
  {
   "cell_type": "code",
   "execution_count": null,
   "metadata": {
    "ExecuteTime": {
     "end_time": "2022-09-23T20:26:02.875399Z",
     "start_time": "2022-09-23T20:26:02.875379Z"
    }
   },
   "outputs": [],
   "source": [
    "# metatax_bar_qv"
   ]
  }
 ],
 "metadata": {
  "celltoolbar": "Edit Metadata",
  "kernelspec": {
   "display_name": "Python 3 (ipykernel)",
   "language": "python",
   "name": "python3"
  },
  "language_info": {
   "codemirror_mode": {
    "name": "ipython",
    "version": 3
   },
   "file_extension": ".py",
   "mimetype": "text/x-python",
   "name": "python",
   "nbconvert_exporter": "python",
   "pygments_lexer": "ipython3",
   "version": "3.8.12"
  },
  "toc-autonumbering": false,
  "toc-showcode": false,
  "toc-showmarkdowntxt": false
 },
 "nbformat": 4,
 "nbformat_minor": 4
}
