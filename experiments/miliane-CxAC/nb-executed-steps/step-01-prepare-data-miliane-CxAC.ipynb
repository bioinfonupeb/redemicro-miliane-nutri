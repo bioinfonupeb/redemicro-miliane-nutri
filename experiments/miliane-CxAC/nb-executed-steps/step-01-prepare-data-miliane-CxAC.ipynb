{
 "cells": [
  {
   "cell_type": "markdown",
   "id": "a14fc853",
   "metadata": {
    "papermill": {
     "duration": 0.020457,
     "end_time": "2022-09-19T19:20:13.350951",
     "exception": false,
     "start_time": "2022-09-19T19:20:13.330494",
     "status": "completed"
    },
    "tags": []
   },
   "source": [
    "# Prepare data for Pipeline"
   ]
  },
  {
   "cell_type": "markdown",
   "id": "da0d2307",
   "metadata": {
    "papermill": {
     "duration": 0.010613,
     "end_time": "2022-09-19T19:20:13.406558",
     "exception": false,
     "start_time": "2022-09-19T19:20:13.395945",
     "status": "completed"
    },
    "tags": []
   },
   "source": [
    "## Setup and settings"
   ]
  },
  {
   "cell_type": "code",
   "execution_count": 1,
   "id": "38a70d3e",
   "metadata": {
    "ExecuteTime": {
     "end_time": "2022-09-14T17:43:20.516262Z",
     "start_time": "2022-09-14T17:43:20.510424Z"
    },
    "execution": {
     "iopub.execute_input": "2022-09-19T19:20:13.428859Z",
     "iopub.status.busy": "2022-09-19T19:20:13.428305Z",
     "iopub.status.idle": "2022-09-19T19:20:19.720462Z",
     "shell.execute_reply": "2022-09-19T19:20:19.719924Z"
    },
    "papermill": {
     "duration": 6.306907,
     "end_time": "2022-09-19T19:20:19.723716",
     "exception": false,
     "start_time": "2022-09-19T19:20:13.416809",
     "status": "completed"
    },
    "tags": []
   },
   "outputs": [],
   "source": [
    "# Importing packages\n",
    "import os\n",
    "import yaml\n",
    "import logging\n",
    "from Bio.Seq import Seq\n",
    "from qiime2 import Artifact, Visualization\n",
    "from qiime2.plugins import demux\n",
    "from qiime2.plugins.cutadapt.methods import trim_paired\n",
    "\n",
    "from utils import *"
   ]
  },
  {
   "cell_type": "markdown",
   "id": "cf12f13e",
   "metadata": {
    "papermill": {
     "duration": 0.010261,
     "end_time": "2022-09-19T19:20:19.750800",
     "exception": false,
     "start_time": "2022-09-19T19:20:19.740539",
     "status": "completed"
    },
    "tags": []
   },
   "source": [
    "### Receiving the parameters\n",
    "\n",
    "The following cell can receive parameters using the [papermill](https://papermill.readthedocs.io/en/latest/) tool."
   ]
  },
  {
   "cell_type": "code",
   "execution_count": 2,
   "id": "6b03135e",
   "metadata": {
    "ExecuteTime": {
     "end_time": "2022-06-28T18:50:41.594341Z",
     "start_time": "2022-06-28T18:50:41.591544Z"
    },
    "execution": {
     "iopub.execute_input": "2022-09-19T19:20:19.772700Z",
     "iopub.status.busy": "2022-09-19T19:20:19.772484Z",
     "iopub.status.idle": "2022-09-19T19:20:19.777193Z",
     "shell.execute_reply": "2022-09-19T19:20:19.776573Z"
    },
    "papermill": {
     "duration": 0.017256,
     "end_time": "2022-09-19T19:20:19.778673",
     "exception": false,
     "start_time": "2022-09-19T19:20:19.761417",
     "status": "completed"
    },
    "tags": [
     "parameters"
    ]
   },
   "outputs": [],
   "source": [
    "params_path = os.path.join('..', 'params', 'ana-flavia-superlactacao.yaml')\n",
    "experiment_name = 'jenneffer-vs-01'\n",
    "base_dir = os.path.join('/', 'home', 'lauro', 'nupeb', 'redemicro')\n",
    "manifest_file = os.path.join(base_dir, 'data', 'raw', 'manifest', 'not-hist-vs-manifest.csv')\n",
    "img_folder = os.path.abspath(os.path.join(base_dir, 'imgs'))\n",
    "replace_files = False\n",
    "trim = None"
   ]
  },
  {
   "cell_type": "code",
   "execution_count": 3,
   "id": "26673575",
   "metadata": {
    "execution": {
     "iopub.execute_input": "2022-09-19T19:20:19.801639Z",
     "iopub.status.busy": "2022-09-19T19:20:19.801414Z",
     "iopub.status.idle": "2022-09-19T19:20:19.806264Z",
     "shell.execute_reply": "2022-09-19T19:20:19.805376Z"
    },
    "papermill": {
     "duration": 0.018075,
     "end_time": "2022-09-19T19:20:19.807833",
     "exception": false,
     "start_time": "2022-09-19T19:20:19.789758",
     "status": "completed"
    },
    "tags": [
     "injected-parameters"
    ]
   },
   "outputs": [],
   "source": [
    "# Parameters\n",
    "experiment_name = \"miliane-CxAC\"\n",
    "base_dir = \"/home/lauro/nupeb/rede-micro/redemicro-miliane-nutri\"\n",
    "manifest_file = \"/home/lauro/nupeb/rede-micro/redemicro-miliane-nutri/data/raw/manifest/miliane-manifest-CxAC.csv\"\n",
    "metadata_file = \"/home/lauro/nupeb/rede-micro/redemicro-miliane-nutri/data/raw/metadata/miliane-metadata-CxAC.tsv\"\n",
    "class_col = \"group-id\"\n",
    "classifier_file = \"/home/lauro/nupeb/dados_brutos_rede_genoma/16S_classifiers_qiime2/silva-138-99-nb-classifier.qza\"\n",
    "replace_files = False\n",
    "phred = 20\n",
    "trunc_f = 0\n",
    "trunc_r = 0\n",
    "overlap = 12\n",
    "threads = 6\n"
   ]
  },
  {
   "cell_type": "code",
   "execution_count": 4,
   "id": "e0bc49af",
   "metadata": {
    "ExecuteTime": {
     "end_time": "2022-06-28T18:50:41.610682Z",
     "start_time": "2022-06-28T18:50:41.595886Z"
    },
    "execution": {
     "iopub.execute_input": "2022-09-19T19:20:19.836366Z",
     "iopub.status.busy": "2022-09-19T19:20:19.836090Z",
     "iopub.status.idle": "2022-09-19T19:20:19.842009Z",
     "shell.execute_reply": "2022-09-19T19:20:19.841035Z"
    },
    "papermill": {
     "duration": 0.025404,
     "end_time": "2022-09-19T19:20:19.843654",
     "exception": false,
     "start_time": "2022-09-19T19:20:19.818250",
     "status": "completed"
    },
    "tags": []
   },
   "outputs": [],
   "source": [
    "# Setting hardcoded parameters for development and debbuging\n",
    "production = True\n",
    "if not production:\n",
    "    params_path = os.path.join('..', 'params', 'ana-flavia-hipotese-01')\n",
    "    with open(params_path, 'r') as stream:\n",
    "        params = yaml.safe_load(stream)\n",
    "        experiment_name = params['experiment_name']\n",
    "        base_dir = params['base_dir']\n",
    "        manifest_file = params['manifest_file']\n",
    "        replace_files = params['replace_files']"
   ]
  },
  {
   "cell_type": "markdown",
   "id": "b56acd9b",
   "metadata": {
    "papermill": {
     "duration": 0.010604,
     "end_time": "2022-09-19T19:20:19.866506",
     "exception": false,
     "start_time": "2022-09-19T19:20:19.855902",
     "status": "completed"
    },
    "tags": []
   },
   "source": [
    "### Defining names and paths"
   ]
  },
  {
   "cell_type": "code",
   "execution_count": 5,
   "id": "28377bae",
   "metadata": {
    "ExecuteTime": {
     "end_time": "2022-06-28T18:50:41.618098Z",
     "start_time": "2022-06-28T18:50:41.614152Z"
    },
    "execution": {
     "iopub.execute_input": "2022-09-19T19:20:19.888771Z",
     "iopub.status.busy": "2022-09-19T19:20:19.888462Z",
     "iopub.status.idle": "2022-09-19T19:20:19.893125Z",
     "shell.execute_reply": "2022-09-19T19:20:19.892058Z"
    },
    "papermill": {
     "duration": 0.01793,
     "end_time": "2022-09-19T19:20:19.894814",
     "exception": false,
     "start_time": "2022-09-19T19:20:19.876884",
     "status": "completed"
    },
    "tags": []
   },
   "outputs": [],
   "source": [
    "# new_manifest = '/home/lauro/nupeb/redemicro/data/raw/manifest/karina-manifest.csv'\n",
    "# with open(manifest_file, 'r') as oldm, open(new_manifest, 'w') as newm:\n",
    "#     header = 'sample-id,absolute-filepath,direction\\n'\n",
    "#     newm.write(header)\n",
    "#     for line in oldm.readlines()[1:]:\n",
    "#         sid, forward, reverse = line[:-1].split(',')\n",
    "#         fline = ','.join((sid, forward, 'forward')) + '\\n'\n",
    "#         rline = ','.join((sid, reverse, 'reverse')) + '\\n'\n",
    "#         newm.write(fline)\n",
    "#         newm.write(rline)"
   ]
  },
  {
   "cell_type": "code",
   "execution_count": 6,
   "id": "60b1fac0",
   "metadata": {
    "ExecuteTime": {
     "end_time": "2022-06-28T18:50:41.632125Z",
     "start_time": "2022-06-28T18:50:41.619710Z"
    },
    "execution": {
     "iopub.execute_input": "2022-09-19T19:20:19.917272Z",
     "iopub.status.busy": "2022-09-19T19:20:19.916940Z",
     "iopub.status.idle": "2022-09-19T19:20:19.926347Z",
     "shell.execute_reply": "2022-09-19T19:20:19.925263Z"
    },
    "papermill": {
     "duration": 0.02317,
     "end_time": "2022-09-19T19:20:19.928521",
     "exception": false,
     "start_time": "2022-09-19T19:20:19.905351",
     "status": "completed"
    },
    "tags": []
   },
   "outputs": [],
   "source": [
    "# Define the output folder path\n",
    "out_dir = os.path.join(base_dir, 'experiments', experiment_name, 'qiime-artifacts')\n",
    "img_folder = os.path.abspath(os.path.join(base_dir, 'experiments', experiment_name, 'imgs'))\n",
    "\n",
    "# Create path if it not exist\n",
    "if not os.path.isdir(out_dir):\n",
    "    os.makedirs(out_dir)\n",
    "    print(f'New qiime-artifacts folder path created: {out_dir}')\n",
    "\n",
    "# Create path if it not exist\n",
    "if not os.path.isdir(img_folder):\n",
    "    os.makedirs(img_folder)\n",
    "    print(f'New img folder path created: {img_folder}')\n",
    "\n",
    "# Define the output artifact full path\n",
    "demux_file = os.path.join(out_dir, 'demux-paired.qza')\n",
    "demux_view = os.path.join(out_dir, 'demux-paired.qzv')\n",
    "demux_file_trim = os.path.join(out_dir, 'demux-paired-trim.qza')\n",
    "demux_view_trim = os.path.join(out_dir, 'demux-paired-trim.qzv')"
   ]
  },
  {
   "cell_type": "code",
   "execution_count": null,
   "id": "080316d6",
   "metadata": {
    "papermill": {
     "duration": 0.016935,
     "end_time": "2022-09-19T19:20:19.959587",
     "exception": false,
     "start_time": "2022-09-19T19:20:19.942652",
     "status": "completed"
    },
    "tags": []
   },
   "outputs": [],
   "source": []
  },
  {
   "cell_type": "markdown",
   "id": "8acc6e64",
   "metadata": {
    "papermill": {
     "duration": 0.017154,
     "end_time": "2022-09-19T19:20:19.994122",
     "exception": false,
     "start_time": "2022-09-19T19:20:19.976968",
     "status": "completed"
    },
    "tags": []
   },
   "source": [
    "## Step execution\n",
    "\n",
    "This Step import all `fastq` files in a **QIIME2 Artifact** object and save it to a new `qza` file of `SampleData[PairedEndSequencesWithQuality]`"
   ]
  },
  {
   "cell_type": "code",
   "execution_count": 7,
   "id": "b160a260",
   "metadata": {
    "ExecuteTime": {
     "end_time": "2022-06-28T19:44:58.640338Z",
     "start_time": "2022-06-28T18:50:41.633657Z"
    },
    "execution": {
     "iopub.execute_input": "2022-09-19T19:20:20.029089Z",
     "iopub.status.busy": "2022-09-19T19:20:20.028930Z",
     "iopub.status.idle": "2022-09-19T19:20:21.230825Z",
     "shell.execute_reply": "2022-09-19T19:20:21.230229Z"
    },
    "papermill": {
     "duration": 1.222767,
     "end_time": "2022-09-19T19:20:21.233945",
     "exception": false,
     "start_time": "2022-09-19T19:20:20.011178",
     "status": "completed"
    },
    "tags": []
   },
   "outputs": [],
   "source": [
    "# If the demux file does not exist or if the old file will be replaced\n",
    "if not os.path.isfile(demux_file) or replace_files:\n",
    "    \n",
    "    # Import data and create an artifact object\n",
    "    artifact = Artifact.import_data(\n",
    "        'SampleData[PairedEndSequencesWithQuality]', \n",
    "        manifest_file, \n",
    "        view_type='PairedEndFastqManifestPhred33')\n",
    "    \n",
    "    # Save the artifact object to a new qza file\n",
    "    artifact.save(demux_file)\n",
    "\n",
    "else:\n",
    "    artifact = Artifact.load(demux_file)"
   ]
  },
  {
   "cell_type": "code",
   "execution_count": 8,
   "id": "0d5c7d9c",
   "metadata": {
    "ExecuteTime": {
     "end_time": "2022-06-28T19:47:56.602855Z",
     "start_time": "2022-06-28T19:44:58.642520Z"
    },
    "execution": {
     "iopub.execute_input": "2022-09-19T19:20:21.264445Z",
     "iopub.status.busy": "2022-09-19T19:20:21.264205Z",
     "iopub.status.idle": "2022-09-19T19:20:21.284007Z",
     "shell.execute_reply": "2022-09-19T19:20:21.283462Z"
    },
    "papermill": {
     "duration": 0.03383,
     "end_time": "2022-09-19T19:20:21.285932",
     "exception": false,
     "start_time": "2022-09-19T19:20:21.252102",
     "status": "completed"
    },
    "tags": []
   },
   "outputs": [],
   "source": [
    "if not os.path.isfile(demux_view) or replace_files: \n",
    "    # Generate e visualization of the Artifact\n",
    "    demux_summary = demux.visualizers.summarize(artifact)\n",
    "\n",
    "    # Save a new visualization file based on the qza file\n",
    "    Visualization.save(demux_summary.visualization, filepath=demux_view)\n",
    "    \n",
    "    demux_view_obj = demux_summary.visualization\n",
    "else:\n",
    "    demux_view_obj = Visualization.load(demux_view)"
   ]
  },
  {
   "cell_type": "markdown",
   "id": "24b866a7",
   "metadata": {
    "papermill": {
     "duration": 0.01129,
     "end_time": "2022-09-19T19:20:21.311227",
     "exception": false,
     "start_time": "2022-09-19T19:20:21.299937",
     "status": "completed"
    },
    "tags": []
   },
   "source": [
    "## Step report\n"
   ]
  },
  {
   "cell_type": "code",
   "execution_count": 9,
   "id": "81fea560",
   "metadata": {
    "ExecuteTime": {
     "end_time": "2022-06-28T19:47:56.609737Z",
     "start_time": "2022-06-28T19:47:56.604820Z"
    },
    "execution": {
     "iopub.execute_input": "2022-09-19T19:20:21.334785Z",
     "iopub.status.busy": "2022-09-19T19:20:21.334497Z",
     "iopub.status.idle": "2022-09-19T19:20:21.339290Z",
     "shell.execute_reply": "2022-09-19T19:20:21.338396Z"
    },
    "papermill": {
     "duration": 0.018635,
     "end_time": "2022-09-19T19:20:21.341091",
     "exception": false,
     "start_time": "2022-09-19T19:20:21.322456",
     "status": "completed"
    },
    "tags": []
   },
   "outputs": [
    {
     "name": "stdout",
     "output_type": "stream",
     "text": [
      "<visualization: Visualization uuid: 1e4a9496-bc14-4a10-8ef9-a436687d460e>\n"
     ]
    }
   ],
   "source": [
    "print(demux_view_obj)"
   ]
  },
  {
   "cell_type": "code",
   "execution_count": 10,
   "id": "f153c3dc",
   "metadata": {
    "ExecuteTime": {
     "end_time": "2022-06-28T19:47:56.704841Z",
     "start_time": "2022-06-28T19:47:56.611846Z"
    },
    "execution": {
     "iopub.execute_input": "2022-09-19T19:20:21.366221Z",
     "iopub.status.busy": "2022-09-19T19:20:21.365936Z",
     "iopub.status.idle": "2022-09-19T19:20:21.380618Z",
     "shell.execute_reply": "2022-09-19T19:20:21.380077Z"
    },
    "papermill": {
     "duration": 0.029272,
     "end_time": "2022-09-19T19:20:21.382544",
     "exception": false,
     "start_time": "2022-09-19T19:20:21.353272",
     "status": "completed"
    },
    "tags": []
   },
   "outputs": [
    {
     "data": {
      "text/html": [
       "<div><img onload=\"(function(div, url){\n",
       "if (typeof require !== 'undefined') {\n",
       "    var baseURL = require.toUrl('').split('/').slice(0, -2).join('/');\n",
       "} else {\n",
       "    var baseURL = JSON.parse(\n",
       "        document.getElementById('jupyter-config-data').innerHTML\n",
       "    ).baseUrl.slice(0, -1);\n",
       "}\n",
       "url = baseURL + url;\n",
       "fetch(url).then(function(res) {\n",
       "    if (res.status === 404) {\n",
       "        div.innerHTML = 'Install QIIME 2 Jupyter extension with:<br />' +\n",
       "                        '<code>jupyter serverextension enable --py qiime2' +\n",
       "                        ' --sys-prefix</code><br />then restart your server.' +\n",
       "                        '<br /><br />(Interactive output not available on ' +\n",
       "                        'static notebook viewer services like nbviewer.)';\n",
       "    } else if (res.status === 409) {\n",
       "        div.innerHTML = 'Visualization no longer in scope. Re-run this cell' +\n",
       "                        ' to see the visualization.';\n",
       "    } else if (res.ok) {\n",
       "        url = res.url;\n",
       "        div.innerHTML = '<iframe src=\\'' + url + '\\' style=\\'' +\n",
       "                        'width: 100%; height: 700px; border: 0;\\'>' +\n",
       "                        '</iframe><hr />Open in a: <a href=\\'' + url + '\\'' +\n",
       "                        ' target=\\'_blank\\'>new window</a>'\n",
       "    } else {\n",
       "        div.innerHTML = 'Something has gone wrong. Check notebook server for' +\n",
       "                        ' errors.';\n",
       "    }\n",
       "});\n",
       "})(this.parentElement, '/qiime2/redirect?location=/tmp/qiime2-archive-py04co56')\" src=\"data:image/gif;base64,R0lGODlhAQABAIAAAP///wAAACH5BAEAAAAALAAAAAABAAEAAAICRAEAOw==\" /></div>"
      ],
      "text/plain": [
       "<visualization: Visualization uuid: 1e4a9496-bc14-4a10-8ef9-a436687d460e>"
      ]
     },
     "execution_count": 10,
     "metadata": {},
     "output_type": "execute_result"
    }
   ],
   "source": [
    "# Render Visualization\n",
    "demux_view_obj"
   ]
  },
  {
   "cell_type": "markdown",
   "id": "e590f45d",
   "metadata": {
    "papermill": {
     "duration": 0.01225,
     "end_time": "2022-09-19T19:20:21.409576",
     "exception": false,
     "start_time": "2022-09-19T19:20:21.397326",
     "status": "completed"
    },
    "tags": []
   },
   "source": [
    "[cutadapt](https://docs.qiime2.org/2022.2/plugins/available/cutadapt/trim-paired/)\n",
    "\n",
    "We trim the forward primer and the reverse complement of the reverse primer from the forward reads. We trim the reverse primer and reverse complement of the forward primer from the reverse reads."
   ]
  },
  {
   "cell_type": "code",
   "execution_count": 11,
   "id": "9d653821",
   "metadata": {
    "execution": {
     "iopub.execute_input": "2022-09-19T19:20:21.435078Z",
     "iopub.status.busy": "2022-09-19T19:20:21.434834Z",
     "iopub.status.idle": "2022-09-19T19:20:21.442816Z",
     "shell.execute_reply": "2022-09-19T19:20:21.442261Z"
    },
    "papermill": {
     "duration": 0.023351,
     "end_time": "2022-09-19T19:20:21.445230",
     "exception": false,
     "start_time": "2022-09-19T19:20:21.421879",
     "status": "completed"
    },
    "tags": []
   },
   "outputs": [],
   "source": [
    "if trim:    \n",
    "    forward_primer = [trim['forward_primer']] # ['CCTACGGGRSGCAGCAG']\n",
    "    reverse_primer = [trim['reverse_primer']] # ['GGACTACHVGGGTWTCTAAT']\n",
    "    forward_reverse_complement = [str(Seq(forward_primer[0]).reverse_complement())]\n",
    "    reverse_reverse_complement = [str(Seq(reverse_primer[0]).reverse_complement())]\n",
    "\n",
    "    res = trim_paired(\n",
    "        demultiplexed_sequences=artifact,\n",
    "        front_f=forward_primer,\n",
    "        front_r=reverse_primer,\n",
    "        adapter_f=reverse_reverse_complement,\n",
    "        adapter_r=forward_reverse_complement,\n",
    "        cores=threads,\n",
    "        overlap=trim['overlap'],\n",
    "        indels=False,\n",
    "        match_read_wildcards=True,\n",
    "        match_adapter_wildcards=True,\n",
    "        error_rate=0.15,\n",
    "        discard_untrimmed=True,\n",
    "    ).trimmed_sequences\n",
    "\n",
    "    demux_file_trim = os.path.join(out_dir, 'demux-paired-trim.qza')\n",
    "    demux_view_trim = os.path.join(out_dir, 'demux-paired-trim.qzv')\n",
    "    \n",
    "    demux.visualizers.summarize(res).visualization\n",
    "    res.save(demux_file_trim)\n",
    "    Visualization.save(demux.visualizers.summarize(res).visualization, filepath=demux_view_trim)"
   ]
  }
 ],
 "metadata": {
  "celltoolbar": "Edit Metadata",
  "kernelspec": {
   "display_name": "Python 3 (ipykernel)",
   "language": "python",
   "name": "python3"
  },
  "language_info": {
   "codemirror_mode": {
    "name": "ipython",
    "version": 3
   },
   "file_extension": ".py",
   "mimetype": "text/x-python",
   "name": "python",
   "nbconvert_exporter": "python",
   "pygments_lexer": "ipython3",
   "version": "3.8.12"
  },
  "papermill": {
   "default_parameters": {},
   "duration": 10.35274,
   "end_time": "2022-09-19T19:20:22.380969",
   "environment_variables": {},
   "exception": null,
   "input_path": "nb-steps/step-01-prepare-data.ipynb",
   "output_path": "/home/lauro/nupeb/rede-micro/redemicro-miliane-nutri/experiments/miliane-CxAC/nb-executed-steps/step-01-prepare-data-miliane-CxAC.ipynb",
   "parameters": {
    "base_dir": "/home/lauro/nupeb/rede-micro/redemicro-miliane-nutri",
    "class_col": "group-id",
    "classifier_file": "/home/lauro/nupeb/dados_brutos_rede_genoma/16S_classifiers_qiime2/silva-138-99-nb-classifier.qza",
    "experiment_name": "miliane-CxAC",
    "manifest_file": "/home/lauro/nupeb/rede-micro/redemicro-miliane-nutri/data/raw/manifest/miliane-manifest-CxAC.csv",
    "metadata_file": "/home/lauro/nupeb/rede-micro/redemicro-miliane-nutri/data/raw/metadata/miliane-metadata-CxAC.tsv",
    "overlap": 12,
    "phred": 20,
    "replace_files": false,
    "threads": 6,
    "trunc_f": 0,
    "trunc_r": 0
   },
   "start_time": "2022-09-19T19:20:12.028229",
   "version": "2.3.4"
  },
  "toc-autonumbering": false,
  "toc-showcode": false,
  "toc-showmarkdowntxt": false
 },
 "nbformat": 4,
 "nbformat_minor": 5
}