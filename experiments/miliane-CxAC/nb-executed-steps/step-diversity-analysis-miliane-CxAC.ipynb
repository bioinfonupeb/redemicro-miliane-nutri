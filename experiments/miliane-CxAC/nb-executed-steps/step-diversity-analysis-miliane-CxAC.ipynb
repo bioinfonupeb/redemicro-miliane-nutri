{
 "cells": [
  {
   "cell_type": "markdown",
   "id": "15bcfa06",
   "metadata": {
    "papermill": {
     "duration": 0.025957,
     "end_time": "2022-09-29T21:24:55.555586",
     "exception": false,
     "start_time": "2022-09-29T21:24:55.529629",
     "status": "completed"
    },
    "tags": []
   },
   "source": [
    " \n",
    "# Alpha and Beta Diversity\n",
    "\n",
    "Different higher-level measures are often used to describe the microbiome in a sample. These do not provide information on changes in the abundance of specific taxa but allow us to access a broader change or difference in the composition of microorganisms. Alpha and beta diversity are examples of such measures.\n",
    "\n",
    "Different measures exist to estimate diversity within a single sample, jointly called alpha diversity. The different measures reflect the richness (number) or distribution (evenness) of a microbial sample or aim to reflect a combination of both properties.\n",
    "\n",
    "Rarefaction curves are often used when calculating alpha diversity indices because increasing numbers of sequenced taxa allow increasingly accurate estimates of total population diversity. Rarefaction curves can therefore be used to estimate the full sample richness, as compared to the observed sample richness.\n",
    "\n",
    "While alpha diversity is a measure of microbiome diversity applicable to a single sample, beta diversity is a measure of the similarity or dissimilarity of two communities. As for alpha diversity, many indices exist, each reflecting different aspects of community heterogeneity. Key differences relate to how the indices value variation in rare species if they consider presence/absence only or incorporate abundance, and how they interpret shared absence. Bray-Curtis dissimilarity is a popular measure that considers both size (overall abundance per sample) and shape (abundance of each taxon) of the communities (Bray, 1957). Beta diversity is an essential measure for many popular statistical methods in ecology, such as ordination-based methods, and is widely used for studying the association between environmental variables and microbial composition.\n",
    "\n",
    "In summary, alpha diversity measures can be seen as a summary statistic of a single population (within-sample diversity), while beta diversity measures are estimates of similarity or dissimilarity between populations (between samples).\n",
    "\n",
    "**Source**: (https://biomcare.com/info/key-terms-in-microbiome-projects/)"
   ]
  },
  {
   "cell_type": "markdown",
   "id": "0e7f2330",
   "metadata": {
    "ExecuteTime": {
     "end_time": "2022-09-22T19:36:33.828188Z",
     "start_time": "2022-09-22T19:36:33.817323Z"
    },
    "papermill": {
     "duration": 0.016158,
     "end_time": "2022-09-29T21:24:55.588831",
     "exception": false,
     "start_time": "2022-09-29T21:24:55.572673",
     "status": "completed"
    },
    "tags": []
   },
   "source": [
    "### STEP : Diversity Analysis\n",
    "\n",
    "Using QIIME2 to create diversity analisys graphs and calculations.\n",
    "\n",
    "- [QIIME2 Workflow Overview](https://docs.qiime2.org/2022.8/tutorials/overview/)\n",
    "\n",
    "\n",
    "#### Methods\n",
    "- [diversity](https://docs.qiime2.org/2022.8/plugins/available/diversity/)\n",
    "- [diversity alpha](https://docs.qiime2.org/2022.8/plugins/available/diversity/alpha/)\n",
    "- [diversity alpha_phylogenetic](https://docs.qiime2.org/2022.8/plugins/available/diversity/alpha-phylogenetic/)\n",
    "- [diversity beta](https://docs.qiime2.org/2022.8/plugins/available/diversity/beta/)\n",
    "- [diversity core_metrics](https://docs.qiime2.org/2022.8/plugins/available/diversity/core-metrics/)\n",
    "- [diversity alpha_group_significance](https://docs.qiime2.org/2022.8/plugins/available/diversity/alpha-group-significance/)\n",
    "- [diversity beta_group_significance](https://docs.qiime2.org/2022.8/plugins/available/diversity/beta-group-significance/)\n",
    "- [feature_table core_features](https://docs.qiime2.org/2022.8/plugins/available/feature-table/core-features/)\n",
    "- [feature_table summarize](https://docs.qiime2.org/2022.8/plugins/available/feature-table/summarize/)\n",
    "- [taxa filter-table](https://docs.qiime2.org/2022.8/plugins/available/taxa/filter-table/)\n",
    "- [taxa collapse](https://docs.qiime2.org/2022.8/plugins/available/taxa/collapse/)"
   ]
  },
  {
   "cell_type": "markdown",
   "id": "843debbf",
   "metadata": {
    "papermill": {
     "duration": 0.015341,
     "end_time": "2022-09-29T21:24:55.619801",
     "exception": false,
     "start_time": "2022-09-29T21:24:55.604460",
     "status": "completed"
    },
    "tags": []
   },
   "source": [
    "## Setup and settings"
   ]
  },
  {
   "cell_type": "code",
   "execution_count": 1,
   "id": "965e28e5",
   "metadata": {
    "ExecuteTime": {
     "end_time": "2022-09-29T20:54:14.786765Z",
     "start_time": "2022-09-29T20:54:08.286473Z"
    },
    "execution": {
     "iopub.execute_input": "2022-09-29T21:24:55.651386Z",
     "iopub.status.busy": "2022-09-29T21:24:55.651085Z",
     "iopub.status.idle": "2022-09-29T21:25:01.795709Z",
     "shell.execute_reply": "2022-09-29T21:25:01.795193Z"
    },
    "papermill": {
     "duration": 6.163883,
     "end_time": "2022-09-29T21:25:01.798979",
     "exception": false,
     "start_time": "2022-09-29T21:24:55.635096",
     "status": "completed"
    },
    "tags": []
   },
   "outputs": [],
   "source": [
    "# Importing packages\n",
    "import os\n",
    "import pandas as pd\n",
    "from qiime2 import Artifact\n",
    "from qiime2 import Visualization\n",
    "from qiime2 import Metadata\n",
    "\n",
    "from qiime2.plugins.phylogeny.pipelines import align_to_tree_mafft_fasttree\n",
    "\n",
    "from qiime2.plugins.diversity.pipelines import alpha\n",
    "from qiime2.plugins.diversity.pipelines import beta\n",
    "from qiime2.plugins.diversity.pipelines import core_metrics\n",
    "from qiime2.plugins.diversity.pipelines import alpha_phylogenetic\n",
    "\n",
    "from qiime2.plugins.diversity.visualizers import alpha_group_significance\n",
    "from qiime2.plugins.diversity.visualizers import beta_group_significance\n",
    "from qiime2.plugins.diversity.visualizers import alpha_correlation\n",
    "from qiime2.plugins.diversity.visualizers import beta_rarefaction\n",
    "\n",
    "from qiime2.plugins.taxa.methods import filter_table\n",
    "from qiime2.plugins.taxa.methods import collapse\n",
    "\n",
    "from qiime2.plugins.feature_table.visualizers import tabulate_seqs\n",
    "from qiime2.plugins.feature_table.visualizers import summarize\n",
    "from qiime2.plugins.feature_table.visualizers import core_features\n",
    "\n",
    "from qiime2.plugins.alignment.methods import mafft\n",
    "\n",
    "\n",
    "import matplotlib.pyplot as plt\n",
    "\n",
    "from utils import *\n",
    "\n",
    "%matplotlib inline"
   ]
  },
  {
   "cell_type": "markdown",
   "id": "530ceb60",
   "metadata": {
    "papermill": {
     "duration": 0.016615,
     "end_time": "2022-09-29T21:25:01.839456",
     "exception": false,
     "start_time": "2022-09-29T21:25:01.822841",
     "status": "completed"
    },
    "tags": []
   },
   "source": [
    "### Receiving the parameters\n",
    "\n",
    "The following cell can receive parameters using the [papermill](https://papermill.readthedocs.io/en/latest/) tool."
   ]
  },
  {
   "cell_type": "code",
   "execution_count": 2,
   "id": "18d874ea",
   "metadata": {
    "ExecuteTime": {
     "end_time": "2022-09-29T20:54:14.793270Z",
     "start_time": "2022-09-29T20:54:14.789367Z"
    },
    "execution": {
     "iopub.execute_input": "2022-09-29T21:25:01.873217Z",
     "iopub.status.busy": "2022-09-29T21:25:01.873041Z",
     "iopub.status.idle": "2022-09-29T21:25:01.876356Z",
     "shell.execute_reply": "2022-09-29T21:25:01.875749Z"
    },
    "papermill": {
     "duration": 0.023272,
     "end_time": "2022-09-29T21:25:01.879063",
     "exception": false,
     "start_time": "2022-09-29T21:25:01.855791",
     "status": "completed"
    },
    "tags": [
     "parameters"
    ]
   },
   "outputs": [],
   "source": [
    "metadata_file = '/home/lauro/nupeb/rede-micro/redemicro-miliane-nutri/data/raw/metadata/miliane-metadata-CxAC.tsv'\n",
    "base_dir = os.path.join('/', 'home', 'lauro', 'nupeb', 'rede-micro', 'redemicro-miliane-nutri')\n",
    "experiment_name = 'miliane-CxAC-trim'\n",
    "class_col = 'group-id'\n",
    "replace_files = False"
   ]
  },
  {
   "cell_type": "code",
   "execution_count": 3,
   "id": "2c41c0bf",
   "metadata": {
    "execution": {
     "iopub.execute_input": "2022-09-29T21:25:01.922126Z",
     "iopub.status.busy": "2022-09-29T21:25:01.921970Z",
     "iopub.status.idle": "2022-09-29T21:25:01.925489Z",
     "shell.execute_reply": "2022-09-29T21:25:01.925008Z"
    },
    "papermill": {
     "duration": 0.030845,
     "end_time": "2022-09-29T21:25:01.928625",
     "exception": false,
     "start_time": "2022-09-29T21:25:01.897780",
     "status": "completed"
    },
    "tags": [
     "injected-parameters"
    ]
   },
   "outputs": [],
   "source": [
    "# Parameters\n",
    "experiment_name = \"miliane-CxAC\"\n",
    "base_dir = \"/home/lauro/nupeb/rede-micro/redemicro-miliane-nutri\"\n",
    "manifest_file = \"/home/lauro/nupeb/rede-micro/redemicro-miliane-nutri/data/raw/manifest/miliane-manifest-CxAC.csv\"\n",
    "metadata_file = \"/home/lauro/nupeb/rede-micro/redemicro-miliane-nutri/data/raw/metadata/miliane-metadata-CxAC.tsv\"\n",
    "class_col = \"group-id\"\n",
    "classifier_file = \"/home/lauro/nupeb/dados_brutos_rede_genoma/16S_classifiers_qiime2/silva-138-99-nb-classifier.qza\"\n",
    "replace_files = False\n",
    "phred = 20\n",
    "trunc_f = 0\n",
    "trunc_r = 0\n",
    "overlap = 12\n",
    "threads = 6\n"
   ]
  },
  {
   "cell_type": "code",
   "execution_count": 4,
   "id": "f38617d9",
   "metadata": {
    "ExecuteTime": {
     "end_time": "2022-09-29T20:54:14.804575Z",
     "start_time": "2022-09-29T20:54:14.794927Z"
    },
    "execution": {
     "iopub.execute_input": "2022-09-29T21:25:02.005827Z",
     "iopub.status.busy": "2022-09-29T21:25:02.005565Z",
     "iopub.status.idle": "2022-09-29T21:25:02.010116Z",
     "shell.execute_reply": "2022-09-29T21:25:02.009333Z"
    },
    "papermill": {
     "duration": 0.044081,
     "end_time": "2022-09-29T21:25:02.013007",
     "exception": false,
     "start_time": "2022-09-29T21:25:01.968926",
     "status": "completed"
    },
    "tags": []
   },
   "outputs": [],
   "source": [
    "experiment_folder = os.path.abspath(os.path.join(base_dir, 'experiments', experiment_name))\n",
    "img_folder = os.path.abspath(os.path.join(experiment_folder, 'imgs'))"
   ]
  },
  {
   "cell_type": "markdown",
   "id": "ea9b90fb",
   "metadata": {
    "papermill": {
     "duration": 0.016878,
     "end_time": "2022-09-29T21:25:02.050358",
     "exception": false,
     "start_time": "2022-09-29T21:25:02.033480",
     "status": "completed"
    },
    "tags": []
   },
   "source": [
    "### Defining names, paths and flags"
   ]
  },
  {
   "cell_type": "code",
   "execution_count": 5,
   "id": "45727eef",
   "metadata": {
    "ExecuteTime": {
     "end_time": "2022-09-29T20:54:14.816686Z",
     "start_time": "2022-09-29T20:54:14.806238Z"
    },
    "execution": {
     "iopub.execute_input": "2022-09-29T21:25:02.085921Z",
     "iopub.status.busy": "2022-09-29T21:25:02.085628Z",
     "iopub.status.idle": "2022-09-29T21:25:02.096368Z",
     "shell.execute_reply": "2022-09-29T21:25:02.095316Z"
    },
    "papermill": {
     "duration": 0.030151,
     "end_time": "2022-09-29T21:25:02.098151",
     "exception": false,
     "start_time": "2022-09-29T21:25:02.068000",
     "status": "completed"
    },
    "tags": []
   },
   "outputs": [],
   "source": [
    "# QIIME2 Artifacts folder\n",
    "qiime_folder = os.path.join(experiment_folder, 'qiime-artifacts')\n",
    "\n",
    "# Input - DADA2 Artifacts\n",
    "dada2_tabs_path = os.path.join(qiime_folder, 'dada2-tabs.qza')\n",
    "dada2_reps_path = os.path.join(qiime_folder, 'dada2-reps.qza')\n",
    "dada2_stat_path = os.path.join(qiime_folder, 'dada2-stat.qza')\n",
    "\n",
    "# Input - Taxonaomic Artifacts\n",
    "taxonomy_path = os.path.join(qiime_folder, 'metatax.qza')\n",
    "\n",
    "# Output -Diversity Artifacts\n",
    "alpha_diversity_path = os.path.join(qiime_folder, 'alpha-diversity.qza')\n",
    "alpha_diversity_view_path = os.path.join(qiime_folder, 'alpha-diversity.qzv')\n",
    "beta_diversity_path = os.path.join(qiime_folder, 'beta-diversity.qza')\n",
    "beta_diversity_view_path = os.path.join(qiime_folder, 'beta-diversity.qzv')\n",
    "\n",
    "dada2_tabs_view = os.path.join(qiime_folder, 'dada2-tabs.qzv')\n",
    "dada2_reps_view = os.path.join(qiime_folder, 'dada2-reps.qzv')\n",
    "dada2_core_view = os.path.join(qiime_folder, 'dada2-core.qzv')\n",
    "\n",
    "# Flag - Load or create files\n",
    "need_tax = not (os.path.isfile(alpha_diversity_path)) or replace_files\n",
    "need_view = not (os.path.isfile(alpha_diversity_view_path)) or replace_files"
   ]
  },
  {
   "cell_type": "code",
   "execution_count": 6,
   "id": "601ae263",
   "metadata": {
    "ExecuteTime": {
     "end_time": "2022-09-29T20:54:14.829117Z",
     "start_time": "2022-09-29T20:54:14.818272Z"
    },
    "execution": {
     "iopub.execute_input": "2022-09-29T21:25:02.135835Z",
     "iopub.status.busy": "2022-09-29T21:25:02.135581Z",
     "iopub.status.idle": "2022-09-29T21:25:02.144022Z",
     "shell.execute_reply": "2022-09-29T21:25:02.143153Z"
    },
    "papermill": {
     "duration": 0.027871,
     "end_time": "2022-09-29T21:25:02.145701",
     "exception": false,
     "start_time": "2022-09-29T21:25:02.117830",
     "status": "completed"
    },
    "tags": []
   },
   "outputs": [],
   "source": [
    "def filter_and_collapse(tab, seqs, tax, meta, lvl, exclude=True, exclude_list='uncultured,unidentified,metagenome'):\n",
    "    from qiime2.plugins.taxa.methods import collapse\n",
    "    from qiime2.plugins.taxa.methods import filter_table\n",
    "    from qiime2.plugins.feature_table.methods import filter_seqs\n",
    "    from qiime2.plugins.feature_table.visualizers import summarize\n",
    "    \n",
    "    to_include = ('d', 'p', 'c', 'o', 'f', 'g', 's')[lvl-1]\n",
    "    to_include += '__'\n",
    "    to_exclude = exclude_list if exclude else None\n",
    "    \n",
    "    filtered_tabs = filter_table(\n",
    "        table=tab, \n",
    "        taxonomy=tax,\n",
    "        include=to_include,\n",
    "        exclude=to_exclude,\n",
    "        mode='contains').filtered_table\n",
    "    \n",
    "    filtered_seqs = filter_seqs(\n",
    "        data = seqs,\n",
    "        table = filtered_tabs,\n",
    "    ).filtered_data\n",
    "    \n",
    "    collapsed_table = collapse(table=filtered_tabs, taxonomy=tax, level=lvl).collapsed_table\n",
    "    collapsed_table_view = summarize(table=collapsed_table, sample_metadata=meta).visualization\n",
    "    \n",
    "    return collapsed_table, collapsed_table_view, filtered_seqs"
   ]
  },
  {
   "cell_type": "markdown",
   "id": "0999a1b2",
   "metadata": {
    "papermill": {
     "duration": 0.016715,
     "end_time": "2022-09-29T21:25:02.180544",
     "exception": false,
     "start_time": "2022-09-29T21:25:02.163829",
     "status": "completed"
    },
    "tags": []
   },
   "source": [
    "## Step execution\n",
    "\n",
    "### Load input files\n",
    "\n",
    "This Step import the QIIME2 `FeatureTable[Frequency]` Artifact and the `Metadata` file."
   ]
  },
  {
   "cell_type": "code",
   "execution_count": 7,
   "id": "8f299d1a",
   "metadata": {
    "ExecuteTime": {
     "end_time": "2022-09-29T20:54:15.559837Z",
     "start_time": "2022-09-29T20:54:14.830405Z"
    },
    "execution": {
     "iopub.execute_input": "2022-09-29T21:25:02.215301Z",
     "iopub.status.busy": "2022-09-29T21:25:02.215024Z",
     "iopub.status.idle": "2022-09-29T21:25:02.710173Z",
     "shell.execute_reply": "2022-09-29T21:25:02.709365Z"
    },
    "papermill": {
     "duration": 0.515685,
     "end_time": "2022-09-29T21:25:02.713009",
     "exception": false,
     "start_time": "2022-09-29T21:25:02.197324",
     "status": "completed"
    },
    "tags": []
   },
   "outputs": [],
   "source": [
    "#Load Metadata\n",
    "metadata_qa = Metadata.load(metadata_file)\n",
    "\n",
    "#Load FeatureTable[Frequency]\n",
    "tabs = Artifact.load(dada2_tabs_path)\n",
    "tabs_df = tabs.view(Metadata).to_dataframe().T\n",
    "\n",
    "# FeatureData[Sequence]\n",
    "reps = Artifact.load(dada2_reps_path)\n",
    "\n",
    "# FeatureData[Taxonomy]\n",
    "tax = Artifact.load(taxonomy_path)"
   ]
  },
  {
   "cell_type": "code",
   "execution_count": 8,
   "id": "c8dfe530",
   "metadata": {
    "ExecuteTime": {
     "end_time": "2022-09-29T20:54:15.564968Z",
     "start_time": "2022-09-29T20:54:15.561875Z"
    },
    "execution": {
     "iopub.execute_input": "2022-09-29T21:25:02.758273Z",
     "iopub.status.busy": "2022-09-29T21:25:02.757992Z",
     "iopub.status.idle": "2022-09-29T21:25:02.762002Z",
     "shell.execute_reply": "2022-09-29T21:25:02.761161Z"
    },
    "papermill": {
     "duration": 0.025108,
     "end_time": "2022-09-29T21:25:02.763998",
     "exception": false,
     "start_time": "2022-09-29T21:25:02.738890",
     "status": "completed"
    },
    "tags": []
   },
   "outputs": [],
   "source": [
    "# lvl = 7\n",
    "# exclude = True\n",
    "# tabs, collapsed_table_view, reps = filter_and_collapse(\n",
    "#                     tabs, reps, tax, metadata_qa, \n",
    "#                     lvl=lvl,\n",
    "#                     exclude=exclude, \n",
    "#                     exclude_list='uncultured,unidentified,metagenome')\n",
    "# collapsed_table_view"
   ]
  },
  {
   "cell_type": "code",
   "execution_count": 9,
   "id": "8b66a6e5",
   "metadata": {
    "ExecuteTime": {
     "end_time": "2022-09-29T20:54:20.434382Z",
     "start_time": "2022-09-29T20:54:15.567722Z"
    },
    "execution": {
     "iopub.execute_input": "2022-09-29T21:25:02.800531Z",
     "iopub.status.busy": "2022-09-29T21:25:02.800233Z",
     "iopub.status.idle": "2022-09-29T21:25:07.854857Z",
     "shell.execute_reply": "2022-09-29T21:25:07.854341Z"
    },
    "papermill": {
     "duration": 5.076527,
     "end_time": "2022-09-29T21:25:07.858126",
     "exception": false,
     "start_time": "2022-09-29T21:25:02.781599",
     "status": "completed"
    },
    "tags": []
   },
   "outputs": [
    {
     "data": {
      "text/plain": [
       "'/home/lauro/nupeb/rede-micro/redemicro-miliane-nutri/experiments/miliane-CxAC/qiime-artifacts/dada2-core.qzv'"
      ]
     },
     "execution_count": 9,
     "metadata": {},
     "output_type": "execute_result"
    },
    {
     "data": {
      "image/png": "[encoded data removed]",
      "text/plain": [
       "<Figure size 432x288 with 1 Axes>"
      ]
     },
     "metadata": {
      "needs_background": "light"
     },
     "output_type": "display_data"
    }
   ],
   "source": [
    "tabs_view = summarize(table=tabs, sample_metadata=metadata_qa).visualization\n",
    "tabs_view.save(dada2_tabs_view)\n",
    "reps_view = tabulate_seqs(data=reps).visualization\n",
    "reps_view.save(dada2_reps_view)\n",
    "core_view = core_features(table=tabs, min_fraction=.1, steps=10).visualization\n",
    "core_view.save(dada2_core_view)"
   ]
  },
  {
   "cell_type": "code",
   "execution_count": 10,
   "id": "b2bf36b8",
   "metadata": {
    "ExecuteTime": {
     "end_time": "2022-09-29T20:54:20.449299Z",
     "start_time": "2022-09-29T20:54:20.435814Z"
    },
    "execution": {
     "iopub.execute_input": "2022-09-29T21:25:07.900706Z",
     "iopub.status.busy": "2022-09-29T21:25:07.900489Z",
     "iopub.status.idle": "2022-09-29T21:25:07.916536Z",
     "shell.execute_reply": "2022-09-29T21:25:07.916072Z"
    },
    "papermill": {
     "duration": 0.036629,
     "end_time": "2022-09-29T21:25:07.918166",
     "exception": false,
     "start_time": "2022-09-29T21:25:07.881537",
     "status": "completed"
    },
    "tags": []
   },
   "outputs": [
    {
     "name": "stdout",
     "output_type": "stream",
     "text": [
      "['fcf863ba-2673-4b1f-a283-479b9df65de3/data/core-features-1.000.tsv']\n",
      "                          Feature ID      2%       9%      25%     50%  \\\n",
      "0   c688e3b1ada46ed57f5b7e7e0d56664f  400.74   567.83  3168.50  9079.5   \n",
      "1   fca5b1ccd94b107a3ddf3e99feaafb6f  812.32  1278.94  2834.25  5627.0   \n",
      "2   26fb6a43293a39fa4463bc35a69457b2  420.58   643.11  2381.00  3918.0   \n",
      "3   55b8f708d3561852ca20801e513b08a7  412.98   612.41   900.75  3566.5   \n",
      "4   ff6880f38ac8c1569873d503a3d53c2a  901.16  1384.72  1836.25  3381.0   \n",
      "5   bc798de4a9acd3ff7ba51c244523be14  361.44   401.48  1101.00  2853.0   \n",
      "6   a1bc173c37d38b7a95f6f464d62fa86e  348.68   729.06  1012.50  1532.5   \n",
      "7   60ad690613589cad95c200968df41bb5  227.00   304.00   454.25  1313.0   \n",
      "8   33be3de1f8ec58c58a1d87db108d913c  453.74   736.33   924.25  1263.0   \n",
      "9   bfbcddb34034c8e1327bc8e4a3817f73  445.62   731.29   847.75  1012.0   \n",
      "10  94da0800673da2590ace91fc6e62c80a   91.86   101.87   377.50   809.5   \n",
      "11  b6b804323b11530a7bb8c25d42de7c58  341.68   529.56   569.50   774.0   \n",
      "12  06376bd58e034461292535056d63710f   73.60   135.20   426.25   648.5   \n",
      "13  72e62b56bb188827c70b57b9b1abdc71  122.02   192.09   304.50   473.0   \n",
      "14  d54ba858dcfc687c0433becca93d891c   58.64    67.88   211.25   468.5   \n",
      "15  f91de93a2a6c016c964ba9583e72190c  121.56   158.52   288.00   366.0   \n",
      "16  191bca7ba3d98899bc0037f6a2b82f1b   77.88    80.96   160.00   238.5   \n",
      "17  b803764a3bf4c19193100cbe10778b1b   47.80    78.60   115.00   235.5   \n",
      "18  3aa324222f8ba93b3e7263588f586d1c   39.36    68.62   104.25   192.0   \n",
      "19  d87bf25a6ca7762903d692d567a10280   14.54    19.93    56.25   120.0   \n",
      "\n",
      "         75%       91%       98%  \n",
      "0   16106.00  26750.66  29727.48  \n",
      "1   12796.75  19988.69  21350.82  \n",
      "2    7309.50  10340.15  11968.70  \n",
      "3    7336.75  10128.06  13828.68  \n",
      "4    4071.50   6905.00   7059.00  \n",
      "5    4038.00   9130.39  10238.42  \n",
      "6    2903.00   5647.49   6840.22  \n",
      "7    2946.50   6544.14   8479.92  \n",
      "8    1858.25   3611.53   3652.34  \n",
      "9    2206.00   3507.63   4326.14  \n",
      "10   1114.50   1575.23   2439.94  \n",
      "11   1511.75   2805.77   3096.06  \n",
      "12   1110.00   3597.02   3752.56  \n",
      "13    670.00   1269.68   1476.04  \n",
      "14    580.25    736.29    912.62  \n",
      "15    636.25   1047.23   2219.94  \n",
      "16    486.25    585.74    950.72  \n",
      "17    746.75   1666.62   1945.36  \n",
      "18    406.25    520.61    567.58  \n",
      "19    196.25    250.53    291.34  \n"
     ]
    }
   ],
   "source": [
    "import zipfile\n",
    "from io import StringIO\n",
    "import pandas as pd\n",
    "with zipfile.ZipFile(dada2_core_view, 'r') as zip_ref:\n",
    "    names = [x for x in zip_ref.namelist() if x.endswith('1.000.tsv')]\n",
    "    print(names)\n",
    "    with zip_ref.open(names[0]) as myfile:\n",
    "        txt = str(myfile.read(), 'utf-8')\n",
    "        txt = StringIO(txt)\n",
    "        df = pd.read_csv(txt, sep='\\t')\n",
    "        print(df)   "
   ]
  },
  {
   "cell_type": "markdown",
   "id": "9f43843a",
   "metadata": {
    "ExecuteTime": {
     "end_time": "2022-09-22T22:48:07.523952Z",
     "start_time": "2022-09-22T22:48:07.517565Z"
    },
    "papermill": {
     "duration": 0.018199,
     "end_time": "2022-09-29T21:25:07.956284",
     "exception": false,
     "start_time": "2022-09-29T21:25:07.938085",
     "status": "completed"
    },
    "tags": []
   },
   "source": [
    "## Alpha diversity analysis\n",
    "\n",
    "#### Reference\n",
    "- [The Use and Types of Alpha-Diversity Metrics in Microbial NGS](https://www.cd-genomics.com/microbioseq/the-use-and-types-of-alpha-diversity-metrics-in-microbial-ngs.html)\n",
    "- [Alpha diversity metrics](http://scikit-bio.org/docs/0.2.0/generated/skbio.diversity.alpha.html)\n",
    "\n",
    "#### Methods\n",
    "- [diversity alpha](https://docs.qiime2.org/2022.8/plugins/available/diversity/alpha/): Computes a user-specified alpha diversity metric for all samples in a\n",
    "feature table.\n",
    "- [diversity alpha_phylogenetic](https://docs.qiime2.org/2022.8/plugins/available/diversity/alpha-phylogenetic/): Computes a user-specified phylogenetic alpha diversity metric for all\n",
    "samples in a feature table.\n",
    "- [diversity alpha_correlation](https://docs.qiime2.org/2022.8/plugins/available/diversity/alpha-correlation/): Determine whether numeric sample metadata columns are correlated with alpha diversity.\n",
    "- [diversity alpha_group_significance](https://docs.qiime2.org/2022.8/plugins/available/diversity/alpha-group-significance/): Visually and statistically compare groups of alpha diversity values."
   ]
  },
  {
   "cell_type": "markdown",
   "id": "606b9c75",
   "metadata": {
    "papermill": {
     "duration": 0.018353,
     "end_time": "2022-09-29T21:25:07.993031",
     "exception": false,
     "start_time": "2022-09-29T21:25:07.974678",
     "status": "completed"
    },
    "tags": []
   },
   "source": [
    "### Compute Alpha Diversity vectors\n",
    "- [diversity alpha](https://docs.qiime2.org/2022.8/plugins/available/diversity/alpha/): Computes a user-specified alpha diversity metric for all samples in a feature table.\n",
    "- [Alpha diversity metrics](http://scikit-bio.org/docs/0.2.0/generated/skbio.diversity.alpha.html)\n",
    " - Choices: ('ace', 'berger_parker_d', 'brillouin_d', 'chao1', 'chao1_ci', 'dominance', 'doubles', 'enspie', 'esty_ci', 'fisher_alpha', 'gini_index', 'goods_coverage', 'heip_e', 'kempton_taylor_q', 'lladser_pe', 'margalef', 'mcintosh_d', 'mcintosh_e', 'menhinick', 'michaelis_menten_fit', 'observed_features', 'osd', 'pielou_e', 'robbins', 'shannon', 'simpson', 'simpson_e', 'singles', 'strong')"
   ]
  },
  {
   "cell_type": "code",
   "execution_count": 11,
   "id": "556e5264",
   "metadata": {
    "ExecuteTime": {
     "end_time": "2022-09-29T20:54:20.790166Z",
     "start_time": "2022-09-29T20:54:20.451134Z"
    },
    "execution": {
     "iopub.execute_input": "2022-09-29T21:25:08.030989Z",
     "iopub.status.busy": "2022-09-29T21:25:08.030730Z",
     "iopub.status.idle": "2022-09-29T21:25:08.326144Z",
     "shell.execute_reply": "2022-09-29T21:25:08.325676Z"
    },
    "papermill": {
     "duration": 0.317406,
     "end_time": "2022-09-29T21:25:08.328954",
     "exception": false,
     "start_time": "2022-09-29T21:25:08.011548",
     "status": "completed"
    },
    "tags": []
   },
   "outputs": [
    {
     "name": "stdout",
     "output_type": "stream",
     "text": [
      "Calculating alpha diversty: chao1\n"
     ]
    },
    {
     "name": "stdout",
     "output_type": "stream",
     "text": [
      "Calculating alpha diversty: simpson\n",
      "Calculating alpha diversty: shannon\n",
      "Calculating alpha diversty: ace\n"
     ]
    },
    {
     "name": "stdout",
     "output_type": "stream",
     "text": [
      "Calculating alpha diversty: observed_features\n"
     ]
    }
   ],
   "source": [
    "metrics = ('chao1', 'simpson', 'shannon', 'ace', 'observed_features')\n",
    "alpha_diversities = dict()\n",
    "for metric in metrics:\n",
    "    print(f\"Calculating alpha diversty: {metric}\")\n",
    "    alpha_diversity = alpha(table=tabs, metric=metric).alpha_diversity\n",
    "    alpha_diversities[metric] = alpha_diversity"
   ]
  },
  {
   "cell_type": "markdown",
   "id": "184bcb7b",
   "metadata": {
    "papermill": {
     "duration": 0.019247,
     "end_time": "2022-09-29T21:25:08.371179",
     "exception": false,
     "start_time": "2022-09-29T21:25:08.351932",
     "status": "completed"
    },
    "tags": []
   },
   "source": [
    "### Create Phylogenetic inference\n",
    "\n",
    "- [alignment align_to_tree_mafft_fasttree](https://docs.qiime2.org/2022.8/plugins/available/phylogeny/align-to-tree-mafft-fasttree/): Build a phylogenetic tree using fasttree and mafft alignment\n",
    "\n",
    "This pipeline will start by creating a sequence alignment using MAFFT,\n",
    "after which any alignment columns that are phylogenetically uninformative\n",
    "or ambiguously aligned will be removed (masked). The resulting masked\n",
    "alignment will be used to infer a phylogenetic tree and then subsequently\n",
    "rooted at its midpoint. Output files from each step of the pipeline will be\n",
    "saved. This includes both the unmasked and masked MAFFT alignment from\n",
    "q2-alignment methods, and both the rooted and unrooted phylogenies from\n",
    "q2-phylogeny methods.\n",
    "\n",
    "\n",
    "Returns\n",
    "- alignment : FeatureData[AlignedSequence] : The aligned sequences.\n",
    "- masked_alignment : FeatureData[AlignedSequence] : The masked alignment.\n",
    "- tree : Phylogeny[Unrooted] : The unrooted phylogenetic tree.\n",
    "- rooted_tree : Phylogeny[Rooted] : The rooted phylogenetic tree."
   ]
  },
  {
   "cell_type": "code",
   "execution_count": 12,
   "id": "9c8cfe47",
   "metadata": {
    "ExecuteTime": {
     "end_time": "2022-09-29T20:54:35.139531Z",
     "start_time": "2022-09-29T20:54:20.792130Z"
    },
    "execution": {
     "iopub.execute_input": "2022-09-29T21:25:08.411138Z",
     "iopub.status.busy": "2022-09-29T21:25:08.410967Z",
     "iopub.status.idle": "2022-09-29T21:25:22.649924Z",
     "shell.execute_reply": "2022-09-29T21:25:22.649312Z"
    },
    "papermill": {
     "duration": 14.260768,
     "end_time": "2022-09-29T21:25:22.651448",
     "exception": false,
     "start_time": "2022-09-29T21:25:08.390680",
     "status": "completed"
    },
    "tags": []
   },
   "outputs": [
    {
     "name": "stdout",
     "output_type": "stream",
     "text": [
      "Running external command line application. This may print messages to stdout and/or stderr.\n",
      "The command being run is below. This command cannot be manually re-run as it will depend on temporary files that no longer exist.\n",
      "\n",
      "Command: mafft --preservecase --inputorder --thread 6 /tmp/qiime2-archive-ae1ijk1w/f1bb86d2-a57d-4a13-83c3-7ad42d6301b3/data/dna-sequences.fasta\n",
      "\n"
     ]
    },
    {
     "name": "stderr",
     "output_type": "stream",
     "text": [
      "inputfile = orig\n",
      "918 x 430 - 181 d\n",
      "nthread = 6\n",
      "nthreadpair = 6\n",
      "nthreadtb = 6\n",
      "ppenalty_ex = 0\n",
      "stacksize: 8192 kb\n",
      "generating a scoring matrix for nucleotide (dist=200) ... done\n",
      "Gap Penalty = -1.53, +0.00, +0.00\n",
      "\n",
      "\n",
      "\n",
      "Making a distance matrix ..\n",
      "\r",
      "    1 / 918 (thread    0)\r",
      "  101 / 918 (thread    5)\r",
      "  201 / 918 (thread    5)\r",
      "  301 / 918 (thread    1)\r",
      "  401 / 918 (thread    1)\r",
      "  501 / 918 (thread    4)\r",
      "  601 / 918 (thread    3)\r",
      "  701 / 918 (thread    3)\r",
      "  801 / 918 (thread    2)\r",
      "  901 / 918 (thread    5)\n",
      "done.\n",
      "\n",
      "Constructing a UPGMA tree (efffree=0) ... \n",
      "\r",
      "    0 / 918\r",
      "   10 / 918\r",
      "   20 / 918\r",
      "   30 / 918\r",
      "   40 / 918\r",
      "   50 / 918\r",
      "   60 / 918\r",
      "   70 / 918\r",
      "   80 / 918\r",
      "   90 / 918\r",
      "  100 / 918\r",
      "  110 / 918\r",
      "  120 / 918\r",
      "  130 / 918\r",
      "  140 / 918\r",
      "  150 / 918\r",
      "  160 / 918\r",
      "  170 / 918\r",
      "  180 / 918\r",
      "  190 / 918\r",
      "  200 / 918\r",
      "  210 / 918\r",
      "  220 / 918\r",
      "  230 / 918\r",
      "  240 / 918\r",
      "  250 / 918\r",
      "  260 / 918\r",
      "  270 / 918\r",
      "  280 / 918\r",
      "  290 / 918\r",
      "  300 / 918\r",
      "  310 / 918\r",
      "  320 / 918\r",
      "  330 / 918\r",
      "  340 / 918\r",
      "  350 / 918\r",
      "  360 / 918\r",
      "  370 / 918\r",
      "  380 / 918\r",
      "  390 / 918\r",
      "  400 / 918\r",
      "  410 / 918\r",
      "  420 / 918\r",
      "  430 / 918\r",
      "  440 / 918\r",
      "  450 / 918\r",
      "  460 / 918\r",
      "  470 / 918\r",
      "  480 / 918\r",
      "  490 / 918\r",
      "  500 / 918\r",
      "  510 / 918\r",
      "  520 / 918\r",
      "  530 / 918\r",
      "  540 / 918\r",
      "  550 / 918\r",
      "  560 / 918\r",
      "  570 / 918\r",
      "  580 / 918\r",
      "  590 / 918\r",
      "  600 / 918\r",
      "  610 / 918\r",
      "  620 / 918\r",
      "  630 / 918\r",
      "  640 / 918\r",
      "  650 / 918\r",
      "  660 / 918\r",
      "  670 / 918\r",
      "  680 / 918\r",
      "  690 / 918\r",
      "  700 / 918\r",
      "  710 / 918\r",
      "  720 / 918\r",
      "  730 / 918\r",
      "  740 / 918\r",
      "  750 / 918\r",
      "  760 / 918\r",
      "  770 / 918\r",
      "  780 / 918\r",
      "  790 / 918\r",
      "  800 / 918\r",
      "  810 / 918\r",
      "  820 / 918\r",
      "  830 / 918\r",
      "  840 / 918\r",
      "  850 / 918\r",
      "  860 / 918\r",
      "  870 / 918\r",
      "  880 / 918\r",
      "  890 / 918\r",
      "  900 / 918\r",
      "  910 / 918\n",
      "done.\n",
      "\n",
      "Progressive alignment 1/2... \n",
      "\r",
      "STEP     1 / 917 (thread    0) f\b\b\r",
      "STEP     2 / 917 (thread    2) f\b\b\r",
      "STEP     4 / 917 (thread    3) f\b\b\r",
      "STEP     5 / 917 (thread    4) f\b\b\r",
      "STEP     6 / 917 (thread    5) f\b\b\r",
      "STEP     7 / 917 (thread    3) f\b\b\r",
      "STEP     8 / 917 (thread    2) f\b\b\r",
      "STEP     3 / 917 (thread    1) f\b\b\r",
      "STEP     9 / 917 (thread    0) f\b\b\r",
      "STEP    10 / 917 (thread    4) f\b\b\r",
      "STEP    11 / 917 (thread    5) f\b\b\r",
      "STEP    12 / 917 (thread    3) f\b\b\r",
      "STEP    13 / 917 (thread    0) f\b\b\r",
      "STEP    14 / 917 (thread    2)\r",
      "STEP    15 / 917 (thread    3) f\b\b f\b\b\r",
      "STEP    16 / 917 (thread    0) f\b\b\r",
      "STEP    17 / 917 (thread    5) f\b\b\r",
      "STEP    18 / 917 (thread    0) f\b\b\r",
      "STEP    19 / 917 (thread    4) f\b\b\r",
      "STEP    20 / 917 (thread    3) f\b\b\r",
      "STEP    21 / 917 (thread    0) f\b\b\r",
      "STEP    22 / 917 (thread    5) f\b\b\r",
      "STEP    23 / 917 (thread    2) f\b\b\r",
      "STEP    24 / 917 (thread    0) f\b\b\r",
      "STEP    25 / 917 (thread    4) f\b\b\r",
      "STEP    26 / 917 (thread    3) f\b\b\r",
      "STEP    27 / 917 (thread    0) f\b\b\r",
      "STEP    28 / 917 (thread    5) f\b\b\r",
      "STEP    29 / 917 (thread    0) f\b\b\r",
      "STEP    30 / 917 (thread    2) f\b\b\r",
      "STEP    31 / 917 (thread    4) f\b\b\r",
      "STEP    32 / 917 (thread    1) f\b\b\r",
      "STEP    33 / 917 (thread    3) f\b\b\r",
      "STEP    34 / 917 (thread    0) f\b\b\r",
      "STEP    35 / 917 (thread    5) f\b\b\r",
      "STEP    36 / 917 (thread    0) f\b\b\r",
      "STEP    37 / 917 (thread    4) f\b\b\r",
      "STEP    38 / 917 (thread    2) f\b\b\r",
      "STEP    39 / 917 (thread    3) f\b\b\r",
      "STEP    40 / 917 (thread    0) f\b\b\r",
      "STEP    41 / 917 (thread    5) f\b\b\r",
      "STEP    42 / 917 (thread    1) f\b\b\r",
      "STEP    43 / 917 (thread    0) f\b\b\r",
      "STEP    44 / 917 (thread    3) f\b\b\r",
      "STEP    45 / 917 (thread    2) f\b\b\r",
      "STEP    46 / 917 (thread    4) f\b\b\r",
      "STEP    47 / 917 (thread    5) f\b\b\r",
      "STEP    48 / 917 (thread    1) f\b\b\r",
      "STEP    49 / 917 (thread    3) f\b\b\r",
      "STEP    50 / 917 (thread    0) f\b\b\r",
      "STEP    51 / 917 (thread    2) f\b\b\r",
      "STEP    52 / 917 (thread    4) f\b\b\r",
      "STEP    53 / 917 (thread    3) f\b\b\r",
      "STEP    54 / 917 (thread    1) f\b\b\r",
      "STEP    55 / 917 (thread    0) f\b\b\r",
      "STEP    56 / 917 (thread    5) f\b\b\r",
      "STEP    57 / 917 (thread    2) f\b\b\r",
      "STEP    58 / 917 (thread    3) f\b\b\r",
      "STEP    59 / 917 (thread    4) f\b\b\r",
      "STEP    60 / 917 (thread    1) f\b\b\r",
      "STEP    61 / 917 (thread    0) f\b\b\r",
      "STEP    62 / 917 (thread    2) f\b\b\r",
      "STEP    63 / 917 (thread    3) f\b\b\r",
      "STEP    64 / 917 (thread    5) f\b\b\r",
      "STEP    65 / 917 (thread    1) f\b\b\r",
      "STEP    66 / 917 (thread    3) f\b\b\r",
      "STEP    67 / 917 (thread    4) f\b\b\r",
      "STEP    68 / 917 (thread    5) f\b\b\r",
      "STEP    69 / 917 (thread    0) f\b\b\r",
      "STEP    70 / 917 (thread    3) f\b\b\r",
      "STEP    71 / 917 (thread    1) f\b\b\r",
      "STEP    72 / 917 (thread    0) f\b\b\r",
      "STEP    73 / 917 (thread    4) f\b\b\r",
      "STEP    74 / 917 (thread    3) f\b\b\r",
      "STEP    75 / 917 (thread    2) f\b\b\r",
      "STEP    76 / 917 (thread    5) f\b\b\r",
      "STEP    77 / 917 (thread    1) f\b\b\r",
      "STEP    78 / 917 (thread    0) f\b\b\r",
      "STEP    79 / 917 (thread    3) f\b\b\r",
      "STEP    80 / 917 (thread    0) f\b\b\r",
      "STEP    81 / 917 (thread    4) f\b\b\r",
      "STEP    82 / 917 (thread    2) f\b\b\r",
      "STEP    83 / 917 (thread    1) f\b\b\r",
      "STEP    84 / 917 (thread    5) f\b\b\r",
      "STEP    85 / 917 (thread    3) f\b\b\r",
      "STEP    86 / 917 (thread    0) f\b\b\r",
      "STEP    87 / 917 (thread    4) f\b\b\r",
      "STEP    88 / 917 (thread    2) f\b\b\r",
      "STEP    89 / 917 (thread    0) f\b\b\r",
      "STEP    90 / 917 (thread    1) f\b\b\r",
      "STEP    91 / 917 (thread    3) f\b\b\r",
      "STEP    92 / 917 (thread    5) f\b\b\r",
      "STEP    93 / 917 (thread    0) f\b\b\r",
      "STEP    94 / 917 (thread    4) f\b\b\r",
      "STEP    95 / 917 (thread    3) f\b\b\r",
      "STEP    96 / 917 (thread    2) f\b\b\r",
      "STEP    97 / 917 (thread    1) f\b\b\r",
      "STEP    98 / 917 (thread    5) f\b\b\r",
      "STEP    99 / 917 (thread    0) f\b\b\r",
      "STEP   100 / 917 (thread    3) f\b\b\r",
      "STEP   101 / 917 (thread    0) f\b\b\r",
      "STEP   102 / 917 (thread    2) f\b\b\r",
      "STEP   103 / 917 (thread    1) f\b\b\r",
      "STEP   104 / 917 (thread    5) f\b\b\r",
      "STEP   105 / 917 (thread    4) f\b\b\r",
      "STEP   106 / 917 (thread    3) f\b\b\r",
      "STEP   107 / 917 (thread    0) f\b\b\r",
      "STEP   108 / 917 (thread    2) f\b\b"
     ]
    },
    {
     "name": "stderr",
     "output_type": "stream",
     "text": [
      "\r",
      "STEP   109 / 917 (thread    1) f\b\b\r",
      "STEP   110 / 917 (thread    5)\r",
      "STEP   111 / 917 (thread    4) f\b\b f\b\b\r",
      "STEP   112 / 917 (thread    3) f\b\b\r",
      "STEP   113 / 917 (thread    0) f\b\b\r",
      "STEP   114 / 917 (thread    0) f\b\b\r",
      "STEP   115 / 917 (thread    2) f\b\b\r",
      "STEP   116 / 917 (thread    1) f\b\b\r",
      "STEP   117 / 917 (thread    3) f\b\b\r",
      "STEP   118 / 917 (thread    4) f\b\b\r",
      "STEP   119 / 917 (thread    5) f\b\b\r",
      "STEP   120 / 917 (thread    0) f\b\b\r",
      "STEP   121 / 917 (thread    3) f\b\b\r",
      "STEP   122 / 917 (thread    1) f\b\b\r",
      "STEP   123 / 917 (thread    2) f\b\b\r",
      "STEP   124 / 917 (thread    5) f\b\b\r",
      "STEP   125 / 917 (thread    4) f\b\b\r",
      "STEP   126 / 917 (thread    0) f\b\b\r",
      "STEP   127 / 917 (thread    3) f\b\b\r",
      "STEP   128 / 917 (thread    2) f\b\b\r",
      "STEP   129 / 917 (thread    1) f\b\b\r",
      "STEP   130 / 917 (thread    0) f\b\b\r",
      "STEP   131 / 917 (thread    5) f\b\b\r",
      "STEP   132 / 917 (thread    4) f\b\b\r",
      "STEP   133 / 917 (thread    3) f\b\b\r",
      "STEP   134 / 917 (thread    0) f\b\b\r",
      "STEP   136 / 917 (thread    1) f\b\b\r",
      "STEP   137 / 917 (thread    0) f\b\b\r",
      "STEP   135 / 917 (thread    2) f\b\b\r",
      "STEP   138 / 917 (thread    5) f\b\b\r",
      "STEP   139 / 917 (thread    4) f\b\b\r",
      "STEP   140 / 917 (thread    3) f\b\b\r",
      "STEP   141 / 917 (thread    0) f\b\b\r",
      "STEP   142 / 917 (thread    3) f\b\b\r",
      "STEP   143 / 917 (thread    1) f\b\b\r",
      "STEP   144 / 917 (thread    2) f\b\b\r",
      "STEP   145 / 917 (thread    4) f\b\b\r",
      "STEP   146 / 917 (thread    5) f\b\b\r",
      "STEP   147 / 917 (thread    0) f\b\b\r",
      "STEP   148 / 917 (thread    1) f\b\b\r",
      "STEP   149 / 917 (thread    0) f\b\b\r",
      "STEP   150 / 917 (thread    3) f\b\b\r",
      "STEP   151 / 917 (thread    2) f\b\b\r",
      "STEP   152 / 917 (thread    4) f\b\b\r",
      "STEP   153 / 917 (thread    0) f\b\b\r",
      "STEP   154 / 917 (thread    3) f\b\b\r",
      "STEP   155 / 917 (thread    1) f\b\b\r",
      "STEP   156 / 917 (thread    0) f\b\b\r",
      "STEP   157 / 917 (thread    4) f\b\b\r",
      "STEP   158 / 917 (thread    2) f\b\b\r",
      "STEP   159 / 917 (thread    5) f\b\b\r",
      "STEP   160 / 917 (thread    3) f\b\b\r",
      "STEP   161 / 917 (thread    1) f\b\b\r",
      "STEP   162 / 917 (thread    0) f\b\b\r",
      "STEP   163 / 917 (thread    4) f\b\b\r",
      "STEP   164 / 917 (thread    2) f\b\b\r",
      "STEP   165 / 917 (thread    5) f\b\b\r",
      "STEP   166 / 917 (thread    3) f\b\b\r",
      "STEP   167 / 917 (thread    0) f\b\b\r",
      "STEP   168 / 917 (thread    1) f\b\b\r",
      "STEP   169 / 917 (thread    4) f\b\b\r",
      "STEP   170 / 917 (thread    2) f\b\b\r",
      "STEP   171 / 917 (thread    3) f\b\b\r",
      "STEP   172 / 917 (thread    0) f\b\b\r",
      "STEP   173 / 917 (thread    5) f\b\b\r",
      "STEP   174 / 917 (thread    2) f\b\b\r",
      "STEP   175 / 917 (thread    3) f\b\b\r",
      "STEP   176 / 917 (thread    1) f\b\b\r",
      "STEP   177 / 917 (thread    4) f\b\b\r",
      "STEP   178 / 917 (thread    5) f\b\b\r",
      "STEP   179 / 917 (thread    0) f\b\b\r",
      "STEP   180 / 917 (thread    3) f\b\b\r",
      "STEP   181 / 917 (thread    2) f\b\b\r",
      "STEP   182 / 917 (thread    1) f\b\b\r",
      "STEP   183 / 917 (thread    3) f\b\b\r",
      "STEP   184 / 917 (thread    3) f\b\b\r",
      "STEP   185 / 917 (thread    2) f\b\b\r",
      "STEP   186 / 917 (thread    4) f\b\b\r",
      "STEP   187 / 917 (thread    0) f\b\b\r",
      "STEP   188 / 917 (thread    3) f\b\b\r",
      "STEP   191 / 917 (thread    4) f\b\b\r",
      "STEP   192 / 917 (thread    2) f\b\b\r",
      "STEP   190 / 917 (thread    1) f\b\b\r",
      "STEP   189 / 917 (thread    5) f\b\b\r",
      "STEP   193 / 917 (thread    0) f\b\b\r",
      "STEP   194 / 917 (thread    3) f\b\b\r",
      "STEP   195 / 917 (thread    4) f\b\b\r",
      "STEP   196 / 917 (thread    0) f\b\b\r",
      "STEP   197 / 917 (thread    2) f\b\b\r",
      "STEP   198 / 917 (thread    3) f\b\b\r",
      "STEP   199 / 917 (thread    4) f\b\b\r",
      "STEP   200 / 917 (thread    1) f\b\b\r",
      "STEP   201 / 917 (thread    5) f\b\b\r",
      "STEP   202 / 917 (thread    3) f\b\b\r",
      "STEP   203 / 917 (thread    4) f\b\b\r",
      "STEP   204 / 917 (thread    0) f\b\b\r",
      "STEP   205 / 917 (thread    3) f\b\b\r",
      "STEP   206 / 917 (thread    1) f\b\b\r",
      "STEP   207 / 917 (thread    5) f\b\b\r",
      "STEP   208 / 917 (thread    2) f\b\b\r",
      "STEP   209 / 917 (thread    4) f\b\b\r",
      "STEP   210 / 917 (thread    3) f\b\b\r",
      "STEP   211 / 917 (thread    0) f\b\b\r",
      "STEP   212 / 917 (thread    4) f\b\b\r",
      "STEP   213 / 917 (thread    1) f\b\b\r",
      "STEP   214 / 917 (thread    5) f\b\b\r",
      "STEP   215 / 917 (thread    3) f\b\b\r",
      "STEP   216 / 917 (thread    0) f\b\b\r",
      "STEP   217 / 917 (thread    4) f\b\b\r",
      "STEP   218 / 917 (thread    1) f\b\b\r",
      "STEP   219 / 917 (thread    3) f\b\b\r",
      "STEP   220 / 917 (thread    2) f\b\b\r",
      "STEP   221 / 917 (thread    5) f\b\b\r",
      "STEP   222 / 917 (thread    4) f\b\b\r",
      "STEP   223 / 917 (thread    0) f\b\b\r",
      "STEP   224 / 917 (thread    3) f\b\b\r",
      "STEP   225 / 917 (thread    1) f\b\b\r",
      "STEP   226 / 917 (thread    4) f\b\b\r",
      "STEP   227 / 917 (thread    3) f\b\b\r",
      "STEP   228 / 917 (thread    5) f\b\b\r",
      "STEP   229 / 917 (thread    0) f\b\b\r",
      "STEP   230 / 917 (thread    4) f\b\b\r",
      "STEP   232 / 917 (thread    1) f\b\b\r",
      "STEP   233 / 917 (thread    3) f\b\b\r",
      "STEP   234 / 917 (thread    4) f\b\b\r",
      "STEP   235 / 917 (thread    5) f\b\b\r",
      "STEP   236 / 917 (thread    0) f\b\b\r",
      "STEP   231 / 917 (thread    2) f\b\b\r",
      "STEP   238 / 917 (thread    3) f\b\b\r",
      "STEP   237 / 917 (thread    1) f\b\b\r",
      "STEP   239 / 917 (thread    3) f\b\b\r",
      "STEP   240 / 917 (thread    4) f\b\b\r",
      "STEP   241 / 917 (thread    2) f\b\b\r",
      "STEP   242 / 917 (thread    5) f\b\b\r",
      "STEP   243 / 917 (thread    0) f\b\b\r",
      "STEP   244 / 917 (thread    3) f\b\b\r",
      "STEP   245 / 917 (thread    4) f\b\b\r",
      "STEP   246 / 917 (thread    1) f\b\b\r",
      "STEP   247 / 917 (thread    5) f\b\b\r",
      "STEP   248 / 917 (thread    2) f\b\b\r",
      "STEP   249 / 917 (thread    0) f\b\b\r",
      "STEP   250 / 917 (thread    3) f\b\b\r",
      "STEP   251 / 917 (thread    4) f\b\b\r",
      "STEP   252 / 917 (thread    3) f\b\b\r",
      "STEP   253 / 917 (thread    5) f\b\b\r",
      "STEP   254 / 917 (thread    1) f\b\b\r",
      "STEP   255 / 917 (thread    0) f\b\b\r",
      "STEP   256 / 917 (thread    2) f\b\b\r",
      "STEP   257 / 917 (thread    4) f\b\b\r",
      "STEP   258 / 917 (thread    3) f\b\b\r",
      "STEP   259 / 917 (thread    1) f\b\b\r",
      "STEP   260 / 917 (thread    0) f\b\b\r",
      "STEP   261 / 917 (thread    2) f\b\b\r",
      "STEP   262 / 917 (thread    0)\r",
      "STEP   263 / 917 (thread    4) f\b\b f\b\b\r",
      "STEP   264 / 917 (thread    1) f\b\b\r",
      "STEP   265 / 917 (thread    3) f\b\b\r",
      "STEP   267 / 917 (thread    0) f\b\b\r",
      "STEP   266 / 917 (thread    5) f\b\b\r",
      "STEP   268 / 917 (thread    4) f\b\b\r",
      "STEP   269 / 917 (thread    3) f\b\b\r",
      "STEP   270 / 917 (thread    1) f\b\b\r",
      "STEP   271 / 917 (thread    2) f\b\b\r",
      "STEP   272 / 917 (thread    0) f\b\b\r",
      "STEP   273 / 917 (thread    4) f\b\b\r",
      "STEP   274 / 917 (thread    2) f\b\b\r",
      "STEP   275 / 917 (thread    5) f\b\b\r",
      "STEP   276 / 917 (thread    3) f\b\b\r",
      "STEP   277 / 917 (thread    4) f\b\b\r",
      "STEP   278 / 917 (thread    0) f\b\b\r",
      "STEP   279 / 917 (thread    1) f\b\b\r",
      "STEP   280 / 917 (thread    4) f\b\b\r",
      "STEP   281 / 917 (thread    2) f\b\b\r",
      "STEP   282 / 917 (thread    3) f\b\b\r",
      "STEP   283 / 917 (thread    5) f\b\b\r",
      "STEP   284 / 917 (thread    0) f\b\b\r",
      "STEP   285 / 917 (thread    4) f\b\b\r",
      "STEP   286 / 917 (thread    3) f\b\b\r",
      "STEP   287 / 917 (thread    3) f\b\b\r",
      "STEP   288 / 917 (thread    5) f\b\b\r",
      "STEP   289 / 917 (thread    4) f\b\b\r",
      "STEP   290 / 917 (thread    2) f\b\b\r",
      "STEP   291 / 917 (thread    1) f\b\b\r",
      "STEP   292 / 917 (thread    3) f\b\b\r",
      "STEP   293 / 917 (thread    0) f\b\b\r",
      "STEP   294 / 917 (thread    4) f\b\b\r",
      "STEP   295 / 917 (thread    5) f\b\b\r",
      "STEP   296 / 917 (thread    2) f\b\b\r",
      "STEP   297 / 917 (thread    1)\r",
      "STEP   298 / 917 (thread    3) f\b\b f\b\b\r",
      "STEP   299 / 917 (thread    0) f\b\b\r",
      "STEP   300 / 917 (thread    4) f\b\b\r",
      "STEP   301 / 917 (thread    5) f\b\b\r",
      "STEP   302 / 917 (thread    2) f\b\b\r",
      "STEP   303 / 917 (thread    3) f\b\b\r",
      "STEP   304 / 917 (thread    4) f\b\b\r",
      "STEP   305 / 917 (thread    3) f\b\b\r",
      "STEP   306 / 917 (thread    2) f\b\b\r",
      "STEP   307 / 917 (thread    5) f\b\b\r",
      "STEP   308 / 917 (thread    1) f\b\b\r",
      "STEP   309 / 917 (thread    0) f\b\b\r",
      "STEP   310 / 917 (thread    4) f\b\b\r",
      "STEP   311 / 917 (thread    2) f\b\b\r",
      "STEP   312 / 917 (thread    3) f\b\b\r",
      "STEP   314 / 917 (thread    5) f\b\b\r",
      "STEP   313 / 917 (thread    4) f\b\b\r",
      "STEP   315 / 917 (thread    0) f\b\b\r",
      "STEP   316 / 917 (thread    3) f\b\b\r",
      "STEP   317 / 917 (thread    1) f\b\b\r",
      "STEP   318 / 917 (thread    3) f\b\b\r",
      "STEP   319 / 917 (thread    4) f\b\b\r",
      "STEP   320 / 917 (thread    2) f\b\b\r",
      "STEP   321 / 917 (thread    3) f\b\b\r",
      "STEP   322 / 917 (thread    0) f\b\b\r",
      "STEP   323 / 917 (thread    1) f\b\b\r",
      "STEP   324 / 917 (thread    5) f\b\b\r",
      "STEP   325 / 917 (thread    4) f\b\b\r",
      "STEP   326 / 917 (thread    3) f\b\b\r",
      "STEP   327 / 917 (thread    2) f\b\b\r",
      "STEP   328 / 917 (thread    0) f\b\b\r",
      "STEP   329 / 917 (thread    3) f\b\b\r",
      "STEP   330 / 917 (thread    4) f\b\b\r",
      "STEP   331 / 917 (thread    1) f\b\b\r",
      "STEP   333 / 917 (thread    0) f\b\b\r",
      "STEP   334 / 917 (thread    3) f\b\b\r",
      "STEP   335 / 917 (thread    2) f\b\b\r",
      "STEP   332 / 917 (thread    5) f\b\b\r",
      "STEP   336 / 917 (thread    4) f\b\b\r",
      "STEP   337 / 917 (thread    0) f\b\b\r",
      "STEP   338 / 917 (thread    3) f\b\b\r",
      "STEP   339 / 917 (thread    1) f\b\b\r",
      "STEP   340 / 917 (thread    4) f\b\b\r",
      "STEP   341 / 917 (thread    3) f\b\b\r",
      "STEP   342 / 917 (thread    5) f\b\b\r",
      "STEP   343 / 917 (thread    2) f\b\b\r",
      "STEP   344 / 917 (thread    4) f\b\b\r",
      "STEP   345 / 917 (thread    0) f\b\b\r",
      "STEP   346 / 917 (thread    1) f\b\b\r",
      "STEP   347 / 917 (thread    3) f\b\b\r",
      "STEP   348 / 917 (thread    4) f\b\b\r",
      "STEP   349 / 917 (thread    1) f\b\b\r",
      "STEP   350 / 917 (thread    2) f\b\b\r",
      "STEP   351 / 917 (thread    0) f\b\b\r",
      "STEP   352 / 917 (thread    5) f\b\b\r",
      "STEP   353 / 917 (thread    1) f\b\b\r",
      "STEP   354 / 917 (thread    3) f\b\b\r",
      "STEP   355 / 917 (thread    4) f\b\b\r",
      "STEP   356 / 917 (thread    2) f\b\b\r",
      "STEP   357 / 917 (thread    0) f\b\b\r",
      "STEP   358 / 917 (thread    3) f\b\b\r",
      "STEP   359 / 917 (thread    5) f\b\b\r",
      "STEP   360 / 917 (thread    4) f\b\b\r",
      "STEP   361 / 917 (thread    1) f\b\b\r",
      "STEP   362 / 917 (thread    2) f\b\b\r",
      "STEP   363 / 917 (thread    3) f\b\b\r",
      "STEP   364 / 917 (thread    4) f\b\b\r",
      "STEP   365 / 917 (thread    0) f\b\b\r",
      "STEP   366 / 917 (thread    5) f\b\b\r",
      "STEP   367 / 917 (thread    3) f\b\b\r",
      "STEP   368 / 917 (thread    1) f\b\b\r",
      "STEP   369 / 917 (thread    4) f\b\b\r",
      "STEP   370 / 917 (thread    0) f\b\b\r",
      "STEP   371 / 917 (thread    5) f\b\b\r",
      "STEP   372 / 917 (thread    2) f\b\b\r",
      "STEP   373 / 917 (thread    3) f\b\b\r",
      "STEP   374 / 917 (thread    4) f\b\b\r",
      "STEP   375 / 917 (thread    1) f\b\b\r",
      "STEP   376 / 917 (thread    5) f\b\b\r",
      "STEP   377 / 917 (thread    0) f\b\b\r",
      "STEP   378 / 917 (thread    3) f\b\b\r",
      "STEP   379 / 917 (thread    4) f\b\b\r",
      "STEP   380 / 917 (thread    2) f\b\b\r",
      "STEP   381 / 917 (thread    4) f\b\b\r",
      "STEP   382 / 917 (thread    5) f\b\b\r",
      "STEP   383 / 917 (thread    1) f\b\b\r",
      "STEP   384 / 917 (thread    0) f\b\b\r",
      "STEP   385 / 917 (thread    3) f\b\b\r",
      "STEP   386 / 917 (thread    4) f\b\b\r",
      "STEP   387 / 917 (thread    0) f\b\b\r",
      "STEP   388 / 917 (thread    3) f\b\b\r",
      "STEP   389 / 917 (thread    2) f\b\b\r",
      "STEP   390 / 917 (thread    5) f\b\b\r",
      "STEP   391 / 917 (thread    1) f\b\b\r",
      "STEP   392 / 917 (thread    4) f\b\b\r",
      "STEP   393 / 917 (thread    0) f\b\b\r",
      "STEP   394 / 917 (thread    3) f\b\b\r",
      "STEP   395 / 917 (thread    2) f\b\b\r",
      "STEP   396 / 917 (thread    5) f\b\b\r",
      "STEP   397 / 917 (thread    1) f\b\b\r",
      "STEP   398 / 917 (thread    4) f\b\b\r",
      "STEP   399 / 917 (thread    3) f\b\b\r",
      "STEP   400 / 917 (thread    1) f\b\b\r",
      "STEP   401 / 917 (thread    0) f\b\b\r",
      "STEP   402 / 917 (thread    5) f\b\b\r",
      "STEP   403 / 917 (thread    2) f\b\b\r",
      "STEP   404 / 917 (thread    3) f\b\b\r",
      "STEP   405 / 917 (thread    4) f\b\b\r",
      "STEP   406 / 917 (thread    1) f\b\b\r",
      "STEP   407 / 917 (thread    3) f\b\b\r",
      "STEP   408 / 917 (thread    0) f\b\b\r",
      "STEP   410 / 917 (thread    2) f\b\b\r",
      "STEP   409 / 917 (thread    4) f\b\b\r",
      "STEP   411 / 917 (thread    1) f\b\b\r",
      "STEP   412 / 917 (thread    5) f\b\b\r",
      "STEP   413 / 917 (thread    3) f\b\b\r",
      "STEP   414 / 917 (thread    0) f\b\b\r",
      "STEP   415 / 917 (thread    4) f\b\b\r",
      "STEP   416 / 917 (thread    2) f\b\b\r",
      "STEP   417 / 917 (thread    3) f\b\b\r",
      "STEP   419 / 917 (thread    5) f\b\b\r",
      "STEP   418 / 917 (thread    1) f\b\b\r",
      "STEP   420 / 917 (thread    4) f\b\b\r",
      "STEP   421 / 917 (thread    3) f\b\b\r",
      "STEP   422 / 917 (thread    4) f\b\b\r",
      "STEP   423 / 917 (thread    0) f\b\b\r",
      "STEP   424 / 917 (thread    5) f\b\b\r",
      "STEP   425 / 917 (thread    2) f\b\b\r",
      "STEP   426 / 917 (thread    3) f\b\b\r",
      "STEP   427 / 917 (thread    1) f\b\b\r",
      "STEP   429 / 917 (thread    4) f\b\b\r",
      "STEP   430 / 917 (thread    0) f\b\b\r",
      "STEP   428 / 917 (thread    5) f\b\b\r",
      "STEP   431 / 917 (thread    1) f\b\b\r",
      "STEP   432 / 917 (thread    3) f\b\b\r",
      "STEP   433 / 917 (thread    2) f\b\b\r",
      "STEP   434 / 917 (thread    4) f\b\b\r",
      "STEP   435 / 917 (thread    0) f\b\b\r",
      "STEP   436 / 917 (thread    5) f\b\b\r",
      "STEP   437 / 917 (thread    1) f\b\b\r",
      "STEP   438 / 917 (thread    2) f\b\b\r",
      "STEP   439 / 917 (thread    3) f\b\b\r",
      "STEP   440 / 917 (thread    3) f\b\b\r",
      "STEP   441 / 917 (thread    0) f\b\b\r",
      "STEP   443 / 917 (thread    4) f\b\b\r",
      "STEP   444 / 917 (thread    5) f\b\b\r",
      "STEP   442 / 917 (thread    2) f\b\b\r",
      "STEP   445 / 917 (thread    1) f\b\b\r",
      "STEP   446 / 917 (thread    4) f\b\b\r",
      "STEP   447 / 917 (thread    3) f\b\b\r",
      "STEP   448 / 917 (thread    1) f\b\b\r",
      "STEP   450 / 917 (thread    2) f\b\b\r",
      "STEP   449 / 917 (thread    0) f\b\b\r",
      "STEP   451 / 917 (thread    5) f\b\b\r",
      "STEP   452 / 917 (thread    3) f\b\b\r",
      "STEP   453 / 917 (thread    4) f\b\b\r",
      "STEP   454 / 917 (thread    3) f\b\b\r",
      "STEP   455 / 917 (thread    0) f\b\b\r",
      "STEP   456 / 917 (thread    5) f\b\b\r",
      "STEP   457 / 917 (thread    1) f\b\b\r",
      "STEP   458 / 917 (thread    2) f\b\b\r",
      "STEP   459 / 917 (thread    4) f\b\b\r",
      "STEP   461 / 917 (thread    3) f\b\b\r",
      "STEP   462 / 917 (thread    5) f\b\b\r",
      "STEP   463 / 917 (thread    0) f\b\b\r",
      "STEP   460 / 917 (thread    2) f\b\b\r",
      "STEP   464 / 917 (thread    1) f\b\b\r",
      "STEP   465 / 917 (thread    3) f\b\b\r",
      "STEP   466 / 917 (thread    4) f\b\b\r",
      "STEP   467 / 917 (thread    1) f\b\b\r",
      "STEP   469 / 917 (thread    5) f\b\b\r",
      "STEP   468 / 917 (thread    0) f\b\b\r",
      "STEP   470 / 917 (thread    2) f\b\b\r",
      "STEP   471 / 917 (thread    3) f\b\b\r",
      "STEP   472 / 917 (thread    4) f\b\b\r",
      "STEP   473 / 917 (thread    1) f\b\b\r",
      "STEP   474 / 917 (thread    5) f\b\b\r",
      "STEP   475 / 917 (thread    0) f\b\b\r",
      "STEP   476 / 917 (thread    3) f\b\b\r",
      "STEP   477 / 917 (thread    4) f\b\b\r",
      "STEP   478 / 917 (thread    2) f\b\b\r",
      "STEP   479 / 917 (thread    1) f\b\b\r",
      "STEP   480 / 917 (thread    3) f\b\b\r",
      "STEP   481 / 917 (thread    5) f\b\b\r",
      "STEP   482 / 917 (thread    0) f\b\b\r",
      "STEP   483 / 917 (thread    4) f\b\b\r",
      "STEP   485 / 917 (thread    3) f\b\b\r",
      "STEP   486 / 917 (thread    0) f\b\b\r",
      "STEP   484 / 917 (thread    2) f\b\b\r",
      "STEP   487 / 917 (thread    4) f\b\b\r",
      "STEP   488 / 917 (thread    5) f\b\b\r",
      "STEP   490 / 917 (thread    0) f\b\b\r",
      "STEP   491 / 917 (thread    3) f\b\b\r",
      "STEP   492 / 917 (thread    2) f\b\b\r",
      "STEP   489 / 917 (thread    1) f\b\b\r",
      "STEP   493 / 917 (thread    0) f\b\b\r",
      "STEP   494 / 917 (thread    5) f\b\b\r",
      "STEP   495 / 917 (thread    4) f\b\b\r",
      "STEP   496 / 917 (thread    3) f\b\b\r",
      "STEP   497 / 917 (thread    2) f\b\b\r",
      "STEP   498 / 917 (thread    1) f\b\b\r",
      "STEP   499 / 917 (thread    0) f\b\b\r",
      "STEP   500 / 917 (thread    5) f\b\b\r",
      "STEP   501 / 917 (thread    4) f\b\b\r",
      "STEP   601 / 917 (thread    0) f\b\b\r",
      "STEP   701 / 917 (thread    2) f\b\b"
     ]
    },
    {
     "name": "stderr",
     "output_type": "stream",
     "text": [
      "\n",
      "Reallocating..done. *alloclen = 1868\n",
      "\r",
      "STEP   801 / 917 (thread    4) f\b\b\r",
      "STEP   901 / 917 (thread    4) f\b\b"
     ]
    },
    {
     "name": "stderr",
     "output_type": "stream",
     "text": [
      "\n",
      "done.\n",
      "\n",
      "Making a distance matrix from msa.. \n",
      "\r",
      "    0 / 918 (thread    0)\r",
      "  100 / 918 (thread    2)\r",
      "  200 / 918 (thread    4)\r",
      "  300 / 918 (thread    1)\r",
      "  400 / 918 (thread    3)\r",
      "  500 / 918 (thread    1)\r",
      "  600 / 918 (thread    1)\r",
      "  700 / 918 (thread    2)\r",
      "  800 / 918 (thread    4)\r",
      "  900 / 918 (thread    0)\n",
      "done.\n",
      "\n",
      "Constructing a UPGMA tree (efffree=1) ... "
     ]
    },
    {
     "name": "stderr",
     "output_type": "stream",
     "text": [
      "\n",
      "\r",
      "    0 / 918\r",
      "   10 / 918\r",
      "   20 / 918\r",
      "   30 / 918\r",
      "   40 / 918\r",
      "   50 / 918\r",
      "   60 / 918\r",
      "   70 / 918\r",
      "   80 / 918\r",
      "   90 / 918\r",
      "  100 / 918\r",
      "  110 / 918\r",
      "  120 / 918\r",
      "  130 / 918\r",
      "  140 / 918\r",
      "  150 / 918\r",
      "  160 / 918\r",
      "  170 / 918\r",
      "  180 / 918\r",
      "  190 / 918\r",
      "  200 / 918\r",
      "  210 / 918\r",
      "  220 / 918\r",
      "  230 / 918\r",
      "  240 / 918\r",
      "  250 / 918\r",
      "  260 / 918\r",
      "  270 / 918\r",
      "  280 / 918\r",
      "  290 / 918\r",
      "  300 / 918\r",
      "  310 / 918\r",
      "  320 / 918\r",
      "  330 / 918\r",
      "  340 / 918\r",
      "  350 / 918\r",
      "  360 / 918\r",
      "  370 / 918\r",
      "  380 / 918\r",
      "  390 / 918\r",
      "  400 / 918\r",
      "  410 / 918\r",
      "  420 / 918\r",
      "  430 / 918\r",
      "  440 / 918\r",
      "  450 / 918\r",
      "  460 / 918\r",
      "  470 / 918\r",
      "  480 / 918\r",
      "  490 / 918\r",
      "  500 / 918\r",
      "  510 / 918\r",
      "  520 / 918\r",
      "  530 / 918\r",
      "  540 / 918\r",
      "  550 / 918\r",
      "  560 / 918\r",
      "  570 / 918\r",
      "  580 / 918\r",
      "  590 / 918\r",
      "  600 / 918\r",
      "  610 / 918\r",
      "  620 / 918\r",
      "  630 / 918\r",
      "  640 / 918\r",
      "  650 / 918\r",
      "  660 / 918\r",
      "  670 / 918\r",
      "  680 / 918\r",
      "  690 / 918\r",
      "  700 / 918\r",
      "  710 / 918\r",
      "  720 / 918\r",
      "  730 / 918\r",
      "  740 / 918\r",
      "  750 / 918\r",
      "  760 / 918\r",
      "  770 / 918\r",
      "  780 / 918\r",
      "  790 / 918\r",
      "  800 / 918\r",
      "  810 / 918\r",
      "  820 / 918\r",
      "  830 / 918\r",
      "  840 / 918\r",
      "  850 / 918\r",
      "  860 / 918\r",
      "  870 / 918\r",
      "  880 / 918\r",
      "  890 / 918\r",
      "  900 / 918\r",
      "  910 / 918\n",
      "done.\n",
      "\n",
      "Progressive alignment 2/2... \n",
      "\r",
      "STEP     1 / 917 (thread    0) f\b\b\r",
      "STEP     2 / 917 (thread    1) f\b\b\r",
      "STEP     3 / 917 (thread    2) f\b\b\r",
      "STEP     4 / 917 (thread    3) f\b\b\r",
      "STEP     5 / 917 (thread    4) f\b\b\r",
      "STEP     6 / 917 (thread    5) f\b\b\r",
      "STEP     7 / 917 (thread    3) f\b\b\r",
      "STEP     8 / 917 (thread    3) f\b\b\r",
      "STEP     9 / 917 (thread    1) f\b\b\r",
      "STEP    10 / 917 (thread    3) f\b\b\r",
      "STEP    11 / 917 (thread    1) f\b\b\r",
      "STEP    12 / 917 (thread    3) f\b\b\r",
      "STEP    13 / 917 (thread    1) f\b\b\r",
      "STEP    14 / 917 (thread    3) f\b\b\r",
      "STEP    15 / 917 (thread    3) f\b\b\r",
      "STEP    16 / 917 (thread    1) f\b\b\r",
      "STEP    17 / 917 (thread    3) f\b\b\r",
      "STEP    18 / 917 (thread    1) f\b\b\r",
      "STEP    19 / 917 (thread    3) f\b\b\r",
      "STEP    20 / 917 (thread    1) f\b\b\r",
      "STEP    21 / 917 (thread    3) f\b\b\r",
      "STEP    22 / 917 (thread    0) f\b\b\r",
      "STEP    23 / 917 (thread    1) f\b\b\r",
      "STEP    24 / 917 (thread    4) f\b\b\r",
      "STEP    25 / 917 (thread    3) f\b\b\r",
      "STEP    26 / 917 (thread    2) f\b\b\r",
      "STEP    27 / 917 (thread    5) f\b\b\r",
      "STEP    28 / 917 (thread    3) f\b\b\r",
      "STEP    29 / 917 (thread    0) f\b\b\r",
      "STEP    30 / 917 (thread    1) f\b\b\r",
      "STEP    31 / 917 (thread    4) f\b\b\r",
      "STEP    32 / 917 (thread    2)\r",
      "STEP    33 / 917 (thread    5) f\b\b f\b\b\r",
      "STEP    34 / 917 (thread    3) f\b\b\r",
      "STEP    35 / 917 (thread    1) f\b\b\r",
      "STEP    36 / 917 (thread    0) f\b\b\r",
      "STEP    37 / 917 (thread    4) f\b\b\r",
      "STEP    38 / 917 (thread    3) f\b\b\r",
      "STEP    39 / 917 (thread    5) f\b\b\r",
      "STEP    40 / 917 (thread    2) f\b\b\r",
      "STEP    41 / 917 (thread    1) f\b\b\r",
      "STEP    42 / 917 (thread    0) f\b\b\r",
      "STEP    43 / 917 (thread    4) f\b\b\r",
      "STEP    44 / 917 (thread    3) f\b\b\r",
      "STEP    45 / 917 (thread    1) f\b\b\r",
      "STEP    46 / 917 (thread    2) f\b\b\r",
      "STEP    47 / 917 (thread    5) f\b\b\r",
      "STEP    48 / 917 (thread    3) f\b\b\r",
      "STEP    49 / 917 (thread    0) f\b\b\r",
      "STEP    50 / 917 (thread    4) f\b\b\r",
      "STEP    51 / 917 (thread    1) f\b\b\r",
      "STEP    52 / 917 (thread    5) f\b\b\r",
      "STEP    53 / 917 (thread    2) f\b\b\r",
      "STEP    54 / 917 (thread    3) f\b\b\r",
      "STEP    55 / 917 (thread    1) f\b\b\r",
      "STEP    57 / 917 (thread    4) f\b\b\r",
      "STEP    56 / 917 (thread    0) f\b\b\r",
      "STEP    58 / 917 (thread    3) f\b\b\r",
      "STEP    59 / 917 (thread    5) f\b\b\r",
      "STEP    60 / 917 (thread    2) f\b\b\r",
      "STEP    61 / 917 (thread    1) f\b\b\r",
      "STEP    62 / 917 (thread    3) f\b\b\r",
      "STEP    63 / 917 (thread    4) f\b\b\r",
      "STEP    64 / 917 (thread    0) f\b\b\r",
      "STEP    65 / 917 (thread    2) f\b\b\r",
      "STEP    66 / 917 (thread    5) f\b\b\r",
      "STEP    67 / 917 (thread    1) f\b\b\r",
      "STEP    68 / 917 (thread    3) f\b\b\r",
      "STEP    69 / 917 (thread    0) f\b\b\r",
      "STEP    70 / 917 (thread    4) f\b\b\r",
      "STEP    71 / 917 (thread    1) f\b\b\r",
      "STEP    72 / 917 (thread    3) f\b\b\r",
      "STEP    73 / 917 (thread    5) f\b\b\r",
      "STEP    74 / 917 (thread    2) f\b\b\r",
      "STEP    75 / 917 (thread    4) f\b\b\r",
      "STEP    76 / 917 (thread    0) f\b\b\r",
      "STEP    77 / 917 (thread    3) f\b\b\r",
      "STEP    78 / 917 (thread    1) f\b\b\r",
      "STEP    79 / 917 (thread    5) f\b\b\r",
      "STEP    80 / 917 (thread    2) f\b\b\r",
      "STEP    81 / 917 (thread    3) f\b\b\r",
      "STEP    82 / 917 (thread    1) f\b\b\r",
      "STEP    83 / 917 (thread    0)\r",
      "STEP    84 / 917 (thread    4) f\b\b f\b\b\r",
      "STEP    85 / 917 (thread    1) f\b\b\r",
      "STEP    86 / 917 (thread    5) f\b\b\r",
      "STEP    87 / 917 (thread    2) f\b\b\r",
      "STEP    88 / 917 (thread    3) f\b\b\r",
      "STEP    89 / 917 (thread    4) f\b\b\r",
      "STEP    90 / 917 (thread    0) f\b\b\r",
      "STEP    91 / 917 (thread    1) f\b\b\r",
      "STEP    92 / 917 (thread    3) f\b\b\r",
      "STEP    93 / 917 (thread    2) f\b\b\r",
      "STEP    94 / 917 (thread    5) f\b\b\r",
      "STEP    95 / 917 (thread    1) f\b\b\r",
      "STEP    96 / 917 (thread    4) f\b\b\r",
      "STEP    97 / 917 (thread    0) f\b\b\r",
      "STEP    98 / 917 (thread    3) f\b\b\r",
      "STEP    99 / 917 (thread    2) f\b\b\r",
      "STEP   100 / 917 (thread    5) f\b\b\r",
      "STEP   101 / 917 (thread    1) f\b\b\r",
      "STEP   102 / 917 (thread    3) f\b\b\r",
      "STEP   103 / 917 (thread    4) f\b\b\r",
      "STEP   104 / 917 (thread    0) f\b\b\r",
      "STEP   105 / 917 (thread    5) f\b\b\r",
      "STEP   106 / 917 (thread    2) f\b\b\r",
      "STEP   107 / 917 (thread    1) f\b\b\r",
      "STEP   108 / 917 (thread    3) f\b\b\r",
      "STEP   109 / 917 (thread    0) f\b\b\r",
      "STEP   110 / 917 (thread    4) f\b\b\r",
      "STEP   111 / 917 (thread    3) f\b\b\r",
      "STEP   112 / 917 (thread    1) f\b\b\r",
      "STEP   113 / 917 (thread    2) f\b\b\r",
      "STEP   114 / 917 (thread    5) f\b\b\r",
      "STEP   115 / 917 (thread    3) f\b\b\r",
      "STEP   116 / 917 (thread    4) f\b\b\r",
      "STEP   117 / 917 (thread    0) f\b\b\r",
      "STEP   118 / 917 (thread    5) f\b\b\r",
      "STEP   119 / 917 (thread    3) f\b\b\r",
      "STEP   120 / 917 (thread    1) f\b\b\r",
      "STEP   121 / 917 (thread    0) f\b\b\r",
      "STEP   122 / 917 (thread    4) f\b\b\r",
      "STEP   123 / 917 (thread    5) f\b\b\r",
      "STEP   124 / 917 (thread    3) f\b\b\r",
      "STEP   125 / 917 (thread    1) f\b\b\r",
      "STEP   126 / 917 (thread    2) f\b\b\r",
      "STEP   127 / 917 (thread    4) f\b\b\r",
      "STEP   128 / 917 (thread    0) f\b\b\r",
      "STEP   129 / 917 (thread    1) f\b\b\r",
      "STEP   130 / 917 (thread    3) f\b\b\r",
      "STEP   131 / 917 (thread    5) f\b\b\r",
      "STEP   132 / 917 (thread    1) f\b\b\r",
      "STEP   133 / 917 (thread    0) f\b\b\r",
      "STEP   134 / 917 (thread    3) f\b\b\r",
      "STEP   135 / 917 (thread    5) f\b\b\r",
      "STEP   136 / 917 (thread    1) f\b\b\r",
      "STEP   137 / 917 (thread    2) f\b\b\r",
      "STEP   138 / 917 (thread    3) f\b\b\r",
      "STEP   139 / 917 (thread    4) f\b\b\r",
      "STEP   140 / 917 (thread    5) f\b\b\r",
      "STEP   141 / 917 (thread    1) f\b\b\r",
      "STEP   142 / 917 (thread    2) f\b\b\r",
      "STEP   143 / 917 (thread    3) f\b\b\r",
      "STEP   144 / 917 (thread    4) f\b\b\r",
      "STEP   145 / 917 (thread    0) f\b\b\r",
      "STEP   146 / 917 (thread    5) f\b\b\r",
      "STEP   147 / 917 (thread    3) f\b\b\r",
      "STEP   148 / 917 (thread    2) f\b\b\r",
      "STEP   149 / 917 (thread    1) f\b\b\r",
      "STEP   150 / 917 (thread    0) f\b\b\r",
      "STEP   151 / 917 (thread    5) f\b\b\r",
      "STEP   152 / 917 (thread    1) f\b\b\r",
      "STEP   153 / 917 (thread    2) f\b\b\r",
      "STEP   154 / 917 (thread    0) f\b\b\r",
      "STEP   155 / 917 (thread    4) f\b\b\r",
      "STEP   156 / 917 (thread    3) f\b\b\r",
      "STEP   157 / 917 (thread    5) f\b\b\r",
      "STEP   158 / 917 (thread    1) f\b\b\r",
      "STEP   159 / 917 (thread    2) f\b\b\r",
      "STEP   161 / 917 (thread    3) f\b\b\r",
      "STEP   162 / 917 (thread    0) f\b\b\r",
      "STEP   163 / 917 (thread    5) f\b\b\r",
      "STEP   164 / 917 (thread    4) f\b\b\r",
      "STEP   165 / 917 (thread    3) f\b\b\r",
      "STEP   166 / 917 (thread    0) f\b\b\r",
      "STEP   167 / 917 (thread    5) f\b\b\r",
      "STEP   168 / 917 (thread    2) f\b\b\r",
      "STEP   160 / 917 (thread    1) f\b\b\r",
      "STEP   169 / 917 (thread    3) f\b\b\r",
      "STEP   170 / 917 (thread    4) f\b\b\r",
      "STEP   171 / 917 (thread    1) f\b\b\r",
      "STEP   172 / 917 (thread    0) f\b\b\r",
      "STEP   173 / 917 (thread    5) f\b\b\r",
      "STEP   174 / 917 (thread    3) f\b\b\r",
      "STEP   175 / 917 (thread    2) f\b\b\r",
      "STEP   176 / 917 (thread    1) f\b\b\r",
      "STEP   177 / 917 (thread    4) f\b\b\r",
      "STEP   178 / 917 (thread    3) f\b\b\r",
      "STEP   179 / 917 (thread    5) f\b\b\r",
      "STEP   180 / 917 (thread    0) f\b\b\r",
      "STEP   181 / 917 (thread    3) f\b\b\r",
      "STEP   182 / 917 (thread    2) f\b\b\r",
      "STEP   183 / 917 (thread    1) f\b\b\r",
      "STEP   184 / 917 (thread    5) f\b\b\r",
      "STEP   185 / 917 (thread    3) f\b\b\r",
      "STEP   186 / 917 (thread    4) f\b\b\r",
      "STEP   187 / 917 (thread    2) f\b\b\r",
      "STEP   188 / 917 (thread    3) f\b\b\r",
      "STEP   189 / 917 (thread    1) f\b\b\r",
      "STEP   190 / 917 (thread    5) f\b\b\r",
      "STEP   191 / 917 (thread    0) f\b\b\r",
      "STEP   192 / 917 (thread    4)\r",
      "STEP   193 / 917 (thread    3) f\b\b f\b\b\r",
      "STEP   194 / 917 (thread    2) f\b\b\r",
      "STEP   195 / 917 (thread    1) f\b\b\r",
      "STEP   196 / 917 (thread    5) f\b\b\r",
      "STEP   197 / 917 (thread    3) f\b\b\r",
      "STEP   198 / 917 (thread    0) f\b\b\r",
      "STEP   199 / 917 (thread    4) f\b\b\r",
      "STEP   200 / 917 (thread    2) f\b\b\r",
      "STEP   201 / 917 (thread    1) f\b\b\r",
      "STEP   202 / 917 (thread    3) f\b\b\r",
      "STEP   203 / 917 (thread    5) f\b\b\r",
      "STEP   204 / 917 (thread    2) f\b\b\r",
      "STEP   205 / 917 (thread    4) f\b\b\r",
      "STEP   206 / 917 (thread    0) f\b\b\r",
      "STEP   207 / 917 (thread    1) f\b\b\r",
      "STEP   208 / 917 (thread    3) f\b\b\r",
      "STEP   209 / 917 (thread    5) f\b\b\r",
      "STEP   210 / 917 (thread    1) f\b\b\r",
      "STEP   211 / 917 (thread    4) f\b\b\r",
      "STEP   213 / 917 (thread    2) f\b\b\r",
      "STEP   214 / 917 (thread    0) f\b\b\r",
      "STEP   215 / 917 (thread    1) f\b\b\r",
      "STEP   212 / 917 (thread    3) f\b\b\r",
      "STEP   216 / 917 (thread    0) f\b\b\r",
      "STEP   217 / 917 (thread    5) f\b\b\r",
      "STEP   218 / 917 (thread    4) f\b\b\r",
      "STEP   219 / 917 (thread    1) f\b\b\r",
      "STEP   220 / 917 (thread    2) f\b\b\r",
      "STEP   221 / 917 (thread    0) f\b\b\r",
      "STEP   222 / 917 (thread    3) f\b\b\r",
      "STEP   223 / 917 (thread    1) f\b\b\r",
      "STEP   224 / 917 (thread    4) f\b\b\r",
      "STEP   225 / 917 (thread    2) f\b\b\r",
      "STEP   226 / 917 (thread    3) f\b\b\r",
      "STEP   227 / 917 (thread    5) f\b\b\r",
      "STEP   228 / 917 (thread    1) f\b\b\r",
      "STEP   229 / 917 (thread    3) f\b\b\r",
      "STEP   230 / 917 (thread    4) f\b\b\r",
      "STEP   231 / 917 (thread    2) f\b\b\r",
      "STEP   232 / 917 (thread    1) f\b\b\r",
      "STEP   233 / 917 (thread    5) f\b\b\r",
      "STEP   234 / 917 (thread    0) f\b\b\r",
      "STEP   235 / 917 (thread    3) f\b\b\r",
      "STEP   236 / 917 (thread    4) f\b\b\r",
      "STEP   237 / 917 (thread    5) f\b\b\r",
      "STEP   238 / 917 (thread    0) f\b\b\r",
      "STEP   239 / 917 (thread    1) f\b\b\r",
      "STEP   240 / 917 (thread    3) f\b\b\r",
      "STEP   241 / 917 (thread    5) f\b\b\r",
      "STEP   242 / 917 (thread    2) f\b\b\r",
      "STEP   243 / 917 (thread    3) f\b\b\r",
      "STEP   244 / 917 (thread    1) f\b\b\r",
      "STEP   245 / 917 (thread    5) f\b\b\r",
      "STEP   246 / 917 (thread    4) f\b\b\r",
      "STEP   247 / 917 (thread    0) f\b\b\r",
      "STEP   248 / 917 (thread    3) f\b\b\r",
      "STEP   249 / 917 (thread    2) f\b\b\r",
      "STEP   250 / 917 (thread    1) f\b\b\r",
      "STEP   251 / 917 (thread    5) f\b\b\r",
      "STEP   252 / 917 (thread    3) f\b\b\r",
      "STEP   253 / 917 (thread    4) f\b\b\r",
      "STEP   254 / 917 (thread    0) f\b\b\r",
      "STEP   255 / 917 (thread    1) f\b\b\r",
      "STEP   256 / 917 (thread    0) f\b\b\r",
      "STEP   257 / 917 (thread    2) f\b\b\r",
      "STEP   258 / 917 (thread    3) f\b\b\r",
      "STEP   259 / 917 (thread    1) f\b\b\r",
      "STEP   260 / 917 (thread    5) f\b\b\r",
      "STEP   261 / 917 (thread    3) f\b\b\r",
      "STEP   262 / 917 (thread    4) f\b\b\r",
      "STEP   263 / 917 (thread    1) f\b\b\r",
      "STEP   264 / 917 (thread    2) f\b\b\r",
      "STEP   265 / 917 (thread    3) f\b\b\r",
      "STEP   266 / 917 (thread    5) f\b\b\r",
      "STEP   267 / 917 (thread    1) f\b\b\r",
      "STEP   268 / 917 (thread    4) f\b\b\r",
      "STEP   269 / 917 (thread    0) f\b\b\r",
      "STEP   270 / 917 (thread    2) f\b\b\r",
      "STEP   271 / 917 (thread    1) f\b\b\r",
      "STEP   273 / 917 (thread    3) f\b\b\r",
      "STEP   272 / 917 (thread    5) f\b\b\r",
      "STEP   274 / 917 (thread    1) f\b\b\r",
      "STEP   275 / 917 (thread    4) f\b\b\r",
      "STEP   276 / 917 (thread    2) f\b\b\r",
      "STEP   277 / 917 (thread    0) f\b\b\r",
      "STEP   278 / 917 (thread    3) f\b\b\r",
      "STEP   279 / 917 (thread    5) f\b\b\r",
      "STEP   280 / 917 (thread    1) f\b\b\r",
      "STEP   281 / 917 (thread    3) f\b\b\r",
      "STEP   282 / 917 (thread    4) f\b\b\r",
      "STEP   283 / 917 (thread    2) f\b\b\r",
      "STEP   284 / 917 (thread    0) f\b\b\r",
      "STEP   285 / 917 (thread    3) f\b\b\r",
      "STEP   286 / 917 (thread    1) f\b\b\r",
      "STEP   287 / 917 (thread    4) f\b\b\r",
      "STEP   288 / 917 (thread    3) f\b\b\r",
      "STEP   289 / 917 (thread    2) f\b\b\r",
      "STEP   290 / 917 (thread    5) f\b\b\r",
      "STEP   291 / 917 (thread    0) f\b\b\r",
      "STEP   292 / 917 (thread    1) f\b\b\r",
      "STEP   293 / 917 (thread    3) f\b\b\r",
      "STEP   294 / 917 (thread    1) f\b\b\r",
      "STEP   295 / 917 (thread    4) f\b\b\r",
      "STEP   296 / 917 (thread    2) f\b\b\r",
      "STEP   297 / 917 (thread    0) f\b\b\r",
      "STEP   298 / 917 (thread    5) f\b\b\r",
      "STEP   299 / 917 (thread    3) f\b\b\r",
      "STEP   300 / 917 (thread    1) f\b\b\r",
      "STEP   301 / 917 (thread    3) f\b\b\r",
      "STEP   302 / 917 (thread    4) f\b\b\r",
      "STEP   303 / 917 (thread    2) f\b\b\r",
      "STEP   304 / 917 (thread    0) f\b\b\r",
      "STEP   305 / 917 (thread    5) f\b\b\r",
      "STEP   306 / 917 (thread    3) f\b\b\r",
      "STEP   307 / 917 (thread    1) f\b\b\r",
      "STEP   308 / 917 (thread    2) f\b\b\r",
      "STEP   309 / 917 (thread    1) f\b\b\r",
      "STEP   310 / 917 (thread    0) f\b\b\r",
      "STEP   311 / 917 (thread    2) f\b\b\r",
      "STEP   312 / 917 (thread    3) f\b\b\r",
      "STEP   313 / 917 (thread    4) f\b\b\r",
      "STEP   314 / 917 (thread    3) f\b\b\r",
      "STEP   315 / 917 (thread    0) f\b\b\r",
      "STEP   316 / 917 (thread    1) f\b\b\r",
      "STEP   317 / 917 (thread    5) f\b\b\r",
      "STEP   318 / 917 (thread    3) f\b\b\r",
      "STEP   319 / 917 (thread    1) f\b\b\r",
      "STEP   320 / 917 (thread    0) f\b\b\r",
      "STEP   321 / 917 (thread    2) f\b\b\r",
      "STEP   322 / 917 (thread    5) f\b\b\r",
      "STEP   323 / 917 (thread    4) f\b\b\r",
      "STEP   324 / 917 (thread    3) f\b\b\r",
      "STEP   325 / 917 (thread    1) f\b\b\r",
      "STEP   326 / 917 (thread    0) f\b\b\r",
      "STEP   327 / 917 (thread    2) f\b\b\r",
      "STEP   328 / 917 (thread    3) f\b\b\r",
      "STEP   329 / 917 (thread    5) f\b\b\r",
      "STEP   330 / 917 (thread    1) f\b\b\r",
      "STEP   331 / 917 (thread    4) f\b\b\r",
      "STEP   332 / 917 (thread    3) f\b\b\r",
      "STEP   333 / 917 (thread    1) f\b\b\r",
      "STEP   334 / 917 (thread    0) f\b\b\r",
      "STEP   335 / 917 (thread    3) f\b\b\r",
      "STEP   336 / 917 (thread    2) f\b\b\r",
      "STEP   337 / 917 (thread    5) f\b\b\r",
      "STEP   338 / 917 (thread    0) f\b\b\r",
      "STEP   339 / 917 (thread    1) f\b\b\r",
      "STEP   340 / 917 (thread    3) f\b\b\r",
      "STEP   341 / 917 (thread    4) f\b\b\r",
      "STEP   343 / 917 (thread    4) f\b\b\r",
      "STEP   344 / 917 (thread    2) f\b\b\r",
      "STEP   345 / 917 (thread    0) f\b\b\r",
      "STEP   346 / 917 (thread    3) f\b\b\r",
      "STEP   342 / 917 (thread    5) f\b\b\r",
      "STEP   347 / 917 (thread    1) f\b\b\r",
      "STEP   348 / 917 (thread    4) f\b\b\r",
      "STEP   349 / 917 (thread    2) f\b\b\r",
      "STEP   350 / 917 (thread    3) f\b\b\r",
      "STEP   351 / 917 (thread    1) f\b\b\r",
      "STEP   352 / 917 (thread    0) f\b\b\r",
      "STEP   353 / 917 (thread    1) f\b\b\r",
      "STEP   354 / 917 (thread    4) f\b\b\r",
      "STEP   355 / 917 (thread    0) f\b\b\r",
      "STEP   356 / 917 (thread    5) f\b\b\r",
      "STEP   357 / 917 (thread    3) f\b\b\r",
      "STEP   358 / 917 (thread    2) f\b\b\r",
      "STEP   359 / 917 (thread    1) f\b\b\r",
      "STEP   360 / 917 (thread    4) f\b\b\r",
      "STEP   361 / 917 (thread    3) f\b\b\r",
      "STEP   362 / 917 (thread    1) f\b\b\r",
      "STEP   364 / 917 (thread    3) f\b\b\r",
      "STEP   365 / 917 (thread    4) f\b\b\r",
      "STEP   366 / 917 (thread    1) f\b\b\r",
      "STEP   367 / 917 (thread    5) f\b\b\r",
      "STEP   368 / 917 (thread    2) f\b\b\r",
      "STEP   363 / 917 (thread    0) f\b\b\r",
      "STEP   369 / 917 (thread    3) f\b\b\r",
      "STEP   370 / 917 (thread    5) f\b\b\r",
      "STEP   371 / 917 (thread    3) f\b\b\r",
      "STEP   372 / 917 (thread    4) f\b\b\r",
      "STEP   373 / 917 (thread    1) f\b\b\r",
      "STEP   374 / 917 (thread    3) f\b\b\r",
      "STEP   375 / 917 (thread    4) f\b\b\r",
      "STEP   376 / 917 (thread    2) f\b\b\r",
      "STEP   377 / 917 (thread    0) f\b\b\r",
      "STEP   378 / 917 (thread    3) f\b\b\r",
      "STEP   379 / 917 (thread    1) f\b\b\r",
      "STEP   380 / 917 (thread    5) f\b\b\r",
      "STEP   381 / 917 (thread    3) f\b\b\r",
      "STEP   382 / 917 (thread    1) f\b\b\r",
      "STEP   383 / 917 (thread    4) f\b\b\r",
      "STEP   384 / 917 (thread    2) f\b\b\r",
      "STEP   386 / 917 (thread    1) f\b\b\r",
      "STEP   387 / 917 (thread    5) f\b\b\r",
      "STEP   385 / 917 (thread    0) f\b\b\r",
      "STEP   388 / 917 (thread    3) f\b\b\r",
      "STEP   389 / 917 (thread    4) f\b\b\r",
      "STEP   390 / 917 (thread    1) f\b\b\r",
      "STEP   391 / 917 (thread    3) f\b\b\r",
      "STEP   392 / 917 (thread    2) f\b\b\r",
      "STEP   393 / 917 (thread    0) f\b\b\r",
      "STEP   394 / 917 (thread    3) f\b\b\r",
      "STEP   395 / 917 (thread    5) f\b\b\r",
      "STEP   396 / 917 (thread    3) f\b\b\r",
      "STEP   397 / 917 (thread    0) f\b\b\r",
      "STEP   398 / 917 (thread    1) f\b\b\r",
      "STEP   399 / 917 (thread    4) f\b\b\r",
      "STEP   400 / 917 (thread    3) f\b\b\r",
      "STEP   401 / 917 (thread    2) f\b\b\r",
      "STEP   402 / 917 (thread    1) f\b\b\r",
      "STEP   403 / 917 (thread    5) f\b\b\r",
      "STEP   404 / 917 (thread    3) f\b\b\r",
      "STEP   405 / 917 (thread    0) f\b\b\r",
      "STEP   406 / 917 (thread    1) f\b\b\r",
      "STEP   407 / 917 (thread    4) f\b\b\r",
      "STEP   408 / 917 (thread    2) f\b\b\r",
      "STEP   409 / 917 (thread    5) f\b\b\r",
      "STEP   410 / 917 (thread    3) f\b\b\r",
      "STEP   412 / 917 (thread    0) f\b\b\r",
      "STEP   413 / 917 (thread    4) f\b\b\r",
      "STEP   411 / 917 (thread    1) f\b\b\r",
      "STEP   415 / 917 (thread    3) f\b\b\r",
      "STEP   416 / 917 (thread    5) f\b\b\r",
      "STEP   414 / 917 (thread    2) f\b\b\r",
      "STEP   417 / 917 (thread    1) f\b\b\r",
      "STEP   418 / 917 (thread    5) f\b\b\r",
      "STEP   419 / 917 (thread    3) f\b\b\r",
      "STEP   420 / 917 (thread    4) f\b\b\r",
      "STEP   421 / 917 (thread    0) f\b\b\r",
      "STEP   422 / 917 (thread    3) f\b\b\r",
      "STEP   423 / 917 (thread    2) f\b\b\r",
      "STEP   424 / 917 (thread    4) f\b\b\r",
      "STEP   425 / 917 (thread    5) f\b\b\r",
      "STEP   426 / 917 (thread    1) f\b\b\r",
      "STEP   427 / 917 (thread    3) f\b\b\r",
      "STEP   428 / 917 (thread    0) f\b\b\r",
      "STEP   429 / 917 (thread    1) f\b\b\r",
      "STEP   430 / 917 (thread    4) f\b\b\r",
      "STEP   431 / 917 (thread    5) f\b\b\r",
      "STEP   432 / 917 (thread    3) f\b\b\r",
      "STEP   433 / 917 (thread    2) f\b\b\r",
      "STEP   434 / 917 (thread    1) f\b\b\r",
      "STEP   435 / 917 (thread    0) f\b\b\r",
      "STEP   436 / 917 (thread    4) f\b\b\r",
      "STEP   437 / 917 (thread    5) f\b\b\r",
      "STEP   438 / 917 (thread    3) f\b\b\r",
      "STEP   439 / 917 (thread    1) f\b\b\r",
      "STEP   440 / 917 (thread    2) f\b\b\r",
      "STEP   441 / 917 (thread    5) f\b\b\r",
      "STEP   442 / 917 (thread    0) f\b\b\r",
      "STEP   443 / 917 (thread    4) f\b\b\r",
      "STEP   444 / 917 (thread    3) f\b\b\r",
      "STEP   445 / 917 (thread    1) f\b\b\r",
      "STEP   446 / 917 (thread    4) f\b\b\r",
      "STEP   447 / 917 (thread    3) f\b\b\r",
      "STEP   448 / 917 (thread    1) f\b\b\r",
      "STEP   449 / 917 (thread    2) f\b\b\r",
      "STEP   450 / 917 (thread    0) f\b\b\r",
      "STEP   451 / 917 (thread    4) f\b\b\r",
      "STEP   452 / 917 (thread    3) f\b\b\r",
      "STEP   453 / 917 (thread    5) f\b\b\r",
      "STEP   454 / 917 (thread    1) f\b\b\r",
      "STEP   455 / 917 (thread    3) f\b\b\r",
      "STEP   456 / 917 (thread    2) f\b\b\r",
      "STEP   457 / 917 (thread    0) f\b\b\r",
      "STEP   458 / 917 (thread    4) f\b\b\r",
      "STEP   459 / 917 (thread    1) f\b\b\r",
      "STEP   460 / 917 (thread    5) f\b\b\r",
      "STEP   461 / 917 (thread    3) f\b\b\r",
      "STEP   462 / 917 (thread    1) f\b\b\r",
      "STEP   463 / 917 (thread    4) f\b\b\r",
      "STEP   464 / 917 (thread    0) f\b\b\r",
      "STEP   465 / 917 (thread    3) f\b\b\r",
      "STEP   466 / 917 (thread    2) f\b\b\r",
      "STEP   467 / 917 (thread    5) f\b\b\r",
      "STEP   468 / 917 (thread    1) f\b\b\r",
      "STEP   469 / 917 (thread    2) f\b\b\r",
      "STEP   470 / 917 (thread    5) f\b\b\r",
      "STEP   471 / 917 (thread    4) f\b\b\r",
      "STEP   472 / 917 (thread    3) f\b\b\r",
      "STEP   473 / 917 (thread    1) f\b\b\r",
      "STEP   475 / 917 (thread    3) f\b\b\r",
      "STEP   476 / 917 (thread    4) f\b\b\r",
      "STEP   477 / 917 (thread    1) f\b\b\r",
      "STEP   478 / 917 (thread    5) f\b\b\r",
      "STEP   479 / 917 (thread    2) f\b\b\r",
      "STEP   474 / 917 (thread    0) f\b\b\r",
      "STEP   481 / 917 (thread    1) f\b\b\r",
      "STEP   482 / 917 (thread    2) f\b\b\r",
      "STEP   480 / 917 (thread    4) f\b\b\r",
      "STEP   483 / 917 (thread    3) f\b\b\r",
      "STEP   484 / 917 (thread    5) f\b\b\r",
      "STEP   485 / 917 (thread    1) f\b\b\r",
      "STEP   486 / 917 (thread    4) f\b\b\r",
      "STEP   487 / 917 (thread    0) f\b\b\r",
      "STEP   488 / 917 (thread    2) f\b\b\r",
      "STEP   490 / 917 (thread    5) f\b\b\r",
      "STEP   491 / 917 (thread    4) f\b\b\r",
      "STEP   492 / 917 (thread    3) f\b\b\r",
      "STEP   493 / 917 (thread    0) f\b\b\r",
      "STEP   489 / 917 (thread    1) f\b\b\r",
      "STEP   494 / 917 (thread    4) f\b\b\r",
      "STEP   495 / 917 (thread    0) f\b\b\r",
      "STEP   496 / 917 (thread    5) f\b\b\r",
      "STEP   497 / 917 (thread    2) f\b\b\r",
      "STEP   498 / 917 (thread    1) f\b\b\r",
      "STEP   499 / 917 (thread    3) f\b\b\r",
      "STEP   500 / 917 (thread    4) f\b\b\r",
      "STEP   501 / 917 (thread    0) f\b\b\r",
      "STEP   601 / 917 (thread    2) f\b\b"
     ]
    },
    {
     "name": "stderr",
     "output_type": "stream",
     "text": [
      "\r",
      "STEP   701 / 917 (thread    2) f\b\b\r",
      "STEP   801 / 917 (thread    3) f\b\b\n",
      "Reallocating..done. *alloclen = 1872\n",
      "\r",
      "STEP   901 / 917 (thread    2) d\b\b h"
     ]
    },
    {
     "name": "stderr",
     "output_type": "stream",
     "text": [
      "\n",
      "done.\n",
      "\n",
      "disttbfast (nuc) Version 7.490\n",
      "alg=A, model=DNA200 (2), 1.53 (4.59), -0.00 (-0.00), noshift, amax=0.0\n",
      "6 thread(s)\n",
      "\n",
      "\n",
      "Strategy:\n",
      " FFT-NS-2 (Fast but rough)\n",
      " Progressive method (guide trees were built 2 times.)\n",
      "\n",
      "If unsure which option to use, try 'mafft --auto input > output'.\n",
      "For more information, see 'mafft --help', 'mafft --man' and the mafft page.\n",
      "\n",
      "The default gap scoring scheme has been changed in version 7.110 (2013 Oct).\n",
      "It tends to insert more gaps into gap-rich regions than previous versions.\n",
      "To disable this change, add the --leavegappyregion option.\n",
      "\n"
     ]
    },
    {
     "name": "stdout",
     "output_type": "stream",
     "text": [
      "Running external command line application. This may print messages to stdout and/or stderr.\n",
      "The command being run is below. This command cannot be manually re-run as it will depend on temporary files that no longer exist.\n",
      "\n",
      "Command: FastTreeMP -quote -nt /tmp/qiime2-archive-q3arm7su/d83a6480-7f66-4234-abcc-6c8d13bdb1c2/data/aligned-dna-sequences.fasta\n",
      "\n"
     ]
    },
    {
     "name": "stderr",
     "output_type": "stream",
     "text": [
      "FastTree Version 2.1.10 Double precision (No SSE3), OpenMP (6 threads)\n",
      "Alignment: /tmp/qiime2-archive-q3arm7su/d83a6480-7f66-4234-abcc-6c8d13bdb1c2/data/aligned-dna-sequences.fasta\n",
      "Nucleotide distances: Jukes-Cantor Joins: balanced Support: SH-like 1000\n",
      "Search: Normal +NNI +SPR (2 rounds range 10) +ML-NNI opt-each=1\n",
      "TopHits: 1.00*sqrtN close=default refresh=0.80\n",
      "ML Model: Jukes-Cantor, CAT approximation with 20 rate categories\n",
      "      0.10 seconds: Joined    100 of    869\n"
     ]
    },
    {
     "name": "stderr",
     "output_type": "stream",
     "text": [
      "      0.22 seconds: Joined    300 of    869\n",
      "      0.36 seconds: Joined    500 of    869\n"
     ]
    },
    {
     "name": "stderr",
     "output_type": "stream",
     "text": [
      "      0.48 seconds: Joined    700 of    869\n",
      "Initial topology in 0.57 seconds\n",
      "Refining topology: 39 rounds ME-NNIs, 2 rounds ME-SPRs, 20 rounds ML-NNIs\n",
      "      0.58 seconds: ME NNI round 1 of 39, 501 of 870 splits, 90 changes (max delta 0.032)\n"
     ]
    },
    {
     "name": "stderr",
     "output_type": "stream",
     "text": [
      "      0.71 seconds: SPR round   1 of   2, 101 of 1742 nodes\n",
      "      0.83 seconds: SPR round   1 of   2, 301 of 1742 nodes\n"
     ]
    },
    {
     "name": "stderr",
     "output_type": "stream",
     "text": [
      "      0.95 seconds: SPR round   1 of   2, 501 of 1742 nodes\n",
      "      1.09 seconds: SPR round   1 of   2, 701 of 1742 nodes\n"
     ]
    },
    {
     "name": "stderr",
     "output_type": "stream",
     "text": [
      "      1.24 seconds: SPR round   1 of   2, 901 of 1742 nodes\n",
      "      1.35 seconds: SPR round   1 of   2, 1101 of 1742 nodes\n"
     ]
    },
    {
     "name": "stderr",
     "output_type": "stream",
     "text": [
      "      1.46 seconds: SPR round   1 of   2, 1301 of 1742 nodes\n",
      "      1.59 seconds: SPR round   1 of   2, 1501 of 1742 nodes\n"
     ]
    },
    {
     "name": "stderr",
     "output_type": "stream",
     "text": [
      "      1.72 seconds: SPR round   1 of   2, 1701 of 1742 nodes\n",
      "      1.86 seconds: SPR round   2 of   2, 101 of 1742 nodes\n"
     ]
    },
    {
     "name": "stderr",
     "output_type": "stream",
     "text": [
      "      1.97 seconds: SPR round   2 of   2, 301 of 1742 nodes\n",
      "      2.09 seconds: SPR round   2 of   2, 501 of 1742 nodes\n"
     ]
    },
    {
     "name": "stderr",
     "output_type": "stream",
     "text": [
      "      2.21 seconds: SPR round   2 of   2, 701 of 1742 nodes\n",
      "      2.32 seconds: SPR round   2 of   2, 901 of 1742 nodes\n"
     ]
    },
    {
     "name": "stderr",
     "output_type": "stream",
     "text": [
      "      2.44 seconds: SPR round   2 of   2, 1101 of 1742 nodes\n",
      "      2.55 seconds: SPR round   2 of   2, 1301 of 1742 nodes\n"
     ]
    },
    {
     "name": "stderr",
     "output_type": "stream",
     "text": [
      "      2.68 seconds: SPR round   2 of   2, 1601 of 1742 nodes\n",
      "      2.78 seconds: ME NNI round 27 of 39, 401 of 870 splits, 0 changes\n",
      "Total branch-length 19.010 after 2.85 sec\n"
     ]
    },
    {
     "name": "stderr",
     "output_type": "stream",
     "text": [
      "      2.90 seconds: ML Lengths 201 of 870 splits\n",
      "      3.01 seconds: ML Lengths 601 of 870 splits\n"
     ]
    },
    {
     "name": "stderr",
     "output_type": "stream",
     "text": [
      "      3.16 seconds: ML NNI round 1 of 20, 101 of 870 splits, 18 changes (max delta 5.134)\n",
      "      3.33 seconds: ML NNI round 1 of 20, 301 of 870 splits, 57 changes (max delta 7.579)\n"
     ]
    },
    {
     "name": "stderr",
     "output_type": "stream",
     "text": [
      "      3.50 seconds: ML NNI round 1 of 20, 501 of 870 splits, 84 changes (max delta 7.579)\n",
      "      3.67 seconds: ML NNI round 1 of 20, 701 of 870 splits, 120 changes (max delta 7.658)\n"
     ]
    },
    {
     "name": "stderr",
     "output_type": "stream",
     "text": [
      "ML-NNI round 1: LogLk = -48856.314 NNIs 146 max delta 10.00 Time 3.81\n",
      "      3.82 seconds: Site likelihoods with rate category 1 of 20\n",
      "      3.92 seconds: Site likelihoods with rate category 12 of 20\n",
      "Switched to using 20 rate categories (CAT approximation)\n",
      "Rate categories were divided by 1.113 so that average rate = 1.0\n",
      "CAT-based log-likelihoods may not be comparable across runs\n",
      "Use -gamma for approximate but comparable Gamma(20) log-likelihoods\n"
     ]
    },
    {
     "name": "stderr",
     "output_type": "stream",
     "text": [
      "      4.10 seconds: ML NNI round 2 of 20, 101 of 870 splits, 8 changes (max delta 4.500)\n",
      "      4.28 seconds: ML NNI round 2 of 20, 301 of 870 splits, 31 changes (max delta 6.036)\n"
     ]
    },
    {
     "name": "stderr",
     "output_type": "stream",
     "text": [
      "      4.46 seconds: ML NNI round 2 of 20, 501 of 870 splits, 50 changes (max delta 6.577)\n",
      "      4.63 seconds: ML NNI round 2 of 20, 701 of 870 splits, 72 changes (max delta 8.053)\n"
     ]
    },
    {
     "name": "stderr",
     "output_type": "stream",
     "text": [
      "ML-NNI round 2: LogLk = -40782.539 NNIs 86 max delta 8.05 Time 4.78\n",
      "      4.78 seconds: ML NNI round 3 of 20, 1 of 870 splits\n",
      "      4.93 seconds: ML NNI round 3 of 20, 201 of 870 splits, 7 changes (max delta 3.576)\n"
     ]
    },
    {
     "name": "stderr",
     "output_type": "stream",
     "text": [
      "      5.11 seconds: ML NNI round 3 of 20, 401 of 870 splits, 15 changes (max delta 3.576)\n",
      "ML-NNI round 3: LogLk = -40742.485 NNIs 29 max delta 5.47 Time 5.27\n",
      "      5.27 seconds: ML NNI round 4 of 20, 1 of 870 splits\n"
     ]
    },
    {
     "name": "stderr",
     "output_type": "stream",
     "text": [
      "      5.43 seconds: ML NNI round 4 of 20, 201 of 870 splits, 8 changes (max delta 3.464)\n",
      "ML-NNI round 4: LogLk = -40718.669 NNIs 15 max delta 6.78 Time 5.57\n",
      "      5.57 seconds: ML NNI round 5 of 20, 1 of 870 splits\n"
     ]
    },
    {
     "name": "stderr",
     "output_type": "stream",
     "text": [
      "ML-NNI round 5: LogLk = -40713.530 NNIs 3 max delta 2.10 Time 5.72\n",
      "      5.72 seconds: ML NNI round 6 of 20, 1 of 870 splits\n",
      "ML-NNI round 6: LogLk = -40713.457 NNIs 1 max delta 0.00 Time 5.82\n",
      "Turning off heuristics for final round of ML NNIs (converged)\n",
      "      5.89 seconds: ML NNI round 7 of 20, 101 of 870 splits, 1 changes (max delta 0.000)\n"
     ]
    },
    {
     "name": "stderr",
     "output_type": "stream",
     "text": [
      "      6.06 seconds: ML NNI round 7 of 20, 301 of 870 splits, 3 changes (max delta 0.057)\n",
      "      6.22 seconds: ML NNI round 7 of 20, 501 of 870 splits, 7 changes (max delta 0.441)\n"
     ]
    },
    {
     "name": "stderr",
     "output_type": "stream",
     "text": [
      "      6.35 seconds: ML NNI round 7 of 20, 701 of 870 splits, 7 changes (max delta 0.441)\n",
      "ML-NNI round 7: LogLk = -40709.108 NNIs 8 max delta 0.44 Time 6.48 (final)\n",
      "      6.48 seconds: ML Lengths 1 of 870 splits\n"
     ]
    },
    {
     "name": "stderr",
     "output_type": "stream",
     "text": [
      "      6.58 seconds: ML Lengths 501 of 870 splits\n",
      "Optimize all lengths: LogLk = -40707.819 Time 6.67\n"
     ]
    },
    {
     "name": "stderr",
     "output_type": "stream",
     "text": [
      "      6.80 seconds: ML split tests for    100 of    869 internal splits\n",
      "      6.92 seconds: ML split tests for    200 of    869 internal splits\n"
     ]
    },
    {
     "name": "stderr",
     "output_type": "stream",
     "text": [
      "      7.05 seconds: ML split tests for    300 of    869 internal splits\n",
      "      7.17 seconds: ML split tests for    400 of    869 internal splits\n"
     ]
    },
    {
     "name": "stderr",
     "output_type": "stream",
     "text": [
      "      7.30 seconds: ML split tests for    500 of    869 internal splits\n",
      "      7.42 seconds: ML split tests for    600 of    869 internal splits\n"
     ]
    },
    {
     "name": "stderr",
     "output_type": "stream",
     "text": [
      "      7.55 seconds: ML split tests for    700 of    869 internal splits\n",
      "      7.67 seconds: ML split tests for    800 of    869 internal splits\n"
     ]
    },
    {
     "name": "stderr",
     "output_type": "stream",
     "text": [
      "Total time: 7.77 seconds Unique: 872/918 Bad splits: 1/869 Worst delta-LogLk 1.634\n"
     ]
    }
   ],
   "source": [
    "mafft_alignment, mafft_masked_alignment, mafft_tree, mafft_rooted_tree = align_to_tree_mafft_fasttree(\n",
    "    sequences=reps, n_threads=6, )"
   ]
  },
  {
   "cell_type": "markdown",
   "id": "0768d598",
   "metadata": {
    "papermill": {
     "duration": 0.02625,
     "end_time": "2022-09-29T21:25:22.704305",
     "exception": false,
     "start_time": "2022-09-29T21:25:22.678055",
     "status": "completed"
    },
    "tags": []
   },
   "source": [
    "### Compute Alpha Diversity (Phylogeny)\n",
    "- [diversity alpha_phylogenetic](https://docs.qiime2.org/2022.8/plugins/available/diversity/alpha-phylogenetic/): Computes a user-specified phylogenetic alpha diversity metric for all samples in a feature table.\n",
    "- Metrics: Choices ('faith_pd')"
   ]
  },
  {
   "cell_type": "code",
   "execution_count": 13,
   "id": "0383aa19",
   "metadata": {
    "ExecuteTime": {
     "end_time": "2022-09-29T20:54:35.310009Z",
     "start_time": "2022-09-29T20:54:35.141333Z"
    },
    "execution": {
     "iopub.execute_input": "2022-09-29T21:25:22.757895Z",
     "iopub.status.busy": "2022-09-29T21:25:22.757719Z",
     "iopub.status.idle": "2022-09-29T21:25:22.862356Z",
     "shell.execute_reply": "2022-09-29T21:25:22.861757Z"
    },
    "papermill": {
     "duration": 0.133136,
     "end_time": "2022-09-29T21:25:22.863712",
     "exception": false,
     "start_time": "2022-09-29T21:25:22.730576",
     "status": "completed"
    },
    "tags": []
   },
   "outputs": [
    {
     "name": "stdout",
     "output_type": "stream",
     "text": [
      "Calculating alpha diversity: faith_pd\n"
     ]
    }
   ],
   "source": [
    "metrics = ('faith_pd', )\n",
    "alpha_diversities_phylogenetic = dict()\n",
    "for metric in metrics:\n",
    "    print(f\"Calculating alpha diversity: {metric}\")\n",
    "    alpha_diversity = alpha_phylogenetic(table=tabs, phylogeny=mafft_rooted_tree, metric=metric).alpha_diversity\n",
    "    alpha_diversities_phylogenetic[metric] = alpha_diversity"
   ]
  },
  {
   "cell_type": "markdown",
   "id": "c7752cfd",
   "metadata": {
    "papermill": {
     "duration": 0.026659,
     "end_time": "2022-09-29T21:25:22.918749",
     "exception": false,
     "start_time": "2022-09-29T21:25:22.892090",
     "status": "completed"
    },
    "tags": []
   },
   "source": [
    "### Alpha diversity correlation\n",
    "\n",
    "This method only process `numeric` columns.\n"
   ]
  },
  {
   "cell_type": "code",
   "execution_count": 14,
   "id": "2814f613",
   "metadata": {
    "ExecuteTime": {
     "end_time": "2022-09-29T20:54:35.317618Z",
     "start_time": "2022-09-29T20:54:35.312094Z"
    },
    "execution": {
     "iopub.execute_input": "2022-09-29T21:25:22.973246Z",
     "iopub.status.busy": "2022-09-29T21:25:22.973068Z",
     "iopub.status.idle": "2022-09-29T21:25:22.978488Z",
     "shell.execute_reply": "2022-09-29T21:25:22.978002Z"
    },
    "papermill": {
     "duration": 0.034543,
     "end_time": "2022-09-29T21:25:22.979792",
     "exception": false,
     "start_time": "2022-09-29T21:25:22.945249",
     "status": "completed"
    },
    "tags": []
   },
   "outputs": [],
   "source": [
    "methods = ('spearman', 'pearson')\n",
    "numerics_cols = metadata_qa.filter_columns(column_type='numeric')\n",
    "if numerics_cols.column_count > 0:\n",
    "    for metric, alpha_values in alpha_diversities.items():\n",
    "        for method in methods:\n",
    "            corr_view = alpha_correlation(alpha_diversity=alpha_values, metadata=numerics_cols, \n",
    "                                      method=method, intersect_ids=True).visualization\n",
    "            view_path = os.path.join(qiime_folder, f'alpha-correlation-{metric}-{method}.qzv')\n",
    "            corr_view.save(view_path)\n",
    "            corr_view"
   ]
  },
  {
   "cell_type": "markdown",
   "id": "8ea83c8a",
   "metadata": {
    "papermill": {
     "duration": 0.026674,
     "end_time": "2022-09-29T21:25:23.035171",
     "exception": false,
     "start_time": "2022-09-29T21:25:23.008497",
     "status": "completed"
    },
    "tags": []
   },
   "source": [
    "## Alpha diversity comparisons\n",
    "\n",
    "Visually and statistically compare groups of alpha diversity values.\n",
    "\n",
    "[diversity alpha_group_significance](https://docs.qiime2.org/2022.8/plugins/available/diversity/alpha-group-significance/)"
   ]
  },
  {
   "cell_type": "code",
   "execution_count": 15,
   "id": "276d1c18",
   "metadata": {
    "ExecuteTime": {
     "end_time": "2022-09-29T20:54:36.089290Z",
     "start_time": "2022-09-29T20:54:35.318963Z"
    },
    "execution": {
     "iopub.execute_input": "2022-09-29T21:25:23.089446Z",
     "iopub.status.busy": "2022-09-29T21:25:23.089290Z",
     "iopub.status.idle": "2022-09-29T21:25:23.719015Z",
     "shell.execute_reply": "2022-09-29T21:25:23.718363Z"
    },
    "papermill": {
     "duration": 0.658465,
     "end_time": "2022-09-29T21:25:23.720415",
     "exception": false,
     "start_time": "2022-09-29T21:25:23.061950",
     "status": "completed"
    },
    "tags": []
   },
   "outputs": [
    {
     "name": "stdout",
     "output_type": "stream",
     "text": [
      "Processing alpha_group_significance: chao1\n",
      "Processing alpha_group_significance: simpson\n"
     ]
    },
    {
     "name": "stdout",
     "output_type": "stream",
     "text": [
      "Processing alpha_group_significance: shannon\n",
      "Processing alpha_group_significance: ace\n"
     ]
    },
    {
     "name": "stdout",
     "output_type": "stream",
     "text": [
      "Processing alpha_group_significance: observed_features\n"
     ]
    }
   ],
   "source": [
    "for metric, alpha_values in alpha_diversities.items():\n",
    "    print(f\"Processing alpha_group_significance: {metric}\")\n",
    "    significance_view = alpha_group_significance(alpha_diversity=alpha_values, metadata=metadata_qa).visualization\n",
    "    view_path = os.path.join(qiime_folder, f'alpha-group-significance-{metric}.qzv')\n",
    "    significance_view.save(view_path)\n",
    "    significance_view"
   ]
  },
  {
   "cell_type": "markdown",
   "id": "4349d357",
   "metadata": {
    "papermill": {
     "duration": 0.027423,
     "end_time": "2022-09-29T21:25:23.776974",
     "exception": false,
     "start_time": "2022-09-29T21:25:23.749551",
     "status": "completed"
    },
    "tags": []
   },
   "source": [
    "## Beta diversity analysis\n",
    "\n",
    "#### Reference\n",
    "- [diversity beta](https://docs.qiime2.org/2022.8/plugins/available/diversity/beta/): Computes a user-specified beta diversity metric for all pairs of samples in a feature table.\n",
    "- [Beta diversity metrics](http://scikit-bio.org/docs/0.2.0/generated/skbio.diversity.beta.html)\n",
    "\n",
    "- Metric Choices('aitchison', 'braycurtis', 'canberra', 'canberra_adkins', 'chebyshev', 'cityblock', 'correlation', 'cosine', 'dice', 'euclidean', 'hamming', 'jaccard', 'jensenshannon', 'kulsinski', 'matching', 'minkowski', 'rogerstanimoto', 'russellrao', 'seuclidean', 'sokalmichener', 'sokalsneath', 'sqeuclidean', 'yule')"
   ]
  },
  {
   "cell_type": "code",
   "execution_count": 16,
   "id": "f6f358dd",
   "metadata": {
    "ExecuteTime": {
     "end_time": "2022-09-29T20:54:36.335038Z",
     "start_time": "2022-09-29T20:54:36.091288Z"
    },
    "execution": {
     "iopub.execute_input": "2022-09-29T21:25:23.832492Z",
     "iopub.status.busy": "2022-09-29T21:25:23.832327Z",
     "iopub.status.idle": "2022-09-29T21:25:24.233713Z",
     "shell.execute_reply": "2022-09-29T21:25:24.233050Z"
    },
    "papermill": {
     "duration": 0.433908,
     "end_time": "2022-09-29T21:25:24.238046",
     "exception": false,
     "start_time": "2022-09-29T21:25:23.804138",
     "status": "completed"
    },
    "tags": []
   },
   "outputs": [
    {
     "name": "stdout",
     "output_type": "stream",
     "text": [
      "Calculating beta diversity: dice\n",
      "Calculating beta diversity: braycurtis\n",
      "Calculating beta diversity: chebyshev\n"
     ]
    },
    {
     "name": "stderr",
     "output_type": "stream",
     "text": [
      "/home/lauro/anaconda3/envs/qiime2-2022.2/lib/python3.8/site-packages/sklearn/metrics/pairwise.py:1761: DataConversionWarning: Data was converted to boolean for metric dice\n",
      "  warnings.warn(msg, DataConversionWarning)\n"
     ]
    },
    {
     "name": "stdout",
     "output_type": "stream",
     "text": [
      "Calculating beta diversity: jaccard\n"
     ]
    },
    {
     "name": "stderr",
     "output_type": "stream",
     "text": [
      "/home/lauro/anaconda3/envs/qiime2-2022.2/lib/python3.8/site-packages/sklearn/metrics/pairwise.py:1761: DataConversionWarning: Data was converted to boolean for metric jaccard\n",
      "  warnings.warn(msg, DataConversionWarning)\n"
     ]
    }
   ],
   "source": [
    "metrics = ('dice', 'braycurtis', 'chebyshev', 'jaccard')\n",
    "beta_diversities = dict()\n",
    "for metric in metrics:\n",
    "    print(f\"Calculating beta diversity: {metric}\")\n",
    "    beta_diversity = beta(table=tabs, metric=metric, n_jobs=6, pseudocount=1).distance_matrix\n",
    "    beta_diversities[metric] = beta_diversity"
   ]
  },
  {
   "cell_type": "markdown",
   "id": "200a2fa7",
   "metadata": {
    "papermill": {
     "duration": 0.0298,
     "end_time": "2022-09-29T21:25:24.304386",
     "exception": false,
     "start_time": "2022-09-29T21:25:24.274586",
     "status": "completed"
    },
    "tags": []
   },
   "source": [
    "### Beta group significance\n",
    "\n",
    "- [diversity beta_group_significance](https://docs.qiime2.org/2022.8/plugins/available/diversity/beta-group-significance/): Determine whether groups of samples are significantly different from one another using a permutation-based statistical test.\n",
    "- Marti J Anderson. A new method for non-parametric multivariate analysis of variance. Austral ecology, 26(1):32–46, 2001. doi:https://doi.org/10.1111/j.1442-9993.2001.01070.pp.x."
   ]
  },
  {
   "cell_type": "code",
   "execution_count": 17,
   "id": "b8dd42b6",
   "metadata": {
    "ExecuteTime": {
     "end_time": "2022-09-29T20:55:08.313860Z",
     "start_time": "2022-09-29T20:54:36.336993Z"
    },
    "execution": {
     "iopub.execute_input": "2022-09-29T21:25:24.363642Z",
     "iopub.status.busy": "2022-09-29T21:25:24.363263Z",
     "iopub.status.idle": "2022-09-29T21:25:58.248865Z",
     "shell.execute_reply": "2022-09-29T21:25:58.248408Z"
    },
    "papermill": {
     "duration": 33.960836,
     "end_time": "2022-09-29T21:25:58.294360",
     "exception": false,
     "start_time": "2022-09-29T21:25:24.333524",
     "status": "completed"
    },
    "tags": []
   },
   "outputs": [
    {
     "name": "stdout",
     "output_type": "stream",
     "text": [
      "Calculating beta group significance with method permanova and metric dice\n"
     ]
    },
    {
     "name": "stdout",
     "output_type": "stream",
     "text": [
      "Calculating beta group significance with method permanova and metric braycurtis\n"
     ]
    },
    {
     "name": "stdout",
     "output_type": "stream",
     "text": [
      "Calculating beta group significance with method permanova and metric chebyshev\n"
     ]
    },
    {
     "name": "stdout",
     "output_type": "stream",
     "text": [
      "Calculating beta group significance with method permanova and metric jaccard\n"
     ]
    },
    {
     "name": "stdout",
     "output_type": "stream",
     "text": [
      "Calculating beta group significance with method anosim and metric dice\n"
     ]
    },
    {
     "name": "stdout",
     "output_type": "stream",
     "text": [
      "Calculating beta group significance with method anosim and metric braycurtis\n"
     ]
    },
    {
     "name": "stdout",
     "output_type": "stream",
     "text": [
      "Calculating beta group significance with method anosim and metric chebyshev\n"
     ]
    },
    {
     "name": "stdout",
     "output_type": "stream",
     "text": [
      "Calculating beta group significance with method anosim and metric jaccard\n"
     ]
    },
    {
     "name": "stdout",
     "output_type": "stream",
     "text": [
      "Calculating beta group significance with method permdisp and metric dice\n"
     ]
    },
    {
     "name": "stdout",
     "output_type": "stream",
     "text": [
      "Calculating beta group significance with method permdisp and metric braycurtis\n"
     ]
    },
    {
     "name": "stdout",
     "output_type": "stream",
     "text": [
      "Calculating beta group significance with method permdisp and metric chebyshev\n"
     ]
    },
    {
     "name": "stderr",
     "output_type": "stream",
     "text": [
      "/home/lauro/anaconda3/envs/qiime2-2022.2/lib/python3.8/site-packages/skbio/stats/ordination/_principal_coordinate_analysis.py:143: RuntimeWarning: The result contains negative eigenvalues. Please compare their magnitude with the magnitude of some of the largest positive eigenvalues. If the negative ones are smaller, it's probably safe to ignore them, but if they are large in magnitude, the results won't be useful. See the Notes section for more details. The smallest eigenvalue is -95047436.98055731 and the largest is 1022598434.9649236.\n",
      "  warn(\n"
     ]
    },
    {
     "name": "stderr",
     "output_type": "stream",
     "text": [
      "/home/lauro/anaconda3/envs/qiime2-2022.2/lib/python3.8/site-packages/skbio/stats/ordination/_principal_coordinate_analysis.py:143: RuntimeWarning: The result contains negative eigenvalues. Please compare their magnitude with the magnitude of some of the largest positive eigenvalues. If the negative ones are smaller, it's probably safe to ignore them, but if they are large in magnitude, the results won't be useful. See the Notes section for more details. The smallest eigenvalue is -95047436.98055735 and the largest is 1022598434.9649234.\n",
      "  warn(\n"
     ]
    },
    {
     "name": "stdout",
     "output_type": "stream",
     "text": [
      "Calculating beta group significance with method permdisp and metric jaccard\n"
     ]
    },
    {
     "data": {
      "text/plain": [
       "<Figure size 432x288 with 0 Axes>"
      ]
     },
     "metadata": {},
     "output_type": "display_data"
    }
   ],
   "source": [
    "methods = ('permanova', 'anosim', 'permdisp')\n",
    "for method in methods:\n",
    "    for metric, beta_diversity in beta_diversities.items():\n",
    "        print(f'Calculating beta group significance with method {method} and metric {metric}')\n",
    "        beta_view = beta_group_significance(distance_matrix=beta_diversity, \n",
    "                                            metadata=metadata_qa.get_column('group-id'), \n",
    "                                            pairwise=True, method=method).visualization\n",
    "        view_name = os.path.join(qiime_folder, f'beta-group-significance-{metric}-{method}.qzv')\n",
    "        beta_view.save(view_name)"
   ]
  },
  {
   "cell_type": "markdown",
   "id": "c0de85cf",
   "metadata": {
    "papermill": {
     "duration": 0.03602,
     "end_time": "2022-09-29T21:25:58.366647",
     "exception": false,
     "start_time": "2022-09-29T21:25:58.330627",
     "status": "completed"
    },
    "tags": []
   },
   "source": [
    "### Beta group Rarefaction\n",
    "\n",
    "- [diversity beta_rarefaction](https://docs.qiime2.org/2022.8/plugins/available/diversity/beta-rarefaction/): Repeatedly rarefy a feature table to compare beta diversity results within a given rarefaction depth.  For a given beta diversity metric, this visualizer will provide: an Emperor jackknifed PCoA plot, samples clustered by UPGMA or neighbor joining with support calculation, and a heatmap showing the correlation between rarefaction trials of that beta diversity metric."
   ]
  },
  {
   "cell_type": "code",
   "execution_count": null,
   "id": "a8e37df4",
   "metadata": {
    "papermill": {
     "duration": 0.036078,
     "end_time": "2022-09-29T21:25:58.437755",
     "exception": false,
     "start_time": "2022-09-29T21:25:58.401677",
     "status": "completed"
    },
    "tags": []
   },
   "outputs": [],
   "source": []
  }
 ],
 "metadata": {
  "celltoolbar": "Edit Metadata",
  "kernelspec": {
   "display_name": "Python 3 (ipykernel)",
   "language": "python",
   "name": "python3"
  },
  "language_info": {
   "codemirror_mode": {
    "name": "ipython",
    "version": 3
   },
   "file_extension": ".py",
   "mimetype": "text/x-python",
   "name": "python",
   "nbconvert_exporter": "python",
   "pygments_lexer": "ipython3",
   "version": "3.8.12"
  },
  "papermill": {
   "default_parameters": {},
   "duration": 65.00298,
   "end_time": "2022-09-29T21:25:59.294303",
   "environment_variables": {},
   "exception": null,
   "input_path": "nb-steps/step-diversity-analysis.ipynb",
   "output_path": "/home/lauro/nupeb/rede-micro/redemicro-miliane-nutri/experiments/miliane-CxAC/nb-executed-steps/step-diversity-analysis-miliane-CxAC.ipynb",
   "parameters": {
    "base_dir": "/home/lauro/nupeb/rede-micro/redemicro-miliane-nutri",
    "class_col": "group-id",
    "classifier_file": "/home/lauro/nupeb/dados_brutos_rede_genoma/16S_classifiers_qiime2/silva-138-99-nb-classifier.qza",
    "experiment_name": "miliane-CxAC",
    "manifest_file": "/home/lauro/nupeb/rede-micro/redemicro-miliane-nutri/data/raw/manifest/miliane-manifest-CxAC.csv",
    "metadata_file": "/home/lauro/nupeb/rede-micro/redemicro-miliane-nutri/data/raw/metadata/miliane-metadata-CxAC.tsv",
    "overlap": 12,
    "phred": 20,
    "replace_files": false,
    "threads": 6,
    "trunc_f": 0,
    "trunc_r": 0
   },
   "start_time": "2022-09-29T21:24:54.291323",
   "version": "2.3.4"
  }
 },
 "nbformat": 4,
 "nbformat_minor": 5
}