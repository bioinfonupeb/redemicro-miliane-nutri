{
 "cells": [
  {
   "cell_type": "markdown",
   "id": "613aca95",
   "metadata": {
    "papermill": {
     "duration": 0.021519,
     "end_time": "2022-09-19T19:20:24.354734",
     "exception": false,
     "start_time": "2022-09-19T19:20:24.333215",
     "status": "completed"
    },
    "tags": []
   },
   "source": [
    "# Quality Control and ASV table construction with DADA2"
   ]
  },
  {
   "cell_type": "markdown",
   "id": "b511bd28",
   "metadata": {
    "papermill": {
     "duration": 0.013025,
     "end_time": "2022-09-19T19:20:24.381570",
     "exception": false,
     "start_time": "2022-09-19T19:20:24.368545",
     "status": "completed"
    },
    "tags": []
   },
   "source": [
    "## Setup and settings"
   ]
  },
  {
   "cell_type": "code",
   "execution_count": 1,
   "id": "fdd62313",
   "metadata": {
    "ExecuteTime": {
     "end_time": "2022-06-29T18:49:49.974644Z",
     "start_time": "2022-06-29T18:49:30.876897Z"
    },
    "execution": {
     "iopub.execute_input": "2022-09-19T19:20:24.408935Z",
     "iopub.status.busy": "2022-09-19T19:20:24.408497Z",
     "iopub.status.idle": "2022-09-19T19:20:30.520253Z",
     "shell.execute_reply": "2022-09-19T19:20:30.519381Z"
    },
    "papermill": {
     "duration": 6.12929,
     "end_time": "2022-09-19T19:20:30.523777",
     "exception": false,
     "start_time": "2022-09-19T19:20:24.394487",
     "status": "completed"
    },
    "tags": []
   },
   "outputs": [],
   "source": [
    "# Importing packages\n",
    "import os\n",
    "import yaml\n",
    "import logging\n",
    "from qiime2 import Artifact\n",
    "from qiime2 import Visualization\n",
    "from qiime2 import Metadata\n",
    "import qiime2.plugins.dada2.actions as dada2_actions\n",
    "import qiime2.plugins.metadata.actions as metadata_actions\n",
    "\n",
    "import matplotlib.pyplot as plt\n",
    "\n",
    "from utils import *\n",
    "\n",
    "%matplotlib inline"
   ]
  },
  {
   "cell_type": "markdown",
   "id": "1247c37e",
   "metadata": {
    "papermill": {
     "duration": 0.012528,
     "end_time": "2022-09-19T19:20:30.555213",
     "exception": false,
     "start_time": "2022-09-19T19:20:30.542685",
     "status": "completed"
    },
    "tags": []
   },
   "source": [
    "### Receiving the parameters\n",
    "\n",
    "The following cell can receive parameters using the [papermill](https://papermill.readthedocs.io/en/latest/) tool."
   ]
  },
  {
   "cell_type": "code",
   "execution_count": 2,
   "id": "f6fb47e8",
   "metadata": {
    "ExecuteTime": {
     "end_time": "2022-06-29T18:54:01.035034Z",
     "start_time": "2022-06-29T18:54:01.028724Z"
    },
    "execution": {
     "iopub.execute_input": "2022-09-19T19:20:30.581374Z",
     "iopub.status.busy": "2022-09-19T19:20:30.581120Z",
     "iopub.status.idle": "2022-09-19T19:20:30.587209Z",
     "shell.execute_reply": "2022-09-19T19:20:30.586540Z"
    },
    "papermill": {
     "duration": 0.021129,
     "end_time": "2022-09-19T19:20:30.588757",
     "exception": false,
     "start_time": "2022-09-19T19:20:30.567628",
     "status": "completed"
    },
    "tags": [
     "parameters"
    ]
   },
   "outputs": [],
   "source": [
    "experiment_name = 'ana-flavia-superlactacao'\n",
    "base_dir = os.path.join('/', 'home', 'lauro', 'nupeb', 'redemicro')\n",
    "metadata_file = os.path.join(base_dir, 'data', 'raw', 'metadata', 'sample-metadata.tsv')\n",
    "replace_files = False\n",
    "phred = 20\n",
    "trunc_f = 0\n",
    "trunc_r = 0\n",
    "overlap = 12\n",
    "threads = 6\n",
    "trim = None"
   ]
  },
  {
   "cell_type": "code",
   "execution_count": 3,
   "id": "70864587",
   "metadata": {
    "execution": {
     "iopub.execute_input": "2022-09-19T19:20:30.616254Z",
     "iopub.status.busy": "2022-09-19T19:20:30.615971Z",
     "iopub.status.idle": "2022-09-19T19:20:30.621719Z",
     "shell.execute_reply": "2022-09-19T19:20:30.621028Z"
    },
    "papermill": {
     "duration": 0.021247,
     "end_time": "2022-09-19T19:20:30.623209",
     "exception": false,
     "start_time": "2022-09-19T19:20:30.601962",
     "status": "completed"
    },
    "tags": [
     "injected-parameters"
    ]
   },
   "outputs": [],
   "source": [
    "# Parameters\n",
    "experiment_name = \"miliane-CxAC\"\n",
    "base_dir = \"/home/lauro/nupeb/rede-micro/redemicro-miliane-nutri\"\n",
    "manifest_file = \"/home/lauro/nupeb/rede-micro/redemicro-miliane-nutri/data/raw/manifest/miliane-manifest-CxAC.csv\"\n",
    "metadata_file = \"/home/lauro/nupeb/rede-micro/redemicro-miliane-nutri/data/raw/metadata/miliane-metadata-CxAC.tsv\"\n",
    "class_col = \"group-id\"\n",
    "classifier_file = \"/home/lauro/nupeb/dados_brutos_rede_genoma/16S_classifiers_qiime2/silva-138-99-nb-classifier.qza\"\n",
    "replace_files = False\n",
    "phred = 20\n",
    "trunc_f = 0\n",
    "trunc_r = 0\n",
    "overlap = 12\n",
    "threads = 6\n"
   ]
  },
  {
   "cell_type": "code",
   "execution_count": 4,
   "id": "8cb49dcc",
   "metadata": {
    "execution": {
     "iopub.execute_input": "2022-09-19T19:20:30.649427Z",
     "iopub.status.busy": "2022-09-19T19:20:30.649047Z",
     "iopub.status.idle": "2022-09-19T19:20:30.657903Z",
     "shell.execute_reply": "2022-09-19T19:20:30.657116Z"
    },
    "papermill": {
     "duration": 0.023999,
     "end_time": "2022-09-19T19:20:30.659558",
     "exception": false,
     "start_time": "2022-09-19T19:20:30.635559",
     "status": "completed"
    },
    "tags": []
   },
   "outputs": [],
   "source": [
    "# Setting hardcoded parameters for development and debbuging\n",
    "production = True\n",
    "if not production:\n",
    "    params_path = os.path.join('..', 'params', 'ana-flavia-superlactacao.yaml')\n",
    "    with open(params_path, 'r') as stream:\n",
    "        params = yaml.safe_load(stream)\n",
    "        experiment_name = params['experiment_name']\n",
    "        base_dir = params['base_dir']\n",
    "        replace_files = params['replace_files']\n",
    "        experiment_folder = os.path.abspath(os.path.join(os.getcwd(), '..', 'experiments', 'thayane-feces-01'))\n",
    "        img_folder = os.path.abspath(os.path.join(experiment_folder, 'imgs'))\n",
    "        replace_files = False\n",
    "        phred = 20\n",
    "        trunc_f = 0\n",
    "        trunc_r = 0\n",
    "        overlap = 12\n",
    "        threads = 6"
   ]
  },
  {
   "cell_type": "code",
   "execution_count": 5,
   "id": "ca4550dd",
   "metadata": {
    "ExecuteTime": {
     "end_time": "2022-06-29T18:51:02.089300Z",
     "start_time": "2022-06-29T18:51:02.084922Z"
    },
    "execution": {
     "iopub.execute_input": "2022-09-19T19:20:30.686672Z",
     "iopub.status.busy": "2022-09-19T19:20:30.686328Z",
     "iopub.status.idle": "2022-09-19T19:20:30.691598Z",
     "shell.execute_reply": "2022-09-19T19:20:30.690820Z"
    },
    "papermill": {
     "duration": 0.020598,
     "end_time": "2022-09-19T19:20:30.693357",
     "exception": false,
     "start_time": "2022-09-19T19:20:30.672759",
     "status": "completed"
    },
    "tags": []
   },
   "outputs": [],
   "source": [
    "experiment_folder = os.path.abspath(os.path.join(base_dir, 'experiments', experiment_name))\n",
    "img_folder = os.path.abspath(os.path.join(experiment_folder, 'imgs'))"
   ]
  },
  {
   "cell_type": "markdown",
   "id": "e845aaaa",
   "metadata": {
    "papermill": {
     "duration": 0.012523,
     "end_time": "2022-09-19T19:20:30.718862",
     "exception": false,
     "start_time": "2022-09-19T19:20:30.706339",
     "status": "completed"
    },
    "tags": []
   },
   "source": [
    "### Defining names and paths"
   ]
  },
  {
   "cell_type": "code",
   "execution_count": 6,
   "id": "62d3304c",
   "metadata": {
    "ExecuteTime": {
     "end_time": "2022-05-30T19:57:39.064490Z",
     "start_time": "2022-05-30T19:57:39.007809Z"
    },
    "execution": {
     "iopub.execute_input": "2022-09-19T19:20:30.747212Z",
     "iopub.status.busy": "2022-09-19T19:20:30.746740Z",
     "iopub.status.idle": "2022-09-19T19:20:30.755298Z",
     "shell.execute_reply": "2022-09-19T19:20:30.754485Z"
    },
    "papermill": {
     "duration": 0.024143,
     "end_time": "2022-09-19T19:20:30.756926",
     "exception": false,
     "start_time": "2022-09-19T19:20:30.732783",
     "status": "completed"
    },
    "tags": []
   },
   "outputs": [],
   "source": [
    "qiime_folder = os.path.join(experiment_folder, 'qiime-artifacts')\n",
    "\n",
    "if trim:\n",
    "    demux_file = os.path.join(qiime_folder, 'demux-paired-trim.qza')\n",
    "else:\n",
    "    demux_file = os.path.join(qiime_folder, 'demux-paired.qza')\n",
    "\n",
    "dada2_tabs = os.path.join(qiime_folder, 'dada2-tabs.qza')\n",
    "dada2_reps = os.path.join(qiime_folder, 'dada2-reps.qza')\n",
    "dada2_stat = os.path.join(qiime_folder, 'dada2-stat.qza')\n",
    "\n",
    "dada2_tabs_view = dada2_tabs[:-1] + 'v'\n",
    "dada2_reps_view = dada2_reps[:-1] + 'v'\n",
    "dada2_stat_view = dada2_stat[:-1] + 'v'"
   ]
  },
  {
   "cell_type": "markdown",
   "id": "39389001",
   "metadata": {
    "papermill": {
     "duration": 0.012998,
     "end_time": "2022-09-19T19:20:30.783548",
     "exception": false,
     "start_time": "2022-09-19T19:20:30.770550",
     "status": "completed"
    },
    "tags": []
   },
   "source": [
    "## Step execution\n",
    "\n",
    "### Load input files\n",
    "\n",
    "This Step import the QIIME2 `SampleData[PairedEndSequencesWithQuality]` Artifact with all demultiplexed sequences and the `Metadata` file."
   ]
  },
  {
   "cell_type": "code",
   "execution_count": 7,
   "id": "4871dd33",
   "metadata": {
    "ExecuteTime": {
     "end_time": "2022-05-30T19:57:39.077380Z",
     "start_time": "2022-05-30T19:57:39.066746Z"
    },
    "execution": {
     "iopub.execute_input": "2022-09-19T19:20:30.810420Z",
     "iopub.status.busy": "2022-09-19T19:20:30.810007Z",
     "iopub.status.idle": "2022-09-19T19:20:30.816137Z",
     "shell.execute_reply": "2022-09-19T19:20:30.815394Z"
    },
    "papermill": {
     "duration": 0.02159,
     "end_time": "2022-09-19T19:20:30.817763",
     "exception": false,
     "start_time": "2022-09-19T19:20:30.796173",
     "status": "completed"
    },
    "tags": []
   },
   "outputs": [],
   "source": [
    "need_dada2 = not (os.path.isfile(dada2_tabs) and os.path.isfile(dada2_reps) and os.path.isfile(dada2_stat)) or replace_files\n",
    "need_view = not (os.path.isfile(dada2_tabs_view) and os.path.isfile(dada2_reps_view) and os.path.isfile(dada2_stat_view)) or replace_files"
   ]
  },
  {
   "cell_type": "code",
   "execution_count": 8,
   "id": "30dd1886",
   "metadata": {
    "ExecuteTime": {
     "end_time": "2022-05-30T19:57:39.089632Z",
     "start_time": "2022-05-30T19:57:39.079347Z"
    },
    "execution": {
     "iopub.execute_input": "2022-09-19T19:20:30.846187Z",
     "iopub.status.busy": "2022-09-19T19:20:30.845783Z",
     "iopub.status.idle": "2022-09-19T19:20:30.850362Z",
     "shell.execute_reply": "2022-09-19T19:20:30.849551Z"
    },
    "papermill": {
     "duration": 0.020162,
     "end_time": "2022-09-19T19:20:30.851985",
     "exception": false,
     "start_time": "2022-09-19T19:20:30.831823",
     "status": "completed"
    },
    "tags": []
   },
   "outputs": [],
   "source": [
    "if need_dada2:\n",
    "    demux = Artifact.load(demux_file)"
   ]
  },
  {
   "cell_type": "code",
   "execution_count": 9,
   "id": "adb3d3c1",
   "metadata": {
    "ExecuteTime": {
     "end_time": "2022-05-30T19:57:39.145879Z",
     "start_time": "2022-05-30T19:57:39.091983Z"
    },
    "execution": {
     "iopub.execute_input": "2022-09-19T19:20:30.879885Z",
     "iopub.status.busy": "2022-09-19T19:20:30.879471Z",
     "iopub.status.idle": "2022-09-19T19:20:30.913033Z",
     "shell.execute_reply": "2022-09-19T19:20:30.912449Z"
    },
    "papermill": {
     "duration": 0.049881,
     "end_time": "2022-09-19T19:20:30.915115",
     "exception": false,
     "start_time": "2022-09-19T19:20:30.865234",
     "status": "completed"
    },
    "tags": []
   },
   "outputs": [],
   "source": [
    "metadata = Metadata.load(metadata_file)"
   ]
  },
  {
   "cell_type": "markdown",
   "id": "984646bd",
   "metadata": {
    "papermill": {
     "duration": 0.013583,
     "end_time": "2022-09-19T19:20:30.947189",
     "exception": false,
     "start_time": "2022-09-19T19:20:30.933606",
     "status": "completed"
    },
    "tags": []
   },
   "source": [
    "### Execute DADA2 plugin and create Artifacts\n",
    "\n",
    "The DADA2 plugin perform tha quality control and create the ASV table. It will be produced three Artifacts:\n",
    "\n",
    "- tabs (`FeatureTable[Frequency]`) : \n",
    "    The resulting feature table.\n",
    "- reps (`FeatureData[Sequence]`) :\n",
    "    The resulting feature sequences. Each feature in the feature table will\n",
    "    be represented by exactly one sequence, and these sequences will be the\n",
    "    joined paired-end sequences.\n",
    "- denoising_stats (`SampleData[DADA2Stats]`) : the resulting stats. Shows the number and the proportion of filtered reads in each phase of the plugin execution."
   ]
  },
  {
   "cell_type": "code",
   "execution_count": 10,
   "id": "1b90664b",
   "metadata": {
    "ExecuteTime": {
     "end_time": "2022-05-30T19:57:39.171629Z",
     "start_time": "2022-05-30T19:57:39.147370Z"
    },
    "execution": {
     "iopub.execute_input": "2022-09-19T19:20:30.975516Z",
     "iopub.status.busy": "2022-09-19T19:20:30.975158Z",
     "iopub.status.idle": "2022-09-19T19:20:31.001563Z",
     "shell.execute_reply": "2022-09-19T19:20:31.001116Z"
    },
    "papermill": {
     "duration": 0.042285,
     "end_time": "2022-09-19T19:20:31.003143",
     "exception": false,
     "start_time": "2022-09-19T19:20:30.960858",
     "status": "completed"
    },
    "scrolled": true,
    "tags": []
   },
   "outputs": [],
   "source": [
    "# If some of the DADA2 outputs artifacts do not exist or if the old files will be replaced\n",
    "if need_dada2:\n",
    "    \n",
    "    # Excute the DADA2 plugin\n",
    "    tabs, reps, stat = dada2_actions.denoise_paired(\n",
    "        demultiplexed_seqs=demux,\n",
    "        trunc_q = phred,\n",
    "        min_overlap = overlap,\n",
    "        n_threads = threads,\n",
    "        trunc_len_f = trunc_f,\n",
    "        trunc_len_r = trunc_r,\n",
    "    )\n",
    "    \n",
    "    # Save the artifacts objects\n",
    "    tabs.save(dada2_tabs)\n",
    "    reps.save(dada2_reps)\n",
    "    stat.save(dada2_stat)\n",
    "\n",
    "else:\n",
    "    tabs = Artifact.load(dada2_tabs)\n",
    "    reps = Artifact.load(dada2_reps)\n",
    "    stat = Artifact.load(dada2_stat)"
   ]
  },
  {
   "cell_type": "markdown",
   "id": "8c44b2bd",
   "metadata": {
    "papermill": {
     "duration": 0.012997,
     "end_time": "2022-09-19T19:20:31.032833",
     "exception": false,
     "start_time": "2022-09-19T19:20:31.019836",
     "status": "completed"
    },
    "tags": []
   },
   "source": [
    "### Define Visualizations Artifacts"
   ]
  },
  {
   "cell_type": "code",
   "execution_count": 11,
   "id": "37f932a4",
   "metadata": {
    "ExecuteTime": {
     "end_time": "2022-05-30T19:57:39.249051Z",
     "start_time": "2022-05-30T19:57:39.173053Z"
    },
    "execution": {
     "iopub.execute_input": "2022-09-19T19:20:31.061686Z",
     "iopub.status.busy": "2022-09-19T19:20:31.061408Z",
     "iopub.status.idle": "2022-09-19T19:20:31.155294Z",
     "shell.execute_reply": "2022-09-19T19:20:31.154734Z"
    },
    "papermill": {
     "duration": 0.109789,
     "end_time": "2022-09-19T19:20:31.157156",
     "exception": false,
     "start_time": "2022-09-19T19:20:31.047367",
     "status": "completed"
    },
    "tags": []
   },
   "outputs": [],
   "source": [
    "# If some of the DADA2 Visualization artifacts do not exist or if the old files will be replaced\n",
    "if need_view:\n",
    "    \n",
    "    tabs_view, = metadata_actions.tabulate(input=tabs.view(Metadata))\n",
    "    reps_view, = metadata_actions.tabulate(input=reps.view(Metadata))\n",
    "    stat_view, = metadata_actions.tabulate(input=stat.view(Metadata))\n",
    "    \n",
    "    # Save the artifacts objects\n",
    "    tabs_view.save(dada2_tabs_view)\n",
    "    reps_view.save(dada2_reps_view)\n",
    "    stat_view.save(dada2_stat_view)\n",
    "\n",
    "else:\n",
    "    tabs_view = Visualization.load(dada2_tabs_view)\n",
    "    reps_view = Visualization.load(dada2_reps_view)\n",
    "    stat_view = Visualization.load(dada2_stat_view)"
   ]
  },
  {
   "cell_type": "code",
   "execution_count": 12,
   "id": "fdfbecd0",
   "metadata": {
    "ExecuteTime": {
     "end_time": "2022-05-30T19:57:39.901491Z",
     "start_time": "2022-05-30T19:57:39.255220Z"
    },
    "execution": {
     "iopub.execute_input": "2022-09-19T19:20:31.189388Z",
     "iopub.status.busy": "2022-09-19T19:20:31.189165Z",
     "iopub.status.idle": "2022-09-19T19:20:32.622778Z",
     "shell.execute_reply": "2022-09-19T19:20:32.622143Z"
    },
    "papermill": {
     "duration": 1.453535,
     "end_time": "2022-09-19T19:20:32.627592",
     "exception": false,
     "start_time": "2022-09-19T19:20:31.174057",
     "status": "completed"
    },
    "tags": []
   },
   "outputs": [
    {
     "data": {
      "image/png": "[encoded data removed]",
      "text/plain": [
       "<Figure size 1080x360 with 2 Axes>"
      ]
     },
     "metadata": {
      "needs_background": "light"
     },
     "output_type": "display_data"
    }
   ],
   "source": [
    "plot_stats_box(stat, os.path.join(img_folder, 'step02-stats-boxplot.pdf'))"
   ]
  },
  {
   "cell_type": "code",
   "execution_count": 13,
   "id": "81651c16",
   "metadata": {
    "ExecuteTime": {
     "end_time": "2022-05-31T17:58:47.140114Z",
     "start_time": "2022-05-31T17:58:47.087808Z"
    },
    "execution": {
     "iopub.execute_input": "2022-09-19T19:20:32.662334Z",
     "iopub.status.busy": "2022-09-19T19:20:32.662118Z",
     "iopub.status.idle": "2022-09-19T19:20:32.708381Z",
     "shell.execute_reply": "2022-09-19T19:20:32.707843Z"
    },
    "papermill": {
     "duration": 0.063435,
     "end_time": "2022-09-19T19:20:32.710953",
     "exception": false,
     "start_time": "2022-09-19T19:20:32.647518",
     "status": "completed"
    },
    "tags": []
   },
   "outputs": [
    {
     "data": {
      "text/html": [
       "<div>\n",
       "<style scoped>\n",
       "    .dataframe tbody tr th:only-of-type {\n",
       "        vertical-align: middle;\n",
       "    }\n",
       "\n",
       "    .dataframe tbody tr th {\n",
       "        vertical-align: top;\n",
       "    }\n",
       "\n",
       "    .dataframe thead th {\n",
       "        text-align: right;\n",
       "    }\n",
       "</style>\n",
       "<table border=\"1\" class=\"dataframe\">\n",
       "  <thead>\n",
       "    <tr style=\"text-align: right;\">\n",
       "      <th></th>\n",
       "      <th>percentage of input passed filter</th>\n",
       "      <th>percentage of input merged</th>\n",
       "      <th>percentage of input non-chimeric</th>\n",
       "    </tr>\n",
       "  </thead>\n",
       "  <tbody>\n",
       "    <tr>\n",
       "      <th>count</th>\n",
       "      <td>12.000000</td>\n",
       "      <td>12.000000</td>\n",
       "      <td>12.000000</td>\n",
       "    </tr>\n",
       "    <tr>\n",
       "      <th>mean</th>\n",
       "      <td>81.173333</td>\n",
       "      <td>62.968333</td>\n",
       "      <td>62.375000</td>\n",
       "    </tr>\n",
       "    <tr>\n",
       "      <th>std</th>\n",
       "      <td>0.465566</td>\n",
       "      <td>17.779548</td>\n",
       "      <td>17.708062</td>\n",
       "    </tr>\n",
       "    <tr>\n",
       "      <th>min</th>\n",
       "      <td>80.500000</td>\n",
       "      <td>31.780000</td>\n",
       "      <td>31.230000</td>\n",
       "    </tr>\n",
       "    <tr>\n",
       "      <th>25%</th>\n",
       "      <td>80.845000</td>\n",
       "      <td>61.682500</td>\n",
       "      <td>60.292500</td>\n",
       "    </tr>\n",
       "    <tr>\n",
       "      <th>50%</th>\n",
       "      <td>81.145000</td>\n",
       "      <td>71.105000</td>\n",
       "      <td>70.920000</td>\n",
       "    </tr>\n",
       "    <tr>\n",
       "      <th>75%</th>\n",
       "      <td>81.405000</td>\n",
       "      <td>73.822500</td>\n",
       "      <td>73.152500</td>\n",
       "    </tr>\n",
       "    <tr>\n",
       "      <th>max</th>\n",
       "      <td>82.150000</td>\n",
       "      <td>76.330000</td>\n",
       "      <td>75.810000</td>\n",
       "    </tr>\n",
       "  </tbody>\n",
       "</table>\n",
       "</div>"
      ],
      "text/plain": [
       "       percentage of input passed filter  percentage of input merged  \\\n",
       "count                          12.000000                   12.000000   \n",
       "mean                           81.173333                   62.968333   \n",
       "std                             0.465566                   17.779548   \n",
       "min                            80.500000                   31.780000   \n",
       "25%                            80.845000                   61.682500   \n",
       "50%                            81.145000                   71.105000   \n",
       "75%                            81.405000                   73.822500   \n",
       "max                            82.150000                   76.330000   \n",
       "\n",
       "       percentage of input non-chimeric  \n",
       "count                         12.000000  \n",
       "mean                          62.375000  \n",
       "std                           17.708062  \n",
       "min                           31.230000  \n",
       "25%                           60.292500  \n",
       "50%                           70.920000  \n",
       "75%                           73.152500  \n",
       "max                           75.810000  "
      ]
     },
     "execution_count": 13,
     "metadata": {},
     "output_type": "execute_result"
    }
   ],
   "source": [
    "percent_head = ['percentage of input passed filter', 'percentage of input merged', 'percentage of input non-chimeric']\n",
    "stat.view(Metadata).to_dataframe().describe()[percent_head]"
   ]
  },
  {
   "cell_type": "code",
   "execution_count": 14,
   "id": "d23545ee",
   "metadata": {
    "ExecuteTime": {
     "end_time": "2022-05-30T19:57:39.957632Z",
     "start_time": "2022-05-30T19:57:39.953762Z"
    },
    "execution": {
     "iopub.execute_input": "2022-09-19T19:20:32.746428Z",
     "iopub.status.busy": "2022-09-19T19:20:32.746184Z",
     "iopub.status.idle": "2022-09-19T19:20:32.751566Z",
     "shell.execute_reply": "2022-09-19T19:20:32.750985Z"
    },
    "papermill": {
     "duration": 0.02226,
     "end_time": "2022-09-19T19:20:32.752985",
     "exception": false,
     "start_time": "2022-09-19T19:20:32.730725",
     "status": "completed"
    },
    "tags": []
   },
   "outputs": [
    {
     "data": {
      "text/html": [
       "<div><img onload=\"(function(div, url){\n",
       "if (typeof require !== 'undefined') {\n",
       "    var baseURL = require.toUrl('').split('/').slice(0, -2).join('/');\n",
       "} else {\n",
       "    var baseURL = JSON.parse(\n",
       "        document.getElementById('jupyter-config-data').innerHTML\n",
       "    ).baseUrl.slice(0, -1);\n",
       "}\n",
       "url = baseURL + url;\n",
       "fetch(url).then(function(res) {\n",
       "    if (res.status === 404) {\n",
       "        div.innerHTML = 'Install QIIME 2 Jupyter extension with:<br />' +\n",
       "                        '<code>jupyter serverextension enable --py qiime2' +\n",
       "                        ' --sys-prefix</code><br />then restart your server.' +\n",
       "                        '<br /><br />(Interactive output not available on ' +\n",
       "                        'static notebook viewer services like nbviewer.)';\n",
       "    } else if (res.status === 409) {\n",
       "        div.innerHTML = 'Visualization no longer in scope. Re-run this cell' +\n",
       "                        ' to see the visualization.';\n",
       "    } else if (res.ok) {\n",
       "        url = res.url;\n",
       "        div.innerHTML = '<iframe src=\\'' + url + '\\' style=\\'' +\n",
       "                        'width: 100%; height: 700px; border: 0;\\'>' +\n",
       "                        '</iframe><hr />Open in a: <a href=\\'' + url + '\\'' +\n",
       "                        ' target=\\'_blank\\'>new window</a>'\n",
       "    } else {\n",
       "        div.innerHTML = 'Something has gone wrong. Check notebook server for' +\n",
       "                        ' errors.';\n",
       "    }\n",
       "});\n",
       "})(this.parentElement, '/qiime2/redirect?location=/tmp/qiime2-archive-12u_flbu')\" src=\"data:image/gif;base64,R0lGODlhAQABAIAAAP///wAAACH5BAEAAAAALAAAAAABAAEAAAICRAEAOw==\" /></div>"
      ],
      "text/plain": [
       "<visualization: Visualization uuid: 7915d9da-0bb3-462c-8dc2-c3c86f0cf4f9>"
      ]
     },
     "execution_count": 14,
     "metadata": {},
     "output_type": "execute_result"
    }
   ],
   "source": [
    "stat_view"
   ]
  },
  {
   "cell_type": "code",
   "execution_count": 15,
   "id": "98ffb837",
   "metadata": {
    "ExecuteTime": {
     "end_time": "2022-05-30T19:57:39.967918Z",
     "start_time": "2022-05-30T19:57:39.958955Z"
    },
    "execution": {
     "iopub.execute_input": "2022-09-19T19:20:32.783785Z",
     "iopub.status.busy": "2022-09-19T19:20:32.783534Z",
     "iopub.status.idle": "2022-09-19T19:20:32.787087Z",
     "shell.execute_reply": "2022-09-19T19:20:32.786511Z"
    },
    "papermill": {
     "duration": 0.020589,
     "end_time": "2022-09-19T19:20:32.788541",
     "exception": false,
     "start_time": "2022-09-19T19:20:32.767952",
     "status": "completed"
    },
    "tags": []
   },
   "outputs": [],
   "source": [
    "# new_stat = Artifact.load('/home/lauro/nupeb/redemicro/experiments/thayane-feces-01/qiime-artifacts/dada2-stat.qza')\n",
    "# # new_view, = metadata_actions.tabulate(input=new_stat.view(Metadata))\n",
    "# # plot_stats_box(old_stat)\n",
    "\n",
    "# old_stat = Artifact.load('/home/lauro/nupeb/dados_brutos_rede_genoma/experiments/fezes-phred_20-tf_0-tr_0-lap_4/fezes_dada2_stat.qza')\n",
    "# # old_view, = metadata_actions.tabulate(input=old_stat.view(Metadata))\n",
    "# # plot_stats_box(old_stat)\n",
    "\n",
    "# plot_stats_box_pairs(old_stat, new_stat)"
   ]
  }
 ],
 "metadata": {
  "celltoolbar": "Edit Metadata",
  "kernelspec": {
   "display_name": "Python 3 (ipykernel)",
   "language": "python",
   "name": "python3"
  },
  "language_info": {
   "codemirror_mode": {
    "name": "ipython",
    "version": 3
   },
   "file_extension": ".py",
   "mimetype": "text/x-python",
   "name": "python",
   "nbconvert_exporter": "python",
   "pygments_lexer": "ipython3",
   "version": "3.8.12"
  },
  "papermill": {
   "default_parameters": {},
   "duration": 10.59709,
   "end_time": "2022-09-19T19:20:33.622105",
   "environment_variables": {},
   "exception": null,
   "input_path": "nb-steps/step-02-dada2.ipynb",
   "output_path": "/home/lauro/nupeb/rede-micro/redemicro-miliane-nutri/experiments/miliane-CxAC/nb-executed-steps/step-02-dada2-miliane-CxAC.ipynb",
   "parameters": {
    "base_dir": "/home/lauro/nupeb/rede-micro/redemicro-miliane-nutri",
    "class_col": "group-id",
    "classifier_file": "/home/lauro/nupeb/dados_brutos_rede_genoma/16S_classifiers_qiime2/silva-138-99-nb-classifier.qza",
    "experiment_name": "miliane-CxAC",
    "manifest_file": "/home/lauro/nupeb/rede-micro/redemicro-miliane-nutri/data/raw/manifest/miliane-manifest-CxAC.csv",
    "metadata_file": "/home/lauro/nupeb/rede-micro/redemicro-miliane-nutri/data/raw/metadata/miliane-metadata-CxAC.tsv",
    "overlap": 12,
    "phred": 20,
    "replace_files": false,
    "threads": 6,
    "trunc_f": 0,
    "trunc_r": 0
   },
   "start_time": "2022-09-19T19:20:23.025015",
   "version": "2.3.4"
  },
  "toc-autonumbering": false,
  "toc-showcode": false,
  "toc-showmarkdowntxt": false
 },
 "nbformat": 4,
 "nbformat_minor": 5
}