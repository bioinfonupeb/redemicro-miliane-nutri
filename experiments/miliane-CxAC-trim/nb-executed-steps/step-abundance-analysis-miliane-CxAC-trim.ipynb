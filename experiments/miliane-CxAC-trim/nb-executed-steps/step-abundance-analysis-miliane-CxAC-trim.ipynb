{
 "cells": [
  {
   "cell_type": "markdown",
   "id": "507e54e7",
   "metadata": {
    "tags": [
     "papermill-error-cell-tag"
    ]
   },
   "source": [
    "<span style=\"color:red; font-family:Helvetica Neue, Helvetica, Arial, sans-serif; font-size:2em;\">An Exception was encountered at '<a href=\"#papermill-error-cell\">In [6]</a>'.</span>"
   ]
  },
  {
   "cell_type": "markdown",
   "id": "0e7f2330",
   "metadata": {
    "ExecuteTime": {
     "end_time": "2022-09-22T19:36:33.828188Z",
     "start_time": "2022-09-22T19:36:33.817323Z"
    },
    "papermill": {
     "duration": 0.015463,
     "end_time": "2022-11-03T21:20:25.188384",
     "exception": false,
     "start_time": "2022-11-03T21:20:25.172921",
     "status": "completed"
    },
    "tags": []
   },
   "source": [
    "### STEP : Diversity Analysis\n",
    "\n",
    "\n",
    "\n",
    "#### Example\n",
    "\n",
    "- [“Moving Pictures” tutorial](https://docs.qiime2.org/2022.8/tutorials/moving-pictures-usage/?highlight=ancom)\n",
    "\n",
    "\n",
    "#### Methods\n",
    "- [composition](https://docs.qiime2.org/2022.8/plugins/available/composition/)\n",
    "- [composition add_pseudocount](https://docs.qiime2.org/2022.8/plugins/available/composition/add-pseudocount/): Increment all counts in table by pseudocount.\n",
    "- [composition ancom](https://docs.qiime2.org/2022.8/plugins/available/composition/ancom/): Apply ANCOM to identify features that differ in abundance."
   ]
  },
  {
   "cell_type": "markdown",
   "id": "843debbf",
   "metadata": {
    "papermill": {
     "duration": 0.083879,
     "end_time": "2022-11-03T21:20:25.281540",
     "exception": false,
     "start_time": "2022-11-03T21:20:25.197661",
     "status": "completed"
    },
    "tags": []
   },
   "source": [
    "## Setup and settings"
   ]
  },
  {
   "cell_type": "code",
   "execution_count": 1,
   "id": "965e28e5",
   "metadata": {
    "ExecuteTime": {
     "end_time": "2022-11-03T21:21:23.530652Z",
     "start_time": "2022-11-03T21:21:17.055425Z"
    },
    "execution": {
     "iopub.execute_input": "2022-11-03T21:20:25.301149Z",
     "iopub.status.busy": "2022-11-03T21:20:25.300828Z",
     "iopub.status.idle": "2022-11-03T21:20:32.155078Z",
     "shell.execute_reply": "2022-11-03T21:20:32.154428Z"
    },
    "papermill": {
     "duration": 6.867397,
     "end_time": "2022-11-03T21:20:32.158457",
     "exception": false,
     "start_time": "2022-11-03T21:20:25.291060",
     "status": "completed"
    },
    "tags": []
   },
   "outputs": [],
   "source": [
    "# Importing packages\n",
    "import os\n",
    "import pandas as pd\n",
    "from qiime2 import Artifact\n",
    "from qiime2 import Visualization\n",
    "from qiime2 import Metadata\n",
    "\n",
    "from qiime2.plugins.composition.visualizers import ancom\n",
    "from qiime2.plugins.composition.methods import add_pseudocount\n",
    "\n",
    "%matplotlib inline"
   ]
  },
  {
   "cell_type": "markdown",
   "id": "530ceb60",
   "metadata": {
    "papermill": {
     "duration": 0.008199,
     "end_time": "2022-11-03T21:20:32.178234",
     "exception": false,
     "start_time": "2022-11-03T21:20:32.170035",
     "status": "completed"
    },
    "tags": []
   },
   "source": [
    "### Receiving the parameters\n",
    "\n",
    "The following cell can receive parameters using the [papermill](https://papermill.readthedocs.io/en/latest/) tool."
   ]
  },
  {
   "cell_type": "code",
   "execution_count": 2,
   "id": "18d874ea",
   "metadata": {
    "ExecuteTime": {
     "end_time": "2022-11-03T21:21:23.535539Z",
     "start_time": "2022-11-03T21:21:23.532787Z"
    },
    "execution": {
     "iopub.execute_input": "2022-11-03T21:20:32.194714Z",
     "iopub.status.busy": "2022-11-03T21:20:32.194512Z",
     "iopub.status.idle": "2022-11-03T21:20:32.198975Z",
     "shell.execute_reply": "2022-11-03T21:20:32.198361Z"
    },
    "papermill": {
     "duration": 0.01458,
     "end_time": "2022-11-03T21:20:32.200403",
     "exception": false,
     "start_time": "2022-11-03T21:20:32.185823",
     "status": "completed"
    },
    "tags": [
     "parameters"
    ]
   },
   "outputs": [],
   "source": [
    "metadata_file = '/home/lauro/nupeb/rede-micro/redemicro-miliane-nutri/data/raw/metadata/miliane-metadata-CxAC.tsv'\n",
    "base_dir = os.path.join('/', 'home', 'lauro', 'nupeb', 'rede-micro', 'redemicro-miliane-nutri')\n",
    "experiment_name = 'miliane-CxAC-trim'\n",
    "class_col = 'group-id'\n",
    "replace_files = False"
   ]
  },
  {
   "cell_type": "code",
   "execution_count": 3,
   "id": "7b9665bc",
   "metadata": {
    "ExecuteTime": {
     "end_time": "2022-11-03T21:21:23.548051Z",
     "start_time": "2022-11-03T21:21:23.536938Z"
    },
    "execution": {
     "iopub.execute_input": "2022-11-03T21:20:32.216976Z",
     "iopub.status.busy": "2022-11-03T21:20:32.216726Z",
     "iopub.status.idle": "2022-11-03T21:20:32.222653Z",
     "shell.execute_reply": "2022-11-03T21:20:32.221974Z"
    },
    "papermill": {
     "duration": 0.01611,
     "end_time": "2022-11-03T21:20:32.224204",
     "exception": false,
     "start_time": "2022-11-03T21:20:32.208094",
     "status": "completed"
    },
    "tags": [
     "injected-parameters"
    ]
   },
   "outputs": [],
   "source": [
    "# Parameters\n",
    "experiment_name = \"miliane-CxAC-trim\"\n",
    "base_dir = \"/home/lauro/nupeb/rede-micro/redemicro-miliane-nutri\"\n",
    "manifest_file = \"/home/lauro/nupeb/rede-micro/redemicro-miliane-nutri/data/raw/manifest/miliane-manifest-CxAC.csv\"\n",
    "metadata_file = \"/home/lauro/nupeb/rede-micro/redemicro-miliane-nutri/data/raw/metadata/miliane-metadata-CxAC.tsv\"\n",
    "class_col = \"group-id\"\n",
    "classifier_file = \"/home/lauro/nupeb/dados_brutos_rede_genoma/16S_classifiers_qiime2/silva-138-99-nb-classifier.qza\"\n",
    "replace_files = False\n",
    "phred = 20\n",
    "trunc_f = 0\n",
    "trunc_r = 0\n",
    "overlap = 12\n",
    "threads = 6\n",
    "trim = {\n",
    "    \"overlap\": 8,\n",
    "    \"forward_primer\": \"CCTACGGGRSGCAGCAG\",\n",
    "    \"reverse_primer\": \"GGACTACHVGGGTWTCTAAT\",\n",
    "}\n"
   ]
  },
  {
   "cell_type": "code",
   "execution_count": 4,
   "id": "f38617d9",
   "metadata": {
    "ExecuteTime": {
     "end_time": "2022-11-03T21:21:23.681656Z",
     "start_time": "2022-11-03T21:21:23.550088Z"
    },
    "execution": {
     "iopub.execute_input": "2022-11-03T21:20:32.242154Z",
     "iopub.status.busy": "2022-11-03T21:20:32.241800Z",
     "iopub.status.idle": "2022-11-03T21:20:32.246522Z",
     "shell.execute_reply": "2022-11-03T21:20:32.245894Z"
    },
    "papermill": {
     "duration": 0.015212,
     "end_time": "2022-11-03T21:20:32.248018",
     "exception": false,
     "start_time": "2022-11-03T21:20:32.232806",
     "status": "completed"
    },
    "tags": []
   },
   "outputs": [],
   "source": [
    "experiment_folder = os.path.abspath(os.path.join(base_dir, 'experiments', experiment_name))\n",
    "img_folder = os.path.abspath(os.path.join(experiment_folder, 'imgs'))"
   ]
  },
  {
   "cell_type": "markdown",
   "id": "ea9b90fb",
   "metadata": {
    "papermill": {
     "duration": 0.007869,
     "end_time": "2022-11-03T21:20:32.263685",
     "exception": false,
     "start_time": "2022-11-03T21:20:32.255816",
     "status": "completed"
    },
    "tags": []
   },
   "source": [
    "### Defining names, paths and flags"
   ]
  },
  {
   "cell_type": "code",
   "execution_count": 5,
   "id": "45727eef",
   "metadata": {
    "ExecuteTime": {
     "end_time": "2022-11-03T21:21:23.720578Z",
     "start_time": "2022-11-03T21:21:23.683466Z"
    },
    "execution": {
     "iopub.execute_input": "2022-11-03T21:20:32.281066Z",
     "iopub.status.busy": "2022-11-03T21:20:32.280719Z",
     "iopub.status.idle": "2022-11-03T21:20:32.284988Z",
     "shell.execute_reply": "2022-11-03T21:20:32.284361Z"
    },
    "papermill": {
     "duration": 0.014695,
     "end_time": "2022-11-03T21:20:32.286473",
     "exception": false,
     "start_time": "2022-11-03T21:20:32.271778",
     "status": "completed"
    },
    "tags": []
   },
   "outputs": [],
   "source": [
    "# QIIME2 Artifacts folder\n",
    "qiime_folder = os.path.join(experiment_folder, 'qiime-artifacts')\n",
    "\n",
    "# Input - DADA2 Artifacts\n",
    "dada2_tabs_path = os.path.join(qiime_folder, 'dada2-tabs.qza')"
   ]
  },
  {
   "cell_type": "markdown",
   "id": "0999a1b2",
   "metadata": {
    "papermill": {
     "duration": 0.007972,
     "end_time": "2022-11-03T21:20:32.302396",
     "exception": false,
     "start_time": "2022-11-03T21:20:32.294424",
     "status": "completed"
    },
    "tags": []
   },
   "source": [
    "## Step execution\n",
    "\n",
    "### Load input files\n",
    "\n",
    "This Step import the QIIME2 `FeatureTable[Frequency]` Artifact and the `Metadata` file."
   ]
  },
  {
   "cell_type": "markdown",
   "id": "261c891e",
   "metadata": {
    "tags": [
     "papermill-error-cell-tag"
    ]
   },
   "source": [
    "<span id=\"papermill-error-cell\" style=\"color:red; font-family:Helvetica Neue, Helvetica, Arial, sans-serif; font-size:2em;\">Execution using papermill encountered an exception here and stopped:</span>"
   ]
  },
  {
   "cell_type": "code",
   "execution_count": 6,
   "id": "8f299d1a",
   "metadata": {
    "ExecuteTime": {
     "end_time": "2022-11-03T21:21:23.753965Z",
     "start_time": "2022-11-03T21:21:23.722742Z"
    },
    "execution": {
     "iopub.execute_input": "2022-11-03T21:20:32.319597Z",
     "iopub.status.busy": "2022-11-03T21:20:32.319323Z",
     "iopub.status.idle": "2022-11-03T21:20:33.104216Z",
     "shell.execute_reply": "2022-11-03T21:20:33.103326Z"
    },
    "papermill": {
     "duration": 0.797884,
     "end_time": "2022-11-03T21:20:33.108271",
     "exception": true,
     "start_time": "2022-11-03T21:20:32.310387",
     "status": "failed"
    },
    "tags": []
   },
   "outputs": [],
   "source": [
    "#Load Metadata\n",
    "metadata_qa = Metadata.load(metadata_file)\n",
    "\n",
    "#Load FeatureTable[Frequency]\n",
    "tabs = Artifact.load(dada2_tabs_path)"
   ]
  },
  {
   "cell_type": "markdown",
   "id": "a9a446c4",
   "metadata": {
    "papermill": {
     "duration": null,
     "end_time": null,
     "exception": null,
     "start_time": null,
     "status": "pending"
    },
    "tags": []
   },
   "source": [
    "# ANCOM\n",
    "\n",
    "Apply Analysis of Composition of Microbiomes (ANCOM) to identify features\n",
    "that are differentially abundant across groups.\n",
    "\n",
    "- [composition add_pseudocount](https://docs.qiime2.org/2022.8/plugins/available/composition/add-pseudocount/): Increment all counts in table by pseudocount.\n",
    "- [composition ancom](https://docs.qiime2.org/2022.8/plugins/available/composition/ancom/): Apply ANCOM to identify features that differ in abundance."
   ]
  },
  {
   "cell_type": "code",
   "execution_count": 14,
   "id": "8e9bbcd9",
   "metadata": {
    "ExecuteTime": {
     "end_time": "2022-11-03T21:26:11.530749Z",
     "start_time": "2022-11-03T21:26:11.522731Z"
    }
   },
   "outputs": [
    {
     "data": {
      "text/plain": [
       "<CategoricalMetadataColumn name='group-id' id_count=12>"
      ]
     },
     "execution_count": 14,
     "metadata": {},
     "output_type": "execute_result"
    }
   ],
   "source": [
    "column = metadata_qa.get_column(class_col)\n",
    "column"
   ]
  },
  {
   "cell_type": "code",
   "execution_count": 7,
   "id": "70694fee",
   "metadata": {
    "ExecuteTime": {
     "end_time": "2022-11-03T21:21:23.871204Z",
     "start_time": "2022-11-03T21:21:23.755510Z"
    },
    "papermill": {
     "duration": null,
     "end_time": null,
     "exception": null,
     "start_time": null,
     "status": "pending"
    },
    "tags": []
   },
   "outputs": [],
   "source": [
    "# Create the pseudocount table\n",
    "composition_tab = add_pseudocount(table = tabs).composition_table"
   ]
  },
  {
   "cell_type": "code",
   "execution_count": 15,
   "id": "2999c2f6",
   "metadata": {
    "ExecuteTime": {
     "end_time": "2022-11-03T21:35:19.160606Z",
     "start_time": "2022-11-03T21:26:16.075267Z"
    },
    "papermill": {
     "duration": null,
     "end_time": null,
     "exception": null,
     "start_time": null,
     "status": "pending"
    },
    "tags": []
   },
   "outputs": [
    {
     "name": "stderr",
     "output_type": "stream",
     "text": [
      "/home/lauro/anaconda3/envs/qiime2-2022.2/lib/python3.8/site-packages/scipy/stats/_stats_py.py:3659: F_onewayConstantInputWarning: Each of the input arrays is constant;the F statistic is not defined or infinite\n",
      "  warnings.warn(F_onewayConstantInputWarning())\n",
      "/home/lauro/anaconda3/envs/qiime2-2022.2/lib/python3.8/site-packages/scipy/stats/_stats_py.py:3659: F_onewayConstantInputWarning: Each of the input arrays is constant;the F statistic is not defined or infinite\n",
      "  warnings.warn(F_onewayConstantInputWarning())\n",
      "/home/lauro/anaconda3/envs/qiime2-2022.2/lib/python3.8/site-packages/scipy/stats/_stats_py.py:3659: F_onewayConstantInputWarning: Each of the input arrays is constant;the F statistic is not defined or infinite\n",
      "  warnings.warn(F_onewayConstantInputWarning())\n",
      "/home/lauro/anaconda3/envs/qiime2-2022.2/lib/python3.8/site-packages/scipy/stats/_stats_py.py:3659: F_onewayConstantInputWarning: Each of the input arrays is constant;the F statistic is not defined or infinite\n",
      "  warnings.warn(F_onewayConstantInputWarning())\n",
      "/home/lauro/anaconda3/envs/qiime2-2022.2/lib/python3.8/site-packages/scipy/stats/_stats_py.py:3659: F_onewayConstantInputWarning: Each of the input arrays is constant;the F statistic is not defined or infinite\n",
      "  warnings.warn(F_onewayConstantInputWarning())\n",
      "/home/lauro/anaconda3/envs/qiime2-2022.2/lib/python3.8/site-packages/scipy/stats/_stats_py.py:3659: F_onewayConstantInputWarning: Each of the input arrays is constant;the F statistic is not defined or infinite\n",
      "  warnings.warn(F_onewayConstantInputWarning())\n"
     ]
    }
   ],
   "source": [
    "# Create visualizations for each parameter combination for the ANCOM  method.\n",
    "transform_functions = ('sqrt', 'log', 'clr')\n",
    "difference_functions = ('mean_difference', 'f_statistic')\n",
    "for t in transform_functions:\n",
    "    for d in difference_functions:\n",
    "        ancom_viz = ancom(\n",
    "            table = composition_tab, \n",
    "            metadata = column, \n",
    "            transform_function = t, \n",
    "            difference_function = d\n",
    "        ).visualization\n",
    "        view_name = os.path.join(qiime_folder, f'ancom-{t}-{d}.qzv')\n",
    "        ancom_viz.save(view_name)"
   ]
  }
 ],
 "metadata": {
  "celltoolbar": "Edit Metadata",
  "kernelspec": {
   "display_name": "Python 3 (ipykernel)",
   "language": "python",
   "name": "python3"
  },
  "language_info": {
   "codemirror_mode": {
    "name": "ipython",
    "version": 3
   },
   "file_extension": ".py",
   "mimetype": "text/x-python",
   "name": "python",
   "nbconvert_exporter": "python",
   "pygments_lexer": "ipython3",
   "version": "3.8.12"
  },
  "papermill": {
   "default_parameters": {},
   "duration": 10.486499,
   "end_time": "2022-11-03T21:20:33.943661",
   "environment_variables": {},
   "exception": true,
   "input_path": "nb-templates/step-abundance-analysis.ipynb",
   "output_path": "/home/lauro/nupeb/rede-micro/redemicro-miliane-nutri/experiments/miliane-CxAC-trim/nb-executed-steps/step-abundance-analysis-miliane-CxAC-trim.ipynb",
   "parameters": {
    "base_dir": "/home/lauro/nupeb/rede-micro/redemicro-miliane-nutri",
    "class_col": "group-id",
    "classifier_file": "/home/lauro/nupeb/dados_brutos_rede_genoma/16S_classifiers_qiime2/silva-138-99-nb-classifier.qza",
    "experiment_name": "miliane-CxAC-trim",
    "manifest_file": "/home/lauro/nupeb/rede-micro/redemicro-miliane-nutri/data/raw/manifest/miliane-manifest-CxAC.csv",
    "metadata_file": "/home/lauro/nupeb/rede-micro/redemicro-miliane-nutri/data/raw/metadata/miliane-metadata-CxAC.tsv",
    "overlap": 12,
    "phred": 20,
    "replace_files": false,
    "threads": 6,
    "trim": {
     "forward_primer": "CCTACGGGRSGCAGCAG",
     "overlap": 8,
     "reverse_primer": "GGACTACHVGGGTWTCTAAT"
    },
    "trunc_f": 0,
    "trunc_r": 0
   },
   "start_time": "2022-11-03T21:20:23.457162",
   "version": "2.3.4"
  }
 },
 "nbformat": 4,
 "nbformat_minor": 5
}
