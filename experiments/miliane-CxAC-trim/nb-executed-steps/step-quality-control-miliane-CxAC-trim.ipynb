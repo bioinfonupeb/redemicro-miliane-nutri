{
 "cells": [
  {
   "cell_type": "markdown",
   "id": "368a6c70",
   "metadata": {
    "papermill": {
     "duration": 0.023747,
     "end_time": "2023-02-23T20:56:25.788079",
     "exception": false,
     "start_time": "2023-02-23T20:56:25.764332",
     "status": "completed"
    },
    "tags": []
   },
   "source": [
    "# Quality Control and ASV table construction with DADA2"
   ]
  },
  {
   "cell_type": "markdown",
   "id": "4e6a7ea2",
   "metadata": {
    "papermill": {
     "duration": 0.016056,
     "end_time": "2023-02-23T20:56:25.831706",
     "exception": false,
     "start_time": "2023-02-23T20:56:25.815650",
     "status": "completed"
    },
    "tags": []
   },
   "source": [
    "## Setup and settings"
   ]
  },
  {
   "cell_type": "code",
   "execution_count": 1,
   "id": "a83f87d4",
   "metadata": {
    "ExecuteTime": {
     "end_time": "2022-06-29T18:49:49.974644Z",
     "start_time": "2022-06-29T18:49:30.876897Z"
    },
    "execution": {
     "iopub.execute_input": "2023-02-23T20:56:25.941118Z",
     "iopub.status.busy": "2023-02-23T20:56:25.940534Z",
     "iopub.status.idle": "2023-02-23T20:56:32.441464Z",
     "shell.execute_reply": "2023-02-23T20:56:32.440632Z"
    },
    "papermill": {
     "duration": 6.540252,
     "end_time": "2023-02-23T20:56:32.444699",
     "exception": false,
     "start_time": "2023-02-23T20:56:25.904447",
     "status": "completed"
    },
    "tags": []
   },
   "outputs": [],
   "source": [
    "# Importing packages\n",
    "import os\n",
    "import yaml\n",
    "import logging\n",
    "import pandas as pd\n",
    "from qiime2 import Artifact\n",
    "from qiime2 import Visualization\n",
    "from qiime2 import Metadata\n",
    "import qiime2.plugins.dada2.actions as dada2_actions\n",
    "import qiime2.plugins.metadata.actions as metadata_actions\n",
    "from qiime2.plugins.feature_table.visualizers import tabulate_seqs\n",
    "from qiime2.plugins.feature_table.visualizers import summarize\n",
    "from qiime2.plugins.feature_table.visualizers import core_features\n",
    "\n",
    "import matplotlib.pyplot as plt\n",
    "\n",
    "%matplotlib inline"
   ]
  },
  {
   "cell_type": "markdown",
   "id": "e6988ce4",
   "metadata": {
    "papermill": {
     "duration": 0.072967,
     "end_time": "2023-02-23T20:56:32.538535",
     "exception": false,
     "start_time": "2023-02-23T20:56:32.465568",
     "status": "completed"
    },
    "tags": []
   },
   "source": [
    "### Receiving the parameters\n",
    "\n",
    "The following cell can receive parameters using the [papermill](https://papermill.readthedocs.io/en/latest/) tool."
   ]
  },
  {
   "cell_type": "code",
   "execution_count": 2,
   "id": "7a0d8528",
   "metadata": {
    "ExecuteTime": {
     "end_time": "2022-06-29T18:54:01.035034Z",
     "start_time": "2022-06-29T18:54:01.028724Z"
    },
    "execution": {
     "iopub.execute_input": "2023-02-23T20:56:32.595867Z",
     "iopub.status.busy": "2023-02-23T20:56:32.595637Z",
     "iopub.status.idle": "2023-02-23T20:56:32.599834Z",
     "shell.execute_reply": "2023-02-23T20:56:32.599190Z"
    },
    "papermill": {
     "duration": 0.021398,
     "end_time": "2023-02-23T20:56:32.601383",
     "exception": false,
     "start_time": "2023-02-23T20:56:32.579985",
     "status": "completed"
    },
    "tags": [
     "parameters"
    ]
   },
   "outputs": [],
   "source": [
    "experiment_name = 'ana-flavia-superlactacao'\n",
    "base_dir = os.path.join('/', 'home', 'lauro', 'nupeb', 'redemicro')\n",
    "metadata_file = os.path.join(base_dir, 'data', 'raw', 'metadata', 'sample-metadata.tsv')\n",
    "manifest_file = os.path.join(base_dir, 'data', 'raw', 'manifest', 'sample-manifest.csv')\n",
    "replace_files = False\n",
    "phred = 20\n",
    "trunc_f = 0\n",
    "trunc_r = 0\n",
    "overlap = 12\n",
    "threads = 6\n",
    "trim = None"
   ]
  },
  {
   "cell_type": "code",
   "execution_count": 3,
   "id": "97766366",
   "metadata": {
    "execution": {
     "iopub.execute_input": "2023-02-23T20:56:32.631787Z",
     "iopub.status.busy": "2023-02-23T20:56:32.631489Z",
     "iopub.status.idle": "2023-02-23T20:56:32.635285Z",
     "shell.execute_reply": "2023-02-23T20:56:32.634620Z"
    },
    "papermill": {
     "duration": 0.020508,
     "end_time": "2023-02-23T20:56:32.636801",
     "exception": false,
     "start_time": "2023-02-23T20:56:32.616293",
     "status": "completed"
    },
    "tags": [
     "injected-parameters"
    ]
   },
   "outputs": [],
   "source": [
    "# Parameters\n",
    "experiment_name = \"miliane-CxAC-trim\"\n",
    "base_dir = \"/home/lauro/nupeb/rede-micro/redemicro-miliane-nutri\"\n",
    "manifest_file = \"/home/lauro/nupeb/rede-micro/redemicro-miliane-nutri/data/raw/manifest/miliane-manifest-CxAC.csv\"\n",
    "metadata_file = \"/home/lauro/nupeb/rede-micro/redemicro-miliane-nutri/data/raw/metadata/miliane-metadata-CxAC.tsv\"\n",
    "class_col = \"group-id\"\n",
    "classifier_file = \"/home/lauro/nupeb/dados_brutos_rede_genoma/16S_classifiers_qiime2/silva-138-99-nb-classifier.qza\"\n",
    "replace_files = False\n",
    "phred = 20\n",
    "trunc_f = 0\n",
    "trunc_r = 0\n",
    "overlap = 12\n",
    "threads = 6\n",
    "trim = {\n",
    "    \"overlap\": 8,\n",
    "    \"forward_primer\": \"CCTACGGGRSGCAGCAG\",\n",
    "    \"reverse_primer\": \"GGACTACHVGGGTWTCTAAT\",\n",
    "}\n"
   ]
  },
  {
   "cell_type": "code",
   "execution_count": 4,
   "id": "3b11ae28",
   "metadata": {
    "execution": {
     "iopub.execute_input": "2023-02-23T20:56:32.666244Z",
     "iopub.status.busy": "2023-02-23T20:56:32.666044Z",
     "iopub.status.idle": "2023-02-23T20:56:32.670187Z",
     "shell.execute_reply": "2023-02-23T20:56:32.669759Z"
    },
    "papermill": {
     "duration": 0.020436,
     "end_time": "2023-02-23T20:56:32.671607",
     "exception": false,
     "start_time": "2023-02-23T20:56:32.651171",
     "status": "completed"
    },
    "tags": []
   },
   "outputs": [],
   "source": [
    "# Setting hardcoded parameters for development and debbuging\n",
    "production = True\n",
    "if not production:\n",
    "    params_path = os.path.join('..', 'params', 'ana-flavia-superlactacao.yaml')\n",
    "    with open(params_path, 'r') as stream:\n",
    "        params = yaml.safe_load(stream)\n",
    "        experiment_name = params['experiment_name']\n",
    "        base_dir = params['base_dir']\n",
    "        replace_files = params['replace_files']\n",
    "        experiment_folder = os.path.abspath(os.path.join(os.getcwd(), '..', 'experiments', 'thayane-feces-01'))\n",
    "        img_folder = os.path.abspath(os.path.join(experiment_folder, 'imgs'))\n",
    "        replace_files = False\n",
    "        phred = 20\n",
    "        trunc_f = 0\n",
    "        trunc_r = 0\n",
    "        overlap = 12\n",
    "        threads = 6"
   ]
  },
  {
   "cell_type": "code",
   "execution_count": 5,
   "id": "48eca571",
   "metadata": {
    "ExecuteTime": {
     "end_time": "2022-06-29T18:51:02.089300Z",
     "start_time": "2022-06-29T18:51:02.084922Z"
    },
    "execution": {
     "iopub.execute_input": "2023-02-23T20:56:32.701864Z",
     "iopub.status.busy": "2023-02-23T20:56:32.701598Z",
     "iopub.status.idle": "2023-02-23T20:56:32.705532Z",
     "shell.execute_reply": "2023-02-23T20:56:32.704893Z"
    },
    "papermill": {
     "duration": 0.020846,
     "end_time": "2023-02-23T20:56:32.707015",
     "exception": false,
     "start_time": "2023-02-23T20:56:32.686169",
     "status": "completed"
    },
    "tags": []
   },
   "outputs": [],
   "source": [
    "experiment_folder = os.path.abspath(os.path.join(base_dir, 'experiments', experiment_name))\n",
    "img_folder = os.path.abspath(os.path.join(experiment_folder, 'imgs'))"
   ]
  },
  {
   "cell_type": "markdown",
   "id": "72757b7c",
   "metadata": {
    "papermill": {
     "duration": 0.014006,
     "end_time": "2023-02-23T20:56:32.735479",
     "exception": false,
     "start_time": "2023-02-23T20:56:32.721473",
     "status": "completed"
    },
    "tags": []
   },
   "source": [
    "### Defining names and paths"
   ]
  },
  {
   "cell_type": "code",
   "execution_count": 6,
   "id": "39024442",
   "metadata": {
    "ExecuteTime": {
     "end_time": "2022-05-30T19:57:39.064490Z",
     "start_time": "2022-05-30T19:57:39.007809Z"
    },
    "execution": {
     "iopub.execute_input": "2023-02-23T20:56:32.764705Z",
     "iopub.status.busy": "2023-02-23T20:56:32.764409Z",
     "iopub.status.idle": "2023-02-23T20:56:32.771290Z",
     "shell.execute_reply": "2023-02-23T20:56:32.770549Z"
    },
    "papermill": {
     "duration": 0.023507,
     "end_time": "2023-02-23T20:56:32.773036",
     "exception": false,
     "start_time": "2023-02-23T20:56:32.749529",
     "status": "completed"
    },
    "tags": []
   },
   "outputs": [],
   "source": [
    "qiime_folder = os.path.join(experiment_folder, 'qiime-artifacts')\n",
    "\n",
    "if trim:\n",
    "    demux_file = os.path.join(qiime_folder, 'demux-paired-trim.qza')\n",
    "else:\n",
    "    demux_file = os.path.join(qiime_folder, 'demux-paired.qza')\n",
    "\n",
    "dada2_tabs = os.path.join(qiime_folder, 'dada2-tabs.qza')\n",
    "dada2_reps = os.path.join(qiime_folder, 'dada2-reps.qza')\n",
    "dada2_stat = os.path.join(qiime_folder, 'dada2-stat.qza')\n",
    "\n",
    "\n",
    "dada2_tabs_view = dada2_tabs[:-1] + 'v'\n",
    "dada2_reps_view = dada2_reps[:-1] + 'v'\n",
    "dada2_stat_view = dada2_stat[:-1] + 'v'\n",
    "dada2_core_view = os.path.join(qiime_folder, 'dada2-core.qzv')"
   ]
  },
  {
   "cell_type": "markdown",
   "id": "9c881896",
   "metadata": {
    "papermill": {
     "duration": 0.014183,
     "end_time": "2023-02-23T20:56:32.803063",
     "exception": false,
     "start_time": "2023-02-23T20:56:32.788880",
     "status": "completed"
    },
    "tags": []
   },
   "source": [
    "## Step execution\n",
    "\n",
    "### Load input files\n",
    "\n",
    "This Step import the QIIME2 `SampleData[PairedEndSequencesWithQuality]` Artifact with all demultiplexed sequences and the `Metadata` file."
   ]
  },
  {
   "cell_type": "code",
   "execution_count": 7,
   "id": "e998af9b",
   "metadata": {
    "ExecuteTime": {
     "end_time": "2022-05-30T19:57:39.077380Z",
     "start_time": "2022-05-30T19:57:39.066746Z"
    },
    "execution": {
     "iopub.execute_input": "2023-02-23T20:56:32.832618Z",
     "iopub.status.busy": "2023-02-23T20:56:32.832280Z",
     "iopub.status.idle": "2023-02-23T20:56:32.837740Z",
     "shell.execute_reply": "2023-02-23T20:56:32.837005Z"
    },
    "papermill": {
     "duration": 0.022073,
     "end_time": "2023-02-23T20:56:32.839286",
     "exception": false,
     "start_time": "2023-02-23T20:56:32.817213",
     "status": "completed"
    },
    "tags": []
   },
   "outputs": [],
   "source": [
    "need_dada2 = not (os.path.isfile(dada2_tabs) and os.path.isfile(dada2_reps) and os.path.isfile(dada2_stat)) or replace_files\n",
    "need_view = not (os.path.isfile(dada2_tabs_view) and os.path.isfile(dada2_reps_view) and os.path.isfile(dada2_stat_view)) or replace_files"
   ]
  },
  {
   "cell_type": "code",
   "execution_count": 8,
   "id": "1628913c",
   "metadata": {
    "ExecuteTime": {
     "end_time": "2022-05-30T19:57:39.089632Z",
     "start_time": "2022-05-30T19:57:39.079347Z"
    },
    "execution": {
     "iopub.execute_input": "2023-02-23T20:56:32.870201Z",
     "iopub.status.busy": "2023-02-23T20:56:32.869869Z",
     "iopub.status.idle": "2023-02-23T20:56:32.873762Z",
     "shell.execute_reply": "2023-02-23T20:56:32.873037Z"
    },
    "papermill": {
     "duration": 0.020633,
     "end_time": "2023-02-23T20:56:32.875277",
     "exception": false,
     "start_time": "2023-02-23T20:56:32.854644",
     "status": "completed"
    },
    "tags": []
   },
   "outputs": [],
   "source": [
    "if need_dada2:\n",
    "    demux = Artifact.load(demux_file)"
   ]
  },
  {
   "cell_type": "code",
   "execution_count": 9,
   "id": "9f97f2ac",
   "metadata": {
    "ExecuteTime": {
     "end_time": "2022-05-30T19:57:39.145879Z",
     "start_time": "2022-05-30T19:57:39.091983Z"
    },
    "execution": {
     "iopub.execute_input": "2023-02-23T20:56:32.906116Z",
     "iopub.status.busy": "2023-02-23T20:56:32.905678Z",
     "iopub.status.idle": "2023-02-23T20:56:32.924979Z",
     "shell.execute_reply": "2023-02-23T20:56:32.924415Z"
    },
    "papermill": {
     "duration": 0.036518,
     "end_time": "2023-02-23T20:56:32.926741",
     "exception": false,
     "start_time": "2023-02-23T20:56:32.890223",
     "status": "completed"
    },
    "tags": []
   },
   "outputs": [],
   "source": [
    "metadata = Metadata.load(metadata_file)"
   ]
  },
  {
   "cell_type": "code",
   "execution_count": 10,
   "id": "bfc5fa5f",
   "metadata": {
    "execution": {
     "iopub.execute_input": "2023-02-23T20:56:32.962856Z",
     "iopub.status.busy": "2023-02-23T20:56:32.962503Z",
     "iopub.status.idle": "2023-02-23T20:56:32.971996Z",
     "shell.execute_reply": "2023-02-23T20:56:32.971167Z"
    },
    "papermill": {
     "duration": 0.026725,
     "end_time": "2023-02-23T20:56:32.973625",
     "exception": false,
     "start_time": "2023-02-23T20:56:32.946900",
     "status": "completed"
    },
    "tags": []
   },
   "outputs": [],
   "source": [
    "# Determine if is SingleEnd or PairedEnd\n",
    "manifest_df = pd.read_csv(manifest_file)\n",
    "n_directions = len(manifest_df['direction'].unique())"
   ]
  },
  {
   "cell_type": "markdown",
   "id": "1d338d73",
   "metadata": {
    "papermill": {
     "duration": 0.014662,
     "end_time": "2023-02-23T20:56:33.006716",
     "exception": false,
     "start_time": "2023-02-23T20:56:32.992054",
     "status": "completed"
    },
    "tags": []
   },
   "source": [
    "### Execute DADA2 plugin and create Artifacts\n",
    "\n",
    "The DADA2 plugin perform tha quality control and create the ASV table. It will be produced three Artifacts:\n",
    "\n",
    "- tabs (`FeatureTable[Frequency]`) : \n",
    "    The resulting feature table.\n",
    "- reps (`FeatureData[Sequence]`) :\n",
    "    The resulting feature sequences. Each feature in the feature table will\n",
    "    be represented by exactly one sequence, and these sequences will be the\n",
    "    joined paired-end sequences.\n",
    "- denoising_stats (`SampleData[DADA2Stats]`) : the resulting stats. Shows the number and the proportion of filtered reads in each phase of the plugin execution."
   ]
  },
  {
   "cell_type": "code",
   "execution_count": 11,
   "id": "d3f123b4",
   "metadata": {
    "ExecuteTime": {
     "end_time": "2022-05-30T19:57:39.171629Z",
     "start_time": "2022-05-30T19:57:39.147370Z"
    },
    "execution": {
     "iopub.execute_input": "2023-02-23T20:56:33.038387Z",
     "iopub.status.busy": "2023-02-23T20:56:33.037987Z",
     "iopub.status.idle": "2023-02-23T20:56:33.109174Z",
     "shell.execute_reply": "2023-02-23T20:56:33.108568Z"
    },
    "papermill": {
     "duration": 0.090015,
     "end_time": "2023-02-23T20:56:33.111702",
     "exception": false,
     "start_time": "2023-02-23T20:56:33.021687",
     "status": "completed"
    },
    "scrolled": true,
    "tags": []
   },
   "outputs": [],
   "source": [
    "# If some of the DADA2 outputs artifacts do not exist or if the old files will be replaced\n",
    "if need_dada2:\n",
    "    \n",
    "    # Excute the DADA2 plugin\n",
    "    if n_directions == 1: # SingleEnd\n",
    "        tabs, reps, stat = dada2_actions.denoise_single(\n",
    "            demultiplexed_seqs=demux,\n",
    "            trunc_q = phred,\n",
    "            n_threads = threads,\n",
    "            trunc_len = trunc_f,\n",
    "        )\n",
    "    elif n_directions == 2: # PairedEnd\n",
    "        tabs, reps, stat = dada2_actions.denoise_paired(\n",
    "            demultiplexed_seqs=demux,\n",
    "            trunc_q = phred,\n",
    "            min_overlap = overlap,\n",
    "            n_threads = threads,\n",
    "            trunc_len_f = trunc_f,\n",
    "            trunc_len_r = trunc_r,\n",
    "        )\n",
    "    \n",
    "    # Save the artifacts objects\n",
    "    tabs.save(dada2_tabs)\n",
    "    reps.save(dada2_reps)\n",
    "    stat.save(dada2_stat)\n",
    "\n",
    "else:\n",
    "    tabs = Artifact.load(dada2_tabs)\n",
    "    reps = Artifact.load(dada2_reps)\n",
    "    stat = Artifact.load(dada2_stat)"
   ]
  },
  {
   "cell_type": "markdown",
   "id": "cc426189",
   "metadata": {
    "papermill": {
     "duration": 0.015226,
     "end_time": "2023-02-23T20:56:33.148830",
     "exception": false,
     "start_time": "2023-02-23T20:56:33.133604",
     "status": "completed"
    },
    "tags": []
   },
   "source": [
    "### Define Visualizations Artifacts"
   ]
  },
  {
   "cell_type": "code",
   "execution_count": 12,
   "id": "35cce505",
   "metadata": {
    "ExecuteTime": {
     "end_time": "2022-05-30T19:57:39.249051Z",
     "start_time": "2022-05-30T19:57:39.173053Z"
    },
    "execution": {
     "iopub.execute_input": "2023-02-23T20:56:33.181525Z",
     "iopub.status.busy": "2023-02-23T20:56:33.181247Z",
     "iopub.status.idle": "2023-02-23T20:56:33.385342Z",
     "shell.execute_reply": "2023-02-23T20:56:33.384615Z"
    },
    "papermill": {
     "duration": 0.22409,
     "end_time": "2023-02-23T20:56:33.387954",
     "exception": false,
     "start_time": "2023-02-23T20:56:33.163864",
     "status": "completed"
    },
    "tags": []
   },
   "outputs": [],
   "source": [
    "# If some of the DADA2 Visualization artifacts do not exist or if the old files will be replaced\n",
    "if need_view:\n",
    "    \n",
    "    tabs_view, = metadata_actions.tabulate(input=tabs.view(Metadata))\n",
    "    reps_view, = metadata_actions.tabulate(input=reps.view(Metadata))\n",
    "    stat_view, = metadata_actions.tabulate(input=stat.view(Metadata))\n",
    "    \n",
    "    tabs_view = summarize(table=tabs, sample_metadata=metadata).visualization\n",
    "    reps_view = tabulate_seqs(data=reps).visualization\n",
    "    core_view = core_features(table=tabs, min_fraction=.1, steps=10).visualization\n",
    "    \n",
    "    \n",
    "    # Save the artifacts objects\n",
    "    tabs_view.save(dada2_tabs_view)\n",
    "    reps_view.save(dada2_reps_view)\n",
    "    stat_view.save(dada2_stat_view)\n",
    "    core_view.save(dada2_core_view)\n",
    "\n",
    "else:\n",
    "    tabs_view = Visualization.load(dada2_tabs_view)\n",
    "    reps_view = Visualization.load(dada2_reps_view)\n",
    "    stat_view = Visualization.load(dada2_stat_view)\n",
    "    core_view = Visualization.load(dada2_core_view)"
   ]
  },
  {
   "cell_type": "code",
   "execution_count": 13,
   "id": "66d5fb3a",
   "metadata": {
    "execution": {
     "iopub.execute_input": "2023-02-23T20:56:33.424420Z",
     "iopub.status.busy": "2023-02-23T20:56:33.423887Z",
     "iopub.status.idle": "2023-02-23T20:56:33.431602Z",
     "shell.execute_reply": "2023-02-23T20:56:33.430813Z"
    },
    "papermill": {
     "duration": 0.0247,
     "end_time": "2023-02-23T20:56:33.433173",
     "exception": false,
     "start_time": "2023-02-23T20:56:33.408473",
     "status": "completed"
    },
    "tags": []
   },
   "outputs": [],
   "source": [
    "def plot_stats_box(artifact, fname, total_reads_phases, percent_phases, cols):\n",
    "    import matplotlib.pyplot as plt\n",
    "    from qiime2 import Metadata\n",
    "    \n",
    "    df = artifact.view(Metadata).to_dataframe()\n",
    "    df_vals = df[total_reads_phases]\n",
    "    df_perc = df[percent_phases]\n",
    "    df_perc.columns = cols\n",
    "    \n",
    "    \n",
    "    plt.figure(figsize=(15,5))\n",
    "    plt.subplot(1, 2, 1)\n",
    "    df_vals.boxplot()\n",
    "    plt.xlabel('Fases')\n",
    "    plt.ylabel('# of reads')\n",
    "    \n",
    "    plt.subplot(1, 2, 2)\n",
    "    df_perc.boxplot()\n",
    "    plt.xlabel('Fases')\n",
    "    plt.ylabel('% of input')\n",
    "    \n",
    "    plt.savefig(fname, bbox_inches='tight')\n",
    "\n",
    "    plt.show()"
   ]
  },
  {
   "cell_type": "code",
   "execution_count": 14,
   "id": "34eeed5e",
   "metadata": {
    "execution": {
     "iopub.execute_input": "2023-02-23T20:56:33.466370Z",
     "iopub.status.busy": "2023-02-23T20:56:33.466016Z",
     "iopub.status.idle": "2023-02-23T20:56:33.472089Z",
     "shell.execute_reply": "2023-02-23T20:56:33.471281Z"
    },
    "papermill": {
     "duration": 0.0231,
     "end_time": "2023-02-23T20:56:33.473733",
     "exception": false,
     "start_time": "2023-02-23T20:56:33.450633",
     "status": "completed"
    },
    "tags": []
   },
   "outputs": [],
   "source": [
    "if n_directions == 1: # SingleEnd\n",
    "    total_reads_phases = ['input', 'filtered', 'denoised', 'non-chimeric']\n",
    "    percent_phases = ['percentage of input passed filter', 'percentage of input non-chimeric']\n",
    "    cols = ['filtered', 'non-chimeric']\n",
    "elif n_directions == 2: # PairedEnd\n",
    "    total_reads_phases = ['input', 'filtered', 'denoised', 'merged', 'non-chimeric']\n",
    "    percent_phases = ['percentage of input passed filter', 'percentage of input merged', 'percentage of input non-chimeric']\n",
    "    cols = ['filtered', 'merged', 'non-chimeric']"
   ]
  },
  {
   "cell_type": "code",
   "execution_count": 15,
   "id": "d0cd16ec",
   "metadata": {
    "ExecuteTime": {
     "end_time": "2022-05-30T19:57:39.901491Z",
     "start_time": "2022-05-30T19:57:39.255220Z"
    },
    "execution": {
     "iopub.execute_input": "2023-02-23T20:56:33.505353Z",
     "iopub.status.busy": "2023-02-23T20:56:33.504961Z",
     "iopub.status.idle": "2023-02-23T20:56:35.060533Z",
     "shell.execute_reply": "2023-02-23T20:56:35.059668Z"
    },
    "papermill": {
     "duration": 1.574558,
     "end_time": "2023-02-23T20:56:35.063892",
     "exception": false,
     "start_time": "2023-02-23T20:56:33.489334",
     "status": "completed"
    },
    "scrolled": true,
    "tags": []
   },
   "outputs": [
    {
     "data": {
      "image/png": "[encoded data removed]",
      "text/plain": [
       "<Figure size 1080x360 with 2 Axes>"
      ]
     },
     "metadata": {
      "needs_background": "light"
     },
     "output_type": "display_data"
    }
   ],
   "source": [
    "plot_stats_box(stat, os.path.join(img_folder, 'step02-stats-boxplot.pdf'), total_reads_phases, percent_phases, cols)"
   ]
  },
  {
   "cell_type": "code",
   "execution_count": 16,
   "id": "15ec6a96",
   "metadata": {
    "ExecuteTime": {
     "end_time": "2022-05-31T17:58:47.140114Z",
     "start_time": "2022-05-31T17:58:47.087808Z"
    },
    "execution": {
     "iopub.execute_input": "2023-02-23T20:56:35.110938Z",
     "iopub.status.busy": "2023-02-23T20:56:35.110534Z",
     "iopub.status.idle": "2023-02-23T20:56:35.162357Z",
     "shell.execute_reply": "2023-02-23T20:56:35.161854Z"
    },
    "papermill": {
     "duration": 0.073533,
     "end_time": "2023-02-23T20:56:35.164698",
     "exception": false,
     "start_time": "2023-02-23T20:56:35.091165",
     "status": "completed"
    },
    "tags": []
   },
   "outputs": [
    {
     "data": {
      "text/html": [
       "<div>\n",
       "<style scoped>\n",
       "    .dataframe tbody tr th:only-of-type {\n",
       "        vertical-align: middle;\n",
       "    }\n",
       "\n",
       "    .dataframe tbody tr th {\n",
       "        vertical-align: top;\n",
       "    }\n",
       "\n",
       "    .dataframe thead th {\n",
       "        text-align: right;\n",
       "    }\n",
       "</style>\n",
       "<table border=\"1\" class=\"dataframe\">\n",
       "  <thead>\n",
       "    <tr style=\"text-align: right;\">\n",
       "      <th></th>\n",
       "      <th>percentage of input passed filter</th>\n",
       "      <th>percentage of input merged</th>\n",
       "      <th>percentage of input non-chimeric</th>\n",
       "    </tr>\n",
       "  </thead>\n",
       "  <tbody>\n",
       "    <tr>\n",
       "      <th>count</th>\n",
       "      <td>12.000000</td>\n",
       "      <td>12.000000</td>\n",
       "      <td>12.000000</td>\n",
       "    </tr>\n",
       "    <tr>\n",
       "      <th>mean</th>\n",
       "      <td>81.166667</td>\n",
       "      <td>62.959167</td>\n",
       "      <td>62.364167</td>\n",
       "    </tr>\n",
       "    <tr>\n",
       "      <th>std</th>\n",
       "      <td>0.466755</td>\n",
       "      <td>17.777646</td>\n",
       "      <td>17.704838</td>\n",
       "    </tr>\n",
       "    <tr>\n",
       "      <th>min</th>\n",
       "      <td>80.490000</td>\n",
       "      <td>31.780000</td>\n",
       "      <td>31.230000</td>\n",
       "    </tr>\n",
       "    <tr>\n",
       "      <th>25%</th>\n",
       "      <td>80.845000</td>\n",
       "      <td>61.680000</td>\n",
       "      <td>60.290000</td>\n",
       "    </tr>\n",
       "    <tr>\n",
       "      <th>50%</th>\n",
       "      <td>81.140000</td>\n",
       "      <td>71.095000</td>\n",
       "      <td>70.910000</td>\n",
       "    </tr>\n",
       "    <tr>\n",
       "      <th>75%</th>\n",
       "      <td>81.397500</td>\n",
       "      <td>73.812500</td>\n",
       "      <td>73.135000</td>\n",
       "    </tr>\n",
       "    <tr>\n",
       "      <th>max</th>\n",
       "      <td>82.150000</td>\n",
       "      <td>76.310000</td>\n",
       "      <td>75.780000</td>\n",
       "    </tr>\n",
       "  </tbody>\n",
       "</table>\n",
       "</div>"
      ],
      "text/plain": [
       "       percentage of input passed filter  percentage of input merged  \\\n",
       "count                          12.000000                   12.000000   \n",
       "mean                           81.166667                   62.959167   \n",
       "std                             0.466755                   17.777646   \n",
       "min                            80.490000                   31.780000   \n",
       "25%                            80.845000                   61.680000   \n",
       "50%                            81.140000                   71.095000   \n",
       "75%                            81.397500                   73.812500   \n",
       "max                            82.150000                   76.310000   \n",
       "\n",
       "       percentage of input non-chimeric  \n",
       "count                         12.000000  \n",
       "mean                          62.364167  \n",
       "std                           17.704838  \n",
       "min                           31.230000  \n",
       "25%                           60.290000  \n",
       "50%                           70.910000  \n",
       "75%                           73.135000  \n",
       "max                           75.780000  "
      ]
     },
     "execution_count": 16,
     "metadata": {},
     "output_type": "execute_result"
    }
   ],
   "source": [
    "stat.view(Metadata).to_dataframe().describe()[percent_phases]"
   ]
  },
  {
   "cell_type": "code",
   "execution_count": 17,
   "id": "ebd08431",
   "metadata": {
    "ExecuteTime": {
     "end_time": "2022-05-30T19:57:39.957632Z",
     "start_time": "2022-05-30T19:57:39.953762Z"
    },
    "execution": {
     "iopub.execute_input": "2023-02-23T20:56:35.213525Z",
     "iopub.status.busy": "2023-02-23T20:56:35.213270Z",
     "iopub.status.idle": "2023-02-23T20:56:35.219238Z",
     "shell.execute_reply": "2023-02-23T20:56:35.218562Z"
    },
    "papermill": {
     "duration": 0.033285,
     "end_time": "2023-02-23T20:56:35.220959",
     "exception": false,
     "start_time": "2023-02-23T20:56:35.187674",
     "status": "completed"
    },
    "tags": []
   },
   "outputs": [
    {
     "data": {
      "text/html": [
       "<div><img onload=\"(function(div, url){\n",
       "if (typeof require !== 'undefined') {\n",
       "    var baseURL = require.toUrl('').split('/').slice(0, -2).join('/');\n",
       "} else {\n",
       "    var baseURL = JSON.parse(\n",
       "        document.getElementById('jupyter-config-data').innerHTML\n",
       "    ).baseUrl.slice(0, -1);\n",
       "}\n",
       "url = baseURL + url;\n",
       "fetch(url).then(function(res) {\n",
       "    if (res.status === 404) {\n",
       "        div.innerHTML = 'Install QIIME 2 Jupyter extension with:<br />' +\n",
       "                        '<code>jupyter serverextension enable --py qiime2' +\n",
       "                        ' --sys-prefix</code><br />then restart your server.' +\n",
       "                        '<br /><br />(Interactive output not available on ' +\n",
       "                        'static notebook viewer services like nbviewer.)';\n",
       "    } else if (res.status === 409) {\n",
       "        div.innerHTML = 'Visualization no longer in scope. Re-run this cell' +\n",
       "                        ' to see the visualization.';\n",
       "    } else if (res.ok) {\n",
       "        url = res.url;\n",
       "        div.innerHTML = '<iframe src=\\'' + url + '\\' style=\\'' +\n",
       "                        'width: 100%; height: 700px; border: 0;\\'>' +\n",
       "                        '</iframe><hr />Open in a: <a href=\\'' + url + '\\'' +\n",
       "                        ' target=\\'_blank\\'>new window</a>'\n",
       "    } else {\n",
       "        div.innerHTML = 'Something has gone wrong. Check notebook server for' +\n",
       "                        ' errors.';\n",
       "    }\n",
       "});\n",
       "})(this.parentElement, '/qiime2/redirect?location=/tmp/qiime2-archive-71bdmxob')\" src=\"data:image/gif;base64,R0lGODlhAQABAIAAAP///wAAACH5BAEAAAAALAAAAAABAAEAAAICRAEAOw==\" /></div>"
      ],
      "text/plain": [
       "<visualization: Visualization uuid: 4565bda7-de60-4d81-8e8f-0e2b8e6b0d87>"
      ]
     },
     "execution_count": 17,
     "metadata": {},
     "output_type": "execute_result"
    }
   ],
   "source": [
    "stat_view"
   ]
  },
  {
   "cell_type": "code",
   "execution_count": 18,
   "id": "8c3db9c6",
   "metadata": {
    "ExecuteTime": {
     "end_time": "2022-05-30T19:57:39.967918Z",
     "start_time": "2022-05-30T19:57:39.958955Z"
    },
    "execution": {
     "iopub.execute_input": "2023-02-23T20:56:35.276254Z",
     "iopub.status.busy": "2023-02-23T20:56:35.275869Z",
     "iopub.status.idle": "2023-02-23T20:56:35.280269Z",
     "shell.execute_reply": "2023-02-23T20:56:35.279485Z"
    },
    "papermill": {
     "duration": 0.041009,
     "end_time": "2023-02-23T20:56:35.281880",
     "exception": false,
     "start_time": "2023-02-23T20:56:35.240871",
     "status": "completed"
    },
    "tags": []
   },
   "outputs": [],
   "source": [
    "# new_stat = Artifact.load('/home/lauro/nupeb/redemicro/experiments/thayane-feces-01/qiime-artifacts/dada2-stat.qza')\n",
    "# # new_view, = metadata_actions.tabulate(input=new_stat.view(Metadata))\n",
    "# # plot_stats_box(old_stat)\n",
    "\n",
    "# old_stat = Artifact.load('/home/lauro/nupeb/dados_brutos_rede_genoma/experiments/fezes-phred_20-tf_0-tr_0-lap_4/fezes_dada2_stat.qza')\n",
    "# # old_view, = metadata_actions.tabulate(input=old_stat.view(Metadata))\n",
    "# # plot_stats_box(old_stat)\n",
    "\n",
    "# plot_stats_box_pairs(old_stat, new_stat)"
   ]
  }
 ],
 "metadata": {
  "celltoolbar": "Edit Metadata",
  "kernelspec": {
   "display_name": "Python 3 (ipykernel)",
   "language": "python",
   "name": "python3"
  },
  "language_info": {
   "codemirror_mode": {
    "name": "ipython",
    "version": 3
   },
   "file_extension": ".py",
   "mimetype": "text/x-python",
   "name": "python",
   "nbconvert_exporter": "python",
   "pygments_lexer": "ipython3",
   "version": "3.8.12"
  },
  "papermill": {
   "default_parameters": {},
   "duration": 11.671902,
   "end_time": "2023-02-23T20:56:36.122783",
   "environment_variables": {},
   "exception": null,
   "input_path": "nb-templates/step-quality-control.ipynb",
   "output_path": "/home/lauro/nupeb/rede-micro/redemicro-miliane-nutri/experiments/miliane-CxAC-trim/nb-executed-steps/step-quality-control-miliane-CxAC-trim.ipynb",
   "parameters": {
    "base_dir": "/home/lauro/nupeb/rede-micro/redemicro-miliane-nutri",
    "class_col": "group-id",
    "classifier_file": "/home/lauro/nupeb/dados_brutos_rede_genoma/16S_classifiers_qiime2/silva-138-99-nb-classifier.qza",
    "experiment_name": "miliane-CxAC-trim",
    "manifest_file": "/home/lauro/nupeb/rede-micro/redemicro-miliane-nutri/data/raw/manifest/miliane-manifest-CxAC.csv",
    "metadata_file": "/home/lauro/nupeb/rede-micro/redemicro-miliane-nutri/data/raw/metadata/miliane-metadata-CxAC.tsv",
    "overlap": 12,
    "phred": 20,
    "replace_files": false,
    "threads": 6,
    "trim": {
     "forward_primer": "CCTACGGGRSGCAGCAG",
     "overlap": 8,
     "reverse_primer": "GGACTACHVGGGTWTCTAAT"
    },
    "trunc_f": 0,
    "trunc_r": 0
   },
   "start_time": "2023-02-23T20:56:24.450881",
   "version": "2.3.4"
  },
  "toc-autonumbering": false,
  "toc-showcode": false,
  "toc-showmarkdowntxt": false
 },
 "nbformat": 4,
 "nbformat_minor": 5
}