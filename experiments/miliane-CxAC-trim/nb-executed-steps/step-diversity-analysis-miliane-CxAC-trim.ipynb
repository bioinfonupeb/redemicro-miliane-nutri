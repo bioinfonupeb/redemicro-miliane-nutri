{
 "cells": [
  {
   "cell_type": "markdown",
   "id": "15bcfa06",
   "metadata": {
    "papermill": {
     "duration": 0.007824,
     "end_time": "2023-07-06T17:55:15.031197",
     "exception": false,
     "start_time": "2023-07-06T17:55:15.023373",
     "status": "completed"
    },
    "tags": []
   },
   "source": [
    " \n",
    "# Alpha and Beta Diversity\n",
    "\n",
    "Different higher-level measures are often used to describe the microbiome in a sample. These do not provide information on changes in the abundance of specific taxa but allow us to access a broader change or difference in the composition of microorganisms. Alpha and beta diversity are examples of such measures.\n",
    "\n",
    "Different measures exist to estimate diversity within a single sample, jointly called alpha diversity. The different measures reflect the richness (number) or distribution (evenness) of a microbial sample or aim to reflect a combination of both properties.\n",
    "\n",
    "Rarefaction curves are often used when calculating alpha diversity indices because increasing numbers of sequenced taxa allow increasingly accurate estimates of total population diversity. Rarefaction curves can therefore be used to estimate the full sample richness, as compared to the observed sample richness.\n",
    "\n",
    "While alpha diversity is a measure of microbiome diversity applicable to a single sample, beta diversity is a measure of the similarity or dissimilarity of two communities. As for alpha diversity, many indices exist, each reflecting different aspects of community heterogeneity. Key differences relate to how the indices value variation in rare species if they consider presence/absence only or incorporate abundance, and how they interpret shared absence. Bray-Curtis dissimilarity is a popular measure that considers both size (overall abundance per sample) and shape (abundance of each taxon) of the communities (Bray, 1957). Beta diversity is an essential measure for many popular statistical methods in ecology, such as ordination-based methods, and is widely used for studying the association between environmental variables and microbial composition.\n",
    "\n",
    "In summary, alpha diversity measures can be seen as a summary statistic of a single population (within-sample diversity), while beta diversity measures are estimates of similarity or dissimilarity between populations (between samples).\n",
    "\n",
    "**Source**: (https://biomcare.com/info/key-terms-in-microbiome-projects/)"
   ]
  },
  {
   "cell_type": "markdown",
   "id": "0e7f2330",
   "metadata": {
    "ExecuteTime": {
     "end_time": "2022-09-22T19:36:33.828188Z",
     "start_time": "2022-09-22T19:36:33.817323Z"
    },
    "papermill": {
     "duration": 0.002398,
     "end_time": "2023-07-06T17:55:15.036178",
     "exception": false,
     "start_time": "2023-07-06T17:55:15.033780",
     "status": "completed"
    },
    "tags": []
   },
   "source": [
    "### STEP : Diversity Analysis\n",
    "\n",
    "Using QIIME2 to create diversity analisys graphs and calculations.\n",
    "\n",
    "- [QIIME2 Workflow Overview](https://docs.qiime2.org/2022.8/tutorials/overview/)\n",
    "\n",
    "\n",
    "#### Methods\n",
    "- [diversity](https://docs.qiime2.org/2022.8/plugins/available/diversity/)\n",
    "- [diversity alpha](https://docs.qiime2.org/2022.8/plugins/available/diversity/alpha/)\n",
    "- [diversity alpha_phylogenetic](https://docs.qiime2.org/2022.8/plugins/available/diversity/alpha-phylogenetic/)\n",
    "- [diversity beta](https://docs.qiime2.org/2022.8/plugins/available/diversity/beta/)\n",
    "- [diversity core_metrics](https://docs.qiime2.org/2022.8/plugins/available/diversity/core-metrics/)\n",
    "- [diversity alpha_group_significance](https://docs.qiime2.org/2022.8/plugins/available/diversity/alpha-group-significance/)\n",
    "- [diversity beta_group_significance](https://docs.qiime2.org/2022.8/plugins/available/diversity/beta-group-significance/)\n",
    "- [feature_table core_features](https://docs.qiime2.org/2022.8/plugins/available/feature-table/core-features/)\n",
    "- [feature_table summarize](https://docs.qiime2.org/2022.8/plugins/available/feature-table/summarize/)\n",
    "- [taxa filter-table](https://docs.qiime2.org/2022.8/plugins/available/taxa/filter-table/)\n",
    "- [taxa collapse](https://docs.qiime2.org/2022.8/plugins/available/taxa/collapse/)"
   ]
  },
  {
   "cell_type": "markdown",
   "id": "843debbf",
   "metadata": {
    "papermill": {
     "duration": 0.002336,
     "end_time": "2023-07-06T17:55:15.042112",
     "exception": false,
     "start_time": "2023-07-06T17:55:15.039776",
     "status": "completed"
    },
    "tags": []
   },
   "source": [
    "## Setup and settings"
   ]
  },
  {
   "cell_type": "code",
   "execution_count": 1,
   "id": "965e28e5",
   "metadata": {
    "ExecuteTime": {
     "end_time": "2022-11-03T20:35:26.198671Z",
     "start_time": "2022-11-03T20:35:06.473173Z"
    },
    "execution": {
     "iopub.execute_input": "2023-07-06T17:55:15.047706Z",
     "iopub.status.busy": "2023-07-06T17:55:15.047371Z",
     "iopub.status.idle": "2023-07-06T17:55:19.232570Z",
     "shell.execute_reply": "2023-07-06T17:55:19.232076Z"
    },
    "papermill": {
     "duration": 4.189415,
     "end_time": "2023-07-06T17:55:19.233909",
     "exception": false,
     "start_time": "2023-07-06T17:55:15.044494",
     "status": "completed"
    },
    "tags": []
   },
   "outputs": [],
   "source": [
    "# Importing packages\n",
    "import os\n",
    "import pandas as pd\n",
    "from qiime2 import Artifact\n",
    "from qiime2 import Visualization\n",
    "from qiime2 import Metadata\n",
    "\n",
    "from qiime2.plugins.phylogeny.pipelines import align_to_tree_mafft_fasttree\n",
    "\n",
    "from qiime2.plugins.diversity.pipelines import alpha\n",
    "from qiime2.plugins.diversity.pipelines import beta\n",
    "from qiime2.plugins.diversity.pipelines import core_metrics\n",
    "from qiime2.plugins.diversity.pipelines import alpha_phylogenetic\n",
    "\n",
    "from qiime2.plugins.diversity.visualizers import alpha_group_significance\n",
    "from qiime2.plugins.diversity.visualizers import beta_group_significance\n",
    "from qiime2.plugins.diversity.visualizers import alpha_correlation\n",
    "from qiime2.plugins.diversity.visualizers import beta_rarefaction\n",
    "\n",
    "from qiime2.plugins.taxa.methods import filter_table\n",
    "from qiime2.plugins.taxa.methods import collapse\n",
    "\n",
    "from qiime2.plugins.feature_table.visualizers import tabulate_seqs\n",
    "from qiime2.plugins.feature_table.visualizers import summarize\n",
    "from qiime2.plugins.feature_table.visualizers import core_features\n",
    "\n",
    "from qiime2.plugins.alignment.methods import mafft\n",
    "\n",
    "\n",
    "import matplotlib.pyplot as plt\n",
    "\n",
    "%matplotlib inline"
   ]
  },
  {
   "cell_type": "markdown",
   "id": "530ceb60",
   "metadata": {
    "papermill": {
     "duration": 0.002501,
     "end_time": "2023-07-06T17:55:19.239105",
     "exception": false,
     "start_time": "2023-07-06T17:55:19.236604",
     "status": "completed"
    },
    "tags": []
   },
   "source": [
    "### Receiving the parameters\n",
    "\n",
    "The following cell can receive parameters using the [papermill](https://papermill.readthedocs.io/en/latest/) tool."
   ]
  },
  {
   "cell_type": "code",
   "execution_count": 2,
   "id": "18d874ea",
   "metadata": {
    "ExecuteTime": {
     "end_time": "2022-09-29T20:54:14.793270Z",
     "start_time": "2022-09-29T20:54:14.789367Z"
    },
    "execution": {
     "iopub.execute_input": "2023-07-06T17:55:19.247749Z",
     "iopub.status.busy": "2023-07-06T17:55:19.247523Z",
     "iopub.status.idle": "2023-07-06T17:55:19.250051Z",
     "shell.execute_reply": "2023-07-06T17:55:19.249710Z"
    },
    "papermill": {
     "duration": 0.006473,
     "end_time": "2023-07-06T17:55:19.250950",
     "exception": false,
     "start_time": "2023-07-06T17:55:19.244477",
     "status": "completed"
    },
    "tags": [
     "parameters"
    ]
   },
   "outputs": [],
   "source": [
    "base_dir = os.path.join('/', 'home')\n",
    "metadata_file = os.path.abspath(os.path.join(base_dir, 'data', 'metadatada.tsv'))\n",
    "experiment_name = ''\n",
    "class_col = ''\n",
    "replace_files = False"
   ]
  },
  {
   "cell_type": "code",
   "execution_count": 3,
   "id": "eea2b150",
   "metadata": {
    "execution": {
     "iopub.execute_input": "2023-07-06T17:55:19.256306Z",
     "iopub.status.busy": "2023-07-06T17:55:19.256191Z",
     "iopub.status.idle": "2023-07-06T17:55:19.259242Z",
     "shell.execute_reply": "2023-07-06T17:55:19.258759Z"
    },
    "papermill": {
     "duration": 0.006717,
     "end_time": "2023-07-06T17:55:19.260056",
     "exception": false,
     "start_time": "2023-07-06T17:55:19.253339",
     "status": "completed"
    },
    "tags": [
     "injected-parameters"
    ]
   },
   "outputs": [],
   "source": [
    "# Parameters\n",
    "experiment_name = \"miliane-CxAC-trim\"\n",
    "base_dir = \"/mnt/nupeb/rede-micro/redemicro-miliane-nutri\"\n",
    "manifest_file = \"/mnt/nupeb/rede-micro/redemicro-miliane-nutri/data/raw/manifest/miliane-manifest-CxAC.csv\"\n",
    "metadata_file = \"/mnt/nupeb/rede-micro/redemicro-miliane-nutri/data/raw/metadata/miliane-metadata-CxAC.tsv\"\n",
    "class_col = \"group-id\"\n",
    "classifier_file = (\n",
    "    \"/mnt/nupeb/rede-micro/qiime2-classifiers/silva-138-99-nb-classifier.qza\"\n",
    ")\n",
    "replace_files = False\n",
    "phred = 20\n",
    "trunc_f = 0\n",
    "trunc_r = 0\n",
    "overlap = 12\n",
    "threads = 6\n",
    "trim = {\n",
    "    \"overlap\": 8,\n",
    "    \"forward_primer\": \"CCTACGGGRSGCAGCAG\",\n",
    "    \"reverse_primer\": \"GGACTACHVGGGTWTCTAAT\",\n",
    "}\n"
   ]
  },
  {
   "cell_type": "code",
   "execution_count": 4,
   "id": "f38617d9",
   "metadata": {
    "ExecuteTime": {
     "end_time": "2022-09-29T20:54:14.804575Z",
     "start_time": "2022-09-29T20:54:14.794927Z"
    },
    "execution": {
     "iopub.execute_input": "2023-07-06T17:55:19.265644Z",
     "iopub.status.busy": "2023-07-06T17:55:19.265367Z",
     "iopub.status.idle": "2023-07-06T17:55:19.267629Z",
     "shell.execute_reply": "2023-07-06T17:55:19.267343Z"
    },
    "papermill": {
     "duration": 0.005901,
     "end_time": "2023-07-06T17:55:19.268396",
     "exception": false,
     "start_time": "2023-07-06T17:55:19.262495",
     "status": "completed"
    },
    "tags": []
   },
   "outputs": [],
   "source": [
    "experiment_folder = os.path.abspath(os.path.join(base_dir, 'experiments', experiment_name))\n",
    "img_folder = os.path.abspath(os.path.join(experiment_folder, 'imgs'))"
   ]
  },
  {
   "cell_type": "markdown",
   "id": "ea9b90fb",
   "metadata": {
    "papermill": {
     "duration": 0.002512,
     "end_time": "2023-07-06T17:55:19.273390",
     "exception": false,
     "start_time": "2023-07-06T17:55:19.270878",
     "status": "completed"
    },
    "tags": []
   },
   "source": [
    "### Defining names, paths and flags"
   ]
  },
  {
   "cell_type": "code",
   "execution_count": 5,
   "id": "45727eef",
   "metadata": {
    "ExecuteTime": {
     "end_time": "2022-09-29T20:54:14.816686Z",
     "start_time": "2022-09-29T20:54:14.806238Z"
    },
    "execution": {
     "iopub.execute_input": "2023-07-06T17:55:19.278954Z",
     "iopub.status.busy": "2023-07-06T17:55:19.278786Z",
     "iopub.status.idle": "2023-07-06T17:55:19.305936Z",
     "shell.execute_reply": "2023-07-06T17:55:19.305510Z"
    },
    "papermill": {
     "duration": 0.03099,
     "end_time": "2023-07-06T17:55:19.306851",
     "exception": false,
     "start_time": "2023-07-06T17:55:19.275861",
     "status": "completed"
    },
    "tags": []
   },
   "outputs": [
    {
     "name": "stdout",
     "output_type": "stream",
     "text": [
      "The new directory is created in /mnt/nupeb/rede-micro/redemicro-miliane-nutri/experiments/miliane-CxAC-trim/qiime-artifacts/alpha-analysis\n",
      "The new directory is created in /mnt/nupeb/rede-micro/redemicro-miliane-nutri/experiments/miliane-CxAC-trim/qiime-artifacts/beta-analysis\n"
     ]
    }
   ],
   "source": [
    "# QIIME2 Artifacts folder\n",
    "qiime_folder = os.path.join(experiment_folder, 'qiime-artifacts')\n",
    "\n",
    "# Input - DADA2 Artifacts\n",
    "dada2_tabs_path = os.path.join(qiime_folder, 'dada2-tabs.qza')\n",
    "dada2_reps_path = os.path.join(qiime_folder, 'dada2-reps.qza')\n",
    "dada2_stat_path = os.path.join(qiime_folder, 'dada2-stat.qza')\n",
    "\n",
    "# Input - Taxonaomic Artifacts\n",
    "taxonomy_path = os.path.join(qiime_folder, 'metatax.qza')\n",
    "\n",
    "# Create folder to store Alpha files\n",
    "alpha_path = os.path.join(qiime_folder, 'alpha-analysis')\n",
    "if not os.path.exists(alpha_path):\n",
    "    os.makedirs(alpha_path)\n",
    "    print(f'The new directory is created in {alpha_path}')\n",
    "    \n",
    "# Create folder to store Beta files\n",
    "beta_path = os.path.join(qiime_folder, 'beta-analysis')\n",
    "if not os.path.exists(beta_path):\n",
    "    os.makedirs(beta_path)\n",
    "    print(f'The new directory is created in {beta_path}')\n",
    "\n",
    "# Output -Diversity Artifacts\n",
    "alpha_diversity_path = os.path.join(alpha_path, 'alpha-diversity.qza')\n",
    "alpha_diversity_view_path = os.path.join(alpha_path, 'alpha-diversity.qzv')\n",
    "beta_diversity_path = os.path.join(beta_path, 'beta-diversity.qza')\n",
    "beta_diversity_view_path = os.path.join(beta_path, 'beta-diversity.qzv')"
   ]
  },
  {
   "cell_type": "code",
   "execution_count": 6,
   "id": "601ae263",
   "metadata": {
    "ExecuteTime": {
     "end_time": "2022-09-29T20:54:14.829117Z",
     "start_time": "2022-09-29T20:54:14.818272Z"
    },
    "execution": {
     "iopub.execute_input": "2023-07-06T17:55:19.312694Z",
     "iopub.status.busy": "2023-07-06T17:55:19.312574Z",
     "iopub.status.idle": "2023-07-06T17:55:19.316190Z",
     "shell.execute_reply": "2023-07-06T17:55:19.315777Z"
    },
    "papermill": {
     "duration": 0.007561,
     "end_time": "2023-07-06T17:55:19.317049",
     "exception": false,
     "start_time": "2023-07-06T17:55:19.309488",
     "status": "completed"
    },
    "tags": []
   },
   "outputs": [],
   "source": [
    "def filter_and_collapse(tab, seqs, tax, meta, lvl, exclude=True, exclude_list='uncultured,unidentified,metagenome'):\n",
    "    from qiime2.plugins.taxa.methods import collapse\n",
    "    from qiime2.plugins.taxa.methods import filter_table\n",
    "    from qiime2.plugins.feature_table.methods import filter_seqs\n",
    "    from qiime2.plugins.feature_table.visualizers import summarize\n",
    "    \n",
    "    to_include = ('d', 'p', 'c', 'o', 'f', 'g', 's')[lvl-1]\n",
    "    to_include += '__'\n",
    "    to_exclude = exclude_list if exclude else None\n",
    "    \n",
    "    filtered_tabs = filter_table(\n",
    "        table=tab, \n",
    "        taxonomy=tax,\n",
    "        include=to_include,\n",
    "        exclude=to_exclude,\n",
    "        mode='contains').filtered_table\n",
    "    \n",
    "    filtered_seqs = filter_seqs(\n",
    "        data = seqs,\n",
    "        table = filtered_tabs,\n",
    "    ).filtered_data\n",
    "    \n",
    "    collapsed_table = collapse(table=filtered_tabs, taxonomy=tax, level=lvl).collapsed_table\n",
    "    collapsed_table_view = summarize(table=collapsed_table, sample_metadata=meta).visualization\n",
    "    \n",
    "    return collapsed_table, collapsed_table_view, filtered_seqs"
   ]
  },
  {
   "cell_type": "markdown",
   "id": "0999a1b2",
   "metadata": {
    "papermill": {
     "duration": 0.002597,
     "end_time": "2023-07-06T17:55:19.322282",
     "exception": false,
     "start_time": "2023-07-06T17:55:19.319685",
     "status": "completed"
    },
    "tags": []
   },
   "source": [
    "## Step execution\n",
    "\n",
    "### Load input files\n",
    "\n",
    "This Step import the QIIME2 `FeatureTable[Frequency]` Artifact and the `Metadata` file."
   ]
  },
  {
   "cell_type": "code",
   "execution_count": 7,
   "id": "8f299d1a",
   "metadata": {
    "ExecuteTime": {
     "end_time": "2022-09-29T20:54:15.559837Z",
     "start_time": "2022-09-29T20:54:14.830405Z"
    },
    "execution": {
     "iopub.execute_input": "2023-07-06T17:55:19.328145Z",
     "iopub.status.busy": "2023-07-06T17:55:19.328022Z",
     "iopub.status.idle": "2023-07-06T17:55:20.028785Z",
     "shell.execute_reply": "2023-07-06T17:55:20.026635Z"
    },
    "papermill": {
     "duration": 0.709106,
     "end_time": "2023-07-06T17:55:20.034010",
     "exception": false,
     "start_time": "2023-07-06T17:55:19.324904",
     "status": "completed"
    },
    "tags": []
   },
   "outputs": [],
   "source": [
    "#Load Metadata\n",
    "metadata_qa = Metadata.load(metadata_file)\n",
    "\n",
    "#Load FeatureTable[Frequency]\n",
    "tabs = Artifact.load(dada2_tabs_path)\n",
    "tabs_df = tabs.view(Metadata).to_dataframe().T\n",
    "\n",
    "# FeatureData[Sequence]\n",
    "reps = Artifact.load(dada2_reps_path)\n",
    "\n",
    "# FeatureData[Taxonomy]\n",
    "tax = Artifact.load(taxonomy_path)"
   ]
  },
  {
   "cell_type": "code",
   "execution_count": 8,
   "id": "c8dfe530",
   "metadata": {
    "ExecuteTime": {
     "end_time": "2022-09-29T20:54:15.564968Z",
     "start_time": "2022-09-29T20:54:15.561875Z"
    },
    "execution": {
     "iopub.execute_input": "2023-07-06T17:55:20.041385Z",
     "iopub.status.busy": "2023-07-06T17:55:20.041238Z",
     "iopub.status.idle": "2023-07-06T17:55:20.043482Z",
     "shell.execute_reply": "2023-07-06T17:55:20.043191Z"
    },
    "papermill": {
     "duration": 0.00655,
     "end_time": "2023-07-06T17:55:20.044333",
     "exception": false,
     "start_time": "2023-07-06T17:55:20.037783",
     "status": "completed"
    },
    "tags": []
   },
   "outputs": [],
   "source": [
    "# lvl = 7\n",
    "# exclude = True\n",
    "# tabs, collapsed_table_view, reps = filter_and_collapse(\n",
    "#                     tabs, reps, tax, metadata_qa, \n",
    "#                     lvl=lvl,\n",
    "#                     exclude=exclude, \n",
    "#                     exclude_list='uncultured,unidentified,metagenome')\n",
    "# collapsed_table_view"
   ]
  },
  {
   "cell_type": "markdown",
   "id": "9f43843a",
   "metadata": {
    "ExecuteTime": {
     "end_time": "2022-09-22T22:48:07.523952Z",
     "start_time": "2022-09-22T22:48:07.517565Z"
    },
    "papermill": {
     "duration": 0.00263,
     "end_time": "2023-07-06T17:55:20.049552",
     "exception": false,
     "start_time": "2023-07-06T17:55:20.046922",
     "status": "completed"
    },
    "tags": []
   },
   "source": [
    "## Alpha diversity analysis\n",
    "\n",
    "#### Reference\n",
    "- [The Use and Types of Alpha-Diversity Metrics in Microbial NGS](https://www.cd-genomics.com/microbioseq/the-use-and-types-of-alpha-diversity-metrics-in-microbial-ngs.html)\n",
    "- [Alpha diversity metrics](http://scikit-bio.org/docs/0.2.0/generated/skbio.diversity.alpha.html)\n",
    "\n",
    "#### Methods\n",
    "- [diversity alpha](https://docs.qiime2.org/2022.8/plugins/available/diversity/alpha/): Computes a user-specified alpha diversity metric for all samples in a\n",
    "feature table.\n",
    "- [diversity alpha_phylogenetic](https://docs.qiime2.org/2022.8/plugins/available/diversity/alpha-phylogenetic/): Computes a user-specified phylogenetic alpha diversity metric for all\n",
    "samples in a feature table.\n",
    "- [diversity alpha_correlation](https://docs.qiime2.org/2022.8/plugins/available/diversity/alpha-correlation/): Determine whether numeric sample metadata columns are correlated with alpha diversity.\n",
    "- [diversity alpha_group_significance](https://docs.qiime2.org/2022.8/plugins/available/diversity/alpha-group-significance/): Visually and statistically compare groups of alpha diversity values."
   ]
  },
  {
   "cell_type": "markdown",
   "id": "606b9c75",
   "metadata": {
    "papermill": {
     "duration": 0.003795,
     "end_time": "2023-07-06T17:55:20.055894",
     "exception": false,
     "start_time": "2023-07-06T17:55:20.052099",
     "status": "completed"
    },
    "tags": []
   },
   "source": [
    "### Compute Alpha Diversity vectors\n",
    "- [diversity alpha](https://docs.qiime2.org/2022.8/plugins/available/diversity/alpha/): Computes a user-specified alpha diversity metric for all samples in a feature table.\n",
    "- [Alpha diversity metrics](http://scikit-bio.org/docs/0.2.0/generated/skbio.diversity.alpha.html)\n",
    " - Choices: ('ace', 'berger_parker_d', 'brillouin_d', 'chao1', 'chao1_ci', 'dominance', 'doubles', 'enspie', 'esty_ci', 'fisher_alpha', 'gini_index', 'goods_coverage', 'heip_e', 'kempton_taylor_q', 'lladser_pe', 'margalef', 'mcintosh_d', 'mcintosh_e', 'menhinick', 'michaelis_menten_fit', 'observed_features', 'osd', 'pielou_e', 'robbins', 'shannon', 'simpson', 'simpson_e', 'singles', 'strong')"
   ]
  },
  {
   "cell_type": "code",
   "execution_count": 9,
   "id": "556e5264",
   "metadata": {
    "ExecuteTime": {
     "end_time": "2022-09-29T20:54:20.790166Z",
     "start_time": "2022-09-29T20:54:20.451134Z"
    },
    "execution": {
     "iopub.execute_input": "2023-07-06T17:55:20.061632Z",
     "iopub.status.busy": "2023-07-06T17:55:20.061514Z",
     "iopub.status.idle": "2023-07-06T18:37:32.119739Z",
     "shell.execute_reply": "2023-07-06T18:37:32.119267Z"
    },
    "papermill": {
     "duration": 2532.062218,
     "end_time": "2023-07-06T18:37:32.120689",
     "exception": false,
     "start_time": "2023-07-06T17:55:20.058471",
     "status": "completed"
    },
    "tags": []
   },
   "outputs": [
    {
     "name": "stdout",
     "output_type": "stream",
     "text": [
      "Calculating alpha diversity: ace\n",
      "DONE: Calculating alpha diversity: ace\n",
      "Calculating alpha diversity: berger_parker_d\n",
      "DONE: Calculating alpha diversity: berger_parker_d\n",
      "Calculating alpha diversity: brillouin_d\n",
      "DONE: Calculating alpha diversity: brillouin_d\n",
      "Calculating alpha diversity: chao1\n",
      "DONE: Calculating alpha diversity: chao1\n",
      "Calculating alpha diversity: chao1_ci\n"
     ]
    },
    {
     "name": "stdout",
     "output_type": "stream",
     "text": [
      "DONE: Calculating alpha diversity: chao1_ci\n",
      "Calculating alpha diversity: dominance\n",
      "DONE: Calculating alpha diversity: dominance\n",
      "Calculating alpha diversity: doubles\n",
      "DONE: Calculating alpha diversity: doubles\n",
      "Calculating alpha diversity: enspie\n",
      "DONE: Calculating alpha diversity: enspie\n",
      "Calculating alpha diversity: esty_ci\n",
      "DONE: Calculating alpha diversity: esty_ci\n",
      "Calculating alpha diversity: fisher_alpha\n",
      "DONE: Calculating alpha diversity: fisher_alpha\n",
      "Calculating alpha diversity: gini_index\n"
     ]
    },
    {
     "name": "stdout",
     "output_type": "stream",
     "text": [
      "DONE: Calculating alpha diversity: gini_index\n",
      "Calculating alpha diversity: goods_coverage\n",
      "DONE: Calculating alpha diversity: goods_coverage\n",
      "Calculating alpha diversity: heip_e\n",
      "DONE: Calculating alpha diversity: heip_e\n",
      "Calculating alpha diversity: kempton_taylor_q\n",
      "DONE: Calculating alpha diversity: kempton_taylor_q\n",
      "Calculating alpha diversity: lladser_pe\n"
     ]
    },
    {
     "name": "stderr",
     "output_type": "stream",
     "text": [
      "/home/lauro/anaconda3/envs/qiime2-2023.5/lib/python3.8/site-packages/skbio/diversity/alpha/_base.py:440: RuntimeWarning: invalid value encountered in long_scalars\n",
      "  return (upper - lower) / np.log(sorted_counts[upper] /\n",
      "/home/lauro/anaconda3/envs/qiime2-2023.5/lib/python3.8/site-packages/skbio/diversity/alpha/_base.py:440: RuntimeWarning: divide by zero encountered in long_scalars\n",
      "  return (upper - lower) / np.log(sorted_counts[upper] /\n"
     ]
    },
    {
     "name": "stdout",
     "output_type": "stream",
     "text": [
      "DONE: Calculating alpha diversity: lladser_pe\n",
      "Calculating alpha diversity: margalef\n",
      "DONE: Calculating alpha diversity: margalef\n",
      "Calculating alpha diversity: mcintosh_d\n",
      "DONE: Calculating alpha diversity: mcintosh_d\n",
      "Calculating alpha diversity: mcintosh_e\n",
      "DONE: Calculating alpha diversity: mcintosh_e\n",
      "Calculating alpha diversity: menhinick\n",
      "DONE: Calculating alpha diversity: menhinick\n",
      "Calculating alpha diversity: michaelis_menten_fit\n"
     ]
    },
    {
     "name": "stdout",
     "output_type": "stream",
     "text": [
      "DONE: Calculating alpha diversity: michaelis_menten_fit\n",
      "Calculating alpha diversity: observed_features\n",
      "DONE: Calculating alpha diversity: observed_features\n",
      "Calculating alpha diversity: osd\n",
      "DONE: Calculating alpha diversity: osd\n",
      "Calculating alpha diversity: pielou_e\n",
      "DONE: Calculating alpha diversity: pielou_e\n",
      "Calculating alpha diversity: robbins\n",
      "DONE: Calculating alpha diversity: robbins\n",
      "Calculating alpha diversity: shannon\n",
      "DONE: Calculating alpha diversity: shannon\n",
      "Calculating alpha diversity: simpson\n"
     ]
    },
    {
     "name": "stdout",
     "output_type": "stream",
     "text": [
      "DONE: Calculating alpha diversity: simpson\n",
      "Calculating alpha diversity: simpson_e\n",
      "DONE: Calculating alpha diversity: simpson_e\n",
      "Calculating alpha diversity: singles\n",
      "DONE: Calculating alpha diversity: singles\n",
      "Calculating alpha diversity: strong\n",
      "DONE: Calculating alpha diversity: strong\n"
     ]
    }
   ],
   "source": [
    "metrics = ('ace', 'berger_parker_d', 'brillouin_d', 'chao1', 'chao1_ci', 'dominance', 'doubles', 'enspie', 'esty_ci', 'fisher_alpha', 'gini_index', 'goods_coverage', 'heip_e', 'kempton_taylor_q', 'lladser_pe', 'margalef', 'mcintosh_d', 'mcintosh_e', 'menhinick', 'michaelis_menten_fit', 'observed_features', 'osd', 'pielou_e', 'robbins', 'shannon', 'simpson', 'simpson_e', 'singles', 'strong')\n",
    "alpha_diversities = dict()\n",
    "for metric in metrics:\n",
    "    print(f\"Calculating alpha diversity: {metric}\")\n",
    "    try:\n",
    "        alpha_diversity = alpha(table=tabs, metric=metric).alpha_diversity\n",
    "        alpha_diversities[metric] = alpha_diversity\n",
    "        # Save SampleData[AlphaDiversity] Artifact\n",
    "        file_path = os.path.join(alpha_path, f'alpha-values-{metric}.qza')\n",
    "        alpha_diversity.save(file_path)\n",
    "        print(f\"DONE: Calculating alpha diversity: {metric}\")\n",
    "    except Exception as e:\n",
    "        print(f\"ERROR: Calculating alpha diversity: {metric}\")\n",
    "        print(e)"
   ]
  },
  {
   "cell_type": "markdown",
   "id": "184bcb7b",
   "metadata": {
    "papermill": {
     "duration": 0.002912,
     "end_time": "2023-07-06T18:37:32.126632",
     "exception": false,
     "start_time": "2023-07-06T18:37:32.123720",
     "status": "completed"
    },
    "tags": []
   },
   "source": [
    "### Create Phylogenetic inference\n",
    "\n",
    "- [alignment align_to_tree_mafft_fasttree](https://docs.qiime2.org/2022.8/plugins/available/phylogeny/align-to-tree-mafft-fasttree/): Build a phylogenetic tree using fasttree and mafft alignment\n",
    "\n",
    "This pipeline will start by creating a sequence alignment using MAFFT,\n",
    "after which any alignment columns that are phylogenetically uninformative\n",
    "or ambiguously aligned will be removed (masked). The resulting masked\n",
    "alignment will be used to infer a phylogenetic tree and then subsequently\n",
    "rooted at its midpoint. Output files from each step of the pipeline will be\n",
    "saved. This includes both the unmasked and masked MAFFT alignment from\n",
    "q2-alignment methods, and both the rooted and unrooted phylogenies from\n",
    "q2-phylogeny methods.\n",
    "\n",
    "\n",
    "Returns\n",
    "- alignment : FeatureData[AlignedSequence] : The aligned sequences.\n",
    "- masked_alignment : FeatureData[AlignedSequence] : The masked alignment.\n",
    "- tree : Phylogeny[Unrooted] : The unrooted phylogenetic tree.\n",
    "- rooted_tree : Phylogeny[Rooted] : The rooted phylogenetic tree."
   ]
  },
  {
   "cell_type": "code",
   "execution_count": 10,
   "id": "9c8cfe47",
   "metadata": {
    "ExecuteTime": {
     "end_time": "2022-09-29T20:54:35.139531Z",
     "start_time": "2022-09-29T20:54:20.792130Z"
    },
    "execution": {
     "iopub.execute_input": "2023-07-06T18:37:32.133112Z",
     "iopub.status.busy": "2023-07-06T18:37:32.132937Z",
     "iopub.status.idle": "2023-07-06T18:37:38.838695Z",
     "shell.execute_reply": "2023-07-06T18:37:38.838219Z"
    },
    "papermill": {
     "duration": 6.710267,
     "end_time": "2023-07-06T18:37:38.839686",
     "exception": false,
     "start_time": "2023-07-06T18:37:32.129419",
     "status": "completed"
    },
    "tags": []
   },
   "outputs": [
    {
     "name": "stdout",
     "output_type": "stream",
     "text": [
      "Running external command line application. This may print messages to stdout and/or stderr.\n",
      "The command being run is below. This command cannot be manually re-run as it will depend on temporary files that no longer exist.\n",
      "\n",
      "Command: mafft --preservecase --inputorder --thread 6 /tmp/qiime2/lauro/data/a44b1783-5c31-4dfe-99da-c10cd0a2fcf1/data/dna-sequences.fasta\n",
      "\n"
     ]
    },
    {
     "name": "stderr",
     "output_type": "stream",
     "text": [
      "inputfile = orig\n",
      "904 x 430 - 181 d\n",
      "nthread = 6\n",
      "nthreadpair = 6\n",
      "nthreadtb = 6\n",
      "ppenalty_ex = 0\n",
      "stacksize: 8192 kb\n",
      "generating a scoring matrix for nucleotide (dist=200) ... done\n",
      "Gap Penalty = -1.53, +0.00, +0.00\n",
      "\n",
      "\n",
      "\n",
      "Making a distance matrix ..\n",
      "\r",
      "    1 / 904 (thread    0)\r",
      "  101 / 904 (thread    1)\r",
      "  201 / 904 (thread    2)\r",
      "  301 / 904 (thread    5)\r",
      "  401 / 904 (thread    1)\r",
      "  501 / 904 (thread    5)\r",
      "  601 / 904 (thread    5)\r",
      "  701 / 904 (thread    5)\r",
      "  801 / 904 (thread    5)\r",
      "  901 / 904 (thread    5)\n",
      "done.\n",
      "\n",
      "Constructing a UPGMA tree (efffree=0) ... \n",
      "\r",
      "    0 / 904\r",
      "   10 / 904\r",
      "   20 / 904\r",
      "   30 / 904\r",
      "   40 / 904\r",
      "   50 / 904\r",
      "   60 / 904\r",
      "   70 / 904\r",
      "   80 / 904\r",
      "   90 / 904\r",
      "  100 / 904\r",
      "  110 / 904\r",
      "  120 / 904\r",
      "  130 / 904\r",
      "  140 / 904\r",
      "  150 / 904\r",
      "  160 / 904\r",
      "  170 / 904\r",
      "  180 / 904\r",
      "  190 / 904\r",
      "  200 / 904\r",
      "  210 / 904\r",
      "  220 / 904\r",
      "  230 / 904\r",
      "  240 / 904\r",
      "  250 / 904\r",
      "  260 / 904\r",
      "  270 / 904\r",
      "  280 / 904\r",
      "  290 / 904\r",
      "  300 / 904\r",
      "  310 / 904\r",
      "  320 / 904\r",
      "  330 / 904\r",
      "  340 / 904\r",
      "  350 / 904\r",
      "  360 / 904\r",
      "  370 / 904\r",
      "  380 / 904\r",
      "  390 / 904\r",
      "  400 / 904\r",
      "  410 / 904\r",
      "  420 / 904\r",
      "  430 / 904\r",
      "  440 / 904\r",
      "  450 / 904\r",
      "  460 / 904\r",
      "  470 / 904\r",
      "  480 / 904\r",
      "  490 / 904\r",
      "  500 / 904\r",
      "  510 / 904\r",
      "  520 / 904\r",
      "  530 / 904\r",
      "  540 / 904\r",
      "  550 / 904\r",
      "  560 / 904\r",
      "  570 / 904\r",
      "  580 / 904\r",
      "  590 / 904\r",
      "  600 / 904\r",
      "  610 / 904\r",
      "  620 / 904\r",
      "  630 / 904\r",
      "  640 / 904\r",
      "  650 / 904\r",
      "  660 / 904\r",
      "  670 / 904\r",
      "  680 / 904\r",
      "  690 / 904\r",
      "  700 / 904\r",
      "  710 / 904\r",
      "  720 / 904\r",
      "  730 / 904\r",
      "  740 / 904\r",
      "  750 / 904\r",
      "  760 / 904\r",
      "  770 / 904\r",
      "  780 / 904\r",
      "  790 / 904\r",
      "  800 / 904\r",
      "  810 / 904\r",
      "  820 / 904\r",
      "  830 / 904\r",
      "  840 / 904\r",
      "  850 / 904\r",
      "  860 / 904\r",
      "  870 / 904\r",
      "  880 / 904\r",
      "  890 / 904\r",
      "  900 / 904\n",
      "done.\n",
      "\n",
      "Progressive alignment 1/2... \n",
      "\r",
      "STEP     1 / 903 (thread    1) f\b\b\r",
      "STEP     2 / 903 (thread    5) f\b\b\r",
      "STEP     4 / 903 (thread    2) f\b\b\r",
      "STEP     5 / 903 (thread    4) f\b\b\r",
      "STEP     6 / 903 (thread    0) f\b\b\r",
      "STEP     7 / 903 (thread    5) f\b\b\r",
      "STEP     8 / 903 (thread    2) f\b\b\r",
      "STEP     3 / 903 (thread    3) f\b\b\r",
      "STEP     9 / 903 (thread    4) f\b\b\r",
      "STEP    10 / 903 (thread    0) f\b\b\r",
      "STEP    11 / 903 (thread    1) f\b\b\r",
      "STEP    12 / 903 (thread    5) f\b\b\r",
      "STEP    13 / 903 (thread    0) f\b\b\r",
      "STEP    14 / 903 (thread    2) f\b\b\r",
      "STEP    15 / 903 (thread    4) f\b\b\r",
      "STEP    16 / 903 (thread    1) f\b\b\r",
      "STEP    17 / 903 (thread    5) f\b\b\r",
      "STEP    18 / 903 (thread    0) f\b\b\r",
      "STEP    19 / 903 (thread    2) f\b\b\r",
      "STEP    20 / 903 (thread    4) f\b\b\r",
      "STEP    21 / 903 (thread    1) f\b\b\r",
      "STEP    22 / 903 (thread    5) f\b\b\r",
      "STEP    23 / 903 (thread    0) f\b\b\r",
      "STEP    24 / 903 (thread    3) f\b\b\r",
      "STEP    25 / 903 (thread    2) f\b\b\r",
      "STEP    26 / 903 (thread    4) f\b\b\r",
      "STEP    27 / 903 (thread    1) f\b\b\r",
      "STEP    28 / 903 (thread    5) f\b\b\r",
      "STEP    29 / 903 (thread    0) f\b\b\r",
      "STEP    30 / 903 (thread    2) f\b\b\r",
      "STEP    31 / 903 (thread    4) f\b\b\r",
      "STEP    32 / 903 (thread    1) f\b\b\r",
      "STEP    33 / 903 (thread    3) f\b\b\r",
      "STEP    34 / 903 (thread    5) f\b\b\r",
      "STEP    35 / 903 (thread    0) f\b\b\r",
      "STEP    36 / 903 (thread    2) f\b\b\r",
      "STEP    37 / 903 (thread    4) f\b\b\r",
      "STEP    38 / 903 (thread    1) f\b\b\r",
      "STEP    39 / 903 (thread    3) f\b\b\r",
      "STEP    40 / 903 (thread    5) f\b\b\r",
      "STEP    41 / 903 (thread    0) f\b\b\r",
      "STEP    42 / 903 (thread    2) f\b\b\r",
      "STEP    43 / 903 (thread    4) f\b\b\r",
      "STEP    44 / 903 (thread    1) f\b\b\r",
      "STEP    45 / 903 (thread    3) f\b\b\r",
      "STEP    46 / 903 (thread    5) f\b\b\r",
      "STEP    47 / 903 (thread    0) f\b\b\r",
      "STEP    48 / 903 (thread    2) f\b\b\r",
      "STEP    49 / 903 (thread    4) f\b\b\r",
      "STEP    50 / 903 (thread    1) f\b\b\r",
      "STEP    51 / 903 (thread    5) f\b\b\r",
      "STEP    52 / 903 (thread    3) f\b\b\r",
      "STEP    53 / 903 (thread    0) f\b\b\r",
      "STEP    54 / 903 (thread    2) f\b\b\r",
      "STEP    55 / 903 (thread    4) f\b\b\r",
      "STEP    56 / 903 (thread    1) f\b\b\r",
      "STEP    57 / 903 (thread    5) f\b\b\r",
      "STEP    58 / 903 (thread    3) f\b\b\r",
      "STEP    59 / 903 (thread    0) f\b\b\r",
      "STEP    60 / 903 (thread    2) f\b\b\r",
      "STEP    61 / 903 (thread    4) f\b\b\r",
      "STEP    62 / 903 (thread    1) f\b\b\r",
      "STEP    63 / 903 (thread    5) f\b\b\r",
      "STEP    64 / 903 (thread    3) f\b\b\r",
      "STEP    65 / 903 (thread    0) f\b\b\r",
      "STEP    66 / 903 (thread    1) f\b\b\r",
      "STEP    67 / 903 (thread    5) f\b\b\r",
      "STEP    68 / 903 (thread    3) f\b\b\r",
      "STEP    69 / 903 (thread    0) f\b\b\r",
      "STEP    70 / 903 (thread    1) f\b\b\r",
      "STEP    71 / 903 (thread    5) f\b\b\r",
      "STEP    72 / 903 (thread    3) f\b\b\r",
      "STEP    73 / 903 (thread    2) f\b\b\r",
      "STEP    74 / 903 (thread    0) f\b\b\r",
      "STEP    75 / 903 (thread    4) f\b\b\r",
      "STEP    76 / 903 (thread    1) f\b\b\r",
      "STEP    77 / 903 (thread    5) f\b\b\r",
      "STEP    78 / 903 (thread    3) f\b\b\r",
      "STEP    79 / 903 (thread    2) f\b\b\r",
      "STEP    80 / 903 (thread    0) f\b\b\r",
      "STEP    81 / 903 (thread    4) f\b\b\r",
      "STEP    82 / 903 (thread    1) f\b\b\r",
      "STEP    83 / 903 (thread    5) f\b\b\r",
      "STEP    84 / 903 (thread    3) f\b\b\r",
      "STEP    85 / 903 (thread    2) f\b\b\r",
      "STEP    86 / 903 (thread    0) f\b\b\r",
      "STEP    87 / 903 (thread    4) f\b\b\r",
      "STEP    88 / 903 (thread    1) f\b\b\r",
      "STEP    89 / 903 (thread    5) f\b\b\r",
      "STEP    90 / 903 (thread    3) f\b\b\r",
      "STEP    91 / 903 (thread    2) f\b\b\r",
      "STEP    92 / 903 (thread    0) f\b\b\r",
      "STEP    93 / 903 (thread    4) f\b\b\r",
      "STEP    94 / 903 (thread    1) f\b\b\r",
      "STEP    95 / 903 (thread    5) f\b\b\r",
      "STEP    96 / 903 (thread    3) f\b\b\r",
      "STEP    97 / 903 (thread    2) f\b\b\r",
      "STEP    98 / 903 (thread    4) f\b\b\r",
      "STEP    99 / 903 (thread    1) f\b\b\r",
      "STEP   100 / 903 (thread    5) f\b\b\r",
      "STEP   101 / 903 (thread    0) f\b\b\r",
      "STEP   102 / 903 (thread    3) f\b\b\r",
      "STEP   103 / 903 (thread    2) f\b\b\r",
      "STEP   104 / 903 (thread    4) f\b\b\r",
      "STEP   105 / 903 (thread    1) f\b\b\r",
      "STEP   106 / 903 (thread    0) f\b\b\r",
      "STEP   107 / 903 (thread    5) f\b\b\r",
      "STEP   108 / 903 (thread    3) f\b\b\r",
      "STEP   109 / 903 (thread    2) f\b\b\r",
      "STEP   110 / 903 (thread    4) f\b\b\r",
      "STEP   111 / 903 (thread    1) f\b\b\r",
      "STEP   112 / 903 (thread    0) f\b\b\r",
      "STEP   113 / 903 (thread    5) f\b\b\r",
      "STEP   114 / 903 (thread    3) f\b\b\r",
      "STEP   115 / 903 (thread    2) f\b\b\r",
      "STEP   116 / 903 (thread    4) f\b\b\r",
      "STEP   117 / 903 (thread    1) f\b\b\r",
      "STEP   118 / 903 (thread    5) f\b\b\r",
      "STEP   119 / 903 (thread    0) f\b\b\r",
      "STEP   120 / 903 (thread    3) f\b\b\r",
      "STEP   121 / 903 (thread    2) f\b\b\r",
      "STEP   122 / 903 (thread    4) f\b\b\r",
      "STEP   123 / 903 (thread    1) f\b\b\r",
      "STEP   124 / 903 (thread    5) f\b\b\r",
      "STEP   125 / 903 (thread    0) f\b\b\r",
      "STEP   126 / 903 (thread    3) f\b\b\r",
      "STEP   127 / 903 (thread    2) f\b\b\r",
      "STEP   128 / 903 (thread    4) f\b\b\r",
      "STEP   129 / 903 (thread    2) f\b\b\r",
      "STEP   130 / 903 (thread    3) f\b\b\r",
      "STEP   132 / 903 (thread    1) f\b\b\r",
      "STEP   133 / 903 (thread    5) f\b\b\r",
      "STEP   134 / 903 (thread    0) f\b\b\r",
      "STEP   135 / 903 (thread    2) f\b\b\r",
      "STEP   136 / 903 (thread    3) f\b\b\r",
      "STEP   131 / 903 (thread    4) f\b\b\r",
      "STEP   137 / 903 (thread    1) f\b\b\r",
      "STEP   138 / 903 (thread    5) f\b\b\r",
      "STEP   139 / 903 (thread    0) f\b\b\r",
      "STEP   140 / 903 (thread    0) f\b\b\r",
      "STEP   141 / 903 (thread    2) f\b\b\r",
      "STEP   142 / 903 (thread    3) f\b\b\r",
      "STEP   143 / 903 (thread    4) f\b\b\r",
      "STEP   144 / 903 (thread    1) f\b\b\r",
      "STEP   145 / 903 (thread    0) f\b\b\r",
      "STEP   146 / 903 (thread    5) f\b\b\r",
      "STEP   147 / 903 (thread    2) f\b\b\r",
      "STEP   148 / 903 (thread    4) f\b\b\r",
      "STEP   149 / 903 (thread    1) f\b\b\r",
      "STEP   150 / 903 (thread    0) f\b\b\r",
      "STEP   151 / 903 (thread    5) f\b\b\r",
      "STEP   152 / 903 (thread    2) f\b\b\r",
      "STEP   153 / 903 (thread    4) f\b\b\r",
      "STEP   154 / 903 (thread    1) f\b\b\r",
      "STEP   155 / 903 (thread    3) f\b\b\r",
      "STEP   156 / 903 (thread    0) f\b\b\r",
      "STEP   157 / 903 (thread    2) f\b\b\r",
      "STEP   158 / 903 (thread    4) f\b\b\r",
      "STEP   159 / 903 (thread    1) f\b\b\r",
      "STEP   160 / 903 (thread    5) f\b\b\r",
      "STEP   161 / 903 (thread    0) f\b\b\r",
      "STEP   162 / 903 (thread    3) f\b\b\r",
      "STEP   163 / 903 (thread    4) f\b\b\r",
      "STEP   164 / 903 (thread    1) f\b\b\r",
      "STEP   165 / 903 (thread    2) f\b\b\r",
      "STEP   166 / 903 (thread    5) f\b\b\r",
      "STEP   167 / 903 (thread    0) f\b\b\r",
      "STEP   168 / 903 (thread    1) f\b\b\r",
      "STEP   169 / 903 (thread    3) f\b\b\r",
      "STEP   170 / 903 (thread    2) f\b\b\r",
      "STEP   171 / 903 (thread    4) f\b\b\r",
      "STEP   172 / 903 (thread    0) f\b\b\r",
      "STEP   173 / 903 (thread    1) f\b\b\r",
      "STEP   175 / 903 (thread    5) f\b\b\r",
      "STEP   176 / 903 (thread    2) f\b\b\r",
      "STEP   177 / 903 (thread    5) f\b\b\r",
      "STEP   178 / 903 (thread    4) f\b\b\r",
      "STEP   174 / 903 (thread    3) f\b\b\r",
      "STEP   179 / 903 (thread    0) f\b\b\r",
      "STEP   180 / 903 (thread    2) f\b\b\r",
      "STEP   181 / 903 (thread    1) f\b\b\r",
      "STEP   182 / 903 (thread    4) f\b\b\r",
      "STEP   183 / 903 (thread    0) f\b\b\r",
      "STEP   186 / 903 (thread    2) f\b\b\r",
      "STEP   184 / 903 (thread    5) f\b\b\r",
      "STEP   187 / 903 (thread    4) f\b\b\r",
      "STEP   185 / 903 (thread    3) f\b\b\r",
      "STEP   188 / 903 (thread    1) f\b\b\r",
      "STEP   189 / 903 (thread    2) f\b\b\r",
      "STEP   190 / 903 (thread    0) f\b\b\r",
      "STEP   191 / 903 (thread    4) f\b\b\r",
      "STEP   192 / 903 (thread    1) f\b\b\r",
      "STEP   193 / 903 (thread    5) f\b\b\r",
      "STEP   194 / 903 (thread    3) f\b\b\r",
      "STEP   195 / 903 (thread    5) f\b\b\r",
      "STEP   196 / 903 (thread    2) f\b\b\r",
      "STEP   197 / 903 (thread    3) f\b\b\r",
      "STEP   198 / 903 (thread    0) f\b\b\r",
      "STEP   199 / 903 (thread    4) f\b\b\r",
      "STEP   200 / 903 (thread    1) f\b\b\r",
      "STEP   201 / 903 (thread    5) f\b\b\r",
      "STEP   202 / 903 (thread    2) f\b\b\r",
      "STEP   203 / 903 (thread    0) f\b\b\r",
      "STEP   204 / 903 (thread    3) f\b\b\r",
      "STEP   205 / 903 (thread    4) f\b\b\r",
      "STEP   206 / 903 (thread    1) f\b\b\r",
      "STEP   207 / 903 (thread    5) f\b\b\r",
      "STEP   208 / 903 (thread    2) f\b\b\r",
      "STEP   209 / 903 (thread    0) f\b\b\r",
      "STEP   210 / 903 (thread    4) f\b\b\r",
      "STEP   211 / 903 (thread    1) f\b\b\r",
      "STEP   212 / 903 (thread    5) f\b\b\r",
      "STEP   213 / 903 (thread    2) f\b\b\r",
      "STEP   214 / 903 (thread    0) f\b\b\r",
      "STEP   215 / 903 (thread    3) f\b\b\r",
      "STEP   216 / 903 (thread    4) f\b\b\r",
      "STEP   217 / 903 (thread    1) f\b\b\r",
      "STEP   218 / 903 (thread    5) f\b\b\r",
      "STEP   219 / 903 (thread    2) f\b\b\r",
      "STEP   220 / 903 (thread    0) f\b\b\r",
      "STEP   221 / 903 (thread    3) f\b\b\r",
      "STEP   222 / 903 (thread    4) f\b\b\r",
      "STEP   223 / 903 (thread    1) f\b\b\r",
      "STEP   224 / 903 (thread    5) f\b\b\r",
      "STEP   226 / 903 (thread    0) f\b\b\r",
      "STEP   227 / 903 (thread    3) f\b\b\r",
      "STEP   228 / 903 (thread    4) f\b\b\r",
      "STEP   229 / 903 (thread    1) f\b\b\r",
      "STEP   225 / 903 (thread    2) f\b\b\r",
      "STEP   231 / 903 (thread    0) f\b\b\r",
      "STEP   232 / 903 (thread    3) f\b\b\r",
      "STEP   230 / 903 (thread    5) f\b\b\r",
      "STEP   233 / 903 (thread    4) f\b\b\r",
      "STEP   234 / 903 (thread    3) f\b\b\r",
      "STEP   235 / 903 (thread    4) f\b\b\r",
      "STEP   236 / 903 (thread    2) f\b\b\r",
      "STEP   237 / 903 (thread    0) f\b\b\r",
      "STEP   238 / 903 (thread    4) f\b\b\r",
      "STEP   239 / 903 (thread    3) f\b\b\r",
      "STEP   240 / 903 (thread    5) f\b\b\r",
      "STEP   241 / 903 (thread    1) f\b\b\r",
      "STEP   242 / 903 (thread    2) f\b\b\r",
      "STEP   243 / 903 (thread    0) f\b\b\r",
      "STEP   244 / 903 (thread    0) f\b\b\r",
      "STEP   245 / 903 (thread    4) f\b\b\r",
      "STEP   246 / 903 (thread    3) f\b\b\r",
      "STEP   247 / 903 (thread    5) f\b\b\r",
      "STEP   248 / 903 (thread    1) f\b\b\r",
      "STEP   249 / 903 (thread    2) f\b\b\r",
      "STEP   250 / 903 (thread    3) f\b\b\r",
      "STEP   251 / 903 (thread    5) f\b\b\r",
      "STEP   252 / 903 (thread    1) f\b\b\r",
      "STEP   253 / 903 (thread    0) f\b\b\r",
      "STEP   254 / 903 (thread    4) f\b\b\r",
      "STEP   255 / 903 (thread    5) f\b\b\r",
      "STEP   256 / 903 (thread    2) f\b\b\r",
      "STEP   257 / 903 (thread    0) f\b\b\r",
      "STEP   258 / 903 (thread    1) f\b\b\r",
      "STEP   259 / 903 (thread    4) f\b\b\r",
      "STEP   260 / 903 (thread    5) f\b\b\r",
      "STEP   261 / 903 (thread    3) f\b\b\r",
      "STEP   262 / 903 (thread    2) f\b\b\r",
      "STEP   263 / 903 (thread    4) f\b\b\r",
      "STEP   264 / 903 (thread    1) f\b\b\r",
      "STEP   265 / 903 (thread    4) f\b\b\r",
      "STEP   266 / 903 (thread    0) f\b\b\r",
      "STEP   267 / 903 (thread    5) f\b\b\r",
      "STEP   268 / 903 (thread    3) f\b\b\r",
      "STEP   269 / 903 (thread    4) f\b\b\r",
      "STEP   270 / 903 (thread    2) f\b\b\r",
      "STEP   271 / 903 (thread    1) f\b\b\r",
      "STEP   272 / 903 (thread    0) f\b\b\r",
      "STEP   273 / 903 (thread    5) f\b\b\r",
      "STEP   274 / 903 (thread    1) f\b\b\r",
      "STEP   275 / 903 (thread    2) f\b\b\r",
      "STEP   276 / 903 (thread    3) f\b\b\r",
      "STEP   277 / 903 (thread    4) f\b\b\r",
      "STEP   278 / 903 (thread    1) f\b\b\r",
      "STEP   279 / 903 (thread    3) f\b\b\r",
      "STEP   280 / 903 (thread    0) f\b\b\r",
      "STEP   281 / 903 (thread    2) f\b\b\r",
      "STEP   282 / 903 (thread    5) f\b\b\r",
      "STEP   283 / 903 (thread    3) f\b\b\r",
      "STEP   284 / 903 (thread    4) f\b\b\r",
      "STEP   285 / 903 (thread    0) f\b\b\r",
      "STEP   286 / 903 (thread    2) f\b\b\r",
      "STEP   287 / 903 (thread    5) f\b\b\r",
      "STEP   288 / 903 (thread    3) f\b\b\r",
      "STEP   289 / 903 (thread    1) f\b\b\r",
      "STEP   290 / 903 (thread    4) f\b\b\r",
      "STEP   291 / 903 (thread    0) f\b\b\r",
      "STEP   293 / 903 (thread    3) f\b\b\r",
      "STEP   294 / 903 (thread    1) f\b\b\r",
      "STEP   295 / 903 (thread    4) f\b\b\r",
      "STEP   296 / 903 (thread    2) f\b\b\r",
      "STEP   292 / 903 (thread    5) f\b\b\r",
      "STEP   297 / 903 (thread    0) f\b\b\r",
      "STEP   298 / 903 (thread    3) f\b\b\r",
      "STEP   299 / 903 (thread    4) f\b\b\r",
      "STEP   300 / 903 (thread    1) f\b\b\r",
      "STEP   301 / 903 (thread    2) f\b\b\r",
      "STEP   302 / 903 (thread    4) f\b\b\r",
      "STEP   303 / 903 (thread    0) f\b\b\r",
      "STEP   304 / 903 (thread    3) f\b\b\r",
      "STEP   305 / 903 (thread    5) f\b\b\r",
      "STEP   306 / 903 (thread    1) f\b\b\r",
      "STEP   307 / 903 (thread    2) f\b\b\r",
      "STEP   308 / 903 (thread    4) f\b\b\r",
      "STEP   309 / 903 (thread    0) f\b\b\r",
      "STEP   310 / 903 (thread    4) f\b\b\r",
      "STEP   311 / 903 (thread    5) f\b\b\r",
      "STEP   312 / 903 (thread    1) f\b\b\r",
      "STEP   313 / 903 (thread    3) f\b\b\r",
      "STEP   314 / 903 (thread    0) f\b\b\r",
      "STEP   315 / 903 (thread    2) f\b\b\r",
      "STEP   316 / 903 (thread    5) f\b\b\r",
      "STEP   317 / 903 (thread    1) f\b\b\r",
      "STEP   318 / 903 (thread    3) f\b\b\r",
      "STEP   319 / 903 (thread    4) f\b\b\r",
      "STEP   320 / 903 (thread    0) f\b\b\r",
      "STEP   321 / 903 (thread    2) f\b\b\r",
      "STEP   322 / 903 (thread    5) f\b\b\r",
      "STEP   323 / 903 (thread    4) f\b\b\r",
      "STEP   326 / 903 (thread    3) f\b\b\r",
      "STEP   325 / 903 (thread    1) f\b\b\r",
      "STEP   327 / 903 (thread    0) f\b\b\r",
      "STEP   324 / 903 (thread    2) f\b\b\r",
      "STEP   328 / 903 (thread    5) f\b\b\r",
      "STEP   329 / 903 (thread    4) f\b\b\r",
      "STEP   330 / 903 (thread    3) f\b\b\r",
      "STEP   331 / 903 (thread    1) f\b\b\r",
      "STEP   332 / 903 (thread    0) f\b\b\r",
      "STEP   333 / 903 (thread    2) f\b\b\r",
      "STEP   334 / 903 (thread    3) f\b\b\r",
      "STEP   335 / 903 (thread    1) f\b\b\r",
      "STEP   336 / 903 (thread    5) f\b\b\r",
      "STEP   337 / 903 (thread    0) f\b\b\r",
      "STEP   338 / 903 (thread    4) f\b\b\r",
      "STEP   339 / 903 (thread    5) f\b\b\r",
      "STEP   340 / 903 (thread    2) f\b\b\r",
      "STEP   341 / 903 (thread    3) f\b\b\r",
      "STEP   342 / 903 (thread    1) f\b\b\r",
      "STEP   343 / 903 (thread    5) f\b\b\r",
      "STEP   344 / 903 (thread    2) f\b\b\r",
      "STEP   345 / 903 (thread    0) f\b\b\r",
      "STEP   346 / 903 (thread    4) f\b\b\r",
      "STEP   347 / 903 (thread    3) f\b\b\r",
      "STEP   348 / 903 (thread    1) f\b\b\r",
      "STEP   349 / 903 (thread    5) f\b\b\r",
      "STEP   350 / 903 (thread    2) f\b\b\r",
      "STEP   351 / 903 (thread    4) f\b\b\r",
      "STEP   352 / 903 (thread    0) f\b\b\r",
      "STEP   353 / 903 (thread    3) f\b\b\r",
      "STEP   354 / 903 (thread    0) f\b\b\r",
      "STEP   355 / 903 (thread    2) f\b\b\r",
      "STEP   356 / 903 (thread    5) f\b\b\r",
      "STEP   357 / 903 (thread    1) f\b\b\r",
      "STEP   358 / 903 (thread    0) f\b\b\r",
      "STEP   359 / 903 (thread    3) f\b\b\r",
      "STEP   360 / 903 (thread    4) f\b\b\r",
      "STEP   361 / 903 (thread    2) f\b\b\r",
      "STEP   362 / 903 (thread    5) f\b\b\r",
      "STEP   363 / 903 (thread    1) f\b\b\r",
      "STEP   364 / 903 (thread    0) f\b\b\r",
      "STEP   365 / 903 (thread    3) f\b\b\r",
      "STEP   366 / 903 (thread    4) f\b\b\r",
      "STEP   367 / 903 (thread    2) f\b\b\r",
      "STEP   368 / 903 (thread    5) f\b\b\r",
      "STEP   369 / 903 (thread    1) f\b\b\r",
      "STEP   370 / 903 (thread    4) f\b\b\r",
      "STEP   371 / 903 (thread    3) f\b\b\r",
      "STEP   372 / 903 (thread    2) f\b\b\r",
      "STEP   373 / 903 (thread    0) f\b\b\r",
      "STEP   374 / 903 (thread    1) f\b\b\r",
      "STEP   375 / 903 (thread    5) f\b\b\r",
      "STEP   376 / 903 (thread    1) f\b\b\r",
      "STEP   377 / 903 (thread    4) f\b\b\r",
      "STEP   378 / 903 (thread    3) f\b\b\r",
      "STEP   379 / 903 (thread    2) f\b\b\r",
      "STEP   380 / 903 (thread    0) f\b\b\r",
      "STEP   381 / 903 (thread    5) f\b\b\r",
      "STEP   382 / 903 (thread    1) f\b\b\r",
      "STEP   383 / 903 (thread    4) f\b\b\r",
      "STEP   384 / 903 (thread    2) f\b\b\r",
      "STEP   385 / 903 (thread    0) f\b\b\r",
      "STEP   386 / 903 (thread    5) f\b\b\r",
      "STEP   387 / 903 (thread    3) f\b\b\r",
      "STEP   388 / 903 (thread    0) f\b\b\r",
      "STEP   389 / 903 (thread    1) f\b\b\r",
      "STEP   390 / 903 (thread    4) f\b\b\r",
      "STEP   391 / 903 (thread    2) f\b\b\r",
      "STEP   392 / 903 (thread    5) f\b\b\r",
      "STEP   393 / 903 (thread    3) f\b\b\r",
      "STEP   394 / 903 (thread    0) f\b\b\r",
      "STEP   395 / 903 (thread    1) f\b\b\r",
      "STEP   396 / 903 (thread    3) f\b\b\r",
      "STEP   398 / 903 (thread    0) f\b\b\r",
      "STEP   399 / 903 (thread    5) f\b\b\r",
      "STEP   400 / 903 (thread    2) f\b\b\r",
      "STEP   397 / 903 (thread    4) f\b\b\r",
      "STEP   401 / 903 (thread    1) f\b\b\r",
      "STEP   402 / 903 (thread    3) f\b\b\r",
      "STEP   404 / 903 (thread    5) f\b\b\r",
      "STEP   405 / 903 (thread    2) f\b\b\r",
      "STEP   403 / 903 (thread    0) f\b\b\r",
      "STEP   406 / 903 (thread    4) f\b\b\r",
      "STEP   408 / 903 (thread    3) f\b\b\r",
      "STEP   409 / 903 (thread    1) f\b\b\r",
      "STEP   407 / 903 (thread    5) f\b\b\r",
      "STEP   410 / 903 (thread    2) f\b\b\r",
      "STEP   411 / 903 (thread    4) f\b\b\r",
      "STEP   412 / 903 (thread    0) f\b\b\r",
      "STEP   413 / 903 (thread    3) f\b\b\r",
      "STEP   414 / 903 (thread    1) f\b\b\r",
      "STEP   415 / 903 (thread    0) f\b\b\r",
      "STEP   417 / 903 (thread    5) f\b\b\r",
      "STEP   418 / 903 (thread    0) f\b\b\r",
      "STEP   419 / 903 (thread    4) f\b\b\r",
      "STEP   416 / 903 (thread    2) f\b\b\r",
      "STEP   420 / 903 (thread    3) f\b\b\r",
      "STEP   421 / 903 (thread    1) f\b\b\r",
      "STEP   422 / 903 (thread    5) f\b\b\r",
      "STEP   423 / 903 (thread    0) f\b\b\r",
      "STEP   424 / 903 (thread    4) f\b\b\r",
      "STEP   425 / 903 (thread    2) f\b\b\r",
      "STEP   426 / 903 (thread    3) f\b\b\r",
      "STEP   427 / 903 (thread    1) f\b\b\r",
      "STEP   428 / 903 (thread    0) f\b\b\r",
      "STEP   429 / 903 (thread    1) f\b\b\r",
      "STEP   430 / 903 (thread    4) f\b\b\r",
      "STEP   431 / 903 (thread    5) f\b\b\r",
      "STEP   432 / 903 (thread    3) f\b\b\r",
      "STEP   434 / 903 (thread    2) f\b\b\r",
      "STEP   433 / 903 (thread    0) f\b\b\r",
      "STEP   435 / 903 (thread    4) f\b\b\r",
      "STEP   436 / 903 (thread    2) f\b\b\r",
      "STEP   437 / 903 (thread    1) f\b\b\r",
      "STEP   438 / 903 (thread    5) f\b\b\r",
      "STEP   439 / 903 (thread    0) f\b\b\r",
      "STEP   440 / 903 (thread    2) f\b\b\r",
      "STEP   441 / 903 (thread    3) f\b\b\r",
      "STEP   442 / 903 (thread    4) f\b\b\r",
      "STEP   443 / 903 (thread    1) f\b\b\r",
      "STEP   444 / 903 (thread    5) f\b\b\r",
      "STEP   445 / 903 (thread    2) f\b\b\r",
      "STEP   446 / 903 (thread    3) f\b\b\r",
      "STEP   447 / 903 (thread    4) f\b\b\r",
      "STEP   448 / 903 (thread    0) f\b\b\r",
      "STEP   449 / 903 (thread    1) f\b\b\r",
      "STEP   450 / 903 (thread    5) f\b\b\r",
      "STEP   451 / 903 (thread    1) f\b\b\r",
      "STEP   453 / 903 (thread    3) f\b\b\r",
      "STEP   454 / 903 (thread    4) f\b\b\r",
      "STEP   455 / 903 (thread    0) f\b\b\r",
      "STEP   456 / 903 (thread    5) f\b\b\r",
      "STEP   457 / 903 (thread    1) f\b\b\r",
      "STEP   452 / 903 (thread    2) f\b\b\r",
      "STEP   458 / 903 (thread    3) f\b\b\r",
      "STEP   459 / 903 (thread    4) f\b\b\r",
      "STEP   460 / 903 (thread    1) f\b\b\r",
      "STEP   461 / 903 (thread    0) f\b\b\r",
      "STEP   462 / 903 (thread    5) f\b\b\r",
      "STEP   463 / 903 (thread    2) f\b\b\r",
      "STEP   464 / 903 (thread    3) f\b\b\r",
      "STEP   465 / 903 (thread    1) f\b\b\r",
      "STEP   466 / 903 (thread    5) f\b\b\r",
      "STEP   467 / 903 (thread    0) f\b\b\r",
      "STEP   468 / 903 (thread    4) f\b\b\r",
      "STEP   469 / 903 (thread    2) f\b\b\r",
      "STEP   470 / 903 (thread    3) f\b\b\r",
      "STEP   471 / 903 (thread    1) f\b\b\r",
      "STEP   472 / 903 (thread    5) f\b\b\r",
      "STEP   473 / 903 (thread    0) f\b\b\r",
      "STEP   474 / 903 (thread    4) f\b\b\r",
      "STEP   475 / 903 (thread    5) f\b\b\r",
      "STEP   476 / 903 (thread    2) f\b\b\r",
      "STEP   477 / 903 (thread    0) f\b\b\r",
      "STEP   478 / 903 (thread    3) f\b\b\r",
      "STEP   479 / 903 (thread    1) f\b\b\r",
      "STEP   480 / 903 (thread    2) f\b\b\r",
      "STEP   481 / 903 (thread    4) f\b\b\r",
      "STEP   482 / 903 (thread    5) f\b\b\r",
      "STEP   483 / 903 (thread    3) f\b\b\r",
      "STEP   484 / 903 (thread    0) f\b\b\r",
      "STEP   485 / 903 (thread    1) f\b\b\r",
      "STEP   486 / 903 (thread    2) f\b\b\r",
      "STEP   487 / 903 (thread    4) f\b\b\r",
      "STEP   488 / 903 (thread    5) f\b\b\r",
      "STEP   489 / 903 (thread    2) f\b\b\r",
      "STEP   490 / 903 (thread    3) f\b\b\r",
      "STEP   491 / 903 (thread    1) f\b\b\r",
      "STEP   492 / 903 (thread    4) f\b\b\r",
      "STEP   493 / 903 (thread    0) f\b\b\r",
      "STEP   494 / 903 (thread    5) f\b\b\r",
      "STEP   495 / 903 (thread    2) f\b\b\r",
      "STEP   496 / 903 (thread    3) f\b\b\r",
      "STEP   498 / 903 (thread    4) f\b\b\r",
      "STEP   500 / 903 (thread    2) f\b\b\r",
      "STEP   501 / 903 (thread    0) f\b\b\r",
      "STEP   499 / 903 (thread    5) f\b\b\r",
      "STEP   497 / 903 (thread    1) f\b\b\r",
      "STEP   601 / 903 (thread    1) f\b\b\r",
      "STEP   701 / 903 (thread    5) f\b\b\n",
      "Reallocating..done. *alloclen = 1868\n",
      "\r",
      "STEP   801 / 903 (thread    5) f\b\b"
     ]
    },
    {
     "name": "stderr",
     "output_type": "stream",
     "text": [
      "\r",
      "STEP   901 / 903 (thread    3) d\b\b h\n",
      "done.\n",
      "\n",
      "Making a distance matrix from msa.. \n",
      "\r",
      "    0 / 904 (thread    0)\r",
      "  100 / 904 (thread    0)\r",
      "  200 / 904 (thread    1)\r",
      "  300 / 904 (thread    4)\r",
      "  400 / 904 (thread    2)\r",
      "  500 / 904 (thread    1)\r",
      "  600 / 904 (thread    3)\r",
      "  700 / 904 (thread    5)\r",
      "  800 / 904 (thread    1)\r",
      "  900 / 904 (thread    4)\n",
      "done.\n",
      "\n",
      "Constructing a UPGMA tree (efffree=1) ... \n",
      "\r",
      "    0 / 904\r",
      "   10 / 904\r",
      "   20 / 904\r",
      "   30 / 904\r",
      "   40 / 904\r",
      "   50 / 904\r",
      "   60 / 904\r",
      "   70 / 904\r",
      "   80 / 904\r",
      "   90 / 904\r",
      "  100 / 904\r",
      "  110 / 904\r",
      "  120 / 904\r",
      "  130 / 904\r",
      "  140 / 904\r",
      "  150 / 904\r",
      "  160 / 904\r",
      "  170 / 904\r",
      "  180 / 904\r",
      "  190 / 904\r",
      "  200 / 904\r",
      "  210 / 904\r",
      "  220 / 904\r",
      "  230 / 904\r",
      "  240 / 904\r",
      "  250 / 904\r",
      "  260 / 904\r",
      "  270 / 904\r",
      "  280 / 904\r",
      "  290 / 904\r",
      "  300 / 904\r",
      "  310 / 904\r",
      "  320 / 904\r",
      "  330 / 904\r",
      "  340 / 904\r",
      "  350 / 904\r",
      "  360 / 904\r",
      "  370 / 904\r",
      "  380 / 904\r",
      "  390 / 904\r",
      "  400 / 904\r",
      "  410 / 904\r",
      "  420 / 904\r",
      "  430 / 904\r",
      "  440 / 904\r",
      "  450 / 904\r",
      "  460 / 904\r",
      "  470 / 904\r",
      "  480 / 904\r",
      "  490 / 904\r",
      "  500 / 904\r",
      "  510 / 904\r",
      "  520 / 904\r",
      "  530 / 904\r",
      "  540 / 904\r",
      "  550 / 904\r",
      "  560 / 904\r",
      "  570 / 904\r",
      "  580 / 904\r",
      "  590 / 904\r",
      "  600 / 904\r",
      "  610 / 904\r",
      "  620 / 904\r",
      "  630 / 904\r",
      "  640 / 904\r",
      "  650 / 904\r",
      "  660 / 904\r",
      "  670 / 904\r",
      "  680 / 904\r",
      "  690 / 904\r",
      "  700 / 904\r",
      "  710 / 904\r",
      "  720 / 904\r",
      "  730 / 904\r",
      "  740 / 904\r",
      "  750 / 904\r",
      "  760 / 904\r",
      "  770 / 904\r",
      "  780 / 904\r",
      "  790 / 904\r",
      "  800 / 904\r",
      "  810 / 904\r",
      "  820 / 904\r",
      "  830 / 904\r",
      "  840 / 904\r",
      "  850 / 904\r",
      "  860 / 904\r",
      "  870 / 904\r",
      "  880 / 904\r",
      "  890 / 904\r",
      "  900 / 904\n",
      "done.\n",
      "\n",
      "Progressive alignment 2/2... \n",
      "\r",
      "STEP     1 / 903 (thread    0) f\b\b\r",
      "STEP     2 / 903 (thread    5) f\b\b\r",
      "STEP     3 / 903 (thread    2) f\b\b\r",
      "STEP     4 / 903 (thread    1) f\b\b\r",
      "STEP     5 / 903 (thread    3) f\b\b\r",
      "STEP     6 / 903 (thread    4) f\b\b\r",
      "STEP     7 / 903 (thread    1) f\b\b\r",
      "STEP     8 / 903 (thread    3) f\b\b\r",
      "STEP     9 / 903 (thread    0) f\b\b\r",
      "STEP    10 / 903 (thread    2) f\b\b\r",
      "STEP    11 / 903 (thread    5) f\b\b\r",
      "STEP    12 / 903 (thread    4) f\b\b\r",
      "STEP    13 / 903 (thread    1) f\b\b\r",
      "STEP    14 / 903 (thread    3) f\b\b\r",
      "STEP    15 / 903 (thread    2) f\b\b\r",
      "STEP    16 / 903 (thread    0) f\b\b\r",
      "STEP    17 / 903 (thread    4) f\b\b\r",
      "STEP    18 / 903 (thread    5) f\b\b\r",
      "STEP    19 / 903 (thread    1) f\b\b\r",
      "STEP    20 / 903 (thread    3) f\b\b\r",
      "STEP    21 / 903 (thread    2) f\b\b\r",
      "STEP    22 / 903 (thread    0) f\b\b\r",
      "STEP    23 / 903 (thread    5) f\b\b\r",
      "STEP    24 / 903 (thread    4) f\b\b\r",
      "STEP    25 / 903 (thread    1) f\b\b\r",
      "STEP    26 / 903 (thread    3) f\b\b\r",
      "STEP    27 / 903 (thread    2) f\b\b\r",
      "STEP    28 / 903 (thread    5) f\b\b\r",
      "STEP    30 / 903 (thread    0)\r",
      "STEP    29 / 903 (thread    4) f\b\b f\b\b\r",
      "STEP    31 / 903 (thread    1) f\b\b\r",
      "STEP    32 / 903 (thread    3) f\b\b\r",
      "STEP    33 / 903 (thread    0) f\b\b\r",
      "STEP    34 / 903 (thread    2) f\b\b\r",
      "STEP    35 / 903 (thread    5) f\b\b\r",
      "STEP    36 / 903 (thread    4) f\b\b\r",
      "STEP    37 / 903 (thread    1) f\b\b\r",
      "STEP    38 / 903 (thread    3) f\b\b\r",
      "STEP    39 / 903 (thread    0) f\b\b\r",
      "STEP    40 / 903 (thread    2) f\b\b\r",
      "STEP    41 / 903 (thread    5) f\b\b\r",
      "STEP    42 / 903 (thread    4) f\b\b\r",
      "STEP    43 / 903 (thread    1) f\b\b\r",
      "STEP    44 / 903 (thread    3) f\b\b\r",
      "STEP    45 / 903 (thread    0) f\b\b\r",
      "STEP    46 / 903 (thread    5) f\b\b\r",
      "STEP    47 / 903 (thread    2) f\b\b\r",
      "STEP    48 / 903 (thread    4) f\b\b\r",
      "STEP    49 / 903 (thread    1) f\b\b\r",
      "STEP    50 / 903 (thread    3) f\b\b\r",
      "STEP    51 / 903 (thread    0) f\b\b\r",
      "STEP    52 / 903 (thread    5) f\b\b\r",
      "STEP    53 / 903 (thread    2) f\b\b\r",
      "STEP    54 / 903 (thread    4) f\b\b\r",
      "STEP    55 / 903 (thread    1) f\b\b\r",
      "STEP    56 / 903 (thread    3) f\b\b\r",
      "STEP    57 / 903 (thread    0) f\b\b\r",
      "STEP    58 / 903 (thread    5) f\b\b\r",
      "STEP    59 / 903 (thread    2) f\b\b\r",
      "STEP    60 / 903 (thread    4) f\b\b\r",
      "STEP    61 / 903 (thread    1) f\b\b\r",
      "STEP    62 / 903 (thread    3) f\b\b\r",
      "STEP    63 / 903 (thread    0) f\b\b\r",
      "STEP    64 / 903 (thread    5) f\b\b\r",
      "STEP    65 / 903 (thread    2) f\b\b\r",
      "STEP    66 / 903 (thread    4) f\b\b\r",
      "STEP    67 / 903 (thread    1) f\b\b\r",
      "STEP    68 / 903 (thread    3) f\b\b\r",
      "STEP    69 / 903 (thread    0) f\b\b\r",
      "STEP    70 / 903 (thread    5) f\b\b\r",
      "STEP    71 / 903 (thread    2) f\b\b\r",
      "STEP    72 / 903 (thread    4) f\b\b\r",
      "STEP    73 / 903 (thread    1) f\b\b\r",
      "STEP    74 / 903 (thread    3) f\b\b\r",
      "STEP    75 / 903 (thread    0) f\b\b\r",
      "STEP    76 / 903 (thread    5) f\b\b\r",
      "STEP    77 / 903 (thread    2) f\b\b\r",
      "STEP    78 / 903 (thread    4) f\b\b\r",
      "STEP    79 / 903 (thread    1) f\b\b\r",
      "STEP    80 / 903 (thread    3) f\b\b\r",
      "STEP    81 / 903 (thread    0) f\b\b\r",
      "STEP    82 / 903 (thread    5) f\b\b\r",
      "STEP    83 / 903 (thread    2) f\b\b\r",
      "STEP    84 / 903 (thread    4) f\b\b\r",
      "STEP    85 / 903 (thread    1) f\b\b\r",
      "STEP    86 / 903 (thread    3) f\b\b\r",
      "STEP    87 / 903 (thread    0) f\b\b\r",
      "STEP    88 / 903 (thread    5) f\b\b\r",
      "STEP    89 / 903 (thread    4) f\b\b\r",
      "STEP    90 / 903 (thread    2) f\b\b\r",
      "STEP    91 / 903 (thread    1) f\b\b\r",
      "STEP    92 / 903 (thread    3) f\b\b\r",
      "STEP    93 / 903 (thread    0) f\b\b\r",
      "STEP    94 / 903 (thread    5) f\b\b\r",
      "STEP    95 / 903 (thread    4) f\b\b\r",
      "STEP    96 / 903 (thread    2) f\b\b\r",
      "STEP    97 / 903 (thread    1) f\b\b\r",
      "STEP    98 / 903 (thread    3) f\b\b\r",
      "STEP    99 / 903 (thread    0) f\b\b\r",
      "STEP   100 / 903 (thread    5) f\b\b\r",
      "STEP   101 / 903 (thread    4) f\b\b\r",
      "STEP   102 / 903 (thread    2) f\b\b\r",
      "STEP   103 / 903 (thread    1) f\b\b\r",
      "STEP   104 / 903 (thread    3) f\b\b\r",
      "STEP   105 / 903 (thread    0) f\b\b\r",
      "STEP   106 / 903 (thread    4) f\b\b\r",
      "STEP   108 / 903 (thread    1) f\b\b\r",
      "STEP   109 / 903 (thread    3) f\b\b\r",
      "STEP   110 / 903 (thread    4) f\b\b\r",
      "STEP   111 / 903 (thread    0) f\b\b\r",
      "STEP   112 / 903 (thread    2) f\b\b\r",
      "STEP   107 / 903 (thread    5) f\b\b\r",
      "STEP   113 / 903 (thread    3) f\b\b\r",
      "STEP   114 / 903 (thread    4) f\b\b\r",
      "STEP   115 / 903 (thread    0) f\b\b\r",
      "STEP   116 / 903 (thread    2) f\b\b\r",
      "STEP   117 / 903 (thread    1) f\b\b\r",
      "STEP   118 / 903 (thread    3) f\b\b\r",
      "STEP   119 / 903 (thread    4) f\b\b\r",
      "STEP   120 / 903 (thread    0) f\b\b\r",
      "STEP   121 / 903 (thread    2) f\b\b\r",
      "STEP   122 / 903 (thread    5) f\b\b\r",
      "STEP   123 / 903 (thread    1) f\b\b\r",
      "STEP   124 / 903 (thread    3) f\b\b\r",
      "STEP   125 / 903 (thread    4) f\b\b\r",
      "STEP   126 / 903 (thread    0) f\b\b\r",
      "STEP   127 / 903 (thread    1) f\b\b\r",
      "STEP   128 / 903 (thread    3) f\b\b\r",
      "STEP   129 / 903 (thread    4) f\b\b\r",
      "STEP   130 / 903 (thread    2) f\b\b\r",
      "STEP   131 / 903 (thread    1) f\b\b\r",
      "STEP   132 / 903 (thread    5) f\b\b\r",
      "STEP   133 / 903 (thread    3) f\b\b\r",
      "STEP   134 / 903 (thread    4) f\b\b\r",
      "STEP   135 / 903 (thread    0) f\b\b\r",
      "STEP   136 / 903 (thread    2) f\b\b\r",
      "STEP   137 / 903 (thread    1) f\b\b\r",
      "STEP   138 / 903 (thread    5) f\b\b\r",
      "STEP   139 / 903 (thread    3) f\b\b\r",
      "STEP   140 / 903 (thread    0) f\b\b\r",
      "STEP   141 / 903 (thread    2) f\b\b\r",
      "STEP   142 / 903 (thread    5) f\b\b\r",
      "STEP   143 / 903 (thread    3) f\b\b\r",
      "STEP   144 / 903 (thread    4) f\b\b\r",
      "STEP   145 / 903 (thread    2) f\b\b\r",
      "STEP   146 / 903 (thread    5) f\b\b\r",
      "STEP   147 / 903 (thread    3) f\b\b\r",
      "STEP   148 / 903 (thread    1) f\b\b\r",
      "STEP   149 / 903 (thread    4) f\b\b\r",
      "STEP   150 / 903 (thread    0) f\b\b\r",
      "STEP   151 / 903 (thread    2) f\b\b\r",
      "STEP   152 / 903 (thread    5) f\b\b\r",
      "STEP   153 / 903 (thread    3) f\b\b\r",
      "STEP   155 / 903 (thread    4) f\b\b\r",
      "STEP   156 / 903 (thread    0) f\b\b\r",
      "STEP   157 / 903 (thread    2) f\b\b\r",
      "STEP   158 / 903 (thread    5) f\b\b\r",
      "STEP   159 / 903 (thread    4) f\b\b\r",
      "STEP   160 / 903 (thread    0) f\b\b\r",
      "STEP   161 / 903 (thread    2) f\b\b\r",
      "STEP   162 / 903 (thread    3) f\b\b\r",
      "STEP   154 / 903 (thread    1) f\b\b\r",
      "STEP   163 / 903 (thread    5) f\b\b\r",
      "STEP   164 / 903 (thread    4) f\b\b\r",
      "STEP   165 / 903 (thread    0) f\b\b\r",
      "STEP   166 / 903 (thread    2) f\b\b\r",
      "STEP   167 / 903 (thread    3) f\b\b\r",
      "STEP   168 / 903 (thread    1) f\b\b\r",
      "STEP   169 / 903 (thread    5) f\b\b\r",
      "STEP   170 / 903 (thread    4) f\b\b\r",
      "STEP   171 / 903 (thread    0) f\b\b\r",
      "STEP   172 / 903 (thread    2) f\b\b\r",
      "STEP   173 / 903 (thread    3) f\b\b\r",
      "STEP   174 / 903 (thread    1) f\b\b\r",
      "STEP   175 / 903 (thread    0) f\b\b\r",
      "STEP   176 / 903 (thread    2) f\b\b\r",
      "STEP   177 / 903 (thread    5) f\b\b\r",
      "STEP   178 / 903 (thread    1) f\b\b\r",
      "STEP   179 / 903 (thread    4) f\b\b\r",
      "STEP   180 / 903 (thread    0) f\b\b\r",
      "STEP   181 / 903 (thread    2) f\b\b\r",
      "STEP   182 / 903 (thread    5) f\b\b\r",
      "STEP   183 / 903 (thread    4) f\b\b\r",
      "STEP   184 / 903 (thread    1) f\b\b\r",
      "STEP   185 / 903 (thread    0) f\b\b\r",
      "STEP   186 / 903 (thread    3) f\b\b\r",
      "STEP   187 / 903 (thread    2) f\b\b\r",
      "STEP   188 / 903 (thread    5) f\b\b\r",
      "STEP   189 / 903 (thread    1) f\b\b\r",
      "STEP   190 / 903 (thread    4) f\b\b\r",
      "STEP   191 / 903 (thread    0)\r",
      "STEP   192 / 903 (thread    3) f\b\b f\b\b\r",
      "STEP   193 / 903 (thread    2) f\b\b\r",
      "STEP   194 / 903 (thread    5) f\b\b\r",
      "STEP   195 / 903 (thread    4) f\b\b\r",
      "STEP   196 / 903 (thread    1) f\b\b\r",
      "STEP   197 / 903 (thread    3) f\b\b\r",
      "STEP   198 / 903 (thread    0) f\b\b\r",
      "STEP   199 / 903 (thread    2) f\b\b\r",
      "STEP   200 / 903 (thread    5) f\b\b\r",
      "STEP   201 / 903 (thread    4) f\b\b\r",
      "STEP   202 / 903 (thread    0) f\b\b\r",
      "STEP   203 / 903 (thread    3) f\b\b\r",
      "STEP   205 / 903 (thread    2) f\b\b\r",
      "STEP   206 / 903 (thread    5) f\b\b\r",
      "STEP   207 / 903 (thread    4) f\b\b\r",
      "STEP   208 / 903 (thread    5) f\b\b\r",
      "STEP   209 / 903 (thread    0) f\b\b\r",
      "STEP   210 / 903 (thread    4) f\b\b\r",
      "STEP   204 / 903 (thread    1) f\b\b\r",
      "STEP   211 / 903 (thread    3) f\b\b\r",
      "STEP   212 / 903 (thread    2) f\b\b\r",
      "STEP   213 / 903 (thread    5) f\b\b\r",
      "STEP   214 / 903 (thread    4) f\b\b\r",
      "STEP   215 / 903 (thread    3) f\b\b\r",
      "STEP   216 / 903 (thread    5) f\b\b\r",
      "STEP   217 / 903 (thread    4) f\b\b\r",
      "STEP   218 / 903 (thread    3) f\b\b\r",
      "STEP   219 / 903 (thread    0) f\b\b\r",
      "STEP   220 / 903 (thread    1) f\b\b\r",
      "STEP   221 / 903 (thread    2) f\b\b\r",
      "STEP   222 / 903 (thread    5) f\b\b\r",
      "STEP   223 / 903 (thread    4) f\b\b\r",
      "STEP   224 / 903 (thread    3) f\b\b\r",
      "STEP   225 / 903 (thread    0) f\b\b\r",
      "STEP   226 / 903 (thread    1) f\b\b\r",
      "STEP   227 / 903 (thread    2) f\b\b\r",
      "STEP   228 / 903 (thread    5) f\b\b\r",
      "STEP   229 / 903 (thread    0) f\b\b\r",
      "STEP   230 / 903 (thread    1) f\b\b\r",
      "STEP   231 / 903 (thread    4) f\b\b\r",
      "STEP   232 / 903 (thread    0) f\b\b\r",
      "STEP   233 / 903 (thread    3) f\b\b\r",
      "STEP   234 / 903 (thread    2) f\b\b\r",
      "STEP   235 / 903 (thread    5) f\b\b\r",
      "STEP   236 / 903 (thread    0) f\b\b\r",
      "STEP   237 / 903 (thread    3) f\b\b\r",
      "STEP   238 / 903 (thread    1) f\b\b\r",
      "STEP   239 / 903 (thread    4) f\b\b\r",
      "STEP   240 / 903 (thread    2) f\b\b\r",
      "STEP   241 / 903 (thread    5) f\b\b\r",
      "STEP   242 / 903 (thread    0) f\b\b\r",
      "STEP   243 / 903 (thread    3) f\b\b\r",
      "STEP   244 / 903 (thread    1) f\b\b\r",
      "STEP   245 / 903 (thread    4) f\b\b\r",
      "STEP   246 / 903 (thread    2) f\b\b\r",
      "STEP   247 / 903 (thread    5) f\b\b\r",
      "STEP   248 / 903 (thread    0) f\b\b\r",
      "STEP   249 / 903 (thread    3) f\b\b\r",
      "STEP   250 / 903 (thread    1) f\b\b\r",
      "STEP   251 / 903 (thread    2) f\b\b\r",
      "STEP   252 / 903 (thread    5) f\b\b\r",
      "STEP   253 / 903 (thread    4) f\b\b\r",
      "STEP   254 / 903 (thread    3) f\b\b\r",
      "STEP   255 / 903 (thread    1) f\b\b\r",
      "STEP   256 / 903 (thread    2) f\b\b\r",
      "STEP   257 / 903 (thread    5) f\b\b\r",
      "STEP   258 / 903 (thread    4) f\b\b\r",
      "STEP   259 / 903 (thread    3) f\b\b\r",
      "STEP   260 / 903 (thread    0) f\b\b\r",
      "STEP   261 / 903 (thread    1) f\b\b\r",
      "STEP   262 / 903 (thread    2) f\b\b\r",
      "STEP   263 / 903 (thread    4) f\b\b\r",
      "STEP   264 / 903 (thread    3) f\b\b\r",
      "STEP   266 / 903 (thread    5) f\b\b\r",
      "STEP   265 / 903 (thread    0) f\b\b\r",
      "STEP   267 / 903 (thread    1) f\b\b\r",
      "STEP   268 / 903 (thread    2) f\b\b\r",
      "STEP   269 / 903 (thread    4) f\b\b\r",
      "STEP   270 / 903 (thread    3) f\b\b\r",
      "STEP   271 / 903 (thread    5) f\b\b\r",
      "STEP   272 / 903 (thread    0) f\b\b\r",
      "STEP   273 / 903 (thread    2) f\b\b\r",
      "STEP   274 / 903 (thread    1) f\b\b\r",
      "STEP   275 / 903 (thread    4) f\b\b\r",
      "STEP   276 / 903 (thread    3) f\b\b\r",
      "STEP   277 / 903 (thread    2) f\b\b\r",
      "STEP   278 / 903 (thread    1) f\b\b\r",
      "STEP   279 / 903 (thread    5) f\b\b\r",
      "STEP   280 / 903 (thread    0) f\b\b\r",
      "STEP   281 / 903 (thread    3) f\b\b\r",
      "STEP   282 / 903 (thread    2) f\b\b\r",
      "STEP   283 / 903 (thread    1) f\b\b\r",
      "STEP   284 / 903 (thread    5) f\b\b\r",
      "STEP   285 / 903 (thread    0) f\b\b\r",
      "STEP   286 / 903 (thread    4) f\b\b\r",
      "STEP   287 / 903 (thread    3) f\b\b\r",
      "STEP   288 / 903 (thread    2) f\b\b\r",
      "STEP   289 / 903 (thread    1) f\b\b\r",
      "STEP   290 / 903 (thread    5) f\b\b\r",
      "STEP   291 / 903 (thread    4) f\b\b\r",
      "STEP   292 / 903 (thread    0) f\b\b\r",
      "STEP   293 / 903 (thread    3) f\b\b\r",
      "STEP   294 / 903 (thread    2) f\b\b\r",
      "STEP   295 / 903 (thread    5) f\b\b\r",
      "STEP   296 / 903 (thread    4) f\b\b\r",
      "STEP   297 / 903 (thread    1) f\b\b\r",
      "STEP   298 / 903 (thread    0) f\b\b\r",
      "STEP   299 / 903 (thread    1) f\b\b\r",
      "STEP   300 / 903 (thread    3) f\b\b\r",
      "STEP   301 / 903 (thread    2) f\b\b\r",
      "STEP   302 / 903 (thread    4) f\b\b\r",
      "STEP   303 / 903 (thread    5) f\b\b\r",
      "STEP   304 / 903 (thread    1) f\b\b\r",
      "STEP   305 / 903 (thread    0) f\b\b\r",
      "STEP   306 / 903 (thread    3) f\b\b\r",
      "STEP   307 / 903 (thread    5) f\b\b\r",
      "STEP   308 / 903 (thread    0) f\b\b\r",
      "STEP   309 / 903 (thread    5) f\b\b\r",
      "STEP   310 / 903 (thread    4) f\b\b\r",
      "STEP   311 / 903 (thread    1) f\b\b\r",
      "STEP   312 / 903 (thread    2) f\b\b\r",
      "STEP   313 / 903 (thread    3) f\b\b\r",
      "STEP   314 / 903 (thread    5) f\b\b\r",
      "STEP   315 / 903 (thread    4) f\b\b\r",
      "STEP   316 / 903 (thread    1) f\b\b\r",
      "STEP   317 / 903 (thread    0) f\b\b\r",
      "STEP   318 / 903 (thread    2) f\b\b\r",
      "STEP   319 / 903 (thread    3) f\b\b\r",
      "STEP   320 / 903 (thread    5) f\b\b\r",
      "STEP   321 / 903 (thread    4) f\b\b\r",
      "STEP   322 / 903 (thread    1) f\b\b\r",
      "STEP   323 / 903 (thread    2) f\b\b\r",
      "STEP   324 / 903 (thread    0) f\b\b\r",
      "STEP   325 / 903 (thread    3) f\b\b\r",
      "STEP   326 / 903 (thread    5) f\b\b\r",
      "STEP   327 / 903 (thread    4) f\b\b\r",
      "STEP   328 / 903 (thread    1) f\b\b\r",
      "STEP   329 / 903 (thread    2) f\b\b\r",
      "STEP   330 / 903 (thread    4) f\b\b\r",
      "STEP   331 / 903 (thread    0) f\b\b\r",
      "STEP   332 / 903 (thread    2) f\b\b\r",
      "STEP   333 / 903 (thread    3) f\b\b\r",
      "STEP   334 / 903 (thread    1) f\b\b\r",
      "STEP   335 / 903 (thread    5) f\b\b\r",
      "STEP   336 / 903 (thread    3) f\b\b\r",
      "STEP   337 / 903 (thread    0) f\b\b\r",
      "STEP   338 / 903 (thread    1) f\b\b\r",
      "STEP   339 / 903 (thread    5) f\b\b\r",
      "STEP   340 / 903 (thread    3) f\b\b\r",
      "STEP   341 / 903 (thread    0) f\b\b\r",
      "STEP   342 / 903 (thread    4) f\b\b\r",
      "STEP   343 / 903 (thread    2) f\b\b\r",
      "STEP   344 / 903 (thread    1) f\b\b\r",
      "STEP   345 / 903 (thread    5) f\b\b\r",
      "STEP   346 / 903 (thread    1) f\b\b\r",
      "STEP   347 / 903 (thread    5) f\b\b\r",
      "STEP   348 / 903 (thread    3) f\b\b\r",
      "STEP   349 / 903 (thread    0) f\b\b\r",
      "STEP   350 / 903 (thread    4) f\b\b\r",
      "STEP   351 / 903 (thread    2) f\b\b\r",
      "STEP   352 / 903 (thread    1) f\b\b\r",
      "STEP   353 / 903 (thread    5) f\b\b\r",
      "STEP   354 / 903 (thread    3) f\b\b\r",
      "STEP   356 / 903 (thread    4) f\b\b\r",
      "STEP   357 / 903 (thread    1) f\b\b\r",
      "STEP   358 / 903 (thread    2) f\b\b\r",
      "STEP   355 / 903 (thread    0) f\b\b\r",
      "STEP   359 / 903 (thread    5) f\b\b\r",
      "STEP   360 / 903 (thread    3) f\b\b\r",
      "STEP   361 / 903 (thread    4) f\b\b\r",
      "STEP   362 / 903 (thread    5) f\b\b\r",
      "STEP   363 / 903 (thread    1) f\b\b\r",
      "STEP   364 / 903 (thread    4) f\b\b\r",
      "STEP   365 / 903 (thread    0) f\b\b\r",
      "STEP   366 / 903 (thread    3) f\b\b\r",
      "STEP   367 / 903 (thread    1) f\b\b\r",
      "STEP   368 / 903 (thread    2) f\b\b\r",
      "STEP   369 / 903 (thread    4) f\b\b\r",
      "STEP   370 / 903 (thread    5) f\b\b\r",
      "STEP   371 / 903 (thread    0) f\b\b\r",
      "STEP   372 / 903 (thread    3) f\b\b\r",
      "STEP   373 / 903 (thread    1) f\b\b\r",
      "STEP   374 / 903 (thread    2) f\b\b\r",
      "STEP   375 / 903 (thread    4) f\b\b\r",
      "STEP   377 / 903 (thread    0) f\b\b\r",
      "STEP   376 / 903 (thread    5) f\b\b\r",
      "STEP   378 / 903 (thread    1) f\b\b\r",
      "STEP   379 / 903 (thread    2) f\b\b\r",
      "STEP   380 / 903 (thread    4) f\b\b\r",
      "STEP   381 / 903 (thread    3) f\b\b\r",
      "STEP   382 / 903 (thread    5) f\b\b\r",
      "STEP   383 / 903 (thread    0) f\b\b\r",
      "STEP   384 / 903 (thread    2) f\b\b\r",
      "STEP   385 / 903 (thread    1) f\b\b\r",
      "STEP   386 / 903 (thread    4) f\b\b\r",
      "STEP   387 / 903 (thread    0) f\b\b\r",
      "STEP   388 / 903 (thread    1) f\b\b\r",
      "STEP   389 / 903 (thread    4) f\b\b\r",
      "STEP   390 / 903 (thread    3) f\b\b\r",
      "STEP   391 / 903 (thread    2) f\b\b\r",
      "STEP   392 / 903 (thread    1) f\b\b\r",
      "STEP   393 / 903 (thread    5) f\b\b\r",
      "STEP   394 / 903 (thread    4) f\b\b\r",
      "STEP   395 / 903 (thread    2) f\b\b\r",
      "STEP   396 / 903 (thread    0) f\b\b\r",
      "STEP   397 / 903 (thread    3) f\b\b\r",
      "STEP   398 / 903 (thread    5) f\b\b\r",
      "STEP   399 / 903 (thread    1) f\b\b\r",
      "STEP   400 / 903 (thread    4) f\b\b\r",
      "STEP   401 / 903 (thread    2) f\b\b\r",
      "STEP   402 / 903 (thread    0) f\b\b\r",
      "STEP   404 / 903 (thread    5) f\b\b\r",
      "STEP   403 / 903 (thread    3) f\b\b\r",
      "STEP   405 / 903 (thread    4) f\b\b\r",
      "STEP   406 / 903 (thread    1) f\b\b\r",
      "STEP   407 / 903 (thread    2) f\b\b\r",
      "STEP   409 / 903 (thread    2) f\b\b\r",
      "STEP   410 / 903 (thread    5) f\b\b\r",
      "STEP   411 / 903 (thread    3) f\b\b\r",
      "STEP   412 / 903 (thread    4) f\b\b\r",
      "STEP   408 / 903 (thread    0) f\b\b\r",
      "STEP   413 / 903 (thread    1) f\b\b\r",
      "STEP   414 / 903 (thread    3) f\b\b\r",
      "STEP   415 / 903 (thread    4) f\b\b\r",
      "STEP   416 / 903 (thread    1) f\b\b\r",
      "STEP   417 / 903 (thread    2) f\b\b\r",
      "STEP   418 / 903 (thread    5) f\b\b\r",
      "STEP   419 / 903 (thread    0) f\b\b\r",
      "STEP   420 / 903 (thread    3) f\b\b\r",
      "STEP   421 / 903 (thread    4) f\b\b\r",
      "STEP   422 / 903 (thread    2) f\b\b\r",
      "STEP   423 / 903 (thread    5) f\b\b\r",
      "STEP   424 / 903 (thread    1) f\b\b\r",
      "STEP   425 / 903 (thread    0) f\b\b\r",
      "STEP   426 / 903 (thread    3) f\b\b\r",
      "STEP   427 / 903 (thread    4) f\b\b\r",
      "STEP   428 / 903 (thread    2) f\b\b\r",
      "STEP   429 / 903 (thread    5) f\b\b\r",
      "STEP   430 / 903 (thread    1) f\b\b\r",
      "STEP   431 / 903 (thread    3) f\b\b\r",
      "STEP   432 / 903 (thread    0) f\b\b\r",
      "STEP   433 / 903 (thread    4) f\b\b\r",
      "STEP   434 / 903 (thread    2) f\b\b\r",
      "STEP   435 / 903 (thread    5) f\b\b\r",
      "STEP   436 / 903 (thread    2) f\b\b\r",
      "STEP   437 / 903 (thread    3) f\b\b\r",
      "STEP   438 / 903 (thread    1) f\b\b\r",
      "STEP   439 / 903 (thread    4) f\b\b\r",
      "STEP   440 / 903 (thread    5) f\b\b\r",
      "STEP   441 / 903 (thread    0) f\b\b\r",
      "STEP   442 / 903 (thread    3) f\b\b\r",
      "STEP   443 / 903 (thread    1) f\b\b\r",
      "STEP   444 / 903 (thread    2) f\b\b\r",
      "STEP   445 / 903 (thread    4) f\b\b\r",
      "STEP   446 / 903 (thread    5) f\b\b\r",
      "STEP   447 / 903 (thread    0) f\b\b\r",
      "STEP   448 / 903 (thread    3) f\b\b\r",
      "STEP   449 / 903 (thread    1) f\b\b\r",
      "STEP   450 / 903 (thread    2) f\b\b\r",
      "STEP   451 / 903 (thread    4) f\b\b\r",
      "STEP   452 / 903 (thread    5) f\b\b\r",
      "STEP   453 / 903 (thread    3) f\b\b\r",
      "STEP   454 / 903 (thread    1) f\b\b\r",
      "STEP   455 / 903 (thread    2) f\b\b\r",
      "STEP   456 / 903 (thread    0) f\b\b\r",
      "STEP   457 / 903 (thread    4) f\b\b\r",
      "STEP   458 / 903 (thread    5) f\b\b\r",
      "STEP   459 / 903 (thread    1) f\b\b\r",
      "STEP   460 / 903 (thread    4) f\b\b\r",
      "STEP   461 / 903 (thread    2) f\b\b\r",
      "STEP   462 / 903 (thread    0) f\b\b\r",
      "STEP   463 / 903 (thread    5) f\b\b\r",
      "STEP   465 / 903 (thread    3) f\b\b\r",
      "STEP   466 / 903 (thread    4) f\b\b\r",
      "STEP   464 / 903 (thread    1) f\b\b\r",
      "STEP   467 / 903 (thread    0) f\b\b\r",
      "STEP   468 / 903 (thread    2) f\b\b\r",
      "STEP   469 / 903 (thread    5) f\b\b\r",
      "STEP   470 / 903 (thread    3) f\b\b\r",
      "STEP   472 / 903 (thread    0) f\b\b\r",
      "STEP   473 / 903 (thread    2) f\b\b\r",
      "STEP   471 / 903 (thread    4) f\b\b\r",
      "STEP   474 / 903 (thread    5) f\b\b\r",
      "STEP   475 / 903 (thread    1) f\b\b\r",
      "STEP   476 / 903 (thread    3) f\b\b\r",
      "STEP   477 / 903 (thread    0) f\b\b\r",
      "STEP   478 / 903 (thread    2) f\b\b\r",
      "STEP   479 / 903 (thread    1) f\b\b\r",
      "STEP   480 / 903 (thread    5) f\b\b\r",
      "STEP   481 / 903 (thread    4) f\b\b\r",
      "STEP   482 / 903 (thread    3) f\b\b\r",
      "STEP   483 / 903 (thread    0) f\b\b\r",
      "STEP   484 / 903 (thread    2) f\b\b\r",
      "STEP   485 / 903 (thread    5) f\b\b\r",
      "STEP   486 / 903 (thread    4) f\b\b\r",
      "STEP   487 / 903 (thread    2) f\b\b\r",
      "STEP   488 / 903 (thread    1) f\b\b\r",
      "STEP   489 / 903 (thread    3) f\b\b\r",
      "STEP   490 / 903 (thread    4) f\b\b\r",
      "STEP   491 / 903 (thread    0) f\b\b\r",
      "STEP   492 / 903 (thread    2) f\b\b\r",
      "STEP   493 / 903 (thread    5) f\b\b\r",
      "STEP   494 / 903 (thread    1) f\b\b\r",
      "STEP   495 / 903 (thread    3) f\b\b\r",
      "STEP   496 / 903 (thread    4) f\b\b\r",
      "STEP   498 / 903 (thread    2) f\b\b\r",
      "STEP   499 / 903 (thread    1) f\b\b\r",
      "STEP   497 / 903 (thread    0) f\b\b\r",
      "STEP   500 / 903 (thread    5) f\b\b\r",
      "STEP   501 / 903 (thread    1) f\b\b\r",
      "STEP   601 / 903 (thread    0) f\b\b\r",
      "STEP   701 / 903 (thread    1) f\b\b\n",
      "Reallocating..done. *alloclen = 1867\n"
     ]
    },
    {
     "name": "stderr",
     "output_type": "stream",
     "text": [
      "\r",
      "STEP   801 / 903 (thread    4) f\b\b\r",
      "STEP   901 / 903 (thread    5) d\b\b h\n",
      "done.\n",
      "\n",
      "disttbfast (nuc) Version 7.520\n",
      "alg=A, model=DNA200 (2), 1.53 (4.59), -0.00 (-0.00), noshift, amax=0.0\n",
      "6 thread(s)\n",
      "\n",
      "\n",
      "Strategy:\n",
      " FFT-NS-2 (Fast but rough)\n",
      " Progressive method (guide trees were built 2 times.)\n",
      "\n",
      "If unsure which option to use, try 'mafft --auto input > output'.\n",
      "For more information, see 'mafft --help', 'mafft --man' and the mafft page.\n",
      "\n",
      "The default gap scoring scheme has been changed in version 7.110 (2013 Oct).\n",
      "It tends to insert more gaps into gap-rich regions than previous versions.\n",
      "To disable this change, add the --leavegappyregion option.\n",
      "\n"
     ]
    },
    {
     "name": "stdout",
     "output_type": "stream",
     "text": [
      "Running external command line application. This may print messages to stdout and/or stderr.\n",
      "The command being run is below. This command cannot be manually re-run as it will depend on temporary files that no longer exist.\n",
      "\n",
      "Command: FastTreeMP -quote -nt /tmp/qiime2/lauro/data/a9497c29-17f6-44b5-a9d6-24feea7cd2da/data/aligned-dna-sequences.fasta\n",
      "\n"
     ]
    },
    {
     "name": "stderr",
     "output_type": "stream",
     "text": [
      "FastTree Version 2.1.11 Double precision (No SSE3), OpenMP (6 threads)\n",
      "Alignment: /tmp/qiime2/lauro/data/a9497c29-17f6-44b5-a9d6-24feea7cd2da/data/aligned-dna-sequences.fasta\n",
      "Nucleotide distances: Jukes-Cantor Joins: balanced Support: SH-like 1000\n",
      "Search: Normal +NNI +SPR (2 rounds range 10) +ML-NNI opt-each=1\n",
      "TopHits: 1.00*sqrtN close=default refresh=0.80\n",
      "ML Model: Jukes-Cantor, CAT approximation with 20 rate categories\n",
      "      0.10 seconds: Joined    300 of    863\n"
     ]
    },
    {
     "name": "stderr",
     "output_type": "stream",
     "text": [
      "      0.21 seconds: Joined    600 of    863\n",
      "Initial topology in 0.29 seconds\n",
      "Refining topology: 39 rounds ME-NNIs, 2 rounds ME-SPRs, 20 rounds ML-NNIs\n",
      "      0.31 seconds: ME NNI round 2 of 39, 401 of 864 splits, 40 changes (max delta 0.020)\n"
     ]
    },
    {
     "name": "stderr",
     "output_type": "stream",
     "text": [
      "      0.43 seconds: SPR round   1 of   2, 201 of 1730 nodes\n",
      "      0.54 seconds: SPR round   1 of   2, 501 of 1730 nodes\n"
     ]
    },
    {
     "name": "stderr",
     "output_type": "stream",
     "text": [
      "      0.66 seconds: SPR round   1 of   2, 901 of 1730 nodes\n",
      "      0.79 seconds: SPR round   1 of   2, 1201 of 1730 nodes\n"
     ]
    },
    {
     "name": "stderr",
     "output_type": "stream",
     "text": [
      "      0.92 seconds: SPR round   1 of   2, 1501 of 1730 nodes\n",
      "      1.02 seconds: ME NNI round 15 of 39, 401 of 864 splits, 1 changes (max delta 0.002)\n"
     ]
    },
    {
     "name": "stderr",
     "output_type": "stream",
     "text": [
      "      1.15 seconds: SPR round   2 of   2, 301 of 1730 nodes\n",
      "      1.25 seconds: SPR round   2 of   2, 601 of 1730 nodes\n"
     ]
    },
    {
     "name": "stderr",
     "output_type": "stream",
     "text": [
      "      1.39 seconds: SPR round   2 of   2, 1001 of 1730 nodes\n",
      "      1.51 seconds: SPR round   2 of   2, 1301 of 1730 nodes\n"
     ]
    },
    {
     "name": "stderr",
     "output_type": "stream",
     "text": [
      "      1.63 seconds: SPR round   2 of   2, 1601 of 1730 nodes\n",
      "Total branch-length 18.933 after 1.71 sec\n",
      "      1.74 seconds: ML Lengths 201 of 864 splits\n"
     ]
    },
    {
     "name": "stderr",
     "output_type": "stream",
     "text": [
      "      1.85 seconds: ML NNI round 1 of 20, 1 of 864 splits\n",
      "      1.95 seconds: ML NNI round 1 of 20, 401 of 864 splits, 74 changes (max delta 17.920)\n"
     ]
    },
    {
     "name": "stderr",
     "output_type": "stream",
     "text": [
      "      2.06 seconds: ML NNI round 1 of 20, 801 of 864 splits, 142 changes (max delta 17.920)\n",
      "ML-NNI round 1: LogLk = -48882.167 NNIs 156 max delta 17.92 Time 2.09\n",
      "      2.17 seconds: Site likelihoods with rate category 16 of 20\n",
      "Switched to using 20 rate categories (CAT approximation)\n",
      "Rate categories were divided by 1.132 so that average rate = 1.0\n",
      "CAT-based log-likelihoods may not be comparable across runs\n",
      "Use -gamma for approximate but comparable Gamma(20) log-likelihoods\n"
     ]
    },
    {
     "name": "stderr",
     "output_type": "stream",
     "text": [
      "      2.27 seconds: ML NNI round 2 of 20, 301 of 864 splits, 21 changes (max delta 5.667)\n",
      "      2.39 seconds: ML NNI round 2 of 20, 701 of 864 splits, 60 changes (max delta 8.043)\n",
      "ML-NNI round 2: LogLk = -40826.168 NNIs 80 max delta 8.04 Time 2.45\n"
     ]
    },
    {
     "name": "stderr",
     "output_type": "stream",
     "text": [
      "      2.50 seconds: ML NNI round 3 of 20, 201 of 864 splits, 8 changes (max delta 5.123)\n",
      "      2.61 seconds: ML NNI round 3 of 20, 601 of 864 splits, 32 changes (max delta 5.123)\n",
      "ML-NNI round 3: LogLk = -40793.056 NNIs 34 max delta 5.12 Time 2.62\n"
     ]
    },
    {
     "name": "stderr",
     "output_type": "stream",
     "text": [
      "ML-NNI round 4: LogLk = -40783.586 NNIs 10 max delta 3.78 Time 2.73\n",
      "      2.72 seconds: ML NNI round 5 of 20, 1 of 864 splits\n",
      "ML-NNI round 5: LogLk = -40783.390 NNIs 2 max delta 0.04 Time 2.77\n",
      "Turning off heuristics for final round of ML NNIs (converged)\n",
      "      2.84 seconds: ML NNI round 6 of 20, 301 of 864 splits, 0 changes\n"
     ]
    },
    {
     "name": "stderr",
     "output_type": "stream",
     "text": [
      "      2.96 seconds: ML NNI round 6 of 20, 701 of 864 splits, 3 changes (max delta 0.241)\n",
      "ML-NNI round 6: LogLk = -40778.812 NNIs 7 max delta 2.68 Time 3.01 (final)\n",
      "      3.06 seconds: ML Lengths 501 of 864 splits\n",
      "Optimize all lengths: LogLk = -40777.309 Time 3.12\n"
     ]
    },
    {
     "name": "stderr",
     "output_type": "stream",
     "text": [
      "      3.18 seconds: ML split tests for    100 of    863 internal splits\n",
      "      3.33 seconds: ML split tests for    300 of    863 internal splits\n"
     ]
    },
    {
     "name": "stderr",
     "output_type": "stream",
     "text": [
      "      3.47 seconds: ML split tests for    500 of    863 internal splits\n",
      "      3.61 seconds: ML split tests for    700 of    863 internal splits\n"
     ]
    },
    {
     "name": "stderr",
     "output_type": "stream",
     "text": [
      "Total time: 3.73 seconds Unique: 866/904 Bad splits: 0/863\n"
     ]
    }
   ],
   "source": [
    "mafft_alignment, mafft_masked_alignment, mafft_tree, mafft_rooted_tree = align_to_tree_mafft_fasttree(\n",
    "    sequences=reps, n_threads=6, )"
   ]
  },
  {
   "cell_type": "markdown",
   "id": "0768d598",
   "metadata": {
    "papermill": {
     "duration": 0.00388,
     "end_time": "2023-07-06T18:37:38.848259",
     "exception": false,
     "start_time": "2023-07-06T18:37:38.844379",
     "status": "completed"
    },
    "tags": []
   },
   "source": [
    "### Compute Alpha Diversity (Phylogeny)\n",
    "- [diversity alpha_phylogenetic](https://docs.qiime2.org/2022.8/plugins/available/diversity/alpha-phylogenetic/): Computes a user-specified phylogenetic alpha diversity metric for all samples in a feature table.\n",
    "- Metrics: Choices ('faith_pd')"
   ]
  },
  {
   "cell_type": "code",
   "execution_count": 11,
   "id": "0383aa19",
   "metadata": {
    "ExecuteTime": {
     "end_time": "2022-09-29T20:54:35.310009Z",
     "start_time": "2022-09-29T20:54:35.141333Z"
    },
    "execution": {
     "iopub.execute_input": "2023-07-06T18:37:39.080508Z",
     "iopub.status.busy": "2023-07-06T18:37:39.079758Z",
     "iopub.status.idle": "2023-07-06T18:37:39.243389Z",
     "shell.execute_reply": "2023-07-06T18:37:39.242871Z"
    },
    "papermill": {
     "duration": 0.191231,
     "end_time": "2023-07-06T18:37:39.244357",
     "exception": false,
     "start_time": "2023-07-06T18:37:39.053126",
     "status": "completed"
    },
    "tags": []
   },
   "outputs": [
    {
     "name": "stdout",
     "output_type": "stream",
     "text": [
      "Calculating alpha diversity: faith_pd\n",
      "Running external command line application. This may print messages to stdout and/or stderr.\n",
      "The command being run is below. This command cannot be manually re-run as it will depend on temporary files that no longer exist.\n",
      "\n",
      "Command:\n",
      "\n",
      "faithpd -i /tmp/qiime2/lauro/data/1517d78c-f207-472d-b7b7-c2b7cc4dec76/data/feature-table.biom -t /tmp/qiime2/lauro/data/0b8f2e4b-4851-49f3-88fa-eac2833ebac4/data/tree.nwk -o /tmp/q2-AlphaDiversityFormat-auc807a3\n",
      "\n",
      "DONE: Calculating alpha phylogeny: faith_pd\n"
     ]
    }
   ],
   "source": [
    "metrics = ('faith_pd', )\n",
    "alpha_diversities_phylogenetic = dict()\n",
    "for metric in metrics:\n",
    "    print(f\"Calculating alpha diversity: {metric}\")\n",
    "    try:\n",
    "        alpha_diversity = alpha_phylogenetic(table=tabs, phylogeny=mafft_rooted_tree, metric=metric).alpha_diversity\n",
    "        alpha_diversities_phylogenetic[metric] = alpha_diversity\n",
    "        # Save Artifact\n",
    "        file_path = os.path.join(alpha_path, f'alpha-phylogeny-{metric}.qza')\n",
    "        alpha_diversity.save(file_path)\n",
    "        print(f\"DONE: Calculating alpha phylogeny: {metric}\")\n",
    "    except Exception as e:\n",
    "        print(f\"ERROR: Calculating alpha phylogeny: {metric}\")"
   ]
  },
  {
   "cell_type": "markdown",
   "id": "c7752cfd",
   "metadata": {
    "papermill": {
     "duration": 0.003943,
     "end_time": "2023-07-06T18:37:39.252513",
     "exception": false,
     "start_time": "2023-07-06T18:37:39.248570",
     "status": "completed"
    },
    "tags": []
   },
   "source": [
    "### Alpha diversity correlation\n",
    "\n",
    "This method only process `numeric` columns.\n"
   ]
  },
  {
   "cell_type": "code",
   "execution_count": 12,
   "id": "2814f613",
   "metadata": {
    "ExecuteTime": {
     "end_time": "2022-09-29T20:54:35.317618Z",
     "start_time": "2022-09-29T20:54:35.312094Z"
    },
    "execution": {
     "iopub.execute_input": "2023-07-06T18:37:39.261065Z",
     "iopub.status.busy": "2023-07-06T18:37:39.260932Z",
     "iopub.status.idle": "2023-07-06T18:37:43.308972Z",
     "shell.execute_reply": "2023-07-06T18:37:43.308653Z"
    },
    "papermill": {
     "duration": 4.053409,
     "end_time": "2023-07-06T18:37:43.309866",
     "exception": false,
     "start_time": "2023-07-06T18:37:39.256457",
     "status": "completed"
    },
    "tags": []
   },
   "outputs": [
    {
     "name": "stderr",
     "output_type": "stream",
     "text": [
      "/home/lauro/anaconda3/envs/qiime2-2023.5/lib/python3.8/site-packages/q2_diversity/_alpha/_visualizer.py:168: FutureWarning: Passing a set as an indexer is deprecated and will raise in a future version. Use a list instead.\n",
      "  alpha_diversity = alpha_diversity[matched_ids]\n"
     ]
    },
    {
     "name": "stdout",
     "output_type": "stream",
     "text": [
      "DONE: Calculating alpha correlation: ace spearman\n",
      "DONE: Calculating alpha correlation: ace pearson\n",
      "DONE: Calculating alpha correlation: berger_parker_d spearman\n"
     ]
    },
    {
     "name": "stderr",
     "output_type": "stream",
     "text": [
      "/home/lauro/anaconda3/envs/qiime2-2023.5/lib/python3.8/site-packages/q2_diversity/_alpha/_visualizer.py:168: FutureWarning: Passing a set as an indexer is deprecated and will raise in a future version. Use a list instead.\n",
      "  alpha_diversity = alpha_diversity[matched_ids]\n",
      "/home/lauro/anaconda3/envs/qiime2-2023.5/lib/python3.8/site-packages/q2_diversity/_alpha/_visualizer.py:168: FutureWarning: Passing a set as an indexer is deprecated and will raise in a future version. Use a list instead.\n",
      "  alpha_diversity = alpha_diversity[matched_ids]\n",
      "/home/lauro/anaconda3/envs/qiime2-2023.5/lib/python3.8/site-packages/q2_diversity/_alpha/_visualizer.py:168: FutureWarning: Passing a set as an indexer is deprecated and will raise in a future version. Use a list instead.\n",
      "  alpha_diversity = alpha_diversity[matched_ids]\n"
     ]
    },
    {
     "name": "stdout",
     "output_type": "stream",
     "text": [
      "DONE: Calculating alpha correlation: berger_parker_d pearson\n",
      "DONE: Calculating alpha correlation: brillouin_d spearman\n",
      "DONE: Calculating alpha correlation: brillouin_d pearson\n"
     ]
    },
    {
     "name": "stderr",
     "output_type": "stream",
     "text": [
      "/home/lauro/anaconda3/envs/qiime2-2023.5/lib/python3.8/site-packages/q2_diversity/_alpha/_visualizer.py:168: FutureWarning: Passing a set as an indexer is deprecated and will raise in a future version. Use a list instead.\n",
      "  alpha_diversity = alpha_diversity[matched_ids]\n",
      "/home/lauro/anaconda3/envs/qiime2-2023.5/lib/python3.8/site-packages/q2_diversity/_alpha/_visualizer.py:168: FutureWarning: Passing a set as an indexer is deprecated and will raise in a future version. Use a list instead.\n",
      "  alpha_diversity = alpha_diversity[matched_ids]\n",
      "/home/lauro/anaconda3/envs/qiime2-2023.5/lib/python3.8/site-packages/q2_diversity/_alpha/_visualizer.py:168: FutureWarning: Passing a set as an indexer is deprecated and will raise in a future version. Use a list instead.\n",
      "  alpha_diversity = alpha_diversity[matched_ids]\n"
     ]
    },
    {
     "name": "stdout",
     "output_type": "stream",
     "text": [
      "DONE: Calculating alpha correlation: chao1 spearman\n",
      "DONE: Calculating alpha correlation: chao1 pearson\n",
      "ERROR: Calculating alpha correlation: chao1_ci spearman\n",
      "ERROR: Calculating alpha correlation: chao1_ci pearson\n",
      "DONE: Calculating alpha correlation: dominance spearman\n"
     ]
    },
    {
     "name": "stderr",
     "output_type": "stream",
     "text": [
      "/home/lauro/anaconda3/envs/qiime2-2023.5/lib/python3.8/site-packages/q2_diversity/_alpha/_visualizer.py:168: FutureWarning: Passing a set as an indexer is deprecated and will raise in a future version. Use a list instead.\n",
      "  alpha_diversity = alpha_diversity[matched_ids]\n",
      "/home/lauro/anaconda3/envs/qiime2-2023.5/lib/python3.8/site-packages/q2_diversity/_alpha/_visualizer.py:168: FutureWarning: Passing a set as an indexer is deprecated and will raise in a future version. Use a list instead.\n",
      "  alpha_diversity = alpha_diversity[matched_ids]\n",
      "/home/lauro/anaconda3/envs/qiime2-2023.5/lib/python3.8/site-packages/q2_diversity/_alpha/_visualizer.py:168: FutureWarning: Passing a set as an indexer is deprecated and will raise in a future version. Use a list instead.\n",
      "  alpha_diversity = alpha_diversity[matched_ids]\n"
     ]
    },
    {
     "name": "stdout",
     "output_type": "stream",
     "text": [
      "DONE: Calculating alpha correlation: dominance pearson\n",
      "DONE: Calculating alpha correlation: doubles spearman\n",
      "DONE: Calculating alpha correlation: doubles pearson\n"
     ]
    },
    {
     "name": "stderr",
     "output_type": "stream",
     "text": [
      "/home/lauro/anaconda3/envs/qiime2-2023.5/lib/python3.8/site-packages/q2_diversity/_alpha/_visualizer.py:168: FutureWarning: Passing a set as an indexer is deprecated and will raise in a future version. Use a list instead.\n",
      "  alpha_diversity = alpha_diversity[matched_ids]\n",
      "/home/lauro/anaconda3/envs/qiime2-2023.5/lib/python3.8/site-packages/scipy/stats/_stats_py.py:4529: SpearmanRConstantInputWarning: An input array is constant; the correlation coefficient is not defined.\n",
      "  warnings.warn(SpearmanRConstantInputWarning())\n",
      "/home/lauro/anaconda3/envs/qiime2-2023.5/lib/python3.8/site-packages/scipy/stats/_stats_py.py:4529: SpearmanRConstantInputWarning: An input array is constant; the correlation coefficient is not defined.\n",
      "  warnings.warn(SpearmanRConstantInputWarning())\n",
      "/home/lauro/anaconda3/envs/qiime2-2023.5/lib/python3.8/site-packages/scipy/stats/_stats_py.py:4529: SpearmanRConstantInputWarning: An input array is constant; the correlation coefficient is not defined.\n",
      "  warnings.warn(SpearmanRConstantInputWarning())\n",
      "/home/lauro/anaconda3/envs/qiime2-2023.5/lib/python3.8/site-packages/scipy/stats/_stats_py.py:4529: SpearmanRConstantInputWarning: An input array is constant; the correlation coefficient is not defined.\n",
      "  warnings.warn(SpearmanRConstantInputWarning())\n",
      "/home/lauro/anaconda3/envs/qiime2-2023.5/lib/python3.8/site-packages/scipy/stats/_stats_py.py:4529: SpearmanRConstantInputWarning: An input array is constant; the correlation coefficient is not defined.\n",
      "  warnings.warn(SpearmanRConstantInputWarning())\n",
      "/home/lauro/anaconda3/envs/qiime2-2023.5/lib/python3.8/site-packages/q2_diversity/_alpha/_visualizer.py:168: FutureWarning: Passing a set as an indexer is deprecated and will raise in a future version. Use a list instead.\n",
      "  alpha_diversity = alpha_diversity[matched_ids]\n",
      "/home/lauro/anaconda3/envs/qiime2-2023.5/lib/python3.8/site-packages/scipy/stats/_stats_py.py:4068: PearsonRConstantInputWarning: An input array is constant; the correlation coefficient is not defined.\n",
      "  warnings.warn(PearsonRConstantInputWarning())\n",
      "/home/lauro/anaconda3/envs/qiime2-2023.5/lib/python3.8/site-packages/scipy/stats/_stats_py.py:4068: PearsonRConstantInputWarning: An input array is constant; the correlation coefficient is not defined.\n",
      "  warnings.warn(PearsonRConstantInputWarning())\n",
      "/home/lauro/anaconda3/envs/qiime2-2023.5/lib/python3.8/site-packages/scipy/stats/_stats_py.py:4068: PearsonRConstantInputWarning: An input array is constant; the correlation coefficient is not defined.\n",
      "  warnings.warn(PearsonRConstantInputWarning())\n",
      "/home/lauro/anaconda3/envs/qiime2-2023.5/lib/python3.8/site-packages/scipy/stats/_stats_py.py:4068: PearsonRConstantInputWarning: An input array is constant; the correlation coefficient is not defined.\n",
      "  warnings.warn(PearsonRConstantInputWarning())\n",
      "/home/lauro/anaconda3/envs/qiime2-2023.5/lib/python3.8/site-packages/scipy/stats/_stats_py.py:4068: PearsonRConstantInputWarning: An input array is constant; the correlation coefficient is not defined.\n",
      "  warnings.warn(PearsonRConstantInputWarning())\n",
      "/home/lauro/anaconda3/envs/qiime2-2023.5/lib/python3.8/site-packages/q2_diversity/_alpha/_visualizer.py:168: FutureWarning: Passing a set as an indexer is deprecated and will raise in a future version. Use a list instead.\n",
      "  alpha_diversity = alpha_diversity[matched_ids]\n"
     ]
    },
    {
     "name": "stdout",
     "output_type": "stream",
     "text": [
      "DONE: Calculating alpha correlation: enspie spearman\n",
      "DONE: Calculating alpha correlation: enspie pearson\n",
      "ERROR: Calculating alpha correlation: esty_ci spearman\n",
      "ERROR: Calculating alpha correlation: esty_ci pearson\n",
      "DONE: Calculating alpha correlation: fisher_alpha spearman\n"
     ]
    },
    {
     "name": "stderr",
     "output_type": "stream",
     "text": [
      "/home/lauro/anaconda3/envs/qiime2-2023.5/lib/python3.8/site-packages/q2_diversity/_alpha/_visualizer.py:168: FutureWarning: Passing a set as an indexer is deprecated and will raise in a future version. Use a list instead.\n",
      "  alpha_diversity = alpha_diversity[matched_ids]\n",
      "/home/lauro/anaconda3/envs/qiime2-2023.5/lib/python3.8/site-packages/q2_diversity/_alpha/_visualizer.py:168: FutureWarning: Passing a set as an indexer is deprecated and will raise in a future version. Use a list instead.\n",
      "  alpha_diversity = alpha_diversity[matched_ids]\n",
      "/home/lauro/anaconda3/envs/qiime2-2023.5/lib/python3.8/site-packages/q2_diversity/_alpha/_visualizer.py:168: FutureWarning: Passing a set as an indexer is deprecated and will raise in a future version. Use a list instead.\n",
      "  alpha_diversity = alpha_diversity[matched_ids]\n"
     ]
    },
    {
     "name": "stdout",
     "output_type": "stream",
     "text": [
      "DONE: Calculating alpha correlation: fisher_alpha pearson\n",
      "DONE: Calculating alpha correlation: gini_index spearman\n",
      "DONE: Calculating alpha correlation: gini_index pearson\n"
     ]
    },
    {
     "name": "stderr",
     "output_type": "stream",
     "text": [
      "/home/lauro/anaconda3/envs/qiime2-2023.5/lib/python3.8/site-packages/q2_diversity/_alpha/_visualizer.py:168: FutureWarning: Passing a set as an indexer is deprecated and will raise in a future version. Use a list instead.\n",
      "  alpha_diversity = alpha_diversity[matched_ids]\n",
      "/home/lauro/anaconda3/envs/qiime2-2023.5/lib/python3.8/site-packages/q2_diversity/_alpha/_visualizer.py:168: FutureWarning: Passing a set as an indexer is deprecated and will raise in a future version. Use a list instead.\n",
      "  alpha_diversity = alpha_diversity[matched_ids]\n",
      "/home/lauro/anaconda3/envs/qiime2-2023.5/lib/python3.8/site-packages/q2_diversity/_alpha/_visualizer.py:168: FutureWarning: Passing a set as an indexer is deprecated and will raise in a future version. Use a list instead.\n",
      "  alpha_diversity = alpha_diversity[matched_ids]\n"
     ]
    },
    {
     "name": "stdout",
     "output_type": "stream",
     "text": [
      "DONE: Calculating alpha correlation: goods_coverage spearman\n",
      "DONE: Calculating alpha correlation: goods_coverage pearson\n",
      "DONE: Calculating alpha correlation: heip_e spearman\n"
     ]
    },
    {
     "name": "stderr",
     "output_type": "stream",
     "text": [
      "/home/lauro/anaconda3/envs/qiime2-2023.5/lib/python3.8/site-packages/q2_diversity/_alpha/_visualizer.py:168: FutureWarning: Passing a set as an indexer is deprecated and will raise in a future version. Use a list instead.\n",
      "  alpha_diversity = alpha_diversity[matched_ids]\n",
      "/home/lauro/anaconda3/envs/qiime2-2023.5/lib/python3.8/site-packages/q2_diversity/_alpha/_visualizer.py:168: FutureWarning: Passing a set as an indexer is deprecated and will raise in a future version. Use a list instead.\n",
      "  alpha_diversity = alpha_diversity[matched_ids]\n",
      "/home/lauro/anaconda3/envs/qiime2-2023.5/lib/python3.8/site-packages/q2_diversity/_alpha/_visualizer.py:168: FutureWarning: Passing a set as an indexer is deprecated and will raise in a future version. Use a list instead.\n",
      "  alpha_diversity = alpha_diversity[matched_ids]\n"
     ]
    },
    {
     "name": "stdout",
     "output_type": "stream",
     "text": [
      "DONE: Calculating alpha correlation: heip_e pearson\n",
      "DONE: Calculating alpha correlation: kempton_taylor_q spearman\n",
      "ERROR: Calculating alpha correlation: kempton_taylor_q pearson\n",
      "DONE: Calculating alpha correlation: lladser_pe spearman\n"
     ]
    },
    {
     "name": "stderr",
     "output_type": "stream",
     "text": [
      "/home/lauro/anaconda3/envs/qiime2-2023.5/lib/python3.8/site-packages/q2_diversity/_alpha/_visualizer.py:168: FutureWarning: Passing a set as an indexer is deprecated and will raise in a future version. Use a list instead.\n",
      "  alpha_diversity = alpha_diversity[matched_ids]\n",
      "/home/lauro/anaconda3/envs/qiime2-2023.5/lib/python3.8/site-packages/q2_diversity/_alpha/_visualizer.py:168: FutureWarning: Passing a set as an indexer is deprecated and will raise in a future version. Use a list instead.\n",
      "  alpha_diversity = alpha_diversity[matched_ids]\n",
      "/home/lauro/anaconda3/envs/qiime2-2023.5/lib/python3.8/site-packages/q2_diversity/_alpha/_visualizer.py:168: FutureWarning: Passing a set as an indexer is deprecated and will raise in a future version. Use a list instead.\n",
      "  alpha_diversity = alpha_diversity[matched_ids]\n",
      "/home/lauro/anaconda3/envs/qiime2-2023.5/lib/python3.8/site-packages/q2_diversity/_alpha/_visualizer.py:168: FutureWarning: Passing a set as an indexer is deprecated and will raise in a future version. Use a list instead.\n",
      "  alpha_diversity = alpha_diversity[matched_ids]\n"
     ]
    },
    {
     "name": "stdout",
     "output_type": "stream",
     "text": [
      "DONE: Calculating alpha correlation: lladser_pe pearson\n",
      "DONE: Calculating alpha correlation: margalef spearman\n",
      "DONE: Calculating alpha correlation: margalef pearson\n"
     ]
    },
    {
     "name": "stderr",
     "output_type": "stream",
     "text": [
      "/home/lauro/anaconda3/envs/qiime2-2023.5/lib/python3.8/site-packages/q2_diversity/_alpha/_visualizer.py:168: FutureWarning: Passing a set as an indexer is deprecated and will raise in a future version. Use a list instead.\n",
      "  alpha_diversity = alpha_diversity[matched_ids]\n",
      "/home/lauro/anaconda3/envs/qiime2-2023.5/lib/python3.8/site-packages/q2_diversity/_alpha/_visualizer.py:168: FutureWarning: Passing a set as an indexer is deprecated and will raise in a future version. Use a list instead.\n",
      "  alpha_diversity = alpha_diversity[matched_ids]\n",
      "/home/lauro/anaconda3/envs/qiime2-2023.5/lib/python3.8/site-packages/q2_diversity/_alpha/_visualizer.py:168: FutureWarning: Passing a set as an indexer is deprecated and will raise in a future version. Use a list instead.\n",
      "  alpha_diversity = alpha_diversity[matched_ids]\n"
     ]
    },
    {
     "name": "stdout",
     "output_type": "stream",
     "text": [
      "DONE: Calculating alpha correlation: mcintosh_d spearman\n",
      "DONE: Calculating alpha correlation: mcintosh_d pearson\n",
      "DONE: Calculating alpha correlation: mcintosh_e spearman\n"
     ]
    },
    {
     "name": "stderr",
     "output_type": "stream",
     "text": [
      "/home/lauro/anaconda3/envs/qiime2-2023.5/lib/python3.8/site-packages/q2_diversity/_alpha/_visualizer.py:168: FutureWarning: Passing a set as an indexer is deprecated and will raise in a future version. Use a list instead.\n",
      "  alpha_diversity = alpha_diversity[matched_ids]\n",
      "/home/lauro/anaconda3/envs/qiime2-2023.5/lib/python3.8/site-packages/q2_diversity/_alpha/_visualizer.py:168: FutureWarning: Passing a set as an indexer is deprecated and will raise in a future version. Use a list instead.\n",
      "  alpha_diversity = alpha_diversity[matched_ids]\n",
      "/home/lauro/anaconda3/envs/qiime2-2023.5/lib/python3.8/site-packages/q2_diversity/_alpha/_visualizer.py:168: FutureWarning: Passing a set as an indexer is deprecated and will raise in a future version. Use a list instead.\n",
      "  alpha_diversity = alpha_diversity[matched_ids]\n"
     ]
    },
    {
     "name": "stdout",
     "output_type": "stream",
     "text": [
      "DONE: Calculating alpha correlation: mcintosh_e pearson\n",
      "DONE: Calculating alpha correlation: menhinick spearman\n",
      "DONE: Calculating alpha correlation: menhinick pearson\n"
     ]
    },
    {
     "name": "stderr",
     "output_type": "stream",
     "text": [
      "/home/lauro/anaconda3/envs/qiime2-2023.5/lib/python3.8/site-packages/q2_diversity/_alpha/_visualizer.py:168: FutureWarning: Passing a set as an indexer is deprecated and will raise in a future version. Use a list instead.\n",
      "  alpha_diversity = alpha_diversity[matched_ids]\n",
      "/home/lauro/anaconda3/envs/qiime2-2023.5/lib/python3.8/site-packages/q2_diversity/_alpha/_visualizer.py:168: FutureWarning: Passing a set as an indexer is deprecated and will raise in a future version. Use a list instead.\n",
      "  alpha_diversity = alpha_diversity[matched_ids]\n",
      "/home/lauro/anaconda3/envs/qiime2-2023.5/lib/python3.8/site-packages/q2_diversity/_alpha/_visualizer.py:168: FutureWarning: Passing a set as an indexer is deprecated and will raise in a future version. Use a list instead.\n",
      "  alpha_diversity = alpha_diversity[matched_ids]\n"
     ]
    },
    {
     "name": "stdout",
     "output_type": "stream",
     "text": [
      "DONE: Calculating alpha correlation: michaelis_menten_fit spearman\n",
      "DONE: Calculating alpha correlation: michaelis_menten_fit pearson\n",
      "DONE: Calculating alpha correlation: observed_features spearman\n"
     ]
    },
    {
     "name": "stderr",
     "output_type": "stream",
     "text": [
      "/home/lauro/anaconda3/envs/qiime2-2023.5/lib/python3.8/site-packages/q2_diversity/_alpha/_visualizer.py:168: FutureWarning: Passing a set as an indexer is deprecated and will raise in a future version. Use a list instead.\n",
      "  alpha_diversity = alpha_diversity[matched_ids]\n",
      "/home/lauro/anaconda3/envs/qiime2-2023.5/lib/python3.8/site-packages/q2_diversity/_alpha/_visualizer.py:168: FutureWarning: Passing a set as an indexer is deprecated and will raise in a future version. Use a list instead.\n",
      "  alpha_diversity = alpha_diversity[matched_ids]\n",
      "/home/lauro/anaconda3/envs/qiime2-2023.5/lib/python3.8/site-packages/q2_diversity/_alpha/_visualizer.py:168: FutureWarning: Passing a set as an indexer is deprecated and will raise in a future version. Use a list instead.\n",
      "  alpha_diversity = alpha_diversity[matched_ids]\n"
     ]
    },
    {
     "name": "stdout",
     "output_type": "stream",
     "text": [
      "DONE: Calculating alpha correlation: observed_features pearson\n",
      "ERROR: Calculating alpha correlation: osd spearman\n",
      "ERROR: Calculating alpha correlation: osd pearson\n",
      "DONE: Calculating alpha correlation: pielou_e spearman\n",
      "DONE: Calculating alpha correlation: pielou_e pearson\n"
     ]
    },
    {
     "name": "stderr",
     "output_type": "stream",
     "text": [
      "/home/lauro/anaconda3/envs/qiime2-2023.5/lib/python3.8/site-packages/q2_diversity/_alpha/_visualizer.py:168: FutureWarning: Passing a set as an indexer is deprecated and will raise in a future version. Use a list instead.\n",
      "  alpha_diversity = alpha_diversity[matched_ids]\n",
      "/home/lauro/anaconda3/envs/qiime2-2023.5/lib/python3.8/site-packages/q2_diversity/_alpha/_visualizer.py:168: FutureWarning: Passing a set as an indexer is deprecated and will raise in a future version. Use a list instead.\n",
      "  alpha_diversity = alpha_diversity[matched_ids]\n",
      "/home/lauro/anaconda3/envs/qiime2-2023.5/lib/python3.8/site-packages/q2_diversity/_alpha/_visualizer.py:168: FutureWarning: Passing a set as an indexer is deprecated and will raise in a future version. Use a list instead.\n",
      "  alpha_diversity = alpha_diversity[matched_ids]\n"
     ]
    },
    {
     "name": "stdout",
     "output_type": "stream",
     "text": [
      "DONE: Calculating alpha correlation: robbins spearman\n",
      "DONE: Calculating alpha correlation: robbins pearson\n",
      "DONE: Calculating alpha correlation: shannon spearman\n"
     ]
    },
    {
     "name": "stderr",
     "output_type": "stream",
     "text": [
      "/home/lauro/anaconda3/envs/qiime2-2023.5/lib/python3.8/site-packages/q2_diversity/_alpha/_visualizer.py:168: FutureWarning: Passing a set as an indexer is deprecated and will raise in a future version. Use a list instead.\n",
      "  alpha_diversity = alpha_diversity[matched_ids]\n",
      "/home/lauro/anaconda3/envs/qiime2-2023.5/lib/python3.8/site-packages/q2_diversity/_alpha/_visualizer.py:168: FutureWarning: Passing a set as an indexer is deprecated and will raise in a future version. Use a list instead.\n",
      "  alpha_diversity = alpha_diversity[matched_ids]\n",
      "/home/lauro/anaconda3/envs/qiime2-2023.5/lib/python3.8/site-packages/q2_diversity/_alpha/_visualizer.py:168: FutureWarning: Passing a set as an indexer is deprecated and will raise in a future version. Use a list instead.\n",
      "  alpha_diversity = alpha_diversity[matched_ids]\n"
     ]
    },
    {
     "name": "stdout",
     "output_type": "stream",
     "text": [
      "DONE: Calculating alpha correlation: shannon pearson\n",
      "DONE: Calculating alpha correlation: simpson spearman\n",
      "DONE: Calculating alpha correlation: simpson pearson\n"
     ]
    },
    {
     "name": "stderr",
     "output_type": "stream",
     "text": [
      "/home/lauro/anaconda3/envs/qiime2-2023.5/lib/python3.8/site-packages/q2_diversity/_alpha/_visualizer.py:168: FutureWarning: Passing a set as an indexer is deprecated and will raise in a future version. Use a list instead.\n",
      "  alpha_diversity = alpha_diversity[matched_ids]\n",
      "/home/lauro/anaconda3/envs/qiime2-2023.5/lib/python3.8/site-packages/q2_diversity/_alpha/_visualizer.py:168: FutureWarning: Passing a set as an indexer is deprecated and will raise in a future version. Use a list instead.\n",
      "  alpha_diversity = alpha_diversity[matched_ids]\n",
      "/home/lauro/anaconda3/envs/qiime2-2023.5/lib/python3.8/site-packages/q2_diversity/_alpha/_visualizer.py:168: FutureWarning: Passing a set as an indexer is deprecated and will raise in a future version. Use a list instead.\n",
      "  alpha_diversity = alpha_diversity[matched_ids]\n"
     ]
    },
    {
     "name": "stdout",
     "output_type": "stream",
     "text": [
      "DONE: Calculating alpha correlation: simpson_e spearman\n",
      "DONE: Calculating alpha correlation: simpson_e pearson\n",
      "DONE: Calculating alpha correlation: singles spearman\n"
     ]
    },
    {
     "name": "stderr",
     "output_type": "stream",
     "text": [
      "/home/lauro/anaconda3/envs/qiime2-2023.5/lib/python3.8/site-packages/q2_diversity/_alpha/_visualizer.py:168: FutureWarning: Passing a set as an indexer is deprecated and will raise in a future version. Use a list instead.\n",
      "  alpha_diversity = alpha_diversity[matched_ids]\n",
      "/home/lauro/anaconda3/envs/qiime2-2023.5/lib/python3.8/site-packages/q2_diversity/_alpha/_visualizer.py:168: FutureWarning: Passing a set as an indexer is deprecated and will raise in a future version. Use a list instead.\n",
      "  alpha_diversity = alpha_diversity[matched_ids]\n",
      "/home/lauro/anaconda3/envs/qiime2-2023.5/lib/python3.8/site-packages/q2_diversity/_alpha/_visualizer.py:168: FutureWarning: Passing a set as an indexer is deprecated and will raise in a future version. Use a list instead.\n",
      "  alpha_diversity = alpha_diversity[matched_ids]\n"
     ]
    },
    {
     "name": "stdout",
     "output_type": "stream",
     "text": [
      "DONE: Calculating alpha correlation: singles pearson\n",
      "DONE: Calculating alpha correlation: strong spearman\n",
      "DONE: Calculating alpha correlation: strong pearson\n"
     ]
    },
    {
     "name": "stderr",
     "output_type": "stream",
     "text": [
      "/home/lauro/anaconda3/envs/qiime2-2023.5/lib/python3.8/site-packages/q2_diversity/_alpha/_visualizer.py:168: FutureWarning: Passing a set as an indexer is deprecated and will raise in a future version. Use a list instead.\n",
      "  alpha_diversity = alpha_diversity[matched_ids]\n",
      "/home/lauro/anaconda3/envs/qiime2-2023.5/lib/python3.8/site-packages/q2_diversity/_alpha/_visualizer.py:168: FutureWarning: Passing a set as an indexer is deprecated and will raise in a future version. Use a list instead.\n",
      "  alpha_diversity = alpha_diversity[matched_ids]\n"
     ]
    }
   ],
   "source": [
    "methods = ('spearman', 'pearson')\n",
    "numerics_cols = metadata_qa.filter_columns(column_type='numeric')\n",
    "if numerics_cols.column_count > 0:\n",
    "    for metric, alpha_values in alpha_diversities.items():\n",
    "        for method in methods:\n",
    "            try:\n",
    "                corr_view = alpha_correlation(alpha_diversity=alpha_values, metadata=numerics_cols, \n",
    "                                          method=method, intersect_ids=True).visualization\n",
    "                view_path = os.path.join(alpha_path, f'alpha-correlation-{metric}-{method}.qzv')\n",
    "                corr_view.save(view_path)\n",
    "                corr_view\n",
    "                print(f\"DONE: Calculating alpha correlation: {metric} {method}\")\n",
    "            except Exception as e:\n",
    "                print(f\"ERROR: Calculating alpha correlation: {metric} {method}\")"
   ]
  },
  {
   "cell_type": "markdown",
   "id": "8ea83c8a",
   "metadata": {
    "papermill": {
     "duration": 0.004943,
     "end_time": "2023-07-06T18:37:43.320045",
     "exception": false,
     "start_time": "2023-07-06T18:37:43.315102",
     "status": "completed"
    },
    "tags": []
   },
   "source": [
    "## Alpha diversity comparisons\n",
    "\n",
    "Visually and statistically compare groups of alpha diversity values.\n",
    "\n",
    "[diversity alpha_group_significance](https://docs.qiime2.org/2022.8/plugins/available/diversity/alpha-group-significance/)"
   ]
  },
  {
   "cell_type": "code",
   "execution_count": 13,
   "id": "276d1c18",
   "metadata": {
    "ExecuteTime": {
     "end_time": "2022-09-29T20:54:36.089290Z",
     "start_time": "2022-09-29T20:54:35.318963Z"
    },
    "execution": {
     "iopub.execute_input": "2023-07-06T18:37:43.330908Z",
     "iopub.status.busy": "2023-07-06T18:37:43.330357Z",
     "iopub.status.idle": "2023-07-06T18:37:45.399357Z",
     "shell.execute_reply": "2023-07-06T18:37:45.398906Z"
    },
    "papermill": {
     "duration": 2.075342,
     "end_time": "2023-07-06T18:37:45.400245",
     "exception": false,
     "start_time": "2023-07-06T18:37:43.324903",
     "status": "completed"
    },
    "tags": []
   },
   "outputs": [
    {
     "name": "stdout",
     "output_type": "stream",
     "text": [
      "Processing alpha_group_significance: ace\n"
     ]
    },
    {
     "name": "stdout",
     "output_type": "stream",
     "text": [
      "DONE: Calculating alpha group significance: ace\n",
      "Processing alpha_group_significance: berger_parker_d\n",
      "DONE: Calculating alpha group significance: berger_parker_d\n",
      "Processing alpha_group_significance: brillouin_d\n"
     ]
    },
    {
     "name": "stdout",
     "output_type": "stream",
     "text": [
      "DONE: Calculating alpha group significance: brillouin_d\n",
      "Processing alpha_group_significance: chao1\n"
     ]
    },
    {
     "name": "stdout",
     "output_type": "stream",
     "text": [
      "DONE: Calculating alpha group significance: chao1\n",
      "Processing alpha_group_significance: chao1_ci\n",
      "ERROR: Calculating alpha group significance: chao1_ci\n",
      "Processing alpha_group_significance: dominance\n",
      "DONE: Calculating alpha group significance: dominance\n",
      "Processing alpha_group_significance: doubles\n"
     ]
    },
    {
     "name": "stdout",
     "output_type": "stream",
     "text": [
      "ERROR: Calculating alpha group significance: doubles\n",
      "Processing alpha_group_significance: enspie\n"
     ]
    },
    {
     "name": "stdout",
     "output_type": "stream",
     "text": [
      "DONE: Calculating alpha group significance: enspie\n",
      "Processing alpha_group_significance: esty_ci\n",
      "ERROR: Calculating alpha group significance: esty_ci\n",
      "Processing alpha_group_significance: fisher_alpha\n",
      "DONE: Calculating alpha group significance: fisher_alpha\n",
      "Processing alpha_group_significance: gini_index\n"
     ]
    },
    {
     "name": "stdout",
     "output_type": "stream",
     "text": [
      "DONE: Calculating alpha group significance: gini_index\n",
      "Processing alpha_group_significance: goods_coverage\n"
     ]
    },
    {
     "name": "stdout",
     "output_type": "stream",
     "text": [
      "DONE: Calculating alpha group significance: goods_coverage\n",
      "Processing alpha_group_significance: heip_e\n",
      "DONE: Calculating alpha group significance: heip_e\n",
      "Processing alpha_group_significance: kempton_taylor_q\n",
      "ERROR: Calculating alpha group significance: kempton_taylor_q\n",
      "Processing alpha_group_significance: lladser_pe\n"
     ]
    },
    {
     "name": "stdout",
     "output_type": "stream",
     "text": [
      "DONE: Calculating alpha group significance: lladser_pe\n",
      "Processing alpha_group_significance: margalef\n"
     ]
    },
    {
     "name": "stdout",
     "output_type": "stream",
     "text": [
      "DONE: Calculating alpha group significance: margalef\n",
      "Processing alpha_group_significance: mcintosh_d\n",
      "DONE: Calculating alpha group significance: mcintosh_d\n",
      "Processing alpha_group_significance: mcintosh_e\n"
     ]
    },
    {
     "name": "stdout",
     "output_type": "stream",
     "text": [
      "DONE: Calculating alpha group significance: mcintosh_e\n",
      "Processing alpha_group_significance: menhinick\n"
     ]
    },
    {
     "name": "stdout",
     "output_type": "stream",
     "text": [
      "DONE: Calculating alpha group significance: menhinick\n",
      "Processing alpha_group_significance: michaelis_menten_fit\n",
      "DONE: Calculating alpha group significance: michaelis_menten_fit\n",
      "Processing alpha_group_significance: observed_features\n"
     ]
    },
    {
     "name": "stdout",
     "output_type": "stream",
     "text": [
      "DONE: Calculating alpha group significance: observed_features\n",
      "Processing alpha_group_significance: osd\n",
      "ERROR: Calculating alpha group significance: osd\n",
      "Processing alpha_group_significance: pielou_e\n"
     ]
    },
    {
     "name": "stdout",
     "output_type": "stream",
     "text": [
      "DONE: Calculating alpha group significance: pielou_e\n",
      "Processing alpha_group_significance: robbins\n",
      "DONE: Calculating alpha group significance: robbins\n",
      "Processing alpha_group_significance: shannon\n"
     ]
    },
    {
     "name": "stdout",
     "output_type": "stream",
     "text": [
      "DONE: Calculating alpha group significance: shannon\n",
      "Processing alpha_group_significance: simpson\n"
     ]
    },
    {
     "name": "stdout",
     "output_type": "stream",
     "text": [
      "DONE: Calculating alpha group significance: simpson\n",
      "Processing alpha_group_significance: simpson_e\n",
      "DONE: Calculating alpha group significance: simpson_e\n",
      "Processing alpha_group_significance: singles\n"
     ]
    },
    {
     "name": "stdout",
     "output_type": "stream",
     "text": [
      "DONE: Calculating alpha group significance: singles\n",
      "Processing alpha_group_significance: strong\n"
     ]
    },
    {
     "name": "stdout",
     "output_type": "stream",
     "text": [
      "DONE: Calculating alpha group significance: strong\n"
     ]
    }
   ],
   "source": [
    "for metric, alpha_values in alpha_diversities.items():\n",
    "    print(f\"Processing alpha_group_significance: {metric}\")\n",
    "    try:\n",
    "        significance_view = alpha_group_significance(alpha_diversity=alpha_values, metadata=metadata_qa).visualization\n",
    "        view_path = os.path.join(alpha_path, f'alpha-group-significance-{metric}.qzv')\n",
    "        significance_view.save(view_path)\n",
    "        significance_view\n",
    "        print(f\"DONE: Calculating alpha group significance: {metric}\")\n",
    "    except Exception as e:\n",
    "        print(f\"ERROR: Calculating alpha group significance: {metric}\")"
   ]
  },
  {
   "cell_type": "markdown",
   "id": "4349d357",
   "metadata": {
    "papermill": {
     "duration": 0.005423,
     "end_time": "2023-07-06T18:37:45.411408",
     "exception": false,
     "start_time": "2023-07-06T18:37:45.405985",
     "status": "completed"
    },
    "tags": []
   },
   "source": [
    "## Beta diversity analysis\n",
    "\n",
    "#### Reference\n",
    "- [diversity beta](https://docs.qiime2.org/2022.8/plugins/available/diversity/beta/): Computes a user-specified beta diversity metric for all pairs of samples in a feature table.\n",
    "- [Beta diversity metrics](http://scikit-bio.org/docs/0.2.0/generated/skbio.diversity.beta.html)\n",
    "\n",
    "- Metric Choices('aitchison', 'braycurtis', 'canberra', 'canberra_adkins', 'chebyshev', 'cityblock', 'correlation', 'cosine', 'dice', 'euclidean', 'hamming', 'jaccard', 'jensenshannon', 'kulsinski', 'matching', 'minkowski', 'rogerstanimoto', 'russellrao', 'seuclidean', 'sokalmichener', 'sokalsneath', 'sqeuclidean', 'yule')"
   ]
  },
  {
   "cell_type": "code",
   "execution_count": 14,
   "id": "f6f358dd",
   "metadata": {
    "ExecuteTime": {
     "end_time": "2022-09-29T20:54:36.335038Z",
     "start_time": "2022-09-29T20:54:36.091288Z"
    },
    "execution": {
     "iopub.execute_input": "2023-07-06T18:37:45.423008Z",
     "iopub.status.busy": "2023-07-06T18:37:45.422867Z",
     "iopub.status.idle": "2023-07-06T18:37:46.295153Z",
     "shell.execute_reply": "2023-07-06T18:37:46.294725Z"
    },
    "papermill": {
     "duration": 0.879174,
     "end_time": "2023-07-06T18:37:46.296075",
     "exception": false,
     "start_time": "2023-07-06T18:37:45.416901",
     "status": "completed"
    },
    "tags": []
   },
   "outputs": [
    {
     "name": "stdout",
     "output_type": "stream",
     "text": [
      "Calculating beta diversity: aitchison\n",
      "DONE: Calculating beta diversity: aitchison\n",
      "Calculating beta diversity: braycurtis\n"
     ]
    },
    {
     "name": "stdout",
     "output_type": "stream",
     "text": [
      "DONE: Calculating beta diversity: braycurtis\n",
      "Calculating beta diversity: canberra\n",
      "DONE: Calculating beta diversity: canberra\n",
      "Calculating beta diversity: canberra_adkins\n"
     ]
    },
    {
     "name": "stdout",
     "output_type": "stream",
     "text": [
      "DONE: Calculating beta diversity: canberra_adkins\n",
      "Calculating beta diversity: chebyshev\n"
     ]
    },
    {
     "name": "stdout",
     "output_type": "stream",
     "text": [
      "DONE: Calculating beta diversity: chebyshev\n",
      "Calculating beta diversity: cityblock\n",
      "DONE: Calculating beta diversity: cityblock\n",
      "Calculating beta diversity: correlation\n",
      "ERROR: Calculating beta diversity: correlation\n",
      "Calculating beta diversity: cosine\n",
      "ERROR: Calculating beta diversity: cosine\n",
      "Calculating beta diversity: dice\n"
     ]
    },
    {
     "name": "stdout",
     "output_type": "stream",
     "text": [
      "DONE: Calculating beta diversity: dice\n",
      "Calculating beta diversity: euclidean\n",
      "DONE: Calculating beta diversity: euclidean\n",
      "Calculating beta diversity: hamming\n"
     ]
    },
    {
     "name": "stdout",
     "output_type": "stream",
     "text": [
      "DONE: Calculating beta diversity: hamming\n",
      "Calculating beta diversity: jaccard\n"
     ]
    },
    {
     "name": "stderr",
     "output_type": "stream",
     "text": [
      "/home/lauro/anaconda3/envs/qiime2-2023.5/lib/python3.8/site-packages/sklearn/metrics/pairwise.py:1776: DataConversionWarning: Data was converted to boolean for metric dice\n",
      "  warnings.warn(msg, DataConversionWarning)\n",
      "/home/lauro/anaconda3/envs/qiime2-2023.5/lib/python3.8/site-packages/sklearn/metrics/pairwise.py:1776: DataConversionWarning: Data was converted to boolean for metric jaccard\n",
      "  warnings.warn(msg, DataConversionWarning)\n"
     ]
    },
    {
     "name": "stdout",
     "output_type": "stream",
     "text": [
      "DONE: Calculating beta diversity: jaccard\n",
      "Calculating beta diversity: jensenshannon\n",
      "DONE: Calculating beta diversity: jensenshannon\n",
      "Calculating beta diversity: kulsinski\n",
      "ERROR: Calculating beta diversity: kulsinski\n",
      "Calculating beta diversity: matching\n"
     ]
    },
    {
     "name": "stdout",
     "output_type": "stream",
     "text": [
      "DONE: Calculating beta diversity: matching\n",
      "Calculating beta diversity: minkowski\n",
      "DONE: Calculating beta diversity: minkowski\n",
      "Calculating beta diversity: rogerstanimoto\n"
     ]
    },
    {
     "name": "stdout",
     "output_type": "stream",
     "text": [
      "DONE: Calculating beta diversity: rogerstanimoto\n",
      "Calculating beta diversity: russellrao\n",
      "ERROR: Calculating beta diversity: russellrao\n",
      "Calculating beta diversity: seuclidean\n"
     ]
    },
    {
     "name": "stderr",
     "output_type": "stream",
     "text": [
      "/home/lauro/anaconda3/envs/qiime2-2023.5/lib/python3.8/site-packages/sklearn/metrics/pairwise.py:1776: DataConversionWarning: Data was converted to boolean for metric kulsinski\n",
      "  warnings.warn(msg, DataConversionWarning)\n",
      "/home/lauro/anaconda3/envs/qiime2-2023.5/lib/python3.8/site-packages/sklearn/metrics/pairwise.py:1776: DataConversionWarning: Data was converted to boolean for metric matching\n",
      "  warnings.warn(msg, DataConversionWarning)\n",
      "/home/lauro/anaconda3/envs/qiime2-2023.5/lib/python3.8/site-packages/sklearn/metrics/pairwise.py:1776: DataConversionWarning: Data was converted to boolean for metric rogerstanimoto\n",
      "  warnings.warn(msg, DataConversionWarning)\n",
      "/home/lauro/anaconda3/envs/qiime2-2023.5/lib/python3.8/site-packages/sklearn/metrics/pairwise.py:1776: DataConversionWarning: Data was converted to boolean for metric russellrao\n",
      "  warnings.warn(msg, DataConversionWarning)\n",
      "/home/lauro/anaconda3/envs/qiime2-2023.5/lib/python3.8/site-packages/sklearn/metrics/pairwise.py:1776: DataConversionWarning: Data was converted to boolean for metric sokalmichener\n",
      "  warnings.warn(msg, DataConversionWarning)\n"
     ]
    },
    {
     "name": "stdout",
     "output_type": "stream",
     "text": [
      "DONE: Calculating beta diversity: seuclidean\n",
      "Calculating beta diversity: sokalmichener\n",
      "DONE: Calculating beta diversity: sokalmichener\n",
      "Calculating beta diversity: sokalsneath\n"
     ]
    },
    {
     "name": "stdout",
     "output_type": "stream",
     "text": [
      "DONE: Calculating beta diversity: sokalsneath\n",
      "Calculating beta diversity: sqeuclidean\n",
      "DONE: Calculating beta diversity: sqeuclidean\n",
      "Calculating beta diversity: yule\n"
     ]
    },
    {
     "name": "stdout",
     "output_type": "stream",
     "text": [
      "DONE: Calculating beta diversity: yule\n"
     ]
    },
    {
     "name": "stderr",
     "output_type": "stream",
     "text": [
      "/home/lauro/anaconda3/envs/qiime2-2023.5/lib/python3.8/site-packages/sklearn/metrics/pairwise.py:1776: DataConversionWarning: Data was converted to boolean for metric sokalsneath\n",
      "  warnings.warn(msg, DataConversionWarning)\n",
      "/home/lauro/anaconda3/envs/qiime2-2023.5/lib/python3.8/site-packages/sklearn/metrics/pairwise.py:1776: DataConversionWarning: Data was converted to boolean for metric yule\n",
      "  warnings.warn(msg, DataConversionWarning)\n"
     ]
    }
   ],
   "source": [
    "metrics = ('aitchison', 'braycurtis', 'canberra', 'canberra_adkins', 'chebyshev', 'cityblock', 'correlation', 'cosine', 'dice', 'euclidean', 'hamming', 'jaccard', 'jensenshannon', 'kulsinski', 'matching', 'minkowski', 'rogerstanimoto', 'russellrao', 'seuclidean', 'sokalmichener', 'sokalsneath', 'sqeuclidean', 'yule')\n",
    "beta_diversities = dict()\n",
    "for metric in metrics:\n",
    "    print(f\"Calculating beta diversity: {metric}\")\n",
    "    try:\n",
    "        beta_diversity = beta(table=tabs, metric=metric, n_jobs=6, pseudocount=1).distance_matrix\n",
    "        beta_diversities[metric] = beta_diversity\n",
    "        # Save SampleData[BetaDiversity] Artifact\n",
    "        file_path = os.path.join(beta_path, f'beta-values-{metric}.qza')\n",
    "        beta_diversity.save(file_path)\n",
    "        print(f\"DONE: Calculating beta diversity: {metric}\")\n",
    "    except Exception as e:\n",
    "        print(f\"ERROR: Calculating beta diversity: {metric}\")"
   ]
  },
  {
   "cell_type": "markdown",
   "id": "200a2fa7",
   "metadata": {
    "papermill": {
     "duration": 0.006052,
     "end_time": "2023-07-06T18:37:46.308386",
     "exception": false,
     "start_time": "2023-07-06T18:37:46.302334",
     "status": "completed"
    },
    "tags": []
   },
   "source": [
    "### Beta group significance\n",
    "\n",
    "- [diversity beta_group_significance](https://docs.qiime2.org/2022.8/plugins/available/diversity/beta-group-significance/): Determine whether groups of samples are significantly different from one another using a permutation-based statistical test.\n",
    "- Marti J Anderson. A new method for non-parametric multivariate analysis of variance. Austral ecology, 26(1):32–46, 2001. doi:https://doi.org/10.1111/j.1442-9993.2001.01070.pp.x."
   ]
  },
  {
   "cell_type": "code",
   "execution_count": 15,
   "id": "b8dd42b6",
   "metadata": {
    "ExecuteTime": {
     "end_time": "2022-09-29T20:55:08.313860Z",
     "start_time": "2022-09-29T20:54:36.336993Z"
    },
    "execution": {
     "iopub.execute_input": "2023-07-06T18:37:46.320660Z",
     "iopub.status.busy": "2023-07-06T18:37:46.320530Z",
     "iopub.status.idle": "2023-07-06T18:38:48.807694Z",
     "shell.execute_reply": "2023-07-06T18:38:48.807380Z"
    },
    "papermill": {
     "duration": 62.494392,
     "end_time": "2023-07-06T18:38:48.808582",
     "exception": false,
     "start_time": "2023-07-06T18:37:46.314190",
     "status": "completed"
    },
    "tags": []
   },
   "outputs": [
    {
     "name": "stdout",
     "output_type": "stream",
     "text": [
      "Calculating beta group significance with method permanova and metric aitchison\n"
     ]
    },
    {
     "name": "stdout",
     "output_type": "stream",
     "text": [
      "DONE: Calculating beta group significance: permanova aitchison\n",
      "Calculating beta group significance with method permanova and metric braycurtis\n"
     ]
    },
    {
     "name": "stdout",
     "output_type": "stream",
     "text": [
      "DONE: Calculating beta group significance: permanova braycurtis\n",
      "Calculating beta group significance with method permanova and metric canberra\n"
     ]
    },
    {
     "name": "stdout",
     "output_type": "stream",
     "text": [
      "DONE: Calculating beta group significance: permanova canberra\n",
      "Calculating beta group significance with method permanova and metric canberra_adkins\n"
     ]
    },
    {
     "name": "stdout",
     "output_type": "stream",
     "text": [
      "DONE: Calculating beta group significance: permanova canberra_adkins\n",
      "Calculating beta group significance with method permanova and metric chebyshev\n"
     ]
    },
    {
     "name": "stdout",
     "output_type": "stream",
     "text": [
      "DONE: Calculating beta group significance: permanova chebyshev\n",
      "Calculating beta group significance with method permanova and metric cityblock\n"
     ]
    },
    {
     "name": "stdout",
     "output_type": "stream",
     "text": [
      "DONE: Calculating beta group significance: permanova cityblock\n",
      "Calculating beta group significance with method permanova and metric dice\n"
     ]
    },
    {
     "name": "stdout",
     "output_type": "stream",
     "text": [
      "DONE: Calculating beta group significance: permanova dice\n",
      "Calculating beta group significance with method permanova and metric euclidean\n"
     ]
    },
    {
     "name": "stdout",
     "output_type": "stream",
     "text": [
      "DONE: Calculating beta group significance: permanova euclidean\n",
      "Calculating beta group significance with method permanova and metric hamming\n"
     ]
    },
    {
     "name": "stdout",
     "output_type": "stream",
     "text": [
      "DONE: Calculating beta group significance: permanova hamming\n",
      "Calculating beta group significance with method permanova and metric jaccard\n"
     ]
    },
    {
     "name": "stdout",
     "output_type": "stream",
     "text": [
      "DONE: Calculating beta group significance: permanova jaccard\n",
      "Calculating beta group significance with method permanova and metric jensenshannon\n"
     ]
    },
    {
     "name": "stdout",
     "output_type": "stream",
     "text": [
      "DONE: Calculating beta group significance: permanova jensenshannon\n",
      "Calculating beta group significance with method permanova and metric matching\n"
     ]
    },
    {
     "name": "stdout",
     "output_type": "stream",
     "text": [
      "DONE: Calculating beta group significance: permanova matching\n",
      "Calculating beta group significance with method permanova and metric minkowski\n"
     ]
    },
    {
     "name": "stdout",
     "output_type": "stream",
     "text": [
      "DONE: Calculating beta group significance: permanova minkowski\n",
      "Calculating beta group significance with method permanova and metric rogerstanimoto\n"
     ]
    },
    {
     "name": "stdout",
     "output_type": "stream",
     "text": [
      "DONE: Calculating beta group significance: permanova rogerstanimoto\n",
      "Calculating beta group significance with method permanova and metric seuclidean\n"
     ]
    },
    {
     "name": "stdout",
     "output_type": "stream",
     "text": [
      "DONE: Calculating beta group significance: permanova seuclidean\n",
      "Calculating beta group significance with method permanova and metric sokalmichener\n"
     ]
    },
    {
     "name": "stdout",
     "output_type": "stream",
     "text": [
      "DONE: Calculating beta group significance: permanova sokalmichener\n",
      "Calculating beta group significance with method permanova and metric sokalsneath\n"
     ]
    },
    {
     "name": "stdout",
     "output_type": "stream",
     "text": [
      "DONE: Calculating beta group significance: permanova sokalsneath\n",
      "Calculating beta group significance with method permanova and metric sqeuclidean\n"
     ]
    },
    {
     "name": "stdout",
     "output_type": "stream",
     "text": [
      "DONE: Calculating beta group significance: permanova sqeuclidean\n",
      "Calculating beta group significance with method permanova and metric yule\n"
     ]
    },
    {
     "name": "stdout",
     "output_type": "stream",
     "text": [
      "DONE: Calculating beta group significance: permanova yule\n",
      "Calculating beta group significance with method anosim and metric aitchison\n"
     ]
    },
    {
     "name": "stdout",
     "output_type": "stream",
     "text": [
      "DONE: Calculating beta group significance: anosim aitchison\n",
      "Calculating beta group significance with method anosim and metric braycurtis\n"
     ]
    },
    {
     "name": "stdout",
     "output_type": "stream",
     "text": [
      "DONE: Calculating beta group significance: anosim braycurtis\n",
      "Calculating beta group significance with method anosim and metric canberra\n"
     ]
    },
    {
     "name": "stdout",
     "output_type": "stream",
     "text": [
      "DONE: Calculating beta group significance: anosim canberra\n",
      "Calculating beta group significance with method anosim and metric canberra_adkins\n"
     ]
    },
    {
     "name": "stdout",
     "output_type": "stream",
     "text": [
      "DONE: Calculating beta group significance: anosim canberra_adkins\n",
      "Calculating beta group significance with method anosim and metric chebyshev\n"
     ]
    },
    {
     "name": "stdout",
     "output_type": "stream",
     "text": [
      "DONE: Calculating beta group significance: anosim chebyshev\n",
      "Calculating beta group significance with method anosim and metric cityblock\n"
     ]
    },
    {
     "name": "stdout",
     "output_type": "stream",
     "text": [
      "DONE: Calculating beta group significance: anosim cityblock\n",
      "Calculating beta group significance with method anosim and metric dice\n"
     ]
    },
    {
     "name": "stdout",
     "output_type": "stream",
     "text": [
      "DONE: Calculating beta group significance: anosim dice\n",
      "Calculating beta group significance with method anosim and metric euclidean\n"
     ]
    },
    {
     "name": "stdout",
     "output_type": "stream",
     "text": [
      "DONE: Calculating beta group significance: anosim euclidean\n",
      "Calculating beta group significance with method anosim and metric hamming\n"
     ]
    },
    {
     "name": "stdout",
     "output_type": "stream",
     "text": [
      "DONE: Calculating beta group significance: anosim hamming\n",
      "Calculating beta group significance with method anosim and metric jaccard\n"
     ]
    },
    {
     "name": "stdout",
     "output_type": "stream",
     "text": [
      "DONE: Calculating beta group significance: anosim jaccard\n",
      "Calculating beta group significance with method anosim and metric jensenshannon\n"
     ]
    },
    {
     "name": "stdout",
     "output_type": "stream",
     "text": [
      "DONE: Calculating beta group significance: anosim jensenshannon\n",
      "Calculating beta group significance with method anosim and metric matching\n"
     ]
    },
    {
     "name": "stdout",
     "output_type": "stream",
     "text": [
      "DONE: Calculating beta group significance: anosim matching\n",
      "Calculating beta group significance with method anosim and metric minkowski\n"
     ]
    },
    {
     "name": "stdout",
     "output_type": "stream",
     "text": [
      "DONE: Calculating beta group significance: anosim minkowski\n",
      "Calculating beta group significance with method anosim and metric rogerstanimoto\n"
     ]
    },
    {
     "name": "stdout",
     "output_type": "stream",
     "text": [
      "DONE: Calculating beta group significance: anosim rogerstanimoto\n",
      "Calculating beta group significance with method anosim and metric seuclidean\n"
     ]
    },
    {
     "name": "stdout",
     "output_type": "stream",
     "text": [
      "DONE: Calculating beta group significance: anosim seuclidean\n",
      "Calculating beta group significance with method anosim and metric sokalmichener\n"
     ]
    },
    {
     "name": "stdout",
     "output_type": "stream",
     "text": [
      "DONE: Calculating beta group significance: anosim sokalmichener\n",
      "Calculating beta group significance with method anosim and metric sokalsneath\n"
     ]
    },
    {
     "name": "stdout",
     "output_type": "stream",
     "text": [
      "DONE: Calculating beta group significance: anosim sokalsneath\n",
      "Calculating beta group significance with method anosim and metric sqeuclidean\n"
     ]
    },
    {
     "name": "stdout",
     "output_type": "stream",
     "text": [
      "DONE: Calculating beta group significance: anosim sqeuclidean\n",
      "Calculating beta group significance with method anosim and metric yule\n"
     ]
    },
    {
     "name": "stdout",
     "output_type": "stream",
     "text": [
      "DONE: Calculating beta group significance: anosim yule\n",
      "Calculating beta group significance with method permdisp and metric aitchison\n"
     ]
    },
    {
     "name": "stdout",
     "output_type": "stream",
     "text": [
      "DONE: Calculating beta group significance: permdisp aitchison\n",
      "Calculating beta group significance with method permdisp and metric braycurtis\n"
     ]
    },
    {
     "name": "stdout",
     "output_type": "stream",
     "text": [
      "DONE: Calculating beta group significance: permdisp braycurtis\n",
      "Calculating beta group significance with method permdisp and metric canberra\n"
     ]
    },
    {
     "name": "stdout",
     "output_type": "stream",
     "text": [
      "DONE: Calculating beta group significance: permdisp canberra\n",
      "Calculating beta group significance with method permdisp and metric canberra_adkins\n"
     ]
    },
    {
     "name": "stdout",
     "output_type": "stream",
     "text": [
      "DONE: Calculating beta group significance: permdisp canberra_adkins\n",
      "Calculating beta group significance with method permdisp and metric chebyshev\n"
     ]
    },
    {
     "name": "stderr",
     "output_type": "stream",
     "text": [
      "/home/lauro/anaconda3/envs/qiime2-2023.5/lib/python3.8/site-packages/skbio/stats/ordination/_principal_coordinate_analysis.py:143: RuntimeWarning: The result contains negative eigenvalues. Please compare their magnitude with the magnitude of some of the largest positive eigenvalues. If the negative ones are smaller, it's probably safe to ignore them, but if they are large in magnitude, the results won't be useful. See the Notes section for more details. The smallest eigenvalue is -87898985.3042374 and the largest is 957171426.6473361.\n",
      "  warn(\n"
     ]
    },
    {
     "name": "stderr",
     "output_type": "stream",
     "text": [
      "/home/lauro/anaconda3/envs/qiime2-2023.5/lib/python3.8/site-packages/skbio/stats/ordination/_principal_coordinate_analysis.py:143: RuntimeWarning: The result contains negative eigenvalues. Please compare their magnitude with the magnitude of some of the largest positive eigenvalues. If the negative ones are smaller, it's probably safe to ignore them, but if they are large in magnitude, the results won't be useful. See the Notes section for more details. The smallest eigenvalue is -87898985.30423746 and the largest is 957171426.6473364.\n",
      "  warn(\n"
     ]
    },
    {
     "name": "stdout",
     "output_type": "stream",
     "text": [
      "DONE: Calculating beta group significance: permdisp chebyshev\n",
      "Calculating beta group significance with method permdisp and metric cityblock\n"
     ]
    },
    {
     "name": "stderr",
     "output_type": "stream",
     "text": [
      "/home/lauro/anaconda3/envs/qiime2-2023.5/lib/python3.8/site-packages/skbio/stats/ordination/_principal_coordinate_analysis.py:143: RuntimeWarning: The result contains negative eigenvalues. Please compare their magnitude with the magnitude of some of the largest positive eigenvalues. If the negative ones are smaller, it's probably safe to ignore them, but if they are large in magnitude, the results won't be useful. See the Notes section for more details. The smallest eigenvalue is -1404909622.8999386 and the largest is 61874639533.49991.\n",
      "  warn(\n"
     ]
    },
    {
     "name": "stderr",
     "output_type": "stream",
     "text": [
      "/home/lauro/anaconda3/envs/qiime2-2023.5/lib/python3.8/site-packages/skbio/stats/ordination/_principal_coordinate_analysis.py:143: RuntimeWarning: The result contains negative eigenvalues. Please compare their magnitude with the magnitude of some of the largest positive eigenvalues. If the negative ones are smaller, it's probably safe to ignore them, but if they are large in magnitude, the results won't be useful. See the Notes section for more details. The smallest eigenvalue is -1404909622.8999445 and the largest is 61874639533.49996.\n",
      "  warn(\n"
     ]
    },
    {
     "name": "stdout",
     "output_type": "stream",
     "text": [
      "DONE: Calculating beta group significance: permdisp cityblock\n",
      "Calculating beta group significance with method permdisp and metric dice\n"
     ]
    },
    {
     "name": "stdout",
     "output_type": "stream",
     "text": [
      "DONE: Calculating beta group significance: permdisp dice\n",
      "Calculating beta group significance with method permdisp and metric euclidean\n"
     ]
    },
    {
     "name": "stderr",
     "output_type": "stream",
     "text": [
      "/home/lauro/anaconda3/envs/qiime2-2023.5/lib/python3.8/site-packages/skbio/stats/ordination/_principal_coordinate_analysis.py:143: RuntimeWarning: The result contains negative eigenvalues. Please compare their magnitude with the magnitude of some of the largest positive eigenvalues. If the negative ones are smaller, it's probably safe to ignore them, but if they are large in magnitude, the results won't be useful. See the Notes section for more details. The smallest eigenvalue is -2.531963861038011e-07 and the largest is 1803636958.514766.\n",
      "  warn(\n"
     ]
    },
    {
     "name": "stderr",
     "output_type": "stream",
     "text": [
      "/home/lauro/anaconda3/envs/qiime2-2023.5/lib/python3.8/site-packages/skbio/stats/ordination/_principal_coordinate_analysis.py:143: RuntimeWarning: The result contains negative eigenvalues. Please compare their magnitude with the magnitude of some of the largest positive eigenvalues. If the negative ones are smaller, it's probably safe to ignore them, but if they are large in magnitude, the results won't be useful. See the Notes section for more details. The smallest eigenvalue is -3.176670210690561e-07 and the largest is 1803636958.514767.\n",
      "  warn(\n"
     ]
    },
    {
     "name": "stdout",
     "output_type": "stream",
     "text": [
      "DONE: Calculating beta group significance: permdisp euclidean\n",
      "Calculating beta group significance with method permdisp and metric hamming\n"
     ]
    },
    {
     "name": "stdout",
     "output_type": "stream",
     "text": [
      "DONE: Calculating beta group significance: permdisp hamming\n",
      "Calculating beta group significance with method permdisp and metric jaccard\n"
     ]
    },
    {
     "name": "stdout",
     "output_type": "stream",
     "text": [
      "DONE: Calculating beta group significance: permdisp jaccard\n",
      "Calculating beta group significance with method permdisp and metric jensenshannon\n"
     ]
    },
    {
     "name": "stdout",
     "output_type": "stream",
     "text": [
      "DONE: Calculating beta group significance: permdisp jensenshannon\n",
      "Calculating beta group significance with method permdisp and metric matching\n"
     ]
    },
    {
     "name": "stdout",
     "output_type": "stream",
     "text": [
      "DONE: Calculating beta group significance: permdisp matching\n",
      "Calculating beta group significance with method permdisp and metric minkowski\n"
     ]
    },
    {
     "name": "stderr",
     "output_type": "stream",
     "text": [
      "/home/lauro/anaconda3/envs/qiime2-2023.5/lib/python3.8/site-packages/skbio/stats/ordination/_principal_coordinate_analysis.py:143: RuntimeWarning: The result contains negative eigenvalues. Please compare their magnitude with the magnitude of some of the largest positive eigenvalues. If the negative ones are smaller, it's probably safe to ignore them, but if they are large in magnitude, the results won't be useful. See the Notes section for more details. The smallest eigenvalue is -2.531963861038011e-07 and the largest is 1803636958.514766.\n",
      "  warn(\n"
     ]
    },
    {
     "name": "stderr",
     "output_type": "stream",
     "text": [
      "/home/lauro/anaconda3/envs/qiime2-2023.5/lib/python3.8/site-packages/skbio/stats/ordination/_principal_coordinate_analysis.py:143: RuntimeWarning: The result contains negative eigenvalues. Please compare their magnitude with the magnitude of some of the largest positive eigenvalues. If the negative ones are smaller, it's probably safe to ignore them, but if they are large in magnitude, the results won't be useful. See the Notes section for more details. The smallest eigenvalue is -3.176670210690561e-07 and the largest is 1803636958.514767.\n",
      "  warn(\n"
     ]
    },
    {
     "name": "stdout",
     "output_type": "stream",
     "text": [
      "DONE: Calculating beta group significance: permdisp minkowski\n",
      "Calculating beta group significance with method permdisp and metric rogerstanimoto\n"
     ]
    },
    {
     "name": "stdout",
     "output_type": "stream",
     "text": [
      "DONE: Calculating beta group significance: permdisp rogerstanimoto\n",
      "Calculating beta group significance with method permdisp and metric seuclidean\n"
     ]
    },
    {
     "name": "stdout",
     "output_type": "stream",
     "text": [
      "DONE: Calculating beta group significance: permdisp seuclidean\n",
      "Calculating beta group significance with method permdisp and metric sokalmichener\n"
     ]
    },
    {
     "name": "stdout",
     "output_type": "stream",
     "text": [
      "DONE: Calculating beta group significance: permdisp sokalmichener\n",
      "Calculating beta group significance with method permdisp and metric sokalsneath\n"
     ]
    },
    {
     "name": "stdout",
     "output_type": "stream",
     "text": [
      "DONE: Calculating beta group significance: permdisp sokalsneath\n",
      "Calculating beta group significance with method permdisp and metric sqeuclidean\n"
     ]
    },
    {
     "name": "stderr",
     "output_type": "stream",
     "text": [
      "/home/lauro/anaconda3/envs/qiime2-2023.5/lib/python3.8/site-packages/skbio/stats/ordination/_principal_coordinate_analysis.py:143: RuntimeWarning: The result contains negative eigenvalues. Please compare their magnitude with the magnitude of some of the largest positive eigenvalues. If the negative ones are smaller, it's probably safe to ignore them, but if they are large in magnitude, the results won't be useful. See the Notes section for more details. The smallest eigenvalue is -7.35262205375936e+17 and the largest is 4.69664210357922e+18.\n",
      "  warn(\n"
     ]
    },
    {
     "name": "stderr",
     "output_type": "stream",
     "text": [
      "/home/lauro/anaconda3/envs/qiime2-2023.5/lib/python3.8/site-packages/skbio/stats/ordination/_principal_coordinate_analysis.py:143: RuntimeWarning: The result contains negative eigenvalues. Please compare their magnitude with the magnitude of some of the largest positive eigenvalues. If the negative ones are smaller, it's probably safe to ignore them, but if they are large in magnitude, the results won't be useful. See the Notes section for more details. The smallest eigenvalue is -7.352622053759363e+17 and the largest is 4.696642103579216e+18.\n",
      "  warn(\n"
     ]
    },
    {
     "name": "stdout",
     "output_type": "stream",
     "text": [
      "DONE: Calculating beta group significance: permdisp sqeuclidean\n",
      "Calculating beta group significance with method permdisp and metric yule\n"
     ]
    },
    {
     "name": "stderr",
     "output_type": "stream",
     "text": [
      "/home/lauro/anaconda3/envs/qiime2-2023.5/lib/python3.8/site-packages/skbio/stats/ordination/_principal_coordinate_analysis.py:143: RuntimeWarning: The result contains negative eigenvalues. Please compare their magnitude with the magnitude of some of the largest positive eigenvalues. If the negative ones are smaller, it's probably safe to ignore them, but if they are large in magnitude, the results won't be useful. See the Notes section for more details. The smallest eigenvalue is -0.12998171987343574 and the largest is 0.4797939905085828.\n",
      "  warn(\n"
     ]
    },
    {
     "name": "stderr",
     "output_type": "stream",
     "text": [
      "/home/lauro/anaconda3/envs/qiime2-2023.5/lib/python3.8/site-packages/skbio/stats/ordination/_principal_coordinate_analysis.py:143: RuntimeWarning: The result contains negative eigenvalues. Please compare their magnitude with the magnitude of some of the largest positive eigenvalues. If the negative ones are smaller, it's probably safe to ignore them, but if they are large in magnitude, the results won't be useful. See the Notes section for more details. The smallest eigenvalue is -0.1299817198734357 and the largest is 0.47979399050858385.\n",
      "  warn(\n"
     ]
    },
    {
     "name": "stdout",
     "output_type": "stream",
     "text": [
      "DONE: Calculating beta group significance: permdisp yule\n"
     ]
    },
    {
     "data": {
      "text/plain": [
       "<Figure size 640x480 with 0 Axes>"
      ]
     },
     "metadata": {},
     "output_type": "display_data"
    }
   ],
   "source": [
    "methods = ('permanova', 'anosim', 'permdisp')\n",
    "for method in methods:\n",
    "    for metric, beta_diversity in beta_diversities.items():\n",
    "        print(f'Calculating beta group significance with method {method} and metric {metric}')\n",
    "        try:\n",
    "            beta_view = beta_group_significance(distance_matrix=beta_diversity, \n",
    "                                                metadata=metadata_qa.get_column(class_col), \n",
    "                                                pairwise=True, method=method).visualization\n",
    "            view_name = os.path.join(beta_path, f'beta-group-significance-{metric}-{method}.qzv')\n",
    "            beta_view.save(view_name)\n",
    "            print(f\"DONE: Calculating beta group significance: {method} {metric}\")\n",
    "        except Exception as e:\n",
    "            print(f\"ERROR: Calculating beta group significance: {method} {metric}\")"
   ]
  },
  {
   "cell_type": "markdown",
   "id": "c0de85cf",
   "metadata": {
    "papermill": {
     "duration": 0.007603,
     "end_time": "2023-07-06T18:38:48.824071",
     "exception": false,
     "start_time": "2023-07-06T18:38:48.816468",
     "status": "completed"
    },
    "tags": []
   },
   "source": [
    "### Beta group Rarefaction\n",
    "\n",
    "- [diversity beta_rarefaction](https://docs.qiime2.org/2022.8/plugins/available/diversity/beta-rarefaction/): Repeatedly rarefy a feature table to compare beta diversity results within a given rarefaction depth.  For a given beta diversity metric, this visualizer will provide: an Emperor jackknifed PCoA plot, samples clustered by UPGMA or neighbor joining with support calculation, and a heatmap showing the correlation between rarefaction trials of that beta diversity metric."
   ]
  }
 ],
 "metadata": {
  "celltoolbar": "Edit Metadata",
  "kernelspec": {
   "display_name": "Python 3 (ipykernel)",
   "language": "python",
   "name": "python3"
  },
  "language_info": {
   "codemirror_mode": {
    "name": "ipython",
    "version": 3
   },
   "file_extension": ".py",
   "mimetype": "text/x-python",
   "name": "python",
   "nbconvert_exporter": "python",
   "pygments_lexer": "ipython3",
   "version": "3.8.16"
  },
  "papermill": {
   "default_parameters": {},
   "duration": 2615.376074,
   "end_time": "2023-07-06T18:38:49.652614",
   "environment_variables": {},
   "exception": null,
   "input_path": "nb-templates/step-diversity-analysis.ipynb",
   "output_path": "/mnt/nupeb/rede-micro/redemicro-miliane-nutri/experiments/miliane-CxAC-trim/nb-executed-steps/step-diversity-analysis-miliane-CxAC-trim.ipynb",
   "parameters": {
    "base_dir": "/mnt/nupeb/rede-micro/redemicro-miliane-nutri",
    "class_col": "group-id",
    "classifier_file": "/mnt/nupeb/rede-micro/qiime2-classifiers/silva-138-99-nb-classifier.qza",
    "experiment_name": "miliane-CxAC-trim",
    "manifest_file": "/mnt/nupeb/rede-micro/redemicro-miliane-nutri/data/raw/manifest/miliane-manifest-CxAC.csv",
    "metadata_file": "/mnt/nupeb/rede-micro/redemicro-miliane-nutri/data/raw/metadata/miliane-metadata-CxAC.tsv",
    "overlap": 12,
    "phred": 20,
    "replace_files": false,
    "threads": 6,
    "trim": {
     "forward_primer": "CCTACGGGRSGCAGCAG",
     "overlap": 8,
     "reverse_primer": "GGACTACHVGGGTWTCTAAT"
    },
    "trunc_f": 0,
    "trunc_r": 0
   },
   "start_time": "2023-07-06T17:55:14.276540",
   "version": "2.4.0"
  }
 },
 "nbformat": 4,
 "nbformat_minor": 5
}