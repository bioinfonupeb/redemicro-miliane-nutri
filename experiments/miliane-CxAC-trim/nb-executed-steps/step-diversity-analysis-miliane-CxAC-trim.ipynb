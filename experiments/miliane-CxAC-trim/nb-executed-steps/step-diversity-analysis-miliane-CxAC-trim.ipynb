{
 "cells": [
  {
   "cell_type": "markdown",
   "id": "15bcfa06",
   "metadata": {
    "papermill": {
     "duration": 0.003639,
     "end_time": "2024-03-01T11:35:05.584844",
     "exception": false,
     "start_time": "2024-03-01T11:35:05.581205",
     "status": "completed"
    },
    "tags": []
   },
   "source": [
    " \n",
    "# Alpha and Beta Diversity\n",
    "\n",
    "Different higher-level measures are often used to describe the microbiome in a sample. These do not provide information on changes in the abundance of specific taxa but allow us to access a broader change or difference in the composition of microorganisms. Alpha and beta diversity are examples of such measures.\n",
    "\n",
    "Different measures exist to estimate diversity within a single sample, jointly called alpha diversity. The different measures reflect the richness (number) or distribution (evenness) of a microbial sample or aim to reflect a combination of both properties.\n",
    "\n",
    "Rarefaction curves are often used when calculating alpha diversity indices because increasing numbers of sequenced taxa allow increasingly accurate estimates of total population diversity. Rarefaction curves can therefore be used to estimate the full sample richness, as compared to the observed sample richness.\n",
    "\n",
    "While alpha diversity is a measure of microbiome diversity applicable to a single sample, beta diversity is a measure of the similarity or dissimilarity of two communities. As for alpha diversity, many indices exist, each reflecting different aspects of community heterogeneity. Key differences relate to how the indices value variation in rare species if they consider presence/absence only or incorporate abundance, and how they interpret shared absence. Bray-Curtis dissimilarity is a popular measure that considers both size (overall abundance per sample) and shape (abundance of each taxon) of the communities (Bray, 1957). Beta diversity is an essential measure for many popular statistical methods in ecology, such as ordination-based methods, and is widely used for studying the association between environmental variables and microbial composition.\n",
    "\n",
    "In summary, alpha diversity measures can be seen as a summary statistic of a single population (within-sample diversity), while beta diversity measures are estimates of similarity or dissimilarity between populations (between samples).\n",
    "\n",
    "**Source**: (https://biomcare.com/info/key-terms-in-microbiome-projects/)"
   ]
  },
  {
   "cell_type": "markdown",
   "id": "0e7f2330",
   "metadata": {
    "ExecuteTime": {
     "end_time": "2022-09-22T19:36:33.828188Z",
     "start_time": "2022-09-22T19:36:33.817323Z"
    },
    "papermill": {
     "duration": 0.002873,
     "end_time": "2024-03-01T11:35:05.590913",
     "exception": false,
     "start_time": "2024-03-01T11:35:05.588040",
     "status": "completed"
    },
    "tags": []
   },
   "source": [
    "### STEP : Diversity Analysis\n",
    "\n",
    "Using QIIME2 to create diversity analisys graphs and calculations.\n",
    "\n",
    "- [QIIME2 Workflow Overview](https://docs.qiime2.org/2022.8/tutorials/overview/)\n",
    "\n",
    "\n",
    "#### Methods\n",
    "- [diversity](https://docs.qiime2.org/2022.8/plugins/available/diversity/)\n",
    "- [diversity alpha](https://docs.qiime2.org/2022.8/plugins/available/diversity/alpha/)\n",
    "- [diversity alpha_phylogenetic](https://docs.qiime2.org/2022.8/plugins/available/diversity/alpha-phylogenetic/)\n",
    "- [diversity beta](https://docs.qiime2.org/2022.8/plugins/available/diversity/beta/)\n",
    "- [diversity core_metrics](https://docs.qiime2.org/2022.8/plugins/available/diversity/core-metrics/)\n",
    "- [diversity alpha_group_significance](https://docs.qiime2.org/2022.8/plugins/available/diversity/alpha-group-significance/)\n",
    "- [diversity beta_group_significance](https://docs.qiime2.org/2022.8/plugins/available/diversity/beta-group-significance/)\n",
    "- [feature_table core_features](https://docs.qiime2.org/2022.8/plugins/available/feature-table/core-features/)\n",
    "- [feature_table summarize](https://docs.qiime2.org/2022.8/plugins/available/feature-table/summarize/)\n",
    "- [taxa filter-table](https://docs.qiime2.org/2022.8/plugins/available/taxa/filter-table/)\n",
    "- [taxa collapse](https://docs.qiime2.org/2022.8/plugins/available/taxa/collapse/)"
   ]
  },
  {
   "cell_type": "markdown",
   "id": "843debbf",
   "metadata": {
    "papermill": {
     "duration": 0.004904,
     "end_time": "2024-03-01T11:35:05.598680",
     "exception": false,
     "start_time": "2024-03-01T11:35:05.593776",
     "status": "completed"
    },
    "tags": []
   },
   "source": [
    "## Setup and settings"
   ]
  },
  {
   "cell_type": "code",
   "execution_count": 1,
   "id": "965e28e5",
   "metadata": {
    "ExecuteTime": {
     "end_time": "2022-11-03T20:35:26.198671Z",
     "start_time": "2022-11-03T20:35:06.473173Z"
    },
    "execution": {
     "iopub.execute_input": "2024-03-01T11:35:05.605314Z",
     "iopub.status.busy": "2024-03-01T11:35:05.605138Z",
     "iopub.status.idle": "2024-03-01T11:35:10.710835Z",
     "shell.execute_reply": "2024-03-01T11:35:10.710285Z"
    },
    "papermill": {
     "duration": 5.110641,
     "end_time": "2024-03-01T11:35:10.712164",
     "exception": false,
     "start_time": "2024-03-01T11:35:05.601523",
     "status": "completed"
    },
    "tags": []
   },
   "outputs": [],
   "source": [
    "# Importing packages\n",
    "import os\n",
    "import pandas as pd\n",
    "from qiime2 import Artifact\n",
    "from qiime2 import Visualization\n",
    "from qiime2 import Metadata\n",
    "\n",
    "from qiime2.plugins.phylogeny.pipelines import align_to_tree_mafft_fasttree\n",
    "\n",
    "from qiime2.plugins.diversity.pipelines import alpha\n",
    "from qiime2.plugins.diversity.pipelines import beta\n",
    "from qiime2.plugins.diversity.pipelines import core_metrics\n",
    "from qiime2.plugins.diversity.pipelines import alpha_phylogenetic\n",
    "\n",
    "from qiime2.plugins.diversity.visualizers import alpha_group_significance\n",
    "from qiime2.plugins.diversity.visualizers import beta_group_significance\n",
    "from qiime2.plugins.diversity.visualizers import alpha_correlation\n",
    "from qiime2.plugins.diversity.visualizers import beta_rarefaction\n",
    "\n",
    "from qiime2.plugins.taxa.methods import filter_table\n",
    "from qiime2.plugins.taxa.methods import collapse\n",
    "\n",
    "from qiime2.plugins.feature_table.visualizers import tabulate_seqs\n",
    "from qiime2.plugins.feature_table.visualizers import summarize\n",
    "from qiime2.plugins.feature_table.visualizers import core_features\n",
    "from qiime2.plugins.diversity.pipelines import core_metrics_phylogenetic\n",
    "\n",
    "from qiime2.plugins.feature_table.methods import filter_samples\n",
    "from qiime2.plugins.feature_table.methods import filter_seqs\n",
    "\n",
    "from qiime2.plugins.alignment.methods import mafft\n",
    "\n",
    "\n",
    "import matplotlib.pyplot as plt\n",
    "\n",
    "%matplotlib inline"
   ]
  },
  {
   "cell_type": "markdown",
   "id": "530ceb60",
   "metadata": {
    "papermill": {
     "duration": 0.00421,
     "end_time": "2024-03-01T11:35:10.719684",
     "exception": false,
     "start_time": "2024-03-01T11:35:10.715474",
     "status": "completed"
    },
    "tags": []
   },
   "source": [
    "### Receiving the parameters\n",
    "\n",
    "The following cell can receive parameters using the [papermill](https://papermill.readthedocs.io/en/latest/) tool."
   ]
  },
  {
   "cell_type": "code",
   "execution_count": 2,
   "id": "18d874ea",
   "metadata": {
    "ExecuteTime": {
     "end_time": "2022-09-29T20:54:14.793270Z",
     "start_time": "2022-09-29T20:54:14.789367Z"
    },
    "execution": {
     "iopub.execute_input": "2024-03-01T11:35:10.727972Z",
     "iopub.status.busy": "2024-03-01T11:35:10.727651Z",
     "iopub.status.idle": "2024-03-01T11:35:10.730634Z",
     "shell.execute_reply": "2024-03-01T11:35:10.730251Z"
    },
    "papermill": {
     "duration": 0.008974,
     "end_time": "2024-03-01T11:35:10.731571",
     "exception": false,
     "start_time": "2024-03-01T11:35:10.722597",
     "status": "completed"
    },
    "tags": [
     "parameters"
    ]
   },
   "outputs": [],
   "source": [
    "base_dir = os.path.join('/', 'home')\n",
    "metadata_file = os.path.abspath(os.path.join(base_dir, 'data', 'metadatada.tsv'))\n",
    "experiment_name = ''\n",
    "class_col = ''\n",
    "replace_files = False"
   ]
  },
  {
   "cell_type": "code",
   "execution_count": 3,
   "id": "bb82797a",
   "metadata": {
    "execution": {
     "iopub.execute_input": "2024-03-01T11:35:10.738040Z",
     "iopub.status.busy": "2024-03-01T11:35:10.737829Z",
     "iopub.status.idle": "2024-03-01T11:35:10.740639Z",
     "shell.execute_reply": "2024-03-01T11:35:10.740252Z"
    },
    "papermill": {
     "duration": 0.007113,
     "end_time": "2024-03-01T11:35:10.741580",
     "exception": false,
     "start_time": "2024-03-01T11:35:10.734467",
     "status": "completed"
    },
    "tags": [
     "injected-parameters"
    ]
   },
   "outputs": [],
   "source": [
    "# Parameters\n",
    "experiment_name = \"miliane-CxAC-trim\"\n",
    "base_dir = \"/mnt/nupeb/rede-micro/redemicro-miliane-nutri\"\n",
    "manifest_file = \"/mnt/nupeb/rede-micro/redemicro-miliane-nutri/data/raw/manifest/miliane-manifest-CxAC.csv\"\n",
    "metadata_file = \"/mnt/nupeb/rede-micro/redemicro-miliane-nutri/data/raw/metadata/miliane-metadata-CxAC.tsv\"\n",
    "class_col = \"group-id\"\n",
    "classifier_file = \"/mnt/nupeb/rede-micro/datasets/16S_classifiers_qiime2/silva-138-99-nb-classifier.qza\"\n",
    "replace_files = False\n",
    "phred = 20\n",
    "trunc_f = 0\n",
    "trunc_r = 0\n",
    "overlap = 12\n",
    "threads = 6\n",
    "trim = {\n",
    "    \"overlap\": 8,\n",
    "    \"forward_primer\": \"CCTACGGGRSGCAGCAG\",\n",
    "    \"reverse_primer\": \"GGACTACHVGGGTWTCTAAT\",\n",
    "}\n"
   ]
  },
  {
   "cell_type": "code",
   "execution_count": 4,
   "id": "f38617d9",
   "metadata": {
    "ExecuteTime": {
     "end_time": "2022-09-29T20:54:14.804575Z",
     "start_time": "2022-09-29T20:54:14.794927Z"
    },
    "execution": {
     "iopub.execute_input": "2024-03-01T11:35:10.747986Z",
     "iopub.status.busy": "2024-03-01T11:35:10.747854Z",
     "iopub.status.idle": "2024-03-01T11:35:10.750298Z",
     "shell.execute_reply": "2024-03-01T11:35:10.749915Z"
    },
    "papermill": {
     "duration": 0.006746,
     "end_time": "2024-03-01T11:35:10.751237",
     "exception": false,
     "start_time": "2024-03-01T11:35:10.744491",
     "status": "completed"
    },
    "tags": []
   },
   "outputs": [],
   "source": [
    "experiment_folder = os.path.abspath(os.path.join(base_dir, 'experiments', experiment_name))\n",
    "img_folder = os.path.abspath(os.path.join(experiment_folder, 'imgs'))"
   ]
  },
  {
   "cell_type": "markdown",
   "id": "ea9b90fb",
   "metadata": {
    "papermill": {
     "duration": 0.002871,
     "end_time": "2024-03-01T11:35:10.757041",
     "exception": false,
     "start_time": "2024-03-01T11:35:10.754170",
     "status": "completed"
    },
    "tags": []
   },
   "source": [
    "### Defining names, paths and flags"
   ]
  },
  {
   "cell_type": "code",
   "execution_count": 5,
   "id": "45727eef",
   "metadata": {
    "ExecuteTime": {
     "end_time": "2022-09-29T20:54:14.816686Z",
     "start_time": "2022-09-29T20:54:14.806238Z"
    },
    "execution": {
     "iopub.execute_input": "2024-03-01T11:35:10.763908Z",
     "iopub.status.busy": "2024-03-01T11:35:10.763694Z",
     "iopub.status.idle": "2024-03-01T11:35:10.767569Z",
     "shell.execute_reply": "2024-03-01T11:35:10.767183Z"
    },
    "papermill": {
     "duration": 0.008211,
     "end_time": "2024-03-01T11:35:10.768502",
     "exception": false,
     "start_time": "2024-03-01T11:35:10.760291",
     "status": "completed"
    },
    "tags": []
   },
   "outputs": [],
   "source": [
    "# QIIME2 Artifacts folder\n",
    "qiime_folder = os.path.join(experiment_folder, 'qiime-artifacts')\n",
    "\n",
    "# Input - DADA2 Artifacts\n",
    "dada2_tabs_path = os.path.join(qiime_folder, 'dada2-tabs.qza')\n",
    "dada2_reps_path = os.path.join(qiime_folder, 'dada2-reps.qza')\n",
    "dada2_stat_path = os.path.join(qiime_folder, 'dada2-stat.qza')\n",
    "\n",
    "# Input - Taxonaomic Artifacts\n",
    "taxonomy_path = os.path.join(qiime_folder, 'metatax.qza')\n",
    "\n",
    "# Create folder to store Alpha files\n",
    "alpha_path = os.path.join(qiime_folder, 'alpha-analysis')\n",
    "if not os.path.exists(alpha_path):\n",
    "    os.makedirs(alpha_path)\n",
    "    print(f'The new directory is created in {alpha_path}')\n",
    "    \n",
    "# Create folder to store Beta files\n",
    "beta_path = os.path.join(qiime_folder, 'beta-analysis')\n",
    "if not os.path.exists(beta_path):\n",
    "    os.makedirs(beta_path)\n",
    "    print(f'The new directory is created in {beta_path}')\n",
    "\n",
    "# Output -Diversity Artifacts\n",
    "alpha_diversity_path = os.path.join(alpha_path, 'alpha-diversity.qza')\n",
    "alpha_diversity_view_path = os.path.join(alpha_path, 'alpha-diversity.qzv')\n",
    "beta_diversity_path = os.path.join(beta_path, 'beta-diversity.qza')\n",
    "beta_diversity_view_path = os.path.join(beta_path, 'beta-diversity.qzv')"
   ]
  },
  {
   "cell_type": "code",
   "execution_count": 6,
   "id": "601ae263",
   "metadata": {
    "ExecuteTime": {
     "end_time": "2022-09-29T20:54:14.829117Z",
     "start_time": "2022-09-29T20:54:14.818272Z"
    },
    "execution": {
     "iopub.execute_input": "2024-03-01T11:35:10.775024Z",
     "iopub.status.busy": "2024-03-01T11:35:10.774891Z",
     "iopub.status.idle": "2024-03-01T11:35:10.778599Z",
     "shell.execute_reply": "2024-03-01T11:35:10.778210Z"
    },
    "papermill": {
     "duration": 0.008073,
     "end_time": "2024-03-01T11:35:10.779537",
     "exception": false,
     "start_time": "2024-03-01T11:35:10.771464",
     "status": "completed"
    },
    "tags": []
   },
   "outputs": [],
   "source": [
    "def filter_and_collapse(tab, seqs, tax, meta, lvl, exclude=True, exclude_list='uncultured,unidentified,metagenome'):\n",
    "    from qiime2.plugins.taxa.methods import collapse\n",
    "    from qiime2.plugins.taxa.methods import filter_table\n",
    "    from qiime2.plugins.feature_table.methods import filter_seqs\n",
    "    from qiime2.plugins.feature_table.visualizers import summarize\n",
    "    \n",
    "    to_include = ('d', 'p', 'c', 'o', 'f', 'g', 's')[lvl-1]\n",
    "    to_include += '__'\n",
    "    to_exclude = exclude_list if exclude else None\n",
    "    \n",
    "    filtered_tabs = filter_table(\n",
    "        table=tab, \n",
    "        taxonomy=tax,\n",
    "        include=to_include,\n",
    "        exclude=to_exclude,\n",
    "        mode='contains').filtered_table\n",
    "    \n",
    "    filtered_seqs = filter_seqs(\n",
    "        data = seqs,\n",
    "        table = filtered_tabs,\n",
    "    ).filtered_data\n",
    "    \n",
    "    collapsed_table = collapse(table=filtered_tabs, taxonomy=tax, level=lvl).collapsed_table\n",
    "    collapsed_table_view = summarize(table=collapsed_table, sample_metadata=meta).visualization\n",
    "    \n",
    "    return collapsed_table, collapsed_table_view, filtered_seqs"
   ]
  },
  {
   "cell_type": "markdown",
   "id": "0999a1b2",
   "metadata": {
    "papermill": {
     "duration": 0.002929,
     "end_time": "2024-03-01T11:35:10.785438",
     "exception": false,
     "start_time": "2024-03-01T11:35:10.782509",
     "status": "completed"
    },
    "tags": []
   },
   "source": [
    "## Step execution\n",
    "\n",
    "### Load input files\n",
    "\n",
    "This Step import the QIIME2 `FeatureTable[Frequency]` Artifact and the `Metadata` file."
   ]
  },
  {
   "cell_type": "code",
   "execution_count": 7,
   "id": "8f299d1a",
   "metadata": {
    "ExecuteTime": {
     "end_time": "2022-09-29T20:54:15.559837Z",
     "start_time": "2022-09-29T20:54:14.830405Z"
    },
    "execution": {
     "iopub.execute_input": "2024-03-01T11:35:10.792803Z",
     "iopub.status.busy": "2024-03-01T11:35:10.792554Z",
     "iopub.status.idle": "2024-03-01T11:35:11.309266Z",
     "shell.execute_reply": "2024-03-01T11:35:11.308772Z"
    },
    "papermill": {
     "duration": 0.521944,
     "end_time": "2024-03-01T11:35:11.310435",
     "exception": false,
     "start_time": "2024-03-01T11:35:10.788491",
     "status": "completed"
    },
    "tags": []
   },
   "outputs": [],
   "source": [
    "#Load Metadata\n",
    "metadata_qa = Metadata.load(metadata_file)\n",
    "\n",
    "#Load FeatureTable[Frequency]\n",
    "tabs = Artifact.load(dada2_tabs_path)\n",
    "tabs_df = tabs.view(Metadata).to_dataframe().T\n",
    "\n",
    "# FeatureData[Sequence]\n",
    "reps = Artifact.load(dada2_reps_path)\n",
    "\n",
    "# FeatureData[Taxonomy]\n",
    "tax = Artifact.load(taxonomy_path)"
   ]
  },
  {
   "cell_type": "code",
   "execution_count": 8,
   "id": "c8dfe530",
   "metadata": {
    "ExecuteTime": {
     "end_time": "2022-09-29T20:54:15.564968Z",
     "start_time": "2022-09-29T20:54:15.561875Z"
    },
    "execution": {
     "iopub.execute_input": "2024-03-01T11:35:11.317939Z",
     "iopub.status.busy": "2024-03-01T11:35:11.317754Z",
     "iopub.status.idle": "2024-03-01T11:35:11.636003Z",
     "shell.execute_reply": "2024-03-01T11:35:11.635546Z"
    },
    "papermill": {
     "duration": 0.323259,
     "end_time": "2024-03-01T11:35:11.637044",
     "exception": false,
     "start_time": "2024-03-01T11:35:11.313785",
     "status": "completed"
    },
    "tags": []
   },
   "outputs": [
    {
     "name": "stderr",
     "output_type": "stream",
     "text": [
      "/home/lauro/anaconda3/envs/qiime2-2023.5/lib/python3.8/site-packages/q2_types/feature_data/_transformer.py:258: FutureWarning: iteritems is deprecated and will be removed in a future version. Use .items instead.\n",
      "  for id_, seq in data.iteritems():\n"
     ]
    }
   ],
   "source": [
    "# Filter FeatureTable[Frequency | RelativeFrequency | PresenceAbsence | Composition] based on Metadata sample ID values\n",
    "tabs = filter_samples(\n",
    "    table=tabs,\n",
    "    metadata=metadata_qa,\n",
    ").filtered_table\n",
    "# Filter SampleData[SequencesWithQuality | PairedEndSequencesWithQuality | JoinedSequencesWithQuality] based on Metadata sample ID values; returns FeatureData[Sequence | AlignedSequence]\n",
    "reps = filter_seqs(\n",
    "    data=reps,\n",
    "    table=tabs,\n",
    ").filtered_data"
   ]
  },
  {
   "cell_type": "markdown",
   "id": "9f43843a",
   "metadata": {
    "ExecuteTime": {
     "end_time": "2022-09-22T22:48:07.523952Z",
     "start_time": "2022-09-22T22:48:07.517565Z"
    },
    "papermill": {
     "duration": 0.00323,
     "end_time": "2024-03-01T11:35:11.643730",
     "exception": false,
     "start_time": "2024-03-01T11:35:11.640500",
     "status": "completed"
    },
    "tags": []
   },
   "source": [
    "## Alpha diversity analysis\n",
    "\n",
    "#### Reference\n",
    "- [The Use and Types of Alpha-Diversity Metrics in Microbial NGS](https://www.cd-genomics.com/microbioseq/the-use-and-types-of-alpha-diversity-metrics-in-microbial-ngs.html)\n",
    "- [Alpha diversity metrics](http://scikit-bio.org/docs/0.2.0/generated/skbio.diversity.alpha.html)\n",
    "\n",
    "#### Methods\n",
    "- [diversity alpha](https://docs.qiime2.org/2022.8/plugins/available/diversity/alpha/): Computes a user-specified alpha diversity metric for all samples in a\n",
    "feature table.\n",
    "- [diversity alpha_phylogenetic](https://docs.qiime2.org/2022.8/plugins/available/diversity/alpha-phylogenetic/): Computes a user-specified phylogenetic alpha diversity metric for all\n",
    "samples in a feature table.\n",
    "- [diversity alpha_correlation](https://docs.qiime2.org/2022.8/plugins/available/diversity/alpha-correlation/): Determine whether numeric sample metadata columns are correlated with alpha diversity.\n",
    "- [diversity alpha_group_significance](https://docs.qiime2.org/2022.8/plugins/available/diversity/alpha-group-significance/): Visually and statistically compare groups of alpha diversity values."
   ]
  },
  {
   "cell_type": "markdown",
   "id": "606b9c75",
   "metadata": {
    "papermill": {
     "duration": 0.00301,
     "end_time": "2024-03-01T11:35:11.651568",
     "exception": false,
     "start_time": "2024-03-01T11:35:11.648558",
     "status": "completed"
    },
    "tags": []
   },
   "source": [
    "### Compute Alpha Diversity vectors\n",
    "- [diversity alpha](https://docs.qiime2.org/2022.8/plugins/available/diversity/alpha/): Computes a user-specified alpha diversity metric for all samples in a feature table.\n",
    "- [Alpha diversity metrics](http://scikit-bio.org/docs/0.2.0/generated/skbio.diversity.alpha.html)\n",
    " - Choices: ('ace', 'berger_parker_d', 'brillouin_d', 'chao1', 'chao1_ci', 'dominance', 'doubles', 'enspie', 'esty_ci', 'fisher_alpha', 'gini_index', 'goods_coverage', 'heip_e', 'kempton_taylor_q', 'lladser_pe', 'margalef', 'mcintosh_d', 'mcintosh_e', 'menhinick', 'michaelis_menten_fit', 'observed_features', 'osd', 'pielou_e', 'robbins', 'shannon', 'simpson', 'simpson_e', 'singles', 'strong')"
   ]
  },
  {
   "cell_type": "code",
   "execution_count": 9,
   "id": "556e5264",
   "metadata": {
    "ExecuteTime": {
     "end_time": "2022-09-29T20:54:20.790166Z",
     "start_time": "2022-09-29T20:54:20.451134Z"
    },
    "execution": {
     "iopub.execute_input": "2024-03-01T11:35:11.658872Z",
     "iopub.status.busy": "2024-03-01T11:35:11.658455Z",
     "iopub.status.idle": "2024-03-01T11:35:12.026306Z",
     "shell.execute_reply": "2024-03-01T11:35:12.025784Z"
    },
    "papermill": {
     "duration": 0.372658,
     "end_time": "2024-03-01T11:35:12.027275",
     "exception": false,
     "start_time": "2024-03-01T11:35:11.654617",
     "status": "completed"
    },
    "tags": []
   },
   "outputs": [
    {
     "name": "stdout",
     "output_type": "stream",
     "text": [
      "Calculating alpha diversity: chao1\n",
      "DONE: Calculating alpha diversity: chao1\n",
      "Calculating alpha diversity: chao1_ci\n",
      "DONE: Calculating alpha diversity: chao1_ci\n",
      "Calculating alpha diversity: observed_features\n",
      "DONE: Calculating alpha diversity: observed_features\n",
      "Calculating alpha diversity: shannon\n"
     ]
    },
    {
     "name": "stdout",
     "output_type": "stream",
     "text": [
      "DONE: Calculating alpha diversity: shannon\n",
      "Calculating alpha diversity: simpson\n",
      "DONE: Calculating alpha diversity: simpson\n",
      "Calculating alpha diversity: simpson_e\n",
      "DONE: Calculating alpha diversity: simpson_e\n"
     ]
    }
   ],
   "source": [
    "metrics = ('ace', 'berger_parker_d', 'brillouin_d', 'chao1', 'chao1_ci', 'dominance', 'doubles', 'enspie', 'esty_ci', 'fisher_alpha', 'gini_index', 'goods_coverage', 'heip_e', 'kempton_taylor_q', 'lladser_pe', 'margalef', 'mcintosh_d', 'mcintosh_e', 'menhinick', 'michaelis_menten_fit', 'observed_features', 'osd', 'pielou_e', 'robbins', 'shannon', 'simpson', 'simpson_e', 'singles', 'strong')\n",
    "\n",
    "# Sugestão de valores para Alpha diversity\n",
    "# chao1 e observed_features (riqueza); shannon e simpson (diversidade - que levam em consideração riqueza e equitabilidade).\n",
    "metrics = ('chao1', 'chao1_ci', 'observed_features', 'shannon', 'simpson', 'simpson_e')\n",
    "alpha_diversities = dict()\n",
    "for metric in metrics:\n",
    "    print(f\"Calculating alpha diversity: {metric}\")\n",
    "    try:\n",
    "        alpha_diversity = alpha(table=tabs, metric=metric).alpha_diversity\n",
    "        alpha_diversities[metric] = alpha_diversity\n",
    "        # Save SampleData[AlphaDiversity] Artifact\n",
    "        file_path = os.path.join(alpha_path, f'alpha-values-{metric}.qza')\n",
    "        alpha_diversity.save(file_path)\n",
    "        print(f\"DONE: Calculating alpha diversity: {metric}\")\n",
    "    except Exception as e:\n",
    "        print(f\"ERROR: Calculating alpha diversity: {metric}\")\n",
    "        print(e)"
   ]
  },
  {
   "cell_type": "markdown",
   "id": "184bcb7b",
   "metadata": {
    "papermill": {
     "duration": 0.003132,
     "end_time": "2024-03-01T11:35:12.033790",
     "exception": false,
     "start_time": "2024-03-01T11:35:12.030658",
     "status": "completed"
    },
    "tags": []
   },
   "source": [
    "### Create Phylogenetic inference\n",
    "\n",
    "- [alignment align_to_tree_mafft_fasttree](https://docs.qiime2.org/2022.8/plugins/available/phylogeny/align-to-tree-mafft-fasttree/): Build a phylogenetic tree using fasttree and mafft alignment\n",
    "\n",
    "This pipeline will start by creating a sequence alignment using MAFFT,\n",
    "after which any alignment columns that are phylogenetically uninformative\n",
    "or ambiguously aligned will be removed (masked). The resulting masked\n",
    "alignment will be used to infer a phylogenetic tree and then subsequently\n",
    "rooted at its midpoint. Output files from each step of the pipeline will be\n",
    "saved. This includes both the unmasked and masked MAFFT alignment from\n",
    "q2-alignment methods, and both the rooted and unrooted phylogenies from\n",
    "q2-phylogeny methods.\n",
    "\n",
    "\n",
    "Returns\n",
    "- alignment : FeatureData[AlignedSequence] : The aligned sequences.\n",
    "- masked_alignment : FeatureData[AlignedSequence] : The masked alignment.\n",
    "- tree : Phylogeny[Unrooted] : The unrooted phylogenetic tree.\n",
    "- rooted_tree : Phylogeny[Rooted] : The rooted phylogenetic tree."
   ]
  },
  {
   "cell_type": "code",
   "execution_count": 10,
   "id": "9c8cfe47",
   "metadata": {
    "ExecuteTime": {
     "end_time": "2022-09-29T20:54:35.139531Z",
     "start_time": "2022-09-29T20:54:20.792130Z"
    },
    "execution": {
     "iopub.execute_input": "2024-03-01T11:35:12.041121Z",
     "iopub.status.busy": "2024-03-01T11:35:12.040948Z",
     "iopub.status.idle": "2024-03-01T11:35:19.634865Z",
     "shell.execute_reply": "2024-03-01T11:35:19.634237Z"
    },
    "papermill": {
     "duration": 7.599125,
     "end_time": "2024-03-01T11:35:19.636123",
     "exception": false,
     "start_time": "2024-03-01T11:35:12.036998",
     "status": "completed"
    },
    "tags": []
   },
   "outputs": [
    {
     "name": "stdout",
     "output_type": "stream",
     "text": [
      "Running external command line application. This may print messages to stdout and/or stderr.\n",
      "The command being run is below. This command cannot be manually re-run as it will depend on temporary files that no longer exist.\n",
      "\n",
      "Command: mafft --preservecase --inputorder --thread 6 /tmp/qiime2/lauro/data/f2c8156b-7d85-43eb-ba07-e9cd65294dd4/data/dna-sequences.fasta\n",
      "\n"
     ]
    },
    {
     "name": "stderr",
     "output_type": "stream",
     "text": [
      "inputfile = orig\n",
      "904 x 430 - 181 d\n",
      "nthread = 6\n",
      "nthreadpair = 6\n",
      "nthreadtb = 6\n",
      "ppenalty_ex = 0\n",
      "stacksize: 8192 kb\n",
      "generating a scoring matrix for nucleotide (dist=200) ... done\n",
      "Gap Penalty = -1.53, +0.00, +0.00\n",
      "\n",
      "\n",
      "\n",
      "Making a distance matrix ..\n",
      "\r",
      "    1 / 904 (thread    2)\r",
      "  101 / 904 (thread    3)\r",
      "  201 / 904 (thread    2)\r",
      "  301 / 904 (thread    2)\r",
      "  401 / 904 (thread    2)\r",
      "  501 / 904 (thread    5)\r",
      "  601 / 904 (thread    2)\r",
      "  701 / 904 (thread    3)\r",
      "  801 / 904 (thread    2)\r",
      "  901 / 904 (thread    0)\n",
      "done.\n",
      "\n",
      "Constructing a UPGMA tree (efffree=0) ... \n",
      "\r",
      "    0 / 904\r",
      "   10 / 904\r",
      "   20 / 904\r",
      "   30 / 904\r",
      "   40 / 904\r",
      "   50 / 904\r",
      "   60 / 904\r",
      "   70 / 904\r",
      "   80 / 904\r",
      "   90 / 904\r",
      "  100 / 904\r",
      "  110 / 904\r",
      "  120 / 904\r",
      "  130 / 904\r",
      "  140 / 904\r",
      "  150 / 904\r",
      "  160 / 904\r",
      "  170 / 904\r",
      "  180 / 904\r",
      "  190 / 904\r",
      "  200 / 904\r",
      "  210 / 904\r",
      "  220 / 904\r",
      "  230 / 904\r",
      "  240 / 904\r",
      "  250 / 904\r",
      "  260 / 904\r",
      "  270 / 904\r",
      "  280 / 904\r",
      "  290 / 904\r",
      "  300 / 904\r",
      "  310 / 904\r",
      "  320 / 904\r",
      "  330 / 904\r",
      "  340 / 904\r",
      "  350 / 904\r",
      "  360 / 904\r",
      "  370 / 904\r",
      "  380 / 904\r",
      "  390 / 904\r",
      "  400 / 904\r",
      "  410 / 904\r",
      "  420 / 904\r",
      "  430 / 904\r",
      "  440 / 904\r",
      "  450 / 904\r",
      "  460 / 904\r",
      "  470 / 904\r",
      "  480 / 904\r",
      "  490 / 904\r",
      "  500 / 904\r",
      "  510 / 904\r",
      "  520 / 904\r",
      "  530 / 904\r",
      "  540 / 904\r",
      "  550 / 904\r",
      "  560 / 904\r",
      "  570 / 904\r",
      "  580 / 904\r",
      "  590 / 904\r",
      "  600 / 904\r",
      "  610 / 904\r",
      "  620 / 904\r",
      "  630 / 904\r",
      "  640 / 904\r",
      "  650 / 904\r",
      "  660 / 904\r",
      "  670 / 904\r",
      "  680 / 904\r",
      "  690 / 904\r",
      "  700 / 904\r",
      "  710 / 904\r",
      "  720 / 904\r",
      "  730 / 904\r",
      "  740 / 904\r",
      "  750 / 904\r",
      "  760 / 904\r",
      "  770 / 904\r",
      "  780 / 904\r",
      "  790 / 904\r",
      "  800 / 904\r",
      "  810 / 904\r",
      "  820 / 904\r",
      "  830 / 904\r",
      "  840 / 904\r",
      "  850 / 904\r",
      "  860 / 904\r",
      "  870 / 904\r",
      "  880 / 904\r",
      "  890 / 904\r",
      "  900 / 904\n",
      "done.\n",
      "\n",
      "Progressive alignment 1/2... \n",
      "\r",
      "STEP     1 / 903 (thread    0) f\b\b\r",
      "STEP     2 / 903 (thread    1) f\b\b\r",
      "STEP     4 / 903 (thread    4) f\b\b\r",
      "STEP     5 / 903 (thread    5) f\b\b\r",
      "STEP     6 / 903 (thread    3) f\b\b\r",
      "STEP     7 / 903 (thread    4) f\b\b\r",
      "STEP     8 / 903 (thread    5) f\b\b\r",
      "STEP     9 / 903 (thread    3) f\b\b\r",
      "STEP    10 / 903 (thread    4) f\b\b\r",
      "STEP    11 / 903 (thread    1) f\b\b\r",
      "STEP     3 / 903 (thread    2) f\b\b\r",
      "STEP    12 / 903 (thread    0) f\b\b\r",
      "STEP    13 / 903 (thread    4) f\b\b\r",
      "STEP    14 / 903 (thread    1) f\b\b\r",
      "STEP    15 / 903 (thread    5) f\b\b\r",
      "STEP    16 / 903 (thread    3) f\b\b\r",
      "STEP    17 / 903 (thread    0) f\b\b\r",
      "STEP    18 / 903 (thread    4) f\b\b\r",
      "STEP    19 / 903 (thread    1) f\b\b\r",
      "STEP    20 / 903 (thread    5) f\b\b\r",
      "STEP    21 / 903 (thread    3) f\b\b\r",
      "STEP    22 / 903 (thread    0) f\b\b\r",
      "STEP    23 / 903 (thread    4) f\b\b\r",
      "STEP    24 / 903 (thread    1) f\b\b\r",
      "STEP    25 / 903 (thread    2) f\b\b\r",
      "STEP    26 / 903 (thread    5) f\b\b\r",
      "STEP    27 / 903 (thread    3) f\b\b\r",
      "STEP    28 / 903 (thread    0) f\b\b\r",
      "STEP    29 / 903 (thread    4) f\b\b\r",
      "STEP    30 / 903 (thread    1) f\b\b\r",
      "STEP    31 / 903 (thread    5) f\b\b\r",
      "STEP    32 / 903 (thread    3) f\b\b\r",
      "STEP    33 / 903 (thread    0) f\b\b\r",
      "STEP    34 / 903 (thread    2) f\b\b\r",
      "STEP    35 / 903 (thread    4) f\b\b\r",
      "STEP    36 / 903 (thread    1) f\b\b\r",
      "STEP    37 / 903 (thread    5) f\b\b\r",
      "STEP    38 / 903 (thread    3) f\b\b\r",
      "STEP    39 / 903 (thread    0) f\b\b\r",
      "STEP    40 / 903 (thread    2) f\b\b\r",
      "STEP    41 / 903 (thread    4) f\b\b\r",
      "STEP    42 / 903 (thread    1) f\b\b\r",
      "STEP    43 / 903 (thread    5) f\b\b\r",
      "STEP    44 / 903 (thread    0) f\b\b\r",
      "STEP    45 / 903 (thread    2) f\b\b\r",
      "STEP    46 / 903 (thread    3) f\b\b\r",
      "STEP    47 / 903 (thread    4) f\b\b\r",
      "STEP    48 / 903 (thread    1) f\b\b\r",
      "STEP    49 / 903 (thread    5) f\b\b\r",
      "STEP    50 / 903 (thread    0) f\b\b\r",
      "STEP    51 / 903 (thread    2) f\b\b\r",
      "STEP    52 / 903 (thread    3) f\b\b\r",
      "STEP    53 / 903 (thread    4) f\b\b\r",
      "STEP    54 / 903 (thread    1) f\b\b\r",
      "STEP    55 / 903 (thread    0) f\b\b\r",
      "STEP    56 / 903 (thread    5) f\b\b\r",
      "STEP    57 / 903 (thread    2) f\b\b\r",
      "STEP    58 / 903 (thread    3) f\b\b\r",
      "STEP    59 / 903 (thread    4) f\b\b\r",
      "STEP    60 / 903 (thread    1) f\b\b\r",
      "STEP    61 / 903 (thread    3) f\b\b\r",
      "STEP    62 / 903 (thread    0) f\b\b\r",
      "STEP    63 / 903 (thread    5) f\b\b\r",
      "STEP    64 / 903 (thread    2) f\b\b\r",
      "STEP    65 / 903 (thread    4) f\b\b\r",
      "STEP    66 / 903 (thread    0) f\b\b\r",
      "STEP    67 / 903 (thread    5) f\b\b\r",
      "STEP    68 / 903 (thread    2) f\b\b\r",
      "STEP    69 / 903 (thread    4) f\b\b\r",
      "STEP    70 / 903 (thread    1) f\b\b\r",
      "STEP    71 / 903 (thread    2) f\b\b\r",
      "STEP    72 / 903 (thread    0) f\b\b\r",
      "STEP    73 / 903 (thread    5) f\b\b\r",
      "STEP    74 / 903 (thread    4) f\b\b\r",
      "STEP    75 / 903 (thread    3) f\b\b\r",
      "STEP    76 / 903 (thread    1) f\b\b\r",
      "STEP    77 / 903 (thread    2) f\b\b\r",
      "STEP    78 / 903 (thread    0) f\b\b\r",
      "STEP    79 / 903 (thread    5) f\b\b\r",
      "STEP    80 / 903 (thread    4) f\b\b\r",
      "STEP    81 / 903 (thread    3) f\b\b\r",
      "STEP    82 / 903 (thread    1) f\b\b\r",
      "STEP    83 / 903 (thread    2) f\b\b\r",
      "STEP    84 / 903 (thread    5) f\b\b\r",
      "STEP    85 / 903 (thread    0) f\b\b\r",
      "STEP    86 / 903 (thread    4) f\b\b\r",
      "STEP    87 / 903 (thread    3) f\b\b\r",
      "STEP    88 / 903 (thread    1) f\b\b\r",
      "STEP    89 / 903 (thread    2) f\b\b\r",
      "STEP    90 / 903 (thread    0) f\b\b\r",
      "STEP    91 / 903 (thread    5) f\b\b\r",
      "STEP    92 / 903 (thread    4) f\b\b\r",
      "STEP    93 / 903 (thread    3) f\b\b\r",
      "STEP    94 / 903 (thread    1) f\b\b\r",
      "STEP    95 / 903 (thread    2) f\b\b\r",
      "STEP    96 / 903 (thread    5) f\b\b\r",
      "STEP    97 / 903 (thread    0) f\b\b\r",
      "STEP    98 / 903 (thread    3) f\b\b\r",
      "STEP    99 / 903 (thread    1) f\b\b\r",
      "STEP   100 / 903 (thread    4) f\b\b\r",
      "STEP   101 / 903 (thread    2) f\b\b\r",
      "STEP   102 / 903 (thread    0) f\b\b\r",
      "STEP   103 / 903 (thread    5) f\b\b\r",
      "STEP   104 / 903 (thread    3) f\b\b\r",
      "STEP   105 / 903 (thread    1) f\b\b\r",
      "STEP   106 / 903 (thread    4) f\b\b\r",
      "STEP   107 / 903 (thread    2) f\b\b\r",
      "STEP   108 / 903 (thread    5) f\b\b\r",
      "STEP   109 / 903 (thread    0) f\b\b\r",
      "STEP   110 / 903 (thread    3) f\b\b\r",
      "STEP   111 / 903 (thread    1) f\b\b\r",
      "STEP   112 / 903 (thread    4) f\b\b\r",
      "STEP   113 / 903 (thread    2) f\b\b\r",
      "STEP   114 / 903 (thread    0) f\b\b\r",
      "STEP   115 / 903 (thread    5) f\b\b\r",
      "STEP   116 / 903 (thread    3) f\b\b\r",
      "STEP   117 / 903 (thread    1) f\b\b\r",
      "STEP   118 / 903 (thread    2) f\b\b\r",
      "STEP   119 / 903 (thread    4) f\b\b\r",
      "STEP   120 / 903 (thread    5)\r",
      "STEP   121 / 903 (thread    0) f\b\b f\b\b\r",
      "STEP   122 / 903 (thread    3) f\b\b\r",
      "STEP   123 / 903 (thread    1) f\b\b\r",
      "STEP   124 / 903 (thread    2) f\b\b\r",
      "STEP   125 / 903 (thread    4) f\b\b\r",
      "STEP   126 / 903 (thread    5) f\b\b\r",
      "STEP   127 / 903 (thread    0) f\b\b\r",
      "STEP   128 / 903 (thread    3) f\b\b\r",
      "STEP   129 / 903 (thread    1) f\b\b\r",
      "STEP   130 / 903 (thread    2) f\b\b\r",
      "STEP   132 / 903 (thread    4) f\b\b\r",
      "STEP   133 / 903 (thread    0) f\b\b\r",
      "STEP   134 / 903 (thread    5) f\b\b\r",
      "STEP   135 / 903 (thread    1) f\b\b\r",
      "STEP   136 / 903 (thread    2) f\b\b\r",
      "STEP   131 / 903 (thread    3) f\b\b\r",
      "STEP   137 / 903 (thread    4) f\b\b\r",
      "STEP   138 / 903 (thread    0) f\b\b\r",
      "STEP   139 / 903 (thread    5) f\b\b\r",
      "STEP   140 / 903 (thread    1) f\b\b\r",
      "STEP   141 / 903 (thread    5) f\b\b\r",
      "STEP   142 / 903 (thread    1) f\b\b\r",
      "STEP   143 / 903 (thread    3) f\b\b\r",
      "STEP   144 / 903 (thread    2) f\b\b\r",
      "STEP   145 / 903 (thread    4) f\b\b\r",
      "STEP   146 / 903 (thread    5) f\b\b\r",
      "STEP   147 / 903 (thread    0) f\b\b\r",
      "STEP   148 / 903 (thread    3) f\b\b\r",
      "STEP   149 / 903 (thread    2) f\b\b\r",
      "STEP   150 / 903 (thread    4) f\b\b\r",
      "STEP   151 / 903 (thread    5) f\b\b\r",
      "STEP   152 / 903 (thread    0) f\b\b\r",
      "STEP   153 / 903 (thread    1) f\b\b\r",
      "STEP   154 / 903 (thread    3) f\b\b\r",
      "STEP   155 / 903 (thread    2) f\b\b\r",
      "STEP   156 / 903 (thread    4) f\b\b\r",
      "STEP   157 / 903 (thread    0) f\b\b\r",
      "STEP   158 / 903 (thread    1) f\b\b\r",
      "STEP   159 / 903 (thread    3) f\b\b\r",
      "STEP   160 / 903 (thread    5) f\b\b\r",
      "STEP   161 / 903 (thread    4) f\b\b\r",
      "STEP   162 / 903 (thread    1) f\b\b\r",
      "STEP   163 / 903 (thread    2) f\b\b\r",
      "STEP   164 / 903 (thread    3) f\b\b\r",
      "STEP   165 / 903 (thread    0) f\b\b\r",
      "STEP   166 / 903 (thread    5) f\b\b\r",
      "STEP   167 / 903 (thread    4) f\b\b\r",
      "STEP   168 / 903 (thread    3) f\b\b\r",
      "STEP   169 / 903 (thread    1) f\b\b\r",
      "STEP   170 / 903 (thread    0) f\b\b\r",
      "STEP   171 / 903 (thread    2) f\b\b\r",
      "STEP   172 / 903 (thread    4) f\b\b\r",
      "STEP   173 / 903 (thread    3) f\b\b\r",
      "STEP   175 / 903 (thread    5) f\b\b\r",
      "STEP   176 / 903 (thread    5) f\b\b\r",
      "STEP   177 / 903 (thread    2) f\b\b\r",
      "STEP   174 / 903 (thread    1) f\b\b\r",
      "STEP   178 / 903 (thread    3) f\b\b\r",
      "STEP   179 / 903 (thread    0) f\b\b\r",
      "STEP   180 / 903 (thread    4) f\b\b\r",
      "STEP   181 / 903 (thread    5) f\b\b\r",
      "STEP   182 / 903 (thread    3) f\b\b\r",
      "STEP   183 / 903 (thread    0) f\b\b\r",
      "STEP   184 / 903 (thread    4) f\b\b\r",
      "STEP   186 / 903 (thread    1) f\b\b\r",
      "STEP   187 / 903 (thread    3) f\b\b\r",
      "STEP   185 / 903 (thread    2) f\b\b\r",
      "STEP   188 / 903 (thread    5) f\b\b\r",
      "STEP   189 / 903 (thread    0) f\b\b\r",
      "STEP   190 / 903 (thread    1) f\b\b\r",
      "STEP   191 / 903 (thread    3) f\b\b\r",
      "STEP   192 / 903 (thread    5) f\b\b\r",
      "STEP   193 / 903 (thread    4) f\b\b\r",
      "STEP   194 / 903 (thread    2) f\b\b\r",
      "STEP   195 / 903 (thread    4) f\b\b\r",
      "STEP   196 / 903 (thread    0) f\b\b\r",
      "STEP   197 / 903 (thread    2) f\b\b\r",
      "STEP   198 / 903 (thread    1) f\b\b\r",
      "STEP   199 / 903 (thread    3) f\b\b\r",
      "STEP   200 / 903 (thread    4) f\b\b\r",
      "STEP   201 / 903 (thread    0) f\b\b\r",
      "STEP   202 / 903 (thread    5) f\b\b\r",
      "STEP   203 / 903 (thread    2) f\b\b\r",
      "STEP   204 / 903 (thread    1) f\b\b\r",
      "STEP   205 / 903 (thread    3) f\b\b\r",
      "STEP   206 / 903 (thread    4) f\b\b\r",
      "STEP   207 / 903 (thread    0) f\b\b\r",
      "STEP   208 / 903 (thread    5) f\b\b\r",
      "STEP   209 / 903 (thread    2) f\b\b\r",
      "STEP   210 / 903 (thread    3) f\b\b\r",
      "STEP   211 / 903 (thread    4) f\b\b\r",
      "STEP   212 / 903 (thread    0) f\b\b\r",
      "STEP   213 / 903 (thread    5) f\b\b\r",
      "STEP   214 / 903 (thread    2) f\b\b\r",
      "STEP   215 / 903 (thread    3) f\b\b\r",
      "STEP   216 / 903 (thread    1) f\b\b\r",
      "STEP   217 / 903 (thread    4) f\b\b\r",
      "STEP   218 / 903 (thread    0) f\b\b\r",
      "STEP   219 / 903 (thread    5) f\b\b\r",
      "STEP   220 / 903 (thread    2) f\b\b\r",
      "STEP   221 / 903 (thread    3) f\b\b\r",
      "STEP   222 / 903 (thread    1) f\b\b\r",
      "STEP   223 / 903 (thread    4) f\b\b\r",
      "STEP   224 / 903 (thread    0) f\b\b\r",
      "STEP   226 / 903 (thread    2) f\b\b\r",
      "STEP   227 / 903 (thread    3) f\b\b\r",
      "STEP   228 / 903 (thread    1) f\b\b\r",
      "STEP   229 / 903 (thread    0) f\b\b\r",
      "STEP   225 / 903 (thread    5) f\b\b\r",
      "STEP   231 / 903 (thread    2) f\b\b\r",
      "STEP   232 / 903 (thread    1) f\b\b\r",
      "STEP   233 / 903 (thread    3) f\b\b\r",
      "STEP   230 / 903 (thread    4) f\b\b\r",
      "STEP   234 / 903 (thread    0) f\b\b\r",
      "STEP   235 / 903 (thread    5) f\b\b\r",
      "STEP   236 / 903 (thread    1) f\b\b\r",
      "STEP   237 / 903 (thread    3) f\b\b\r",
      "STEP   238 / 903 (thread    2) f\b\b\r",
      "STEP   239 / 903 (thread    5) f\b\b\r",
      "STEP   240 / 903 (thread    0) f\b\b\r",
      "STEP   241 / 903 (thread    3) f\b\b\r",
      "STEP   242 / 903 (thread    1) f\b\b\r",
      "STEP   243 / 903 (thread    4) f\b\b\r",
      "STEP   244 / 903 (thread    4) f\b\b\r",
      "STEP   245 / 903 (thread    2) f\b\b\r",
      "STEP   246 / 903 (thread    0) f\b\b\r",
      "STEP   247 / 903 (thread    5) f\b\b\r",
      "STEP   248 / 903 (thread    3) f\b\b\r",
      "STEP   249 / 903 (thread    1) f\b\b\r",
      "STEP   250 / 903 (thread    0) f\b\b\r",
      "STEP   251 / 903 (thread    4)\r",
      "STEP   252 / 903 (thread    5) f\b\b f\b\b\r",
      "STEP   253 / 903 (thread    3) f\b\b\r",
      "STEP   254 / 903 (thread    2) f\b\b\r",
      "STEP   255 / 903 (thread    4) f\b\b\r",
      "STEP   256 / 903 (thread    3) f\b\b\r",
      "STEP   257 / 903 (thread    5) f\b\b\r",
      "STEP   258 / 903 (thread    1) f\b\b\r",
      "STEP   259 / 903 (thread    2) f\b\b\r",
      "STEP   260 / 903 (thread    4) f\b\b\r",
      "STEP   261 / 903 (thread    0) f\b\b\r",
      "STEP   262 / 903 (thread    3) f\b\b\r",
      "STEP   263 / 903 (thread    2) f\b\b\r",
      "STEP   264 / 903 (thread    1) f\b\b\r",
      "STEP   265 / 903 (thread    5) f\b\b\r",
      "STEP   266 / 903 (thread    2) f\b\b\r",
      "STEP   267 / 903 (thread    4) f\b\b\r",
      "STEP   268 / 903 (thread    5) f\b\b\r",
      "STEP   269 / 903 (thread    0) f\b\b\r",
      "STEP   270 / 903 (thread    3) f\b\b\r",
      "STEP   271 / 903 (thread    1) f\b\b\r",
      "STEP   272 / 903 (thread    2) f\b\b\r",
      "STEP   273 / 903 (thread    4) f\b\b\r",
      "STEP   274 / 903 (thread    1) f\b\b\r",
      "STEP   275 / 903 (thread    5) f\b\b\r",
      "STEP   276 / 903 (thread    3) f\b\b\r",
      "STEP   277 / 903 (thread    0) f\b\b\r",
      "STEP   278 / 903 (thread    2) f\b\b\r",
      "STEP   279 / 903 (thread    1) f\b\b\r",
      "STEP   280 / 903 (thread    3) f\b\b\r",
      "STEP   281 / 903 (thread    5) f\b\b\r",
      "STEP   282 / 903 (thread    1) f\b\b\r",
      "STEP   283 / 903 (thread    3) f\b\b\r",
      "STEP   284 / 903 (thread    4) f\b\b\r",
      "STEP   285 / 903 (thread    0) f\b\b\r",
      "STEP   286 / 903 (thread    5) f\b\b\r",
      "STEP   287 / 903 (thread    4) f\b\b\r",
      "STEP   288 / 903 (thread    1) f\b\b\r",
      "STEP   289 / 903 (thread    3) f\b\b\r",
      "STEP   290 / 903 (thread    2) f\b\b\r",
      "STEP   291 / 903 (thread    0) f\b\b\r",
      "STEP   293 / 903 (thread    1) f\b\b\r",
      "STEP   294 / 903 (thread    3) f\b\b\r",
      "STEP   295 / 903 (thread    2) f\b\b\r",
      "STEP   296 / 903 (thread    2) f\b\b\r",
      "STEP   297 / 903 (thread    5) f\b\b\r",
      "STEP   292 / 903 (thread    4) f\b\b\r",
      "STEP   298 / 903 (thread    0) f\b\b\r",
      "STEP   299 / 903 (thread    2) f\b\b\r",
      "STEP   300 / 903 (thread    1) f\b\b\r",
      "STEP   301 / 903 (thread    3) f\b\b\r",
      "STEP   302 / 903 (thread    2) f\b\b\r",
      "STEP   303 / 903 (thread    5) f\b\b\r",
      "STEP   304 / 903 (thread    0) f\b\b\r",
      "STEP   305 / 903 (thread    4) f\b\b\r",
      "STEP   306 / 903 (thread    1) f\b\b\r",
      "STEP   307 / 903 (thread    3) f\b\b\r",
      "STEP   308 / 903 (thread    2) f\b\b\r",
      "STEP   309 / 903 (thread    5) f\b\b\r",
      "STEP   310 / 903 (thread    2) f\b\b\r",
      "STEP   311 / 903 (thread    4) f\b\b\r",
      "STEP   312 / 903 (thread    1) f\b\b\r",
      "STEP   313 / 903 (thread    5) f\b\b\r",
      "STEP   314 / 903 (thread    0) f\b\b\r",
      "STEP   315 / 903 (thread    4) f\b\b\r",
      "STEP   316 / 903 (thread    3) f\b\b\r",
      "STEP   317 / 903 (thread    1) f\b\b\r",
      "STEP   318 / 903 (thread    5) f\b\b\r",
      "STEP   319 / 903 (thread    0) f\b\b\r",
      "STEP   320 / 903 (thread    2) f\b\b\r",
      "STEP   321 / 903 (thread    4) f\b\b\r",
      "STEP   322 / 903 (thread    3) f\b\b\r",
      "STEP   323 / 903 (thread    0) f\b\b\r",
      "STEP   326 / 903 (thread    2) f\b\b\r",
      "STEP   324 / 903 (thread    4) f\b\b\r",
      "STEP   327 / 903 (thread    5) f\b\b\r",
      "STEP   325 / 903 (thread    1) f\b\b\r",
      "STEP   328 / 903 (thread    3) f\b\b\r",
      "STEP   329 / 903 (thread    0) f\b\b\r",
      "STEP   330 / 903 (thread    4) f\b\b\r",
      "STEP   331 / 903 (thread    2) f\b\b\r",
      "STEP   332 / 903 (thread    5) f\b\b\r",
      "STEP   333 / 903 (thread    1) f\b\b\r",
      "STEP   334 / 903 (thread    5) f\b\b\r",
      "STEP   335 / 903 (thread    4) f\b\b\r",
      "STEP   336 / 903 (thread    2) f\b\b\r",
      "STEP   337 / 903 (thread    3) f\b\b\r",
      "STEP   338 / 903 (thread    0) f\b\b\r",
      "STEP   339 / 903 (thread    2) f\b\b\r",
      "STEP   340 / 903 (thread    1) f\b\b\r",
      "STEP   341 / 903 (thread    5) f\b\b\r",
      "STEP   342 / 903 (thread    2) f\b\b\r",
      "STEP   343 / 903 (thread    4) f\b\b\r",
      "STEP   344 / 903 (thread    1) f\b\b\r",
      "STEP   345 / 903 (thread    3) f\b\b\r",
      "STEP   346 / 903 (thread    0) f\b\b\r",
      "STEP   347 / 903 (thread    5) f\b\b\r",
      "STEP   348 / 903 (thread    4) f\b\b\r",
      "STEP   349 / 903 (thread    2) f\b\b\r",
      "STEP   350 / 903 (thread    1) f\b\b\r",
      "STEP   351 / 903 (thread    3) f\b\b\r",
      "STEP   352 / 903 (thread    0) f\b\b\r",
      "STEP   353 / 903 (thread    5) f\b\b\r",
      "STEP   354 / 903 (thread    0) f\b\b\r",
      "STEP   355 / 903 (thread    1) f\b\b\r",
      "STEP   356 / 903 (thread    2) f\b\b\r",
      "STEP   357 / 903 (thread    4) f\b\b\r",
      "STEP   358 / 903 (thread    3) f\b\b\r",
      "STEP   359 / 903 (thread    5) f\b\b\r",
      "STEP   360 / 903 (thread    1) f\b\b\r",
      "STEP   361 / 903 (thread    0) f\b\b\r",
      "STEP   362 / 903 (thread    2) f\b\b\r",
      "STEP   363 / 903 (thread    4) f\b\b\r",
      "STEP   364 / 903 (thread    1) f\b\b\r",
      "STEP   365 / 903 (thread    3) f\b\b\r",
      "STEP   366 / 903 (thread    5) f\b\b\r",
      "STEP   367 / 903 (thread    0) f\b\b\r",
      "STEP   368 / 903 (thread    2) f\b\b\r",
      "STEP   369 / 903 (thread    4) f\b\b\r",
      "STEP   370 / 903 (thread    0) f\b\b\r",
      "STEP   371 / 903 (thread    5) f\b\b\r",
      "STEP   372 / 903 (thread    3) f\b\b\r",
      "STEP   373 / 903 (thread    1) f\b\b\r",
      "STEP   374 / 903 (thread    4) f\b\b\r",
      "STEP   375 / 903 (thread    2) f\b\b\r",
      "STEP   376 / 903 (thread    4) f\b\b\r",
      "STEP   377 / 903 (thread    0) f\b\b\r",
      "STEP   378 / 903 (thread    3) f\b\b\r",
      "STEP   379 / 903 (thread    5) f\b\b\r",
      "STEP   380 / 903 (thread    1) f\b\b\r",
      "STEP   381 / 903 (thread    2) f\b\b\r",
      "STEP   382 / 903 (thread    4) f\b\b\r",
      "STEP   383 / 903 (thread    0) f\b\b\r",
      "STEP   384 / 903 (thread    5) f\b\b\r",
      "STEP   385 / 903 (thread    1) f\b\b\r",
      "STEP   386 / 903 (thread    3) f\b\b\r",
      "STEP   387 / 903 (thread    2) f\b\b\r",
      "STEP   388 / 903 (thread    1) f\b\b\r",
      "STEP   389 / 903 (thread    4) f\b\b\r",
      "STEP   390 / 903 (thread    5)\r",
      "STEP   391 / 903 (thread    0) f\b\b f\b\b\r",
      "STEP   392 / 903 (thread    3) f\b\b\r",
      "STEP   393 / 903 (thread    2) f\b\b\r",
      "STEP   394 / 903 (thread    1) f\b\b\r",
      "STEP   395 / 903 (thread    4) f\b\b\r",
      "STEP   396 / 903 (thread    2) f\b\b\r",
      "STEP   398 / 903 (thread    1) f\b\b\r",
      "STEP   399 / 903 (thread    0) f\b\b\r",
      "STEP   400 / 903 (thread    3) f\b\b\r",
      "STEP   397 / 903 (thread    5) f\b\b\r",
      "STEP   401 / 903 (thread    4) f\b\b\r",
      "STEP   402 / 903 (thread    2) f\b\b\r",
      "STEP   404 / 903 (thread    3) f\b\b\r",
      "STEP   405 / 903 (thread    0) f\b\b\r",
      "STEP   406 / 903 (thread    5) f\b\b\r",
      "STEP   403 / 903 (thread    1) f\b\b\r",
      "STEP   408 / 903 (thread    2) f\b\b\r",
      "STEP   409 / 903 (thread    4) f\b\b\r",
      "STEP   407 / 903 (thread    3) f\b\b\r",
      "STEP   410 / 903 (thread    1) f\b\b\r",
      "STEP   411 / 903 (thread    0) f\b\b\r",
      "STEP   412 / 903 (thread    5) f\b\b\r",
      "STEP   413 / 903 (thread    2) f\b\b\r",
      "STEP   414 / 903 (thread    4) f\b\b\r",
      "STEP   415 / 903 (thread    5) f\b\b\r",
      "STEP   417 / 903 (thread    3) f\b\b\r",
      "STEP   418 / 903 (thread    5) f\b\b\r",
      "STEP   419 / 903 (thread    0) f\b\b\r",
      "STEP   416 / 903 (thread    1) f\b\b\r",
      "STEP   420 / 903 (thread    3) f\b\b\r",
      "STEP   421 / 903 (thread    4) f\b\b\r",
      "STEP   422 / 903 (thread    2) f\b\b\r",
      "STEP   423 / 903 (thread    5) f\b\b\r",
      "STEP   424 / 903 (thread    0) f\b\b\r",
      "STEP   425 / 903 (thread    1) f\b\b\r",
      "STEP   426 / 903 (thread    3) f\b\b\r",
      "STEP   427 / 903 (thread    4) f\b\b\r",
      "STEP   428 / 903 (thread    5) f\b\b\r",
      "STEP   429 / 903 (thread    4) f\b\b\r",
      "STEP   430 / 903 (thread    2) f\b\b\r",
      "STEP   431 / 903 (thread    0) f\b\b\r",
      "STEP   432 / 903 (thread    3) f\b\b\r",
      "STEP   434 / 903 (thread    2) f\b\b\r",
      "STEP   435 / 903 (thread    1) f\b\b\r",
      "STEP   433 / 903 (thread    5) f\b\b\r",
      "STEP   436 / 903 (thread    2) f\b\b\r",
      "STEP   437 / 903 (thread    4) f\b\b\r",
      "STEP   438 / 903 (thread    0) f\b\b\r",
      "STEP   439 / 903 (thread    5) f\b\b\r",
      "STEP   440 / 903 (thread    2) f\b\b\r",
      "STEP   441 / 903 (thread    3) f\b\b\r",
      "STEP   442 / 903 (thread    4) f\b\b\r",
      "STEP   443 / 903 (thread    1) f\b\b\r",
      "STEP   444 / 903 (thread    0) f\b\b\r",
      "STEP   445 / 903 (thread    2) f\b\b\r",
      "STEP   446 / 903 (thread    3) f\b\b\r",
      "STEP   447 / 903 (thread    4) f\b\b\r",
      "STEP   448 / 903 (thread    5) f\b\b\r",
      "STEP   449 / 903 (thread    1) f\b\b\r",
      "STEP   450 / 903 (thread    0) f\b\b\r",
      "STEP   451 / 903 (thread    1) f\b\b\r",
      "STEP   453 / 903 (thread    3) f\b\b\r",
      "STEP   454 / 903 (thread    4) f\b\b\r",
      "STEP   455 / 903 (thread    0) f\b\b\r",
      "STEP   456 / 903 (thread    5) f\b\b\r",
      "STEP   457 / 903 (thread    4) f\b\b\r",
      "STEP   458 / 903 (thread    1) f\b\b\r",
      "STEP   452 / 903 (thread    2) f\b\b\r",
      "STEP   459 / 903 (thread    3) f\b\b\r",
      "STEP   460 / 903 (thread    4) f\b\b\r",
      "STEP   462 / 903 (thread    0) f\b\b\r",
      "STEP   461 / 903 (thread    5) f\b\b\r",
      "STEP   463 / 903 (thread    2) f\b\b\r",
      "STEP   464 / 903 (thread    1) f\b\b\r",
      "STEP   465 / 903 (thread    4) f\b\b\r",
      "STEP   466 / 903 (thread    3) f\b\b\r",
      "STEP   467 / 903 (thread    0) f\b\b\r",
      "STEP   468 / 903 (thread    5) f\b\b\r",
      "STEP   469 / 903 (thread    2) f\b\b\r",
      "STEP   470 / 903 (thread    1) f\b\b\r",
      "STEP   471 / 903 (thread    4) f\b\b\r",
      "STEP   472 / 903 (thread    0) f\b\b\r",
      "STEP   473 / 903 (thread    3) f\b\b\r",
      "STEP   474 / 903 (thread    5) f\b\b\r",
      "STEP   475 / 903 (thread    1) f\b\b\r",
      "STEP   476 / 903 (thread    2) f\b\b\r",
      "STEP   477 / 903 (thread    0) f\b\b\r",
      "STEP   478 / 903 (thread    3) f\b\b\r",
      "STEP   479 / 903 (thread    4) f\b\b\r",
      "STEP   480 / 903 (thread    2) f\b\b\r",
      "STEP   481 / 903 (thread    5) f\b\b\r",
      "STEP   482 / 903 (thread    1) f\b\b\r",
      "STEP   483 / 903 (thread    3) f\b\b\r",
      "STEP   484 / 903 (thread    4) f\b\b\r",
      "STEP   485 / 903 (thread    0) f\b\b\r",
      "STEP   486 / 903 (thread    2) f\b\b\r",
      "STEP   487 / 903 (thread    5) f\b\b\r",
      "STEP   488 / 903 (thread    2) f\b\b\r",
      "STEP   489 / 903 (thread    1) f\b\b\r",
      "STEP   490 / 903 (thread    3) f\b\b\r",
      "STEP   491 / 903 (thread    0) f\b\b\r",
      "STEP   492 / 903 (thread    4) f\b\b\r",
      "STEP   493 / 903 (thread    5) f\b\b\r",
      "STEP   494 / 903 (thread    2) f\b\b\r",
      "STEP   495 / 903 (thread    1) f\b\b\r",
      "STEP   496 / 903 (thread    3) f\b\b\r",
      "STEP   498 / 903 (thread    4) f\b\b\r",
      "STEP   499 / 903 (thread    5) f\b\b\r",
      "STEP   500 / 903 (thread    2) f\b\b\r",
      "STEP   501 / 903 (thread    1) f\b\b\r",
      "STEP   497 / 903 (thread    0) f\b\b"
     ]
    },
    {
     "name": "stderr",
     "output_type": "stream",
     "text": [
      "\r",
      "STEP   601 / 903 (thread    5) f\b\b\r",
      "STEP   701 / 903 (thread    3) f\b\b\n",
      "Reallocating..done. *alloclen = 1868\n",
      "\r",
      "STEP   801 / 903 (thread    4) f\b\b\r",
      "STEP   901 / 903 (thread    1) d\b\b h\n",
      "done.\n",
      "\n",
      "Making a distance matrix from msa.. \n",
      "\r",
      "    0 / 904 (thread    2)"
     ]
    },
    {
     "name": "stderr",
     "output_type": "stream",
     "text": [
      "\r",
      "  100 / 904 (thread    5)\r",
      "  200 / 904 (thread    2)\r",
      "  300 / 904 (thread    0)\r",
      "  400 / 904 (thread    1)\r",
      "  500 / 904 (thread    3)\r",
      "  600 / 904 (thread    3)\r",
      "  700 / 904 (thread    3)\r",
      "  800 / 904 (thread    3)\r",
      "  900 / 904 (thread    5)\n",
      "done.\n",
      "\n",
      "Constructing a UPGMA tree (efffree=1) ... \n",
      "\r",
      "    0 / 904\r",
      "   10 / 904\r",
      "   20 / 904\r",
      "   30 / 904\r",
      "   40 / 904\r",
      "   50 / 904\r",
      "   60 / 904\r",
      "   70 / 904\r",
      "   80 / 904\r",
      "   90 / 904\r",
      "  100 / 904\r",
      "  110 / 904\r",
      "  120 / 904\r",
      "  130 / 904\r",
      "  140 / 904\r",
      "  150 / 904\r",
      "  160 / 904\r",
      "  170 / 904\r",
      "  180 / 904\r",
      "  190 / 904\r",
      "  200 / 904\r",
      "  210 / 904\r",
      "  220 / 904\r",
      "  230 / 904\r",
      "  240 / 904\r",
      "  250 / 904\r",
      "  260 / 904\r",
      "  270 / 904\r",
      "  280 / 904\r",
      "  290 / 904\r",
      "  300 / 904\r",
      "  310 / 904\r",
      "  320 / 904\r",
      "  330 / 904\r",
      "  340 / 904\r",
      "  350 / 904\r",
      "  360 / 904\r",
      "  370 / 904\r",
      "  380 / 904\r",
      "  390 / 904\r",
      "  400 / 904\r",
      "  410 / 904\r",
      "  420 / 904\r",
      "  430 / 904\r",
      "  440 / 904\r",
      "  450 / 904\r",
      "  460 / 904\r",
      "  470 / 904\r",
      "  480 / 904\r",
      "  490 / 904\r",
      "  500 / 904\r",
      "  510 / 904\r",
      "  520 / 904\r",
      "  530 / 904\r",
      "  540 / 904\r",
      "  550 / 904\r",
      "  560 / 904\r",
      "  570 / 904\r",
      "  580 / 904\r",
      "  590 / 904\r",
      "  600 / 904\r",
      "  610 / 904\r",
      "  620 / 904\r",
      "  630 / 904\r",
      "  640 / 904\r",
      "  650 / 904\r",
      "  660 / 904\r",
      "  670 / 904\r",
      "  680 / 904\r",
      "  690 / 904\r",
      "  700 / 904\r",
      "  710 / 904\r",
      "  720 / 904\r",
      "  730 / 904\r",
      "  740 / 904\r",
      "  750 / 904\r",
      "  760 / 904\r",
      "  770 / 904\r",
      "  780 / 904\r",
      "  790 / 904\r",
      "  800 / 904\r",
      "  810 / 904\r",
      "  820 / 904\r",
      "  830 / 904\r",
      "  840 / 904\r",
      "  850 / 904\r",
      "  860 / 904\r",
      "  870 / 904\r",
      "  880 / 904\r",
      "  890 / 904\r",
      "  900 / 904\n",
      "done.\n",
      "\n",
      "Progressive alignment 2/2... \n",
      "\r",
      "STEP     1 / 903 (thread    1) f\b\b\r",
      "STEP     2 / 903 (thread    2) f\b\b\r",
      "STEP     3 / 903 (thread    3) f\b\b\r",
      "STEP     4 / 903 (thread    0) f\b\b\r",
      "STEP     5 / 903 (thread    4) f\b\b\r",
      "STEP     6 / 903 (thread    5) f\b\b\r",
      "STEP     7 / 903 (thread    1) f\b\b\r",
      "STEP     8 / 903 (thread    5) f\b\b\r",
      "STEP     9 / 903 (thread    1) f\b\b\r",
      "STEP    10 / 903 (thread    5) f\b\b\r",
      "STEP    11 / 903 (thread    1) f\b\b\r",
      "STEP    12 / 903 (thread    5) f\b\b\r",
      "STEP    13 / 903 (thread    0) f\b\b\r",
      "STEP    14 / 903 (thread    1) f\b\b\r",
      "STEP    15 / 903 (thread    5) f\b\b\r",
      "STEP    16 / 903 (thread    2) f\b\b\r",
      "STEP    17 / 903 (thread    3) f\b\b\r",
      "STEP    18 / 903 (thread    4) f\b\b\r",
      "STEP    19 / 903 (thread    1) f\b\b\r",
      "STEP    20 / 903 (thread    5) f\b\b\r",
      "STEP    21 / 903 (thread    0) f\b\b\r",
      "STEP    22 / 903 (thread    1) f\b\b\r",
      "STEP    23 / 903 (thread    5) f\b\b\r",
      "STEP    24 / 903 (thread    2) f\b\b\r",
      "STEP    25 / 903 (thread    3) f\b\b\r",
      "STEP    26 / 903 (thread    4) f\b\b\r",
      "STEP    27 / 903 (thread    1) f\b\b\r",
      "STEP    28 / 903 (thread    5) f\b\b\r",
      "STEP    29 / 903 (thread    0) f\b\b\r",
      "STEP    30 / 903 (thread    2) f\b\b\r",
      "STEP    31 / 903 (thread    3) f\b\b\r",
      "STEP    32 / 903 (thread    1) f\b\b\r",
      "STEP    33 / 903 (thread    4) f\b\b\r",
      "STEP    34 / 903 (thread    5) f\b\b\r",
      "STEP    35 / 903 (thread    1) f\b\b\r",
      "STEP    36 / 903 (thread    0) f\b\b\r",
      "STEP    37 / 903 (thread    5) f\b\b\r",
      "STEP    38 / 903 (thread    2) f\b\b\r",
      "STEP    39 / 903 (thread    3) f\b\b\r",
      "STEP    40 / 903 (thread    4) f\b\b\r",
      "STEP    41 / 903 (thread    1) f\b\b\r",
      "STEP    42 / 903 (thread    5) f\b\b\r",
      "STEP    43 / 903 (thread    0) f\b\b\r",
      "STEP    44 / 903 (thread    1) f\b\b\r",
      "STEP    45 / 903 (thread    5) f\b\b\r",
      "STEP    46 / 903 (thread    2)\r",
      "STEP    47 / 903 (thread    3) f\b\b f\b\b\r",
      "STEP    48 / 903 (thread    4) f\b\b\r",
      "STEP    49 / 903 (thread    1) f\b\b\r",
      "STEP    50 / 903 (thread    5) f\b\b\r",
      "STEP    51 / 903 (thread    0) f\b\b\r",
      "STEP    52 / 903 (thread    1) f\b\b\r",
      "STEP    53 / 903 (thread    2) f\b\b\r",
      "STEP    54 / 903 (thread    4) f\b\b\r",
      "STEP    55 / 903 (thread    3) f\b\b\r",
      "STEP    56 / 903 (thread    5) f\b\b\r",
      "STEP    57 / 903 (thread    1) f\b\b\r",
      "STEP    58 / 903 (thread    0) f\b\b\r",
      "STEP    59 / 903 (thread    5) f\b\b\r",
      "STEP    60 / 903 (thread    4) f\b\b\r",
      "STEP    61 / 903 (thread    3) f\b\b\r",
      "STEP    62 / 903 (thread    2) f\b\b\r",
      "STEP    63 / 903 (thread    1) f\b\b\r",
      "STEP    64 / 903 (thread    5) f\b\b\r",
      "STEP    65 / 903 (thread    0) f\b\b\r",
      "STEP    66 / 903 (thread    1) f\b\b\r",
      "STEP    67 / 903 (thread    5) f\b\b\r",
      "STEP    68 / 903 (thread    4) f\b\b\r",
      "STEP    69 / 903 (thread    2) f\b\b\r",
      "STEP    70 / 903 (thread    3) f\b\b\r",
      "STEP    71 / 903 (thread    1) f\b\b\r",
      "STEP    72 / 903 (thread    5) f\b\b\r",
      "STEP    73 / 903 (thread    0) f\b\b\r",
      "STEP    74 / 903 (thread    1) f\b\b\r",
      "STEP    75 / 903 (thread    4) f\b\b\r",
      "STEP    76 / 903 (thread    5) f\b\b\r",
      "STEP    77 / 903 (thread    3) f\b\b\r",
      "STEP    78 / 903 (thread    2) f\b\b\r",
      "STEP    79 / 903 (thread    1) f\b\b\r",
      "STEP    80 / 903 (thread    0) f\b\b\r",
      "STEP    81 / 903 (thread    5) f\b\b\r",
      "STEP    82 / 903 (thread    1) f\b\b\r",
      "STEP    83 / 903 (thread    4) f\b\b\r",
      "STEP    84 / 903 (thread    2) f\b\b\r",
      "STEP    85 / 903 (thread    3) f\b\b\r",
      "STEP    86 / 903 (thread    5) f\b\b\r",
      "STEP    87 / 903 (thread    1) f\b\b\r",
      "STEP    88 / 903 (thread    0) f\b\b\r",
      "STEP    89 / 903 (thread    5) f\b\b\r",
      "STEP    90 / 903 (thread    4) f\b\b\r",
      "STEP    91 / 903 (thread    3) f\b\b\r",
      "STEP    92 / 903 (thread    2) f\b\b\r",
      "STEP    93 / 903 (thread    1) f\b\b\r",
      "STEP    94 / 903 (thread    5) f\b\b\r",
      "STEP    95 / 903 (thread    0) f\b\b\r",
      "STEP    96 / 903 (thread    1) f\b\b\r",
      "STEP    97 / 903 (thread    4) f\b\b\r",
      "STEP    98 / 903 (thread    5) f\b\b\r",
      "STEP    99 / 903 (thread    3) f\b\b\r",
      "STEP   100 / 903 (thread    2) f\b\b\r",
      "STEP   101 / 903 (thread    0) f\b\b\r",
      "STEP   102 / 903 (thread    1) f\b\b\r",
      "STEP   103 / 903 (thread    5) f\b\b\r",
      "STEP   104 / 903 (thread    5) f\b\b\r",
      "STEP   105 / 903 (thread    4) f\b\b\r",
      "STEP   106 / 903 (thread    2) f\b\b\r",
      "STEP   108 / 903 (thread    1) f\b\b\r",
      "STEP   107 / 903 (thread    3) f\b\b\r",
      "STEP   109 / 903 (thread    0) f\b\b\r",
      "STEP   110 / 903 (thread    5) f\b\b\r",
      "STEP   111 / 903 (thread    4) f\b\b\r",
      "STEP   112 / 903 (thread    5) f\b\b\r",
      "STEP   113 / 903 (thread    2) f\b\b\r",
      "STEP   114 / 903 (thread    0) f\b\b\r",
      "STEP   115 / 903 (thread    1) f\b\b\r",
      "STEP   116 / 903 (thread    5) f\b\b\r",
      "STEP   117 / 903 (thread    4) f\b\b\r",
      "STEP   118 / 903 (thread    2) f\b\b\r",
      "STEP   119 / 903 (thread    1) f\b\b\r",
      "STEP   120 / 903 (thread    5) f\b\b\r",
      "STEP   121 / 903 (thread    3) f\b\b\r",
      "STEP   122 / 903 (thread    0) f\b\b\r",
      "STEP   123 / 903 (thread    1) f\b\b\r",
      "STEP   124 / 903 (thread    5) f\b\b\r",
      "STEP   125 / 903 (thread    4) f\b\b\r",
      "STEP   126 / 903 (thread    2) f\b\b\r",
      "STEP   127 / 903 (thread    1) f\b\b\r",
      "STEP   128 / 903 (thread    5) f\b\b\r",
      "STEP   129 / 903 (thread    4) f\b\b\r",
      "STEP   130 / 903 (thread    1) f\b\b\r",
      "STEP   131 / 903 (thread    5) f\b\b\r",
      "STEP   132 / 903 (thread    0) f\b\b\r",
      "STEP   133 / 903 (thread    1) f\b\b\r",
      "STEP   134 / 903 (thread    3) f\b\b\r",
      "STEP   135 / 903 (thread    5) f\b\b\r",
      "STEP   136 / 903 (thread    4) f\b\b\r",
      "STEP   137 / 903 (thread    1) f\b\b\r",
      "STEP   138 / 903 (thread    2) f\b\b\r",
      "STEP   139 / 903 (thread    5) f\b\b\r",
      "STEP   140 / 903 (thread    0) f\b\b\r",
      "STEP   141 / 903 (thread    5) f\b\b\r",
      "STEP   142 / 903 (thread    4) f\b\b\r",
      "STEP   143 / 903 (thread    2) f\b\b\r",
      "STEP   144 / 903 (thread    1) f\b\b\r",
      "STEP   145 / 903 (thread    5) f\b\b\r",
      "STEP   146 / 903 (thread    3) f\b\b\r",
      "STEP   147 / 903 (thread    4) f\b\b\r",
      "STEP   148 / 903 (thread    1) f\b\b\r",
      "STEP   149 / 903 (thread    5) f\b\b\r",
      "STEP   150 / 903 (thread    2) f\b\b\r",
      "STEP   151 / 903 (thread    0) f\b\b\r",
      "STEP   152 / 903 (thread    1) f\b\b\r",
      "STEP   153 / 903 (thread    5) f\b\b\r",
      "STEP   155 / 903 (thread    4) f\b\b\r",
      "STEP   156 / 903 (thread    2) f\b\b\r",
      "STEP   157 / 903 (thread    1) f\b\b\r",
      "STEP   158 / 903 (thread    0) f\b\b\r",
      "STEP   159 / 903 (thread    2) f\b\b\r",
      "STEP   160 / 903 (thread    1) f\b\b\r",
      "STEP   161 / 903 (thread    4) f\b\b\r",
      "STEP   162 / 903 (thread    5) f\b\b\r",
      "STEP   154 / 903 (thread    3) f\b\b\r",
      "STEP   163 / 903 (thread    1) f\b\b\r",
      "STEP   164 / 903 (thread    5) f\b\b\r",
      "STEP   165 / 903 (thread    2) f\b\b\r",
      "STEP   166 / 903 (thread    0) f\b\b\r",
      "STEP   167 / 903 (thread    4) f\b\b\r",
      "STEP   168 / 903 (thread    3) f\b\b\r",
      "STEP   169 / 903 (thread    1) f\b\b\r",
      "STEP   170 / 903 (thread    5) f\b\b\r",
      "STEP   171 / 903 (thread    1) f\b\b\r",
      "STEP   172 / 903 (thread    2) f\b\b\r",
      "STEP   173 / 903 (thread    0) f\b\b\r",
      "STEP   174 / 903 (thread    5) f\b\b\r",
      "STEP   175 / 903 (thread    4) f\b\b\r",
      "STEP   176 / 903 (thread    3) f\b\b\r",
      "STEP   177 / 903 (thread    1) f\b\b\r",
      "STEP   178 / 903 (thread    5) f\b\b\r",
      "STEP   179 / 903 (thread    2) f\b\b\r",
      "STEP   180 / 903 (thread    1) f\b\b\r",
      "STEP   181 / 903 (thread    4) f\b\b\r",
      "STEP   182 / 903 (thread    5) f\b\b\r",
      "STEP   183 / 903 (thread    3) f\b\b\r",
      "STEP   184 / 903 (thread    1) f\b\b\r",
      "STEP   185 / 903 (thread    5) f\b\b\r",
      "STEP   186 / 903 (thread    2) f\b\b\r",
      "STEP   187 / 903 (thread    0) f\b\b\r",
      "STEP   188 / 903 (thread    4) f\b\b\r",
      "STEP   189 / 903 (thread    1) f\b\b\r",
      "STEP   190 / 903 (thread    3) f\b\b\r",
      "STEP   191 / 903 (thread    5) f\b\b\r",
      "STEP   192 / 903 (thread    1) f\b\b\r",
      "STEP   193 / 903 (thread    2) f\b\b\r",
      "STEP   194 / 903 (thread    5) f\b\b\r",
      "STEP   195 / 903 (thread    0) f\b\b\r",
      "STEP   196 / 903 (thread    4) f\b\b\r",
      "STEP   197 / 903 (thread    1) f\b\b\r",
      "STEP   198 / 903 (thread    3) f\b\b\r",
      "STEP   199 / 903 (thread    5) f\b\b\r",
      "STEP   200 / 903 (thread    2) f\b\b\r",
      "STEP   201 / 903 (thread    0) f\b\b\r",
      "STEP   202 / 903 (thread    1) f\b\b\r",
      "STEP   203 / 903 (thread    5) f\b\b\r",
      "STEP   205 / 903 (thread    4) f\b\b\r",
      "STEP   206 / 903 (thread    2) f\b\b\r",
      "STEP   207 / 903 (thread    1) f\b\b\r",
      "STEP   204 / 903 (thread    3) f\b\b\r",
      "STEP   208 / 903 (thread    0) f\b\b\r",
      "STEP   209 / 903 (thread    5) f\b\b\r",
      "STEP   210 / 903 (thread    2) f\b\b\r",
      "STEP   211 / 903 (thread    1) f\b\b\r",
      "STEP   212 / 903 (thread    2) f\b\b\r",
      "STEP   213 / 903 (thread    3) f\b\b\r",
      "STEP   214 / 903 (thread    1) f\b\b\r",
      "STEP   215 / 903 (thread    0) f\b\b\r",
      "STEP   216 / 903 (thread    4) f\b\b\r",
      "STEP   217 / 903 (thread    5) f\b\b\r",
      "STEP   218 / 903 (thread    3) f\b\b\r",
      "STEP   219 / 903 (thread    1) f\b\b\r",
      "STEP   220 / 903 (thread    5) f\b\b\r",
      "STEP   221 / 903 (thread    0) f\b\b\r",
      "STEP   222 / 903 (thread    4) f\b\b\r",
      "STEP   223 / 903 (thread    3) f\b\b\r",
      "STEP   224 / 903 (thread    1) f\b\b\r",
      "STEP   225 / 903 (thread    2) f\b\b\r",
      "STEP   226 / 903 (thread    5) f\b\b\r",
      "STEP   227 / 903 (thread    2) f\b\b\r",
      "STEP   228 / 903 (thread    4) f\b\b\r",
      "STEP   229 / 903 (thread    0) f\b\b\r",
      "STEP   230 / 903 (thread    5) f\b\b\r",
      "STEP   231 / 903 (thread    1) f\b\b\r",
      "STEP   232 / 903 (thread    3) f\b\b\r",
      "STEP   233 / 903 (thread    3) f\b\b\r",
      "STEP   234 / 903 (thread    2) f\b\b\r",
      "STEP   235 / 903 (thread    0) f\b\b\r",
      "STEP   236 / 903 (thread    3) f\b\b\r",
      "STEP   237 / 903 (thread    1) f\b\b\r",
      "STEP   238 / 903 (thread    5) f\b\b\r",
      "STEP   239 / 903 (thread    4) f\b\b\r",
      "STEP   240 / 903 (thread    2) f\b\b\r",
      "STEP   241 / 903 (thread    3) f\b\b\r",
      "STEP   242 / 903 (thread    1) f\b\b\r",
      "STEP   243 / 903 (thread    5) f\b\b\r",
      "STEP   244 / 903 (thread    0) f\b\b\r",
      "STEP   245 / 903 (thread    2) f\b\b\r",
      "STEP   246 / 903 (thread    3) f\b\b\r",
      "STEP   247 / 903 (thread    1) f\b\b\r",
      "STEP   248 / 903 (thread    5) f\b\b\r",
      "STEP   249 / 903 (thread    4) f\b\b\r",
      "STEP   250 / 903 (thread    3) f\b\b\r",
      "STEP   251 / 903 (thread    1) f\b\b\r",
      "STEP   252 / 903 (thread    2) f\b\b\r",
      "STEP   253 / 903 (thread    4) f\b\b\r",
      "STEP   254 / 903 (thread    0) f\b\b\r",
      "STEP   255 / 903 (thread    3) f\b\b\r",
      "STEP   256 / 903 (thread    1) f\b\b\r",
      "STEP   257 / 903 (thread    5) f\b\b\r",
      "STEP   258 / 903 (thread    2) f\b\b\r",
      "STEP   259 / 903 (thread    3) f\b\b\r",
      "STEP   260 / 903 (thread    1) f\b\b\r",
      "STEP   261 / 903 (thread    4) f\b\b\r",
      "STEP   262 / 903 (thread    2) f\b\b\r",
      "STEP   263 / 903 (thread    0) f\b\b\r",
      "STEP   264 / 903 (thread    3) f\b\b\r",
      "STEP   266 / 903 (thread    5) f\b\b\r",
      "STEP   265 / 903 (thread    1) f\b\b\r",
      "STEP   267 / 903 (thread    2) f\b\b\r",
      "STEP   268 / 903 (thread    3) f\b\b\r",
      "STEP   269 / 903 (thread    5) f\b\b\r",
      "STEP   270 / 903 (thread    1) f\b\b\r",
      "STEP   271 / 903 (thread    4) f\b\b\r",
      "STEP   272 / 903 (thread    0) f\b\b\r",
      "STEP   273 / 903 (thread    2) f\b\b\r",
      "STEP   274 / 903 (thread    3) f\b\b\r",
      "STEP   275 / 903 (thread    1) f\b\b\r",
      "STEP   276 / 903 (thread    5) f\b\b\r",
      "STEP   277 / 903 (thread    2) f\b\b\r",
      "STEP   278 / 903 (thread    3) f\b\b\r",
      "STEP   279 / 903 (thread    5) f\b\b\r",
      "STEP   280 / 903 (thread    2) f\b\b\r",
      "STEP   281 / 903 (thread    3) f\b\b\r",
      "STEP   282 / 903 (thread    0) f\b\b\r",
      "STEP   283 / 903 (thread    4) f\b\b\r",
      "STEP   284 / 903 (thread    1) f\b\b\r",
      "STEP   285 / 903 (thread    5) f\b\b\r",
      "STEP   286 / 903 (thread    2) f\b\b\r",
      "STEP   287 / 903 (thread    3) f\b\b\r",
      "STEP   288 / 903 (thread    1) f\b\b\r",
      "STEP   289 / 903 (thread    5) f\b\b\r",
      "STEP   290 / 903 (thread    2) f\b\b\r",
      "STEP   291 / 903 (thread    0) f\b\b\r",
      "STEP   292 / 903 (thread    4) f\b\b\r",
      "STEP   293 / 903 (thread    3) f\b\b\r",
      "STEP   294 / 903 (thread    1) f\b\b\r",
      "STEP   295 / 903 (thread    5) f\b\b\r",
      "STEP   296 / 903 (thread    2) f\b\b\r",
      "STEP   297 / 903 (thread    3) f\b\b\r",
      "STEP   298 / 903 (thread    1) f\b\b\r",
      "STEP   299 / 903 (thread    5) f\b\b\r",
      "STEP   300 / 903 (thread    2) f\b\b\r",
      "STEP   301 / 903 (thread    0) f\b\b\r",
      "STEP   303 / 903 (thread    3) f\b\b\r",
      "STEP   302 / 903 (thread    4) f\b\b\r",
      "STEP   304 / 903 (thread    5) f\b\b\r",
      "STEP   305 / 903 (thread    3) f\b\b\r",
      "STEP   306 / 903 (thread    2) f\b\b\r",
      "STEP   307 / 903 (thread    1) f\b\b\r",
      "STEP   308 / 903 (thread    3) f\b\b\r",
      "STEP   309 / 903 (thread    1) f\b\b\r",
      "STEP   310 / 903 (thread    5) f\b\b\r",
      "STEP   311 / 903 (thread    2) f\b\b\r",
      "STEP   312 / 903 (thread    1) f\b\b\r",
      "STEP   313 / 903 (thread    4) f\b\b\r",
      "STEP   314 / 903 (thread    5) f\b\b\r",
      "STEP   315 / 903 (thread    3) f\b\b\r",
      "STEP   316 / 903 (thread    0) f\b\b\r",
      "STEP   317 / 903 (thread    1) f\b\b\r",
      "STEP   318 / 903 (thread    2) f\b\b\r",
      "STEP   319 / 903 (thread    5) f\b\b\r",
      "STEP   320 / 903 (thread    3) f\b\b\r",
      "STEP   321 / 903 (thread    2) f\b\b\r",
      "STEP   322 / 903 (thread    4) f\b\b\r",
      "STEP   323 / 903 (thread    1) f\b\b\r",
      "STEP   324 / 903 (thread    0) f\b\b\r",
      "STEP   325 / 903 (thread    5) f\b\b\r",
      "STEP   326 / 903 (thread    3) f\b\b\r",
      "STEP   327 / 903 (thread    2) f\b\b\r",
      "STEP   328 / 903 (thread    1) f\b\b\r",
      "STEP   329 / 903 (thread    2) f\b\b\r",
      "STEP   330 / 903 (thread    5) f\b\b\r",
      "STEP   331 / 903 (thread    4) f\b\b\r",
      "STEP   332 / 903 (thread    2) f\b\b\r",
      "STEP   333 / 903 (thread    3) f\b\b\r",
      "STEP   334 / 903 (thread    0) f\b\b\r",
      "STEP   335 / 903 (thread    1) f\b\b\r",
      "STEP   336 / 903 (thread    3) f\b\b\r",
      "STEP   337 / 903 (thread    1) f\b\b\r",
      "STEP   338 / 903 (thread    0) f\b\b\r",
      "STEP   339 / 903 (thread    3) f\b\b\r",
      "STEP   340 / 903 (thread    5) f\b\b\r",
      "STEP   341 / 903 (thread    4) f\b\b\r",
      "STEP   342 / 903 (thread    1) f\b\b\r",
      "STEP   343 / 903 (thread    2) f\b\b\r",
      "STEP   344 / 903 (thread    3) f\b\b\r",
      "STEP   345 / 903 (thread    0) f\b\b\r",
      "STEP   346 / 903 (thread    3) f\b\b\r",
      "STEP   347 / 903 (thread    5) f\b\b\r",
      "STEP   348 / 903 (thread    0) f\b\b\r",
      "STEP   349 / 903 (thread    1) f\b\b\r",
      "STEP   350 / 903 (thread    4) f\b\b\r",
      "STEP   351 / 903 (thread    2) f\b\b\r",
      "STEP   352 / 903 (thread    3) f\b\b\r",
      "STEP   353 / 903 (thread    5) f\b\b\r",
      "STEP   354 / 903 (thread    1) f\b\b\r",
      "STEP   356 / 903 (thread    0) f\b\b\r",
      "STEP   357 / 903 (thread    2) f\b\b\r",
      "STEP   355 / 903 (thread    3) f\b\b\r",
      "STEP   358 / 903 (thread    5) f\b\b\r",
      "STEP   359 / 903 (thread    4) f\b\b\r",
      "STEP   360 / 903 (thread    1) f\b\b\r",
      "STEP   361 / 903 (thread    2) f\b\b\r",
      "STEP   362 / 903 (thread    4) f\b\b\r",
      "STEP   363 / 903 (thread    3) f\b\b\r",
      "STEP   364 / 903 (thread    2) f\b\b\r",
      "STEP   365 / 903 (thread    0) f\b\b\r",
      "STEP   366 / 903 (thread    5) f\b\b\r",
      "STEP   367 / 903 (thread    1) f\b\b\r",
      "STEP   368 / 903 (thread    3) f\b\b\r",
      "STEP   369 / 903 (thread    2) f\b\b\r",
      "STEP   370 / 903 (thread    5) f\b\b\r",
      "STEP   371 / 903 (thread    1) f\b\b\r",
      "STEP   372 / 903 (thread    4) f\b\b\r",
      "STEP   373 / 903 (thread    3) f\b\b\r",
      "STEP   374 / 903 (thread    2) f\b\b\r",
      "STEP   375 / 903 (thread    0) f\b\b\r",
      "STEP   377 / 903 (thread    1) f\b\b\r",
      "STEP   376 / 903 (thread    5) f\b\b\r",
      "STEP   378 / 903 (thread    3) f\b\b\r",
      "STEP   379 / 903 (thread    2) f\b\b\r",
      "STEP   380 / 903 (thread    1) f\b\b\r",
      "STEP   381 / 903 (thread    5) f\b\b\r",
      "STEP   382 / 903 (thread    3) f\b\b\r",
      "STEP   383 / 903 (thread    0) f\b\b\r",
      "STEP   384 / 903 (thread    2) f\b\b\r",
      "STEP   385 / 903 (thread    4) f\b\b\r",
      "STEP   386 / 903 (thread    2) f\b\b\r",
      "STEP   387 / 903 (thread    0) f\b\b\r",
      "STEP   388 / 903 (thread    1) f\b\b\r",
      "STEP   389 / 903 (thread    4) f\b\b\r",
      "STEP   390 / 903 (thread    5) f\b\b\r",
      "STEP   391 / 903 (thread    3) f\b\b\r",
      "STEP   392 / 903 (thread    2) f\b\b\r",
      "STEP   393 / 903 (thread    1) f\b\b\r",
      "STEP   394 / 903 (thread    3) f\b\b\r",
      "STEP   395 / 903 (thread    4) f\b\b\r",
      "STEP   396 / 903 (thread    5) f\b\b\r",
      "STEP   397 / 903 (thread    2) f\b\b\r",
      "STEP   398 / 903 (thread    1) f\b\b\r",
      "STEP   399 / 903 (thread    0) f\b\b\r",
      "STEP   400 / 903 (thread    3) f\b\b\r",
      "STEP   401 / 903 (thread    5) f\b\b\r",
      "STEP   402 / 903 (thread    2) f\b\b\r",
      "STEP   403 / 903 (thread    1) f\b\b\r",
      "STEP   404 / 903 (thread    4) f\b\b\r",
      "STEP   405 / 903 (thread    3) f\b\b\r",
      "STEP   406 / 903 (thread    5) f\b\b\r",
      "STEP   407 / 903 (thread    0) f\b\b\r",
      "STEP   408 / 903 (thread    1) f\b\b\r",
      "STEP   409 / 903 (thread    2) f\b\b\r",
      "STEP   410 / 903 (thread    3) f\b\b\r",
      "STEP   411 / 903 (thread    4) f\b\b\r",
      "STEP   412 / 903 (thread    0) f\b\b\r",
      "STEP   413 / 903 (thread    5) f\b\b\r",
      "STEP   414 / 903 (thread    1) f\b\b\r",
      "STEP   415 / 903 (thread    3) f\b\b\r",
      "STEP   416 / 903 (thread    5) f\b\b\r",
      "STEP   417 / 903 (thread    2) f\b\b\r",
      "STEP   418 / 903 (thread    4) f\b\b\r",
      "STEP   419 / 903 (thread    0) f\b\b\r",
      "STEP   420 / 903 (thread    1) f\b\b\r",
      "STEP   421 / 903 (thread    3) f\b\b\r",
      "STEP   422 / 903 (thread    2) f\b\b\r",
      "STEP   423 / 903 (thread    5) f\b\b\r",
      "STEP   424 / 903 (thread    1) f\b\b\r",
      "STEP   425 / 903 (thread    4) f\b\b\r",
      "STEP   426 / 903 (thread    0) f\b\b\r",
      "STEP   427 / 903 (thread    3) f\b\b\r",
      "STEP   428 / 903 (thread    2) f\b\b\r",
      "STEP   429 / 903 (thread    5) f\b\b\r",
      "STEP   430 / 903 (thread    1) f\b\b\r",
      "STEP   431 / 903 (thread    3) f\b\b\r",
      "STEP   432 / 903 (thread    2) f\b\b\r",
      "STEP   433 / 903 (thread    5) f\b\b\r",
      "STEP   434 / 903 (thread    0) f\b\b\r",
      "STEP   435 / 903 (thread    4) f\b\b\r",
      "STEP   436 / 903 (thread    3) f\b\b\r",
      "STEP   437 / 903 (thread    1) f\b\b\r",
      "STEP   438 / 903 (thread    0) f\b\b\r",
      "STEP   439 / 903 (thread    2) f\b\b\r",
      "STEP   440 / 903 (thread    5) f\b\b\r",
      "STEP   441 / 903 (thread    1) f\b\b\r",
      "STEP   442 / 903 (thread    3) f\b\b\r",
      "STEP   443 / 903 (thread    0) f\b\b\r",
      "STEP   444 / 903 (thread    2) f\b\b\r",
      "STEP   445 / 903 (thread    5) f\b\b\r",
      "STEP   446 / 903 (thread    4) f\b\b\r",
      "STEP   447 / 903 (thread    1) f\b\b\r",
      "STEP   448 / 903 (thread    3) f\b\b\r",
      "STEP   449 / 903 (thread    2) f\b\b\r",
      "STEP   450 / 903 (thread    5) f\b\b\r",
      "STEP   451 / 903 (thread    0) f\b\b\r",
      "STEP   452 / 903 (thread    1) f\b\b\r",
      "STEP   453 / 903 (thread    3) f\b\b\r",
      "STEP   454 / 903 (thread    4) f\b\b\r",
      "STEP   455 / 903 (thread    2) f\b\b\r",
      "STEP   456 / 903 (thread    5) f\b\b\r",
      "STEP   457 / 903 (thread    1) f\b\b\r",
      "STEP   458 / 903 (thread    4) f\b\b\r",
      "STEP   459 / 903 (thread    3) f\b\b\r",
      "STEP   460 / 903 (thread    5) f\b\b\r",
      "STEP   461 / 903 (thread    0) f\b\b\r",
      "STEP   462 / 903 (thread    1) f\b\b\r",
      "STEP   463 / 903 (thread    2) f\b\b\r",
      "STEP   465 / 903 (thread    4) f\b\b\r",
      "STEP   466 / 903 (thread    5) f\b\b\r",
      "STEP   464 / 903 (thread    3) f\b\b\r",
      "STEP   467 / 903 (thread    1) f\b\b\r",
      "STEP   468 / 903 (thread    2) f\b\b\r",
      "STEP   469 / 903 (thread    0) f\b\b\r",
      "STEP   470 / 903 (thread    5) f\b\b\r",
      "STEP   472 / 903 (thread    2) f\b\b\r",
      "STEP   471 / 903 (thread    1) f\b\b\r",
      "STEP   473 / 903 (thread    3) f\b\b\r",
      "STEP   474 / 903 (thread    4) f\b\b\r",
      "STEP   475 / 903 (thread    5) f\b\b\r",
      "STEP   476 / 903 (thread    2) f\b\b\r",
      "STEP   477 / 903 (thread    3) f\b\b\r",
      "STEP   478 / 903 (thread    0) f\b\b\r",
      "STEP   479 / 903 (thread    1) f\b\b\r",
      "STEP   480 / 903 (thread    5) f\b\b\r",
      "STEP   481 / 903 (thread    2) f\b\b\r",
      "STEP   482 / 903 (thread    3) f\b\b\r",
      "STEP   483 / 903 (thread    1) f\b\b\r",
      "STEP   484 / 903 (thread    4) f\b\b\r",
      "STEP   485 / 903 (thread    5) f\b\b\r",
      "STEP   486 / 903 (thread    0) f\b\b\r",
      "STEP   487 / 903 (thread    2) f\b\b\r",
      "STEP   488 / 903 (thread    3) f\b\b\r",
      "STEP   489 / 903 (thread    4) f\b\b\r",
      "STEP   490 / 903 (thread    2) f\b\b\r",
      "STEP   491 / 903 (thread    0) f\b\b\r",
      "STEP   492 / 903 (thread    1) f\b\b\r",
      "STEP   493 / 903 (thread    5) f\b\b\r",
      "STEP   494 / 903 (thread    3) f\b\b\r",
      "STEP   495 / 903 (thread    2) f\b\b\r",
      "STEP   496 / 903 (thread    1) f\b\b\r",
      "STEP   497 / 903 (thread    3) f\b\b\r",
      "STEP   498 / 903 (thread    5) f\b\b\r",
      "STEP   499 / 903 (thread    4) f\b\b\r",
      "STEP   500 / 903 (thread    0) f\b\b\r",
      "STEP   501 / 903 (thread    1) f\b\b\r",
      "STEP   601 / 903 (thread    1) f\b\b\r",
      "STEP   701 / 903 (thread    1) f\b\b\n",
      "Reallocating..done. *alloclen = 1867\n"
     ]
    },
    {
     "name": "stderr",
     "output_type": "stream",
     "text": [
      "\r",
      "STEP   801 / 903 (thread    5) f\b\b\r",
      "STEP   901 / 903 (thread    3) d\b\b h\n",
      "done.\n",
      "\n",
      "disttbfast (nuc) Version 7.520\n",
      "alg=A, model=DNA200 (2), 1.53 (4.59), -0.00 (-0.00), noshift, amax=0.0\n",
      "6 thread(s)\n",
      "\n",
      "\n",
      "Strategy:\n",
      " FFT-NS-2 (Fast but rough)\n",
      " Progressive method (guide trees were built 2 times.)\n",
      "\n",
      "If unsure which option to use, try 'mafft --auto input > output'.\n",
      "For more information, see 'mafft --help', 'mafft --man' and the mafft page.\n",
      "\n",
      "The default gap scoring scheme has been changed in version 7.110 (2013 Oct).\n",
      "It tends to insert more gaps into gap-rich regions than previous versions.\n",
      "To disable this change, add the --leavegappyregion option.\n",
      "\n"
     ]
    },
    {
     "name": "stdout",
     "output_type": "stream",
     "text": [
      "Running external command line application. This may print messages to stdout and/or stderr.\n",
      "The command being run is below. This command cannot be manually re-run as it will depend on temporary files that no longer exist.\n",
      "\n",
      "Command: FastTreeMP -quote -nt /tmp/qiime2/lauro/data/ba06d063-3583-4f63-b16e-8ffd6458d1de/data/aligned-dna-sequences.fasta\n",
      "\n"
     ]
    },
    {
     "name": "stderr",
     "output_type": "stream",
     "text": [
      "FastTree Version 2.1.11 Double precision (No SSE3), OpenMP (6 threads)\n",
      "Alignment: /tmp/qiime2/lauro/data/ba06d063-3583-4f63-b16e-8ffd6458d1de/data/aligned-dna-sequences.fasta\n",
      "Nucleotide distances: Jukes-Cantor Joins: balanced Support: SH-like 1000\n",
      "Search: Normal +NNI +SPR (2 rounds range 10) +ML-NNI opt-each=1\n",
      "TopHits: 1.00*sqrtN close=default refresh=0.80\n",
      "ML Model: Jukes-Cantor, CAT approximation with 20 rate categories\n",
      "      0.11 seconds: Joined    300 of    863\n"
     ]
    },
    {
     "name": "stderr",
     "output_type": "stream",
     "text": [
      "      0.21 seconds: Joined    600 of    863\n",
      "Initial topology in 0.29 seconds\n",
      "Refining topology: 39 rounds ME-NNIs, 2 rounds ME-SPRs, 20 rounds ML-NNIs\n",
      "      0.31 seconds: ME NNI round 2 of 39, 401 of 864 splits, 40 changes (max delta 0.020)\n"
     ]
    },
    {
     "name": "stderr",
     "output_type": "stream",
     "text": [
      "      0.41 seconds: SPR round   1 of   2, 101 of 1730 nodes\n",
      "      0.55 seconds: SPR round   1 of   2, 401 of 1730 nodes\n"
     ]
    },
    {
     "name": "stderr",
     "output_type": "stream",
     "text": [
      "      0.65 seconds: SPR round   1 of   2, 701 of 1730 nodes\n",
      "      0.76 seconds: SPR round   1 of   2, 1001 of 1730 nodes\n"
     ]
    },
    {
     "name": "stderr",
     "output_type": "stream",
     "text": [
      "      0.89 seconds: SPR round   1 of   2, 1301 of 1730 nodes\n",
      "      1.02 seconds: SPR round   1 of   2, 1601 of 1730 nodes\n"
     ]
    },
    {
     "name": "stderr",
     "output_type": "stream",
     "text": [
      "      1.14 seconds: SPR round   2 of   2, 101 of 1730 nodes\n",
      "      1.26 seconds: SPR round   2 of   2, 401 of 1730 nodes\n"
     ]
    },
    {
     "name": "stderr",
     "output_type": "stream",
     "text": [
      "      1.36 seconds: SPR round   2 of   2, 701 of 1730 nodes\n",
      "      1.47 seconds: SPR round   2 of   2, 1001 of 1730 nodes\n"
     ]
    },
    {
     "name": "stderr",
     "output_type": "stream",
     "text": [
      "      1.60 seconds: SPR round   2 of   2, 1301 of 1730 nodes\n",
      "      1.72 seconds: SPR round   2 of   2, 1601 of 1730 nodes\n"
     ]
    },
    {
     "name": "stderr",
     "output_type": "stream",
     "text": [
      "Total branch-length 18.933 after 1.81 sec\n",
      "      1.83 seconds: ML Lengths 101 of 864 splits\n",
      "      1.93 seconds: ML Lengths 701 of 864 splits\n"
     ]
    },
    {
     "name": "stderr",
     "output_type": "stream",
     "text": [
      "      2.03 seconds: ML NNI round 1 of 20, 201 of 864 splits, 37 changes (max delta 17.920)\n",
      "      2.14 seconds: ML NNI round 1 of 20, 501 of 864 splits, 90 changes (max delta 17.920)\n"
     ]
    },
    {
     "name": "stderr",
     "output_type": "stream",
     "text": [
      "      2.24 seconds: ML NNI round 1 of 20, 801 of 864 splits, 142 changes (max delta 17.920)\n",
      "ML-NNI round 1: LogLk = -48882.167 NNIs 156 max delta 17.92 Time 2.27\n",
      "      2.34 seconds: Site likelihoods with rate category 14 of 20\n",
      "Switched to using 20 rate categories (CAT approximation)\n",
      "Rate categories were divided by 1.132 so that average rate = 1.0\n",
      "CAT-based log-likelihoods may not be comparable across runs\n",
      "Use -gamma for approximate but comparable Gamma(20) log-likelihoods\n"
     ]
    },
    {
     "name": "stderr",
     "output_type": "stream",
     "text": [
      "      2.46 seconds: ML NNI round 2 of 20, 201 of 864 splits, 12 changes (max delta 5.667)\n",
      "      2.57 seconds: ML NNI round 2 of 20, 501 of 864 splits, 40 changes (max delta 8.043)\n"
     ]
    },
    {
     "name": "stderr",
     "output_type": "stream",
     "text": [
      "      2.69 seconds: ML NNI round 2 of 20, 801 of 864 splits, 72 changes (max delta 8.043)\n",
      "ML-NNI round 2: LogLk = -40826.168 NNIs 80 max delta 8.04 Time 2.72\n",
      "      2.82 seconds: ML NNI round 3 of 20, 301 of 864 splits, 15 changes (max delta 5.123)\n"
     ]
    },
    {
     "name": "stderr",
     "output_type": "stream",
     "text": [
      "      2.93 seconds: ML NNI round 3 of 20, 601 of 864 splits, 32 changes (max delta 5.123)\n",
      "ML-NNI round 3: LogLk = -40793.056 NNIs 34 max delta 5.12 Time 2.94\n",
      "      3.04 seconds: ML NNI round 4 of 20, 301 of 864 splits, 8 changes (max delta 3.784)\n",
      "ML-NNI round 4: LogLk = -40783.586 NNIs 10 max delta 3.78 Time 3.07\n",
      "ML-NNI round 5: LogLk = -40783.390 NNIs 2 max delta 0.04 Time 3.13\n",
      "Turning off heuristics for final round of ML NNIs (converged)\n"
     ]
    },
    {
     "name": "stderr",
     "output_type": "stream",
     "text": [
      "      3.15 seconds: ML NNI round 6 of 20, 101 of 864 splits, 0 changes\n",
      "      3.28 seconds: ML NNI round 6 of 20, 501 of 864 splits, 1 changes (max delta 0.000)\n"
     ]
    },
    {
     "name": "stderr",
     "output_type": "stream",
     "text": [
      "      3.38 seconds: ML NNI round 6 of 20, 801 of 864 splits, 7 changes (max delta 2.678)\n",
      "ML-NNI round 6: LogLk = -40778.812 NNIs 7 max delta 2.68 Time 3.41 (final)\n",
      "      3.49 seconds: ML Lengths 701 of 864 splits\n",
      "Optimize all lengths: LogLk = -40777.309 Time 3.51\n"
     ]
    },
    {
     "name": "stderr",
     "output_type": "stream",
     "text": [
      "      3.65 seconds: ML split tests for    200 of    863 internal splits\n",
      "      3.79 seconds: ML split tests for    400 of    863 internal splits\n"
     ]
    },
    {
     "name": "stderr",
     "output_type": "stream",
     "text": [
      "      3.94 seconds: ML split tests for    600 of    863 internal splits\n",
      "      4.08 seconds: ML split tests for    800 of    863 internal splits\n",
      "Total time: 4.13 seconds Unique: 866/904 Bad splits: 0/863\n"
     ]
    }
   ],
   "source": [
    "mafft_alignment, mafft_masked_alignment, mafft_tree, mafft_rooted_tree = align_to_tree_mafft_fasttree(\n",
    "    sequences=reps, n_threads=6, )"
   ]
  },
  {
   "cell_type": "markdown",
   "id": "0768d598",
   "metadata": {
    "papermill": {
     "duration": 0.00481,
     "end_time": "2024-03-01T11:35:19.645628",
     "exception": false,
     "start_time": "2024-03-01T11:35:19.640818",
     "status": "completed"
    },
    "tags": []
   },
   "source": [
    "### Compute Alpha Diversity (Phylogeny)\n",
    "- [diversity alpha_phylogenetic](https://docs.qiime2.org/2022.8/plugins/available/diversity/alpha-phylogenetic/): Computes a user-specified phylogenetic alpha diversity metric for all samples in a feature table.\n",
    "- Metrics: Choices ('faith_pd')"
   ]
  },
  {
   "cell_type": "code",
   "execution_count": 11,
   "id": "0383aa19",
   "metadata": {
    "ExecuteTime": {
     "end_time": "2022-09-29T20:54:35.310009Z",
     "start_time": "2022-09-29T20:54:35.141333Z"
    },
    "execution": {
     "iopub.execute_input": "2024-03-01T11:35:19.654918Z",
     "iopub.status.busy": "2024-03-01T11:35:19.654721Z",
     "iopub.status.idle": "2024-03-01T11:35:19.748474Z",
     "shell.execute_reply": "2024-03-01T11:35:19.747967Z"
    },
    "papermill": {
     "duration": 0.099707,
     "end_time": "2024-03-01T11:35:19.749507",
     "exception": false,
     "start_time": "2024-03-01T11:35:19.649800",
     "status": "completed"
    },
    "tags": []
   },
   "outputs": [
    {
     "name": "stdout",
     "output_type": "stream",
     "text": [
      "Calculating alpha diversity: faith_pd\n",
      "Running external command line application. This may print messages to stdout and/or stderr.\n",
      "The command being run is below. This command cannot be manually re-run as it will depend on temporary files that no longer exist.\n",
      "\n",
      "Command:\n",
      "\n",
      "faithpd -i /tmp/qiime2/lauro/data/77d2fd25-8f88-410b-ba73-a6049d87a05d/data/feature-table.biom -t /tmp/qiime2/lauro/data/20addffd-b894-4171-a8e8-01e7361796f4/data/tree.nwk -o /tmp/q2-AlphaDiversityFormat-5cvoq3ey\n",
      "\n",
      "DONE: Calculating alpha phylogeny: faith_pd\n"
     ]
    }
   ],
   "source": [
    "metrics = ('faith_pd', )\n",
    "alpha_diversities_phylogenetic = dict()\n",
    "for metric in metrics:\n",
    "    print(f\"Calculating alpha diversity: {metric}\")\n",
    "    try:\n",
    "        alpha_diversity = alpha_phylogenetic(table=tabs, phylogeny=mafft_rooted_tree, metric=metric).alpha_diversity\n",
    "        alpha_diversities_phylogenetic[metric] = alpha_diversity\n",
    "        # Save Artifact\n",
    "        file_path = os.path.join(alpha_path, f'alpha-phylogeny-{metric}.qza')\n",
    "        alpha_diversity.save(file_path)\n",
    "        print(f\"DONE: Calculating alpha phylogeny: {metric}\")\n",
    "    except Exception as e:\n",
    "        print(f\"ERROR: Calculating alpha phylogeny: {metric}\")"
   ]
  },
  {
   "cell_type": "markdown",
   "id": "42db1ead",
   "metadata": {
    "papermill": {
     "duration": 0.004517,
     "end_time": "2024-03-01T11:35:19.758629",
     "exception": false,
     "start_time": "2024-03-01T11:35:19.754112",
     "status": "completed"
    },
    "tags": []
   },
   "source": [
    "- [core-metrics-phylogenetic](https://docs.qiime2.org/2023.7/plugins/available/diversity/core-metrics-phylogenetic/)"
   ]
  },
  {
   "cell_type": "code",
   "execution_count": 12,
   "id": "ef726ab7",
   "metadata": {
    "execution": {
     "iopub.execute_input": "2024-03-01T11:35:19.768079Z",
     "iopub.status.busy": "2024-03-01T11:35:19.767893Z",
     "iopub.status.idle": "2024-03-01T11:35:21.541386Z",
     "shell.execute_reply": "2024-03-01T11:35:21.540852Z"
    },
    "papermill": {
     "duration": 1.779756,
     "end_time": "2024-03-01T11:35:21.542657",
     "exception": false,
     "start_time": "2024-03-01T11:35:19.762901",
     "status": "completed"
    },
    "tags": []
   },
   "outputs": [
    {
     "name": "stderr",
     "output_type": "stream",
     "text": [
      "/home/lauro/anaconda3/envs/qiime2-2023.5/lib/python3.8/site-packages/sklearn/metrics/pairwise.py:1761: DataConversionWarning: Data was converted to boolean for metric jaccard\n",
      "  warnings.warn(msg, DataConversionWarning)\n"
     ]
    },
    {
     "name": "stdout",
     "output_type": "stream",
     "text": [
      "Running external command line application. This may print messages to stdout and/or stderr.\n",
      "The command being run is below. This command cannot be manually re-run as it will depend on temporary files that no longer exist.\n",
      "\n",
      "Command:\n",
      "\n",
      "faithpd -i /tmp/qiime2/lauro/data/32b1d24b-73dd-4425-b5f3-48306fa922c3/data/feature-table.biom -t /tmp/qiime2/lauro/data/20addffd-b894-4171-a8e8-01e7361796f4/data/tree.nwk -o /tmp/q2-AlphaDiversityFormat-6v8sx_9_\n",
      "\n",
      "Running external command line application. This may print messages to stdout and/or stderr.\n",
      "The command being run is below. This command cannot be manually re-run as it will depend on temporary files that no longer exist.\n",
      "\n",
      "Command:\n",
      "\n",
      "ssu -i /tmp/qiime2/lauro/data/32b1d24b-73dd-4425-b5f3-48306fa922c3/data/feature-table.biom -t /tmp/qiime2/lauro/data/20addffd-b894-4171-a8e8-01e7361796f4/data/tree.nwk -m unweighted -o /tmp/q2-LSMatFormat-cerj_23u\n",
      "\n"
     ]
    },
    {
     "name": "stdout",
     "output_type": "stream",
     "text": [
      "Running external command line application. This may print messages to stdout and/or stderr.\n",
      "The command being run is below. This command cannot be manually re-run as it will depend on temporary files that no longer exist.\n",
      "\n",
      "Command:\n",
      "\n",
      "ssu -i /tmp/qiime2/lauro/data/32b1d24b-73dd-4425-b5f3-48306fa922c3/data/feature-table.biom -t /tmp/qiime2/lauro/data/20addffd-b894-4171-a8e8-01e7361796f4/data/tree.nwk -m weighted_unnormalized -o /tmp/q2-LSMatFormat-j1rqoqiv\n",
      "\n"
     ]
    },
    {
     "name": "stderr",
     "output_type": "stream",
     "text": [
      "/home/lauro/anaconda3/envs/qiime2-2023.5/lib/python3.8/site-packages/skbio/stats/ordination/_principal_coordinate_analysis.py:143: RuntimeWarning: The result contains negative eigenvalues. Please compare their magnitude with the magnitude of some of the largest positive eigenvalues. If the negative ones are smaller, it's probably safe to ignore them, but if they are large in magnitude, the results won't be useful. See the Notes section for more details. The smallest eigenvalue is -0.008299790058818576 and the largest is 0.37377950070889393.\n",
      "  warn(\n"
     ]
    }
   ],
   "source": [
    "s_depth = int(tabs.view(pd.DataFrame).sum(axis=1).min())\n",
    "results = core_metrics_phylogenetic(\n",
    "    table = tabs,\n",
    "    phylogeny = mafft_rooted_tree,\n",
    "    sampling_depth = s_depth,\n",
    "    metadata = metadata_qa,\n",
    "    n_jobs_or_threads = 6,\n",
    ")"
   ]
  },
  {
   "cell_type": "code",
   "execution_count": 13,
   "id": "19311218",
   "metadata": {
    "execution": {
     "iopub.execute_input": "2024-03-01T11:35:21.553055Z",
     "iopub.status.busy": "2024-03-01T11:35:21.552907Z",
     "iopub.status.idle": "2024-03-01T11:35:21.556434Z",
     "shell.execute_reply": "2024-03-01T11:35:21.556013Z"
    },
    "papermill": {
     "duration": 0.010023,
     "end_time": "2024-03-01T11:35:21.557453",
     "exception": false,
     "start_time": "2024-03-01T11:35:21.547430",
     "status": "completed"
    },
    "tags": []
   },
   "outputs": [],
   "source": [
    "results_info = [(\"rarefied_table\", \"FeatureTable[Frequency]\", \"The resulting rarefied feature table.\"),\n",
    "(\"faith_pd_vector\", \"SampleData[AlphaDiversity]\", \"Vector of Faith PD values by sample.\"),\n",
    "(\"observed_features_vector\", \"SampleData[AlphaDiversity]\", \"Vector of Observed Features values by sample.\"),\n",
    "(\"shannon_vector\", \"SampleData[AlphaDiversity]\", \"Vector of Shannon diversity values by sample.\"),\n",
    "(\"evenness_vector\", \"SampleData[AlphaDiversity]\", \"Vector of Pielou's evenness values by sample.\"),\n",
    "(\"unweighted_unifrac_distance_matrix\", \"DistanceMatrix\", \"Matrix of unweighted UniFrac distances between pairs of samples.\"),\n",
    "(\"weighted_unifrac_distance_matrix\", \"DistanceMatrix\", \"Matrix of weighted UniFrac distances between pairs of samples.\"),\n",
    "(\"jaccard_distance_matrix\", \"DistanceMatrix\", \"Matrix of Jaccard distances between pairs of samples.\"),\n",
    "(\"bray_curtis_distance_matrix\", \"DistanceMatrix\", \"Matrix of Bray-Curtis distances between pairs of samples.\"),\n",
    "(\"unweighted_unifrac_pcoa_results\", \"PCoAResults\", \"PCoA matrix computed from unweighted UniFrac distances between samples.\"),\n",
    "(\"weighted_unifrac_pcoa_results\", \"PCoAResults\", \"PCoA matrix computed from weighted UniFrac distances between samples.\"),\n",
    "(\"jaccard_pcoa_results\", \"PCoAResults\", \"PCoA matrix computed from Jaccard distances between samples.\"),\n",
    "(\"bray_curtis_pcoa_results\", \"PCoAResults\", \"PCoA matrix computed from Bray-Curtis distances between samples.\"),\n",
    "(\"unweighted_unifrac_emperor\", \"Visualization\", \"Emperor plot of the PCoA matrix computed from unweighted UniFrac.\"),\n",
    "(\"weighted_unifrac_emperor\", \"Visualization\", \"Emperor plot of the PCoA matrix computed from weighted UniFrac.\"),\n",
    "(\"jaccard_emperor\", \"Visualization\", \"Emperor plot of the PCoA matrix computed from Jaccard.\"),\n",
    "(\"bray_curtis_emperor\", \"Visualization\", \"Emperor plot of the PCoA matrix computed from Bray-Curtis.\")]"
   ]
  },
  {
   "cell_type": "code",
   "execution_count": 14,
   "id": "2264925a",
   "metadata": {
    "execution": {
     "iopub.execute_input": "2024-03-01T11:35:21.567147Z",
     "iopub.status.busy": "2024-03-01T11:35:21.566989Z",
     "iopub.status.idle": "2024-03-01T11:35:21.849814Z",
     "shell.execute_reply": "2024-03-01T11:35:21.849439Z"
    },
    "papermill": {
     "duration": 0.28892,
     "end_time": "2024-03-01T11:35:21.850875",
     "exception": false,
     "start_time": "2024-03-01T11:35:21.561955",
     "status": "completed"
    },
    "tags": []
   },
   "outputs": [
    {
     "name": "stdout",
     "output_type": "stream",
     "text": [
      "13 unweighted_unifrac_emperor Visualization\n",
      "--- Emperor plot of the PCoA matrix computed from unweighted UniFrac. ---\n",
      "Saving emperor file at: /mnt/nupeb/rede-micro/redemicro-miliane-nutri/experiments/miliane-CxAC-trim/qiime-artifacts/beta-analysis/unweighted_unifrac_emperor.qzv\n",
      "\n",
      "14 weighted_unifrac_emperor Visualization\n",
      "--- Emperor plot of the PCoA matrix computed from weighted UniFrac. ---\n",
      "Saving emperor file at: /mnt/nupeb/rede-micro/redemicro-miliane-nutri/experiments/miliane-CxAC-trim/qiime-artifacts/beta-analysis/weighted_unifrac_emperor.qzv\n",
      "\n",
      "15 jaccard_emperor Visualization\n",
      "--- Emperor plot of the PCoA matrix computed from Jaccard. ---\n",
      "Saving emperor file at: /mnt/nupeb/rede-micro/redemicro-miliane-nutri/experiments/miliane-CxAC-trim/qiime-artifacts/beta-analysis/jaccard_emperor.qzv\n",
      "\n"
     ]
    },
    {
     "name": "stdout",
     "output_type": "stream",
     "text": [
      "16 bray_curtis_emperor Visualization\n",
      "--- Emperor plot of the PCoA matrix computed from Bray-Curtis. ---\n",
      "Saving emperor file at: /mnt/nupeb/rede-micro/redemicro-miliane-nutri/experiments/miliane-CxAC-trim/qiime-artifacts/beta-analysis/bray_curtis_emperor.qzv\n",
      "\n"
     ]
    }
   ],
   "source": [
    "distance_matrix = dict()\n",
    "for i, info in enumerate(results_info):\n",
    "    r_id, r_type, r_desc = info\n",
    "    #print(i, r_id, r_type)\n",
    "    file_name = f\"{r_id}.qzv\"\n",
    "    if r_type == \"FeatureTable[Frequency]\":\n",
    "        pass\n",
    "    elif r_type == \"DistanceMatrix\":\n",
    "        distance_matrix[r_id] = results[i]\n",
    "    elif r_id.endswith('emperor'):\n",
    "        print(i, r_id, r_type)\n",
    "        print(f\"--- {r_desc} ---\")\n",
    "        file_name = os.path.join(beta_path, file_name)\n",
    "        print(f'Saving emperor file at: {file_name}\\n')\n",
    "        results[i].save(filepath=file_name)"
   ]
  },
  {
   "cell_type": "markdown",
   "id": "c7752cfd",
   "metadata": {
    "papermill": {
     "duration": 0.004649,
     "end_time": "2024-03-01T11:35:21.860433",
     "exception": false,
     "start_time": "2024-03-01T11:35:21.855784",
     "status": "completed"
    },
    "tags": []
   },
   "source": [
    "### Alpha diversity correlation\n",
    "\n",
    "This method only process `numeric` columns.\n"
   ]
  },
  {
   "cell_type": "code",
   "execution_count": 15,
   "id": "2814f613",
   "metadata": {
    "ExecuteTime": {
     "end_time": "2022-09-29T20:54:35.317618Z",
     "start_time": "2022-09-29T20:54:35.312094Z"
    },
    "execution": {
     "iopub.execute_input": "2024-03-01T11:35:21.870354Z",
     "iopub.status.busy": "2024-03-01T11:35:21.870156Z",
     "iopub.status.idle": "2024-03-01T11:35:22.824441Z",
     "shell.execute_reply": "2024-03-01T11:35:22.823946Z"
    },
    "papermill": {
     "duration": 0.960527,
     "end_time": "2024-03-01T11:35:22.825446",
     "exception": false,
     "start_time": "2024-03-01T11:35:21.864919",
     "status": "completed"
    },
    "tags": []
   },
   "outputs": [
    {
     "name": "stderr",
     "output_type": "stream",
     "text": [
      "/home/lauro/anaconda3/envs/qiime2-2023.5/lib/python3.8/site-packages/q2_diversity/_alpha/_visualizer.py:168: FutureWarning: Passing a set as an indexer is deprecated and will raise in a future version. Use a list instead.\n",
      "  alpha_diversity = alpha_diversity[matched_ids]\n",
      "/home/lauro/anaconda3/envs/qiime2-2023.5/lib/python3.8/site-packages/q2_diversity/_alpha/_visualizer.py:168: FutureWarning: Passing a set as an indexer is deprecated and will raise in a future version. Use a list instead.\n",
      "  alpha_diversity = alpha_diversity[matched_ids]\n"
     ]
    },
    {
     "name": "stdout",
     "output_type": "stream",
     "text": [
      "DONE: Calculating alpha correlation: chao1 spearman\n",
      "DONE: Calculating alpha correlation: chao1 pearson\n",
      "ERROR: Calculating alpha correlation: chao1_ci spearman\n",
      "ERROR: Calculating alpha correlation: chao1_ci pearson\n"
     ]
    },
    {
     "name": "stderr",
     "output_type": "stream",
     "text": [
      "/home/lauro/anaconda3/envs/qiime2-2023.5/lib/python3.8/site-packages/q2_diversity/_alpha/_visualizer.py:168: FutureWarning: Passing a set as an indexer is deprecated and will raise in a future version. Use a list instead.\n",
      "  alpha_diversity = alpha_diversity[matched_ids]\n",
      "/home/lauro/anaconda3/envs/qiime2-2023.5/lib/python3.8/site-packages/q2_diversity/_alpha/_visualizer.py:168: FutureWarning: Passing a set as an indexer is deprecated and will raise in a future version. Use a list instead.\n",
      "  alpha_diversity = alpha_diversity[matched_ids]\n",
      "/home/lauro/anaconda3/envs/qiime2-2023.5/lib/python3.8/site-packages/q2_diversity/_alpha/_visualizer.py:168: FutureWarning: Passing a set as an indexer is deprecated and will raise in a future version. Use a list instead.\n",
      "  alpha_diversity = alpha_diversity[matched_ids]\n"
     ]
    },
    {
     "name": "stdout",
     "output_type": "stream",
     "text": [
      "DONE: Calculating alpha correlation: observed_features spearman\n",
      "DONE: Calculating alpha correlation: observed_features pearson\n",
      "DONE: Calculating alpha correlation: shannon spearman\n"
     ]
    },
    {
     "name": "stderr",
     "output_type": "stream",
     "text": [
      "/home/lauro/anaconda3/envs/qiime2-2023.5/lib/python3.8/site-packages/q2_diversity/_alpha/_visualizer.py:168: FutureWarning: Passing a set as an indexer is deprecated and will raise in a future version. Use a list instead.\n",
      "  alpha_diversity = alpha_diversity[matched_ids]\n",
      "/home/lauro/anaconda3/envs/qiime2-2023.5/lib/python3.8/site-packages/q2_diversity/_alpha/_visualizer.py:168: FutureWarning: Passing a set as an indexer is deprecated and will raise in a future version. Use a list instead.\n",
      "  alpha_diversity = alpha_diversity[matched_ids]\n",
      "/home/lauro/anaconda3/envs/qiime2-2023.5/lib/python3.8/site-packages/q2_diversity/_alpha/_visualizer.py:168: FutureWarning: Passing a set as an indexer is deprecated and will raise in a future version. Use a list instead.\n",
      "  alpha_diversity = alpha_diversity[matched_ids]\n"
     ]
    },
    {
     "name": "stdout",
     "output_type": "stream",
     "text": [
      "DONE: Calculating alpha correlation: shannon pearson\n",
      "DONE: Calculating alpha correlation: simpson spearman\n",
      "DONE: Calculating alpha correlation: simpson pearson\n"
     ]
    },
    {
     "name": "stdout",
     "output_type": "stream",
     "text": [
      "DONE: Calculating alpha correlation: simpson_e spearman\n",
      "DONE: Calculating alpha correlation: simpson_e pearson\n"
     ]
    },
    {
     "name": "stderr",
     "output_type": "stream",
     "text": [
      "/home/lauro/anaconda3/envs/qiime2-2023.5/lib/python3.8/site-packages/q2_diversity/_alpha/_visualizer.py:168: FutureWarning: Passing a set as an indexer is deprecated and will raise in a future version. Use a list instead.\n",
      "  alpha_diversity = alpha_diversity[matched_ids]\n",
      "/home/lauro/anaconda3/envs/qiime2-2023.5/lib/python3.8/site-packages/q2_diversity/_alpha/_visualizer.py:168: FutureWarning: Passing a set as an indexer is deprecated and will raise in a future version. Use a list instead.\n",
      "  alpha_diversity = alpha_diversity[matched_ids]\n"
     ]
    }
   ],
   "source": [
    "methods = ('spearman', 'pearson')\n",
    "numerics_cols = metadata_qa.filter_columns(column_type='numeric')\n",
    "if numerics_cols.column_count > 0:\n",
    "    for metric, alpha_values in alpha_diversities.items():\n",
    "        for method in methods:\n",
    "            try:\n",
    "                corr_view = alpha_correlation(alpha_diversity=alpha_values, metadata=numerics_cols, \n",
    "                                          method=method, intersect_ids=True).visualization\n",
    "                view_path = os.path.join(alpha_path, f'alpha-correlation-{metric}-{method}.qzv')\n",
    "                corr_view.save(view_path)\n",
    "                corr_view\n",
    "                print(f\"DONE: Calculating alpha correlation: {metric} {method}\")\n",
    "            except Exception as e:\n",
    "                print(f\"ERROR: Calculating alpha correlation: {metric} {method}\")"
   ]
  },
  {
   "cell_type": "markdown",
   "id": "8ea83c8a",
   "metadata": {
    "papermill": {
     "duration": 0.004989,
     "end_time": "2024-03-01T11:35:22.835714",
     "exception": false,
     "start_time": "2024-03-01T11:35:22.830725",
     "status": "completed"
    },
    "tags": []
   },
   "source": [
    "## Alpha diversity comparisons\n",
    "\n",
    "Visually and statistically compare groups of alpha diversity values.\n",
    "\n",
    "[diversity alpha_group_significance](https://docs.qiime2.org/2022.8/plugins/available/diversity/alpha-group-significance/)"
   ]
  },
  {
   "cell_type": "code",
   "execution_count": 16,
   "id": "276d1c18",
   "metadata": {
    "ExecuteTime": {
     "end_time": "2022-09-29T20:54:36.089290Z",
     "start_time": "2022-09-29T20:54:35.318963Z"
    },
    "execution": {
     "iopub.execute_input": "2024-03-01T11:35:22.847091Z",
     "iopub.status.busy": "2024-03-01T11:35:22.846460Z",
     "iopub.status.idle": "2024-03-01T11:35:23.425791Z",
     "shell.execute_reply": "2024-03-01T11:35:23.425310Z"
    },
    "papermill": {
     "duration": 0.586139,
     "end_time": "2024-03-01T11:35:23.426793",
     "exception": false,
     "start_time": "2024-03-01T11:35:22.840654",
     "status": "completed"
    },
    "tags": []
   },
   "outputs": [
    {
     "name": "stdout",
     "output_type": "stream",
     "text": [
      "Processing alpha_group_significance: chao1\n"
     ]
    },
    {
     "name": "stdout",
     "output_type": "stream",
     "text": [
      "DONE: Calculating alpha group significance: chao1\n",
      "Processing alpha_group_significance: chao1_ci\n",
      "ERROR: Calculating alpha group significance: chao1_ci\n",
      "Processing alpha_group_significance: observed_features\n"
     ]
    },
    {
     "name": "stdout",
     "output_type": "stream",
     "text": [
      "DONE: Calculating alpha group significance: observed_features\n",
      "Processing alpha_group_significance: shannon\n"
     ]
    },
    {
     "name": "stdout",
     "output_type": "stream",
     "text": [
      "DONE: Calculating alpha group significance: shannon\n",
      "Processing alpha_group_significance: simpson\n"
     ]
    },
    {
     "name": "stdout",
     "output_type": "stream",
     "text": [
      "DONE: Calculating alpha group significance: simpson\n",
      "Processing alpha_group_significance: simpson_e\n"
     ]
    },
    {
     "name": "stdout",
     "output_type": "stream",
     "text": [
      "DONE: Calculating alpha group significance: simpson_e\n"
     ]
    }
   ],
   "source": [
    "for metric, alpha_values in alpha_diversities.items():\n",
    "    print(f\"Processing alpha_group_significance: {metric}\")\n",
    "    try:\n",
    "        significance_view = alpha_group_significance(alpha_diversity=alpha_values, metadata=metadata_qa).visualization\n",
    "        view_path = os.path.join(alpha_path, f'alpha-group-significance-{metric}.qzv')\n",
    "        significance_view.save(view_path)\n",
    "        significance_view\n",
    "        print(f\"DONE: Calculating alpha group significance: {metric}\")\n",
    "    except Exception as e:\n",
    "        print(f\"ERROR: Calculating alpha group significance: {metric}\")"
   ]
  },
  {
   "cell_type": "markdown",
   "id": "4349d357",
   "metadata": {
    "papermill": {
     "duration": 0.004985,
     "end_time": "2024-03-01T11:35:23.436971",
     "exception": false,
     "start_time": "2024-03-01T11:35:23.431986",
     "status": "completed"
    },
    "tags": []
   },
   "source": [
    "## Beta diversity analysis\n",
    "\n",
    "#### Reference\n",
    "- [diversity beta](https://docs.qiime2.org/2022.8/plugins/available/diversity/beta/): Computes a user-specified beta diversity metric for all pairs of samples in a feature table.\n",
    "- [Beta diversity metrics](http://scikit-bio.org/docs/0.2.0/generated/skbio.diversity.beta.html)\n",
    "\n",
    "- Metric Choices('aitchison', 'braycurtis', 'canberra', 'canberra_adkins', 'chebyshev', 'cityblock', 'correlation', 'cosine', 'dice', 'euclidean', 'hamming', 'jaccard', 'jensenshannon', 'kulsinski', 'matching', 'minkowski', 'rogerstanimoto', 'russellrao', 'seuclidean', 'sokalmichener', 'sokalsneath', 'sqeuclidean', 'yule')"
   ]
  },
  {
   "cell_type": "code",
   "execution_count": 17,
   "id": "f6f358dd",
   "metadata": {
    "ExecuteTime": {
     "end_time": "2022-09-29T20:54:36.335038Z",
     "start_time": "2022-09-29T20:54:36.091288Z"
    },
    "execution": {
     "iopub.execute_input": "2024-03-01T11:35:23.448012Z",
     "iopub.status.busy": "2024-03-01T11:35:23.447430Z",
     "iopub.status.idle": "2024-03-01T11:35:23.742748Z",
     "shell.execute_reply": "2024-03-01T11:35:23.742281Z"
    },
    "papermill": {
     "duration": 0.301926,
     "end_time": "2024-03-01T11:35:23.743724",
     "exception": false,
     "start_time": "2024-03-01T11:35:23.441798",
     "status": "completed"
    },
    "tags": []
   },
   "outputs": [
    {
     "name": "stdout",
     "output_type": "stream",
     "text": [
      "Calculating beta diversity: euclidean\n",
      "DONE: Calculating beta diversity: euclidean\n",
      "Calculating beta diversity: dice\n"
     ]
    },
    {
     "name": "stdout",
     "output_type": "stream",
     "text": [
      "DONE: Calculating beta diversity: dice\n",
      "Calculating beta diversity: braycurtis\n",
      "DONE: Calculating beta diversity: braycurtis\n",
      "Calculating beta diversity: correlation\n",
      "ERROR: Calculating beta diversity: correlation\n",
      "Calculating beta diversity: cosine\n"
     ]
    },
    {
     "name": "stdout",
     "output_type": "stream",
     "text": [
      "ERROR: Calculating beta diversity: cosine\n",
      "Calculating beta diversity: matching\n"
     ]
    },
    {
     "name": "stderr",
     "output_type": "stream",
     "text": [
      "/home/lauro/anaconda3/envs/qiime2-2023.5/lib/python3.8/site-packages/sklearn/metrics/pairwise.py:1761: DataConversionWarning: Data was converted to boolean for metric dice\n",
      "  warnings.warn(msg, DataConversionWarning)\n",
      "/home/lauro/anaconda3/envs/qiime2-2023.5/lib/python3.8/site-packages/sklearn/metrics/pairwise.py:1761: DataConversionWarning: Data was converted to boolean for metric matching\n",
      "  warnings.warn(msg, DataConversionWarning)\n",
      "/home/lauro/anaconda3/envs/qiime2-2023.5/lib/python3.8/site-packages/sklearn/metrics/pairwise.py:1761: DataConversionWarning: Data was converted to boolean for metric jaccard\n",
      "  warnings.warn(msg, DataConversionWarning)\n"
     ]
    },
    {
     "name": "stdout",
     "output_type": "stream",
     "text": [
      "DONE: Calculating beta diversity: matching\n",
      "Calculating beta diversity: jaccard\n",
      "DONE: Calculating beta diversity: jaccard\n"
     ]
    }
   ],
   "source": [
    "metrics = ('aitchison', 'braycurtis', 'canberra', 'canberra_adkins', 'chebyshev', 'cityblock', 'correlation', 'cosine', 'dice', 'euclidean', 'hamming', 'jaccard', 'jensenshannon', 'kulsinski', 'matching', 'minkowski', 'rogerstanimoto', 'russellrao', 'seuclidean', 'sokalmichener', 'sokalsneath', 'sqeuclidean', 'yule')\n",
    "metrics = ('euclidean', 'dice', 'braycurtis', 'correlation', 'cosine', 'matching', 'jaccard')\n",
    "beta_diversities = dict()\n",
    "for metric in metrics:\n",
    "    print(f\"Calculating beta diversity: {metric}\")\n",
    "    try:\n",
    "        beta_diversity = beta(table=tabs, metric=metric, n_jobs=6, pseudocount=1).distance_matrix\n",
    "        beta_diversities[metric] = beta_diversity\n",
    "        # Save SampleData[BetaDiversity] Artifact\n",
    "        file_path = os.path.join(beta_path, f'beta-values-{metric}.qza')\n",
    "        beta_diversity.save(file_path)\n",
    "        print(f\"DONE: Calculating beta diversity: {metric}\")\n",
    "    except Exception as e:\n",
    "        print(f\"ERROR: Calculating beta diversity: {metric}\")"
   ]
  },
  {
   "cell_type": "markdown",
   "id": "200a2fa7",
   "metadata": {
    "papermill": {
     "duration": 0.005224,
     "end_time": "2024-03-01T11:35:23.754400",
     "exception": false,
     "start_time": "2024-03-01T11:35:23.749176",
     "status": "completed"
    },
    "tags": []
   },
   "source": [
    "### Beta group significance\n",
    "\n",
    "- [diversity beta_group_significance](https://docs.qiime2.org/2022.8/plugins/available/diversity/beta-group-significance/): Determine whether groups of samples are significantly different from one another using a permutation-based statistical test.\n",
    "- Marti J Anderson. A new method for non-parametric multivariate analysis of variance. Austral ecology, 26(1):32–46, 2001. doi:https://doi.org/10.1111/j.1442-9993.2001.01070.pp.x."
   ]
  },
  {
   "cell_type": "code",
   "execution_count": 18,
   "id": "b8dd42b6",
   "metadata": {
    "ExecuteTime": {
     "end_time": "2022-09-29T20:55:08.313860Z",
     "start_time": "2022-09-29T20:54:36.336993Z"
    },
    "execution": {
     "iopub.execute_input": "2024-03-01T11:35:23.765719Z",
     "iopub.status.busy": "2024-03-01T11:35:23.765560Z",
     "iopub.status.idle": "2024-03-01T11:35:41.502992Z",
     "shell.execute_reply": "2024-03-01T11:35:41.502651Z"
    },
    "papermill": {
     "duration": 17.744692,
     "end_time": "2024-03-01T11:35:41.504246",
     "exception": false,
     "start_time": "2024-03-01T11:35:23.759554",
     "status": "completed"
    },
    "tags": []
   },
   "outputs": [
    {
     "name": "stdout",
     "output_type": "stream",
     "text": [
      "Calculating beta group significance with method permanova and metric euclidean\n"
     ]
    },
    {
     "name": "stdout",
     "output_type": "stream",
     "text": [
      "DONE: Calculating beta group significance: permanova euclidean\n",
      "Calculating beta group significance with method permanova and metric dice\n"
     ]
    },
    {
     "name": "stdout",
     "output_type": "stream",
     "text": [
      "DONE: Calculating beta group significance: permanova dice\n",
      "Calculating beta group significance with method permanova and metric braycurtis\n"
     ]
    },
    {
     "name": "stdout",
     "output_type": "stream",
     "text": [
      "DONE: Calculating beta group significance: permanova braycurtis\n",
      "Calculating beta group significance with method permanova and metric matching\n"
     ]
    },
    {
     "name": "stdout",
     "output_type": "stream",
     "text": [
      "DONE: Calculating beta group significance: permanova matching\n",
      "Calculating beta group significance with method permanova and metric jaccard\n"
     ]
    },
    {
     "name": "stdout",
     "output_type": "stream",
     "text": [
      "DONE: Calculating beta group significance: permanova jaccard\n",
      "Calculating beta group significance with method anosim and metric euclidean\n"
     ]
    },
    {
     "name": "stdout",
     "output_type": "stream",
     "text": [
      "DONE: Calculating beta group significance: anosim euclidean\n",
      "Calculating beta group significance with method anosim and metric dice\n"
     ]
    },
    {
     "name": "stdout",
     "output_type": "stream",
     "text": [
      "DONE: Calculating beta group significance: anosim dice\n",
      "Calculating beta group significance with method anosim and metric braycurtis\n"
     ]
    },
    {
     "name": "stdout",
     "output_type": "stream",
     "text": [
      "DONE: Calculating beta group significance: anosim braycurtis\n",
      "Calculating beta group significance with method anosim and metric matching\n"
     ]
    },
    {
     "name": "stdout",
     "output_type": "stream",
     "text": [
      "DONE: Calculating beta group significance: anosim matching\n",
      "Calculating beta group significance with method anosim and metric jaccard\n"
     ]
    },
    {
     "name": "stdout",
     "output_type": "stream",
     "text": [
      "DONE: Calculating beta group significance: anosim jaccard\n",
      "Calculating beta group significance with method permdisp and metric euclidean\n"
     ]
    },
    {
     "name": "stderr",
     "output_type": "stream",
     "text": [
      "/home/lauro/anaconda3/envs/qiime2-2023.5/lib/python3.8/site-packages/skbio/stats/ordination/_principal_coordinate_analysis.py:143: RuntimeWarning: The result contains negative eigenvalues. Please compare their magnitude with the magnitude of some of the largest positive eigenvalues. If the negative ones are smaller, it's probably safe to ignore them, but if they are large in magnitude, the results won't be useful. See the Notes section for more details. The smallest eigenvalue is -2.531963861038011e-07 and the largest is 1803636958.514766.\n",
      "  warn(\n"
     ]
    },
    {
     "name": "stderr",
     "output_type": "stream",
     "text": [
      "/home/lauro/anaconda3/envs/qiime2-2023.5/lib/python3.8/site-packages/skbio/stats/ordination/_principal_coordinate_analysis.py:143: RuntimeWarning: The result contains negative eigenvalues. Please compare their magnitude with the magnitude of some of the largest positive eigenvalues. If the negative ones are smaller, it's probably safe to ignore them, but if they are large in magnitude, the results won't be useful. See the Notes section for more details. The smallest eigenvalue is -3.176670210690561e-07 and the largest is 1803636958.514767.\n",
      "  warn(\n"
     ]
    },
    {
     "name": "stdout",
     "output_type": "stream",
     "text": [
      "DONE: Calculating beta group significance: permdisp euclidean\n",
      "Calculating beta group significance with method permdisp and metric dice\n"
     ]
    },
    {
     "name": "stdout",
     "output_type": "stream",
     "text": [
      "DONE: Calculating beta group significance: permdisp dice\n",
      "Calculating beta group significance with method permdisp and metric braycurtis\n"
     ]
    },
    {
     "name": "stdout",
     "output_type": "stream",
     "text": [
      "DONE: Calculating beta group significance: permdisp braycurtis\n",
      "Calculating beta group significance with method permdisp and metric matching\n"
     ]
    },
    {
     "name": "stdout",
     "output_type": "stream",
     "text": [
      "DONE: Calculating beta group significance: permdisp matching\n",
      "Calculating beta group significance with method permdisp and metric jaccard\n"
     ]
    },
    {
     "name": "stdout",
     "output_type": "stream",
     "text": [
      "DONE: Calculating beta group significance: permdisp jaccard\n"
     ]
    },
    {
     "data": {
      "text/plain": [
       "<Figure size 640x480 with 0 Axes>"
      ]
     },
     "metadata": {},
     "output_type": "display_data"
    }
   ],
   "source": [
    "methods = ('permanova', 'anosim', 'permdisp')\n",
    "for method in methods:\n",
    "    for metric, beta_diversity in beta_diversities.items():\n",
    "        print(f'Calculating beta group significance with method {method} and metric {metric}')\n",
    "        try:\n",
    "            beta_view = beta_group_significance(distance_matrix=beta_diversity, \n",
    "                                                metadata=metadata_qa.get_column(class_col), \n",
    "                                                pairwise=True, method=method).visualization\n",
    "            view_name = os.path.join(beta_path, f'beta-group-significance-{metric}-{method}.qzv')\n",
    "            beta_view.save(view_name)\n",
    "            print(f\"DONE: Calculating beta group significance: {method} {metric}\")\n",
    "        except Exception as e:\n",
    "            print(f\"ERROR: Calculating beta group significance: {method} {metric}\")"
   ]
  },
  {
   "cell_type": "code",
   "execution_count": 19,
   "id": "6366725e",
   "metadata": {
    "execution": {
     "iopub.execute_input": "2024-03-01T11:35:41.525373Z",
     "iopub.status.busy": "2024-03-01T11:35:41.525199Z",
     "iopub.status.idle": "2024-03-01T11:35:55.436456Z",
     "shell.execute_reply": "2024-03-01T11:35:55.436033Z"
    },
    "papermill": {
     "duration": 13.922865,
     "end_time": "2024-03-01T11:35:55.437444",
     "exception": false,
     "start_time": "2024-03-01T11:35:41.514579",
     "status": "completed"
    },
    "tags": []
   },
   "outputs": [
    {
     "name": "stdout",
     "output_type": "stream",
     "text": [
      "Calculating beta group significance with method permanova and metric unweighted_unifrac_distance_matrix\n"
     ]
    },
    {
     "name": "stdout",
     "output_type": "stream",
     "text": [
      "DONE: Calculating beta group significance: permanova unweighted_unifrac_distance_matrix\n",
      "Calculating beta group significance with method permanova and metric weighted_unifrac_distance_matrix\n"
     ]
    },
    {
     "name": "stdout",
     "output_type": "stream",
     "text": [
      "DONE: Calculating beta group significance: permanova weighted_unifrac_distance_matrix\n",
      "Calculating beta group significance with method permanova and metric jaccard_distance_matrix\n"
     ]
    },
    {
     "name": "stdout",
     "output_type": "stream",
     "text": [
      "DONE: Calculating beta group significance: permanova jaccard_distance_matrix\n",
      "Calculating beta group significance with method permanova and metric bray_curtis_distance_matrix\n"
     ]
    },
    {
     "name": "stdout",
     "output_type": "stream",
     "text": [
      "DONE: Calculating beta group significance: permanova bray_curtis_distance_matrix\n",
      "Calculating beta group significance with method anosim and metric unweighted_unifrac_distance_matrix\n"
     ]
    },
    {
     "name": "stdout",
     "output_type": "stream",
     "text": [
      "DONE: Calculating beta group significance: anosim unweighted_unifrac_distance_matrix\n",
      "Calculating beta group significance with method anosim and metric weighted_unifrac_distance_matrix\n"
     ]
    },
    {
     "name": "stdout",
     "output_type": "stream",
     "text": [
      "DONE: Calculating beta group significance: anosim weighted_unifrac_distance_matrix\n",
      "Calculating beta group significance with method anosim and metric jaccard_distance_matrix\n"
     ]
    },
    {
     "name": "stdout",
     "output_type": "stream",
     "text": [
      "DONE: Calculating beta group significance: anosim jaccard_distance_matrix\n",
      "Calculating beta group significance with method anosim and metric bray_curtis_distance_matrix\n"
     ]
    },
    {
     "name": "stdout",
     "output_type": "stream",
     "text": [
      "DONE: Calculating beta group significance: anosim bray_curtis_distance_matrix\n",
      "Calculating beta group significance with method permdisp and metric unweighted_unifrac_distance_matrix\n"
     ]
    },
    {
     "name": "stdout",
     "output_type": "stream",
     "text": [
      "DONE: Calculating beta group significance: permdisp unweighted_unifrac_distance_matrix\n",
      "Calculating beta group significance with method permdisp and metric weighted_unifrac_distance_matrix\n"
     ]
    },
    {
     "name": "stderr",
     "output_type": "stream",
     "text": [
      "/home/lauro/anaconda3/envs/qiime2-2023.5/lib/python3.8/site-packages/skbio/stats/ordination/_principal_coordinate_analysis.py:143: RuntimeWarning: The result contains negative eigenvalues. Please compare their magnitude with the magnitude of some of the largest positive eigenvalues. If the negative ones are smaller, it's probably safe to ignore them, but if they are large in magnitude, the results won't be useful. See the Notes section for more details. The smallest eigenvalue is -0.008299790058818576 and the largest is 0.37377950070889393.\n",
      "  warn(\n"
     ]
    },
    {
     "name": "stderr",
     "output_type": "stream",
     "text": [
      "/home/lauro/anaconda3/envs/qiime2-2023.5/lib/python3.8/site-packages/skbio/stats/ordination/_principal_coordinate_analysis.py:143: RuntimeWarning: The result contains negative eigenvalues. Please compare their magnitude with the magnitude of some of the largest positive eigenvalues. If the negative ones are smaller, it's probably safe to ignore them, but if they are large in magnitude, the results won't be useful. See the Notes section for more details. The smallest eigenvalue is -0.008299790058818592 and the largest is 0.37377950070889454.\n",
      "  warn(\n"
     ]
    },
    {
     "name": "stdout",
     "output_type": "stream",
     "text": [
      "DONE: Calculating beta group significance: permdisp weighted_unifrac_distance_matrix\n",
      "Calculating beta group significance with method permdisp and metric jaccard_distance_matrix\n"
     ]
    },
    {
     "name": "stdout",
     "output_type": "stream",
     "text": [
      "DONE: Calculating beta group significance: permdisp jaccard_distance_matrix\n",
      "Calculating beta group significance with method permdisp and metric bray_curtis_distance_matrix\n"
     ]
    },
    {
     "name": "stdout",
     "output_type": "stream",
     "text": [
      "DONE: Calculating beta group significance: permdisp bray_curtis_distance_matrix\n"
     ]
    },
    {
     "data": {
      "text/plain": [
       "<Figure size 640x480 with 0 Axes>"
      ]
     },
     "metadata": {},
     "output_type": "display_data"
    }
   ],
   "source": [
    "# Expand tests using UNIFRAC metrics\n",
    "methods = ('permanova', 'anosim', 'permdisp')\n",
    "for method in methods:\n",
    "    for metric, beta_diversity in distance_matrix.items():\n",
    "        print(f'Calculating beta group significance with method {method} and metric {metric}')\n",
    "        try:\n",
    "            beta_view = beta_group_significance(distance_matrix=beta_diversity, \n",
    "                                                metadata=metadata_qa.get_column(class_col), \n",
    "                                                pairwise=True, method=method).visualization\n",
    "            view_name = os.path.join(beta_path, f'beta-group-significance-{metric}-{method}.qzv')\n",
    "            beta_view.save(view_name)\n",
    "            print(f\"DONE: Calculating beta group significance: {method} {metric}\")\n",
    "        except Exception as e:\n",
    "            print(f\"ERROR: Calculating beta group significance: {method} {metric}\")"
   ]
  },
  {
   "cell_type": "markdown",
   "id": "c0de85cf",
   "metadata": {
    "papermill": {
     "duration": 0.006327,
     "end_time": "2024-03-01T11:35:55.450401",
     "exception": false,
     "start_time": "2024-03-01T11:35:55.444074",
     "status": "completed"
    },
    "tags": []
   },
   "source": [
    "### Beta group Rarefaction\n",
    "\n",
    "- [diversity beta_rarefaction](https://docs.qiime2.org/2022.8/plugins/available/diversity/beta-rarefaction/): Repeatedly rarefy a feature table to compare beta diversity results within a given rarefaction depth.  For a given beta diversity metric, this visualizer will provide: an Emperor jackknifed PCoA plot, samples clustered by UPGMA or neighbor joining with support calculation, and a heatmap showing the correlation between rarefaction trials of that beta diversity metric."
   ]
  }
 ],
 "metadata": {
  "celltoolbar": "Edit Metadata",
  "kernelspec": {
   "display_name": "Python 3 (ipykernel)",
   "language": "python",
   "name": "python3"
  },
  "language_info": {
   "codemirror_mode": {
    "name": "ipython",
    "version": 3
   },
   "file_extension": ".py",
   "mimetype": "text/x-python",
   "name": "python",
   "nbconvert_exporter": "python",
   "pygments_lexer": "ipython3",
   "version": "3.8.16"
  },
  "papermill": {
   "default_parameters": {},
   "duration": 51.819325,
   "end_time": "2024-03-01T11:35:56.374462",
   "environment_variables": {},
   "exception": null,
   "input_path": "nb-templates/step-diversity-analysis.ipynb",
   "output_path": "/mnt/nupeb/rede-micro/redemicro-miliane-nutri/experiments/miliane-CxAC-trim/nb-executed-steps/step-diversity-analysis-miliane-CxAC-trim.ipynb",
   "parameters": {
    "base_dir": "/mnt/nupeb/rede-micro/redemicro-miliane-nutri",
    "class_col": "group-id",
    "classifier_file": "/mnt/nupeb/rede-micro/datasets/16S_classifiers_qiime2/silva-138-99-nb-classifier.qza",
    "experiment_name": "miliane-CxAC-trim",
    "manifest_file": "/mnt/nupeb/rede-micro/redemicro-miliane-nutri/data/raw/manifest/miliane-manifest-CxAC.csv",
    "metadata_file": "/mnt/nupeb/rede-micro/redemicro-miliane-nutri/data/raw/metadata/miliane-metadata-CxAC.tsv",
    "overlap": 12,
    "phred": 20,
    "replace_files": false,
    "threads": 6,
    "trim": {
     "forward_primer": "CCTACGGGRSGCAGCAG",
     "overlap": 8,
     "reverse_primer": "GGACTACHVGGGTWTCTAAT"
    },
    "trunc_f": 0,
    "trunc_r": 0
   },
   "start_time": "2024-03-01T11:35:04.555137",
   "version": "2.4.0"
  }
 },
 "nbformat": 4,
 "nbformat_minor": 5
}