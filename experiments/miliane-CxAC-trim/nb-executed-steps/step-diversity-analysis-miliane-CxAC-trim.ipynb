{
 "cells": [
  {
   "cell_type": "markdown",
   "id": "15bcfa06",
   "metadata": {
    "papermill": {
     "duration": 0.026593,
     "end_time": "2022-10-14T16:48:48.461148",
     "exception": false,
     "start_time": "2022-10-14T16:48:48.434555",
     "status": "completed"
    },
    "tags": []
   },
   "source": [
    " \n",
    "# Alpha and Beta Diversity\n",
    "\n",
    "Different higher-level measures are often used to describe the microbiome in a sample. These do not provide information on changes in the abundance of specific taxa but allow us to access a broader change or difference in the composition of microorganisms. Alpha and beta diversity are examples of such measures.\n",
    "\n",
    "Different measures exist to estimate diversity within a single sample, jointly called alpha diversity. The different measures reflect the richness (number) or distribution (evenness) of a microbial sample or aim to reflect a combination of both properties.\n",
    "\n",
    "Rarefaction curves are often used when calculating alpha diversity indices because increasing numbers of sequenced taxa allow increasingly accurate estimates of total population diversity. Rarefaction curves can therefore be used to estimate the full sample richness, as compared to the observed sample richness.\n",
    "\n",
    "While alpha diversity is a measure of microbiome diversity applicable to a single sample, beta diversity is a measure of the similarity or dissimilarity of two communities. As for alpha diversity, many indices exist, each reflecting different aspects of community heterogeneity. Key differences relate to how the indices value variation in rare species if they consider presence/absence only or incorporate abundance, and how they interpret shared absence. Bray-Curtis dissimilarity is a popular measure that considers both size (overall abundance per sample) and shape (abundance of each taxon) of the communities (Bray, 1957). Beta diversity is an essential measure for many popular statistical methods in ecology, such as ordination-based methods, and is widely used for studying the association between environmental variables and microbial composition.\n",
    "\n",
    "In summary, alpha diversity measures can be seen as a summary statistic of a single population (within-sample diversity), while beta diversity measures are estimates of similarity or dissimilarity between populations (between samples).\n",
    "\n",
    "**Source**: (https://biomcare.com/info/key-terms-in-microbiome-projects/)"
   ]
  },
  {
   "cell_type": "markdown",
   "id": "0e7f2330",
   "metadata": {
    "ExecuteTime": {
     "end_time": "2022-09-22T19:36:33.828188Z",
     "start_time": "2022-09-22T19:36:33.817323Z"
    },
    "papermill": {
     "duration": 0.018873,
     "end_time": "2022-10-14T16:48:48.565727",
     "exception": false,
     "start_time": "2022-10-14T16:48:48.546854",
     "status": "completed"
    },
    "tags": []
   },
   "source": [
    "### STEP : Diversity Analysis\n",
    "\n",
    "Using QIIME2 to create diversity analisys graphs and calculations.\n",
    "\n",
    "- [QIIME2 Workflow Overview](https://docs.qiime2.org/2022.8/tutorials/overview/)\n",
    "\n",
    "\n",
    "#### Methods\n",
    "- [diversity](https://docs.qiime2.org/2022.8/plugins/available/diversity/)\n",
    "- [diversity alpha](https://docs.qiime2.org/2022.8/plugins/available/diversity/alpha/)\n",
    "- [diversity alpha_phylogenetic](https://docs.qiime2.org/2022.8/plugins/available/diversity/alpha-phylogenetic/)\n",
    "- [diversity beta](https://docs.qiime2.org/2022.8/plugins/available/diversity/beta/)\n",
    "- [diversity core_metrics](https://docs.qiime2.org/2022.8/plugins/available/diversity/core-metrics/)\n",
    "- [diversity alpha_group_significance](https://docs.qiime2.org/2022.8/plugins/available/diversity/alpha-group-significance/)\n",
    "- [diversity beta_group_significance](https://docs.qiime2.org/2022.8/plugins/available/diversity/beta-group-significance/)\n",
    "- [feature_table core_features](https://docs.qiime2.org/2022.8/plugins/available/feature-table/core-features/)\n",
    "- [feature_table summarize](https://docs.qiime2.org/2022.8/plugins/available/feature-table/summarize/)\n",
    "- [taxa filter-table](https://docs.qiime2.org/2022.8/plugins/available/taxa/filter-table/)\n",
    "- [taxa collapse](https://docs.qiime2.org/2022.8/plugins/available/taxa/collapse/)"
   ]
  },
  {
   "cell_type": "markdown",
   "id": "843debbf",
   "metadata": {
    "papermill": {
     "duration": 0.017686,
     "end_time": "2022-10-14T16:48:48.601763",
     "exception": false,
     "start_time": "2022-10-14T16:48:48.584077",
     "status": "completed"
    },
    "tags": []
   },
   "source": [
    "## Setup and settings"
   ]
  },
  {
   "cell_type": "code",
   "execution_count": 1,
   "id": "965e28e5",
   "metadata": {
    "ExecuteTime": {
     "end_time": "2022-09-29T20:54:14.786765Z",
     "start_time": "2022-09-29T20:54:08.286473Z"
    },
    "execution": {
     "iopub.execute_input": "2022-10-14T16:48:48.724842Z",
     "iopub.status.busy": "2022-10-14T16:48:48.724399Z",
     "iopub.status.idle": "2022-10-14T16:48:55.242258Z",
     "shell.execute_reply": "2022-10-14T16:48:55.241627Z"
    },
    "papermill": {
     "duration": 6.626161,
     "end_time": "2022-10-14T16:48:55.245426",
     "exception": false,
     "start_time": "2022-10-14T16:48:48.619265",
     "status": "completed"
    },
    "tags": []
   },
   "outputs": [],
   "source": [
    "# Importing packages\n",
    "import os\n",
    "import pandas as pd\n",
    "from qiime2 import Artifact\n",
    "from qiime2 import Visualization\n",
    "from qiime2 import Metadata\n",
    "\n",
    "from qiime2.plugins.phylogeny.pipelines import align_to_tree_mafft_fasttree\n",
    "\n",
    "from qiime2.plugins.diversity.pipelines import alpha\n",
    "from qiime2.plugins.diversity.pipelines import beta\n",
    "from qiime2.plugins.diversity.pipelines import core_metrics\n",
    "from qiime2.plugins.diversity.pipelines import alpha_phylogenetic\n",
    "\n",
    "from qiime2.plugins.diversity.visualizers import alpha_group_significance\n",
    "from qiime2.plugins.diversity.visualizers import beta_group_significance\n",
    "from qiime2.plugins.diversity.visualizers import alpha_correlation\n",
    "from qiime2.plugins.diversity.visualizers import beta_rarefaction\n",
    "\n",
    "from qiime2.plugins.taxa.methods import filter_table\n",
    "from qiime2.plugins.taxa.methods import collapse\n",
    "\n",
    "from qiime2.plugins.feature_table.visualizers import tabulate_seqs\n",
    "from qiime2.plugins.feature_table.visualizers import summarize\n",
    "from qiime2.plugins.feature_table.visualizers import core_features\n",
    "\n",
    "from qiime2.plugins.alignment.methods import mafft\n",
    "\n",
    "\n",
    "import matplotlib.pyplot as plt\n",
    "\n",
    "%matplotlib inline"
   ]
  },
  {
   "cell_type": "markdown",
   "id": "530ceb60",
   "metadata": {
    "papermill": {
     "duration": 0.016283,
     "end_time": "2022-10-14T16:48:55.285281",
     "exception": false,
     "start_time": "2022-10-14T16:48:55.268998",
     "status": "completed"
    },
    "tags": []
   },
   "source": [
    "### Receiving the parameters\n",
    "\n",
    "The following cell can receive parameters using the [papermill](https://papermill.readthedocs.io/en/latest/) tool."
   ]
  },
  {
   "cell_type": "code",
   "execution_count": 2,
   "id": "18d874ea",
   "metadata": {
    "ExecuteTime": {
     "end_time": "2022-09-29T20:54:14.793270Z",
     "start_time": "2022-09-29T20:54:14.789367Z"
    },
    "execution": {
     "iopub.execute_input": "2022-10-14T16:48:55.322273Z",
     "iopub.status.busy": "2022-10-14T16:48:55.322061Z",
     "iopub.status.idle": "2022-10-14T16:48:55.326147Z",
     "shell.execute_reply": "2022-10-14T16:48:55.325628Z"
    },
    "papermill": {
     "duration": 0.023674,
     "end_time": "2022-10-14T16:48:55.327556",
     "exception": false,
     "start_time": "2022-10-14T16:48:55.303882",
     "status": "completed"
    },
    "tags": [
     "parameters"
    ]
   },
   "outputs": [],
   "source": [
    "metadata_file = '/home/lauro/nupeb/rede-micro/redemicro-miliane-nutri/data/raw/metadata/miliane-metadata-CxAC.tsv'\n",
    "base_dir = os.path.join('/', 'home', 'lauro', 'nupeb', 'rede-micro', 'redemicro-miliane-nutri')\n",
    "experiment_name = 'miliane-CxAC-trim'\n",
    "class_col = 'group-id'\n",
    "replace_files = False"
   ]
  },
  {
   "cell_type": "code",
   "execution_count": 3,
   "id": "fb9f5b31",
   "metadata": {
    "execution": {
     "iopub.execute_input": "2022-10-14T16:48:55.361735Z",
     "iopub.status.busy": "2022-10-14T16:48:55.361420Z",
     "iopub.status.idle": "2022-10-14T16:48:55.366578Z",
     "shell.execute_reply": "2022-10-14T16:48:55.365991Z"
    },
    "papermill": {
     "duration": 0.023894,
     "end_time": "2022-10-14T16:48:55.368031",
     "exception": false,
     "start_time": "2022-10-14T16:48:55.344137",
     "status": "completed"
    },
    "tags": [
     "injected-parameters"
    ]
   },
   "outputs": [],
   "source": [
    "# Parameters\n",
    "experiment_name = \"miliane-CxAC-trim\"\n",
    "base_dir = \"/home/lauro/nupeb/rede-micro/redemicro-miliane-nutri\"\n",
    "manifest_file = \"/home/lauro/nupeb/rede-micro/redemicro-miliane-nutri/data/raw/manifest/miliane-manifest-CxAC.csv\"\n",
    "metadata_file = \"/home/lauro/nupeb/rede-micro/redemicro-miliane-nutri/data/raw/metadata/miliane-metadata-CxAC.tsv\"\n",
    "class_col = \"group-id\"\n",
    "classifier_file = \"/home/lauro/nupeb/dados_brutos_rede_genoma/16S_classifiers_qiime2/silva-138-99-nb-classifier.qza\"\n",
    "replace_files = False\n",
    "phred = 20\n",
    "trunc_f = 0\n",
    "trunc_r = 0\n",
    "overlap = 12\n",
    "threads = 6\n",
    "trim = {\n",
    "    \"overlap\": 8,\n",
    "    \"forward_primer\": \"CCTACGGGRSGCAGCAG\",\n",
    "    \"reverse_primer\": \"GGACTACHVGGGTWTCTAAT\",\n",
    "}\n"
   ]
  },
  {
   "cell_type": "code",
   "execution_count": 4,
   "id": "f38617d9",
   "metadata": {
    "ExecuteTime": {
     "end_time": "2022-09-29T20:54:14.804575Z",
     "start_time": "2022-09-29T20:54:14.794927Z"
    },
    "execution": {
     "iopub.execute_input": "2022-10-14T16:48:55.403518Z",
     "iopub.status.busy": "2022-10-14T16:48:55.403251Z",
     "iopub.status.idle": "2022-10-14T16:48:55.407719Z",
     "shell.execute_reply": "2022-10-14T16:48:55.407084Z"
    },
    "papermill": {
     "duration": 0.02342,
     "end_time": "2022-10-14T16:48:55.409181",
     "exception": false,
     "start_time": "2022-10-14T16:48:55.385761",
     "status": "completed"
    },
    "tags": []
   },
   "outputs": [],
   "source": [
    "experiment_folder = os.path.abspath(os.path.join(base_dir, 'experiments', experiment_name))\n",
    "img_folder = os.path.abspath(os.path.join(experiment_folder, 'imgs'))"
   ]
  },
  {
   "cell_type": "markdown",
   "id": "ea9b90fb",
   "metadata": {
    "papermill": {
     "duration": 0.017042,
     "end_time": "2022-10-14T16:48:55.442431",
     "exception": false,
     "start_time": "2022-10-14T16:48:55.425389",
     "status": "completed"
    },
    "tags": []
   },
   "source": [
    "### Defining names, paths and flags"
   ]
  },
  {
   "cell_type": "code",
   "execution_count": 5,
   "id": "45727eef",
   "metadata": {
    "ExecuteTime": {
     "end_time": "2022-09-29T20:54:14.816686Z",
     "start_time": "2022-09-29T20:54:14.806238Z"
    },
    "execution": {
     "iopub.execute_input": "2022-10-14T16:48:55.477273Z",
     "iopub.status.busy": "2022-10-14T16:48:55.477056Z",
     "iopub.status.idle": "2022-10-14T16:48:55.485569Z",
     "shell.execute_reply": "2022-10-14T16:48:55.484861Z"
    },
    "papermill": {
     "duration": 0.02686,
     "end_time": "2022-10-14T16:48:55.487050",
     "exception": false,
     "start_time": "2022-10-14T16:48:55.460190",
     "status": "completed"
    },
    "tags": []
   },
   "outputs": [],
   "source": [
    "# QIIME2 Artifacts folder\n",
    "qiime_folder = os.path.join(experiment_folder, 'qiime-artifacts')\n",
    "\n",
    "# Input - DADA2 Artifacts\n",
    "dada2_tabs_path = os.path.join(qiime_folder, 'dada2-tabs.qza')\n",
    "dada2_reps_path = os.path.join(qiime_folder, 'dada2-reps.qza')\n",
    "dada2_stat_path = os.path.join(qiime_folder, 'dada2-stat.qza')\n",
    "\n",
    "# Input - Taxonaomic Artifacts\n",
    "taxonomy_path = os.path.join(qiime_folder, 'metatax.qza')\n",
    "\n",
    "# Output -Diversity Artifacts\n",
    "alpha_diversity_path = os.path.join(qiime_folder, 'alpha-diversity.qza')\n",
    "alpha_diversity_view_path = os.path.join(qiime_folder, 'alpha-diversity.qzv')\n",
    "beta_diversity_path = os.path.join(qiime_folder, 'beta-diversity.qza')\n",
    "beta_diversity_view_path = os.path.join(qiime_folder, 'beta-diversity.qzv')\n",
    "\n",
    "dada2_tabs_view = os.path.join(qiime_folder, 'dada2-tabs.qzv')\n",
    "dada2_reps_view = os.path.join(qiime_folder, 'dada2-reps.qzv')\n",
    "dada2_core_view = os.path.join(qiime_folder, 'dada2-core.qzv')\n",
    "\n",
    "# Flag - Load or create files\n",
    "need_tax = not (os.path.isfile(alpha_diversity_path)) or replace_files\n",
    "need_view = not (os.path.isfile(alpha_diversity_view_path)) or replace_files"
   ]
  },
  {
   "cell_type": "code",
   "execution_count": 6,
   "id": "601ae263",
   "metadata": {
    "ExecuteTime": {
     "end_time": "2022-09-29T20:54:14.829117Z",
     "start_time": "2022-09-29T20:54:14.818272Z"
    },
    "execution": {
     "iopub.execute_input": "2022-10-14T16:48:55.523796Z",
     "iopub.status.busy": "2022-10-14T16:48:55.523462Z",
     "iopub.status.idle": "2022-10-14T16:48:55.532128Z",
     "shell.execute_reply": "2022-10-14T16:48:55.531508Z"
    },
    "papermill": {
     "duration": 0.027467,
     "end_time": "2022-10-14T16:48:55.533586",
     "exception": false,
     "start_time": "2022-10-14T16:48:55.506119",
     "status": "completed"
    },
    "tags": []
   },
   "outputs": [],
   "source": [
    "def filter_and_collapse(tab, seqs, tax, meta, lvl, exclude=True, exclude_list='uncultured,unidentified,metagenome'):\n",
    "    from qiime2.plugins.taxa.methods import collapse\n",
    "    from qiime2.plugins.taxa.methods import filter_table\n",
    "    from qiime2.plugins.feature_table.methods import filter_seqs\n",
    "    from qiime2.plugins.feature_table.visualizers import summarize\n",
    "    \n",
    "    to_include = ('d', 'p', 'c', 'o', 'f', 'g', 's')[lvl-1]\n",
    "    to_include += '__'\n",
    "    to_exclude = exclude_list if exclude else None\n",
    "    \n",
    "    filtered_tabs = filter_table(\n",
    "        table=tab, \n",
    "        taxonomy=tax,\n",
    "        include=to_include,\n",
    "        exclude=to_exclude,\n",
    "        mode='contains').filtered_table\n",
    "    \n",
    "    filtered_seqs = filter_seqs(\n",
    "        data = seqs,\n",
    "        table = filtered_tabs,\n",
    "    ).filtered_data\n",
    "    \n",
    "    collapsed_table = collapse(table=filtered_tabs, taxonomy=tax, level=lvl).collapsed_table\n",
    "    collapsed_table_view = summarize(table=collapsed_table, sample_metadata=meta).visualization\n",
    "    \n",
    "    return collapsed_table, collapsed_table_view, filtered_seqs"
   ]
  },
  {
   "cell_type": "markdown",
   "id": "0999a1b2",
   "metadata": {
    "papermill": {
     "duration": 0.01647,
     "end_time": "2022-10-14T16:48:55.568488",
     "exception": false,
     "start_time": "2022-10-14T16:48:55.552018",
     "status": "completed"
    },
    "tags": []
   },
   "source": [
    "## Step execution\n",
    "\n",
    "### Load input files\n",
    "\n",
    "This Step import the QIIME2 `FeatureTable[Frequency]` Artifact and the `Metadata` file."
   ]
  },
  {
   "cell_type": "code",
   "execution_count": 7,
   "id": "8f299d1a",
   "metadata": {
    "ExecuteTime": {
     "end_time": "2022-09-29T20:54:15.559837Z",
     "start_time": "2022-09-29T20:54:14.830405Z"
    },
    "execution": {
     "iopub.execute_input": "2022-10-14T16:48:55.603029Z",
     "iopub.status.busy": "2022-10-14T16:48:55.602712Z",
     "iopub.status.idle": "2022-10-14T16:48:55.987343Z",
     "shell.execute_reply": "2022-10-14T16:48:55.986633Z"
    },
    "papermill": {
     "duration": 0.404709,
     "end_time": "2022-10-14T16:48:55.989969",
     "exception": false,
     "start_time": "2022-10-14T16:48:55.585260",
     "status": "completed"
    },
    "tags": []
   },
   "outputs": [],
   "source": [
    "#Load Metadata\n",
    "metadata_qa = Metadata.load(metadata_file)\n",
    "\n",
    "#Load FeatureTable[Frequency]\n",
    "tabs = Artifact.load(dada2_tabs_path)\n",
    "tabs_df = tabs.view(Metadata).to_dataframe().T\n",
    "\n",
    "# FeatureData[Sequence]\n",
    "reps = Artifact.load(dada2_reps_path)\n",
    "\n",
    "# FeatureData[Taxonomy]\n",
    "tax = Artifact.load(taxonomy_path)"
   ]
  },
  {
   "cell_type": "code",
   "execution_count": 8,
   "id": "c8dfe530",
   "metadata": {
    "ExecuteTime": {
     "end_time": "2022-09-29T20:54:15.564968Z",
     "start_time": "2022-09-29T20:54:15.561875Z"
    },
    "execution": {
     "iopub.execute_input": "2022-10-14T16:48:56.031111Z",
     "iopub.status.busy": "2022-10-14T16:48:56.030898Z",
     "iopub.status.idle": "2022-10-14T16:48:56.034079Z",
     "shell.execute_reply": "2022-10-14T16:48:56.033557Z"
    },
    "papermill": {
     "duration": 0.022147,
     "end_time": "2022-10-14T16:48:56.035461",
     "exception": false,
     "start_time": "2022-10-14T16:48:56.013314",
     "status": "completed"
    },
    "tags": []
   },
   "outputs": [],
   "source": [
    "# lvl = 7\n",
    "# exclude = True\n",
    "# tabs, collapsed_table_view, reps = filter_and_collapse(\n",
    "#                     tabs, reps, tax, metadata_qa, \n",
    "#                     lvl=lvl,\n",
    "#                     exclude=exclude, \n",
    "#                     exclude_list='uncultured,unidentified,metagenome')\n",
    "# collapsed_table_view"
   ]
  },
  {
   "cell_type": "code",
   "execution_count": 9,
   "id": "8b66a6e5",
   "metadata": {
    "ExecuteTime": {
     "end_time": "2022-09-29T20:54:20.434382Z",
     "start_time": "2022-09-29T20:54:15.567722Z"
    },
    "execution": {
     "iopub.execute_input": "2022-10-14T16:48:56.069567Z",
     "iopub.status.busy": "2022-10-14T16:48:56.069371Z",
     "iopub.status.idle": "2022-10-14T16:49:01.026493Z",
     "shell.execute_reply": "2022-10-14T16:49:01.025832Z"
    },
    "papermill": {
     "duration": 4.978475,
     "end_time": "2022-10-14T16:49:01.030549",
     "exception": false,
     "start_time": "2022-10-14T16:48:56.052074",
     "status": "completed"
    },
    "tags": []
   },
   "outputs": [
    {
     "data": {
      "text/plain": [
       "'/home/lauro/nupeb/rede-micro/redemicro-miliane-nutri/experiments/miliane-CxAC-trim/qiime-artifacts/dada2-core.qzv'"
      ]
     },
     "execution_count": 9,
     "metadata": {},
     "output_type": "execute_result"
    },
    {
     "data": {
      "image/png": "[encoded data removed]",
      "text/plain": [
       "<Figure size 432x288 with 1 Axes>"
      ]
     },
     "metadata": {
      "needs_background": "light"
     },
     "output_type": "display_data"
    }
   ],
   "source": [
    "tabs_view = summarize(table=tabs, sample_metadata=metadata_qa).visualization\n",
    "tabs_view.save(dada2_tabs_view)\n",
    "reps_view = tabulate_seqs(data=reps).visualization\n",
    "reps_view.save(dada2_reps_view)\n",
    "core_view = core_features(table=tabs, min_fraction=.1, steps=10).visualization\n",
    "core_view.save(dada2_core_view)"
   ]
  },
  {
   "cell_type": "code",
   "execution_count": 10,
   "id": "b2bf36b8",
   "metadata": {
    "ExecuteTime": {
     "end_time": "2022-09-29T20:54:20.449299Z",
     "start_time": "2022-09-29T20:54:20.435814Z"
    },
    "execution": {
     "iopub.execute_input": "2022-10-14T16:49:01.074441Z",
     "iopub.status.busy": "2022-10-14T16:49:01.074268Z",
     "iopub.status.idle": "2022-10-14T16:49:01.091784Z",
     "shell.execute_reply": "2022-10-14T16:49:01.091266Z"
    },
    "papermill": {
     "duration": 0.038206,
     "end_time": "2022-10-14T16:49:01.093737",
     "exception": false,
     "start_time": "2022-10-14T16:49:01.055531",
     "status": "completed"
    },
    "tags": []
   },
   "outputs": [
    {
     "name": "stdout",
     "output_type": "stream",
     "text": [
      "['29e98c92-a711-4360-a9a9-85855b24f453/data/core-features-1.000.tsv']\n",
      "                          Feature ID      2%       9%      25%     50%  \\\n",
      "0   c688e3b1ada46ed57f5b7e7e0d56664f  400.74   567.83  3168.50  9079.5   \n",
      "1   fca5b1ccd94b107a3ddf3e99feaafb6f  812.32  1278.94  2834.25  5627.0   \n",
      "2   26fb6a43293a39fa4463bc35a69457b2  420.58   643.11  2381.00  3918.0   \n",
      "3   55b8f708d3561852ca20801e513b08a7  412.98   612.41   900.75  3566.5   \n",
      "4   ff6880f38ac8c1569873d503a3d53c2a  901.16  1384.72  1836.25  3381.0   \n",
      "5   bc798de4a9acd3ff7ba51c244523be14  361.44   401.48  1101.00  2853.0   \n",
      "6   a1bc173c37d38b7a95f6f464d62fa86e  348.68   729.06  1012.50  1532.5   \n",
      "7   60ad690613589cad95c200968df41bb5  227.00   304.00   454.25  1313.0   \n",
      "8   33be3de1f8ec58c58a1d87db108d913c  453.74   736.33   924.25  1263.0   \n",
      "9   bfbcddb34034c8e1327bc8e4a3817f73  445.62   731.29   847.75  1012.0   \n",
      "10  94da0800673da2590ace91fc6e62c80a   91.86   101.87   377.50   809.5   \n",
      "11  b6b804323b11530a7bb8c25d42de7c58  341.68   529.56   569.50   774.0   \n",
      "12  06376bd58e034461292535056d63710f   73.60   135.20   426.25   648.5   \n",
      "13  72e62b56bb188827c70b57b9b1abdc71  122.02   192.09   304.50   473.0   \n",
      "14  d54ba858dcfc687c0433becca93d891c   58.64    67.88   211.25   468.5   \n",
      "15  f91de93a2a6c016c964ba9583e72190c  121.56   158.52   288.00   366.0   \n",
      "16  191bca7ba3d98899bc0037f6a2b82f1b   77.88    80.96   160.00   238.5   \n",
      "17  b803764a3bf4c19193100cbe10778b1b   47.80    78.60   115.00   237.0   \n",
      "18  3aa324222f8ba93b3e7263588f586d1c   39.36    68.62   104.25   192.0   \n",
      "19  d87bf25a6ca7762903d692d567a10280   14.54    19.93    56.25   120.0   \n",
      "\n",
      "         75%       91%       98%  \n",
      "0   16105.25  26750.65  29726.70  \n",
      "1   12796.75  19986.71  21350.38  \n",
      "2    7309.50  10340.15  11968.70  \n",
      "3    7336.00  10128.06  13828.68  \n",
      "4    4071.50   6905.00   7059.00  \n",
      "5    4038.00   9131.38  10238.64  \n",
      "6    2903.00   5647.49   6840.22  \n",
      "7    2946.50   6544.14   8479.92  \n",
      "8    1858.25   3611.53   3652.34  \n",
      "9    2206.00   3507.63   4326.14  \n",
      "10   1114.50   1575.23   2439.94  \n",
      "11   1511.75   2805.77   3096.06  \n",
      "12   1110.00   3597.02   3752.56  \n",
      "13    670.00   1269.68   1476.04  \n",
      "14    580.25    736.29    912.62  \n",
      "15    636.25   1047.23   2219.94  \n",
      "16    486.25    585.74    950.72  \n",
      "17    747.50   1667.63   1947.14  \n",
      "18    406.25    520.61    567.58  \n",
      "19    196.25    250.53    291.34  \n"
     ]
    }
   ],
   "source": [
    "import zipfile\n",
    "from io import StringIO\n",
    "import pandas as pd\n",
    "with zipfile.ZipFile(dada2_core_view, 'r') as zip_ref:\n",
    "    names = [x for x in zip_ref.namelist() if x.endswith('1.000.tsv')]\n",
    "    print(names)\n",
    "    with zip_ref.open(names[0]) as myfile:\n",
    "        txt = str(myfile.read(), 'utf-8')\n",
    "        txt = StringIO(txt)\n",
    "        df = pd.read_csv(txt, sep='\\t')\n",
    "        print(df)   "
   ]
  },
  {
   "cell_type": "markdown",
   "id": "9f43843a",
   "metadata": {
    "ExecuteTime": {
     "end_time": "2022-09-22T22:48:07.523952Z",
     "start_time": "2022-09-22T22:48:07.517565Z"
    },
    "papermill": {
     "duration": 0.018311,
     "end_time": "2022-10-14T16:49:01.132721",
     "exception": false,
     "start_time": "2022-10-14T16:49:01.114410",
     "status": "completed"
    },
    "tags": []
   },
   "source": [
    "## Alpha diversity analysis\n",
    "\n",
    "#### Reference\n",
    "- [The Use and Types of Alpha-Diversity Metrics in Microbial NGS](https://www.cd-genomics.com/microbioseq/the-use-and-types-of-alpha-diversity-metrics-in-microbial-ngs.html)\n",
    "- [Alpha diversity metrics](http://scikit-bio.org/docs/0.2.0/generated/skbio.diversity.alpha.html)\n",
    "\n",
    "#### Methods\n",
    "- [diversity alpha](https://docs.qiime2.org/2022.8/plugins/available/diversity/alpha/): Computes a user-specified alpha diversity metric for all samples in a\n",
    "feature table.\n",
    "- [diversity alpha_phylogenetic](https://docs.qiime2.org/2022.8/plugins/available/diversity/alpha-phylogenetic/): Computes a user-specified phylogenetic alpha diversity metric for all\n",
    "samples in a feature table.\n",
    "- [diversity alpha_correlation](https://docs.qiime2.org/2022.8/plugins/available/diversity/alpha-correlation/): Determine whether numeric sample metadata columns are correlated with alpha diversity.\n",
    "- [diversity alpha_group_significance](https://docs.qiime2.org/2022.8/plugins/available/diversity/alpha-group-significance/): Visually and statistically compare groups of alpha diversity values."
   ]
  },
  {
   "cell_type": "markdown",
   "id": "606b9c75",
   "metadata": {
    "papermill": {
     "duration": 0.033147,
     "end_time": "2022-10-14T16:49:01.184217",
     "exception": false,
     "start_time": "2022-10-14T16:49:01.151070",
     "status": "completed"
    },
    "tags": []
   },
   "source": [
    "### Compute Alpha Diversity vectors\n",
    "- [diversity alpha](https://docs.qiime2.org/2022.8/plugins/available/diversity/alpha/): Computes a user-specified alpha diversity metric for all samples in a feature table.\n",
    "- [Alpha diversity metrics](http://scikit-bio.org/docs/0.2.0/generated/skbio.diversity.alpha.html)\n",
    " - Choices: ('ace', 'berger_parker_d', 'brillouin_d', 'chao1', 'chao1_ci', 'dominance', 'doubles', 'enspie', 'esty_ci', 'fisher_alpha', 'gini_index', 'goods_coverage', 'heip_e', 'kempton_taylor_q', 'lladser_pe', 'margalef', 'mcintosh_d', 'mcintosh_e', 'menhinick', 'michaelis_menten_fit', 'observed_features', 'osd', 'pielou_e', 'robbins', 'shannon', 'simpson', 'simpson_e', 'singles', 'strong')"
   ]
  },
  {
   "cell_type": "code",
   "execution_count": 11,
   "id": "556e5264",
   "metadata": {
    "ExecuteTime": {
     "end_time": "2022-09-29T20:54:20.790166Z",
     "start_time": "2022-09-29T20:54:20.451134Z"
    },
    "execution": {
     "iopub.execute_input": "2022-10-14T16:49:01.223754Z",
     "iopub.status.busy": "2022-10-14T16:49:01.223509Z",
     "iopub.status.idle": "2022-10-14T16:49:01.527531Z",
     "shell.execute_reply": "2022-10-14T16:49:01.526718Z"
    },
    "papermill": {
     "duration": 0.326817,
     "end_time": "2022-10-14T16:49:01.530507",
     "exception": false,
     "start_time": "2022-10-14T16:49:01.203690",
     "status": "completed"
    },
    "tags": []
   },
   "outputs": [
    {
     "name": "stdout",
     "output_type": "stream",
     "text": [
      "Calculating alpha diversty: chao1\n"
     ]
    },
    {
     "name": "stdout",
     "output_type": "stream",
     "text": [
      "Calculating alpha diversty: simpson\n",
      "Calculating alpha diversty: shannon\n",
      "Calculating alpha diversty: ace\n"
     ]
    },
    {
     "name": "stdout",
     "output_type": "stream",
     "text": [
      "Calculating alpha diversty: observed_features\n"
     ]
    }
   ],
   "source": [
    "metrics = ('chao1', 'simpson', 'shannon', 'ace', 'observed_features')\n",
    "alpha_diversities = dict()\n",
    "for metric in metrics:\n",
    "    print(f\"Calculating alpha diversty: {metric}\")\n",
    "    alpha_diversity = alpha(table=tabs, metric=metric).alpha_diversity\n",
    "    alpha_diversities[metric] = alpha_diversity"
   ]
  },
  {
   "cell_type": "markdown",
   "id": "184bcb7b",
   "metadata": {
    "papermill": {
     "duration": 0.019241,
     "end_time": "2022-10-14T16:49:01.574194",
     "exception": false,
     "start_time": "2022-10-14T16:49:01.554953",
     "status": "completed"
    },
    "tags": []
   },
   "source": [
    "### Create Phylogenetic inference\n",
    "\n",
    "- [alignment align_to_tree_mafft_fasttree](https://docs.qiime2.org/2022.8/plugins/available/phylogeny/align-to-tree-mafft-fasttree/): Build a phylogenetic tree using fasttree and mafft alignment\n",
    "\n",
    "This pipeline will start by creating a sequence alignment using MAFFT,\n",
    "after which any alignment columns that are phylogenetically uninformative\n",
    "or ambiguously aligned will be removed (masked). The resulting masked\n",
    "alignment will be used to infer a phylogenetic tree and then subsequently\n",
    "rooted at its midpoint. Output files from each step of the pipeline will be\n",
    "saved. This includes both the unmasked and masked MAFFT alignment from\n",
    "q2-alignment methods, and both the rooted and unrooted phylogenies from\n",
    "q2-phylogeny methods.\n",
    "\n",
    "\n",
    "Returns\n",
    "- alignment : FeatureData[AlignedSequence] : The aligned sequences.\n",
    "- masked_alignment : FeatureData[AlignedSequence] : The masked alignment.\n",
    "- tree : Phylogeny[Unrooted] : The unrooted phylogenetic tree.\n",
    "- rooted_tree : Phylogeny[Rooted] : The rooted phylogenetic tree."
   ]
  },
  {
   "cell_type": "code",
   "execution_count": 12,
   "id": "9c8cfe47",
   "metadata": {
    "ExecuteTime": {
     "end_time": "2022-09-29T20:54:35.139531Z",
     "start_time": "2022-09-29T20:54:20.792130Z"
    },
    "execution": {
     "iopub.execute_input": "2022-10-14T16:49:01.614606Z",
     "iopub.status.busy": "2022-10-14T16:49:01.614367Z",
     "iopub.status.idle": "2022-10-14T16:49:16.211374Z",
     "shell.execute_reply": "2022-10-14T16:49:16.210796Z"
    },
    "papermill": {
     "duration": 14.619221,
     "end_time": "2022-10-14T16:49:16.212949",
     "exception": false,
     "start_time": "2022-10-14T16:49:01.593728",
     "status": "completed"
    },
    "tags": []
   },
   "outputs": [
    {
     "name": "stdout",
     "output_type": "stream",
     "text": [
      "Running external command line application. This may print messages to stdout and/or stderr.\n",
      "The command being run is below. This command cannot be manually re-run as it will depend on temporary files that no longer exist.\n",
      "\n",
      "Command: mafft --preservecase --inputorder --thread 6 /tmp/qiime2-archive-wninrrbw/2f80a2b8-d473-4e42-82e6-a2f605b0e0d9/data/dna-sequences.fasta\n",
      "\n"
     ]
    },
    {
     "name": "stderr",
     "output_type": "stream",
     "text": [
      "inputfile = orig\n",
      "918 x 430 - 271 d\n",
      "nthread = 6\n",
      "nthreadpair = 6\n",
      "nthreadtb = 6\n",
      "ppenalty_ex = 0\n",
      "stacksize: 8192 kb\n",
      "generating a scoring matrix for nucleotide (dist=200) ... done\n",
      "Gap Penalty = -1.53, +0.00, +0.00\n",
      "\n",
      "\n",
      "\n",
      "Making a distance matrix ..\n",
      "\r",
      "    1 / 918 (thread    0)\r",
      "  101 / 918 (thread    3)\r",
      "  201 / 918 (thread    1)\r",
      "  301 / 918 (thread    0)\r",
      "  401 / 918 (thread    3)\r",
      "  501 / 918 (thread    0)\r",
      "  601 / 918 (thread    1)\r",
      "  701 / 918 (thread    3)\r",
      "  801 / 918 (thread    2)\r",
      "  901 / 918 (thread    2)\n",
      "done.\n",
      "\n",
      "Constructing a UPGMA tree (efffree=0) ... \n",
      "\r",
      "    0 / 918\r",
      "   10 / 918\r",
      "   20 / 918\r",
      "   30 / 918\r",
      "   40 / 918\r",
      "   50 / 918\r",
      "   60 / 918\r",
      "   70 / 918\r",
      "   80 / 918\r",
      "   90 / 918\r",
      "  100 / 918\r",
      "  110 / 918\r",
      "  120 / 918\r",
      "  130 / 918\r",
      "  140 / 918\r",
      "  150 / 918\r",
      "  160 / 918\r",
      "  170 / 918\r",
      "  180 / 918\r",
      "  190 / 918\r",
      "  200 / 918\r",
      "  210 / 918\r",
      "  220 / 918\r",
      "  230 / 918"
     ]
    },
    {
     "name": "stderr",
     "output_type": "stream",
     "text": [
      "\r",
      "  240 / 918\r",
      "  250 / 918\r",
      "  260 / 918\r",
      "  270 / 918\r",
      "  280 / 918\r",
      "  290 / 918\r",
      "  300 / 918\r",
      "  310 / 918\r",
      "  320 / 918\r",
      "  330 / 918\r",
      "  340 / 918\r",
      "  350 / 918\r",
      "  360 / 918\r",
      "  370 / 918\r",
      "  380 / 918\r",
      "  390 / 918\r",
      "  400 / 918\r",
      "  410 / 918\r",
      "  420 / 918\r",
      "  430 / 918\r",
      "  440 / 918\r",
      "  450 / 918\r",
      "  460 / 918\r",
      "  470 / 918\r",
      "  480 / 918\r",
      "  490 / 918\r",
      "  500 / 918\r",
      "  510 / 918\r",
      "  520 / 918\r",
      "  530 / 918\r",
      "  540 / 918\r",
      "  550 / 918\r",
      "  560 / 918\r",
      "  570 / 918\r",
      "  580 / 918\r",
      "  590 / 918\r",
      "  600 / 918\r",
      "  610 / 918\r",
      "  620 / 918\r",
      "  630 / 918\r",
      "  640 / 918\r",
      "  650 / 918\r",
      "  660 / 918\r",
      "  670 / 918\r",
      "  680 / 918\r",
      "  690 / 918\r",
      "  700 / 918\r",
      "  710 / 918\r",
      "  720 / 918\r",
      "  730 / 918\r",
      "  740 / 918\r",
      "  750 / 918\r",
      "  760 / 918\r",
      "  770 / 918\r",
      "  780 / 918\r",
      "  790 / 918\r",
      "  800 / 918\r",
      "  810 / 918\r",
      "  820 / 918\r",
      "  830 / 918\r",
      "  840 / 918\r",
      "  850 / 918\r",
      "  860 / 918\r",
      "  870 / 918\r",
      "  880 / 918\r",
      "  890 / 918\r",
      "  900 / 918\r",
      "  910 / 918\n",
      "done.\n",
      "\n",
      "Progressive alignment 1/2... \n",
      "\r",
      "STEP     1 / 917 (thread    0) f\b\b\r",
      "STEP     2 / 917 (thread    1) f\b\b\r",
      "STEP     3 / 917 (thread    3) f\b\b\r",
      "STEP     4 / 917 (thread    4) f\b\b\r",
      "STEP     5 / 917 (thread    2) f\b\b\r",
      "STEP     6 / 917 (thread    5) f\b\b\r",
      "STEP     7 / 917 (thread    0) f\b\b\r",
      "STEP     8 / 917 (thread    3) f\b\b\r",
      "STEP     9 / 917 (thread    1) f\b\b\r",
      "STEP    10 / 917 (thread    4) f\b\b\r",
      "STEP    11 / 917 (thread    2) f\b\b\r",
      "STEP    12 / 917 (thread    5) f\b\b\r",
      "STEP    13 / 917 (thread    0) f\b\b\r",
      "STEP    14 / 917 (thread    1) f\b\b\r",
      "STEP    15 / 917 (thread    3) f\b\b\r",
      "STEP    16 / 917 (thread    4) f\b\b\r",
      "STEP    17 / 917 (thread    0) f\b\b\r",
      "STEP    18 / 917 (thread    1) f\b\b\r",
      "STEP    19 / 917 (thread    3) f\b\b\r",
      "STEP    20 / 917 (thread    5) f\b\b\r",
      "STEP    21 / 917 (thread    2) f\b\b\r",
      "STEP    22 / 917 (thread    0) f\b\b\r",
      "STEP    23 / 917 (thread    4) f\b\b\r",
      "STEP    24 / 917 (thread    3) f\b\b\r",
      "STEP    25 / 917 (thread    1) f\b\b\r",
      "STEP    26 / 917 (thread    0) f\b\b\r",
      "STEP    27 / 917 (thread    3) f\b\b\r",
      "STEP    28 / 917 (thread    2) f\b\b\r",
      "STEP    29 / 917 (thread    5) f\b\b\r",
      "STEP    30 / 917 (thread    4) f\b\b\r",
      "STEP    31 / 917 (thread    0) f\b\b\r",
      "STEP    32 / 917 (thread    1) f\b\b\r",
      "STEP    33 / 917 (thread    3) f\b\b\r",
      "STEP    34 / 917 (thread    0) f\b\b\r",
      "STEP    35 / 917 (thread    4) f\b\b\r",
      "STEP    36 / 917 (thread    2) f\b\b\r",
      "STEP    37 / 917 (thread    5) f\b\b\r",
      "STEP    38 / 917 (thread    1) f\b\b\r",
      "STEP    39 / 917 (thread    3) f\b\b\r",
      "STEP    40 / 917 (thread    4) f\b\b\r",
      "STEP    41 / 917 (thread    0) f\b\b\r",
      "STEP    42 / 917 (thread    1) f\b\b\r",
      "STEP    43 / 917 (thread    5) f\b\b\r",
      "STEP    44 / 917 (thread    2) f\b\b\r",
      "STEP    45 / 917 (thread    3) f\b\b\r",
      "STEP    46 / 917 (thread    4) f\b\b\r",
      "STEP    47 / 917 (thread    0) f\b\b\r",
      "STEP    48 / 917 (thread    1) f\b\b\r",
      "STEP    49 / 917 (thread    3) f\b\b\r",
      "STEP    50 / 917 (thread    2) f\b\b\r",
      "STEP    51 / 917 (thread    5) f\b\b\r",
      "STEP    52 / 917 (thread    4) f\b\b\r",
      "STEP    53 / 917 (thread    0) f\b\b\r",
      "STEP    54 / 917 (thread    1) f\b\b\r",
      "STEP    55 / 917 (thread    4) f\b\b\r",
      "STEP    56 / 917 (thread    3) f\b\b\r",
      "STEP    57 / 917 (thread    2) f\b\b\r",
      "STEP    58 / 917 (thread    5) f\b\b\r",
      "STEP    59 / 917 (thread    0) f\b\b\r",
      "STEP    60 / 917 (thread    1) f\b\b\r",
      "STEP    61 / 917 (thread    4) f\b\b\r",
      "STEP    62 / 917 (thread    3) f\b\b\r",
      "STEP    63 / 917 (thread    5) f\b\b\r",
      "STEP    64 / 917 (thread    2) f\b\b\r",
      "STEP    65 / 917 (thread    4) f\b\b\r",
      "STEP    66 / 917 (thread    3) f\b\b\r",
      "STEP    67 / 917 (thread    4) f\b\b\r",
      "STEP    68 / 917 (thread    5) f\b\b\r",
      "STEP    69 / 917 (thread    2) f\b\b\r",
      "STEP    70 / 917 (thread    1) f\b\b\r",
      "STEP    71 / 917 (thread    0) f\b\b\r",
      "STEP    72 / 917 (thread    3) f\b\b\r",
      "STEP    73 / 917 (thread    4) f\b\b\r",
      "STEP    74 / 917 (thread    5) f\b\b\r",
      "STEP    75 / 917 (thread    2) f\b\b\r",
      "STEP    76 / 917 (thread    1) f\b\b\r",
      "STEP    77 / 917 (thread    0) f\b\b\r",
      "STEP    78 / 917 (thread    4) f\b\b\r",
      "STEP    79 / 917 (thread    3) f\b\b\r",
      "STEP    80 / 917 (thread    1) f\b\b\r",
      "STEP    81 / 917 (thread    2) f\b\b\r",
      "STEP    82 / 917 (thread    5) f\b\b\r",
      "STEP    83 / 917 (thread    4) f\b\b\r",
      "STEP    84 / 917 (thread    0) f\b\b\r",
      "STEP    85 / 917 (thread    3) f\b\b\r",
      "STEP    86 / 917 (thread    1) f\b\b\r",
      "STEP    87 / 917 (thread    4) f\b\b\r",
      "STEP    88 / 917 (thread    5) f\b\b\r",
      "STEP    89 / 917 (thread    2) f\b\b\r",
      "STEP    90 / 917 (thread    0) f\b\b\r",
      "STEP    91 / 917 (thread    3) f\b\b\r",
      "STEP    92 / 917 (thread    1) f\b\b\r",
      "STEP    93 / 917 (thread    4) f\b\b\r",
      "STEP    94 / 917 (thread    0) f\b\b\r",
      "STEP    95 / 917 (thread    2) f\b\b\r",
      "STEP    96 / 917 (thread    5) f\b\b\r",
      "STEP    97 / 917 (thread    3) f\b\b\r",
      "STEP    98 / 917 (thread    4) f\b\b\r",
      "STEP    99 / 917 (thread    1) f\b\b\r",
      "STEP   100 / 917 (thread    0) f\b\b\r",
      "STEP   101 / 917 (thread    5) f\b\b\r",
      "STEP   102 / 917 (thread    2) f\b\b\r",
      "STEP   103 / 917 (thread    4) f\b\b\r",
      "STEP   104 / 917 (thread    3) f\b\b\r",
      "STEP   105 / 917 (thread    1) f\b\b\r",
      "STEP   106 / 917 (thread    4) f\b\b\r",
      "STEP   107 / 917 (thread    0) f\b\b\r",
      "STEP   108 / 917 (thread    3) f\b\b\r",
      "STEP   109 / 917 (thread    2) f\b\b\r",
      "STEP   110 / 917 (thread    5) f\b\b\r",
      "STEP   111 / 917 (thread    1) f\b\b\r",
      "STEP   112 / 917 (thread    4) f\b\b\r",
      "STEP   113 / 917 (thread    0) f\b\b\r",
      "STEP   114 / 917 (thread    3) f\b\b\r",
      "STEP   115 / 917 (thread    2) f\b\b\r",
      "STEP   116 / 917 (thread    5) f\b\b\r",
      "STEP   117 / 917 (thread    1) f\b\b\r",
      "STEP   118 / 917 (thread    4) f\b\b\r",
      "STEP   119 / 917 (thread    0) f\b\b\r",
      "STEP   120 / 917 (thread    3) f\b\b\r",
      "STEP   121 / 917 (thread    4) f\b\b\r",
      "STEP   122 / 917 (thread    1) f\b\b\r",
      "STEP   123 / 917 (thread    2) f\b\b\r",
      "STEP   124 / 917 (thread    5) f\b\b\r",
      "STEP   125 / 917 (thread    0) f\b\b\r",
      "STEP   126 / 917 (thread    4) f\b\b\r",
      "STEP   127 / 917 (thread    3) f\b\b\r",
      "STEP   128 / 917 (thread    1) f\b\b\r",
      "STEP   129 / 917 (thread    2) f\b\b\r",
      "STEP   130 / 917 (thread    5) f\b\b\r",
      "STEP   131 / 917 (thread    0) f\b\b\r",
      "STEP   132 / 917 (thread    1) f\b\b\r",
      "STEP   133 / 917 (thread    4) f\b\b\r",
      "STEP   135 / 917 (thread    0) f\b\b\r",
      "STEP   136 / 917 (thread    5) f\b\b\r",
      "STEP   137 / 917 (thread    1) f\b\b\r",
      "STEP   138 / 917 (thread    2) f\b\b\r",
      "STEP   139 / 917 (thread    4) f\b\b\r",
      "STEP   134 / 917 (thread    3) f\b\b\r",
      "STEP   140 / 917 (thread    0) f\b\b\r",
      "STEP   141 / 917 (thread    4) f\b\b\r",
      "STEP   142 / 917 (thread    0) f\b\b\r",
      "STEP   143 / 917 (thread    5) f\b\b\r",
      "STEP   144 / 917 (thread    1) f\b\b\r",
      "STEP   145 / 917 (thread    2) f\b\b\r",
      "STEP   146 / 917 (thread    3) f\b\b\r",
      "STEP   147 / 917 (thread    4) f\b\b\r",
      "STEP   148 / 917 (thread    0) f\b\b\r",
      "STEP   149 / 917 (thread    1) f\b\b\r",
      "STEP   150 / 917 (thread    5) f\b\b\r",
      "STEP   151 / 917 (thread    4) f\b\b\r",
      "STEP   152 / 917 (thread    0) f\b\b\r",
      "STEP   153 / 917 (thread    3) f\b\b\r",
      "STEP   154 / 917 (thread    1) f\b\b\r",
      "STEP   155 / 917 (thread    5) f\b\b\r",
      "STEP   156 / 917 (thread    0) f\b\b\r",
      "STEP   157 / 917 (thread    2) f\b\b\r",
      "STEP   158 / 917 (thread    4) f\b\b\r",
      "STEP   159 / 917 (thread    3) f\b\b\r",
      "STEP   160 / 917 (thread    1) f\b\b\r",
      "STEP   161 / 917 (thread    0) f\b\b\r",
      "STEP   162 / 917 (thread    4) f\b\b\r",
      "STEP   163 / 917 (thread    2) f\b\b\r",
      "STEP   164 / 917 (thread    4) f\b\b\r",
      "STEP   165 / 917 (thread    0) f\b\b\r",
      "STEP   166 / 917 (thread    5) f\b\b\r",
      "STEP   167 / 917 (thread    3) f\b\b\r",
      "STEP   168 / 917 (thread    1) f\b\b\r",
      "STEP   169 / 917 (thread    2) f\b\b\r",
      "STEP   170 / 917 (thread    0) f\b\b\r",
      "STEP   171 / 917 (thread    4) f\b\b\r",
      "STEP   172 / 917 (thread    0) f\b\b\r",
      "STEP   173 / 917 (thread    2) f\b\b\r",
      "STEP   174 / 917 (thread    3) f\b\b\r",
      "STEP   175 / 917 (thread    5) f\b\b\r",
      "STEP   176 / 917 (thread    0) f\b\b\r",
      "STEP   177 / 917 (thread    1) f\b\b\r",
      "STEP   178 / 917 (thread    4) f\b\b\r",
      "STEP   179 / 917 (thread    2) f\b\b\r",
      "STEP   180 / 917 (thread    5) f\b\b\r",
      "STEP   181 / 917 (thread    3) f\b\b\r",
      "STEP   182 / 917 (thread    0) f\b\b\r",
      "STEP   183 / 917 (thread    2) f\b\b\r",
      "STEP   184 / 917 (thread    5) f\b\b\r",
      "STEP   185 / 917 (thread    0) f\b\b\r",
      "STEP   186 / 917 (thread    4) f\b\b\r",
      "STEP   187 / 917 (thread    1) f\b\b\r",
      "STEP   190 / 917 (thread    4) f\b\b\r",
      "STEP   189 / 917 (thread    0) f\b\b\r",
      "STEP   191 / 917 (thread    5) f\b\b\r",
      "STEP   188 / 917 (thread    2) f\b\b\r",
      "STEP   192 / 917 (thread    3) f\b\b\r",
      "STEP   193 / 917 (thread    4) f\b\b\r",
      "STEP   194 / 917 (thread    5) f\b\b\r",
      "STEP   195 / 917 (thread    0) f\b\b\r",
      "STEP   196 / 917 (thread    1) f\b\b\r",
      "STEP   197 / 917 (thread    3) f\b\b\r",
      "STEP   198 / 917 (thread    2) f\b\b\r",
      "STEP   199 / 917 (thread    4) f\b\b\r",
      "STEP   200 / 917 (thread    3) f\b\b\r",
      "STEP   201 / 917 (thread    0) f\b\b\r",
      "STEP   202 / 917 (thread    4) f\b\b\r",
      "STEP   203 / 917 (thread    2) f\b\b\r",
      "STEP   204 / 917 (thread    0) f\b\b\r",
      "STEP   205 / 917 (thread    5) f\b\b\r",
      "STEP   206 / 917 (thread    1) f\b\b\r",
      "STEP   207 / 917 (thread    3) f\b\b\r",
      "STEP   208 / 917 (thread    4) f\b\b\r",
      "STEP   209 / 917 (thread    0) f\b\b\r",
      "STEP   210 / 917 (thread    2) f\b\b\r",
      "STEP   211 / 917 (thread    5) f\b\b\r",
      "STEP   212 / 917 (thread    1) f\b\b\r",
      "STEP   213 / 917 (thread    0) f\b\b\r",
      "STEP   214 / 917 (thread    4) f\b\b\r",
      "STEP   215 / 917 (thread    0) f\b\b\r",
      "STEP   216 / 917 (thread    2) f\b\b\r",
      "STEP   217 / 917 (thread    5) f\b\b\r",
      "STEP   218 / 917 (thread    1) f\b\b\r",
      "STEP   219 / 917 (thread    4) f\b\b\r",
      "STEP   220 / 917 (thread    3) f\b\b\r",
      "STEP   221 / 917 (thread    0) f\b\b\r",
      "STEP   222 / 917 (thread    2) f\b\b\r",
      "STEP   223 / 917 (thread    5) f\b\b\r",
      "STEP   224 / 917 (thread    1) f\b\b\r",
      "STEP   225 / 917 (thread    0) f\b\b\r",
      "STEP   226 / 917 (thread    4) f\b\b\r",
      "STEP   227 / 917 (thread    3) f\b\b\r",
      "STEP   228 / 917 (thread    0) f\b\b\r",
      "STEP   229 / 917 (thread    2) f\b\b\r",
      "STEP   231 / 917 (thread    1) f\b\b\r",
      "STEP   232 / 917 (thread    4) f\b\b\r",
      "STEP   233 / 917 (thread    0) f\b\b\r",
      "STEP   230 / 917 (thread    5) f\b\b\r",
      "STEP   234 / 917 (thread    2) f\b\b\r",
      "STEP   235 / 917 (thread    3) f\b\b\r",
      "STEP   236 / 917 (thread    4) f\b\b\r",
      "STEP   237 / 917 (thread    1) f\b\b\r",
      "STEP   238 / 917 (thread    0) f\b\b\r",
      "STEP   239 / 917 (thread    2) f\b\b\r",
      "STEP   240 / 917 (thread    5) f\b\b\r",
      "STEP   241 / 917 (thread    0) f\b\b\r",
      "STEP   242 / 917 (thread    2) f\b\b\r",
      "STEP   243 / 917 (thread    3) f\b\b\r",
      "STEP   244 / 917 (thread    4) f\b\b\r",
      "STEP   245 / 917 (thread    0) f\b\b\r",
      "STEP   246 / 917 (thread    5) f\b\b\r",
      "STEP   247 / 917 (thread    1) f\b\b\r",
      "STEP   248 / 917 (thread    2) f\b\b\r",
      "STEP   249 / 917 (thread    3) f\b\b\r",
      "STEP   250 / 917 (thread    0) f\b\b\r",
      "STEP   251 / 917 (thread    3) f\b\b\r",
      "STEP   252 / 917 (thread    2) f\b\b\r",
      "STEP   253 / 917 (thread    4) f\b\b\r",
      "STEP   254 / 917 (thread    5) f\b\b\r",
      "STEP   255 / 917 (thread    0) f\b\b\r",
      "STEP   256 / 917 (thread    1) f\b\b\r",
      "STEP   257 / 917 (thread    4) f\b\b\r",
      "STEP   258 / 917 (thread    0) f\b\b\r",
      "STEP   259 / 917 (thread    5) f\b\b\r",
      "STEP   260 / 917 (thread    3) f\b\b\r",
      "STEP   261 / 917 (thread    2) f\b\b\r",
      "STEP   262 / 917 (thread    0) f\b\b\r",
      "STEP   263 / 917 (thread    5) f\b\b\r",
      "STEP   264 / 917 (thread    0) f\b\b\r",
      "STEP   265 / 917 (thread    2) f\b\b\r",
      "STEP   266 / 917 (thread    1) f\b\b\r",
      "STEP   267 / 917 (thread    4) f\b\b\r",
      "STEP   268 / 917 (thread    0) f\b\b\r",
      "STEP   269 / 917 (thread    3) f\b\b\r",
      "STEP   270 / 917 (thread    5) f\b\b\r",
      "STEP   271 / 917 (thread    1) f\b\b\r",
      "STEP   272 / 917 (thread    2) f\b\b\r",
      "STEP   273 / 917 (thread    5) f\b\b\r",
      "STEP   274 / 917 (thread    0) f\b\b\r",
      "STEP   275 / 917 (thread    2) f\b\b\r",
      "STEP   276 / 917 (thread    4) f\b\b\r",
      "STEP   277 / 917 (thread    1) f\b\b\r",
      "STEP   278 / 917 (thread    0) f\b\b\r",
      "STEP   279 / 917 (thread    3) f\b\b\r",
      "STEP   280 / 917 (thread    2) f\b\b\r",
      "STEP   281 / 917 (thread    5) f\b\b\r",
      "STEP   282 / 917 (thread    1) f\b\b\r",
      "STEP   283 / 917 (thread    4) f\b\b\r",
      "STEP   284 / 917 (thread    3) f\b\b\r",
      "STEP   285 / 917 (thread    0) f\b\b\r",
      "STEP   286 / 917 (thread    5) f\b\b\r",
      "STEP   287 / 917 (thread    2) f\b\b\r",
      "STEP   288 / 917 (thread    0) f\b\b\r",
      "STEP   289 / 917 (thread    2) f\b\b\r",
      "STEP   290 / 917 (thread    0) f\b\b\r",
      "STEP   291 / 917 (thread    5) f\b\b\r",
      "STEP   292 / 917 (thread    1) f\b\b\r",
      "STEP   293 / 917 (thread    2) f\b\b\r",
      "STEP   294 / 917 (thread    0) f\b\b\r",
      "STEP   295 / 917 (thread    4) f\b\b\r",
      "STEP   296 / 917 (thread    3) f\b\b\r",
      "STEP   297 / 917 (thread    5)\r",
      "STEP   298 / 917 (thread    1) f\b\b f\b\b\r",
      "STEP   299 / 917 (thread    0) f\b\b\r",
      "STEP   300 / 917 (thread    2) f\b\b\r",
      "STEP   301 / 917 (thread    0) f\b\b\r",
      "STEP   302 / 917 (thread    4) f\b\b\r",
      "STEP   303 / 917 (thread    2) f\b\b\r",
      "STEP   304 / 917 (thread    0) f\b\b\r",
      "STEP   305 / 917 (thread    5) f\b\b\r",
      "STEP   306 / 917 (thread    4) f\b\b\r",
      "STEP   307 / 917 (thread    1) f\b\b\r",
      "STEP   308 / 917 (thread    2) f\b\b\r",
      "STEP   309 / 917 (thread    3) f\b\b\r",
      "STEP   310 / 917 (thread    0) f\b\b\r",
      "STEP   311 / 917 (thread    5) f\b\b\r",
      "STEP   313 / 917 (thread    0) f\b\b\r",
      "STEP   314 / 917 (thread    4) f\b\b\r",
      "STEP   312 / 917 (thread    2) f\b\b\r",
      "STEP   315 / 917 (thread    3) f\b\b\r",
      "STEP   316 / 917 (thread    1) f\b\b\r",
      "STEP   317 / 917 (thread    5) f\b\b\r",
      "STEP   318 / 917 (thread    0) f\b\b\r",
      "STEP   319 / 917 (thread    2) f\b\b\r",
      "STEP   320 / 917 (thread    1) f\b\b\r",
      "STEP   321 / 917 (thread    0) f\b\b\r",
      "STEP   322 / 917 (thread    5) f\b\b\r",
      "STEP   323 / 917 (thread    3) f\b\b\r",
      "STEP   324 / 917 (thread    4) f\b\b\r",
      "STEP   325 / 917 (thread    2) f\b\b\r",
      "STEP   326 / 917 (thread    0) f\b\b\r",
      "STEP   327 / 917 (thread    0) f\b\b\r",
      "STEP   328 / 917 (thread    1) f\b\b\r",
      "STEP   329 / 917 (thread    5) f\b\b\r",
      "STEP   330 / 917 (thread    2) f\b\b\r",
      "STEP   331 / 917 (thread    3) f\b\b\r",
      "STEP   333 / 917 (thread    4) f\b\b\r",
      "STEP   332 / 917 (thread    1) f\b\b\r",
      "STEP   334 / 917 (thread    0) f\b\b\r",
      "STEP   336 / 917 (thread    5) f\b\b\r",
      "STEP   335 / 917 (thread    3) f\b\b\r",
      "STEP   337 / 917 (thread    4) f\b\b\r",
      "STEP   338 / 917 (thread    1) f\b\b\r",
      "STEP   339 / 917 (thread    2) f\b\b\r",
      "STEP   340 / 917 (thread    0) f\b\b\r",
      "STEP   341 / 917 (thread    3) f\b\b\r",
      "STEP   342 / 917 (thread    1) f\b\b\r",
      "STEP   343 / 917 (thread    2) f\b\b\r",
      "STEP   344 / 917 (thread    0) f\b\b\r",
      "STEP   345 / 917 (thread    5) f\b\b\r",
      "STEP   346 / 917 (thread    4) f\b\b\r",
      "STEP   347 / 917 (thread    3) f\b\b\r",
      "STEP   348 / 917 (thread    0) f\b\b\r",
      "STEP   349 / 917 (thread    4) f\b\b\r",
      "STEP   350 / 917 (thread    2) f\b\b\r",
      "STEP   351 / 917 (thread    5) f\b\b\r",
      "STEP   352 / 917 (thread    1) f\b\b\r",
      "STEP   353 / 917 (thread    0) f\b\b\r",
      "STEP   354 / 917 (thread    4) f\b\b\r",
      "STEP   355 / 917 (thread    3) f\b\b\r",
      "STEP   356 / 917 (thread    2) f\b\b\r",
      "STEP   357 / 917 (thread    0) f\b\b\r",
      "STEP   358 / 917 (thread    3) f\b\b\r",
      "STEP   359 / 917 (thread    5) f\b\b\r",
      "STEP   360 / 917 (thread    1) f\b\b\r",
      "STEP   361 / 917 (thread    4) f\b\b\r",
      "STEP   362 / 917 (thread    0) f\b\b\r",
      "STEP   363 / 917 (thread    2) f\b\b\r",
      "STEP   364 / 917 (thread    3) f\b\b\r",
      "STEP   365 / 917 (thread    0) f\b\b\r",
      "STEP   366 / 917 (thread    2) f\b\b\r",
      "STEP   367 / 917 (thread    0) f\b\b\r",
      "STEP   368 / 917 (thread    5) f\b\b\r",
      "STEP   369 / 917 (thread    4) f\b\b\r",
      "STEP   370 / 917 (thread    3) f\b\b\r",
      "STEP   371 / 917 (thread    1) f\b\b\r",
      "STEP   372 / 917 (thread    0) f\b\b\r",
      "STEP   373 / 917 (thread    2) f\b\b\r",
      "STEP   374 / 917 (thread    3) f\b\b\r",
      "STEP   375 / 917 (thread    4) f\b\b\r",
      "STEP   376 / 917 (thread    5) f\b\b\r",
      "STEP   377 / 917 (thread    1) f\b\b\r",
      "STEP   378 / 917 (thread    0) f\b\b\r",
      "STEP   379 / 917 (thread    3) f\b\b\r",
      "STEP   380 / 917 (thread    0) f\b\b\r",
      "STEP   381 / 917 (thread    3) f\b\b\r",
      "STEP   382 / 917 (thread    2) f\b\b\r",
      "STEP   383 / 917 (thread    5) f\b\b\r",
      "STEP   384 / 917 (thread    4) f\b\b\r",
      "STEP   385 / 917 (thread    1) f\b\b\r",
      "STEP   386 / 917 (thread    0) f\b\b\r",
      "STEP   387 / 917 (thread    4) f\b\b\r",
      "STEP   388 / 917 (thread    3) f\b\b\r",
      "STEP   389 / 917 (thread    1) f\b\b\r",
      "STEP   390 / 917 (thread    2) f\b\b\r",
      "STEP   391 / 917 (thread    0) f\b\b\r",
      "STEP   392 / 917 (thread    5) f\b\b\r",
      "STEP   393 / 917 (thread    3) f\b\b\r",
      "STEP   394 / 917 (thread    0) f\b\b\r",
      "STEP   395 / 917 (thread    4) f\b\b\r",
      "STEP   396 / 917 (thread    1) f\b\b\r",
      "STEP   397 / 917 (thread    2) f\b\b\r",
      "STEP   398 / 917 (thread    5) f\b\b\r",
      "STEP   399 / 917 (thread    0) f\b\b\r",
      "STEP   400 / 917 (thread    2) f\b\b\r",
      "STEP   401 / 917 (thread    3) f\b\b\r",
      "STEP   402 / 917 (thread    4) f\b\b\r",
      "STEP   403 / 917 (thread    0) f\b\b\r",
      "STEP   404 / 917 (thread    1) f\b\b\r",
      "STEP   405 / 917 (thread    3) f\b\b\r",
      "STEP   406 / 917 (thread    5) f\b\b\r",
      "STEP   407 / 917 (thread    0) f\b\b\r",
      "STEP   408 / 917 (thread    2) f\b\b\r",
      "STEP   409 / 917 (thread    1) f\b\b\r",
      "STEP   410 / 917 (thread    3) f\b\b\r",
      "STEP   411 / 917 (thread    5) f\b\b\r",
      "STEP   412 / 917 (thread    0) f\b\b\r",
      "STEP   413 / 917 (thread    4) f\b\b\r",
      "STEP   415 / 917 (thread    2) f\b\b\r",
      "STEP   414 / 917 (thread    3) f\b\b\r",
      "STEP   416 / 917 (thread    1) f\b\b\r",
      "STEP   417 / 917 (thread    0) f\b\b\r",
      "STEP   418 / 917 (thread    5) f\b\b\r",
      "STEP   419 / 917 (thread    2) f\b\b\r",
      "STEP   420 / 917 (thread    4) f\b\b\r",
      "STEP   421 / 917 (thread    3) f\b\b\r",
      "STEP   422 / 917 (thread    0) f\b\b\r",
      "STEP   423 / 917 (thread    1) f\b\b\r",
      "STEP   424 / 917 (thread    4) f\b\b\r",
      "STEP   425 / 917 (thread    2) f\b\b\r",
      "STEP   426 / 917 (thread    3) f\b\b\r",
      "STEP   427 / 917 (thread    0) f\b\b\r",
      "STEP   429 / 917 (thread    4) f\b\b\r",
      "STEP   430 / 917 (thread    0) f\b\b\r",
      "STEP   431 / 917 (thread    3) f\b\b\r",
      "STEP   432 / 917 (thread    0) f\b\b\r",
      "STEP   433 / 917 (thread    4) f\b\b\r",
      "STEP   434 / 917 (thread    1) f\b\b\r",
      "STEP   428 / 917 (thread    5) f\b\b\r",
      "STEP   435 / 917 (thread    2) f\b\b\r",
      "STEP   436 / 917 (thread    4) f\b\b\r",
      "STEP   437 / 917 (thread    3) f\b\b\r",
      "STEP   438 / 917 (thread    0) f\b\b\r",
      "STEP   439 / 917 (thread    3) f\b\b\r",
      "STEP   440 / 917 (thread    5) f\b\b\r",
      "STEP   441 / 917 (thread    1) f\b\b\r",
      "STEP   443 / 917 (thread    0) f\b\b\r",
      "STEP   444 / 917 (thread    2) f\b\b\r",
      "STEP   442 / 917 (thread    4) f\b\b\r",
      "STEP   445 / 917 (thread    0) f\b\b\r",
      "STEP   446 / 917 (thread    5) f\b\b\r",
      "STEP   447 / 917 (thread    3) f\b\b\r",
      "STEP   448 / 917 (thread    0) f\b\b\r",
      "STEP   450 / 917 (thread    4) f\b\b\r",
      "STEP   449 / 917 (thread    1) f\b\b\r",
      "STEP   451 / 917 (thread    5) f\b\b\r",
      "STEP   452 / 917 (thread    2) f\b\b\r",
      "STEP   453 / 917 (thread    3) f\b\b\r",
      "STEP   454 / 917 (thread    4) f\b\b\r",
      "STEP   455 / 917 (thread    1) f\b\b\r",
      "STEP   456 / 917 (thread    5) f\b\b\r",
      "STEP   457 / 917 (thread    0) f\b\b\r",
      "STEP   458 / 917 (thread    2) f\b\b\r",
      "STEP   459 / 917 (thread    3) f\b\b\r",
      "STEP   461 / 917 (thread    1) f\b\b\r",
      "STEP   460 / 917 (thread    2) f\b\b\r",
      "STEP   462 / 917 (thread    4) f\b\b\r",
      "STEP   463 / 917 (thread    5) f\b\b\r",
      "STEP   464 / 917 (thread    0) f\b\b\r",
      "STEP   466 / 917 (thread    3) f\b\b\r",
      "STEP   465 / 917 (thread    5) f\b\b\r",
      "STEP   468 / 917 (thread    2) f\b\b\r",
      "STEP   469 / 917 (thread    4) f\b\b\r",
      "STEP   467 / 917 (thread    1) f\b\b\r",
      "STEP   470 / 917 (thread    0) f\b\b\r",
      "STEP   471 / 917 (thread    5) f\b\b\r",
      "STEP   472 / 917 (thread    3) f\b\b\r",
      "STEP   473 / 917 (thread    2) f\b\b\r",
      "STEP   474 / 917 (thread    1) f\b\b\r",
      "STEP   475 / 917 (thread    4) f\b\b\r",
      "STEP   476 / 917 (thread    0) f\b\b\r",
      "STEP   477 / 917 (thread    5) f\b\b\r",
      "STEP   478 / 917 (thread    3) f\b\b\r",
      "STEP   479 / 917 (thread    2) f\b\b\r",
      "STEP   480 / 917 (thread    1) f\b\b\r",
      "STEP   481 / 917 (thread    4) f\b\b\r",
      "STEP   482 / 917 (thread    0) f\b\b\r",
      "STEP   483 / 917 (thread    3) f\b\b\r",
      "STEP   485 / 917 (thread    0) f\b\b\r",
      "STEP   484 / 917 (thread    5) f\b\b\r",
      "STEP   486 / 917 (thread    3) f\b\b\r",
      "STEP   487 / 917 (thread    1) f\b\b\r",
      "STEP   488 / 917 (thread    4) f\b\b\r",
      "STEP   490 / 917 (thread    2) f\b\b\r",
      "STEP   491 / 917 (thread    5) f\b\b\r",
      "STEP   489 / 917 (thread    3) f\b\b\r",
      "STEP   492 / 917 (thread    0) f\b\b\r",
      "STEP   493 / 917 (thread    2) f\b\b\r",
      "STEP   494 / 917 (thread    4) f\b\b\r",
      "STEP   495 / 917 (thread    5) f\b\b\r",
      "STEP   496 / 917 (thread    1) f\b\b\r",
      "STEP   497 / 917 (thread    3) f\b\b\r",
      "STEP   498 / 917 (thread    0) f\b\b\r",
      "STEP   499 / 917 (thread    2) f\b\b\r",
      "STEP   500 / 917 (thread    0) f\b\b\r",
      "STEP   501 / 917 (thread    4) f\b\b\r",
      "STEP   601 / 917 (thread    2) f\b\b"
     ]
    },
    {
     "name": "stderr",
     "output_type": "stream",
     "text": [
      "\r",
      "STEP   701 / 917 (thread    5) f\b\b\n",
      "Reallocating..done. *alloclen = 1868\n",
      "\r",
      "STEP   801 / 917 (thread    4) f\b\b\r",
      "STEP   901 / 917 (thread    3) f\b\b"
     ]
    },
    {
     "name": "stderr",
     "output_type": "stream",
     "text": [
      "\n",
      "done.\n",
      "\n",
      "Making a distance matrix from msa.. \n",
      "\r",
      "    0 / 918 (thread    0)\r",
      "  100 / 918 (thread    2)\r",
      "  200 / 918 (thread    5)\r",
      "  300 / 918 (thread    2)\r",
      "  400 / 918 (thread    0)\r",
      "  500 / 918 (thread    0)\r",
      "  600 / 918 (thread    4)\r",
      "  700 / 918 (thread    2)\r",
      "  800 / 918 (thread    4)\r",
      "  900 / 918 (thread    2)\n",
      "done.\n",
      "\n",
      "Constructing a UPGMA tree (efffree=1) ... \n",
      "\r",
      "    0 / 918\r",
      "   10 / 918\r",
      "   20 / 918\r",
      "   30 / 918\r",
      "   40 / 918\r",
      "   50 / 918\r",
      "   60 / 918\r",
      "   70 / 918\r",
      "   80 / 918\r",
      "   90 / 918\r",
      "  100 / 918\r",
      "  110 / 918\r",
      "  120 / 918\r",
      "  130 / 918\r",
      "  140 / 918\r",
      "  150 / 918\r",
      "  160 / 918\r",
      "  170 / 918\r",
      "  180 / 918\r",
      "  190 / 918\r",
      "  200 / 918\r",
      "  210 / 918\r",
      "  220 / 918\r",
      "  230 / 918\r",
      "  240 / 918\r",
      "  250 / 918\r",
      "  260 / 918\r",
      "  270 / 918\r",
      "  280 / 918\r",
      "  290 / 918\r",
      "  300 / 918\r",
      "  310 / 918\r",
      "  320 / 918\r",
      "  330 / 918\r",
      "  340 / 918\r",
      "  350 / 918\r",
      "  360 / 918\r",
      "  370 / 918\r",
      "  380 / 918\r",
      "  390 / 918\r",
      "  400 / 918\r",
      "  410 / 918\r",
      "  420 / 918\r",
      "  430 / 918\r",
      "  440 / 918\r",
      "  450 / 918\r",
      "  460 / 918\r",
      "  470 / 918\r",
      "  480 / 918\r",
      "  490 / 918\r",
      "  500 / 918\r",
      "  510 / 918\r",
      "  520 / 918\r",
      "  530 / 918\r",
      "  540 / 918\r",
      "  550 / 918\r",
      "  560 / 918\r",
      "  570 / 918\r",
      "  580 / 918\r",
      "  590 / 918\r",
      "  600 / 918\r",
      "  610 / 918\r",
      "  620 / 918\r",
      "  630 / 918\r",
      "  640 / 918\r",
      "  650 / 918\r",
      "  660 / 918\r",
      "  670 / 918\r",
      "  680 / 918\r",
      "  690 / 918\r",
      "  700 / 918\r",
      "  710 / 918\r",
      "  720 / 918\r",
      "  730 / 918\r",
      "  740 / 918\r",
      "  750 / 918\r",
      "  760 / 918\r",
      "  770 / 918\r",
      "  780 / 918\r",
      "  790 / 918\r",
      "  800 / 918\r",
      "  810 / 918\r",
      "  820 / 918\r",
      "  830 / 918\r",
      "  840 / 918\r",
      "  850 / 918\r",
      "  860 / 918\r",
      "  870 / 918\r",
      "  880 / 918\r",
      "  890 / 918\r",
      "  900 / 918\r",
      "  910 / 918\n",
      "done.\n",
      "\n",
      "Progressive alignment 2/2... \n",
      "\r",
      "STEP     1 / 917 (thread    0) f\b\b\r",
      "STEP     2 / 917 (thread    1) f\b\b\r",
      "STEP     3 / 917 (thread    2) f\b\b\r",
      "STEP     4 / 917 (thread    3) f\b\b\r",
      "STEP     5 / 917 (thread    4) f\b\b\r",
      "STEP     6 / 917 (thread    5) f\b\b"
     ]
    },
    {
     "name": "stderr",
     "output_type": "stream",
     "text": [
      "\r",
      "STEP     7 / 917 (thread    2) f\b\b\r",
      "STEP     8 / 917 (thread    2) f\b\b\r",
      "STEP     9 / 917 (thread    0) f\b\b\r",
      "STEP    10 / 917 (thread    4) f\b\b\r",
      "STEP    11 / 917 (thread    5) f\b\b\r",
      "STEP    12 / 917 (thread    2) f\b\b\r",
      "STEP    13 / 917 (thread    0) f\b\b\r",
      "STEP    14 / 917 (thread    2) f\b\b\r",
      "STEP    15 / 917 (thread    5) f\b\b\r",
      "STEP    16 / 917 (thread    4) f\b\b\r",
      "STEP    17 / 917 (thread    0) f\b\b\r",
      "STEP    18 / 917 (thread    3) f\b\b\r",
      "STEP    19 / 917 (thread    1) f\b\b\r",
      "STEP    20 / 917 (thread    2) f\b\b\r",
      "STEP    21 / 917 (thread    4) f\b\b\r",
      "STEP    22 / 917 (thread    5) f\b\b\r",
      "STEP    23 / 917 (thread    0) f\b\b\r",
      "STEP    24 / 917 (thread    1) f\b\b\r",
      "STEP    25 / 917 (thread    3) f\b\b\r",
      "STEP    26 / 917 (thread    2) f\b\b\r",
      "STEP    27 / 917 (thread    0) f\b\b\r",
      "STEP    28 / 917 (thread    2) f\b\b\r",
      "STEP    29 / 917 (thread    5) f\b\b\r",
      "STEP    30 / 917 (thread    4) f\b\b\r",
      "STEP    31 / 917 (thread    1)\r",
      "STEP    32 / 917 (thread    3) f\b\b f\b\b\r",
      "STEP    33 / 917 (thread    0) f\b\b\r",
      "STEP    34 / 917 (thread    2) f\b\b\r",
      "STEP    35 / 917 (thread    4)\r",
      "STEP    36 / 917 (thread    5) f\b\b f\b\b\r",
      "STEP    37 / 917 (thread    3) f\b\b\r",
      "STEP    38 / 917 (thread    1) f\b\b\r",
      "STEP    39 / 917 (thread    0) f\b\b\r",
      "STEP    40 / 917 (thread    2) f\b\b\r",
      "STEP    41 / 917 (thread    3) f\b\b\r",
      "STEP    42 / 917 (thread    1)\r",
      "STEP    43 / 917 (thread    0) f\b\b f\b\b\r",
      "STEP    44 / 917 (thread    4) f\b\b\r",
      "STEP    45 / 917 (thread    5) f\b\b\r",
      "STEP    46 / 917 (thread    2) f\b\b\r",
      "STEP    47 / 917 (thread    0) f\b\b\r",
      "STEP    48 / 917 (thread    2) f\b\b\r",
      "STEP    49 / 917 (thread    1)\r",
      "STEP    50 / 917 (thread    3) f\b\b f\b\b\r",
      "STEP    51 / 917 (thread    5) f\b\b\r",
      "STEP    52 / 917 (thread    4) f\b\b\r",
      "STEP    53 / 917 (thread    0) f\b\b\r",
      "STEP    54 / 917 (thread    2) f\b\b\r",
      "STEP    55 / 917 (thread    1) f\b\b\r",
      "STEP    56 / 917 (thread    3) f\b\b\r",
      "STEP    57 / 917 (thread    5) f\b\b\r",
      "STEP    58 / 917 (thread    4) f\b\b\r",
      "STEP    59 / 917 (thread    0) f\b\b\r",
      "STEP    60 / 917 (thread    2) f\b\b\r",
      "STEP    61 / 917 (thread    1) f\b\b\r",
      "STEP    62 / 917 (thread    3) f\b\b\r",
      "STEP    63 / 917 (thread    2) f\b\b\r",
      "STEP    64 / 917 (thread    0) f\b\b\r",
      "STEP    65 / 917 (thread    5) f\b\b\r",
      "STEP    66 / 917 (thread    4) f\b\b\r",
      "STEP    67 / 917 (thread    1) f\b\b\r",
      "STEP    68 / 917 (thread    3) f\b\b\r",
      "STEP    69 / 917 (thread    2) f\b\b\r",
      "STEP    70 / 917 (thread    0) f\b\b\r",
      "STEP    71 / 917 (thread    4)\r",
      "STEP    72 / 917 (thread    5) f\b\b f\b\b\r",
      "STEP    73 / 917 (thread    2) f\b\b\r",
      "STEP    74 / 917 (thread    0) f\b\b\r",
      "STEP    75 / 917 (thread    1) f\b\b\r",
      "STEP    76 / 917 (thread    3) f\b\b\r",
      "STEP    77 / 917 (thread    5) f\b\b\r",
      "STEP    78 / 917 (thread    4) f\b\b\r",
      "STEP    79 / 917 (thread    2) f\b\b\r",
      "STEP    80 / 917 (thread    0) f\b\b\r",
      "STEP    81 / 917 (thread    3) f\b\b\r",
      "STEP    82 / 917 (thread    1) f\b\b\r",
      "STEP    83 / 917 (thread    2) f\b\b\r",
      "STEP    84 / 917 (thread    0) f\b\b\r",
      "STEP    85 / 917 (thread    5) f\b\b\r",
      "STEP    86 / 917 (thread    4) f\b\b\r",
      "STEP    87 / 917 (thread    1) f\b\b\r",
      "STEP    88 / 917 (thread    3) f\b\b\r",
      "STEP    89 / 917 (thread    2) f\b\b\r",
      "STEP    90 / 917 (thread    0) f\b\b\r",
      "STEP    91 / 917 (thread    4) f\b\b\r",
      "STEP    92 / 917 (thread    5) f\b\b\r",
      "STEP    93 / 917 (thread    1) f\b\b\r",
      "STEP    94 / 917 (thread    3) f\b\b\r",
      "STEP    95 / 917 (thread    2) f\b\b\r",
      "STEP    96 / 917 (thread    0) f\b\b\r",
      "STEP    97 / 917 (thread    2) f\b\b\r",
      "STEP    98 / 917 (thread    4) f\b\b\r",
      "STEP    99 / 917 (thread    5) f\b\b\r",
      "STEP   100 / 917 (thread    1) f\b\b\r",
      "STEP   101 / 917 (thread    3) f\b\b\r",
      "STEP   102 / 917 (thread    0) f\b\b\r",
      "STEP   103 / 917 (thread    2) f\b\b\r",
      "STEP   104 / 917 (thread    5)\r",
      "STEP   105 / 917 (thread    4) f\b\b f\b\b\r",
      "STEP   106 / 917 (thread    1) f\b\b\r",
      "STEP   107 / 917 (thread    0) f\b\b\r",
      "STEP   108 / 917 (thread    2) f\b\b\r",
      "STEP   109 / 917 (thread    3) f\b\b\r",
      "STEP   110 / 917 (thread    2) f\b\b\r",
      "STEP   111 / 917 (thread    1) f\b\b\r",
      "STEP   112 / 917 (thread    0) f\b\b\r",
      "STEP   113 / 917 (thread    4) f\b\b\r",
      "STEP   114 / 917 (thread    5) f\b\b\r",
      "STEP   115 / 917 (thread    3) f\b\b\r",
      "STEP   116 / 917 (thread    2) f\b\b\r",
      "STEP   117 / 917 (thread    0) f\b\b\r",
      "STEP   118 / 917 (thread    1) f\b\b\r",
      "STEP   119 / 917 (thread    2) f\b\b\r",
      "STEP   120 / 917 (thread    3) f\b\b\r",
      "STEP   121 / 917 (thread    0) f\b\b\r",
      "STEP   122 / 917 (thread    2) f\b\b\r",
      "STEP   123 / 917 (thread    1) f\b\b\r",
      "STEP   124 / 917 (thread    3) f\b\b\r",
      "STEP   125 / 917 (thread    0) f\b\b\r",
      "STEP   126 / 917 (thread    4) f\b\b\r",
      "STEP   127 / 917 (thread    2) f\b\b\r",
      "STEP   128 / 917 (thread    5) f\b\b\r",
      "STEP   129 / 917 (thread    1) f\b\b\r",
      "STEP   130 / 917 (thread    3) f\b\b\r",
      "STEP   131 / 917 (thread    0) f\b\b\r",
      "STEP   132 / 917 (thread    4) f\b\b\r",
      "STEP   133 / 917 (thread    1) f\b\b\r",
      "STEP   134 / 917 (thread    3) f\b\b\r",
      "STEP   135 / 917 (thread    0) f\b\b\r",
      "STEP   136 / 917 (thread    2) f\b\b\r",
      "STEP   137 / 917 (thread    4) f\b\b\r",
      "STEP   138 / 917 (thread    1) f\b\b\r",
      "STEP   139 / 917 (thread    5) f\b\b\r",
      "STEP   140 / 917 (thread    0) f\b\b\r",
      "STEP   141 / 917 (thread    2) f\b\b\r",
      "STEP   142 / 917 (thread    0) f\b\b\r",
      "STEP   143 / 917 (thread    2) f\b\b\r",
      "STEP   144 / 917 (thread    4) f\b\b\r",
      "STEP   145 / 917 (thread    1) f\b\b\r",
      "STEP   146 / 917 (thread    5) f\b\b\r",
      "STEP   147 / 917 (thread    3) f\b\b\r",
      "STEP   148 / 917 (thread    2) f\b\b\r",
      "STEP   149 / 917 (thread    4) f\b\b\r",
      "STEP   150 / 917 (thread    5) f\b\b\r",
      "STEP   151 / 917 (thread    3) f\b\b\r",
      "STEP   152 / 917 (thread    0) f\b\b\r",
      "STEP   153 / 917 (thread    1) f\b\b\r",
      "STEP   154 / 917 (thread    4) f\b\b\r",
      "STEP   155 / 917 (thread    5) f\b\b\r",
      "STEP   156 / 917 (thread    2) f\b\b\r",
      "STEP   157 / 917 (thread    3) f\b\b\r",
      "STEP   158 / 917 (thread    0) f\b\b\r",
      "STEP   159 / 917 (thread    1) f\b\b\r",
      "STEP   160 / 917 (thread    2) f\b\b\r",
      "STEP   162 / 917 (thread    5) f\b\b\r",
      "STEP   163 / 917 (thread    3) f\b\b\r",
      "STEP   164 / 917 (thread    0) f\b\b\r",
      "STEP   165 / 917 (thread    1) f\b\b\r",
      "STEP   166 / 917 (thread    5) f\b\b\r",
      "STEP   167 / 917 (thread    0) f\b\b\r",
      "STEP   168 / 917 (thread    3) f\b\b\r",
      "STEP   169 / 917 (thread    2) f\b\b\r",
      "STEP   161 / 917 (thread    4) f\b\b\r",
      "STEP   170 / 917 (thread    5) f\b\b\r",
      "STEP   171 / 917 (thread    2) f\b\b\r",
      "STEP   172 / 917 (thread    1) f\b\b\r",
      "STEP   173 / 917 (thread    0) f\b\b\r",
      "STEP   174 / 917 (thread    3) f\b\b\r",
      "STEP   175 / 917 (thread    4) f\b\b\r",
      "STEP   176 / 917 (thread    5) f\b\b\r",
      "STEP   177 / 917 (thread    2) f\b\b\r",
      "STEP   178 / 917 (thread    1) f\b\b\r",
      "STEP   179 / 917 (thread    0) f\b\b\r",
      "STEP   180 / 917 (thread    3) f\b\b\r",
      "STEP   181 / 917 (thread    5) f\b\b\r",
      "STEP   182 / 917 (thread    2) f\b\b\r",
      "STEP   183 / 917 (thread    4) f\b\b\r",
      "STEP   184 / 917 (thread    0) f\b\b\r",
      "STEP   185 / 917 (thread    3) f\b\b\r",
      "STEP   186 / 917 (thread    2) f\b\b\r",
      "STEP   187 / 917 (thread    1) f\b\b\r",
      "STEP   188 / 917 (thread    4) f\b\b\r",
      "STEP   189 / 917 (thread    0) f\b\b\r",
      "STEP   190 / 917 (thread    2) f\b\b\r",
      "STEP   191 / 917 (thread    5) f\b\b\r",
      "STEP   192 / 917 (thread    3) f\b\b\r",
      "STEP   193 / 917 (thread    1) f\b\b\r",
      "STEP   194 / 917 (thread    2) f\b\b\r",
      "STEP   195 / 917 (thread    5) f\b\b\r",
      "STEP   196 / 917 (thread    4) f\b\b\r",
      "STEP   197 / 917 (thread    0) f\b\b\r",
      "STEP   198 / 917 (thread    1) f\b\b\r",
      "STEP   199 / 917 (thread    3) f\b\b\r",
      "STEP   200 / 917 (thread    2) f\b\b\r",
      "STEP   201 / 917 (thread    5) f\b\b\r",
      "STEP   202 / 917 (thread    0) f\b\b\r",
      "STEP   203 / 917 (thread    4) f\b\b\r",
      "STEP   204 / 917 (thread    1) f\b\b\r",
      "STEP   205 / 917 (thread    2) f\b\b\r",
      "STEP   206 / 917 (thread    3) f\b\b\r",
      "STEP   207 / 917 (thread    5) f\b\b\r",
      "STEP   208 / 917 (thread    0) f\b\b\r",
      "STEP   209 / 917 (thread    2) f\b\b\r",
      "STEP   210 / 917 (thread    5) f\b\b\r",
      "STEP   211 / 917 (thread    1) f\b\b\r",
      "STEP   212 / 917 (thread    4) f\b\b\r",
      "STEP   214 / 917 (thread    2) f\b\b\r",
      "STEP   215 / 917 (thread    0) f\b\b\r",
      "STEP   216 / 917 (thread    1) f\b\b\r",
      "STEP   217 / 917 (thread    5) f\b\b\r",
      "STEP   213 / 917 (thread    3) f\b\b\r",
      "STEP   218 / 917 (thread    5) f\b\b\r",
      "STEP   219 / 917 (thread    0) f\b\b\r",
      "STEP   220 / 917 (thread    1) f\b\b\r",
      "STEP   221 / 917 (thread    4) f\b\b\r",
      "STEP   222 / 917 (thread    2) f\b\b\r",
      "STEP   223 / 917 (thread    0) f\b\b\r",
      "STEP   224 / 917 (thread    1) f\b\b\r",
      "STEP   225 / 917 (thread    3) f\b\b\r",
      "STEP   226 / 917 (thread    5) f\b\b\r",
      "STEP   227 / 917 (thread    4) f\b\b\r",
      "STEP   228 / 917 (thread    0) f\b\b\r",
      "STEP   229 / 917 (thread    5) f\b\b\r",
      "STEP   230 / 917 (thread    1) f\b\b\r",
      "STEP   231 / 917 (thread    3) f\b\b\r",
      "STEP   232 / 917 (thread    2) f\b\b\r",
      "STEP   233 / 917 (thread    4) f\b\b\r",
      "STEP   234 / 917 (thread    5) f\b\b\r",
      "STEP   235 / 917 (thread    1) f\b\b\r",
      "STEP   236 / 917 (thread    3) f\b\b\r",
      "STEP   237 / 917 (thread    0) f\b\b\r",
      "STEP   238 / 917 (thread    5) f\b\b\r",
      "STEP   239 / 917 (thread    2) f\b\b\r",
      "STEP   240 / 917 (thread    1) f\b\b\r",
      "STEP   241 / 917 (thread    5) f\b\b\r",
      "STEP   242 / 917 (thread    5) f\b\b\r",
      "STEP   243 / 917 (thread    4) f\b\b\r",
      "STEP   244 / 917 (thread    3) f\b\b\r",
      "STEP   245 / 917 (thread    0) f\b\b\r",
      "STEP   246 / 917 (thread    2) f\b\b\r",
      "STEP   247 / 917 (thread    5) f\b\b\r",
      "STEP   248 / 917 (thread    1) f\b\b\r",
      "STEP   249 / 917 (thread    2) f\b\b\r",
      "STEP   250 / 917 (thread    5) f\b\b\r",
      "STEP   251 / 917 (thread    3) f\b\b\r",
      "STEP   252 / 917 (thread    4) f\b\b\r",
      "STEP   253 / 917 (thread    0) f\b\b\r",
      "STEP   254 / 917 (thread    1) f\b\b\r",
      "STEP   255 / 917 (thread    5) f\b\b\r",
      "STEP   256 / 917 (thread    2) f\b\b\r",
      "STEP   257 / 917 (thread    3) f\b\b\r",
      "STEP   258 / 917 (thread    5) f\b\b\r",
      "STEP   259 / 917 (thread    2) f\b\b\r",
      "STEP   260 / 917 (thread    0) f\b\b\r",
      "STEP   261 / 917 (thread    4) f\b\b\r",
      "STEP   262 / 917 (thread    5) f\b\b\r",
      "STEP   263 / 917 (thread    1) f\b\b\r",
      "STEP   264 / 917 (thread    2) f\b\b\r",
      "STEP   265 / 917 (thread    5) f\b\b\r",
      "STEP   266 / 917 (thread    0) f\b\b\r",
      "STEP   267 / 917 (thread    4) f\b\b\r",
      "STEP   268 / 917 (thread    1) f\b\b\r",
      "STEP   269 / 917 (thread    2) f\b\b\r",
      "STEP   270 / 917 (thread    3) f\b\b\r",
      "STEP   271 / 917 (thread    5) f\b\b\r",
      "STEP   272 / 917 (thread    1) f\b\b\r",
      "STEP   274 / 917 (thread    0)\r",
      "STEP   273 / 917 (thread    4) f\b\b f\b\b\r",
      "STEP   275 / 917 (thread    5) f\b\b\r",
      "STEP   276 / 917 (thread    2) f\b\b\r",
      "STEP   277 / 917 (thread    3) f\b\b\r",
      "STEP   278 / 917 (thread    1) f\b\b\r",
      "STEP   279 / 917 (thread    5) f\b\b\r",
      "STEP   280 / 917 (thread    2) f\b\b\r",
      "STEP   281 / 917 (thread    0) f\b\b\r",
      "STEP   282 / 917 (thread    4) f\b\b\r",
      "STEP   283 / 917 (thread    3) f\b\b\r",
      "STEP   284 / 917 (thread    5) f\b\b\r",
      "STEP   285 / 917 (thread    4) f\b\b\r",
      "STEP   286 / 917 (thread    2) f\b\b\r",
      "STEP   287 / 917 (thread    1) f\b\b\r",
      "STEP   288 / 917 (thread    5) f\b\b\r",
      "STEP   289 / 917 (thread    3) f\b\b\r",
      "STEP   290 / 917 (thread    2) f\b\b\r",
      "STEP   291 / 917 (thread    0) f\b\b\r",
      "STEP   292 / 917 (thread    4) f\b\b\r",
      "STEP   293 / 917 (thread    1) f\b\b\r",
      "STEP   294 / 917 (thread    5) f\b\b\r",
      "STEP   295 / 917 (thread    2) f\b\b\r",
      "STEP   296 / 917 (thread    3) f\b\b\r",
      "STEP   297 / 917 (thread    1)\r",
      "STEP   298 / 917 (thread    5) f\b\b f\b\b\r",
      "STEP   299 / 917 (thread    0) f\b\b\r",
      "STEP   300 / 917 (thread    4) f\b\b\r",
      "STEP   301 / 917 (thread    2) f\b\b\r",
      "STEP   302 / 917 (thread    5) f\b\b\r",
      "STEP   303 / 917 (thread    3) f\b\b\r",
      "STEP   304 / 917 (thread    1) f\b\b\r",
      "STEP   305 / 917 (thread    5) f\b\b\r",
      "STEP   306 / 917 (thread    2) f\b\b\r",
      "STEP   307 / 917 (thread    0) f\b\b\r",
      "STEP   308 / 917 (thread    4) f\b\b\r",
      "STEP   309 / 917 (thread    1) f\b\b\r",
      "STEP   310 / 917 (thread    5) f\b\b\r",
      "STEP   311 / 917 (thread    4) f\b\b\r",
      "STEP   312 / 917 (thread    3) f\b\b\r",
      "STEP   313 / 917 (thread    1) f\b\b\r",
      "STEP   314 / 917 (thread    2) f\b\b\r",
      "STEP   315 / 917 (thread    4) f\b\b\r",
      "STEP   316 / 917 (thread    0) f\b\b\r",
      "STEP   317 / 917 (thread    5) f\b\b\r",
      "STEP   318 / 917 (thread    1) f\b\b\r",
      "STEP   319 / 917 (thread    5) f\b\b\r",
      "STEP   320 / 917 (thread    3) f\b\b\r",
      "STEP   321 / 917 (thread    4) f\b\b\r",
      "STEP   322 / 917 (thread    0) f\b\b\r",
      "STEP   323 / 917 (thread    1) f\b\b\r",
      "STEP   324 / 917 (thread    2) f\b\b\r",
      "STEP   325 / 917 (thread    5) f\b\b\r",
      "STEP   326 / 917 (thread    2)\r",
      "STEP   327 / 917 (thread    3) f\b\b f\b\b\r",
      "STEP   328 / 917 (thread    4) f\b\b\r",
      "STEP   329 / 917 (thread    0) f\b\b\r",
      "STEP   330 / 917 (thread    1) f\b\b\r",
      "STEP   331 / 917 (thread    5) f\b\b\r",
      "STEP   332 / 917 (thread    2) f\b\b\r",
      "STEP   333 / 917 (thread    3) f\b\b\r",
      "STEP   334 / 917 (thread    5) f\b\b\r",
      "STEP   335 / 917 (thread    1) f\b\b\r",
      "STEP   336 / 917 (thread    4) f\b\b\r",
      "STEP   337 / 917 (thread    0) f\b\b\r",
      "STEP   338 / 917 (thread    3) f\b\b\r",
      "STEP   339 / 917 (thread    1) f\b\b\r",
      "STEP   340 / 917 (thread    5) f\b\b\r",
      "STEP   341 / 917 (thread    2) f\b\b\r",
      "STEP   342 / 917 (thread    4) f\b\b\r",
      "STEP   344 / 917 (thread    1) f\b\b\r",
      "STEP   345 / 917 (thread    4) f\b\b\r",
      "STEP   346 / 917 (thread    5) f\b\b\r",
      "STEP   347 / 917 (thread    2) f\b\b\r",
      "STEP   343 / 917 (thread    3) f\b\b\r",
      "STEP   348 / 917 (thread    0) f\b\b\r",
      "STEP   349 / 917 (thread    1) f\b\b\r",
      "STEP   350 / 917 (thread    2) f\b\b\r",
      "STEP   351 / 917 (thread    4) f\b\b\r",
      "STEP   352 / 917 (thread    5) f\b\b\r",
      "STEP   353 / 917 (thread    1) f\b\b\r",
      "STEP   354 / 917 (thread    0) f\b\b\r",
      "STEP   355 / 917 (thread    1) f\b\b\r",
      "STEP   356 / 917 (thread    5) f\b\b\r",
      "STEP   357 / 917 (thread    2) f\b\b\r",
      "STEP   358 / 917 (thread    3) f\b\b\r",
      "STEP   359 / 917 (thread    1) f\b\b\r",
      "STEP   360 / 917 (thread    0) f\b\b\r",
      "STEP   361 / 917 (thread    2) f\b\b\r",
      "STEP   362 / 917 (thread    4) f\b\b\r",
      "STEP   363 / 917 (thread    5) f\b\b\r",
      "STEP   365 / 917 (thread    1) f\b\b\r",
      "STEP   364 / 917 (thread    3) f\b\b\r",
      "STEP   366 / 917 (thread    2) f\b\b\r",
      "STEP   367 / 917 (thread    5) f\b\b\r",
      "STEP   368 / 917 (thread    0) f\b\b\r",
      "STEP   369 / 917 (thread    1) f\b\b\r",
      "STEP   370 / 917 (thread    4) f\b\b\r",
      "STEP   371 / 917 (thread    2) f\b\b\r",
      "STEP   372 / 917 (thread    0) f\b\b\r",
      "STEP   373 / 917 (thread    3) f\b\b\r",
      "STEP   374 / 917 (thread    1) f\b\b\r",
      "STEP   375 / 917 (thread    4) f\b\b\r",
      "STEP   376 / 917 (thread    3) f\b\b\r",
      "STEP   377 / 917 (thread    0) f\b\b\r",
      "STEP   378 / 917 (thread    2) f\b\b\r",
      "STEP   379 / 917 (thread    4) f\b\b\r",
      "STEP   380 / 917 (thread    1) f\b\b\r",
      "STEP   381 / 917 (thread    5) f\b\b\r",
      "STEP   382 / 917 (thread    1) f\b\b\r",
      "STEP   383 / 917 (thread    2) f\b\b\r",
      "STEP   384 / 917 (thread    3) f\b\b\r",
      "STEP   386 / 917 (thread    4) f\b\b\r",
      "STEP   387 / 917 (thread    5) f\b\b\r",
      "STEP   385 / 917 (thread    0) f\b\b\r",
      "STEP   388 / 917 (thread    2) f\b\b\r",
      "STEP   389 / 917 (thread    1) f\b\b\r",
      "STEP   390 / 917 (thread    3) f\b\b\r",
      "STEP   391 / 917 (thread    4) f\b\b\r",
      "STEP   392 / 917 (thread    2) f\b\b\r",
      "STEP   393 / 917 (thread    0) f\b\b\r",
      "STEP   394 / 917 (thread    5) f\b\b\r",
      "STEP   395 / 917 (thread    1) f\b\b\r",
      "STEP   396 / 917 (thread    4) f\b\b\r",
      "STEP   397 / 917 (thread    0) f\b\b\r",
      "STEP   398 / 917 (thread    5) f\b\b\r",
      "STEP   399 / 917 (thread    1) f\b\b\r",
      "STEP   400 / 917 (thread    2) f\b\b\r",
      "STEP   401 / 917 (thread    4) f\b\b\r",
      "STEP   402 / 917 (thread    5) f\b\b\r",
      "STEP   403 / 917 (thread    3) f\b\b\r",
      "STEP   404 / 917 (thread    1) f\b\b\r",
      "STEP   405 / 917 (thread    2) f\b\b\r",
      "STEP   406 / 917 (thread    0) f\b\b\r",
      "STEP   407 / 917 (thread    4) f\b\b\r",
      "STEP   408 / 917 (thread    1) f\b\b\r",
      "STEP   409 / 917 (thread    5) f\b\b\r",
      "STEP   410 / 917 (thread    3) f\b\b\r",
      "STEP   411 / 917 (thread    2) f\b\b\r",
      "STEP   412 / 917 (thread    1) f\b\b\r",
      "STEP   413 / 917 (thread    0) f\b\b\r",
      "STEP   414 / 917 (thread    4) f\b\b\r",
      "STEP   415 / 917 (thread    5) f\b\b\r",
      "STEP   416 / 917 (thread    1) f\b\b\r",
      "STEP   417 / 917 (thread    2) f\b\b\r",
      "STEP   418 / 917 (thread    3) f\b\b\r",
      "STEP   419 / 917 (thread    2) f\b\b\r",
      "STEP   420 / 917 (thread    0) f\b\b\r",
      "STEP   421 / 917 (thread    1) f\b\b\r",
      "STEP   422 / 917 (thread    4) f\b\b\r",
      "STEP   423 / 917 (thread    1) f\b\b\r",
      "STEP   424 / 917 (thread    5) f\b\b\r",
      "STEP   425 / 917 (thread    2) f\b\b\r",
      "STEP   426 / 917 (thread    0) f\b\b\r",
      "STEP   427 / 917 (thread    3) f\b\b\r",
      "STEP   428 / 917 (thread    1) f\b\b\r",
      "STEP   429 / 917 (thread    2) f\b\b\r",
      "STEP   430 / 917 (thread    4) f\b\b\r",
      "STEP   431 / 917 (thread    5) f\b\b\r",
      "STEP   432 / 917 (thread    0) f\b\b\r",
      "STEP   433 / 917 (thread    3) f\b\b\r",
      "STEP   434 / 917 (thread    1) f\b\b\r",
      "STEP   435 / 917 (thread    2) f\b\b\r",
      "STEP   436 / 917 (thread    1) f\b\b\r",
      "STEP   437 / 917 (thread    4) f\b\b\r",
      "STEP   438 / 917 (thread    5) f\b\b\r",
      "STEP   439 / 917 (thread    2) f\b\b\r",
      "STEP   440 / 917 (thread    1) f\b\b\r",
      "STEP   441 / 917 (thread    0) f\b\b\r",
      "STEP   442 / 917 (thread    4) f\b\b\r",
      "STEP   443 / 917 (thread    3) f\b\b\r",
      "STEP   444 / 917 (thread    2) f\b\b\r",
      "STEP   445 / 917 (thread    3) f\b\b\r",
      "STEP   446 / 917 (thread    1) f\b\b\r",
      "STEP   447 / 917 (thread    5) f\b\b\r",
      "STEP   448 / 917 (thread    1) f\b\b\r",
      "STEP   449 / 917 (thread    4) f\b\b\r",
      "STEP   450 / 917 (thread    2) f\b\b\r",
      "STEP   451 / 917 (thread    0) f\b\b\r",
      "STEP   452 / 917 (thread    5) f\b\b\r",
      "STEP   453 / 917 (thread    3) f\b\b\r",
      "STEP   454 / 917 (thread    1) f\b\b\r",
      "STEP   455 / 917 (thread    2) f\b\b\r",
      "STEP   456 / 917 (thread    4) f\b\b\r",
      "STEP   457 / 917 (thread    1) f\b\b\r",
      "STEP   458 / 917 (thread    0) f\b\b\r",
      "STEP   459 / 917 (thread    5) f\b\b\r",
      "STEP   460 / 917 (thread    2) f\b\b\r",
      "STEP   461 / 917 (thread    3) f\b\b\r",
      "STEP   462 / 917 (thread    1) f\b\b\r",
      "STEP   463 / 917 (thread    2) f\b\b\r",
      "STEP   464 / 917 (thread    5) f\b\b\r",
      "STEP   465 / 917 (thread    4) f\b\b\r",
      "STEP   466 / 917 (thread    0) f\b\b\r",
      "STEP   467 / 917 (thread    3) f\b\b\r",
      "STEP   468 / 917 (thread    1) f\b\b\r",
      "STEP   469 / 917 (thread    2) f\b\b\r",
      "STEP   470 / 917 (thread    0) f\b\b\r",
      "STEP   471 / 917 (thread    1) f\b\b\r",
      "STEP   472 / 917 (thread    5) f\b\b\r",
      "STEP   473 / 917 (thread    3) f\b\b\r",
      "STEP   474 / 917 (thread    4) f\b\b\r",
      "STEP   475 / 917 (thread    1) f\b\b\r",
      "STEP   476 / 917 (thread    2) f\b\b\r",
      "STEP   477 / 917 (thread    0) f\b\b\r",
      "STEP   478 / 917 (thread    5) f\b\b\r",
      "STEP   480 / 917 (thread    1) f\b\b\r",
      "STEP   481 / 917 (thread    2) f\b\b\r",
      "STEP   479 / 917 (thread    3) f\b\b\r",
      "STEP   482 / 917 (thread    5) f\b\b\r",
      "STEP   483 / 917 (thread    4) f\b\b\r",
      "STEP   484 / 917 (thread    1) f\b\b\r",
      "STEP   485 / 917 (thread    2) f\b\b\r",
      "STEP   486 / 917 (thread    0) f\b\b\r",
      "STEP   487 / 917 (thread    2) f\b\b\r",
      "STEP   489 / 917 (thread    3) f\b\b\r",
      "STEP   490 / 917 (thread    4) f\b\b\r",
      "STEP   491 / 917 (thread    5) f\b\b\r",
      "STEP   492 / 917 (thread    0) f\b\b\r",
      "STEP   488 / 917 (thread    1) f\b\b\r",
      "STEP   493 / 917 (thread    2) f\b\b\r",
      "STEP   494 / 917 (thread    3) f\b\b\r",
      "STEP   495 / 917 (thread    0) f\b\b\r",
      "STEP   496 / 917 (thread    4) f\b\b\r",
      "STEP   497 / 917 (thread    5) f\b\b\r",
      "STEP   498 / 917 (thread    1) f\b\b\r",
      "STEP   499 / 917 (thread    2) f\b\b\r",
      "STEP   500 / 917 (thread    3) f\b\b\r",
      "STEP   501 / 917 (thread    4) f\b\b\r",
      "STEP   601 / 917 (thread    0) f\b\b\r",
      "STEP   701 / 917 (thread    0) f\b\b"
     ]
    },
    {
     "name": "stderr",
     "output_type": "stream",
     "text": [
      "\r",
      "STEP   801 / 917 (thread    1) f\b\b\n",
      "Reallocating..done. *alloclen = 1875\n",
      "\r",
      "STEP   901 / 917 (thread    2) d\b\b h\n",
      "done.\n",
      "\n"
     ]
    },
    {
     "name": "stderr",
     "output_type": "stream",
     "text": [
      "disttbfast (nuc) Version 7.490\n",
      "alg=A, model=DNA200 (2), 1.53 (4.59), -0.00 (-0.00), noshift, amax=0.0\n",
      "6 thread(s)\n",
      "\n",
      "\n",
      "Strategy:\n",
      " FFT-NS-2 (Fast but rough)\n",
      " Progressive method (guide trees were built 2 times.)\n",
      "\n",
      "If unsure which option to use, try 'mafft --auto input > output'.\n",
      "For more information, see 'mafft --help', 'mafft --man' and the mafft page.\n",
      "\n",
      "The default gap scoring scheme has been changed in version 7.110 (2013 Oct).\n",
      "It tends to insert more gaps into gap-rich regions than previous versions.\n",
      "To disable this change, add the --leavegappyregion option.\n",
      "\n"
     ]
    },
    {
     "name": "stdout",
     "output_type": "stream",
     "text": [
      "Running external command line application. This may print messages to stdout and/or stderr.\n",
      "The command being run is below. This command cannot be manually re-run as it will depend on temporary files that no longer exist.\n",
      "\n",
      "Command: FastTreeMP -quote -nt /tmp/qiime2-archive-ekpvhxb7/04bec402-903a-4ca6-970f-a1cdcd6e6f33/data/aligned-dna-sequences.fasta\n",
      "\n"
     ]
    },
    {
     "name": "stderr",
     "output_type": "stream",
     "text": [
      "FastTree Version 2.1.10 Double precision (No SSE3), OpenMP (6 threads)\n",
      "Alignment: /tmp/qiime2-archive-ekpvhxb7/04bec402-903a-4ca6-970f-a1cdcd6e6f33/data/aligned-dna-sequences.fasta\n",
      "Nucleotide distances: Jukes-Cantor Joins: balanced Support: SH-like 1000\n",
      "Search: Normal +NNI +SPR (2 rounds range 10) +ML-NNI opt-each=1\n",
      "TopHits: 1.00*sqrtN close=default refresh=0.80\n",
      "ML Model: Jukes-Cantor, CAT approximation with 20 rate categories\n",
      "      0.10 seconds: Joined    100 of    870\n"
     ]
    },
    {
     "name": "stderr",
     "output_type": "stream",
     "text": [
      "      0.25 seconds: Joined    300 of    870\n",
      "      0.39 seconds: Joined    500 of    870\n"
     ]
    },
    {
     "name": "stderr",
     "output_type": "stream",
     "text": [
      "      0.53 seconds: Joined    700 of    870\n",
      "Initial topology in 0.64 seconds\n",
      "Refining topology: 39 rounds ME-NNIs, 2 rounds ME-SPRs, 20 rounds ML-NNIs\n",
      "      0.63 seconds: ME NNI round 1 of 39, 1 of 871 splits\n"
     ]
    },
    {
     "name": "stderr",
     "output_type": "stream",
     "text": [
      "      0.73 seconds: ME NNI round 4 of 39, 401 of 871 splits, 13 changes (max delta 0.007)\n",
      "      0.87 seconds: SPR round   1 of   2, 201 of 1744 nodes\n"
     ]
    },
    {
     "name": "stderr",
     "output_type": "stream",
     "text": [
      "      1.00 seconds: SPR round   1 of   2, 401 of 1744 nodes\n",
      "      1.14 seconds: SPR round   1 of   2, 601 of 1744 nodes\n"
     ]
    },
    {
     "name": "stderr",
     "output_type": "stream",
     "text": [
      "      1.27 seconds: SPR round   1 of   2, 801 of 1744 nodes\n",
      "      1.39 seconds: SPR round   1 of   2, 1001 of 1744 nodes\n"
     ]
    },
    {
     "name": "stderr",
     "output_type": "stream",
     "text": [
      "      1.49 seconds: SPR round   1 of   2, 1201 of 1744 nodes\n",
      "      1.60 seconds: SPR round   1 of   2, 1401 of 1744 nodes\n"
     ]
    },
    {
     "name": "stderr",
     "output_type": "stream",
     "text": [
      "      1.72 seconds: SPR round   1 of   2, 1601 of 1744 nodes\n",
      "      1.82 seconds: ME NNI round 15 of 39, 101 of 871 splits, 1 changes (max delta 0.000)\n"
     ]
    },
    {
     "name": "stderr",
     "output_type": "stream",
     "text": [
      "      1.94 seconds: SPR round   2 of   2, 201 of 1744 nodes\n",
      "      2.05 seconds: SPR round   2 of   2, 401 of 1744 nodes\n"
     ]
    },
    {
     "name": "stderr",
     "output_type": "stream",
     "text": [
      "      2.16 seconds: SPR round   2 of   2, 601 of 1744 nodes\n",
      "      2.28 seconds: SPR round   2 of   2, 801 of 1744 nodes\n"
     ]
    },
    {
     "name": "stderr",
     "output_type": "stream",
     "text": [
      "      2.41 seconds: SPR round   2 of   2, 1001 of 1744 nodes\n",
      "      2.53 seconds: SPR round   2 of   2, 1201 of 1744 nodes\n"
     ]
    },
    {
     "name": "stderr",
     "output_type": "stream",
     "text": [
      "      2.67 seconds: SPR round   2 of   2, 1501 of 1744 nodes\n",
      "      2.79 seconds: SPR round   2 of   2, 1701 of 1744 nodes\n",
      "Total branch-length 19.047 after 2.87 sec\n"
     ]
    },
    {
     "name": "stderr",
     "output_type": "stream",
     "text": [
      "      2.90 seconds: ML Lengths 101 of 871 splits\n",
      "      3.01 seconds: ML Lengths 501 of 871 splits\n"
     ]
    },
    {
     "name": "stderr",
     "output_type": "stream",
     "text": [
      "      3.11 seconds: ML NNI round 1 of 20, 1 of 871 splits\n",
      "      3.26 seconds: ML NNI round 1 of 20, 201 of 871 splits, 35 changes (max delta 6.153)\n"
     ]
    },
    {
     "name": "stderr",
     "output_type": "stream",
     "text": [
      "      3.41 seconds: ML NNI round 1 of 20, 401 of 871 splits, 68 changes (max delta 7.588)\n",
      "      3.55 seconds: ML NNI round 1 of 20, 601 of 871 splits, 96 changes (max delta 9.826)\n"
     ]
    },
    {
     "name": "stderr",
     "output_type": "stream",
     "text": [
      "      3.69 seconds: ML NNI round 1 of 20, 801 of 871 splits, 130 changes (max delta 9.826)\n",
      "ML-NNI round 1: LogLk = -49085.220 NNIs 145 max delta 9.83 Time 3.75\n",
      "      3.80 seconds: Site likelihoods with rate category 6 of 20\n"
     ]
    },
    {
     "name": "stderr",
     "output_type": "stream",
     "text": [
      "      3.90 seconds: Site likelihoods with rate category 17 of 20\n",
      "Switched to using 20 rate categories (CAT approximation)\n",
      "Rate categories were divided by 1.099 so that average rate = 1.0\n",
      "CAT-based log-likelihoods may not be comparable across runs\n",
      "Use -gamma for approximate but comparable Gamma(20) log-likelihoods\n",
      "      4.02 seconds: ML NNI round 2 of 20, 101 of 871 splits, 8 changes (max delta 4.492)\n"
     ]
    },
    {
     "name": "stderr",
     "output_type": "stream",
     "text": [
      "      4.18 seconds: ML NNI round 2 of 20, 301 of 871 splits, 23 changes (max delta 4.492)\n",
      "      4.34 seconds: ML NNI round 2 of 20, 501 of 871 splits, 45 changes (max delta 8.038)\n"
     ]
    },
    {
     "name": "stderr",
     "output_type": "stream",
     "text": [
      "      4.51 seconds: ML NNI round 2 of 20, 701 of 871 splits, 70 changes (max delta 8.038)\n",
      "ML-NNI round 2: LogLk = -40962.999 NNIs 82 max delta 8.04 Time 4.67\n",
      "      4.66 seconds: ML NNI round 3 of 20, 1 of 871 splits\n"
     ]
    },
    {
     "name": "stderr",
     "output_type": "stream",
     "text": [
      "      4.82 seconds: ML NNI round 3 of 20, 201 of 871 splits, 5 changes (max delta 0.126)\n",
      "      4.98 seconds: ML NNI round 3 of 20, 401 of 871 splits, 20 changes (max delta 5.434)\n"
     ]
    },
    {
     "name": "stderr",
     "output_type": "stream",
     "text": [
      "ML-NNI round 3: LogLk = -40928.563 NNIs 29 max delta 5.43 Time 5.15\n",
      "      5.14 seconds: ML NNI round 4 of 20, 1 of 871 splits\n",
      "      5.30 seconds: ML NNI round 4 of 20, 201 of 871 splits, 13 changes (max delta 3.681)\n"
     ]
    },
    {
     "name": "stderr",
     "output_type": "stream",
     "text": [
      "ML-NNI round 4: LogLk = -40910.586 NNIs 16 max delta 3.68 Time 5.43\n",
      "      5.43 seconds: ML NNI round 5 of 20, 1 of 871 splits\n",
      "ML-NNI round 5: LogLk = -40902.540 NNIs 6 max delta 1.76 Time 5.59\n",
      "      5.59 seconds: ML NNI round 6 of 20, 1 of 871 splits\n"
     ]
    },
    {
     "name": "stderr",
     "output_type": "stream",
     "text": [
      "ML-NNI round 6: LogLk = -40902.393 NNIs 0 max delta 0.00 Time 5.69\n",
      "Turning off heuristics for final round of ML NNIs (converged)\n",
      "      5.69 seconds: ML NNI round 7 of 20, 1 of 871 splits\n",
      "      5.84 seconds: ML NNI round 7 of 20, 201 of 871 splits, 2 changes (max delta 0.071)\n"
     ]
    },
    {
     "name": "stderr",
     "output_type": "stream",
     "text": [
      "      5.97 seconds: ML NNI round 7 of 20, 401 of 871 splits, 4 changes (max delta 0.467)\n",
      "      6.13 seconds: ML NNI round 7 of 20, 601 of 871 splits, 5 changes (max delta 0.467)\n"
     ]
    },
    {
     "name": "stderr",
     "output_type": "stream",
     "text": [
      "      6.28 seconds: ML NNI round 7 of 20, 801 of 871 splits, 5 changes (max delta 0.467)\n",
      "ML-NNI round 7: LogLk = -40899.041 NNIs 5 max delta 0.47 Time 6.34 (final)\n",
      "      6.40 seconds: ML Lengths 301 of 871 splits\n"
     ]
    },
    {
     "name": "stderr",
     "output_type": "stream",
     "text": [
      "      6.52 seconds: ML Lengths 801 of 871 splits\n",
      "Optimize all lengths: LogLk = -40898.803 Time 6.54\n",
      "      6.67 seconds: ML split tests for    100 of    870 internal splits\n"
     ]
    },
    {
     "name": "stderr",
     "output_type": "stream",
     "text": [
      "      6.80 seconds: ML split tests for    200 of    870 internal splits\n",
      "      6.93 seconds: ML split tests for    300 of    870 internal splits\n"
     ]
    },
    {
     "name": "stderr",
     "output_type": "stream",
     "text": [
      "      7.06 seconds: ML split tests for    400 of    870 internal splits\n",
      "      7.20 seconds: ML split tests for    500 of    870 internal splits\n"
     ]
    },
    {
     "name": "stderr",
     "output_type": "stream",
     "text": [
      "      7.33 seconds: ML split tests for    600 of    870 internal splits\n",
      "      7.46 seconds: ML split tests for    700 of    870 internal splits\n"
     ]
    },
    {
     "name": "stderr",
     "output_type": "stream",
     "text": [
      "      7.60 seconds: ML split tests for    800 of    870 internal splits\n",
      "Total time: 7.70 seconds Unique: 873/918 Bad splits: 2/870 Worst delta-LogLk 1.503\n"
     ]
    }
   ],
   "source": [
    "mafft_alignment, mafft_masked_alignment, mafft_tree, mafft_rooted_tree = align_to_tree_mafft_fasttree(\n",
    "    sequences=reps, n_threads=6, )"
   ]
  },
  {
   "cell_type": "markdown",
   "id": "0768d598",
   "metadata": {
    "papermill": {
     "duration": 0.031316,
     "end_time": "2022-10-14T16:49:16.275120",
     "exception": false,
     "start_time": "2022-10-14T16:49:16.243804",
     "status": "completed"
    },
    "tags": []
   },
   "source": [
    "### Compute Alpha Diversity (Phylogeny)\n",
    "- [diversity alpha_phylogenetic](https://docs.qiime2.org/2022.8/plugins/available/diversity/alpha-phylogenetic/): Computes a user-specified phylogenetic alpha diversity metric for all samples in a feature table.\n",
    "- Metrics: Choices ('faith_pd')"
   ]
  },
  {
   "cell_type": "code",
   "execution_count": 13,
   "id": "0383aa19",
   "metadata": {
    "ExecuteTime": {
     "end_time": "2022-09-29T20:54:35.310009Z",
     "start_time": "2022-09-29T20:54:35.141333Z"
    },
    "execution": {
     "iopub.execute_input": "2022-10-14T16:49:16.342508Z",
     "iopub.status.busy": "2022-10-14T16:49:16.342210Z",
     "iopub.status.idle": "2022-10-14T16:49:16.454018Z",
     "shell.execute_reply": "2022-10-14T16:49:16.453475Z"
    },
    "papermill": {
     "duration": 0.146403,
     "end_time": "2022-10-14T16:49:16.455882",
     "exception": false,
     "start_time": "2022-10-14T16:49:16.309479",
     "status": "completed"
    },
    "tags": []
   },
   "outputs": [
    {
     "name": "stdout",
     "output_type": "stream",
     "text": [
      "Calculating alpha diversity: faith_pd\n"
     ]
    }
   ],
   "source": [
    "metrics = ('faith_pd', )\n",
    "alpha_diversities_phylogenetic = dict()\n",
    "for metric in metrics:\n",
    "    print(f\"Calculating alpha diversity: {metric}\")\n",
    "    alpha_diversity = alpha_phylogenetic(table=tabs, phylogeny=mafft_rooted_tree, metric=metric).alpha_diversity\n",
    "    alpha_diversities_phylogenetic[metric] = alpha_diversity"
   ]
  },
  {
   "cell_type": "markdown",
   "id": "c7752cfd",
   "metadata": {
    "papermill": {
     "duration": 0.030841,
     "end_time": "2022-10-14T16:49:16.521025",
     "exception": false,
     "start_time": "2022-10-14T16:49:16.490184",
     "status": "completed"
    },
    "tags": []
   },
   "source": [
    "### Alpha diversity correlation\n",
    "\n",
    "This method only process `numeric` columns.\n"
   ]
  },
  {
   "cell_type": "code",
   "execution_count": 14,
   "id": "2814f613",
   "metadata": {
    "ExecuteTime": {
     "end_time": "2022-09-29T20:54:35.317618Z",
     "start_time": "2022-09-29T20:54:35.312094Z"
    },
    "execution": {
     "iopub.execute_input": "2022-10-14T16:49:16.584963Z",
     "iopub.status.busy": "2022-10-14T16:49:16.584724Z",
     "iopub.status.idle": "2022-10-14T16:49:16.593065Z",
     "shell.execute_reply": "2022-10-14T16:49:16.592426Z"
    },
    "papermill": {
     "duration": 0.042276,
     "end_time": "2022-10-14T16:49:16.594588",
     "exception": false,
     "start_time": "2022-10-14T16:49:16.552312",
     "status": "completed"
    },
    "tags": []
   },
   "outputs": [],
   "source": [
    "methods = ('spearman', 'pearson')\n",
    "numerics_cols = metadata_qa.filter_columns(column_type='numeric')\n",
    "if numerics_cols.column_count > 0:\n",
    "    for metric, alpha_values in alpha_diversities.items():\n",
    "        for method in methods:\n",
    "            corr_view = alpha_correlation(alpha_diversity=alpha_values, metadata=numerics_cols, \n",
    "                                      method=method, intersect_ids=True).visualization\n",
    "            view_path = os.path.join(qiime_folder, f'alpha-correlation-{metric}-{method}.qzv')\n",
    "            corr_view.save(view_path)\n",
    "            corr_view"
   ]
  },
  {
   "cell_type": "markdown",
   "id": "8ea83c8a",
   "metadata": {
    "papermill": {
     "duration": 0.03115,
     "end_time": "2022-10-14T16:49:16.660591",
     "exception": false,
     "start_time": "2022-10-14T16:49:16.629441",
     "status": "completed"
    },
    "tags": []
   },
   "source": [
    "## Alpha diversity comparisons\n",
    "\n",
    "Visually and statistically compare groups of alpha diversity values.\n",
    "\n",
    "[diversity alpha_group_significance](https://docs.qiime2.org/2022.8/plugins/available/diversity/alpha-group-significance/)"
   ]
  },
  {
   "cell_type": "code",
   "execution_count": 15,
   "id": "276d1c18",
   "metadata": {
    "ExecuteTime": {
     "end_time": "2022-09-29T20:54:36.089290Z",
     "start_time": "2022-09-29T20:54:35.318963Z"
    },
    "execution": {
     "iopub.execute_input": "2022-10-14T16:49:16.722630Z",
     "iopub.status.busy": "2022-10-14T16:49:16.722470Z",
     "iopub.status.idle": "2022-10-14T16:49:17.653020Z",
     "shell.execute_reply": "2022-10-14T16:49:17.652325Z"
    },
    "papermill": {
     "duration": 0.964942,
     "end_time": "2022-10-14T16:49:17.656344",
     "exception": false,
     "start_time": "2022-10-14T16:49:16.691402",
     "status": "completed"
    },
    "tags": []
   },
   "outputs": [
    {
     "name": "stdout",
     "output_type": "stream",
     "text": [
      "Processing alpha_group_significance: chao1\n",
      "Processing alpha_group_significance: simpson\n"
     ]
    },
    {
     "name": "stdout",
     "output_type": "stream",
     "text": [
      "Processing alpha_group_significance: shannon\n"
     ]
    },
    {
     "name": "stdout",
     "output_type": "stream",
     "text": [
      "Processing alpha_group_significance: ace\n",
      "Processing alpha_group_significance: observed_features\n"
     ]
    }
   ],
   "source": [
    "for metric, alpha_values in alpha_diversities.items():\n",
    "    print(f\"Processing alpha_group_significance: {metric}\")\n",
    "    significance_view = alpha_group_significance(alpha_diversity=alpha_values, metadata=metadata_qa).visualization\n",
    "    view_path = os.path.join(qiime_folder, f'alpha-group-significance-{metric}.qzv')\n",
    "    significance_view.save(view_path)\n",
    "    significance_view"
   ]
  },
  {
   "cell_type": "markdown",
   "id": "4349d357",
   "metadata": {
    "papermill": {
     "duration": 0.032906,
     "end_time": "2022-10-14T16:49:17.730690",
     "exception": false,
     "start_time": "2022-10-14T16:49:17.697784",
     "status": "completed"
    },
    "tags": []
   },
   "source": [
    "## Beta diversity analysis\n",
    "\n",
    "#### Reference\n",
    "- [diversity beta](https://docs.qiime2.org/2022.8/plugins/available/diversity/beta/): Computes a user-specified beta diversity metric for all pairs of samples in a feature table.\n",
    "- [Beta diversity metrics](http://scikit-bio.org/docs/0.2.0/generated/skbio.diversity.beta.html)\n",
    "\n",
    "- Metric Choices('aitchison', 'braycurtis', 'canberra', 'canberra_adkins', 'chebyshev', 'cityblock', 'correlation', 'cosine', 'dice', 'euclidean', 'hamming', 'jaccard', 'jensenshannon', 'kulsinski', 'matching', 'minkowski', 'rogerstanimoto', 'russellrao', 'seuclidean', 'sokalmichener', 'sokalsneath', 'sqeuclidean', 'yule')"
   ]
  },
  {
   "cell_type": "code",
   "execution_count": 16,
   "id": "f6f358dd",
   "metadata": {
    "ExecuteTime": {
     "end_time": "2022-09-29T20:54:36.335038Z",
     "start_time": "2022-09-29T20:54:36.091288Z"
    },
    "execution": {
     "iopub.execute_input": "2022-10-14T16:49:17.799902Z",
     "iopub.status.busy": "2022-10-14T16:49:17.799644Z",
     "iopub.status.idle": "2022-10-14T16:49:18.148852Z",
     "shell.execute_reply": "2022-10-14T16:49:18.148158Z"
    },
    "papermill": {
     "duration": 0.387536,
     "end_time": "2022-10-14T16:49:18.153595",
     "exception": false,
     "start_time": "2022-10-14T16:49:17.766059",
     "status": "completed"
    },
    "tags": []
   },
   "outputs": [
    {
     "name": "stdout",
     "output_type": "stream",
     "text": [
      "Calculating beta diversity: dice\n",
      "Calculating beta diversity: braycurtis\n"
     ]
    },
    {
     "name": "stderr",
     "output_type": "stream",
     "text": [
      "/home/lauro/anaconda3/envs/qiime2-2022.2/lib/python3.8/site-packages/sklearn/metrics/pairwise.py:1761: DataConversionWarning: Data was converted to boolean for metric dice\n",
      "  warnings.warn(msg, DataConversionWarning)\n"
     ]
    },
    {
     "name": "stdout",
     "output_type": "stream",
     "text": [
      "Calculating beta diversity: chebyshev\n",
      "Calculating beta diversity: jaccard\n"
     ]
    },
    {
     "name": "stderr",
     "output_type": "stream",
     "text": [
      "/home/lauro/anaconda3/envs/qiime2-2022.2/lib/python3.8/site-packages/sklearn/metrics/pairwise.py:1761: DataConversionWarning: Data was converted to boolean for metric jaccard\n",
      "  warnings.warn(msg, DataConversionWarning)\n"
     ]
    }
   ],
   "source": [
    "metrics = ('dice', 'braycurtis', 'chebyshev', 'jaccard')\n",
    "beta_diversities = dict()\n",
    "for metric in metrics:\n",
    "    print(f\"Calculating beta diversity: {metric}\")\n",
    "    beta_diversity = beta(table=tabs, metric=metric, n_jobs=6, pseudocount=1).distance_matrix\n",
    "    beta_diversities[metric] = beta_diversity"
   ]
  },
  {
   "cell_type": "markdown",
   "id": "200a2fa7",
   "metadata": {
    "papermill": {
     "duration": 0.033792,
     "end_time": "2022-10-14T16:49:18.226204",
     "exception": false,
     "start_time": "2022-10-14T16:49:18.192412",
     "status": "completed"
    },
    "tags": []
   },
   "source": [
    "### Beta group significance\n",
    "\n",
    "- [diversity beta_group_significance](https://docs.qiime2.org/2022.8/plugins/available/diversity/beta-group-significance/): Determine whether groups of samples are significantly different from one another using a permutation-based statistical test.\n",
    "- Marti J Anderson. A new method for non-parametric multivariate analysis of variance. Austral ecology, 26(1):32–46, 2001. doi:https://doi.org/10.1111/j.1442-9993.2001.01070.pp.x."
   ]
  },
  {
   "cell_type": "code",
   "execution_count": 17,
   "id": "b8dd42b6",
   "metadata": {
    "ExecuteTime": {
     "end_time": "2022-09-29T20:55:08.313860Z",
     "start_time": "2022-09-29T20:54:36.336993Z"
    },
    "execution": {
     "iopub.execute_input": "2022-10-14T16:49:18.296195Z",
     "iopub.status.busy": "2022-10-14T16:49:18.295907Z",
     "iopub.status.idle": "2022-10-14T16:49:51.596721Z",
     "shell.execute_reply": "2022-10-14T16:49:51.596148Z"
    },
    "papermill": {
     "duration": 33.383663,
     "end_time": "2022-10-14T16:49:51.643292",
     "exception": false,
     "start_time": "2022-10-14T16:49:18.259629",
     "status": "completed"
    },
    "tags": []
   },
   "outputs": [
    {
     "name": "stdout",
     "output_type": "stream",
     "text": [
      "Calculating beta group significance with method permanova and metric dice\n"
     ]
    },
    {
     "name": "stdout",
     "output_type": "stream",
     "text": [
      "Calculating beta group significance with method permanova and metric braycurtis\n"
     ]
    },
    {
     "name": "stdout",
     "output_type": "stream",
     "text": [
      "Calculating beta group significance with method permanova and metric chebyshev\n"
     ]
    },
    {
     "name": "stdout",
     "output_type": "stream",
     "text": [
      "Calculating beta group significance with method permanova and metric jaccard\n"
     ]
    },
    {
     "name": "stdout",
     "output_type": "stream",
     "text": [
      "Calculating beta group significance with method anosim and metric dice\n"
     ]
    },
    {
     "name": "stdout",
     "output_type": "stream",
     "text": [
      "Calculating beta group significance with method anosim and metric braycurtis\n"
     ]
    },
    {
     "name": "stdout",
     "output_type": "stream",
     "text": [
      "Calculating beta group significance with method anosim and metric chebyshev\n"
     ]
    },
    {
     "name": "stdout",
     "output_type": "stream",
     "text": [
      "Calculating beta group significance with method anosim and metric jaccard\n"
     ]
    },
    {
     "name": "stdout",
     "output_type": "stream",
     "text": [
      "Calculating beta group significance with method permdisp and metric dice\n"
     ]
    },
    {
     "name": "stdout",
     "output_type": "stream",
     "text": [
      "Calculating beta group significance with method permdisp and metric braycurtis\n"
     ]
    },
    {
     "name": "stdout",
     "output_type": "stream",
     "text": [
      "Calculating beta group significance with method permdisp and metric chebyshev\n"
     ]
    },
    {
     "name": "stderr",
     "output_type": "stream",
     "text": [
      "/home/lauro/anaconda3/envs/qiime2-2022.2/lib/python3.8/site-packages/skbio/stats/ordination/_principal_coordinate_analysis.py:143: RuntimeWarning: The result contains negative eigenvalues. Please compare their magnitude with the magnitude of some of the largest positive eigenvalues. If the negative ones are smaller, it's probably safe to ignore them, but if they are large in magnitude, the results won't be useful. See the Notes section for more details. The smallest eigenvalue is -95033973.72889368 and the largest is 1022480902.9013429.\n",
      "  warn(\n"
     ]
    },
    {
     "name": "stderr",
     "output_type": "stream",
     "text": [
      "/home/lauro/anaconda3/envs/qiime2-2022.2/lib/python3.8/site-packages/skbio/stats/ordination/_principal_coordinate_analysis.py:143: RuntimeWarning: The result contains negative eigenvalues. Please compare their magnitude with the magnitude of some of the largest positive eigenvalues. If the negative ones are smaller, it's probably safe to ignore them, but if they are large in magnitude, the results won't be useful. See the Notes section for more details. The smallest eigenvalue is -95033973.72889373 and the largest is 1022480902.9013419.\n",
      "  warn(\n"
     ]
    },
    {
     "name": "stdout",
     "output_type": "stream",
     "text": [
      "Calculating beta group significance with method permdisp and metric jaccard\n"
     ]
    },
    {
     "data": {
      "text/plain": [
       "<Figure size 432x288 with 0 Axes>"
      ]
     },
     "metadata": {},
     "output_type": "display_data"
    }
   ],
   "source": [
    "methods = ('permanova', 'anosim', 'permdisp')\n",
    "for method in methods:\n",
    "    for metric, beta_diversity in beta_diversities.items():\n",
    "        print(f'Calculating beta group significance with method {method} and metric {metric}')\n",
    "        beta_view = beta_group_significance(distance_matrix=beta_diversity, \n",
    "                                            metadata=metadata_qa.get_column(class_col), \n",
    "                                            pairwise=True, method=method).visualization\n",
    "        view_name = os.path.join(qiime_folder, f'beta-group-significance-{metric}-{method}.qzv')\n",
    "        beta_view.save(view_name)"
   ]
  },
  {
   "cell_type": "markdown",
   "id": "c0de85cf",
   "metadata": {
    "papermill": {
     "duration": 0.03827,
     "end_time": "2022-10-14T16:49:51.718630",
     "exception": false,
     "start_time": "2022-10-14T16:49:51.680360",
     "status": "completed"
    },
    "tags": []
   },
   "source": [
    "### Beta group Rarefaction\n",
    "\n",
    "- [diversity beta_rarefaction](https://docs.qiime2.org/2022.8/plugins/available/diversity/beta-rarefaction/): Repeatedly rarefy a feature table to compare beta diversity results within a given rarefaction depth.  For a given beta diversity metric, this visualizer will provide: an Emperor jackknifed PCoA plot, samples clustered by UPGMA or neighbor joining with support calculation, and a heatmap showing the correlation between rarefaction trials of that beta diversity metric."
   ]
  }
 ],
 "metadata": {
  "celltoolbar": "Edit Metadata",
  "kernelspec": {
   "display_name": "Python 3 (ipykernel)",
   "language": "python",
   "name": "python3"
  },
  "language_info": {
   "codemirror_mode": {
    "name": "ipython",
    "version": 3
   },
   "file_extension": ".py",
   "mimetype": "text/x-python",
   "name": "python",
   "nbconvert_exporter": "python",
   "pygments_lexer": "ipython3",
   "version": "3.8.12"
  },
  "papermill": {
   "default_parameters": {},
   "duration": 66.125012,
   "end_time": "2022-10-14T16:49:52.574499",
   "environment_variables": {},
   "exception": null,
   "input_path": "nb-templates/step-diversity-analysis.ipynb",
   "output_path": "/home/lauro/nupeb/rede-micro/redemicro-miliane-nutri/experiments/miliane-CxAC-trim/nb-executed-steps/step-diversity-analysis-miliane-CxAC-trim.ipynb",
   "parameters": {
    "base_dir": "/home/lauro/nupeb/rede-micro/redemicro-miliane-nutri",
    "class_col": "group-id",
    "classifier_file": "/home/lauro/nupeb/dados_brutos_rede_genoma/16S_classifiers_qiime2/silva-138-99-nb-classifier.qza",
    "experiment_name": "miliane-CxAC-trim",
    "manifest_file": "/home/lauro/nupeb/rede-micro/redemicro-miliane-nutri/data/raw/manifest/miliane-manifest-CxAC.csv",
    "metadata_file": "/home/lauro/nupeb/rede-micro/redemicro-miliane-nutri/data/raw/metadata/miliane-metadata-CxAC.tsv",
    "overlap": 12,
    "phred": 20,
    "replace_files": false,
    "threads": 6,
    "trim": {
     "forward_primer": "CCTACGGGRSGCAGCAG",
     "overlap": 8,
     "reverse_primer": "GGACTACHVGGGTWTCTAAT"
    },
    "trunc_f": 0,
    "trunc_r": 0
   },
   "start_time": "2022-10-14T16:48:46.449487",
   "version": "2.3.4"
  }
 },
 "nbformat": 4,
 "nbformat_minor": 5
}