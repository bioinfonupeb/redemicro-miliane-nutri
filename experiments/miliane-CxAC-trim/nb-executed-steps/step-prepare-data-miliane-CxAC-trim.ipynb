{
 "cells": [
  {
   "cell_type": "markdown",
   "id": "099ff6b8",
   "metadata": {
    "papermill": {
     "duration": 0.002377,
     "end_time": "2024-03-01T11:28:10.747994",
     "exception": false,
     "start_time": "2024-03-01T11:28:10.745617",
     "status": "completed"
    },
    "tags": []
   },
   "source": [
    "# Prepare data for Pipeline"
   ]
  },
  {
   "cell_type": "markdown",
   "id": "9e4dda9e",
   "metadata": {
    "papermill": {
     "duration": 0.001642,
     "end_time": "2024-03-01T11:28:10.753209",
     "exception": false,
     "start_time": "2024-03-01T11:28:10.751567",
     "status": "completed"
    },
    "tags": []
   },
   "source": [
    "## Setup and settings"
   ]
  },
  {
   "cell_type": "code",
   "execution_count": 1,
   "id": "2f104d60",
   "metadata": {
    "ExecuteTime": {
     "end_time": "2022-10-14T14:33:37.863523Z",
     "start_time": "2022-10-14T14:33:14.145712Z"
    },
    "execution": {
     "iopub.execute_input": "2024-03-01T11:28:10.759929Z",
     "iopub.status.busy": "2024-03-01T11:28:10.759651Z",
     "iopub.status.idle": "2024-03-01T11:28:15.785154Z",
     "shell.execute_reply": "2024-03-01T11:28:15.784703Z"
    },
    "papermill": {
     "duration": 5.031494,
     "end_time": "2024-03-01T11:28:15.786338",
     "exception": false,
     "start_time": "2024-03-01T11:28:10.754844",
     "status": "completed"
    },
    "tags": []
   },
   "outputs": [],
   "source": [
    "# Importing packages\n",
    "import os\n",
    "import yaml\n",
    "import logging\n",
    "import pandas as pd\n",
    "from Bio.Seq import Seq\n",
    "from qiime2 import Artifact, Visualization, Metadata\n",
    "from qiime2.plugins import demux\n",
    "from qiime2.plugins.cutadapt.methods import trim_paired, trim_single\n",
    "from qiime2.plugins.demux.methods import filter_samples"
   ]
  },
  {
   "cell_type": "markdown",
   "id": "01933d0a",
   "metadata": {
    "papermill": {
     "duration": 0.003041,
     "end_time": "2024-03-01T11:28:15.791329",
     "exception": false,
     "start_time": "2024-03-01T11:28:15.788288",
     "status": "completed"
    },
    "tags": []
   },
   "source": [
    "### Receiving the parameters\n",
    "\n",
    "The following cell can receive parameters using the [papermill](https://papermill.readthedocs.io/en/latest/) tool."
   ]
  },
  {
   "cell_type": "code",
   "execution_count": 2,
   "id": "d63549ef",
   "metadata": {
    "ExecuteTime": {
     "end_time": "2022-06-28T18:50:41.594341Z",
     "start_time": "2022-06-28T18:50:41.591544Z"
    },
    "execution": {
     "iopub.execute_input": "2024-03-01T11:28:15.795776Z",
     "iopub.status.busy": "2024-03-01T11:28:15.795473Z",
     "iopub.status.idle": "2024-03-01T11:28:15.798770Z",
     "shell.execute_reply": "2024-03-01T11:28:15.798378Z"
    },
    "papermill": {
     "duration": 0.006777,
     "end_time": "2024-03-01T11:28:15.799760",
     "exception": false,
     "start_time": "2024-03-01T11:28:15.792983",
     "status": "completed"
    },
    "tags": [
     "parameters"
    ]
   },
   "outputs": [],
   "source": [
    "params_path = os.path.join('..', 'params', 'parameter-set-01.yaml')\n",
    "experiment_name = 'exp-01'\n",
    "base_dir = os.path.join('/', 'home', 'username', 'pipeline-dir')\n",
    "manifest_file = os.path.join(base_dir, 'data', 'raw', 'manifest', 'manifest.csv')\n",
    "replace_files = False\n",
    "trim = None\n",
    "metadata_file = None\n",
    "threads = 1\n",
    "demux_file = None"
   ]
  },
  {
   "cell_type": "code",
   "execution_count": 3,
   "id": "aa397d85",
   "metadata": {
    "execution": {
     "iopub.execute_input": "2024-03-01T11:28:15.803817Z",
     "iopub.status.busy": "2024-03-01T11:28:15.803675Z",
     "iopub.status.idle": "2024-03-01T11:28:15.806626Z",
     "shell.execute_reply": "2024-03-01T11:28:15.806248Z"
    },
    "papermill": {
     "duration": 0.005999,
     "end_time": "2024-03-01T11:28:15.807517",
     "exception": false,
     "start_time": "2024-03-01T11:28:15.801518",
     "status": "completed"
    },
    "tags": [
     "injected-parameters"
    ]
   },
   "outputs": [],
   "source": [
    "# Parameters\n",
    "experiment_name = \"miliane-CxAC-trim\"\n",
    "base_dir = \"/mnt/nupeb/rede-micro/redemicro-miliane-nutri\"\n",
    "manifest_file = \"/mnt/nupeb/rede-micro/redemicro-miliane-nutri/data/raw/manifest/miliane-manifest-CxAC.csv\"\n",
    "metadata_file = \"/mnt/nupeb/rede-micro/redemicro-miliane-nutri/data/raw/metadata/miliane-metadata-CxAC.tsv\"\n",
    "class_col = \"group-id\"\n",
    "classifier_file = \"/mnt/nupeb/rede-micro/datasets/16S_classifiers_qiime2/silva-138-99-nb-classifier.qza\"\n",
    "replace_files = False\n",
    "phred = 20\n",
    "trunc_f = 0\n",
    "trunc_r = 0\n",
    "overlap = 12\n",
    "threads = 6\n",
    "trim = {\n",
    "    \"overlap\": 8,\n",
    "    \"forward_primer\": \"CCTACGGGRSGCAGCAG\",\n",
    "    \"reverse_primer\": \"GGACTACHVGGGTWTCTAAT\",\n",
    "}\n"
   ]
  },
  {
   "cell_type": "code",
   "execution_count": 4,
   "id": "a915a2c0",
   "metadata": {
    "ExecuteTime": {
     "end_time": "2023-08-18T15:40:31.070885Z",
     "start_time": "2023-08-18T15:40:30.611671Z"
    },
    "execution": {
     "iopub.execute_input": "2024-03-01T11:28:15.811464Z",
     "iopub.status.busy": "2024-03-01T11:28:15.811329Z",
     "iopub.status.idle": "2024-03-01T11:28:15.814139Z",
     "shell.execute_reply": "2024-03-01T11:28:15.813769Z"
    },
    "papermill": {
     "duration": 0.005807,
     "end_time": "2024-03-01T11:28:15.815019",
     "exception": false,
     "start_time": "2024-03-01T11:28:15.809212",
     "status": "completed"
    },
    "tags": []
   },
   "outputs": [],
   "source": [
    "out_dir = os.path.join(base_dir, 'experiments', experiment_name, 'qiime-artifacts')\n",
    "img_folder = os.path.abspath(os.path.join(base_dir, 'experiments', experiment_name, 'imgs'))\n",
    "data_dir =  os.path.abspath(os.path.join(base_dir, 'data'))\n",
    "raw_data_dir =  os.path.abspath(os.path.join(data_dir, 'raw'))\n",
    "interim_data_dir =  os.path.abspath(os.path.join(data_dir, 'interim'))"
   ]
  },
  {
   "cell_type": "markdown",
   "id": "093dc3e5",
   "metadata": {
    "papermill": {
     "duration": 0.001665,
     "end_time": "2024-03-01T11:28:15.818389",
     "exception": false,
     "start_time": "2024-03-01T11:28:15.816724",
     "status": "completed"
    },
    "tags": []
   },
   "source": [
    "### Defining names and paths"
   ]
  },
  {
   "cell_type": "code",
   "execution_count": 5,
   "id": "8d391c2b",
   "metadata": {
    "ExecuteTime": {
     "end_time": "2022-06-28T18:50:41.632125Z",
     "start_time": "2022-06-28T18:50:41.619710Z"
    },
    "execution": {
     "iopub.execute_input": "2024-03-01T11:28:15.822544Z",
     "iopub.status.busy": "2024-03-01T11:28:15.822265Z",
     "iopub.status.idle": "2024-03-01T11:28:15.824808Z",
     "shell.execute_reply": "2024-03-01T11:28:15.824440Z"
    },
    "papermill": {
     "duration": 0.005627,
     "end_time": "2024-03-01T11:28:15.825701",
     "exception": false,
     "start_time": "2024-03-01T11:28:15.820074",
     "status": "completed"
    },
    "tags": []
   },
   "outputs": [],
   "source": [
    "# Create path if it not exists\n",
    "if not os.path.isdir(out_dir):\n",
    "    os.makedirs(out_dir)\n",
    "    print(f'New qiime-artifacts folder path created: {out_dir}')\n",
    "\n",
    "# Create path if it not exists\n",
    "if not os.path.isdir(img_folder):\n",
    "    os.makedirs(img_folder)\n",
    "    print(f'New img folder path created: {img_folder}')"
   ]
  },
  {
   "cell_type": "code",
   "execution_count": 6,
   "id": "25ef5228",
   "metadata": {
    "execution": {
     "iopub.execute_input": "2024-03-01T11:28:15.830041Z",
     "iopub.status.busy": "2024-03-01T11:28:15.829732Z",
     "iopub.status.idle": "2024-03-01T11:28:15.835023Z",
     "shell.execute_reply": "2024-03-01T11:28:15.834648Z"
    },
    "papermill": {
     "duration": 0.008493,
     "end_time": "2024-03-01T11:28:15.835937",
     "exception": false,
     "start_time": "2024-03-01T11:28:15.827444",
     "status": "completed"
    },
    "tags": []
   },
   "outputs": [],
   "source": [
    "manifest_df = pd.read_csv(manifest_file)\n",
    "n_directions = len(manifest_df['direction'].unique())\n",
    "if n_directions == 1:\n",
    "    d_type = 'SampleData[SequencesWithQuality]'\n",
    "    v_type = 'SingleEndFastqManifestPhred33'\n",
    "    direction = 'single'\n",
    "elif n_directions == 2:\n",
    "    d_type = 'SampleData[PairedEndSequencesWithQuality]'\n",
    "    v_type = 'PairedEndFastqManifestPhred33'\n",
    "    direction = 'paired'\n",
    "else:\n",
    "    print(f'ERROR: invalid number of directions {n_directions}')"
   ]
  },
  {
   "cell_type": "code",
   "execution_count": 7,
   "id": "f726a897",
   "metadata": {
    "execution": {
     "iopub.execute_input": "2024-03-01T11:28:15.840234Z",
     "iopub.status.busy": "2024-03-01T11:28:15.839970Z",
     "iopub.status.idle": "2024-03-01T11:28:15.842856Z",
     "shell.execute_reply": "2024-03-01T11:28:15.842486Z"
    },
    "papermill": {
     "duration": 0.006031,
     "end_time": "2024-03-01T11:28:15.843755",
     "exception": false,
     "start_time": "2024-03-01T11:28:15.837724",
     "status": "completed"
    },
    "tags": []
   },
   "outputs": [],
   "source": [
    "sufix = str(direction)\n",
    "if trim and len(trim.keys()) == 3:\n",
    "    sufix += f'-{trim}'\n",
    "    \n",
    "# Define the output artifact full path\n",
    "if demux_file is None:\n",
    "    demux_file = os.path.join(out_dir, f'demux-{direction}.qza')\n",
    "demux_view = os.path.join(out_dir, f'demux-{direction}.qzv')\n",
    "demux_file_trim = os.path.join(out_dir, f'demux-{direction}-trim.qza')\n",
    "demux_view_trim = os.path.join(out_dir, f'demux-{direction}-trim.qzv')"
   ]
  },
  {
   "cell_type": "markdown",
   "id": "7265d551",
   "metadata": {
    "papermill": {
     "duration": 0.001717,
     "end_time": "2024-03-01T11:28:15.847235",
     "exception": false,
     "start_time": "2024-03-01T11:28:15.845518",
     "status": "completed"
    },
    "tags": []
   },
   "source": [
    "## Step execution\n",
    "\n",
    "This Step import all `fastq` files in a **QIIME2 Artifact** object and save it to a new `qza` file."
   ]
  },
  {
   "cell_type": "code",
   "execution_count": 8,
   "id": "606ce1c7",
   "metadata": {
    "execution": {
     "iopub.execute_input": "2024-03-01T11:28:15.851604Z",
     "iopub.status.busy": "2024-03-01T11:28:15.851202Z",
     "iopub.status.idle": "2024-03-01T11:28:15.875797Z",
     "shell.execute_reply": "2024-03-01T11:28:15.875399Z"
    },
    "papermill": {
     "duration": 0.027818,
     "end_time": "2024-03-01T11:28:15.876791",
     "exception": false,
     "start_time": "2024-03-01T11:28:15.848973",
     "status": "completed"
    },
    "tags": []
   },
   "outputs": [],
   "source": [
    "# If the metadata file is not defined, use the default metadata file\n",
    "metadata_qa = Metadata.load(metadata_file)"
   ]
  },
  {
   "cell_type": "code",
   "execution_count": 9,
   "id": "dee07778",
   "metadata": {
    "ExecuteTime": {
     "end_time": "2022-06-28T19:44:58.640338Z",
     "start_time": "2022-06-28T18:50:41.633657Z"
    },
    "execution": {
     "iopub.execute_input": "2024-03-01T11:28:15.881088Z",
     "iopub.status.busy": "2024-03-01T11:28:15.880914Z",
     "iopub.status.idle": "2024-03-01T11:28:20.150860Z",
     "shell.execute_reply": "2024-03-01T11:28:20.150430Z"
    },
    "papermill": {
     "duration": 4.273372,
     "end_time": "2024-03-01T11:28:20.152019",
     "exception": false,
     "start_time": "2024-03-01T11:28:15.878647",
     "status": "completed"
    },
    "tags": []
   },
   "outputs": [],
   "source": [
    "# If the demux file does not exist or if the old file will be replaced\n",
    "if not os.path.isfile(demux_file) or replace_files:\n",
    "    \n",
    "    interim_demux_path = os.path.join(interim_data_dir, f'demux-{direction}.qza')\n",
    "    \n",
    "    # Create new file path for interim dir\n",
    "    if not os.path.isdir(interim_data_dir):\n",
    "        !mkdir -p {interim_data_dir}\n",
    "        \n",
    "    # Load Artifact from interim folder\n",
    "    if os.path.isfile(interim_demux_path):\n",
    "        artifact = Artifact.load(interim_demux_path)\n",
    "        \n",
    "    # Create new Artifact using Manifest\n",
    "    else:\n",
    "        artifact = Artifact.import_data(d_type, manifest_file, view_type=v_type)\n",
    "        if not os.path.isfile(interim_demux_path):\n",
    "            artifact.save(interim_demux_path)\n",
    "            \n",
    "    # Filter and Save Artifact\n",
    "    artifact = filter_samples(demux=artifact, metadata=metadata_qa).filtered_demux\n",
    "    artifact.save(demux_file)\n",
    "    \n",
    "    # Visualization\n",
    "    if os.path.isfile(demux_view):\n",
    "        demux_view_obj = Visualization.load(demux_view)\n",
    "    else:\n",
    "        demux_view_obj = demux.visualizers.summarize(artifact).visualization\n",
    "        Visualization.save(demux_view_obj, filepath=demux_view)\n",
    "        \n",
    "elif os.path.isfile(demux_file):\n",
    "    \n",
    "    # Load Artifact\n",
    "    artifact = Artifact.load(demux_file)\n",
    "    artifact = filter_samples(demux=artifact, metadata=metadata_qa).filtered_demux\n",
    "    \n",
    "    # Visualization\n",
    "    if os.path.isfile(demux_view):\n",
    "        demux_view_obj = Visualization.load(demux_view)\n",
    "    else:\n",
    "        demux_view_obj = demux.visualizers.summarize(artifact).visualization\n",
    "        Visualization.save(demux_view_obj, filepath=demux_view)"
   ]
  },
  {
   "cell_type": "markdown",
   "id": "ea4d9bf5",
   "metadata": {
    "papermill": {
     "duration": 0.001843,
     "end_time": "2024-03-01T11:28:20.155910",
     "exception": false,
     "start_time": "2024-03-01T11:28:20.154067",
     "status": "completed"
    },
    "tags": []
   },
   "source": [
    "## Step report\n"
   ]
  },
  {
   "cell_type": "code",
   "execution_count": 10,
   "id": "5212bab1",
   "metadata": {
    "ExecuteTime": {
     "end_time": "2022-06-28T19:47:56.704841Z",
     "start_time": "2022-06-28T19:47:56.611846Z"
    },
    "execution": {
     "iopub.execute_input": "2024-03-01T11:28:20.160154Z",
     "iopub.status.busy": "2024-03-01T11:28:20.160000Z",
     "iopub.status.idle": "2024-03-01T11:28:20.166084Z",
     "shell.execute_reply": "2024-03-01T11:28:20.165698Z"
    },
    "papermill": {
     "duration": 0.009297,
     "end_time": "2024-03-01T11:28:20.166996",
     "exception": false,
     "start_time": "2024-03-01T11:28:20.157699",
     "status": "completed"
    },
    "tags": []
   },
   "outputs": [
    {
     "name": "stdout",
     "output_type": "stream",
     "text": [
      "<visualization: Visualization uuid: f8382eb5-41f8-4188-a086-5ae23bb70390>\n"
     ]
    },
    {
     "data": {
      "text/html": [
       "<div><img onload=\"(function(div, url){\n",
       "if (typeof require !== 'undefined') {\n",
       "    var baseURL = require.toUrl('').split('/').slice(0, -2).join('/');\n",
       "} else {\n",
       "    var baseURL = JSON.parse(\n",
       "        document.getElementById('jupyter-config-data').innerHTML\n",
       "    ).baseUrl.slice(0, -1);\n",
       "}\n",
       "url = baseURL + url;\n",
       "fetch(url).then(function(res) {\n",
       "    if (res.status === 404) {\n",
       "        div.innerHTML = 'Install QIIME 2 Jupyter extension with:<br />' +\n",
       "                        '<code>jupyter serverextension enable --py qiime2' +\n",
       "                        ' --sys-prefix</code><br />then restart your server.' +\n",
       "                        '<br /><br />(Interactive output not available on ' +\n",
       "                        'static notebook viewer services like nbviewer.)';\n",
       "    } else if (res.status === 409) {\n",
       "        div.innerHTML = 'Visualization no longer in scope. Re-run this cell' +\n",
       "                        ' to see the visualization.';\n",
       "    } else if (res.ok) {\n",
       "        url = res.url;\n",
       "        div.innerHTML = '<iframe src=\\'' + url + '\\' style=\\'' +\n",
       "                        'width: 100%; height: 700px; border: 0;\\'>' +\n",
       "                        '</iframe><hr />Open in a: <a href=\\'' + url + '\\'' +\n",
       "                        ' target=\\'_blank\\'>new window</a>'\n",
       "    } else {\n",
       "        div.innerHTML = 'Something has gone wrong. Check notebook server for' +\n",
       "                        ' errors.';\n",
       "    }\n",
       "});\n",
       "})(this.parentElement, '/qiime2/redirect?location=/tmp/qiime2/lauro/data/f8382eb5-41f8-4188-a086-5ae23bb70390')\" src=\"data:image/gif;base64,R0lGODlhAQABAIAAAP///wAAACH5BAEAAAAALAAAAAABAAEAAAICRAEAOw==\" /></div>"
      ],
      "text/plain": [
       "<visualization: Visualization uuid: f8382eb5-41f8-4188-a086-5ae23bb70390>"
      ]
     },
     "execution_count": 10,
     "metadata": {},
     "output_type": "execute_result"
    }
   ],
   "source": [
    "print(demux_view_obj)\n",
    "\n",
    "# Render Visualization\n",
    "demux_view_obj"
   ]
  },
  {
   "cell_type": "markdown",
   "id": "fc96d574",
   "metadata": {
    "papermill": {
     "duration": 0.001918,
     "end_time": "2024-03-01T11:28:20.170892",
     "exception": false,
     "start_time": "2024-03-01T11:28:20.168974",
     "status": "completed"
    },
    "tags": []
   },
   "source": [
    "[cutadapt](https://docs.qiime2.org/2022.2/plugins/available/cutadapt/trim-paired/)\n",
    "\n",
    "We trim the forward primer and the reverse complement of the reverse primer from the forward reads. We trim the reverse primer and reverse complement of the forward primer from the reverse reads."
   ]
  },
  {
   "cell_type": "code",
   "execution_count": 11,
   "id": "08709ef1",
   "metadata": {
    "execution": {
     "iopub.execute_input": "2024-03-01T11:28:20.175404Z",
     "iopub.status.busy": "2024-03-01T11:28:20.175260Z",
     "iopub.status.idle": "2024-03-01T11:28:20.180154Z",
     "shell.execute_reply": "2024-03-01T11:28:20.179771Z"
    },
    "papermill": {
     "duration": 0.008287,
     "end_time": "2024-03-01T11:28:20.181093",
     "exception": false,
     "start_time": "2024-03-01T11:28:20.172806",
     "status": "completed"
    },
    "tags": []
   },
   "outputs": [],
   "source": [
    "demux_file_trim = os.path.join(out_dir, f'demux-{direction}-trim.qza')\n",
    "demux_view_trim = os.path.join(out_dir, f'demux-{direction}-trim.qzv')\n",
    "\n",
    "if trim and (not os.path.isfile(demux_file_trim) or replace_files):\n",
    "    forward_primer = [trim['forward_primer']] # ['CCTACGGGRSGCAGCAG']\n",
    "    reverse_primer = [trim['reverse_primer']] # ['GGACTACHVGGGTWTCTAAT']\n",
    "    forward_reverse_complement = [str(Seq(forward_primer[0]).reverse_complement())]\n",
    "    reverse_reverse_complement = [str(Seq(reverse_primer[0]).reverse_complement())]\n",
    "\n",
    "    res = None\n",
    "    \n",
    "    if n_directions == 1:\n",
    "        res = trim_single(\n",
    "            demultiplexed_sequences=artifact,\n",
    "            front=forward_primer,\n",
    "            adapter=reverse_reverse_complement,\n",
    "            cores=threads,\n",
    "            indels=False,\n",
    "            match_read_wildcards=True,\n",
    "            match_adapter_wildcards=True,\n",
    "            error_rate=0.01,\n",
    "            discard_untrimmed=True,\n",
    "        ).trimmed_sequences\n",
    "    elif n_directions == 2:\n",
    "        res = trim_paired(\n",
    "            demultiplexed_sequences=artifact,\n",
    "            front_f=forward_primer,\n",
    "            front_r=reverse_primer,\n",
    "            # adapter_f=reverse_reverse_complement,\n",
    "            # adapter_r=forward_reverse_complement,\n",
    "            cores=threads,\n",
    "            overlap=trim['overlap'],\n",
    "            indels=False,\n",
    "            match_read_wildcards=True,\n",
    "            match_adapter_wildcards=True,\n",
    "            error_rate=0.01,\n",
    "            discard_untrimmed=True,\n",
    "        ).trimmed_sequences\n",
    "    else:\n",
    "        print(f'ERROR: invalid number of directions {n_directions}')\n",
    "\n",
    "    if res is not None:\n",
    "        res.save(demux_file_trim)\n",
    "        Visualization.save(demux.visualizers.summarize(res).visualization, filepath=demux_view_trim)"
   ]
  }
 ],
 "metadata": {
  "celltoolbar": "Edit Metadata",
  "kernelspec": {
   "display_name": "Python 3 (ipykernel)",
   "language": "python",
   "name": "python3"
  },
  "language_info": {
   "codemirror_mode": {
    "name": "ipython",
    "version": 3
   },
   "file_extension": ".py",
   "mimetype": "text/x-python",
   "name": "python",
   "nbconvert_exporter": "python",
   "pygments_lexer": "ipython3",
   "version": "3.8.16"
  },
  "papermill": {
   "default_parameters": {},
   "duration": 11.178405,
   "end_time": "2024-03-01T11:28:20.899158",
   "environment_variables": {},
   "exception": null,
   "input_path": "nb-templates/step-prepare-data.ipynb",
   "output_path": "/mnt/nupeb/rede-micro/redemicro-miliane-nutri/experiments/miliane-CxAC-trim/nb-executed-steps/step-prepare-data-miliane-CxAC-trim.ipynb",
   "parameters": {
    "base_dir": "/mnt/nupeb/rede-micro/redemicro-miliane-nutri",
    "class_col": "group-id",
    "classifier_file": "/mnt/nupeb/rede-micro/datasets/16S_classifiers_qiime2/silva-138-99-nb-classifier.qza",
    "experiment_name": "miliane-CxAC-trim",
    "manifest_file": "/mnt/nupeb/rede-micro/redemicro-miliane-nutri/data/raw/manifest/miliane-manifest-CxAC.csv",
    "metadata_file": "/mnt/nupeb/rede-micro/redemicro-miliane-nutri/data/raw/metadata/miliane-metadata-CxAC.tsv",
    "overlap": 12,
    "phred": 20,
    "replace_files": false,
    "threads": 6,
    "trim": {
     "forward_primer": "CCTACGGGRSGCAGCAG",
     "overlap": 8,
     "reverse_primer": "GGACTACHVGGGTWTCTAAT"
    },
    "trunc_f": 0,
    "trunc_r": 0
   },
   "start_time": "2024-03-01T11:28:09.720753",
   "version": "2.4.0"
  },
  "toc-autonumbering": false,
  "toc-showcode": false,
  "toc-showmarkdowntxt": false
 },
 "nbformat": 4,
 "nbformat_minor": 5
}