{
 "cells": [
  {
   "cell_type": "markdown",
   "id": "a1c06afe",
   "metadata": {
    "papermill": {
     "duration": 0.019239,
     "end_time": "2023-02-23T20:56:11.627141",
     "exception": false,
     "start_time": "2023-02-23T20:56:11.607902",
     "status": "completed"
    },
    "tags": []
   },
   "source": [
    "# Prepare data for Pipeline"
   ]
  },
  {
   "cell_type": "markdown",
   "id": "4cf04ff2",
   "metadata": {
    "papermill": {
     "duration": 0.038466,
     "end_time": "2023-02-23T20:56:11.677587",
     "exception": false,
     "start_time": "2023-02-23T20:56:11.639121",
     "status": "completed"
    },
    "tags": []
   },
   "source": [
    "## Setup and settings"
   ]
  },
  {
   "cell_type": "code",
   "execution_count": 1,
   "id": "7045a11f",
   "metadata": {
    "ExecuteTime": {
     "end_time": "2022-10-14T14:33:37.863523Z",
     "start_time": "2022-10-14T14:33:14.145712Z"
    },
    "execution": {
     "iopub.execute_input": "2023-02-23T20:56:11.780566Z",
     "iopub.status.busy": "2023-02-23T20:56:11.780161Z",
     "iopub.status.idle": "2023-02-23T20:56:18.344598Z",
     "shell.execute_reply": "2023-02-23T20:56:18.343973Z"
    },
    "papermill": {
     "duration": 6.658717,
     "end_time": "2023-02-23T20:56:18.347984",
     "exception": false,
     "start_time": "2023-02-23T20:56:11.689267",
     "status": "completed"
    },
    "tags": []
   },
   "outputs": [],
   "source": [
    "# Importing packages\n",
    "import os\n",
    "import yaml\n",
    "import logging\n",
    "import pandas as pd\n",
    "from Bio.Seq import Seq\n",
    "from qiime2 import Artifact, Visualization\n",
    "from qiime2.plugins import demux\n",
    "from qiime2.plugins.cutadapt.methods import trim_paired"
   ]
  },
  {
   "cell_type": "markdown",
   "id": "65cc7e96",
   "metadata": {
    "papermill": {
     "duration": 0.010415,
     "end_time": "2023-02-23T20:56:18.376032",
     "exception": false,
     "start_time": "2023-02-23T20:56:18.365617",
     "status": "completed"
    },
    "tags": []
   },
   "source": [
    "### Receiving the parameters\n",
    "\n",
    "The following cell can receive parameters using the [papermill](https://papermill.readthedocs.io/en/latest/) tool."
   ]
  },
  {
   "cell_type": "code",
   "execution_count": 2,
   "id": "297e5ca0",
   "metadata": {
    "ExecuteTime": {
     "end_time": "2022-06-28T18:50:41.594341Z",
     "start_time": "2022-06-28T18:50:41.591544Z"
    },
    "execution": {
     "iopub.execute_input": "2023-02-23T20:56:18.462791Z",
     "iopub.status.busy": "2023-02-23T20:56:18.462627Z",
     "iopub.status.idle": "2023-02-23T20:56:18.466977Z",
     "shell.execute_reply": "2023-02-23T20:56:18.466366Z"
    },
    "papermill": {
     "duration": 0.056284,
     "end_time": "2023-02-23T20:56:18.468468",
     "exception": false,
     "start_time": "2023-02-23T20:56:18.412184",
     "status": "completed"
    },
    "tags": [
     "parameters"
    ]
   },
   "outputs": [],
   "source": [
    "params_path = os.path.join('..', 'params', 'ana-flavia-superlactacao.yaml')\n",
    "experiment_name = 'jenneffer-vs-01'\n",
    "base_dir = os.path.join('/', 'home', 'lauro', 'nupeb', 'redemicro')\n",
    "manifest_file = os.path.join(base_dir, 'data', 'raw', 'manifest', 'not-hist-vs-manifest.csv')\n",
    "img_folder = os.path.abspath(os.path.join(base_dir, 'imgs'))\n",
    "replace_files = False\n",
    "trim = None"
   ]
  },
  {
   "cell_type": "code",
   "execution_count": 3,
   "id": "3ed70770",
   "metadata": {
    "execution": {
     "iopub.execute_input": "2023-02-23T20:56:18.492220Z",
     "iopub.status.busy": "2023-02-23T20:56:18.491960Z",
     "iopub.status.idle": "2023-02-23T20:56:18.496724Z",
     "shell.execute_reply": "2023-02-23T20:56:18.496083Z"
    },
    "papermill": {
     "duration": 0.018114,
     "end_time": "2023-02-23T20:56:18.498228",
     "exception": false,
     "start_time": "2023-02-23T20:56:18.480114",
     "status": "completed"
    },
    "tags": [
     "injected-parameters"
    ]
   },
   "outputs": [],
   "source": [
    "# Parameters\n",
    "experiment_name = \"miliane-CxAC-trim\"\n",
    "base_dir = \"/home/lauro/nupeb/rede-micro/redemicro-miliane-nutri\"\n",
    "manifest_file = \"/home/lauro/nupeb/rede-micro/redemicro-miliane-nutri/data/raw/manifest/miliane-manifest-CxAC.csv\"\n",
    "metadata_file = \"/home/lauro/nupeb/rede-micro/redemicro-miliane-nutri/data/raw/metadata/miliane-metadata-CxAC.tsv\"\n",
    "class_col = \"group-id\"\n",
    "classifier_file = \"/home/lauro/nupeb/dados_brutos_rede_genoma/16S_classifiers_qiime2/silva-138-99-nb-classifier.qza\"\n",
    "replace_files = False\n",
    "phred = 20\n",
    "trunc_f = 0\n",
    "trunc_r = 0\n",
    "overlap = 12\n",
    "threads = 6\n",
    "trim = {\n",
    "    \"overlap\": 8,\n",
    "    \"forward_primer\": \"CCTACGGGRSGCAGCAG\",\n",
    "    \"reverse_primer\": \"GGACTACHVGGGTWTCTAAT\",\n",
    "}\n"
   ]
  },
  {
   "cell_type": "code",
   "execution_count": 4,
   "id": "e56de2f2",
   "metadata": {
    "ExecuteTime": {
     "end_time": "2022-06-28T18:50:41.610682Z",
     "start_time": "2022-06-28T18:50:41.595886Z"
    },
    "execution": {
     "iopub.execute_input": "2023-02-23T20:56:18.521093Z",
     "iopub.status.busy": "2023-02-23T20:56:18.520707Z",
     "iopub.status.idle": "2023-02-23T20:56:18.525598Z",
     "shell.execute_reply": "2023-02-23T20:56:18.524960Z"
    },
    "papermill": {
     "duration": 0.018036,
     "end_time": "2023-02-23T20:56:18.527090",
     "exception": false,
     "start_time": "2023-02-23T20:56:18.509054",
     "status": "completed"
    },
    "tags": []
   },
   "outputs": [],
   "source": [
    "# Setting hardcoded parameters for development and debbuging\n",
    "production = True\n",
    "if not production:\n",
    "    params_path = os.path.join('..', 'params', 'ana-flavia-hipotese-01')\n",
    "    with open(params_path, 'r') as stream:\n",
    "        params = yaml.safe_load(stream)\n",
    "        experiment_name = params['experiment_name']\n",
    "        base_dir = params['base_dir']\n",
    "        manifest_file = params['manifest_file']\n",
    "        replace_files = params['replace_files']"
   ]
  },
  {
   "cell_type": "markdown",
   "id": "a6596b68",
   "metadata": {
    "papermill": {
     "duration": 0.01101,
     "end_time": "2023-02-23T20:56:18.549119",
     "exception": false,
     "start_time": "2023-02-23T20:56:18.538109",
     "status": "completed"
    },
    "tags": []
   },
   "source": [
    "### Defining names and paths"
   ]
  },
  {
   "cell_type": "code",
   "execution_count": 5,
   "id": "af374869",
   "metadata": {
    "ExecuteTime": {
     "end_time": "2022-06-28T18:50:41.618098Z",
     "start_time": "2022-06-28T18:50:41.614152Z"
    },
    "execution": {
     "iopub.execute_input": "2023-02-23T20:56:18.572451Z",
     "iopub.status.busy": "2023-02-23T20:56:18.571942Z",
     "iopub.status.idle": "2023-02-23T20:56:18.575250Z",
     "shell.execute_reply": "2023-02-23T20:56:18.574662Z"
    },
    "papermill": {
     "duration": 0.016376,
     "end_time": "2023-02-23T20:56:18.576757",
     "exception": false,
     "start_time": "2023-02-23T20:56:18.560381",
     "status": "completed"
    },
    "tags": []
   },
   "outputs": [],
   "source": [
    "# new_manifest = '/home/lauro/nupeb/redemicro/data/raw/manifest/karina-manifest.csv'\n",
    "# with open(manifest_file, 'r') as oldm, open(new_manifest, 'w') as newm:\n",
    "#     header = 'sample-id,absolute-filepath,direction\\n'\n",
    "#     newm.write(header)\n",
    "#     for line in oldm.readlines()[1:]:\n",
    "#         sid, forward, reverse = line[:-1].split(',')\n",
    "#         fline = ','.join((sid, forward, 'forward')) + '\\n'\n",
    "#         rline = ','.join((sid, reverse, 'reverse')) + '\\n'\n",
    "#         newm.write(fline)\n",
    "#         newm.write(rline)"
   ]
  },
  {
   "cell_type": "code",
   "execution_count": 6,
   "id": "811d98a7",
   "metadata": {
    "ExecuteTime": {
     "end_time": "2022-06-28T18:50:41.632125Z",
     "start_time": "2022-06-28T18:50:41.619710Z"
    },
    "execution": {
     "iopub.execute_input": "2023-02-23T20:56:18.599466Z",
     "iopub.status.busy": "2023-02-23T20:56:18.599080Z",
     "iopub.status.idle": "2023-02-23T20:56:18.605881Z",
     "shell.execute_reply": "2023-02-23T20:56:18.605228Z"
    },
    "papermill": {
     "duration": 0.019863,
     "end_time": "2023-02-23T20:56:18.607467",
     "exception": false,
     "start_time": "2023-02-23T20:56:18.587604",
     "status": "completed"
    },
    "tags": []
   },
   "outputs": [],
   "source": [
    "# Define the output folder path\n",
    "out_dir = os.path.join(base_dir, 'experiments', experiment_name, 'qiime-artifacts')\n",
    "img_folder = os.path.abspath(os.path.join(base_dir, 'experiments', experiment_name, 'imgs'))\n",
    "\n",
    "# Create path if it not exist\n",
    "if not os.path.isdir(out_dir):\n",
    "    os.makedirs(out_dir)\n",
    "    print(f'New qiime-artifacts folder path created: {out_dir}')\n",
    "\n",
    "# Create path if it not exist\n",
    "if not os.path.isdir(img_folder):\n",
    "    os.makedirs(img_folder)\n",
    "    print(f'New img folder path created: {img_folder}')\n",
    "\n",
    "# Define the output artifact full path\n",
    "demux_file = os.path.join(out_dir, 'demux-paired.qza')\n",
    "demux_view = os.path.join(out_dir, 'demux-paired.qzv')\n",
    "demux_file_trim = os.path.join(out_dir, 'demux-paired-trim.qza')\n",
    "demux_view_trim = os.path.join(out_dir, 'demux-paired-trim.qzv')"
   ]
  },
  {
   "cell_type": "markdown",
   "id": "2334cddd",
   "metadata": {
    "papermill": {
     "duration": 0.010589,
     "end_time": "2023-02-23T20:56:18.629460",
     "exception": false,
     "start_time": "2023-02-23T20:56:18.618871",
     "status": "completed"
    },
    "tags": []
   },
   "source": [
    "## Step execution\n",
    "\n",
    "This Step import all `fastq` files in a **QIIME2 Artifact** object and save it to a new `qza` file of `SampleData[PairedEndSequencesWithQuality]`"
   ]
  },
  {
   "cell_type": "code",
   "execution_count": 7,
   "id": "69b5ac82",
   "metadata": {
    "execution": {
     "iopub.execute_input": "2023-02-23T20:56:18.652007Z",
     "iopub.status.busy": "2023-02-23T20:56:18.651631Z",
     "iopub.status.idle": "2023-02-23T20:56:18.681067Z",
     "shell.execute_reply": "2023-02-23T20:56:18.680601Z"
    },
    "papermill": {
     "duration": 0.043178,
     "end_time": "2023-02-23T20:56:18.683267",
     "exception": false,
     "start_time": "2023-02-23T20:56:18.640089",
     "status": "completed"
    },
    "tags": []
   },
   "outputs": [],
   "source": [
    "manifest_df = pd.read_csv(manifest_file)\n",
    "n_directions = len(manifest_df['direction'].unique())\n",
    "if n_directions == 1:\n",
    "    d_type = 'SampleData[SequencesWithQuality]'\n",
    "    v_type = 'SingleEndFastqManifestPhred33'\n",
    "elif n_directions == 2:\n",
    "    d_type = 'SampleData[PairedEndSequencesWithQuality]'\n",
    "    v_type = 'PairedEndFastqManifestPhred33'\n",
    "else:\n",
    "    print(f'ERROR: invalid number of directions {n_directions}')"
   ]
  },
  {
   "cell_type": "code",
   "execution_count": 8,
   "id": "17783447",
   "metadata": {
    "ExecuteTime": {
     "end_time": "2022-06-28T19:44:58.640338Z",
     "start_time": "2022-06-28T18:50:41.633657Z"
    },
    "execution": {
     "iopub.execute_input": "2023-02-23T20:56:18.712905Z",
     "iopub.status.busy": "2023-02-23T20:56:18.712513Z",
     "iopub.status.idle": "2023-02-23T20:56:22.369361Z",
     "shell.execute_reply": "2023-02-23T20:56:22.368506Z"
    },
    "papermill": {
     "duration": 3.672316,
     "end_time": "2023-02-23T20:56:22.372611",
     "exception": false,
     "start_time": "2023-02-23T20:56:18.700295",
     "status": "completed"
    },
    "tags": []
   },
   "outputs": [],
   "source": [
    "# If the demux file does not exist or if the old file will be replaced\n",
    "if not os.path.isfile(demux_file) or replace_files:\n",
    "    \n",
    "    # Import data and create an artifact object\n",
    "    artifact = Artifact.import_data(\n",
    "        d_type, \n",
    "        manifest_file, \n",
    "        view_type=v_type)\n",
    "    \n",
    "    # Save the artifact object to a new qza file\n",
    "    artifact.save(demux_file)\n",
    "\n",
    "else:\n",
    "    artifact = Artifact.load(demux_file)"
   ]
  },
  {
   "cell_type": "code",
   "execution_count": 9,
   "id": "cc28dcc5",
   "metadata": {
    "ExecuteTime": {
     "end_time": "2022-06-28T19:47:56.602855Z",
     "start_time": "2022-06-28T19:44:58.642520Z"
    },
    "execution": {
     "iopub.execute_input": "2023-02-23T20:56:22.426876Z",
     "iopub.status.busy": "2023-02-23T20:56:22.426694Z",
     "iopub.status.idle": "2023-02-23T20:56:22.489670Z",
     "shell.execute_reply": "2023-02-23T20:56:22.489004Z"
    },
    "papermill": {
     "duration": 0.093534,
     "end_time": "2023-02-23T20:56:22.492763",
     "exception": false,
     "start_time": "2023-02-23T20:56:22.399229",
     "status": "completed"
    },
    "tags": []
   },
   "outputs": [],
   "source": [
    "if not os.path.isfile(demux_view) or replace_files: \n",
    "    # Generate e visualization of the Artifact\n",
    "    demux_summary = demux.visualizers.summarize(artifact)\n",
    "\n",
    "    # Save a new visualization file based on the qza file\n",
    "    Visualization.save(demux_summary.visualization, filepath=demux_view)\n",
    "    \n",
    "    demux_view_obj = demux_summary.visualization\n",
    "else:\n",
    "    demux_view_obj = Visualization.load(demux_view)"
   ]
  },
  {
   "cell_type": "markdown",
   "id": "07b7ed34",
   "metadata": {
    "papermill": {
     "duration": 0.012337,
     "end_time": "2023-02-23T20:56:22.523347",
     "exception": false,
     "start_time": "2023-02-23T20:56:22.511010",
     "status": "completed"
    },
    "tags": []
   },
   "source": [
    "## Step report\n"
   ]
  },
  {
   "cell_type": "code",
   "execution_count": 10,
   "id": "f93fef92",
   "metadata": {
    "ExecuteTime": {
     "end_time": "2022-06-28T19:47:56.609737Z",
     "start_time": "2022-06-28T19:47:56.604820Z"
    },
    "execution": {
     "iopub.execute_input": "2023-02-23T20:56:22.549243Z",
     "iopub.status.busy": "2023-02-23T20:56:22.548971Z",
     "iopub.status.idle": "2023-02-23T20:56:22.554446Z",
     "shell.execute_reply": "2023-02-23T20:56:22.553635Z"
    },
    "papermill": {
     "duration": 0.020052,
     "end_time": "2023-02-23T20:56:22.556076",
     "exception": false,
     "start_time": "2023-02-23T20:56:22.536024",
     "status": "completed"
    },
    "tags": []
   },
   "outputs": [
    {
     "name": "stdout",
     "output_type": "stream",
     "text": [
      "<visualization: Visualization uuid: f8382eb5-41f8-4188-a086-5ae23bb70390>\n"
     ]
    }
   ],
   "source": [
    "print(demux_view_obj)"
   ]
  },
  {
   "cell_type": "code",
   "execution_count": 11,
   "id": "bd58e5a6",
   "metadata": {
    "ExecuteTime": {
     "end_time": "2022-06-28T19:47:56.704841Z",
     "start_time": "2022-06-28T19:47:56.611846Z"
    },
    "execution": {
     "iopub.execute_input": "2023-02-23T20:56:22.581989Z",
     "iopub.status.busy": "2023-02-23T20:56:22.581663Z",
     "iopub.status.idle": "2023-02-23T20:56:22.595194Z",
     "shell.execute_reply": "2023-02-23T20:56:22.594507Z"
    },
    "papermill": {
     "duration": 0.028399,
     "end_time": "2023-02-23T20:56:22.597001",
     "exception": false,
     "start_time": "2023-02-23T20:56:22.568602",
     "status": "completed"
    },
    "tags": []
   },
   "outputs": [
    {
     "data": {
      "text/html": [
       "<div><img onload=\"(function(div, url){\n",
       "if (typeof require !== 'undefined') {\n",
       "    var baseURL = require.toUrl('').split('/').slice(0, -2).join('/');\n",
       "} else {\n",
       "    var baseURL = JSON.parse(\n",
       "        document.getElementById('jupyter-config-data').innerHTML\n",
       "    ).baseUrl.slice(0, -1);\n",
       "}\n",
       "url = baseURL + url;\n",
       "fetch(url).then(function(res) {\n",
       "    if (res.status === 404) {\n",
       "        div.innerHTML = 'Install QIIME 2 Jupyter extension with:<br />' +\n",
       "                        '<code>jupyter serverextension enable --py qiime2' +\n",
       "                        ' --sys-prefix</code><br />then restart your server.' +\n",
       "                        '<br /><br />(Interactive output not available on ' +\n",
       "                        'static notebook viewer services like nbviewer.)';\n",
       "    } else if (res.status === 409) {\n",
       "        div.innerHTML = 'Visualization no longer in scope. Re-run this cell' +\n",
       "                        ' to see the visualization.';\n",
       "    } else if (res.ok) {\n",
       "        url = res.url;\n",
       "        div.innerHTML = '<iframe src=\\'' + url + '\\' style=\\'' +\n",
       "                        'width: 100%; height: 700px; border: 0;\\'>' +\n",
       "                        '</iframe><hr />Open in a: <a href=\\'' + url + '\\'' +\n",
       "                        ' target=\\'_blank\\'>new window</a>'\n",
       "    } else {\n",
       "        div.innerHTML = 'Something has gone wrong. Check notebook server for' +\n",
       "                        ' errors.';\n",
       "    }\n",
       "});\n",
       "})(this.parentElement, '/qiime2/redirect?location=/tmp/qiime2-archive-msvo53lc')\" src=\"data:image/gif;base64,R0lGODlhAQABAIAAAP///wAAACH5BAEAAAAALAAAAAABAAEAAAICRAEAOw==\" /></div>"
      ],
      "text/plain": [
       "<visualization: Visualization uuid: f8382eb5-41f8-4188-a086-5ae23bb70390>"
      ]
     },
     "execution_count": 11,
     "metadata": {},
     "output_type": "execute_result"
    }
   ],
   "source": [
    "# Render Visualization\n",
    "demux_view_obj"
   ]
  },
  {
   "cell_type": "markdown",
   "id": "2f10052a",
   "metadata": {
    "papermill": {
     "duration": 0.013087,
     "end_time": "2023-02-23T20:56:22.624851",
     "exception": false,
     "start_time": "2023-02-23T20:56:22.611764",
     "status": "completed"
    },
    "tags": []
   },
   "source": [
    "[cutadapt](https://docs.qiime2.org/2022.2/plugins/available/cutadapt/trim-paired/)\n",
    "\n",
    "We trim the forward primer and the reverse complement of the reverse primer from the forward reads. We trim the reverse primer and reverse complement of the forward primer from the reverse reads."
   ]
  },
  {
   "cell_type": "code",
   "execution_count": 12,
   "id": "031807c7",
   "metadata": {
    "execution": {
     "iopub.execute_input": "2023-02-23T20:56:22.650873Z",
     "iopub.status.busy": "2023-02-23T20:56:22.650635Z",
     "iopub.status.idle": "2023-02-23T20:56:22.660036Z",
     "shell.execute_reply": "2023-02-23T20:56:22.659276Z"
    },
    "papermill": {
     "duration": 0.02453,
     "end_time": "2023-02-23T20:56:22.661947",
     "exception": false,
     "start_time": "2023-02-23T20:56:22.637417",
     "status": "completed"
    },
    "tags": []
   },
   "outputs": [],
   "source": [
    "demux_file_trim = os.path.join(out_dir, 'demux-paired-trim.qza')\n",
    "demux_view_trim = os.path.join(out_dir, 'demux-paired-trim.qzv')\n",
    "\n",
    "if trim and (not os.path.isfile(demux_file_trim) or replace_files):\n",
    "    forward_primer = [trim['forward_primer']] # ['CCTACGGGRSGCAGCAG']\n",
    "    reverse_primer = [trim['reverse_primer']] # ['GGACTACHVGGGTWTCTAAT']\n",
    "    forward_reverse_complement = [str(Seq(forward_primer[0]).reverse_complement())]\n",
    "    reverse_reverse_complement = [str(Seq(reverse_primer[0]).reverse_complement())]\n",
    "\n",
    "    res = trim_paired(\n",
    "        demultiplexed_sequences=artifact,\n",
    "        front_f=forward_primer,\n",
    "        front_r=reverse_primer,\n",
    "#         adapter_f=reverse_reverse_complement,\n",
    "#         adapter_r=forward_reverse_complement,\n",
    "        cores=threads,\n",
    "        overlap=trim['overlap'],\n",
    "        indels=False,\n",
    "        match_read_wildcards=True,\n",
    "        match_adapter_wildcards=True,\n",
    "        error_rate=0.01,\n",
    "        discard_untrimmed=True,\n",
    "    ).trimmed_sequences\n",
    "\n",
    "    demux.visualizers.summarize(res).visualization\n",
    "    res.save(demux_file_trim)\n",
    "    Visualization.save(demux.visualizers.summarize(res).visualization, filepath=demux_view_trim)"
   ]
  }
 ],
 "metadata": {
  "celltoolbar": "Edit Metadata",
  "kernelspec": {
   "display_name": "Python 3 (ipykernel)",
   "language": "python",
   "name": "python3"
  },
  "language_info": {
   "codemirror_mode": {
    "name": "ipython",
    "version": 3
   },
   "file_extension": ".py",
   "mimetype": "text/x-python",
   "name": "python",
   "nbconvert_exporter": "python",
   "pygments_lexer": "ipython3",
   "version": "3.8.12"
  },
  "papermill": {
   "default_parameters": {},
   "duration": 14.000158,
   "end_time": "2023-02-23T20:56:23.598443",
   "environment_variables": {},
   "exception": null,
   "input_path": "nb-templates/step-prepare-data.ipynb",
   "output_path": "/home/lauro/nupeb/rede-micro/redemicro-miliane-nutri/experiments/miliane-CxAC-trim/nb-executed-steps/step-prepare-data-miliane-CxAC-trim.ipynb",
   "parameters": {
    "base_dir": "/home/lauro/nupeb/rede-micro/redemicro-miliane-nutri",
    "class_col": "group-id",
    "classifier_file": "/home/lauro/nupeb/dados_brutos_rede_genoma/16S_classifiers_qiime2/silva-138-99-nb-classifier.qza",
    "experiment_name": "miliane-CxAC-trim",
    "manifest_file": "/home/lauro/nupeb/rede-micro/redemicro-miliane-nutri/data/raw/manifest/miliane-manifest-CxAC.csv",
    "metadata_file": "/home/lauro/nupeb/rede-micro/redemicro-miliane-nutri/data/raw/metadata/miliane-metadata-CxAC.tsv",
    "overlap": 12,
    "phred": 20,
    "replace_files": false,
    "threads": 6,
    "trim": {
     "forward_primer": "CCTACGGGRSGCAGCAG",
     "overlap": 8,
     "reverse_primer": "GGACTACHVGGGTWTCTAAT"
    },
    "trunc_f": 0,
    "trunc_r": 0
   },
   "start_time": "2023-02-23T20:56:09.598285",
   "version": "2.3.4"
  },
  "toc-autonumbering": false,
  "toc-showcode": false,
  "toc-showmarkdowntxt": false
 },
 "nbformat": 4,
 "nbformat_minor": 5
}