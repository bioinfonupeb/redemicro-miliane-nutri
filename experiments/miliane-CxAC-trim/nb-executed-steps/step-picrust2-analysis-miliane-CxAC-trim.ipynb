{
 "cells": [
  {
   "cell_type": "markdown",
   "id": "0e7f2330",
   "metadata": {
    "ExecuteTime": {
     "end_time": "2022-09-22T19:36:33.828188Z",
     "start_time": "2022-09-22T19:36:33.817323Z"
    },
    "papermill": {
     "duration": 0.02745,
     "end_time": "2022-11-04T14:10:25.297291",
     "exception": false,
     "start_time": "2022-11-04T14:10:25.269841",
     "status": "completed"
    },
    "tags": []
   },
   "source": [
    "### STEP : PICRUST2 Analysis\n",
    "\n",
    "\n",
    "\n",
    "#### Example\n",
    "\n",
    "- [PICRUST2 tutorial](https://github.com/picrust/picrust2/wiki/q2-picrust2-Tutorial)\n",
    "- [Limitations](https://github.com/picrust/picrust2/wiki/Key-Limitations)\n",
    "\n",
    "\n",
    "#### Methods\n",
    "- [composition](https://docs.qiime2.org/2022.8/plugins/available/composition/)"
   ]
  },
  {
   "cell_type": "markdown",
   "id": "843debbf",
   "metadata": {
    "papermill": {
     "duration": 0.019485,
     "end_time": "2022-11-04T14:10:25.337134",
     "exception": false,
     "start_time": "2022-11-04T14:10:25.317649",
     "status": "completed"
    },
    "tags": []
   },
   "source": [
    "## Setup and settings"
   ]
  },
  {
   "cell_type": "code",
   "execution_count": 1,
   "id": "965e28e5",
   "metadata": {
    "ExecuteTime": {
     "end_time": "2022-11-09T17:20:12.514109Z",
     "start_time": "2022-11-09T17:20:04.997832Z"
    },
    "execution": {
     "iopub.execute_input": "2022-11-04T14:10:25.396667Z",
     "iopub.status.busy": "2022-11-04T14:10:25.395648Z",
     "iopub.status.idle": "2022-11-04T14:10:27.763607Z",
     "shell.execute_reply": "2022-11-04T14:10:27.762426Z"
    },
    "papermill": {
     "duration": 2.407298,
     "end_time": "2022-11-04T14:10:27.763869",
     "exception": false,
     "start_time": "2022-11-04T14:10:25.356571",
     "status": "completed"
    },
    "tags": []
   },
   "outputs": [],
   "source": [
    "# Importing packages\n",
    "import os\n",
    "import biom\n",
    "import pandas as pd\n",
    "from qiime2 import Artifact\n",
    "from qiime2 import Visualization\n",
    "from qiime2 import Metadata\n",
    "\n",
    "from qiime2.plugins.feature_table.visualizers import summarize\n",
    "\n",
    "from picrust2.pipeline import full_pipeline\n",
    "from picrust2.default import (default_ref_dir, default_tables, default_regroup_map, default_pathway_map)\n",
    "from qiime2.plugins import picrust2\n",
    "\n",
    "%matplotlib inline"
   ]
  },
  {
   "cell_type": "markdown",
   "id": "530ceb60",
   "metadata": {
    "papermill": {
     "duration": 0.017815,
     "end_time": "2022-11-04T14:10:27.806359",
     "exception": false,
     "start_time": "2022-11-04T14:10:27.788544",
     "status": "completed"
    },
    "tags": []
   },
   "source": [
    "### Receiving the parameters\n",
    "\n",
    "The following cell can receive parameters using the [papermill](https://papermill.readthedocs.io/en/latest/) tool."
   ]
  },
  {
   "cell_type": "code",
   "execution_count": 3,
   "id": "18d874ea",
   "metadata": {
    "ExecuteTime": {
     "end_time": "2022-11-09T17:20:12.522845Z",
     "start_time": "2022-11-09T17:20:12.520622Z"
    },
    "execution": {
     "iopub.execute_input": "2022-11-04T14:10:27.846149Z",
     "iopub.status.busy": "2022-11-04T14:10:27.845638Z",
     "iopub.status.idle": "2022-11-04T14:10:27.848684Z",
     "shell.execute_reply": "2022-11-04T14:10:27.848246Z"
    },
    "papermill": {
     "duration": 0.024718,
     "end_time": "2022-11-04T14:10:27.848784",
     "exception": false,
     "start_time": "2022-11-04T14:10:27.824066",
     "status": "completed"
    },
    "tags": [
     "parameters"
    ]
   },
   "outputs": [],
   "source": [
    "metadata_file = '/home/lauro/nupeb/rede-micro/redemicro-miliane-nutri/data/raw/metadata/miliane-metadata-CxAC.tsv'\n",
    "base_dir = os.path.join('/', 'home', 'lauro', 'nupeb', 'rede-micro', 'redemicro-miliane-nutri')\n",
    "experiment_name = 'miliane-CxAC-trim'\n",
    "class_col = 'group-id'\n",
    "replace_files = False"
   ]
  },
  {
   "cell_type": "code",
   "execution_count": 4,
   "id": "6b9f4eee",
   "metadata": {
    "ExecuteTime": {
     "end_time": "2022-11-09T17:20:12.545308Z",
     "start_time": "2022-11-09T17:20:12.524030Z"
    },
    "execution": {
     "iopub.execute_input": "2022-11-04T14:10:27.912646Z",
     "iopub.status.busy": "2022-11-04T14:10:27.911514Z",
     "iopub.status.idle": "2022-11-04T14:10:27.915031Z",
     "shell.execute_reply": "2022-11-04T14:10:27.914120Z"
    },
    "papermill": {
     "duration": 0.047705,
     "end_time": "2022-11-04T14:10:27.915251",
     "exception": false,
     "start_time": "2022-11-04T14:10:27.867546",
     "status": "completed"
    },
    "tags": [
     "injected-parameters"
    ]
   },
   "outputs": [],
   "source": [
    "# Parameters\n",
    "experiment_name = \"miliane-CxAC-trim\"\n",
    "base_dir = \"/home/lauro/nupeb/rede-micro/redemicro-miliane-nutri\"\n",
    "manifest_file = \"/home/lauro/nupeb/rede-micro/redemicro-miliane-nutri/data/raw/manifest/miliane-manifest-CxAC.csv\"\n",
    "metadata_file = \"/home/lauro/nupeb/rede-micro/redemicro-miliane-nutri/data/raw/metadata/miliane-metadata-CxAC.tsv\"\n",
    "class_col = \"group-id\"\n",
    "classifier_file = \"/home/lauro/nupeb/dados_brutos_rede_genoma/16S_classifiers_qiime2/silva-138-99-nb-classifier.qza\"\n",
    "replace_files = False\n",
    "phred = 20\n",
    "trunc_f = 0\n",
    "trunc_r = 0\n",
    "overlap = 12\n",
    "threads = 6\n",
    "trim = {\n",
    "    \"overlap\": 8,\n",
    "    \"forward_primer\": \"CCTACGGGRSGCAGCAG\",\n",
    "    \"reverse_primer\": \"GGACTACHVGGGTWTCTAAT\",\n",
    "}\n"
   ]
  },
  {
   "cell_type": "code",
   "execution_count": 5,
   "id": "f38617d9",
   "metadata": {
    "ExecuteTime": {
     "end_time": "2022-11-09T17:20:12.585967Z",
     "start_time": "2022-11-09T17:20:12.547042Z"
    },
    "execution": {
     "iopub.execute_input": "2022-11-04T14:10:27.959088Z",
     "iopub.status.busy": "2022-11-04T14:10:27.958584Z",
     "iopub.status.idle": "2022-11-04T14:10:27.962033Z",
     "shell.execute_reply": "2022-11-04T14:10:27.961632Z"
    },
    "papermill": {
     "duration": 0.026282,
     "end_time": "2022-11-04T14:10:27.962133",
     "exception": false,
     "start_time": "2022-11-04T14:10:27.935851",
     "status": "completed"
    },
    "tags": []
   },
   "outputs": [],
   "source": [
    "experiment_folder = os.path.abspath(os.path.join(base_dir, 'experiments', experiment_name))\n",
    "img_folder = os.path.abspath(os.path.join(experiment_folder, 'imgs'))"
   ]
  },
  {
   "cell_type": "markdown",
   "id": "ea9b90fb",
   "metadata": {
    "papermill": {
     "duration": 0.03342,
     "end_time": "2022-11-04T14:10:28.014801",
     "exception": false,
     "start_time": "2022-11-04T14:10:27.981381",
     "status": "completed"
    },
    "tags": []
   },
   "source": [
    "### Defining names, paths and flags"
   ]
  },
  {
   "cell_type": "code",
   "execution_count": 6,
   "id": "45727eef",
   "metadata": {
    "ExecuteTime": {
     "end_time": "2022-11-09T17:20:12.605254Z",
     "start_time": "2022-11-09T17:20:12.587793Z"
    },
    "execution": {
     "iopub.execute_input": "2022-11-04T14:10:28.063357Z",
     "iopub.status.busy": "2022-11-04T14:10:28.062841Z",
     "iopub.status.idle": "2022-11-04T14:10:28.065044Z",
     "shell.execute_reply": "2022-11-04T14:10:28.065462Z"
    },
    "papermill": {
     "duration": 0.023348,
     "end_time": "2022-11-04T14:10:28.065588",
     "exception": false,
     "start_time": "2022-11-04T14:10:28.042240",
     "status": "completed"
    },
    "tags": []
   },
   "outputs": [],
   "source": [
    "# QIIME2 Artifacts folder\n",
    "qiime_folder = os.path.join(experiment_folder, 'qiime-artifacts')\n",
    "\n",
    "# Input - DADA2 Artifacts\n",
    "dada2_tabs_path = os.path.join(qiime_folder, 'dada2-tabs.qza')\n",
    "dada2_reqs_path = os.path.join(qiime_folder, 'dada2-reps.qza')\n",
    "\n",
    "# PICRUST@ folder\n",
    "picrust2_folder = os.path.abspath(os.path.join(experiment_folder, 'picrust2'))\n",
    "\n",
    "# Create path if it not exist\n",
    "if not os.path.isdir(picrust2_folder):\n",
    "    os.makedirs(picrust2_folder)\n",
    "    print(f'New picrust2-artifacts folder path created: {picrust2_folder}')"
   ]
  },
  {
   "cell_type": "markdown",
   "id": "0999a1b2",
   "metadata": {
    "papermill": {
     "duration": 0.017643,
     "end_time": "2022-11-04T14:10:28.101672",
     "exception": false,
     "start_time": "2022-11-04T14:10:28.084029",
     "status": "completed"
    },
    "tags": []
   },
   "source": [
    "## Step execution\n",
    "\n",
    "### Load input files\n",
    "\n",
    "This Step import the QIIME2 `FeatureTable[Frequency]` Artifact and the `Metadata` file."
   ]
  },
  {
   "cell_type": "code",
   "execution_count": 7,
   "id": "8f299d1a",
   "metadata": {
    "ExecuteTime": {
     "end_time": "2022-11-09T17:20:12.642175Z",
     "start_time": "2022-11-09T17:20:12.606963Z"
    },
    "execution": {
     "iopub.execute_input": "2022-11-04T14:10:28.140434Z",
     "iopub.status.busy": "2022-11-04T14:10:28.139636Z",
     "iopub.status.idle": "2022-11-04T14:10:42.073527Z",
     "shell.execute_reply": "2022-11-04T14:10:42.074414Z"
    },
    "papermill": {
     "duration": 13.955282,
     "end_time": "2022-11-04T14:10:42.074707",
     "exception": false,
     "start_time": "2022-11-04T14:10:28.119425",
     "status": "completed"
    },
    "tags": []
   },
   "outputs": [],
   "source": [
    "#Load Metadata\n",
    "metadata_qa = Metadata.load(metadata_file)\n",
    "\n",
    "#Load FeatureTable[Frequency]\n",
    "tabs = Artifact.load(dada2_tabs_path)\n",
    "\n",
    "#Load FeatureTable[Sequence]\n",
    "seqs = Artifact.load(dada2_reqs_path)"
   ]
  },
  {
   "cell_type": "markdown",
   "id": "4f1b06d4",
   "metadata": {},
   "source": [
    "### Execute full pipelie\n",
    "\n",
    "The entire PICRUSt2 pipeline will be run using a single method, called `picrust2.methods.full_pipeline`. This method will run each of the 4 key steps: \n",
    "\n",
    "1. sequence placement\n",
    "2. hidden-state prediction of genomes\n",
    "3. metagenome prediction\n",
    "4. pathway-level predictions.\n",
    "\n",
    "More information on [Documentation](https://github.com/picrust/picrust2/wiki/Full-pipeline-script)."
   ]
  },
  {
   "cell_type": "code",
   "execution_count": 8,
   "id": "2c4f3874",
   "metadata": {
    "ExecuteTime": {
     "end_time": "2022-11-09T17:27:06.741739Z",
     "start_time": "2022-11-09T17:20:12.644159Z"
    },
    "scrolled": false
   },
   "outputs": [
    {
     "name": "stderr",
     "output_type": "stream",
     "text": [
      "918 of 918 sequence ids overlap between input table and FASTA.\n",
      "\n",
      "Placing sequences onto reference tree\n",
      "place_seqs.py --study_fasta /tmp/tmp4pj1gzlt/seqs.fna --ref_dir /home/lauro/anaconda3/envs/qiime2-2021.11/lib/python3.8/site-packages/picrust2/default_files/prokaryotic/pro_ref --out_tree /tmp/tmp4pj1gzlt/picrust2_out/out.tre --processes 6 --intermediate /tmp/tmp4pj1gzlt/picrust2_out/intermediate/place_seqs --min_align 0.8 --chunk_size 5000 --placement_tool sepp --verbose\n"
     ]
    },
    {
     "name": "stdout",
     "output_type": "stream",
     "text": [
      "\n",
      "['run_sepp.py', '--tree', '/home/lauro/anaconda3/envs/qiime2-2021.11/lib/python3.8/site-packages/picrust2/default_files/prokaryotic/pro_ref/pro_ref.tre', '--raxml', '/home/lauro/anaconda3/envs/qiime2-2021.11/lib/python3.8/site-packages/picrust2/default_files/prokaryotic/pro_ref/pro_ref.raxml_info', '--cpu', '6', '--molecule', 'dna', '--outdir', '/tmp/tmp4pj1gzlt/picrust2_out/intermediate/place_seqs/sepp_out', '-seed', '297834', '--alignment', '/home/lauro/anaconda3/envs/qiime2-2021.11/lib/python3.8/site-packages/picrust2/default_files/prokaryotic/pro_ref/pro_ref.fna', '--fragment', '/tmp/tmp4pj1gzlt/picrust2_out/intermediate/place_seqs/study_seqs_filtered.fasta']\n",
      "\n",
      "                                              ....      ....  \n",
      "                                             '' '||.   .||'   \n",
      "                                                  ||  ||      \n",
      "                                                  '|.|'       \n",
      "     ...'   ....   ... ...  ... ...   ....        .|'|.       \n",
      "    |  ||  '' .||   ||'  ||  ||'  || '' .||      .|'  ||      \n",
      "     |''   .|' ||   ||    |  ||    | .|' ||     .|'|.  ||     \n",
      "    '....  '|..'|'. ||...'   ||...'  '|..'|.    '||'    ||:.  \n",
      "    '....'          ||       ||                               \n",
      "                   ''''     ''''   v0.6.1 (c) 2017-2020\n",
      "                                   by Lucas Czech and Pierre Barbera\n",
      "\n",
      "Invocation:                        gappa examine graft --jplace-path /tmp/tmp4pj1gzlt/picrust2_out/intermediate/place_seqs/sepp_out/output_placement.json --fully-resolve --out-dir /tmp/tmp4pj1gzlt/picrust2_out/intermediate/place_seqs/sepp_out\n",
      "Command:                           gappa examine graft\n",
      "\n",
      "Input:\n",
      "  --jplace-path                    /tmp/tmp4pj1gzlt/picrust2_out/intermediate/place_seqs/sepp_out/output_placement.json\n",
      "\n",
      "Settings:\n",
      "  --fully-resolve                  true\n",
      "  --name-prefix\n",
      "\n",
      "Output:\n",
      "  --out-dir                        /tmp/tmp4pj1gzlt/picrust2_out/intermediate/place_seqs/sepp_out\n",
      "  --file-prefix                    \n",
      "  --file-suffix\n",
      "\n",
      "Global Options:\n",
      "  --allow-file-overwriting         false\n",
      "  --verbose                        false\n",
      "  --threads                        4\n",
      "  --log-file\n",
      "\n",
      "Run the following command to get the references that need to be cited:\n",
      "`gappa tools citation Czech2020-genesis-and-gappa`\n",
      "\n",
      "Started 2022-11-09 17:23:05\n",
      "\n",
      "Found 1 jplace file\n",
      "\n",
      "Finished 2022-11-09 17:23:06\n",
      "\n",
      "\n"
     ]
    },
    {
     "name": "stderr",
     "output_type": "stream",
     "text": [
      "hmmalign --trim --dna --mapali /home/lauro/anaconda3/envs/qiime2-2021.11/lib/python3.8/site-packages/picrust2/default_files/prokaryotic/pro_ref/pro_ref.fna --informat FASTA -o /tmp/tmp4pj1gzlt/picrust2_out/intermediate/place_seqs/query_align.stockholm /home/lauro/anaconda3/envs/qiime2-2021.11/lib/python3.8/site-packages/picrust2/default_files/prokaryotic/pro_ref/pro_ref.hmm /tmp/tmp4pj1gzlt/seqs.fna\n",
      "\n",
      "Warning - 2 input sequences aligned poorly to reference sequences (--min_align option specified a minimum proportion of 0.8 aligning to reference sequences). These input sequences will not be placed and will be excluded from downstream steps.\n",
      "\n",
      "This is the set of poorly aligned input sequences to be excluded: 6503004be0b011b96563e401dc4e5daa, 3e242896853a3bc57b1f8589ed17d0e7\n",
      "\n",
      "Raw input sequences ranged in length from 271 to 430\n",
      "\n",
      "run_sepp.py --tree /home/lauro/anaconda3/envs/qiime2-2021.11/lib/python3.8/site-packages/picrust2/default_files/prokaryotic/pro_ref/pro_ref.tre --raxml /home/lauro/anaconda3/envs/qiime2-2021.11/lib/python3.8/site-packages/picrust2/default_files/prokaryotic/pro_ref/pro_ref.raxml_info --cpu 6 --molecule dna --outdir /tmp/tmp4pj1gzlt/picrust2_out/intermediate/place_seqs/sepp_out -seed 297834 --alignment /home/lauro/anaconda3/envs/qiime2-2021.11/lib/python3.8/site-packages/picrust2/default_files/prokaryotic/pro_ref/pro_ref.fna --fragment /tmp/tmp4pj1gzlt/picrust2_out/intermediate/place_seqs/study_seqs_filtered.fasta\n",
      "[17:20:51] config.py (line 349):     INFO: Seed number: 297834\n",
      "[17:20:51] algorithm.py (line 258):     INFO: Reading input alignment: <_io.TextIOWrapper name='/home/lauro/anaconda3/envs/qiime2-2021.11/lib/python3.8/site-packages/picrust2/default_files/prokaryotic/pro_ref/pro_ref.fna' mode='r' encoding='UTF-8'>\n",
      "[17:20:51] algorithm.py (line 265):     INFO: Reading input tree: <_io.TextIOWrapper name='/home/lauro/anaconda3/envs/qiime2-2021.11/lib/python3.8/site-packages/picrust2/default_files/prokaryotic/pro_ref/pro_ref.tre' mode='r' encoding='UTF-8'>\n",
      "[17:20:53] algorithm.py (line 238):     INFO: Decomposition Sizes are set to alignment: 2000 placement: 2000\n",
      "[17:20:55] exhaustive.py (line 350):     INFO: Breaking into 16 placement subsets.\n",
      "[17:20:57] exhaustive.py (line 397):     INFO: Breaking into 16 alignment subsets.\n",
      "[17:20:57] filemgr.py (line 129):     INFO: Root temp directory built: /tmp/sepp/output.dl_x5gt0\n",
      "[17:20:57] exhaustive.py (line 412):     INFO: Breaking each alignment subset into 3 fragment chunks.\n",
      "[17:20:58] jobs.py (line 131):     INFO: Finished hmmbuild Job with input: /tmp/sepp/output.dl_x5gt0/root/P_1/A_1_0/hmmbuild.input.sadmo3u_.fasta\n",
      "[17:20:58] jobs.py (line 131):     INFO: Finished hmmbuild Job with input: /tmp/sepp/output.dl_x5gt0/root/P_2/A_2_0/hmmbuild.input.vz5rdznu.fasta\n",
      "[17:20:58] jobs.py (line 131):     INFO: Finished hmmbuild Job with input: /tmp/sepp/output.dl_x5gt0/root/P_4/A_4_0/hmmbuild.input.o1o4mdkl.fasta\n",
      "[17:20:58] jobs.py (line 131):     INFO: Finished hmmbuild Job with input: /tmp/sepp/output.dl_x5gt0/root/P_0/A_0_0/hmmbuild.input.ckn7g4e4.fasta\n",
      "[17:20:59] jobs.py (line 131):     INFO: Finished hmmbuild Job with input: /tmp/sepp/output.dl_x5gt0/root/P_5/A_5_0/hmmbuild.input.9nqiq370.fasta\n",
      "[17:20:59] jobs.py (line 131):     INFO: Finished hmmbuild Job with input: /tmp/sepp/output.dl_x5gt0/root/P_3/A_3_0/hmmbuild.input.sehxmfam.fasta\n",
      "[17:20:59] jobs.py (line 131):     INFO: Finished hmmbuild Job with input: /tmp/sepp/output.dl_x5gt0/root/P_6/A_6_0/hmmbuild.input.4pra5m9u.fasta\n",
      "[17:20:59] jobs.py (line 131):     INFO: Finished hmmbuild Job with input: /tmp/sepp/output.dl_x5gt0/root/P_8/A_8_0/hmmbuild.input.j101jzj_.fasta\n",
      "[17:20:59] jobs.py (line 131):     INFO: Finished hmmbuild Job with input: /tmp/sepp/output.dl_x5gt0/root/P_7/A_7_0/hmmbuild.input.7oit86ao.fasta\n",
      "[17:20:59] jobs.py (line 131):     INFO: Finished hmmbuild Job with input: /tmp/sepp/output.dl_x5gt0/root/P_10/A_10_0/hmmbuild.input.q6cczi0o.fasta\n",
      "[17:20:59] jobs.py (line 131):     INFO: Finished hmmbuild Job with input: /tmp/sepp/output.dl_x5gt0/root/P_9/A_9_0/hmmbuild.input.7f03fjuh.fasta\n",
      "[17:20:59] jobs.py (line 131):     INFO: Finished hmmbuild Job with input: /tmp/sepp/output.dl_x5gt0/root/P_11/A_11_0/hmmbuild.input.qe__yfjs.fasta\n",
      "[17:21:00] jobs.py (line 131):     INFO: Finished hmmbuild Job with input: /tmp/sepp/output.dl_x5gt0/root/P_12/A_12_0/hmmbuild.input.o3w9kw6g.fasta\n",
      "[17:21:00] jobs.py (line 131):     INFO: Finished hmmbuild Job with input: /tmp/sepp/output.dl_x5gt0/root/P_14/A_14_0/hmmbuild.input.zl8ous6s.fasta\n",
      "[17:21:00] jobs.py (line 131):     INFO: Finished hmmbuild Job with input: /tmp/sepp/output.dl_x5gt0/root/P_13/A_13_0/hmmbuild.input.xhd39b02.fasta\n",
      "[17:21:00] jobs.py (line 131):     INFO: Finished hmmbuild Job with input: /tmp/sepp/output.dl_x5gt0/root/P_15/A_15_0/hmmbuild.input.xge7ny2c.fasta\n",
      "[17:21:04] jobs.py (line 131):     INFO: Finished hmmsearch Job with input: model:/tmp/sepp/output.dl_x5gt0/root/P_1/A_1_0/hmmbuild.model.okglkyas, fragments:/tmp/sepp/output.dl_x5gt0/fragment_chunks/fragment_chunk_0164u99p9.fasta, elim:99999999, filter:False, output:/tmp/sepp/output.dl_x5gt0/root/P_1/A_1_0/FC_1_0_0/hmmsearch.results.rqxr_bhj\n",
      "[17:21:04] jobs.py (line 131):     INFO: Finished hmmsearch Job with input: model:/tmp/sepp/output.dl_x5gt0/root/P_1/A_1_0/hmmbuild.model.okglkyas, fragments:/tmp/sepp/output.dl_x5gt0/fragment_chunks/fragment_chunk_1eeojkqf4.fasta, elim:99999999, filter:False, output:/tmp/sepp/output.dl_x5gt0/root/P_1/A_1_0/FC_1_0_1/hmmsearch.results.5aud1qn1\n",
      "[17:21:06] jobs.py (line 131):     INFO: Finished hmmsearch Job with input: model:/tmp/sepp/output.dl_x5gt0/root/P_2/A_2_0/hmmbuild.model.cqt0dyyn, fragments:/tmp/sepp/output.dl_x5gt0/fragment_chunks/fragment_chunk_0164u99p9.fasta, elim:99999999, filter:False, output:/tmp/sepp/output.dl_x5gt0/root/P_2/A_2_0/FC_2_0_0/hmmsearch.results.23mwuk3s\n",
      "[17:21:06] jobs.py (line 131):     INFO: Finished hmmsearch Job with input: model:/tmp/sepp/output.dl_x5gt0/root/P_2/A_2_0/hmmbuild.model.cqt0dyyn, fragments:/tmp/sepp/output.dl_x5gt0/fragment_chunks/fragment_chunk_1eeojkqf4.fasta, elim:99999999, filter:False, output:/tmp/sepp/output.dl_x5gt0/root/P_2/A_2_0/FC_2_0_1/hmmsearch.results._yzvypxo\n",
      "[17:21:06] jobs.py (line 131):     INFO: Finished hmmsearch Job with input: model:/tmp/sepp/output.dl_x5gt0/root/P_1/A_1_0/hmmbuild.model.okglkyas, fragments:/tmp/sepp/output.dl_x5gt0/fragment_chunks/fragment_chunk_2fr2q0hei.fasta, elim:99999999, filter:False, output:/tmp/sepp/output.dl_x5gt0/root/P_1/A_1_0/FC_1_0_2/hmmsearch.results.cxsft69_\n",
      "[17:21:07] jobs.py (line 131):     INFO: Finished hmmsearch Job with input: model:/tmp/sepp/output.dl_x5gt0/root/P_2/A_2_0/hmmbuild.model.cqt0dyyn, fragments:/tmp/sepp/output.dl_x5gt0/fragment_chunks/fragment_chunk_2fr2q0hei.fasta, elim:99999999, filter:False, output:/tmp/sepp/output.dl_x5gt0/root/P_2/A_2_0/FC_2_0_2/hmmsearch.results.mvdt7w1v\n",
      "[17:21:09] jobs.py (line 131):     INFO: Finished hmmsearch Job with input: model:/tmp/sepp/output.dl_x5gt0/root/P_4/A_4_0/hmmbuild.model.dlxvp2t3, fragments:/tmp/sepp/output.dl_x5gt0/fragment_chunks/fragment_chunk_1eeojkqf4.fasta, elim:99999999, filter:False, output:/tmp/sepp/output.dl_x5gt0/root/P_4/A_4_0/FC_4_0_1/hmmsearch.results.pdo8g0rn\n",
      "[17:21:09] jobs.py (line 131):     INFO: Finished hmmsearch Job with input: model:/tmp/sepp/output.dl_x5gt0/root/P_4/A_4_0/hmmbuild.model.dlxvp2t3, fragments:/tmp/sepp/output.dl_x5gt0/fragment_chunks/fragment_chunk_0164u99p9.fasta, elim:99999999, filter:False, output:/tmp/sepp/output.dl_x5gt0/root/P_4/A_4_0/FC_4_0_0/hmmsearch.results.9kl_9p2k\n",
      "[17:21:12] jobs.py (line 131):     INFO: Finished hmmsearch Job with input: model:/tmp/sepp/output.dl_x5gt0/root/P_4/A_4_0/hmmbuild.model.dlxvp2t3, fragments:/tmp/sepp/output.dl_x5gt0/fragment_chunks/fragment_chunk_2fr2q0hei.fasta, elim:99999999, filter:False, output:/tmp/sepp/output.dl_x5gt0/root/P_4/A_4_0/FC_4_0_2/hmmsearch.results.7682ar52\n",
      "[17:21:12] jobs.py (line 131):     INFO: Finished hmmsearch Job with input: model:/tmp/sepp/output.dl_x5gt0/root/P_0/A_0_0/hmmbuild.model.hb14ddbb, fragments:/tmp/sepp/output.dl_x5gt0/fragment_chunks/fragment_chunk_0164u99p9.fasta, elim:99999999, filter:False, output:/tmp/sepp/output.dl_x5gt0/root/P_0/A_0_0/FC_0_0_0/hmmsearch.results.rj16wbuo\n",
      "[17:21:13] jobs.py (line 131):     INFO: Finished hmmsearch Job with input: model:/tmp/sepp/output.dl_x5gt0/root/P_0/A_0_0/hmmbuild.model.hb14ddbb, fragments:/tmp/sepp/output.dl_x5gt0/fragment_chunks/fragment_chunk_1eeojkqf4.fasta, elim:99999999, filter:False, output:/tmp/sepp/output.dl_x5gt0/root/P_0/A_0_0/FC_0_0_1/hmmsearch.results.2t45fbcz\n",
      "[17:21:13] jobs.py (line 131):     INFO: Finished hmmsearch Job with input: model:/tmp/sepp/output.dl_x5gt0/root/P_0/A_0_0/hmmbuild.model.hb14ddbb, fragments:/tmp/sepp/output.dl_x5gt0/fragment_chunks/fragment_chunk_2fr2q0hei.fasta, elim:99999999, filter:False, output:/tmp/sepp/output.dl_x5gt0/root/P_0/A_0_0/FC_0_0_2/hmmsearch.results.mziq5f0l\n",
      "[17:21:14] jobs.py (line 131):     INFO: Finished hmmsearch Job with input: model:/tmp/sepp/output.dl_x5gt0/root/P_5/A_5_0/hmmbuild.model._lu3xql0, fragments:/tmp/sepp/output.dl_x5gt0/fragment_chunks/fragment_chunk_0164u99p9.fasta, elim:99999999, filter:False, output:/tmp/sepp/output.dl_x5gt0/root/P_5/A_5_0/FC_5_0_0/hmmsearch.results.igxnigjy\n",
      "[17:21:14] jobs.py (line 131):     INFO: Finished hmmsearch Job with input: model:/tmp/sepp/output.dl_x5gt0/root/P_5/A_5_0/hmmbuild.model._lu3xql0, fragments:/tmp/sepp/output.dl_x5gt0/fragment_chunks/fragment_chunk_1eeojkqf4.fasta, elim:99999999, filter:False, output:/tmp/sepp/output.dl_x5gt0/root/P_5/A_5_0/FC_5_0_1/hmmsearch.results.v92l7zg6\n",
      "[17:21:17] jobs.py (line 131):     INFO: Finished hmmsearch Job with input: model:/tmp/sepp/output.dl_x5gt0/root/P_3/A_3_0/hmmbuild.model.1p25f1pb, fragments:/tmp/sepp/output.dl_x5gt0/fragment_chunks/fragment_chunk_1eeojkqf4.fasta, elim:99999999, filter:False, output:/tmp/sepp/output.dl_x5gt0/root/P_3/A_3_0/FC_3_0_1/hmmsearch.results.0jpzj9mo\n",
      "[17:21:17] jobs.py (line 131):     INFO: Finished hmmsearch Job with input: model:/tmp/sepp/output.dl_x5gt0/root/P_3/A_3_0/hmmbuild.model.1p25f1pb, fragments:/tmp/sepp/output.dl_x5gt0/fragment_chunks/fragment_chunk_0164u99p9.fasta, elim:99999999, filter:False, output:/tmp/sepp/output.dl_x5gt0/root/P_3/A_3_0/FC_3_0_0/hmmsearch.results.7_ftc2fb\n",
      "[17:21:19] jobs.py (line 131):     INFO: Finished hmmsearch Job with input: model:/tmp/sepp/output.dl_x5gt0/root/P_5/A_5_0/hmmbuild.model._lu3xql0, fragments:/tmp/sepp/output.dl_x5gt0/fragment_chunks/fragment_chunk_2fr2q0hei.fasta, elim:99999999, filter:False, output:/tmp/sepp/output.dl_x5gt0/root/P_5/A_5_0/FC_5_0_2/hmmsearch.results.tglkptb3\n",
      "[17:21:20] jobs.py (line 131):     INFO: Finished hmmsearch Job with input: model:/tmp/sepp/output.dl_x5gt0/root/P_3/A_3_0/hmmbuild.model.1p25f1pb, fragments:/tmp/sepp/output.dl_x5gt0/fragment_chunks/fragment_chunk_2fr2q0hei.fasta, elim:99999999, filter:False, output:/tmp/sepp/output.dl_x5gt0/root/P_3/A_3_0/FC_3_0_2/hmmsearch.results.88173hmf\n",
      "[17:21:21] jobs.py (line 131):     INFO: Finished hmmsearch Job with input: model:/tmp/sepp/output.dl_x5gt0/root/P_6/A_6_0/hmmbuild.model.9_5895j5, fragments:/tmp/sepp/output.dl_x5gt0/fragment_chunks/fragment_chunk_0164u99p9.fasta, elim:99999999, filter:False, output:/tmp/sepp/output.dl_x5gt0/root/P_6/A_6_0/FC_6_0_0/hmmsearch.results.sk4plaro\n",
      "[17:21:21] jobs.py (line 131):     INFO: Finished hmmsearch Job with input: model:/tmp/sepp/output.dl_x5gt0/root/P_6/A_6_0/hmmbuild.model.9_5895j5, fragments:/tmp/sepp/output.dl_x5gt0/fragment_chunks/fragment_chunk_1eeojkqf4.fasta, elim:99999999, filter:False, output:/tmp/sepp/output.dl_x5gt0/root/P_6/A_6_0/FC_6_0_1/hmmsearch.results.eb62u1u0\n",
      "[17:21:21] jobs.py (line 131):     INFO: Finished hmmsearch Job with input: model:/tmp/sepp/output.dl_x5gt0/root/P_6/A_6_0/hmmbuild.model.9_5895j5, fragments:/tmp/sepp/output.dl_x5gt0/fragment_chunks/fragment_chunk_2fr2q0hei.fasta, elim:99999999, filter:False, output:/tmp/sepp/output.dl_x5gt0/root/P_6/A_6_0/FC_6_0_2/hmmsearch.results.ydw23w5i\n",
      "[17:21:22] jobs.py (line 131):     INFO: Finished hmmsearch Job with input: model:/tmp/sepp/output.dl_x5gt0/root/P_8/A_8_0/hmmbuild.model.r_knu3u8, fragments:/tmp/sepp/output.dl_x5gt0/fragment_chunks/fragment_chunk_0164u99p9.fasta, elim:99999999, filter:False, output:/tmp/sepp/output.dl_x5gt0/root/P_8/A_8_0/FC_8_0_0/hmmsearch.results.j7b2u1mo\n",
      "[17:21:25] jobs.py (line 131):     INFO: Finished hmmsearch Job with input: model:/tmp/sepp/output.dl_x5gt0/root/P_8/A_8_0/hmmbuild.model.r_knu3u8, fragments:/tmp/sepp/output.dl_x5gt0/fragment_chunks/fragment_chunk_2fr2q0hei.fasta, elim:99999999, filter:False, output:/tmp/sepp/output.dl_x5gt0/root/P_8/A_8_0/FC_8_0_2/hmmsearch.results._3lyolmr\n",
      "[17:21:25] jobs.py (line 131):     INFO: Finished hmmsearch Job with input: model:/tmp/sepp/output.dl_x5gt0/root/P_8/A_8_0/hmmbuild.model.r_knu3u8, fragments:/tmp/sepp/output.dl_x5gt0/fragment_chunks/fragment_chunk_1eeojkqf4.fasta, elim:99999999, filter:False, output:/tmp/sepp/output.dl_x5gt0/root/P_8/A_8_0/FC_8_0_1/hmmsearch.results.n_z5cj_s\n",
      "[17:21:26] jobs.py (line 131):     INFO: Finished hmmsearch Job with input: model:/tmp/sepp/output.dl_x5gt0/root/P_7/A_7_0/hmmbuild.model._8w8fa2b, fragments:/tmp/sepp/output.dl_x5gt0/fragment_chunks/fragment_chunk_2fr2q0hei.fasta, elim:99999999, filter:False, output:/tmp/sepp/output.dl_x5gt0/root/P_7/A_7_0/FC_7_0_2/hmmsearch.results.vf9refx8\n",
      "[17:21:27] jobs.py (line 131):     INFO: Finished hmmsearch Job with input: model:/tmp/sepp/output.dl_x5gt0/root/P_7/A_7_0/hmmbuild.model._8w8fa2b, fragments:/tmp/sepp/output.dl_x5gt0/fragment_chunks/fragment_chunk_0164u99p9.fasta, elim:99999999, filter:False, output:/tmp/sepp/output.dl_x5gt0/root/P_7/A_7_0/FC_7_0_0/hmmsearch.results.c66smydk\n",
      "[17:21:28] jobs.py (line 131):     INFO: Finished hmmsearch Job with input: model:/tmp/sepp/output.dl_x5gt0/root/P_10/A_10_0/hmmbuild.model.d8r71izi, fragments:/tmp/sepp/output.dl_x5gt0/fragment_chunks/fragment_chunk_0164u99p9.fasta, elim:99999999, filter:False, output:/tmp/sepp/output.dl_x5gt0/root/P_10/A_10_0/FC_10_0_0/hmmsearch.results.b0m1z6i5\n",
      "[17:21:28] jobs.py (line 131):     INFO: Finished hmmsearch Job with input: model:/tmp/sepp/output.dl_x5gt0/root/P_7/A_7_0/hmmbuild.model._8w8fa2b, fragments:/tmp/sepp/output.dl_x5gt0/fragment_chunks/fragment_chunk_1eeojkqf4.fasta, elim:99999999, filter:False, output:/tmp/sepp/output.dl_x5gt0/root/P_7/A_7_0/FC_7_0_1/hmmsearch.results.o6w9hvrv\n",
      "[17:21:31] jobs.py (line 131):     INFO: Finished hmmsearch Job with input: model:/tmp/sepp/output.dl_x5gt0/root/P_10/A_10_0/hmmbuild.model.d8r71izi, fragments:/tmp/sepp/output.dl_x5gt0/fragment_chunks/fragment_chunk_1eeojkqf4.fasta, elim:99999999, filter:False, output:/tmp/sepp/output.dl_x5gt0/root/P_10/A_10_0/FC_10_0_1/hmmsearch.results.3qe84lxa\n",
      "[17:21:31] jobs.py (line 131):     INFO: Finished hmmsearch Job with input: model:/tmp/sepp/output.dl_x5gt0/root/P_9/A_9_0/hmmbuild.model.yr1rmik2, fragments:/tmp/sepp/output.dl_x5gt0/fragment_chunks/fragment_chunk_0164u99p9.fasta, elim:99999999, filter:False, output:/tmp/sepp/output.dl_x5gt0/root/P_9/A_9_0/FC_9_0_0/hmmsearch.results.8t8djf4w\n",
      "[17:21:32] jobs.py (line 131):     INFO: Finished hmmsearch Job with input: model:/tmp/sepp/output.dl_x5gt0/root/P_10/A_10_0/hmmbuild.model.d8r71izi, fragments:/tmp/sepp/output.dl_x5gt0/fragment_chunks/fragment_chunk_2fr2q0hei.fasta, elim:99999999, filter:False, output:/tmp/sepp/output.dl_x5gt0/root/P_10/A_10_0/FC_10_0_2/hmmsearch.results.mkhhsz5n\n",
      "[17:21:33] jobs.py (line 131):     INFO: Finished hmmsearch Job with input: model:/tmp/sepp/output.dl_x5gt0/root/P_9/A_9_0/hmmbuild.model.yr1rmik2, fragments:/tmp/sepp/output.dl_x5gt0/fragment_chunks/fragment_chunk_2fr2q0hei.fasta, elim:99999999, filter:False, output:/tmp/sepp/output.dl_x5gt0/root/P_9/A_9_0/FC_9_0_2/hmmsearch.results.usti3sl5\n",
      "[17:21:33] jobs.py (line 131):     INFO: Finished hmmsearch Job with input: model:/tmp/sepp/output.dl_x5gt0/root/P_11/A_11_0/hmmbuild.model._r7rth_2, fragments:/tmp/sepp/output.dl_x5gt0/fragment_chunks/fragment_chunk_0164u99p9.fasta, elim:99999999, filter:False, output:/tmp/sepp/output.dl_x5gt0/root/P_11/A_11_0/FC_11_0_0/hmmsearch.results.air7nxlo\n",
      "[17:21:34] jobs.py (line 131):     INFO: Finished hmmsearch Job with input: model:/tmp/sepp/output.dl_x5gt0/root/P_9/A_9_0/hmmbuild.model.yr1rmik2, fragments:/tmp/sepp/output.dl_x5gt0/fragment_chunks/fragment_chunk_1eeojkqf4.fasta, elim:99999999, filter:False, output:/tmp/sepp/output.dl_x5gt0/root/P_9/A_9_0/FC_9_0_1/hmmsearch.results.0zyi_7b4\n",
      "[17:21:35] jobs.py (line 131):     INFO: Finished hmmsearch Job with input: model:/tmp/sepp/output.dl_x5gt0/root/P_11/A_11_0/hmmbuild.model._r7rth_2, fragments:/tmp/sepp/output.dl_x5gt0/fragment_chunks/fragment_chunk_2fr2q0hei.fasta, elim:99999999, filter:False, output:/tmp/sepp/output.dl_x5gt0/root/P_11/A_11_0/FC_11_0_2/hmmsearch.results.g0lxf3za\n",
      "[17:21:37] jobs.py (line 131):     INFO: Finished hmmsearch Job with input: model:/tmp/sepp/output.dl_x5gt0/root/P_11/A_11_0/hmmbuild.model._r7rth_2, fragments:/tmp/sepp/output.dl_x5gt0/fragment_chunks/fragment_chunk_1eeojkqf4.fasta, elim:99999999, filter:False, output:/tmp/sepp/output.dl_x5gt0/root/P_11/A_11_0/FC_11_0_1/hmmsearch.results.f7vqvi22\n",
      "[17:21:38] jobs.py (line 131):     INFO: Finished hmmsearch Job with input: model:/tmp/sepp/output.dl_x5gt0/root/P_12/A_12_0/hmmbuild.model.rcuohafr, fragments:/tmp/sepp/output.dl_x5gt0/fragment_chunks/fragment_chunk_1eeojkqf4.fasta, elim:99999999, filter:False, output:/tmp/sepp/output.dl_x5gt0/root/P_12/A_12_0/FC_12_0_1/hmmsearch.results.zv1_pzmw\n",
      "[17:21:38] jobs.py (line 131):     INFO: Finished hmmsearch Job with input: model:/tmp/sepp/output.dl_x5gt0/root/P_12/A_12_0/hmmbuild.model.rcuohafr, fragments:/tmp/sepp/output.dl_x5gt0/fragment_chunks/fragment_chunk_0164u99p9.fasta, elim:99999999, filter:False, output:/tmp/sepp/output.dl_x5gt0/root/P_12/A_12_0/FC_12_0_0/hmmsearch.results.wgqh1dhz\n",
      "[17:21:39] jobs.py (line 131):     INFO: Finished hmmsearch Job with input: model:/tmp/sepp/output.dl_x5gt0/root/P_12/A_12_0/hmmbuild.model.rcuohafr, fragments:/tmp/sepp/output.dl_x5gt0/fragment_chunks/fragment_chunk_2fr2q0hei.fasta, elim:99999999, filter:False, output:/tmp/sepp/output.dl_x5gt0/root/P_12/A_12_0/FC_12_0_2/hmmsearch.results.cf805lwj\n",
      "[17:21:40] jobs.py (line 131):     INFO: Finished hmmsearch Job with input: model:/tmp/sepp/output.dl_x5gt0/root/P_14/A_14_0/hmmbuild.model.haqmdkpv, fragments:/tmp/sepp/output.dl_x5gt0/fragment_chunks/fragment_chunk_0164u99p9.fasta, elim:99999999, filter:False, output:/tmp/sepp/output.dl_x5gt0/root/P_14/A_14_0/FC_14_0_0/hmmsearch.results.z5b3v8jg\n",
      "[17:21:42] jobs.py (line 131):     INFO: Finished hmmsearch Job with input: model:/tmp/sepp/output.dl_x5gt0/root/P_14/A_14_0/hmmbuild.model.haqmdkpv, fragments:/tmp/sepp/output.dl_x5gt0/fragment_chunks/fragment_chunk_1eeojkqf4.fasta, elim:99999999, filter:False, output:/tmp/sepp/output.dl_x5gt0/root/P_14/A_14_0/FC_14_0_1/hmmsearch.results.qgt9r1fs\n",
      "[17:21:43] jobs.py (line 131):     INFO: Finished hmmsearch Job with input: model:/tmp/sepp/output.dl_x5gt0/root/P_13/A_13_0/hmmbuild.model.z8_e6w0a, fragments:/tmp/sepp/output.dl_x5gt0/fragment_chunks/fragment_chunk_1eeojkqf4.fasta, elim:99999999, filter:False, output:/tmp/sepp/output.dl_x5gt0/root/P_13/A_13_0/FC_13_0_1/hmmsearch.results.p2zgtyc4\n",
      "[17:21:43] jobs.py (line 131):     INFO: Finished hmmsearch Job with input: model:/tmp/sepp/output.dl_x5gt0/root/P_14/A_14_0/hmmbuild.model.haqmdkpv, fragments:/tmp/sepp/output.dl_x5gt0/fragment_chunks/fragment_chunk_2fr2q0hei.fasta, elim:99999999, filter:False, output:/tmp/sepp/output.dl_x5gt0/root/P_14/A_14_0/FC_14_0_2/hmmsearch.results.gyiwt4hr\n",
      "[17:21:44] jobs.py (line 131):     INFO: Finished hmmsearch Job with input: model:/tmp/sepp/output.dl_x5gt0/root/P_13/A_13_0/hmmbuild.model.z8_e6w0a, fragments:/tmp/sepp/output.dl_x5gt0/fragment_chunks/fragment_chunk_0164u99p9.fasta, elim:99999999, filter:False, output:/tmp/sepp/output.dl_x5gt0/root/P_13/A_13_0/FC_13_0_0/hmmsearch.results.8w1x2nml\n",
      "[17:21:45] jobs.py (line 131):     INFO: Finished hmmsearch Job with input: model:/tmp/sepp/output.dl_x5gt0/root/P_13/A_13_0/hmmbuild.model.z8_e6w0a, fragments:/tmp/sepp/output.dl_x5gt0/fragment_chunks/fragment_chunk_2fr2q0hei.fasta, elim:99999999, filter:False, output:/tmp/sepp/output.dl_x5gt0/root/P_13/A_13_0/FC_13_0_2/hmmsearch.results.i0j_b5mc\n",
      "[17:21:45] jobs.py (line 131):     INFO: Finished hmmsearch Job with input: model:/tmp/sepp/output.dl_x5gt0/root/P_15/A_15_0/hmmbuild.model.4nln68_y, fragments:/tmp/sepp/output.dl_x5gt0/fragment_chunks/fragment_chunk_0164u99p9.fasta, elim:99999999, filter:False, output:/tmp/sepp/output.dl_x5gt0/root/P_15/A_15_0/FC_15_0_0/hmmsearch.results.8o6xki_n\n",
      "[17:21:47] jobs.py (line 131):     INFO: Finished hmmsearch Job with input: model:/tmp/sepp/output.dl_x5gt0/root/P_15/A_15_0/hmmbuild.model.4nln68_y, fragments:/tmp/sepp/output.dl_x5gt0/fragment_chunks/fragment_chunk_2fr2q0hei.fasta, elim:99999999, filter:False, output:/tmp/sepp/output.dl_x5gt0/root/P_15/A_15_0/FC_15_0_2/hmmsearch.results.6e3vmqsd\n",
      "[17:21:47] jobs.py (line 131):     INFO: Finished hmmsearch Job with input: model:/tmp/sepp/output.dl_x5gt0/root/P_15/A_15_0/hmmbuild.model.4nln68_y, fragments:/tmp/sepp/output.dl_x5gt0/fragment_chunks/fragment_chunk_1eeojkqf4.fasta, elim:99999999, filter:False, output:/tmp/sepp/output.dl_x5gt0/root/P_15/A_15_0/FC_15_0_1/hmmsearch.results.n25i3451\n",
      "[17:21:47] exhaustive.py (line 80):  WARNING: Fragments [] are not scored against any subset\n",
      "[17:21:47] exhaustive.py (line 151):     INFO: Merging sub-alignments for placement problem : P_0.\n",
      "[17:21:47] jobs.py (line 131):     INFO: Finished hmmalign Job with input: model:/tmp/sepp/output.dl_x5gt0/root/P_1/A_1_0/hmmbuild.model.okglkyas, fragments:/tmp/sepp/output.dl_x5gt0/root/P_1/A_1_0/FC_1_0_2/hmmalign.frag.f7536ism.fasta, trim:False, base_alignment:/tmp/sepp/output.dl_x5gt0/root/P_1/A_1_0/hmmbuild.input.sadmo3u_.fasta\n",
      "[17:21:47] exhaustive.py (line 151):     INFO: Merging sub-alignments for placement problem : P_2.\n",
      "[17:21:47] jobs.py (line 131):     INFO: Finished hmmalign Job with input: model:/tmp/sepp/output.dl_x5gt0/root/P_1/A_1_0/hmmbuild.model.okglkyas, fragments:/tmp/sepp/output.dl_x5gt0/root/P_1/A_1_0/FC_1_0_0/hmmalign.frag.aw9oetjf.fasta, trim:False, base_alignment:/tmp/sepp/output.dl_x5gt0/root/P_1/A_1_0/hmmbuild.input.sadmo3u_.fasta\n",
      "[17:21:47] jobs.py (line 131):     INFO: Finished hmmalign Job with input: model:/tmp/sepp/output.dl_x5gt0/root/P_1/A_1_0/hmmbuild.model.okglkyas, fragments:/tmp/sepp/output.dl_x5gt0/root/P_1/A_1_0/FC_1_0_1/hmmalign.frag.cvo2aala.fasta, trim:False, base_alignment:/tmp/sepp/output.dl_x5gt0/root/P_1/A_1_0/hmmbuild.input.sadmo3u_.fasta\n",
      "[17:21:47] jobs.py (line 131):     INFO: Finished hmmalign Job with input: model:/tmp/sepp/output.dl_x5gt0/root/P_5/A_5_0/hmmbuild.model._lu3xql0, fragments:/tmp/sepp/output.dl_x5gt0/root/P_5/A_5_0/FC_5_0_2/hmmalign.frag.cxpckcky.fasta, trim:False, base_alignment:/tmp/sepp/output.dl_x5gt0/root/P_5/A_5_0/hmmbuild.input.9nqiq370.fasta\n",
      "[17:21:47] jobs.py (line 131):     INFO: Finished hmmalign Job with input: model:/tmp/sepp/output.dl_x5gt0/root/P_5/A_5_0/hmmbuild.model._lu3xql0, fragments:/tmp/sepp/output.dl_x5gt0/root/P_5/A_5_0/FC_5_0_1/hmmalign.frag.e0l03vg6.fasta, trim:False, base_alignment:/tmp/sepp/output.dl_x5gt0/root/P_5/A_5_0/hmmbuild.input.9nqiq370.fasta\n",
      "[17:21:47] jobs.py (line 131):     INFO: Finished hmmalign Job with input: model:/tmp/sepp/output.dl_x5gt0/root/P_5/A_5_0/hmmbuild.model._lu3xql0, fragments:/tmp/sepp/output.dl_x5gt0/root/P_5/A_5_0/FC_5_0_0/hmmalign.frag.jksxi22t.fasta, trim:False, base_alignment:/tmp/sepp/output.dl_x5gt0/root/P_5/A_5_0/hmmbuild.input.9nqiq370.fasta\n",
      "[17:21:47] jobs.py (line 131):     INFO: Finished hmmalign Job with input: model:/tmp/sepp/output.dl_x5gt0/root/P_6/A_6_0/hmmbuild.model.9_5895j5, fragments:/tmp/sepp/output.dl_x5gt0/root/P_6/A_6_0/FC_6_0_2/hmmalign.frag.yg71j6vy.fasta, trim:False, base_alignment:/tmp/sepp/output.dl_x5gt0/root/P_6/A_6_0/hmmbuild.input.4pra5m9u.fasta\n",
      "[17:21:47] jobs.py (line 131):     INFO: Finished hmmalign Job with input: model:/tmp/sepp/output.dl_x5gt0/root/P_6/A_6_0/hmmbuild.model.9_5895j5, fragments:/tmp/sepp/output.dl_x5gt0/root/P_6/A_6_0/FC_6_0_0/hmmalign.frag.nngspiz4.fasta, trim:False, base_alignment:/tmp/sepp/output.dl_x5gt0/root/P_6/A_6_0/hmmbuild.input.4pra5m9u.fasta\n",
      "[17:21:47] exhaustive.py (line 151):     INFO: Merging sub-alignments for placement problem : P_4.\n",
      "[17:21:47] jobs.py (line 131):     INFO: Finished hmmalign Job with input: model:/tmp/sepp/output.dl_x5gt0/root/P_7/A_7_0/hmmbuild.model._8w8fa2b, fragments:/tmp/sepp/output.dl_x5gt0/root/P_7/A_7_0/FC_7_0_2/hmmalign.frag.3iajqfnr.fasta, trim:False, base_alignment:/tmp/sepp/output.dl_x5gt0/root/P_7/A_7_0/hmmbuild.input.7oit86ao.fasta\n",
      "[17:21:47] jobs.py (line 131):     INFO: Finished hmmalign Job with input: model:/tmp/sepp/output.dl_x5gt0/root/P_6/A_6_0/hmmbuild.model.9_5895j5, fragments:/tmp/sepp/output.dl_x5gt0/root/P_6/A_6_0/FC_6_0_1/hmmalign.frag.l7zt5voc.fasta, trim:False, base_alignment:/tmp/sepp/output.dl_x5gt0/root/P_6/A_6_0/hmmbuild.input.4pra5m9u.fasta\n",
      "[17:21:47] jobs.py (line 131):     INFO: Finished hmmalign Job with input: model:/tmp/sepp/output.dl_x5gt0/root/P_8/A_8_0/hmmbuild.model.r_knu3u8, fragments:/tmp/sepp/output.dl_x5gt0/root/P_8/A_8_0/FC_8_0_0/hmmalign.frag._z374a7z.fasta, trim:False, base_alignment:/tmp/sepp/output.dl_x5gt0/root/P_8/A_8_0/hmmbuild.input.j101jzj_.fasta\n",
      "[17:21:47] jobs.py (line 131):     INFO: Finished hmmalign Job with input: model:/tmp/sepp/output.dl_x5gt0/root/P_7/A_7_0/hmmbuild.model._8w8fa2b, fragments:/tmp/sepp/output.dl_x5gt0/root/P_7/A_7_0/FC_7_0_0/hmmalign.frag.y04o7hb7.fasta, trim:False, base_alignment:/tmp/sepp/output.dl_x5gt0/root/P_7/A_7_0/hmmbuild.input.7oit86ao.fasta\n",
      "[17:21:47] jobs.py (line 131):     INFO: Finished hmmalign Job with input: model:/tmp/sepp/output.dl_x5gt0/root/P_8/A_8_0/hmmbuild.model.r_knu3u8, fragments:/tmp/sepp/output.dl_x5gt0/root/P_8/A_8_0/FC_8_0_1/hmmalign.frag.grqnf24o.fasta, trim:False, base_alignment:/tmp/sepp/output.dl_x5gt0/root/P_8/A_8_0/hmmbuild.input.j101jzj_.fasta\n",
      "[17:21:47] jobs.py (line 131):     INFO: Finished hmmalign Job with input: model:/tmp/sepp/output.dl_x5gt0/root/P_7/A_7_0/hmmbuild.model._8w8fa2b, fragments:/tmp/sepp/output.dl_x5gt0/root/P_7/A_7_0/FC_7_0_1/hmmalign.frag.918rl4yq.fasta, trim:False, base_alignment:/tmp/sepp/output.dl_x5gt0/root/P_7/A_7_0/hmmbuild.input.7oit86ao.fasta\n",
      "[17:21:47] exhaustive.py (line 151):     INFO: Merging sub-alignments for placement problem : P_3.\n",
      "[17:21:47] jobs.py (line 131):     INFO: Finished hmmalign Job with input: model:/tmp/sepp/output.dl_x5gt0/root/P_10/A_10_0/hmmbuild.model.d8r71izi, fragments:/tmp/sepp/output.dl_x5gt0/root/P_10/A_10_0/FC_10_0_0/hmmalign.frag.3_fj0gel.fasta, trim:False, base_alignment:/tmp/sepp/output.dl_x5gt0/root/P_10/A_10_0/hmmbuild.input.q6cczi0o.fasta\n",
      "[17:21:47] exhaustive.py (line 151):     INFO: Merging sub-alignments for placement problem : P_1.\n",
      "[17:21:47] alignment.py (line 556):     INFO: Merging extension sto file (/tmp/sepp/output.dl_x5gt0/root/P_1/A_1_0/FC_1_0_0/hmmalign.results.o7lvzg49) into base alignment (/tmp/sepp/output.dl_x5gt0/root/P_1/A_1_0/hmmbuild.input.sadmo3u_.fasta).\n",
      "[17:21:47] alignment.py (line 556):     INFO: Merging extension sto file (/tmp/sepp/output.dl_x5gt0/root/P_1/A_1_0/FC_1_0_1/hmmalign.results.74q9k9a2) into base alignment (/tmp/sepp/output.dl_x5gt0/root/P_1/A_1_0/hmmbuild.input.sadmo3u_.fasta).\n",
      "[17:21:47] alignment.py (line 556):     INFO: Merging extension sto file (/tmp/sepp/output.dl_x5gt0/root/P_1/A_1_0/FC_1_0_2/hmmalign.results.oaujsxrm) into base alignment (/tmp/sepp/output.dl_x5gt0/root/P_1/A_1_0/hmmbuild.input.sadmo3u_.fasta).\n",
      "[17:21:47] exhaustive.py (line 151):     INFO: Merging sub-alignments for placement problem : P_5.\n",
      "[17:21:47] jobs.py (line 131):     INFO: Finished hmmalign Job with input: model:/tmp/sepp/output.dl_x5gt0/root/P_9/A_9_0/hmmbuild.model.yr1rmik2, fragments:/tmp/sepp/output.dl_x5gt0/root/P_9/A_9_0/FC_9_0_0/hmmalign.frag.cawmtlw9.fasta, trim:False, base_alignment:/tmp/sepp/output.dl_x5gt0/root/P_9/A_9_0/hmmbuild.input.7f03fjuh.fasta\n",
      "[17:21:47] alignment.py (line 556):     INFO: Merging extension sto file (/tmp/sepp/output.dl_x5gt0/root/P_5/A_5_0/FC_5_0_0/hmmalign.results._qrmqvrm) into base alignment (/tmp/sepp/output.dl_x5gt0/root/P_5/A_5_0/hmmbuild.input.9nqiq370.fasta).\n",
      "[17:21:47] jobs.py (line 131):     INFO: Finished hmmalign Job with input: model:/tmp/sepp/output.dl_x5gt0/root/P_9/A_9_0/hmmbuild.model.yr1rmik2, fragments:/tmp/sepp/output.dl_x5gt0/root/P_9/A_9_0/FC_9_0_2/hmmalign.frag.ocmra6uy.fasta, trim:False, base_alignment:/tmp/sepp/output.dl_x5gt0/root/P_9/A_9_0/hmmbuild.input.7f03fjuh.fasta\n",
      "[17:21:47] jobs.py (line 131):     INFO: Finished hmmalign Job with input: model:/tmp/sepp/output.dl_x5gt0/root/P_9/A_9_0/hmmbuild.model.yr1rmik2, fragments:/tmp/sepp/output.dl_x5gt0/root/P_9/A_9_0/FC_9_0_1/hmmalign.frag.xjo3el12.fasta, trim:False, base_alignment:/tmp/sepp/output.dl_x5gt0/root/P_9/A_9_0/hmmbuild.input.7f03fjuh.fasta\n",
      "[17:21:47] alignment.py (line 556):     INFO: Merging extension sto file (/tmp/sepp/output.dl_x5gt0/root/P_5/A_5_0/FC_5_0_1/hmmalign.results.je820inz) into base alignment (/tmp/sepp/output.dl_x5gt0/root/P_5/A_5_0/hmmbuild.input.9nqiq370.fasta).\n",
      "[17:21:48] alignment.py (line 556):     INFO: Merging extension sto file (/tmp/sepp/output.dl_x5gt0/root/P_5/A_5_0/FC_5_0_2/hmmalign.results.hjdsan7x) into base alignment (/tmp/sepp/output.dl_x5gt0/root/P_5/A_5_0/hmmbuild.input.9nqiq370.fasta).\n",
      "[17:21:48] exhaustive.py (line 151):     INFO: Merging sub-alignments for placement problem : P_6.\n",
      "[17:21:48] alignment.py (line 556):     INFO: Merging extension sto file (/tmp/sepp/output.dl_x5gt0/root/P_6/A_6_0/FC_6_0_0/hmmalign.results.u9he1wjc) into base alignment (/tmp/sepp/output.dl_x5gt0/root/P_6/A_6_0/hmmbuild.input.4pra5m9u.fasta).\n",
      "[17:21:48] alignment.py (line 556):     INFO: Merging extension sto file (/tmp/sepp/output.dl_x5gt0/root/P_6/A_6_0/FC_6_0_1/hmmalign.results.jchg8zrg) into base alignment (/tmp/sepp/output.dl_x5gt0/root/P_6/A_6_0/hmmbuild.input.4pra5m9u.fasta).\n",
      "[17:21:48] alignment.py (line 556):     INFO: Merging extension sto file (/tmp/sepp/output.dl_x5gt0/root/P_6/A_6_0/FC_6_0_2/hmmalign.results.8o7j28ib) into base alignment (/tmp/sepp/output.dl_x5gt0/root/P_6/A_6_0/hmmbuild.input.4pra5m9u.fasta).\n",
      "[17:21:48] exhaustive.py (line 151):     INFO: Merging sub-alignments for placement problem : P_8.\n",
      "[17:21:48] alignment.py (line 556):     INFO: Merging extension sto file (/tmp/sepp/output.dl_x5gt0/root/P_8/A_8_0/FC_8_0_0/hmmalign.results.1slxifzl) into base alignment (/tmp/sepp/output.dl_x5gt0/root/P_8/A_8_0/hmmbuild.input.j101jzj_.fasta).\n",
      "[17:21:48] alignment.py (line 556):     INFO: Merging extension sto file (/tmp/sepp/output.dl_x5gt0/root/P_8/A_8_0/FC_8_0_1/hmmalign.results.w6v203bq) into base alignment (/tmp/sepp/output.dl_x5gt0/root/P_8/A_8_0/hmmbuild.input.j101jzj_.fasta).\n",
      "[17:21:48] exhaustive.py (line 151):     INFO: Merging sub-alignments for placement problem : P_7.\n",
      "[17:21:48] alignment.py (line 556):     INFO: Merging extension sto file (/tmp/sepp/output.dl_x5gt0/root/P_7/A_7_0/FC_7_0_0/hmmalign.results.z9mblmg0) into base alignment (/tmp/sepp/output.dl_x5gt0/root/P_7/A_7_0/hmmbuild.input.7oit86ao.fasta).\n",
      "[17:21:48] alignment.py (line 556):     INFO: Merging extension sto file (/tmp/sepp/output.dl_x5gt0/root/P_7/A_7_0/FC_7_0_1/hmmalign.results.sboejnuq) into base alignment (/tmp/sepp/output.dl_x5gt0/root/P_7/A_7_0/hmmbuild.input.7oit86ao.fasta).\n",
      "[17:21:48] alignment.py (line 556):     INFO: Merging extension sto file (/tmp/sepp/output.dl_x5gt0/root/P_7/A_7_0/FC_7_0_2/hmmalign.results.12e9q7t6) into base alignment (/tmp/sepp/output.dl_x5gt0/root/P_7/A_7_0/hmmbuild.input.7oit86ao.fasta).\n",
      "[17:21:48] exhaustive.py (line 151):     INFO: Merging sub-alignments for placement problem : P_10.\n",
      "[17:21:48] alignment.py (line 556):     INFO: Merging extension sto file (/tmp/sepp/output.dl_x5gt0/root/P_10/A_10_0/FC_10_0_0/hmmalign.results.lzf3b1gr) into base alignment (/tmp/sepp/output.dl_x5gt0/root/P_10/A_10_0/hmmbuild.input.q6cczi0o.fasta).\n",
      "[17:21:48] exhaustive.py (line 151):     INFO: Merging sub-alignments for placement problem : P_9.\n",
      "[17:21:48] alignment.py (line 556):     INFO: Merging extension sto file (/tmp/sepp/output.dl_x5gt0/root/P_9/A_9_0/FC_9_0_0/hmmalign.results.p3_0mil0) into base alignment (/tmp/sepp/output.dl_x5gt0/root/P_9/A_9_0/hmmbuild.input.7f03fjuh.fasta).\n",
      "[17:21:48] alignment.py (line 556):     INFO: Merging extension sto file (/tmp/sepp/output.dl_x5gt0/root/P_9/A_9_0/FC_9_0_1/hmmalign.results.wmxq7q8y) into base alignment (/tmp/sepp/output.dl_x5gt0/root/P_9/A_9_0/hmmbuild.input.7f03fjuh.fasta).\n",
      "[17:21:48] alignment.py (line 556):     INFO: Merging extension sto file (/tmp/sepp/output.dl_x5gt0/root/P_9/A_9_0/FC_9_0_2/hmmalign.results.zf8ne_ic) into base alignment (/tmp/sepp/output.dl_x5gt0/root/P_9/A_9_0/hmmbuild.input.7f03fjuh.fasta).\n",
      "[17:21:49] jobs.py (line 131):     INFO: Finished hmmalign Job with input: model:/tmp/sepp/output.dl_x5gt0/root/P_12/A_12_0/hmmbuild.model.rcuohafr, fragments:/tmp/sepp/output.dl_x5gt0/root/P_12/A_12_0/FC_12_0_2/hmmalign.frag.mc4iry1d.fasta, trim:False, base_alignment:/tmp/sepp/output.dl_x5gt0/root/P_12/A_12_0/hmmbuild.input.o3w9kw6g.fasta\n",
      "[17:21:49] jobs.py (line 131):     INFO: Finished hmmalign Job with input: model:/tmp/sepp/output.dl_x5gt0/root/P_12/A_12_0/hmmbuild.model.rcuohafr, fragments:/tmp/sepp/output.dl_x5gt0/root/P_12/A_12_0/FC_12_0_0/hmmalign.frag.30qj0m0v.fasta, trim:False, base_alignment:/tmp/sepp/output.dl_x5gt0/root/P_12/A_12_0/hmmbuild.input.o3w9kw6g.fasta\n",
      "[17:21:49] jobs.py (line 131):     INFO: Finished hmmalign Job with input: model:/tmp/sepp/output.dl_x5gt0/root/P_12/A_12_0/hmmbuild.model.rcuohafr, fragments:/tmp/sepp/output.dl_x5gt0/root/P_12/A_12_0/FC_12_0_1/hmmalign.frag.n4mq64mo.fasta, trim:False, base_alignment:/tmp/sepp/output.dl_x5gt0/root/P_12/A_12_0/hmmbuild.input.o3w9kw6g.fasta\n",
      "[17:21:49] exhaustive.py (line 151):     INFO: Merging sub-alignments for placement problem : P_12.\n",
      "[17:21:49] alignment.py (line 556):     INFO: Merging extension sto file (/tmp/sepp/output.dl_x5gt0/root/P_12/A_12_0/FC_12_0_0/hmmalign.results.ucnjsy5m) into base alignment (/tmp/sepp/output.dl_x5gt0/root/P_12/A_12_0/hmmbuild.input.o3w9kw6g.fasta).\n",
      "[17:21:49] alignment.py (line 556):     INFO: Merging extension sto file (/tmp/sepp/output.dl_x5gt0/root/P_12/A_12_0/FC_12_0_1/hmmalign.results.yqq0xq4j) into base alignment (/tmp/sepp/output.dl_x5gt0/root/P_12/A_12_0/hmmbuild.input.o3w9kw6g.fasta).\n",
      "[17:21:49] alignment.py (line 556):     INFO: Merging extension sto file (/tmp/sepp/output.dl_x5gt0/root/P_12/A_12_0/FC_12_0_2/hmmalign.results.et9kknae) into base alignment (/tmp/sepp/output.dl_x5gt0/root/P_12/A_12_0/hmmbuild.input.o3w9kw6g.fasta).\n",
      "[17:21:49] jobs.py (line 131):     INFO: Finished hmmalign Job with input: model:/tmp/sepp/output.dl_x5gt0/root/P_13/A_13_0/hmmbuild.model.z8_e6w0a, fragments:/tmp/sepp/output.dl_x5gt0/root/P_13/A_13_0/FC_13_0_0/hmmalign.frag.lqkm9xxe.fasta, trim:False, base_alignment:/tmp/sepp/output.dl_x5gt0/root/P_13/A_13_0/hmmbuild.input.xhd39b02.fasta\n",
      "[17:21:49] jobs.py (line 131):     INFO: Finished hmmalign Job with input: model:/tmp/sepp/output.dl_x5gt0/root/P_13/A_13_0/hmmbuild.model.z8_e6w0a, fragments:/tmp/sepp/output.dl_x5gt0/root/P_13/A_13_0/FC_13_0_1/hmmalign.frag.3um9rdk3.fasta, trim:False, base_alignment:/tmp/sepp/output.dl_x5gt0/root/P_13/A_13_0/hmmbuild.input.xhd39b02.fasta\n",
      "[17:21:49] exhaustive.py (line 151):     INFO: Merging sub-alignments for placement problem : P_15.\n",
      "[17:21:49] jobs.py (line 131):     INFO: Finished hmmalign Job with input: model:/tmp/sepp/output.dl_x5gt0/root/P_14/A_14_0/hmmbuild.model.haqmdkpv, fragments:/tmp/sepp/output.dl_x5gt0/root/P_14/A_14_0/FC_14_0_0/hmmalign.frag.jg9t3d09.fasta, trim:False, base_alignment:/tmp/sepp/output.dl_x5gt0/root/P_14/A_14_0/hmmbuild.input.zl8ous6s.fasta\n",
      "[17:21:49] jobs.py (line 131):     INFO: Finished hmmalign Job with input: model:/tmp/sepp/output.dl_x5gt0/root/P_13/A_13_0/hmmbuild.model.z8_e6w0a, fragments:/tmp/sepp/output.dl_x5gt0/root/P_13/A_13_0/FC_13_0_2/hmmalign.frag.owur80u8.fasta, trim:False, base_alignment:/tmp/sepp/output.dl_x5gt0/root/P_13/A_13_0/hmmbuild.input.xhd39b02.fasta\n",
      "[17:21:49] exhaustive.py (line 151):     INFO: Merging sub-alignments for placement problem : P_14.\n",
      "[17:21:49] alignment.py (line 556):     INFO: Merging extension sto file (/tmp/sepp/output.dl_x5gt0/root/P_14/A_14_0/FC_14_0_0/hmmalign.results.mk64_qkv) into base alignment (/tmp/sepp/output.dl_x5gt0/root/P_14/A_14_0/hmmbuild.input.zl8ous6s.fasta).\n",
      "[17:21:49] exhaustive.py (line 151):     INFO: Merging sub-alignments for placement problem : P_13.\n",
      "[17:21:49] alignment.py (line 556):     INFO: Merging extension sto file (/tmp/sepp/output.dl_x5gt0/root/P_13/A_13_0/FC_13_0_0/hmmalign.results.ff5thhie) into base alignment (/tmp/sepp/output.dl_x5gt0/root/P_13/A_13_0/hmmbuild.input.xhd39b02.fasta).\n",
      "[17:21:50] alignment.py (line 556):     INFO: Merging extension sto file (/tmp/sepp/output.dl_x5gt0/root/P_13/A_13_0/FC_13_0_1/hmmalign.results.nvk4af0u) into base alignment (/tmp/sepp/output.dl_x5gt0/root/P_13/A_13_0/hmmbuild.input.xhd39b02.fasta).\n",
      "[17:21:50] alignment.py (line 556):     INFO: Merging extension sto file (/tmp/sepp/output.dl_x5gt0/root/P_13/A_13_0/FC_13_0_2/hmmalign.results.wbe0l54e) into base alignment (/tmp/sepp/output.dl_x5gt0/root/P_13/A_13_0/hmmbuild.input.xhd39b02.fasta).\n",
      "[17:21:53] jobs.py (line 131):     INFO: Finished pplacer Job with input: backbone_alignment_file:/tmp/sepp/output.dl_x5gt0/root/P_1/pplacer.backbone.gt590ykq.fasta, tree_file:/tmp/sepp/output.dl_x5gt0/root/P_1/pplacer.tree.uchjg2_q.tre, info_file:/home/lauro/anaconda3/envs/qiime2-2021.11/lib/python3.8/site-packages/picrust2/default_files/prokaryotic/pro_ref/pro_ref.raxml_info, extended alignment:/tmp/sepp/output.dl_x5gt0/root/P_1/pplacer.extended.0.fnmezy2m.fasta, output:/tmp/sepp/output.dl_x5gt0/root/P_1/pplacer.extended.0.fnmezy2m.jplace\n",
      "[17:21:55] jobs.py (line 131):     INFO: Finished pplacer Job with input: backbone_alignment_file:/tmp/sepp/output.dl_x5gt0/root/P_1/pplacer.backbone.p11pyf2b.fasta, tree_file:/tmp/sepp/output.dl_x5gt0/root/P_1/pplacer.tree.adkrxhnx.tre, info_file:/home/lauro/anaconda3/envs/qiime2-2021.11/lib/python3.8/site-packages/picrust2/default_files/prokaryotic/pro_ref/pro_ref.raxml_info, extended alignment:/tmp/sepp/output.dl_x5gt0/root/P_1/pplacer.extended.1.99g1pn7_.fasta, output:/tmp/sepp/output.dl_x5gt0/root/P_1/pplacer.extended.1.99g1pn7_.jplace\n",
      "[17:21:55] jobs.py (line 131):     INFO: Finished pplacer Job with input: backbone_alignment_file:/tmp/sepp/output.dl_x5gt0/root/P_1/pplacer.backbone.ov37cnwk.fasta, tree_file:/tmp/sepp/output.dl_x5gt0/root/P_1/pplacer.tree.vcuwwds4.tre, info_file:/home/lauro/anaconda3/envs/qiime2-2021.11/lib/python3.8/site-packages/picrust2/default_files/prokaryotic/pro_ref/pro_ref.raxml_info, extended alignment:/tmp/sepp/output.dl_x5gt0/root/P_1/pplacer.extended.2.mzv_s936.fasta, output:/tmp/sepp/output.dl_x5gt0/root/P_1/pplacer.extended.2.mzv_s936.jplace\n",
      "[17:21:57] jobs.py (line 131):     INFO: Finished pplacer Job with input: backbone_alignment_file:/tmp/sepp/output.dl_x5gt0/root/P_5/pplacer.backbone.gye8no1b.fasta, tree_file:/tmp/sepp/output.dl_x5gt0/root/P_5/pplacer.tree.5521lwty.tre, info_file:/home/lauro/anaconda3/envs/qiime2-2021.11/lib/python3.8/site-packages/picrust2/default_files/prokaryotic/pro_ref/pro_ref.raxml_info, extended alignment:/tmp/sepp/output.dl_x5gt0/root/P_5/pplacer.extended.0.camps7o3.fasta, output:/tmp/sepp/output.dl_x5gt0/root/P_5/pplacer.extended.0.camps7o3.jplace\n",
      "[17:21:57] jobs.py (line 131):     INFO: Finished hmmalign Job with input: model:/tmp/sepp/output.dl_x5gt0/root/P_11/A_11_0/hmmbuild.model._r7rth_2, fragments:/tmp/sepp/output.dl_x5gt0/root/P_11/A_11_0/FC_11_0_2/hmmalign.frag.m94dlo2c.fasta, trim:False, base_alignment:/tmp/sepp/output.dl_x5gt0/root/P_11/A_11_0/hmmbuild.input.qe__yfjs.fasta\n",
      "[17:21:58] jobs.py (line 131):     INFO: Finished hmmalign Job with input: model:/tmp/sepp/output.dl_x5gt0/root/P_11/A_11_0/hmmbuild.model._r7rth_2, fragments:/tmp/sepp/output.dl_x5gt0/root/P_11/A_11_0/FC_11_0_0/hmmalign.frag.6przoy9d.fasta, trim:False, base_alignment:/tmp/sepp/output.dl_x5gt0/root/P_11/A_11_0/hmmbuild.input.qe__yfjs.fasta\n",
      "[17:21:58] jobs.py (line 131):     INFO: Finished hmmalign Job with input: model:/tmp/sepp/output.dl_x5gt0/root/P_11/A_11_0/hmmbuild.model._r7rth_2, fragments:/tmp/sepp/output.dl_x5gt0/root/P_11/A_11_0/FC_11_0_1/hmmalign.frag._f802_86.fasta, trim:False, base_alignment:/tmp/sepp/output.dl_x5gt0/root/P_11/A_11_0/hmmbuild.input.qe__yfjs.fasta\n",
      "[17:21:58] exhaustive.py (line 151):     INFO: Merging sub-alignments for placement problem : P_11.\n",
      "[17:21:58] alignment.py (line 556):     INFO: Merging extension sto file (/tmp/sepp/output.dl_x5gt0/root/P_11/A_11_0/FC_11_0_0/hmmalign.results.febq5_bw) into base alignment (/tmp/sepp/output.dl_x5gt0/root/P_11/A_11_0/hmmbuild.input.qe__yfjs.fasta).\n",
      "[17:21:58] alignment.py (line 556):     INFO: Merging extension sto file (/tmp/sepp/output.dl_x5gt0/root/P_11/A_11_0/FC_11_0_1/hmmalign.results.eru6mp3o) into base alignment (/tmp/sepp/output.dl_x5gt0/root/P_11/A_11_0/hmmbuild.input.qe__yfjs.fasta).\n",
      "[17:21:58] alignment.py (line 556):     INFO: Merging extension sto file (/tmp/sepp/output.dl_x5gt0/root/P_11/A_11_0/FC_11_0_2/hmmalign.results.kv2i_st5) into base alignment (/tmp/sepp/output.dl_x5gt0/root/P_11/A_11_0/hmmbuild.input.qe__yfjs.fasta).\n",
      "[17:22:00] jobs.py (line 131):     INFO: Finished pplacer Job with input: backbone_alignment_file:/tmp/sepp/output.dl_x5gt0/root/P_5/pplacer.backbone.3wr0nece.fasta, tree_file:/tmp/sepp/output.dl_x5gt0/root/P_5/pplacer.tree.lasym2n3.tre, info_file:/home/lauro/anaconda3/envs/qiime2-2021.11/lib/python3.8/site-packages/picrust2/default_files/prokaryotic/pro_ref/pro_ref.raxml_info, extended alignment:/tmp/sepp/output.dl_x5gt0/root/P_5/pplacer.extended.1.jwdwckko.fasta, output:/tmp/sepp/output.dl_x5gt0/root/P_5/pplacer.extended.1.jwdwckko.jplace\n",
      "[17:22:00] jobs.py (line 131):     INFO: Finished pplacer Job with input: backbone_alignment_file:/tmp/sepp/output.dl_x5gt0/root/P_5/pplacer.backbone.ckm3vh7e.fasta, tree_file:/tmp/sepp/output.dl_x5gt0/root/P_5/pplacer.tree.be63ee1o.tre, info_file:/home/lauro/anaconda3/envs/qiime2-2021.11/lib/python3.8/site-packages/picrust2/default_files/prokaryotic/pro_ref/pro_ref.raxml_info, extended alignment:/tmp/sepp/output.dl_x5gt0/root/P_5/pplacer.extended.2.7klg3l32.fasta, output:/tmp/sepp/output.dl_x5gt0/root/P_5/pplacer.extended.2.7klg3l32.jplace\n",
      "[17:22:02] jobs.py (line 131):     INFO: Finished pplacer Job with input: backbone_alignment_file:/tmp/sepp/output.dl_x5gt0/root/P_8/pplacer.backbone.278oz_a8.fasta, tree_file:/tmp/sepp/output.dl_x5gt0/root/P_8/pplacer.tree.ff3v8lnb.tre, info_file:/home/lauro/anaconda3/envs/qiime2-2021.11/lib/python3.8/site-packages/picrust2/default_files/prokaryotic/pro_ref/pro_ref.raxml_info, extended alignment:/tmp/sepp/output.dl_x5gt0/root/P_8/pplacer.extended.0._5qbdxxm.fasta, output:/tmp/sepp/output.dl_x5gt0/root/P_8/pplacer.extended.0._5qbdxxm.jplace\n",
      "[17:22:03] jobs.py (line 131):     INFO: Finished pplacer Job with input: backbone_alignment_file:/tmp/sepp/output.dl_x5gt0/root/P_6/pplacer.backbone.xfzpepg7.fasta, tree_file:/tmp/sepp/output.dl_x5gt0/root/P_6/pplacer.tree.p6wznxce.tre, info_file:/home/lauro/anaconda3/envs/qiime2-2021.11/lib/python3.8/site-packages/picrust2/default_files/prokaryotic/pro_ref/pro_ref.raxml_info, extended alignment:/tmp/sepp/output.dl_x5gt0/root/P_6/pplacer.extended.2.fy2gvd_9.fasta, output:/tmp/sepp/output.dl_x5gt0/root/P_6/pplacer.extended.2.fy2gvd_9.jplace\n",
      "[17:22:05] jobs.py (line 131):     INFO: Finished pplacer Job with input: backbone_alignment_file:/tmp/sepp/output.dl_x5gt0/root/P_8/pplacer.backbone._0p8a5vb.fasta, tree_file:/tmp/sepp/output.dl_x5gt0/root/P_8/pplacer.tree.qewmd3w2.tre, info_file:/home/lauro/anaconda3/envs/qiime2-2021.11/lib/python3.8/site-packages/picrust2/default_files/prokaryotic/pro_ref/pro_ref.raxml_info, extended alignment:/tmp/sepp/output.dl_x5gt0/root/P_8/pplacer.extended.1.vpois5iz.fasta, output:/tmp/sepp/output.dl_x5gt0/root/P_8/pplacer.extended.1.vpois5iz.jplace\n",
      "[17:22:06] jobs.py (line 131):     INFO: Finished pplacer Job with input: backbone_alignment_file:/tmp/sepp/output.dl_x5gt0/root/P_7/pplacer.backbone.eey_xn0g.fasta, tree_file:/tmp/sepp/output.dl_x5gt0/root/P_7/pplacer.tree.6tavwxq7.tre, info_file:/home/lauro/anaconda3/envs/qiime2-2021.11/lib/python3.8/site-packages/picrust2/default_files/prokaryotic/pro_ref/pro_ref.raxml_info, extended alignment:/tmp/sepp/output.dl_x5gt0/root/P_7/pplacer.extended.0.2fl6vl2s.fasta, output:/tmp/sepp/output.dl_x5gt0/root/P_7/pplacer.extended.0.2fl6vl2s.jplace\n",
      "[17:22:07] jobs.py (line 131):     INFO: Finished pplacer Job with input: backbone_alignment_file:/tmp/sepp/output.dl_x5gt0/root/P_6/pplacer.backbone.ree5keym.fasta, tree_file:/tmp/sepp/output.dl_x5gt0/root/P_6/pplacer.tree.y8akvkm5.tre, info_file:/home/lauro/anaconda3/envs/qiime2-2021.11/lib/python3.8/site-packages/picrust2/default_files/prokaryotic/pro_ref/pro_ref.raxml_info, extended alignment:/tmp/sepp/output.dl_x5gt0/root/P_6/pplacer.extended.1.kp87eknt.fasta, output:/tmp/sepp/output.dl_x5gt0/root/P_6/pplacer.extended.1.kp87eknt.jplace\n",
      "[17:22:07] jobs.py (line 131):     INFO: Finished pplacer Job with input: backbone_alignment_file:/tmp/sepp/output.dl_x5gt0/root/P_7/pplacer.backbone.p2xdki4g.fasta, tree_file:/tmp/sepp/output.dl_x5gt0/root/P_7/pplacer.tree.1v0atdqc.tre, info_file:/home/lauro/anaconda3/envs/qiime2-2021.11/lib/python3.8/site-packages/picrust2/default_files/prokaryotic/pro_ref/pro_ref.raxml_info, extended alignment:/tmp/sepp/output.dl_x5gt0/root/P_7/pplacer.extended.2.wzacdtaz.fasta, output:/tmp/sepp/output.dl_x5gt0/root/P_7/pplacer.extended.2.wzacdtaz.jplace\n",
      "[17:22:09] jobs.py (line 131):     INFO: Finished pplacer Job with input: backbone_alignment_file:/tmp/sepp/output.dl_x5gt0/root/P_7/pplacer.backbone.2w06rn6h.fasta, tree_file:/tmp/sepp/output.dl_x5gt0/root/P_7/pplacer.tree.mh4_6rgj.tre, info_file:/home/lauro/anaconda3/envs/qiime2-2021.11/lib/python3.8/site-packages/picrust2/default_files/prokaryotic/pro_ref/pro_ref.raxml_info, extended alignment:/tmp/sepp/output.dl_x5gt0/root/P_7/pplacer.extended.1.humdrfpc.fasta, output:/tmp/sepp/output.dl_x5gt0/root/P_7/pplacer.extended.1.humdrfpc.jplace\n",
      "[17:22:09] jobs.py (line 131):     INFO: Finished pplacer Job with input: backbone_alignment_file:/tmp/sepp/output.dl_x5gt0/root/P_10/pplacer.backbone.86p_xocj.fasta, tree_file:/tmp/sepp/output.dl_x5gt0/root/P_10/pplacer.tree._so6bb38.tre, info_file:/home/lauro/anaconda3/envs/qiime2-2021.11/lib/python3.8/site-packages/picrust2/default_files/prokaryotic/pro_ref/pro_ref.raxml_info, extended alignment:/tmp/sepp/output.dl_x5gt0/root/P_10/pplacer.extended.0.t7m4a7xt.fasta, output:/tmp/sepp/output.dl_x5gt0/root/P_10/pplacer.extended.0.t7m4a7xt.jplace\n",
      "[17:22:10] jobs.py (line 131):     INFO: Finished pplacer Job with input: backbone_alignment_file:/tmp/sepp/output.dl_x5gt0/root/P_6/pplacer.backbone.62ehr4kd.fasta, tree_file:/tmp/sepp/output.dl_x5gt0/root/P_6/pplacer.tree.jb9gp87z.tre, info_file:/home/lauro/anaconda3/envs/qiime2-2021.11/lib/python3.8/site-packages/picrust2/default_files/prokaryotic/pro_ref/pro_ref.raxml_info, extended alignment:/tmp/sepp/output.dl_x5gt0/root/P_6/pplacer.extended.0.935ya635.fasta, output:/tmp/sepp/output.dl_x5gt0/root/P_6/pplacer.extended.0.935ya635.jplace\n",
      "[17:22:11] jobs.py (line 131):     INFO: Finished pplacer Job with input: backbone_alignment_file:/tmp/sepp/output.dl_x5gt0/root/P_9/pplacer.backbone._p5z20g0.fasta, tree_file:/tmp/sepp/output.dl_x5gt0/root/P_9/pplacer.tree.l3c1t5jd.tre, info_file:/home/lauro/anaconda3/envs/qiime2-2021.11/lib/python3.8/site-packages/picrust2/default_files/prokaryotic/pro_ref/pro_ref.raxml_info, extended alignment:/tmp/sepp/output.dl_x5gt0/root/P_9/pplacer.extended.1._vfv4vok.fasta, output:/tmp/sepp/output.dl_x5gt0/root/P_9/pplacer.extended.1._vfv4vok.jplace\n",
      "[17:22:13] jobs.py (line 131):     INFO: Finished pplacer Job with input: backbone_alignment_file:/tmp/sepp/output.dl_x5gt0/root/P_9/pplacer.backbone.nn_y34i4.fasta, tree_file:/tmp/sepp/output.dl_x5gt0/root/P_9/pplacer.tree.v4i2ep34.tre, info_file:/home/lauro/anaconda3/envs/qiime2-2021.11/lib/python3.8/site-packages/picrust2/default_files/prokaryotic/pro_ref/pro_ref.raxml_info, extended alignment:/tmp/sepp/output.dl_x5gt0/root/P_9/pplacer.extended.2.ydpkjo6q.fasta, output:/tmp/sepp/output.dl_x5gt0/root/P_9/pplacer.extended.2.ydpkjo6q.jplace\n",
      "[17:22:14] jobs.py (line 131):     INFO: Finished pplacer Job with input: backbone_alignment_file:/tmp/sepp/output.dl_x5gt0/root/P_9/pplacer.backbone._mdg6kst.fasta, tree_file:/tmp/sepp/output.dl_x5gt0/root/P_9/pplacer.tree.6mk18csn.tre, info_file:/home/lauro/anaconda3/envs/qiime2-2021.11/lib/python3.8/site-packages/picrust2/default_files/prokaryotic/pro_ref/pro_ref.raxml_info, extended alignment:/tmp/sepp/output.dl_x5gt0/root/P_9/pplacer.extended.0.xybsyyoa.fasta, output:/tmp/sepp/output.dl_x5gt0/root/P_9/pplacer.extended.0.xybsyyoa.jplace\n",
      "[17:22:16] jobs.py (line 131):     INFO: Finished pplacer Job with input: backbone_alignment_file:/tmp/sepp/output.dl_x5gt0/root/P_12/pplacer.backbone.26lwydbx.fasta, tree_file:/tmp/sepp/output.dl_x5gt0/root/P_12/pplacer.tree.xj0nx_ig.tre, info_file:/home/lauro/anaconda3/envs/qiime2-2021.11/lib/python3.8/site-packages/picrust2/default_files/prokaryotic/pro_ref/pro_ref.raxml_info, extended alignment:/tmp/sepp/output.dl_x5gt0/root/P_12/pplacer.extended.0.buvlxtb9.fasta, output:/tmp/sepp/output.dl_x5gt0/root/P_12/pplacer.extended.0.buvlxtb9.jplace\n",
      "[17:22:17] jobs.py (line 131):     INFO: Finished pplacer Job with input: backbone_alignment_file:/tmp/sepp/output.dl_x5gt0/root/P_14/pplacer.backbone.kw_7kuip.fasta, tree_file:/tmp/sepp/output.dl_x5gt0/root/P_14/pplacer.tree.g7jzlz56.tre, info_file:/home/lauro/anaconda3/envs/qiime2-2021.11/lib/python3.8/site-packages/picrust2/default_files/prokaryotic/pro_ref/pro_ref.raxml_info, extended alignment:/tmp/sepp/output.dl_x5gt0/root/P_14/pplacer.extended.0.7umyzllp.fasta, output:/tmp/sepp/output.dl_x5gt0/root/P_14/pplacer.extended.0.7umyzllp.jplace\n",
      "[17:22:18] jobs.py (line 131):     INFO: Finished pplacer Job with input: backbone_alignment_file:/tmp/sepp/output.dl_x5gt0/root/P_12/pplacer.backbone.9twu86wh.fasta, tree_file:/tmp/sepp/output.dl_x5gt0/root/P_12/pplacer.tree.1pfl008u.tre, info_file:/home/lauro/anaconda3/envs/qiime2-2021.11/lib/python3.8/site-packages/picrust2/default_files/prokaryotic/pro_ref/pro_ref.raxml_info, extended alignment:/tmp/sepp/output.dl_x5gt0/root/P_12/pplacer.extended.1.k58fdm7b.fasta, output:/tmp/sepp/output.dl_x5gt0/root/P_12/pplacer.extended.1.k58fdm7b.jplace\n",
      "[17:22:19] jobs.py (line 131):     INFO: Finished pplacer Job with input: backbone_alignment_file:/tmp/sepp/output.dl_x5gt0/root/P_13/pplacer.backbone.kbr9qrej.fasta, tree_file:/tmp/sepp/output.dl_x5gt0/root/P_13/pplacer.tree.kzx1it_0.tre, info_file:/home/lauro/anaconda3/envs/qiime2-2021.11/lib/python3.8/site-packages/picrust2/default_files/prokaryotic/pro_ref/pro_ref.raxml_info, extended alignment:/tmp/sepp/output.dl_x5gt0/root/P_13/pplacer.extended.0.uq0h9ew9.fasta, output:/tmp/sepp/output.dl_x5gt0/root/P_13/pplacer.extended.0.uq0h9ew9.jplace\n",
      "[17:22:20] jobs.py (line 131):     INFO: Finished pplacer Job with input: backbone_alignment_file:/tmp/sepp/output.dl_x5gt0/root/P_13/pplacer.backbone.25uk9ot4.fasta, tree_file:/tmp/sepp/output.dl_x5gt0/root/P_13/pplacer.tree.s67797ru.tre, info_file:/home/lauro/anaconda3/envs/qiime2-2021.11/lib/python3.8/site-packages/picrust2/default_files/prokaryotic/pro_ref/pro_ref.raxml_info, extended alignment:/tmp/sepp/output.dl_x5gt0/root/P_13/pplacer.extended.2.mhyp0v7s.fasta, output:/tmp/sepp/output.dl_x5gt0/root/P_13/pplacer.extended.2.mhyp0v7s.jplace\n",
      "[17:22:20] jobs.py (line 131):     INFO: Finished pplacer Job with input: backbone_alignment_file:/tmp/sepp/output.dl_x5gt0/root/P_13/pplacer.backbone.q4gqws3i.fasta, tree_file:/tmp/sepp/output.dl_x5gt0/root/P_13/pplacer.tree.e24qam2h.tre, info_file:/home/lauro/anaconda3/envs/qiime2-2021.11/lib/python3.8/site-packages/picrust2/default_files/prokaryotic/pro_ref/pro_ref.raxml_info, extended alignment:/tmp/sepp/output.dl_x5gt0/root/P_13/pplacer.extended.1.7jv6cx05.fasta, output:/tmp/sepp/output.dl_x5gt0/root/P_13/pplacer.extended.1.7jv6cx05.jplace\n",
      "[17:22:21] jobs.py (line 131):     INFO: Finished pplacer Job with input: backbone_alignment_file:/tmp/sepp/output.dl_x5gt0/root/P_12/pplacer.backbone.wsyr3igb.fasta, tree_file:/tmp/sepp/output.dl_x5gt0/root/P_12/pplacer.tree.l7n_uup5.tre, info_file:/home/lauro/anaconda3/envs/qiime2-2021.11/lib/python3.8/site-packages/picrust2/default_files/prokaryotic/pro_ref/pro_ref.raxml_info, extended alignment:/tmp/sepp/output.dl_x5gt0/root/P_12/pplacer.extended.2.666nlgdu.fasta, output:/tmp/sepp/output.dl_x5gt0/root/P_12/pplacer.extended.2.666nlgdu.jplace\n",
      "[17:22:53] jobs.py (line 131):     INFO: Finished pplacer Job with input: backbone_alignment_file:/tmp/sepp/output.dl_x5gt0/root/P_11/pplacer.backbone.82ggqc6b.fasta, tree_file:/tmp/sepp/output.dl_x5gt0/root/P_11/pplacer.tree.5_d9y59f.tre, info_file:/home/lauro/anaconda3/envs/qiime2-2021.11/lib/python3.8/site-packages/picrust2/default_files/prokaryotic/pro_ref/pro_ref.raxml_info, extended alignment:/tmp/sepp/output.dl_x5gt0/root/P_11/pplacer.extended.0.psvxxj2e.fasta, output:/tmp/sepp/output.dl_x5gt0/root/P_11/pplacer.extended.0.psvxxj2e.jplace\n",
      "[17:22:54] jobs.py (line 131):     INFO: Finished pplacer Job with input: backbone_alignment_file:/tmp/sepp/output.dl_x5gt0/root/P_11/pplacer.backbone.gww75fbs.fasta, tree_file:/tmp/sepp/output.dl_x5gt0/root/P_11/pplacer.tree.f41ar0av.tre, info_file:/home/lauro/anaconda3/envs/qiime2-2021.11/lib/python3.8/site-packages/picrust2/default_files/prokaryotic/pro_ref/pro_ref.raxml_info, extended alignment:/tmp/sepp/output.dl_x5gt0/root/P_11/pplacer.extended.1.cfrr29ix.fasta, output:/tmp/sepp/output.dl_x5gt0/root/P_11/pplacer.extended.1.cfrr29ix.jplace\n",
      "[17:22:55] jobs.py (line 131):     INFO: Finished pplacer Job with input: backbone_alignment_file:/tmp/sepp/output.dl_x5gt0/root/P_11/pplacer.backbone.0j3p6c0n.fasta, tree_file:/tmp/sepp/output.dl_x5gt0/root/P_11/pplacer.tree.wdnnvcpf.tre, info_file:/home/lauro/anaconda3/envs/qiime2-2021.11/lib/python3.8/site-packages/picrust2/default_files/prokaryotic/pro_ref/pro_ref.raxml_info, extended alignment:/tmp/sepp/output.dl_x5gt0/root/P_11/pplacer.extended.2.b2x0f80i.fasta, output:/tmp/sepp/output.dl_x5gt0/root/P_11/pplacer.extended.2.b2x0f80i.jplace\n",
      "[17:23:04] jobs.py (line 131):     INFO: Finished jsonmerger Job with input: input:pipe output:/tmp/tmp4pj1gzlt/picrust2_out/intermediate/place_seqs/sepp_out/output_placement.json\n",
      "[17:23:04] algorithm.py (line 195):     INFO: Current execution Finished in 132 seconds\n",
      "[17:23:04] algorithm.py (line 197):     INFO: All checkpointed executions Finished in 132 cumulative time\n",
      "\n",
      "gappa examine graft --jplace-path /tmp/tmp4pj1gzlt/picrust2_out/intermediate/place_seqs/sepp_out/output_placement.json --fully-resolve --out-dir /tmp/tmp4pj1gzlt/picrust2_out/intermediate/place_seqs/sepp_out\n",
      "\n",
      "mv /tmp/tmp4pj1gzlt/picrust2_out/intermediate/place_seqs/sepp_out/output_placement.newick /tmp/tmp4pj1gzlt/picrust2_out/out.tre\n",
      "\n",
      "Finished placing sequences on output tree: /tmp/tmp4pj1gzlt/picrust2_out/out.tre\n",
      "hsp.py --tree /tmp/tmp4pj1gzlt/picrust2_out/out.tre --output /tmp/tmp4pj1gzlt/picrust2_out/marker_predicted_and_nsti.tsv.gz --observed_trait_table /home/lauro/anaconda3/envs/qiime2-2021.11/lib/python3.8/site-packages/picrust2/default_files/prokaryotic/16S.txt.gz --hsp_method pic --edge_exponent 0.5 --seed 100 --calculate_NSTI --processes 1 --verbose\n"
     ]
    },
    {
     "name": "stdout",
     "output_type": "stream",
     "text": [
      "\n",
      "\n",
      "\n"
     ]
    },
    {
     "name": "stderr",
     "output_type": "stream",
     "text": [
      "Rscript /home/lauro/anaconda3/envs/qiime2-2021.11/lib/python3.8/site-packages/picrust2/Rscripts/castor_nsti.R /tmp/tmp4pj1gzlt/picrust2_out/out.tre /tmp/tmpvmu30lpg/known_tips.txt /tmp/tmpvmu30lpg/nsti_out.txt\n",
      "\n",
      "Rscript /home/lauro/anaconda3/envs/qiime2-2021.11/lib/python3.8/site-packages/picrust2/Rscripts/castor_hsp.R /tmp/tmp4pj1gzlt/picrust2_out/out.tre /tmp/tmpxt1vqfj3/subset_tab_0 pic 0.5 FALSE FALSE /tmp/tmp1m14a93w/predicted_counts.txt /tmp/tmp1m14a93w/predicted_ci.txt 100\n",
      "\n",
      "\n",
      "hsp.py --tree /tmp/tmp4pj1gzlt/picrust2_out/out.tre --output /tmp/tmp4pj1gzlt/picrust2_out/EC_predicted.tsv.gz --observed_trait_table /home/lauro/anaconda3/envs/qiime2-2021.11/lib/python3.8/site-packages/picrust2/default_files/prokaryotic/ec.txt.gz --hsp_method pic --edge_exponent 0.5 --seed 100 --processes 6 --verbose\n"
     ]
    },
    {
     "name": "stdout",
     "output_type": "stream",
     "text": [
      "\n",
      "\n",
      "\n",
      "\n",
      "\n",
      "\n",
      "\n"
     ]
    },
    {
     "name": "stderr",
     "output_type": "stream",
     "text": [
      "Rscript /home/lauro/anaconda3/envs/qiime2-2021.11/lib/python3.8/site-packages/picrust2/Rscripts/castor_hsp.R /tmp/tmp4pj1gzlt/picrust2_out/out.tre /tmp/tmpof82cjtu/subset_tab_4 pic 0.5 FALSE FALSE /tmp/tmpdps9kukb/predicted_counts.txt /tmp/tmpdps9kukb/predicted_ci.txt 100\n",
      "\n",
      "Rscript /home/lauro/anaconda3/envs/qiime2-2021.11/lib/python3.8/site-packages/picrust2/Rscripts/castor_hsp.R /tmp/tmp4pj1gzlt/picrust2_out/out.tre /tmp/tmpof82cjtu/subset_tab_5 pic 0.5 FALSE FALSE /tmp/tmp19nm09k3/predicted_counts.txt /tmp/tmp19nm09k3/predicted_ci.txt 100\n",
      "\n",
      "Rscript /home/lauro/anaconda3/envs/qiime2-2021.11/lib/python3.8/site-packages/picrust2/Rscripts/castor_hsp.R /tmp/tmp4pj1gzlt/picrust2_out/out.tre /tmp/tmpof82cjtu/subset_tab_3 pic 0.5 FALSE FALSE /tmp/tmpd59cgjnh/predicted_counts.txt /tmp/tmpd59cgjnh/predicted_ci.txt 100\n",
      "\n",
      "Rscript /home/lauro/anaconda3/envs/qiime2-2021.11/lib/python3.8/site-packages/picrust2/Rscripts/castor_hsp.R /tmp/tmp4pj1gzlt/picrust2_out/out.tre /tmp/tmpof82cjtu/subset_tab_0 pic 0.5 FALSE FALSE /tmp/tmpuwcdnezs/predicted_counts.txt /tmp/tmpuwcdnezs/predicted_ci.txt 100\n",
      "\n",
      "Rscript /home/lauro/anaconda3/envs/qiime2-2021.11/lib/python3.8/site-packages/picrust2/Rscripts/castor_hsp.R /tmp/tmp4pj1gzlt/picrust2_out/out.tre /tmp/tmpof82cjtu/subset_tab_1 pic 0.5 FALSE FALSE /tmp/tmprbyii52a/predicted_counts.txt /tmp/tmprbyii52a/predicted_ci.txt 100\n",
      "\n",
      "Rscript /home/lauro/anaconda3/envs/qiime2-2021.11/lib/python3.8/site-packages/picrust2/Rscripts/castor_hsp.R /tmp/tmp4pj1gzlt/picrust2_out/out.tre /tmp/tmpof82cjtu/subset_tab_2 pic 0.5 FALSE FALSE /tmp/tmp7hrz1ysf/predicted_counts.txt /tmp/tmp7hrz1ysf/predicted_ci.txt 100\n",
      "\n",
      "\n",
      "hsp.py --tree /tmp/tmp4pj1gzlt/picrust2_out/out.tre --output /tmp/tmp4pj1gzlt/picrust2_out/KO_predicted.tsv.gz --observed_trait_table /home/lauro/anaconda3/envs/qiime2-2021.11/lib/python3.8/site-packages/picrust2/default_files/prokaryotic/ko.txt.gz --hsp_method pic --edge_exponent 0.5 --seed 100 --processes 6 --verbose\n"
     ]
    },
    {
     "name": "stdout",
     "output_type": "stream",
     "text": [
      "\n",
      "\n",
      "\n",
      "\n",
      "\n",
      "\n",
      "\n",
      "\n",
      "\n",
      "\n",
      "\n",
      "\n",
      "\n",
      "\n",
      "\n",
      "\n",
      "\n",
      "\n",
      "\n",
      "\n",
      "\n",
      "\n",
      "\n"
     ]
    },
    {
     "name": "stderr",
     "output_type": "stream",
     "text": [
      "Rscript /home/lauro/anaconda3/envs/qiime2-2021.11/lib/python3.8/site-packages/picrust2/Rscripts/castor_hsp.R /tmp/tmp4pj1gzlt/picrust2_out/out.tre /tmp/tmpn2r6ibcx/subset_tab_1 pic 0.5 FALSE FALSE /tmp/tmpkg2o3mm4/predicted_counts.txt /tmp/tmpkg2o3mm4/predicted_ci.txt 100\n",
      "\n",
      "Rscript /home/lauro/anaconda3/envs/qiime2-2021.11/lib/python3.8/site-packages/picrust2/Rscripts/castor_hsp.R /tmp/tmp4pj1gzlt/picrust2_out/out.tre /tmp/tmpn2r6ibcx/subset_tab_10 pic 0.5 FALSE FALSE /tmp/tmpe6tm7qb8/predicted_counts.txt /tmp/tmpe6tm7qb8/predicted_ci.txt 100\n",
      "\n",
      "Rscript /home/lauro/anaconda3/envs/qiime2-2021.11/lib/python3.8/site-packages/picrust2/Rscripts/castor_hsp.R /tmp/tmp4pj1gzlt/picrust2_out/out.tre /tmp/tmpn2r6ibcx/subset_tab_17 pic 0.5 FALSE FALSE /tmp/tmpo3i7yga6/predicted_counts.txt /tmp/tmpo3i7yga6/predicted_ci.txt 100\n",
      "\n",
      "Rscript /home/lauro/anaconda3/envs/qiime2-2021.11/lib/python3.8/site-packages/picrust2/Rscripts/castor_hsp.R /tmp/tmp4pj1gzlt/picrust2_out/out.tre /tmp/tmpn2r6ibcx/subset_tab_2 pic 0.5 FALSE FALSE /tmp/tmp7njtp_wd/predicted_counts.txt /tmp/tmp7njtp_wd/predicted_ci.txt 100\n",
      "\n",
      "Rscript /home/lauro/anaconda3/envs/qiime2-2021.11/lib/python3.8/site-packages/picrust2/Rscripts/castor_hsp.R /tmp/tmp4pj1gzlt/picrust2_out/out.tre /tmp/tmpn2r6ibcx/subset_tab_8 pic 0.5 FALSE FALSE /tmp/tmpw22gm68l/predicted_counts.txt /tmp/tmpw22gm68l/predicted_ci.txt 100\n",
      "\n",
      "Rscript /home/lauro/anaconda3/envs/qiime2-2021.11/lib/python3.8/site-packages/picrust2/Rscripts/castor_hsp.R /tmp/tmp4pj1gzlt/picrust2_out/out.tre /tmp/tmpn2r6ibcx/subset_tab_16 pic 0.5 FALSE FALSE /tmp/tmps12yu8ww/predicted_counts.txt /tmp/tmps12yu8ww/predicted_ci.txt 100\n",
      "\n",
      "Rscript /home/lauro/anaconda3/envs/qiime2-2021.11/lib/python3.8/site-packages/picrust2/Rscripts/castor_hsp.R /tmp/tmp4pj1gzlt/picrust2_out/out.tre /tmp/tmpn2r6ibcx/subset_tab_5 pic 0.5 FALSE FALSE /tmp/tmp8kpx4oqa/predicted_counts.txt /tmp/tmp8kpx4oqa/predicted_ci.txt 100\n",
      "\n",
      "Rscript /home/lauro/anaconda3/envs/qiime2-2021.11/lib/python3.8/site-packages/picrust2/Rscripts/castor_hsp.R /tmp/tmp4pj1gzlt/picrust2_out/out.tre /tmp/tmpn2r6ibcx/subset_tab_11 pic 0.5 FALSE FALSE /tmp/tmpoyzrugep/predicted_counts.txt /tmp/tmpoyzrugep/predicted_ci.txt 100\n",
      "\n",
      "Rscript /home/lauro/anaconda3/envs/qiime2-2021.11/lib/python3.8/site-packages/picrust2/Rscripts/castor_hsp.R /tmp/tmp4pj1gzlt/picrust2_out/out.tre /tmp/tmpn2r6ibcx/subset_tab_15 pic 0.5 FALSE FALSE /tmp/tmpyoi53jy4/predicted_counts.txt /tmp/tmpyoi53jy4/predicted_ci.txt 100\n",
      "\n",
      "Rscript /home/lauro/anaconda3/envs/qiime2-2021.11/lib/python3.8/site-packages/picrust2/Rscripts/castor_hsp.R /tmp/tmp4pj1gzlt/picrust2_out/out.tre /tmp/tmpn2r6ibcx/subset_tab_21 pic 0.5 FALSE FALSE /tmp/tmpsd7lluu3/predicted_counts.txt /tmp/tmpsd7lluu3/predicted_ci.txt 100\n",
      "\n",
      "Rscript /home/lauro/anaconda3/envs/qiime2-2021.11/lib/python3.8/site-packages/picrust2/Rscripts/castor_hsp.R /tmp/tmp4pj1gzlt/picrust2_out/out.tre /tmp/tmpn2r6ibcx/subset_tab_3 pic 0.5 FALSE FALSE /tmp/tmpkbubniyb/predicted_counts.txt /tmp/tmpkbubniyb/predicted_ci.txt 100\n",
      "\n",
      "Rscript /home/lauro/anaconda3/envs/qiime2-2021.11/lib/python3.8/site-packages/picrust2/Rscripts/castor_hsp.R /tmp/tmp4pj1gzlt/picrust2_out/out.tre /tmp/tmpn2r6ibcx/subset_tab_6 pic 0.5 FALSE FALSE /tmp/tmp899md1fq/predicted_counts.txt /tmp/tmp899md1fq/predicted_ci.txt 100\n",
      "\n",
      "Rscript /home/lauro/anaconda3/envs/qiime2-2021.11/lib/python3.8/site-packages/picrust2/Rscripts/castor_hsp.R /tmp/tmp4pj1gzlt/picrust2_out/out.tre /tmp/tmpn2r6ibcx/subset_tab_12 pic 0.5 FALSE FALSE /tmp/tmpxr471et3/predicted_counts.txt /tmp/tmpxr471et3/predicted_ci.txt 100\n",
      "\n",
      "Rscript /home/lauro/anaconda3/envs/qiime2-2021.11/lib/python3.8/site-packages/picrust2/Rscripts/castor_hsp.R /tmp/tmp4pj1gzlt/picrust2_out/out.tre /tmp/tmpn2r6ibcx/subset_tab_18 pic 0.5 FALSE FALSE /tmp/tmpp1j9on0p/predicted_counts.txt /tmp/tmpp1j9on0p/predicted_ci.txt 100\n",
      "\n",
      "Rscript /home/lauro/anaconda3/envs/qiime2-2021.11/lib/python3.8/site-packages/picrust2/Rscripts/castor_hsp.R /tmp/tmp4pj1gzlt/picrust2_out/out.tre /tmp/tmpn2r6ibcx/subset_tab_4 pic 0.5 FALSE FALSE /tmp/tmp7buit4lw/predicted_counts.txt /tmp/tmp7buit4lw/predicted_ci.txt 100\n",
      "\n",
      "Rscript /home/lauro/anaconda3/envs/qiime2-2021.11/lib/python3.8/site-packages/picrust2/Rscripts/castor_hsp.R /tmp/tmp4pj1gzlt/picrust2_out/out.tre /tmp/tmpn2r6ibcx/subset_tab_7 pic 0.5 FALSE FALSE /tmp/tmppc7edky3/predicted_counts.txt /tmp/tmppc7edky3/predicted_ci.txt 100\n",
      "\n",
      "Rscript /home/lauro/anaconda3/envs/qiime2-2021.11/lib/python3.8/site-packages/picrust2/Rscripts/castor_hsp.R /tmp/tmp4pj1gzlt/picrust2_out/out.tre /tmp/tmpn2r6ibcx/subset_tab_13 pic 0.5 FALSE FALSE /tmp/tmpvbyflu_i/predicted_counts.txt /tmp/tmpvbyflu_i/predicted_ci.txt 100\n",
      "\n",
      "Rscript /home/lauro/anaconda3/envs/qiime2-2021.11/lib/python3.8/site-packages/picrust2/Rscripts/castor_hsp.R /tmp/tmp4pj1gzlt/picrust2_out/out.tre /tmp/tmpn2r6ibcx/subset_tab_19 pic 0.5 FALSE FALSE /tmp/tmp_t6ufso1/predicted_counts.txt /tmp/tmp_t6ufso1/predicted_ci.txt 100\n",
      "\n",
      "Rscript /home/lauro/anaconda3/envs/qiime2-2021.11/lib/python3.8/site-packages/picrust2/Rscripts/castor_hsp.R /tmp/tmp4pj1gzlt/picrust2_out/out.tre /tmp/tmpn2r6ibcx/subset_tab_0 pic 0.5 FALSE FALSE /tmp/tmpddqcmvpc/predicted_counts.txt /tmp/tmpddqcmvpc/predicted_ci.txt 100\n",
      "\n",
      "Rscript /home/lauro/anaconda3/envs/qiime2-2021.11/lib/python3.8/site-packages/picrust2/Rscripts/castor_hsp.R /tmp/tmp4pj1gzlt/picrust2_out/out.tre /tmp/tmpn2r6ibcx/subset_tab_9 pic 0.5 FALSE FALSE /tmp/tmpdidhmu96/predicted_counts.txt /tmp/tmpdidhmu96/predicted_ci.txt 100\n",
      "\n",
      "Rscript /home/lauro/anaconda3/envs/qiime2-2021.11/lib/python3.8/site-packages/picrust2/Rscripts/castor_hsp.R /tmp/tmp4pj1gzlt/picrust2_out/out.tre /tmp/tmpn2r6ibcx/subset_tab_14 pic 0.5 FALSE FALSE /tmp/tmp5vz_jevx/predicted_counts.txt /tmp/tmp5vz_jevx/predicted_ci.txt 100\n",
      "\n",
      "Rscript /home/lauro/anaconda3/envs/qiime2-2021.11/lib/python3.8/site-packages/picrust2/Rscripts/castor_hsp.R /tmp/tmp4pj1gzlt/picrust2_out/out.tre /tmp/tmpn2r6ibcx/subset_tab_20 pic 0.5 FALSE FALSE /tmp/tmp8nnc0n1v/predicted_counts.txt /tmp/tmp8nnc0n1v/predicted_ci.txt 100\n",
      "\n",
      "\n",
      "Running metagenome pipeline for EC\n",
      "metagenome_pipeline.py --input /tmp/tmp4pj1gzlt/intable.biom --function /tmp/tmp4pj1gzlt/picrust2_out/EC_predicted.tsv.gz --min_reads 1 --min_samples 1 --out_dir /tmp/tmp4pj1gzlt/picrust2_out/EC_metagenome_out --max_nsti 2 --marker /tmp/tmp4pj1gzlt/picrust2_out/marker_predicted_and_nsti.tsv.gz\n"
     ]
    },
    {
     "name": "stdout",
     "output_type": "stream",
     "text": [
      "\n"
     ]
    },
    {
     "name": "stderr",
     "output_type": "stream",
     "text": [
      "All ASVs were below the max NSTI cut-off of 2.0 and so all were retained for downstream analyses.\n",
      "\n",
      "Running metagenome pipeline for KO\n",
      "metagenome_pipeline.py --input /tmp/tmp4pj1gzlt/intable.biom --function /tmp/tmp4pj1gzlt/picrust2_out/KO_predicted.tsv.gz --min_reads 1 --min_samples 1 --out_dir /tmp/tmp4pj1gzlt/picrust2_out/KO_metagenome_out --max_nsti 2 --marker /tmp/tmp4pj1gzlt/picrust2_out/marker_predicted_and_nsti.tsv.gz\n"
     ]
    },
    {
     "name": "stdout",
     "output_type": "stream",
     "text": [
      "\n",
      "Inferring pathways from predicted EC\n"
     ]
    },
    {
     "name": "stderr",
     "output_type": "stream",
     "text": [
      "All ASVs were below the max NSTI cut-off of 2.0 and so all were retained for downstream analyses.\n",
      "\n",
      "pathway_pipeline.py --input /tmp/tmp4pj1gzlt/picrust2_out/EC_metagenome_out/pred_metagenome_unstrat.tsv.gz --out_dir /tmp/tmp4pj1gzlt/picrust2_out/pathways_out --map /home/lauro/anaconda3/envs/qiime2-2021.11/lib/python3.8/site-packages/picrust2/default_files/pathway_mapfiles/metacyc_path2rxn_struc_filt_pro.txt --intermediate /tmp/tmp4pj1gzlt/picrust2_out/intermediate/pathways --proc 6 --regroup_map /home/lauro/anaconda3/envs/qiime2-2021.11/lib/python3.8/site-packages/picrust2/default_files/pathway_mapfiles/ec_level4_to_metacyc_rxn.tsv --verbose\n",
      "\n",
      "Wrote predicted pathway abundances and coverages to /tmp/tmp4pj1gzlt/picrust2_out/pathways_out\n"
     ]
    }
   ],
   "source": [
    "\n",
    "# Execute full pipeline\n",
    "results = picrust2.methods.full_pipeline(\n",
    "    table=tabs, \n",
    "    seq=seqs, \n",
    "    threads=6, \n",
    "    placement_tool='sepp',\n",
    "    hsp_method='pic', \n",
    "    max_nsti=2,\n",
    "    highly_verbose=True\n",
    ")"
   ]
  },
  {
   "cell_type": "markdown",
   "id": "771308c4",
   "metadata": {},
   "source": [
    "### Load created artifacts\n",
    "\n",
    "We will define file paths and persist all artifacts as `qza` files. In sequence, we will persist the visualizations files as `qzv` files."
   ]
  },
  {
   "cell_type": "code",
   "execution_count": 10,
   "id": "c680ab46",
   "metadata": {
    "ExecuteTime": {
     "end_time": "2022-11-09T17:27:06.923690Z",
     "start_time": "2022-11-09T17:27:06.747074Z"
    }
   },
   "outputs": [
    {
     "data": {
      "text/plain": [
       "'/home/lauro/nupeb/rede-micro/redemicro-miliane-nutri/experiments/miliane-CxAC-trim/picrust2/pathway-abundance.qza'"
      ]
     },
     "execution_count": 10,
     "metadata": {},
     "output_type": "execute_result"
    }
   ],
   "source": [
    "ec_path = os.path.join(picrust2_folder, 'ec-pred-metagen.qza')\n",
    "results.ec_metagenome.export_data(output_dir=ec_path.split('.')[0])\n",
    "results.ec_metagenome.save(ec_path)\n",
    "\n",
    "ko_path = os.path.join(picrust2_folder, 'ko-pred-metagen.qza')\n",
    "results.ko_metagenome.export_data(output_dir=ko_path.split('.')[0])\n",
    "results.ko_metagenome.save(ko_path)\n",
    "\n",
    "pathway_path = os.path.join(picrust2_folder, 'pathway-abundance.qza')\n",
    "results.pathway_abundance.export_data(output_dir=pathway_path.split('.')[0])\n",
    "results.pathway_abundance.save(pathway_path)"
   ]
  },
  {
   "cell_type": "code",
   "execution_count": 11,
   "id": "d61ebec3",
   "metadata": {
    "ExecuteTime": {
     "end_time": "2022-11-09T17:27:12.933129Z",
     "start_time": "2022-11-09T17:27:06.925613Z"
    }
   },
   "outputs": [
    {
     "data": {
      "text/plain": [
       "'/home/lauro/nupeb/rede-micro/redemicro-miliane-nutri/experiments/miliane-CxAC-trim/picrust2/pathway-abundance.qzv'"
      ]
     },
     "execution_count": 11,
     "metadata": {},
     "output_type": "execute_result"
    }
   ],
   "source": [
    "ec_viz = summarize(table=results.ec_metagenome, sample_metadata=metadata_qa).visualization\n",
    "ec_viz.save(ec_path[:-1]+'v')\n",
    "ko_viz = summarize(table=results.ko_metagenome, sample_metadata=metadata_qa).visualization\n",
    "ko_viz.save(ko_path[:-1]+'v')\n",
    "path_viz = summarize(table=results.pathway_abundance, sample_metadata=metadata_qa).visualization\n",
    "path_viz.save(pathway_path[:-1]+'v')"
   ]
  },
  {
   "cell_type": "code",
   "execution_count": 21,
   "id": "57f1f4d8",
   "metadata": {
    "ExecuteTime": {
     "end_time": "2022-11-09T17:32:10.397463Z",
     "start_time": "2022-11-09T17:32:09.956235Z"
    }
   },
   "outputs": [],
   "source": [
    "ec_fpath = os.path.join(picrust2_folder, 'ec.tsv')\n",
    "ko_fpath = os.path.join(picrust2_folder, 'ko.tsv')\n",
    "pathway_fpath = os.path.join(picrust2_folder, 'pathway.tsv')\n",
    "\n",
    "ec_desc_fpath = os.path.join(picrust2_folder, 'ec-desc.tsv')\n",
    "ko_desc_fpath = os.path.join(picrust2_folder, 'ko-desc.tsv')\n",
    "pathway_desc_fpath = os.path.join(picrust2_folder, 'pathway-desc.tsv')\n",
    "\n",
    "\n",
    "df = results.ec_metagenome.view(pd.DataFrame).T\n",
    "# df = biom.Table.to_dataframe(res)\n",
    "df.to_csv(ec_fpath, sep='\\t', index=True)\n",
    "\n",
    "df = results.ko_metagenome.view(pd.DataFrame).T\n",
    "# df = biom.Table.to_dataframe(res)\n",
    "df.to_csv(ko_fpath, sep='\\t', index=True)\n",
    "\n",
    "df = results.pathway_abundance.view(pd.DataFrame).T\n",
    "# df = biom.Table.to_dataframe(res)\n",
    "df.to_csv(pathway_fpath, sep='\\t', index=True)"
   ]
  },
  {
   "cell_type": "code",
   "execution_count": 22,
   "id": "25515987",
   "metadata": {
    "ExecuteTime": {
     "end_time": "2022-11-09T17:32:18.706258Z",
     "start_time": "2022-11-09T17:32:15.899594Z"
    }
   },
   "outputs": [],
   "source": [
    "!add_descriptions.py -i {ec_fpath} -m EC -o {ec_desc_fpath}\n",
    "!add_descriptions.py -i {ko_fpath} -m KO -o {ko_desc_fpath}\n",
    "!add_descriptions.py -i {pathway_fpath} -m METACYC -o {pathway_desc_fpath}"
   ]
  }
 ],
 "metadata": {
  "celltoolbar": "Edit Metadata",
  "kernelspec": {
   "display_name": "Python 3",
   "language": "python",
   "name": "python3"
  },
  "language_info": {
   "codemirror_mode": {
    "name": "ipython",
    "version": 3
   },
   "file_extension": ".py",
   "mimetype": "text/x-python",
   "name": "python",
   "nbconvert_exporter": "python",
   "pygments_lexer": "ipython3",
   "version": "3.8.12"
  },
  "papermill": {
   "default_parameters": {},
   "duration": 19.57167,
   "end_time": "2022-11-04T14:10:43.214030",
   "environment_variables": {},
   "exception": null,
   "input_path": "nb-templates/step-picrust2-analysis.ipynb",
   "output_path": "/home/lauro/nupeb/rede-micro/redemicro-miliane-nutri/experiments/miliane-CxAC-trim/nb-executed-steps/step-picrust2-analysis-miliane-CxAC-trim.ipynb",
   "parameters": {
    "base_dir": "/home/lauro/nupeb/rede-micro/redemicro-miliane-nutri",
    "class_col": "group-id",
    "classifier_file": "/home/lauro/nupeb/dados_brutos_rede_genoma/16S_classifiers_qiime2/silva-138-99-nb-classifier.qza",
    "experiment_name": "miliane-CxAC-trim",
    "manifest_file": "/home/lauro/nupeb/rede-micro/redemicro-miliane-nutri/data/raw/manifest/miliane-manifest-CxAC.csv",
    "metadata_file": "/home/lauro/nupeb/rede-micro/redemicro-miliane-nutri/data/raw/metadata/miliane-metadata-CxAC.tsv",
    "overlap": 12,
    "phred": 20,
    "replace_files": false,
    "threads": 6,
    "trim": {
     "forward_primer": "CCTACGGGRSGCAGCAG",
     "overlap": 8,
     "reverse_primer": "GGACTACHVGGGTWTCTAAT"
    },
    "trunc_f": 0,
    "trunc_r": 0
   },
   "start_time": "2022-11-04T14:10:23.642360",
   "version": "2.3.4"
  }
 },
 "nbformat": 4,
 "nbformat_minor": 5
}
