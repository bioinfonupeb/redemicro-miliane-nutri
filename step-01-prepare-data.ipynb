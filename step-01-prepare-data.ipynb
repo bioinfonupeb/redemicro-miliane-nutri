{
 "cells": [
  {
   "cell_type": "markdown",
   "id": "5d5ee751",
   "metadata": {
    "papermill": {
     "duration": 0.017384,
     "end_time": "2022-07-15T17:07:08.699421",
     "exception": false,
     "start_time": "2022-07-15T17:07:08.682037",
     "status": "completed"
    },
    "tags": []
   },
   "source": [
    "# Prepare data for Pipeline"
   ]
  },
  {
   "cell_type": "markdown",
   "id": "710e0f67",
   "metadata": {
    "papermill": {
     "duration": 0.00999,
     "end_time": "2022-07-15T17:07:08.720086",
     "exception": false,
     "start_time": "2022-07-15T17:07:08.710096",
     "status": "completed"
    },
    "tags": []
   },
   "source": [
    "## Setup and settings"
   ]
  },
  {
   "cell_type": "code",
   "execution_count": 1,
   "id": "35774281",
   "metadata": {
    "ExecuteTime": {
     "end_time": "2022-06-28T18:50:41.589256Z",
     "start_time": "2022-06-28T18:50:35.447356Z"
    },
    "execution": {
     "iopub.execute_input": "2022-07-15T17:07:08.741947Z",
     "iopub.status.busy": "2022-07-15T17:07:08.741467Z",
     "iopub.status.idle": "2022-07-15T17:07:15.362222Z",
     "shell.execute_reply": "2022-07-15T17:07:15.361469Z"
    },
    "papermill": {
     "duration": 6.635474,
     "end_time": "2022-07-15T17:07:15.365486",
     "exception": false,
     "start_time": "2022-07-15T17:07:08.730012",
     "status": "completed"
    },
    "tags": []
   },
   "outputs": [],
   "source": [
    "# Importing packages\n",
    "import os\n",
    "import yaml\n",
    "from qiime2 import Artifact, Visualization\n",
    "from qiime2.plugins import demux\n",
    "\n",
    "from utils import *"
   ]
  },
  {
   "cell_type": "markdown",
   "id": "d1cdb03e",
   "metadata": {
    "papermill": {
     "duration": 0.009235,
     "end_time": "2022-07-15T17:07:15.391081",
     "exception": false,
     "start_time": "2022-07-15T17:07:15.381846",
     "status": "completed"
    },
    "tags": []
   },
   "source": [
    "### Receiving the parameters\n",
    "\n",
    "The following cell can receive parameters using the [papermill](https://papermill.readthedocs.io/en/latest/) tool."
   ]
  },
  {
   "cell_type": "code",
   "execution_count": 2,
   "id": "fc5c122a",
   "metadata": {
    "ExecuteTime": {
     "end_time": "2022-06-28T18:50:41.594341Z",
     "start_time": "2022-06-28T18:50:41.591544Z"
    },
    "execution": {
     "iopub.execute_input": "2022-07-15T17:07:15.443834Z",
     "iopub.status.busy": "2022-07-15T17:07:15.443587Z",
     "iopub.status.idle": "2022-07-15T17:07:15.449577Z",
     "shell.execute_reply": "2022-07-15T17:07:15.448798Z"
    },
    "papermill": {
     "duration": 0.017916,
     "end_time": "2022-07-15T17:07:15.451154",
     "exception": false,
     "start_time": "2022-07-15T17:07:15.433238",
     "status": "completed"
    },
    "tags": [
     "parameters"
    ]
   },
   "outputs": [],
   "source": [
    "params_path = os.path.join('..', 'params', 'ana-flavia-superlactacao.yaml')\n",
    "experiment_name = 'jenneffer-vs-01'\n",
    "base_dir = os.path.join('/', 'home', 'lauro', 'nupeb', 'redemicro')\n",
    "manifest_file = os.path.join(base_dir, 'data', 'raw', 'manifest', 'not-hist-vs-manifest.csv')\n",
    "img_folder = os.path.abspath(os.path.join(base_dir, 'imgs'))\n",
    "replace_files = False"
   ]
  },
  {
   "cell_type": "code",
   "execution_count": 3,
   "id": "9f279e96",
   "metadata": {
    "execution": {
     "iopub.execute_input": "2022-07-15T17:07:15.472109Z",
     "iopub.status.busy": "2022-07-15T17:07:15.471745Z",
     "iopub.status.idle": "2022-07-15T17:07:15.477783Z",
     "shell.execute_reply": "2022-07-15T17:07:15.476972Z"
    },
    "papermill": {
     "duration": 0.018388,
     "end_time": "2022-07-15T17:07:15.479405",
     "exception": false,
     "start_time": "2022-07-15T17:07:15.461017",
     "status": "completed"
    },
    "tags": [
     "injected-parameters"
    ]
   },
   "outputs": [],
   "source": [
    "# Parameters\n",
    "experiment_name = \"miliane-CxAC\"\n",
    "base_dir = \"/home/lauro/nupeb/rede-micro/redemicro-miliane-nutri\"\n",
    "manifest_file = \"/home/lauro/nupeb/rede-micro/redemicro-miliane-nutri/data/raw/manifest/miliane-manifest-CxAC.csv\"\n",
    "metadata_file = \"/home/lauro/nupeb/rede-micro/redemicro-miliane-nutri/data/raw/metadata/miliane-metadata-CxAC.tsv\"\n",
    "class_col = \"group-id\"\n",
    "classifier_file = \"/home/lauro/nupeb/dados_brutos_rede_genoma/16S_classifiers_qiime2/silva-138-99-nb-classifier.qza\"\n",
    "replace_files = False\n",
    "phred = 20\n",
    "trunc_f = 0\n",
    "trunc_r = 0\n",
    "overlap = 12\n",
    "threads = 6\n"
   ]
  },
  {
   "cell_type": "code",
   "execution_count": 4,
   "id": "8c82770d",
   "metadata": {
    "ExecuteTime": {
     "end_time": "2022-06-28T18:50:41.610682Z",
     "start_time": "2022-06-28T18:50:41.595886Z"
    },
    "execution": {
     "iopub.execute_input": "2022-07-15T17:07:15.518711Z",
     "iopub.status.busy": "2022-07-15T17:07:15.518441Z",
     "iopub.status.idle": "2022-07-15T17:07:15.524358Z",
     "shell.execute_reply": "2022-07-15T17:07:15.523592Z"
    },
    "papermill": {
     "duration": 0.035252,
     "end_time": "2022-07-15T17:07:15.525998",
     "exception": false,
     "start_time": "2022-07-15T17:07:15.490746",
     "status": "completed"
    },
    "tags": []
   },
   "outputs": [],
   "source": [
    "# Setting hardcoded parameters for development and debbuging\n",
    "production = True\n",
    "if not production:\n",
    "    params_path = os.path.join('..', 'params', 'ana-flavia-hipotese-01')\n",
    "    with open(params_path, 'r') as stream:\n",
    "        params = yaml.safe_load(stream)\n",
    "        experiment_name = params['experiment_name']\n",
    "        base_dir = params['base_dir']\n",
    "        manifest_file = params['manifest_file']\n",
    "        replace_files = params['replace_files']"
   ]
  },
  {
   "cell_type": "markdown",
   "id": "7df10997",
   "metadata": {
    "papermill": {
     "duration": 0.010333,
     "end_time": "2022-07-15T17:07:15.547736",
     "exception": false,
     "start_time": "2022-07-15T17:07:15.537403",
     "status": "completed"
    },
    "tags": []
   },
   "source": [
    "### Defining names and paths"
   ]
  },
  {
   "cell_type": "code",
   "execution_count": 5,
   "id": "0633bc6a",
   "metadata": {
    "ExecuteTime": {
     "end_time": "2022-06-28T18:50:41.618098Z",
     "start_time": "2022-06-28T18:50:41.614152Z"
    },
    "execution": {
     "iopub.execute_input": "2022-07-15T17:07:15.568555Z",
     "iopub.status.busy": "2022-07-15T17:07:15.568197Z",
     "iopub.status.idle": "2022-07-15T17:07:15.572236Z",
     "shell.execute_reply": "2022-07-15T17:07:15.571488Z"
    },
    "papermill": {
     "duration": 0.016206,
     "end_time": "2022-07-15T17:07:15.573815",
     "exception": false,
     "start_time": "2022-07-15T17:07:15.557609",
     "status": "completed"
    },
    "tags": []
   },
   "outputs": [],
   "source": [
    "# new_manifest = '/home/lauro/nupeb/redemicro/data/raw/manifest/karina-manifest.csv'\n",
    "# with open(manifest_file, 'r') as oldm, open(new_manifest, 'w') as newm:\n",
    "#     header = 'sample-id,absolute-filepath,direction\\n'\n",
    "#     newm.write(header)\n",
    "#     for line in oldm.readlines()[1:]:\n",
    "#         sid, forward, reverse = line[:-1].split(',')\n",
    "#         fline = ','.join((sid, forward, 'forward')) + '\\n'\n",
    "#         rline = ','.join((sid, reverse, 'reverse')) + '\\n'\n",
    "#         newm.write(fline)\n",
    "#         newm.write(rline)"
   ]
  },
  {
   "cell_type": "code",
   "execution_count": 6,
   "id": "df929fae",
   "metadata": {
    "ExecuteTime": {
     "end_time": "2022-06-28T18:50:41.632125Z",
     "start_time": "2022-06-28T18:50:41.619710Z"
    },
    "execution": {
     "iopub.execute_input": "2022-07-15T17:07:15.595501Z",
     "iopub.status.busy": "2022-07-15T17:07:15.595234Z",
     "iopub.status.idle": "2022-07-15T17:07:15.602849Z",
     "shell.execute_reply": "2022-07-15T17:07:15.602001Z"
    },
    "papermill": {
     "duration": 0.020232,
     "end_time": "2022-07-15T17:07:15.604601",
     "exception": false,
     "start_time": "2022-07-15T17:07:15.584369",
     "status": "completed"
    },
    "tags": []
   },
   "outputs": [],
   "source": [
    "# Define the output folder path\n",
    "out_dir = os.path.join(base_dir, 'experiments', experiment_name, 'qiime-artifacts')\n",
    "img_folder = os.path.abspath(os.path.join(base_dir, 'experiments', experiment_name, 'imgs'))\n",
    "\n",
    "# Create path if it not exist\n",
    "if not os.path.isdir(out_dir):\n",
    "    os.makedirs(out_dir)\n",
    "    print(f'New qiime-artifacts folder path created: {out_dir}')\n",
    "\n",
    "# Create path if it not exist\n",
    "if not os.path.isdir(img_folder):\n",
    "    os.makedirs(img_folder)\n",
    "    print(f'New img folder path created: {img_folder}')\n",
    "\n",
    "# Define the output artifact full path\n",
    "demux_file = os.path.join(out_dir, 'demux-paired.qza')\n",
    "demux_view = os.path.join(out_dir, 'demux-paired.qzv')"
   ]
  },
  {
   "cell_type": "code",
   "execution_count": null,
   "id": "7bcb7003",
   "metadata": {
    "papermill": {
     "duration": 0.009924,
     "end_time": "2022-07-15T17:07:15.625312",
     "exception": false,
     "start_time": "2022-07-15T17:07:15.615388",
     "status": "completed"
    },
    "tags": []
   },
   "outputs": [],
   "source": []
  },
  {
   "cell_type": "markdown",
   "id": "6b7d49cf",
   "metadata": {
    "papermill": {
     "duration": 0.009909,
     "end_time": "2022-07-15T17:07:15.645408",
     "exception": false,
     "start_time": "2022-07-15T17:07:15.635499",
     "status": "completed"
    },
    "tags": []
   },
   "source": [
    "## Step execution\n",
    "\n",
    "This Step import all `fastq` files in a **QIIME2 Artifact** object and save it to a new `qza` file of `SampleData[PairedEndSequencesWithQuality]`"
   ]
  },
  {
   "cell_type": "code",
   "execution_count": 7,
   "id": "1bf2687e",
   "metadata": {
    "ExecuteTime": {
     "end_time": "2022-06-28T19:44:58.640338Z",
     "start_time": "2022-06-28T18:50:41.633657Z"
    },
    "execution": {
     "iopub.execute_input": "2022-07-15T17:07:15.666503Z",
     "iopub.status.busy": "2022-07-15T17:07:15.666194Z",
     "iopub.status.idle": "2022-07-15T17:18:16.846229Z",
     "shell.execute_reply": "2022-07-15T17:18:16.845413Z"
    },
    "papermill": {
     "duration": 661.194138,
     "end_time": "2022-07-15T17:18:16.849376",
     "exception": false,
     "start_time": "2022-07-15T17:07:15.655238",
     "status": "completed"
    },
    "tags": []
   },
   "outputs": [],
   "source": [
    "# If the demux file does not exist or if the old file will be replaced\n",
    "if not os.path.isfile(demux_file) or replace_files:\n",
    "    \n",
    "    # Import data and create an artifact object\n",
    "    artifact = Artifact.import_data(\n",
    "        'SampleData[PairedEndSequencesWithQuality]', \n",
    "        manifest_file, \n",
    "        view_type='PairedEndFastqManifestPhred33')\n",
    "    \n",
    "    # Save the artifact object to a new qza file\n",
    "    artifact.save(demux_file)\n",
    "\n",
    "else:\n",
    "    artifact = Artifact.load(demux_file)"
   ]
  },
  {
   "cell_type": "code",
   "execution_count": 8,
   "id": "0a9a1723",
   "metadata": {
    "ExecuteTime": {
     "end_time": "2022-06-28T19:47:56.602855Z",
     "start_time": "2022-06-28T19:44:58.642520Z"
    },
    "execution": {
     "iopub.execute_input": "2022-07-15T17:18:16.876899Z",
     "iopub.status.busy": "2022-07-15T17:18:16.876689Z",
     "iopub.status.idle": "2022-07-15T17:18:54.681729Z",
     "shell.execute_reply": "2022-07-15T17:18:54.681020Z"
    },
    "papermill": {
     "duration": 37.818661,
     "end_time": "2022-07-15T17:18:54.684822",
     "exception": false,
     "start_time": "2022-07-15T17:18:16.866161",
     "status": "completed"
    },
    "tags": []
   },
   "outputs": [],
   "source": [
    "if not os.path.isfile(demux_view) or replace_files: \n",
    "    # Generate e visualization of the Artifact\n",
    "    demux_summary = demux.visualizers.summarize(artifact)\n",
    "\n",
    "    # Save a new visualization file based on the qza file\n",
    "    Visualization.save(demux_summary.visualization, filepath=demux_view)\n",
    "    \n",
    "    demux_view_obj = demux_summary.visualization\n",
    "else:\n",
    "    demux_view_obj = Visualization.load(demux_view)"
   ]
  },
  {
   "cell_type": "markdown",
   "id": "40dea73a",
   "metadata": {
    "papermill": {
     "duration": 0.009652,
     "end_time": "2022-07-15T17:18:54.711647",
     "exception": false,
     "start_time": "2022-07-15T17:18:54.701995",
     "status": "completed"
    },
    "tags": []
   },
   "source": [
    "## Step report\n"
   ]
  },
  {
   "cell_type": "code",
   "execution_count": 9,
   "id": "356712fd",
   "metadata": {
    "ExecuteTime": {
     "end_time": "2022-06-28T19:47:56.609737Z",
     "start_time": "2022-06-28T19:47:56.604820Z"
    },
    "execution": {
     "iopub.execute_input": "2022-07-15T17:18:54.758252Z",
     "iopub.status.busy": "2022-07-15T17:18:54.757997Z",
     "iopub.status.idle": "2022-07-15T17:18:54.763517Z",
     "shell.execute_reply": "2022-07-15T17:18:54.762672Z"
    },
    "papermill": {
     "duration": 0.018111,
     "end_time": "2022-07-15T17:18:54.765133",
     "exception": false,
     "start_time": "2022-07-15T17:18:54.747022",
     "status": "completed"
    },
    "tags": []
   },
   "outputs": [
    {
     "name": "stdout",
     "output_type": "stream",
     "text": [
      "<visualization: Visualization uuid: 958b85fb-992e-4314-9db2-588d74d24ae9>\n"
     ]
    }
   ],
   "source": [
    "print(demux_view_obj)"
   ]
  },
  {
   "cell_type": "code",
   "execution_count": 10,
   "id": "1557f527",
   "metadata": {
    "ExecuteTime": {
     "end_time": "2022-06-28T19:47:56.704841Z",
     "start_time": "2022-06-28T19:47:56.611846Z"
    },
    "execution": {
     "iopub.execute_input": "2022-07-15T17:18:54.807285Z",
     "iopub.status.busy": "2022-07-15T17:18:54.806967Z",
     "iopub.status.idle": "2022-07-15T17:18:54.818491Z",
     "shell.execute_reply": "2022-07-15T17:18:54.817908Z"
    },
    "papermill": {
     "duration": 0.043958,
     "end_time": "2022-07-15T17:18:54.820265",
     "exception": false,
     "start_time": "2022-07-15T17:18:54.776307",
     "status": "completed"
    },
    "tags": []
   },
   "outputs": [
    {
     "data": {
      "text/html": [
       "<div><img onload=\"(function(div, url){\n",
       "if (typeof require !== 'undefined') {\n",
       "    var baseURL = require.toUrl('').split('/').slice(0, -2).join('/');\n",
       "} else {\n",
       "    var baseURL = JSON.parse(\n",
       "        document.getElementById('jupyter-config-data').innerHTML\n",
       "    ).baseUrl.slice(0, -1);\n",
       "}\n",
       "url = baseURL + url;\n",
       "fetch(url).then(function(res) {\n",
       "    if (res.status === 404) {\n",
       "        div.innerHTML = 'Install QIIME 2 Jupyter extension with:<br />' +\n",
       "                        '<code>jupyter serverextension enable --py qiime2' +\n",
       "                        ' --sys-prefix</code><br />then restart your server.' +\n",
       "                        '<br /><br />(Interactive output not available on ' +\n",
       "                        'static notebook viewer services like nbviewer.)';\n",
       "    } else if (res.status === 409) {\n",
       "        div.innerHTML = 'Visualization no longer in scope. Re-run this cell' +\n",
       "                        ' to see the visualization.';\n",
       "    } else if (res.ok) {\n",
       "        url = res.url;\n",
       "        div.innerHTML = '<iframe src=\\'' + url + '\\' style=\\'' +\n",
       "                        'width: 100%; height: 700px; border: 0;\\'>' +\n",
       "                        '</iframe><hr />Open in a: <a href=\\'' + url + '\\'' +\n",
       "                        ' target=\\'_blank\\'>new window</a>'\n",
       "    } else {\n",
       "        div.innerHTML = 'Something has gone wrong. Check notebook server for' +\n",
       "                        ' errors.';\n",
       "    }\n",
       "});\n",
       "})(this.parentElement, '/qiime2/redirect?location=/tmp/qiime2-archive-ylgu4kxb')\" src=\"data:image/gif;base64,R0lGODlhAQABAIAAAP///wAAACH5BAEAAAAALAAAAAABAAEAAAICRAEAOw==\" /></div>"
      ],
      "text/plain": [
       "<visualization: Visualization uuid: 958b85fb-992e-4314-9db2-588d74d24ae9>"
      ]
     },
     "execution_count": 10,
     "metadata": {},
     "output_type": "execute_result"
    }
   ],
   "source": [
    "# Render Visualization\n",
    "demux_view_obj"
   ]
  }
 ],
 "metadata": {
  "celltoolbar": "Edit Metadata",
  "kernelspec": {
   "display_name": "Python 3 (ipykernel)",
   "language": "python",
   "name": "python3"
  },
  "language_info": {
   "codemirror_mode": {
    "name": "ipython",
    "version": 3
   },
   "file_extension": ".py",
   "mimetype": "text/x-python",
   "name": "python",
   "nbconvert_exporter": "python",
   "pygments_lexer": "ipython3",
   "version": "3.8.12"
  },
  "papermill": {
   "default_parameters": {},
   "duration": 708.369287,
   "end_time": "2022-07-15T17:18:55.757006",
   "environment_variables": {},
   "exception": null,
   "input_path": "step-01-prepare-data.ipynb",
   "output_path": "../step-01-prepare-data.ipynb",
   "parameters": {
    "base_dir": "/home/lauro/nupeb/rede-micro/redemicro-miliane-nutri",
    "class_col": "group-id",
    "classifier_file": "/home/lauro/nupeb/dados_brutos_rede_genoma/16S_classifiers_qiime2/silva-138-99-nb-classifier.qza",
    "experiment_name": "miliane-CxAC",
    "manifest_file": "/home/lauro/nupeb/rede-micro/redemicro-miliane-nutri/data/raw/manifest/miliane-manifest-CxAC.csv",
    "metadata_file": "/home/lauro/nupeb/rede-micro/redemicro-miliane-nutri/data/raw/metadata/miliane-metadata-CxAC.tsv",
    "overlap": 12,
    "phred": 20,
    "replace_files": false,
    "threads": 6,
    "trunc_f": 0,
    "trunc_r": 0
   },
   "start_time": "2022-07-15T17:07:07.387719",
   "version": "2.3.4"
  },
  "toc-autonumbering": false,
  "toc-showcode": false,
  "toc-showmarkdowntxt": false
 },
 "nbformat": 4,
 "nbformat_minor": 5
}